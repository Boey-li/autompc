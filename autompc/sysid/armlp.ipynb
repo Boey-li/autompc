{
 "cells": [
  {
   "cell_type": "code",
   "execution_count": 3,
   "metadata": {},
   "outputs": [
    {
     "name": "stdout",
     "output_type": "stream",
     "text": [
      "[[1. 0. 0. 0. 0. 0. 0.]\n",
      " [1. 0. 0. 0. 0. 0. 0.]\n",
      " [0. 0. 0. 0. 0. 0. 0.]\n",
      " [0. 1. 0. 0. 0. 0. 0.]\n",
      " [0. 0. 1. 0. 0. 0. 0.]\n",
      " [0. 0. 0. 1. 0. 0. 0.]\n",
      " [0. 0. 0. 0. 1. 0. 0.]] [[0.]\n",
      " [0.]\n",
      " [1.]\n",
      " [0.]\n",
      " [0.]\n",
      " [0.]\n",
      " [0.]]\n"
     ]
    }
   ],
   "source": [
    "import numpy as np\n",
    "k=4\n",
    "obs_dim = 1\n",
    "ctrl_dim = 1\n",
    "state_dim = k*obs_dim + k*ctrl_dim - ctrl_dim\n",
    "\n",
    "# First we construct the system matrices\n",
    "A = np.zeros((state_dim, state_dim))\n",
    "B = np.zeros((state_dim, ctrl_dim))\n",
    "\n",
    "# Constant term\n",
    "# A[-1,-1] = 1\n",
    "# Shift history\n",
    "n = obs_dim\n",
    "l = ctrl_dim\n",
    "m = obs_dim + ctrl_dim\n",
    "\n",
    "if k > 1:\n",
    "    A[0 : n, 0 : n] = np.eye(n)\n",
    "    A[n : 2*n, 0 : n] = np.eye(n)\n",
    "for i in range(k-2):\n",
    "    A[(i+1)*m+n : (i+2)*m+n, i*m+n : (i+1)*m+n] = np.eye(m)\n",
    "\n",
    "# Predict new observation\n",
    "#A[0 : n, :] = coeffs[:, :-l]\n",
    "\n",
    "# Add new control\n",
    "# B[0 : n, :] = coeffs[:, -l:]\n",
    "B[2*n : 2*n + l, :] = np.eye(l)\n",
    "\n",
    "print(A, B)"
   ]
  },
  {
   "cell_type": "code",
   "execution_count": 2,
   "metadata": {},
   "outputs": [
    {
     "name": "stdout",
     "output_type": "stream",
     "text": [
      "Loading AutoMPC...\n",
      "Finished loading AutoMPC\n",
      "use_cuda=True\n",
      "torch.cuda.is_available()=True\n",
      "self._device=device(type='cuda')\n",
      "['x[t]', 'x[t-1]', 'u[t-1]', 'x[t-2]', 'u[t-2]', 'x[t-3]', 'u[t]']\n",
      "['x[t]', 'x[t-1]', 'u[t-1]', 'x[t-2]', 'u[t-2]', 'x[t-3]', 'const', 'u[t]']\n"
     ]
    },
    {
     "ename": "AttributeError",
     "evalue": "'ARX' object has no attribute 'A'",
     "output_type": "error",
     "traceback": [
      "\u001b[0;31m---------------------------------------------------------------------------\u001b[0m",
      "\u001b[0;31mAttributeError\u001b[0m                            Traceback (most recent call last)",
      "\u001b[1;32m/home/dohun/Repos/underwater_robot_autompc/autompc/autompc/sysid/armlp.ipynb Cell 2'\u001b[0m in \u001b[0;36m<cell line: 16>\u001b[0;34m()\u001b[0m\n\u001b[1;32m     <a href='vscode-notebook-cell://ssh-remote%2Biml/home/dohun/Repos/underwater_robot_autompc/autompc/autompc/sysid/armlp.ipynb#ch0000001vscode-remote?line=13'>14</a>\u001b[0m \u001b[39mprint\u001b[39m(model\u001b[39m.\u001b[39mstate_system\u001b[39m.\u001b[39mobservations)\n\u001b[1;32m     <a href='vscode-notebook-cell://ssh-remote%2Biml/home/dohun/Repos/underwater_robot_autompc/autompc/autompc/sysid/armlp.ipynb#ch0000001vscode-remote?line=14'>15</a>\u001b[0m \u001b[39mprint\u001b[39m(ARXmodel\u001b[39m.\u001b[39mstate_system\u001b[39m.\u001b[39mobservations)\n\u001b[0;32m---> <a href='vscode-notebook-cell://ssh-remote%2Biml/home/dohun/Repos/underwater_robot_autompc/autompc/autompc/sysid/armlp.ipynb#ch0000001vscode-remote?line=15'>16</a>\u001b[0m \u001b[39mprint\u001b[39m(ARXmodel\u001b[39m.\u001b[39;49mA)\n",
      "\u001b[0;31mAttributeError\u001b[0m: 'ARX' object has no attribute 'A'"
     ]
    }
   ],
   "source": [
    "import autompc\n",
    "import importlib\n",
    "importlib.reload(autompc)\n",
    "from autompc.sysid.mlp import ARMLP\n",
    "from autompc.sysid import ARX\n",
    "observations = ['current_exp0','current_exp1','current_exp2','current_exp3','current_exp4','current_exp5','current_exp6','current_exp7','current_exp8','current_exp9','pos_exp0','pos_exp1','pos_exp2','pos_exp3','pos_exp4']\n",
    "controls = ['duty_exp0','duty_exp1','duty_exp2','duty_exp3','duty_exp4','duty_exp5','duty_exp6','duty_exp7','duty_exp8','duty_exp9']\n",
    "observations = ['x']\n",
    "controls = ['u']\n",
    "system = autompc.System(observations, controls, dt=0.02)\n",
    "\n",
    "model = ARMLP(system, history=4)\n",
    "ARXmodel = ARX(system)\n",
    "print(model.state_system.observations)\n",
    "print(ARXmodel.state_system.observations)\n",
    "print(ARXmodel.A)\n",
    "\n",
    "# 1 0 0 0 0 0 0\n",
    "# 1 0 0 0 0 0 0\n",
    "# 0 0 0 0 0 0 1\n",
    "# 0 1 0 0 0 0 0\n",
    "# 0 0 1 0 0 0 0\n",
    "# 0 0 0 1 0 0 0\n",
    "# 0 0 0 0 0 0 0 k\n"
   ]
  },
  {
   "cell_type": "code",
   "execution_count": null,
   "metadata": {},
   "outputs": [],
   "source": [
    "observations = ['current_exp0','current_exp1','current_exp2','current_exp3','current_exp4','current_exp5','current_exp6','current_exp7','current_exp8','current_exp9','pos_exp0','pos_exp1','pos_exp2','pos_exp3','pos_exp4']\n",
    "controls = ['duty_exp0','duty_exp1','duty_exp2','duty_exp3','duty_exp4','duty_exp5','duty_exp6','duty_exp7','duty_exp8','duty_exp9']\n",
    "system = ampc.System(observations, controls, dt=0.05)\n",
    "\n",
    "for csv in glob('/home/dohun/Repos/spine_robot_autompc/data/real_data/*.csv'):\n",
    "    \n",
    "    traj = data_utils.csv_to_traj(system, csv)\n",
    "    if csv.split('/')[-1][:-4] == 'freq1_duty123_shift3':\n",
    "        # Cut at 6s and 11s for duty123shift3\n",
    "        start = 0\n",
    "        for cut in [6, 11]:\n",
    "            end = np.searchsorted(traj.times, cut)\n",
    "            trajs.append(traj[start:end])\n",
    "            start = end\n",
    "        trajs.append(traj[start:])\n",
    "    elif csv.split('/')[-1][:-4] == 'freq2_duty123_shift123':\n",
    "        # Cut at 8s, 12s, 15s, 25s, 28s, 32s, 38s, 43s\n",
    "        start = 0\n",
    "        for cut in [8, 12, 15, 25, 28, 32, 38, 43]:\n",
    "            end = np.searchsorted(traj.times, cut)\n",
    "            trajs.append(traj[start:end])\n",
    "            start = end\n",
    "        trajs.append(traj[start:])\n",
    "    else:\n",
    "        trajs.append(traj)\n",
    "for traj in trajs:\n",
    "    print(len(traj))\n",
    "\n",
    "from autompc.sysid.mlp import ARMLP\n",
    "model = ARMLP(system, history=3)\n",
    "tuner = ModelTuner(system,trajs,model,verbose=1)\n",
    "surrogate,tune_result = tuner.run(n_iters=100, eval_timeout=500)\n",
    "\n",
    "print(\"Selected model:\",surrogate.name)\n",
    "print(\"Final cross-validated RMSE score:\",tune_result.inc_costs[-1])"
   ]
  }
 ],
 "metadata": {
  "kernelspec": {
   "display_name": "Python 3",
   "language": "python",
   "name": "python3"
  },
  "language_info": {
   "codemirror_mode": {
    "name": "ipython",
    "version": 3
   },
   "file_extension": ".py",
   "mimetype": "text/x-python",
   "name": "python",
   "nbconvert_exporter": "python",
   "pygments_lexer": "ipython3",
   "version": "3.9.12"
  },
  "orig_nbformat": 4
 },
 "nbformat": 4,
 "nbformat_minor": 2
}
