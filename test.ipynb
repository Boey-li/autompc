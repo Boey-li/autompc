{
 "cells": [
  {
   "cell_type": "code",
   "execution_count": null,
   "metadata": {},
   "outputs": [],
   "source": [
    "import autompc as ampc\n",
    "\n",
    "from autompc.benchmarks import CartpoleSwingupBenchmark\n",
    "\n",
    "benchmark = CartpoleSwingupBenchmark()\n",
    "\n",
    "system = benchmark.system\n",
    "trajs = benchmark.gen_trajs(seed=100, n_trajs=200, traj_len=100)\n",
    "\n",
    "from autompc.sysid import MLPDAD\n",
    "modeldad = MLPDAD(system, n_hidden_layers=1, hidden_size_1=32, n_train_iters=30,\n",
    "               nonlintype=\"relu\", n_dad_iters=0)\n",
    "\n",
    "modeldad.train(trajs)"
   ]
  },
  {
   "cell_type": "code",
   "execution_count": null,
   "metadata": {},
   "outputs": [],
   "source": [
    "import matplotlib.pyplot as plt\n",
    "from autompc.graphs.kstep_graph import KstepPredAccGraph\n",
    "\n",
    "graph = KstepPredAccGraph(system, trajs, kmax=20, metric=\"rmse\")\n",
    "graph.add_model(modeldad, \"DaD MLP\")\n",
    "graph.add_model(modeldad, \"DaD2 MLP\")\n",
    "\n",
    "fig = plt.figure()\n",
    "ax = fig.gca()\n",
    "graph(fig, ax)\n",
    "ax.set_title(\"Comparison of MLP models\")\n",
    "plt.show()"
   ]
  },
  {
   "cell_type": "code",
   "execution_count": 6,
   "metadata": {},
   "outputs": [
    {
     "name": "stdout",
     "output_type": "stream",
     "text": [
      "0\n",
      "1\n",
      "4\n",
      "4\n",
      "[0 1 2 3]\n",
      "[1 1 2 3]\n",
      "[1 1 2 3]\n",
      "[1 1 2 3]\n",
      "[1 1 2 3]\n",
      "[5 5 5 5]\n",
      "[6.78154300e+04 1.04825320e+11 8.46481555e+14 2.97434418e+23\n",
      " 1.12556072e+27 1.67696437e+27]\n"
     ]
    }
   ],
   "source": [
    "import numpy as np\n",
    "import copy\n",
    "\n",
    "def test(a):\n",
    "    print(a)\n",
    "    a = 2\n",
    "\n",
    "def test2(a):\n",
    "    print(a)\n",
    "    a[0] = 1\n",
    "\n",
    "for i in range(2):\n",
    "    print(i)\n",
    "\n",
    "b = 4\n",
    "test(b)\n",
    "print(b)\n",
    "\n",
    "e = np.array([5,5,5,5])\n",
    "\n",
    "c = np.array([0,1,2,3])\n",
    "test2(c)\n",
    "print(c)\n",
    "\n",
    "#best = copy.deepcopy(c)\n",
    "best = c\n",
    "print(best)\n",
    "print(c)\n",
    "c = e\n",
    "print(best)\n",
    "print(c)\n",
    "\n",
    "data = np.load('dadIter_2.npz')\n",
    "print(data['loss'])"
   ]
  },
  {
   "cell_type": "code",
   "execution_count": null,
   "metadata": {},
   "outputs": [],
   "source": [
    "# from autompc.sysid import MLPDAD\n",
    "# modeldad = MLPDAD(system, n_hidden_layers=1, hidden_size_1=32, n_train_iters=2,\n",
    "#                nonlintype=\"relu\", n_dad_iters=5)\n",
    "\n",
    "# modeldad.train(trajs)"
   ]
  }
 ],
 "metadata": {
  "interpreter": {
   "hash": "916dbcbb3f70747c44a77c7bcd40155683ae19c65e1c03b4aa3499c5328201f1"
  },
  "kernelspec": {
   "display_name": "Python 3.8.10 64-bit",
   "name": "python3"
  },
  "language_info": {
   "codemirror_mode": {
    "name": "ipython",
    "version": 3
   },
   "file_extension": ".py",
   "mimetype": "text/x-python",
   "name": "python",
   "nbconvert_exporter": "python",
   "pygments_lexer": "ipython3",
   "version": "3.8.10"
  },
  "orig_nbformat": 4
 },
 "nbformat": 4,
 "nbformat_minor": 2
}
