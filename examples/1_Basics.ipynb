{
 "cells": [
  {
   "cell_type": "markdown",
   "metadata": {},
   "source": [
    "# Example 1: Basics"
   ]
  },
  {
   "cell_type": "markdown",
   "metadata": {},
   "source": [
    "Begin by importing AutoMPC."
   ]
  },
  {
   "cell_type": "code",
   "execution_count": 1,
   "metadata": {},
   "outputs": [
    {
     "name": "stdout",
     "output_type": "stream",
     "text": [
      "Loading AutoMPC...\n",
      "Finished loading AutoMPC\n"
     ]
    }
   ],
   "source": [
    "import autompc as ampc\n",
    "import numpy as np"
   ]
  },
  {
   "cell_type": "markdown",
   "metadata": {},
   "source": [
    "## Systems\n",
    "Let's begin by showing how to define a System.  In AutoMPC, a System defines the variables of control and observation for a particular robot.  Here we define `simple_sys` which has to observation variables (x and y) and one control variable (u).  Optionally, the system can also include the time step at which is data is sampled for the system.  Here we define the time step as 0.05 s."
   ]
  },
  {
   "cell_type": "code",
   "execution_count": 2,
   "metadata": {},
   "outputs": [],
   "source": [
    "simple_sys = ampc.System([\"x\", \"y\"], [\"u\"], dt=0.05)"
   ]
  },
  {
   "cell_type": "markdown",
   "metadata": {},
   "source": [
    "Given a system, we can access its properties as follows"
   ]
  },
  {
   "cell_type": "code",
   "execution_count": 3,
   "metadata": {},
   "outputs": [
    {
     "name": "stdout",
     "output_type": "stream",
     "text": [
      "Observation Dimension:  2\n",
      "Observation Variables:  ['x', 'y']\n",
      "Control Dimension:  1\n",
      "Control Variables:  ['u']\n"
     ]
    }
   ],
   "source": [
    "print(\"Observation Dimension: \", simple_sys.obs_dim)\n",
    "print(\"Observation Variables: \", simple_sys.observations)\n",
    "\n",
    "print(\"Control Dimension: \", simple_sys.ctrl_dim)\n",
    "print(\"Control Variables: \", simple_sys.controls)"
   ]
  },
  {
   "cell_type": "markdown",
   "metadata": {},
   "source": [
    "## Trajectories\n",
    "The Trajectory class stores a sequence of controls and observations.  Trajectories are defined with respect to a particular system.\n",
    "\n",
    "Here we define a zero trajectory for `simple_sys` with 10 time steps."
   ]
  },
  {
   "cell_type": "code",
   "execution_count": 4,
   "metadata": {},
   "outputs": [],
   "source": [
    "traj = ampc.Trajectory.zeros(simple_sys, 10)"
   ]
  },
  {
   "cell_type": "markdown",
   "metadata": {},
   "source": [
    "There are a couple different ways to set trajectory values.  We demonstrate a few below:"
   ]
  },
  {
   "cell_type": "code",
   "execution_count": 5,
   "metadata": {},
   "outputs": [],
   "source": [
    "traj[0, \"x\"] = 1.0  # Set x to 1 at timestep 0\n",
    "traj[1, \"u\"] = 2.0  # Set u to 2 at timestep 1\n",
    "traj[2].obs[:] = np.array([3.0, 4.0])  # Set the observation (x and y) to [3,4] at timestep 2\n",
    "traj[3].ctrl[:] = np.array([5.0])      # Set the control (u) to [5] at timestep 3"
   ]
  },
  {
   "cell_type": "markdown",
   "metadata": {},
   "source": [
    "Similarly, there are a number of reading trajectory values."
   ]
  },
  {
   "cell_type": "code",
   "execution_count": 6,
   "metadata": {},
   "outputs": [
    {
     "name": "stdout",
     "output_type": "stream",
     "text": [
      "Length of trajectory:  10\n",
      "Value of y at timestep 2:  4.0\n",
      "Observation at timestep 0:  [1. 0.]\n",
      "Control at timestep 1:  [2.]\n"
     ]
    }
   ],
   "source": [
    "print(\"Length of trajectory: \",len(traj))\n",
    "print(\"Value of y at timestep 2: \", traj[2, \"y\"])\n",
    "print(\"Observation at timestep 0: \", traj[0].obs)\n",
    "print(\"Control at timestep 1: \", traj[1].ctrl)"
   ]
  },
  {
   "cell_type": "markdown",
   "metadata": {},
   "source": [
    "We can also access the entire set of observations and controls for a trajectory as numpy arrays:"
   ]
  },
  {
   "cell_type": "code",
   "execution_count": 7,
   "metadata": {},
   "outputs": [
    {
     "name": "stdout",
     "output_type": "stream",
     "text": [
      "Observations\n",
      "------------\n",
      "[[1. 0.]\n",
      " [0. 0.]\n",
      " [3. 4.]\n",
      " [0. 0.]\n",
      " [0. 0.]\n",
      " [0. 0.]\n",
      " [0. 0.]\n",
      " [0. 0.]\n",
      " [0. 0.]\n",
      " [0. 0.]]\n",
      "\n",
      "Controls\n",
      "--------\n",
      "[[0.]\n",
      " [2.]\n",
      " [0.]\n",
      " [5.]\n",
      " [0.]\n",
      " [0.]\n",
      " [0.]\n",
      " [0.]\n",
      " [0.]\n",
      " [0.]]\n"
     ]
    }
   ],
   "source": [
    "print(\"Observations\")\n",
    "print(\"------------\")\n",
    "print(traj.obs)\n",
    "\n",
    "print(\"\")\n",
    "print(\"Controls\")\n",
    "print(\"--------\")\n",
    "print(traj.ctrls)"
   ]
  },
  {
   "cell_type": "markdown",
   "metadata": {},
   "source": [
    "## Plotting trajectories\n",
    "\n",
    "We have a couple of convenience functions for plotting trajectories in the `autompc.graphs` module.  `plot_traj` plots a single trajectory on a time axis.  `plot_traj_projected` plots the projection of 2 of the trajectory's observations on the X-Y plane."
   ]
  },
  {
   "cell_type": "code",
   "execution_count": 8,
   "metadata": {},
   "outputs": [
    {
     "name": "stderr",
     "output_type": "stream",
     "text": [
      "/usr/local/lib/python3.7/dist-packages/pkg_resources/__init__.py:119: PkgResourcesDeprecationWarning: 0.14ubuntu0.2 is an invalid version and will not be supported in a future release\n",
      "  PkgResourcesDeprecationWarning,\n"
     ]
    },
    {
     "data": {
      "image/png": "[encoded data removed]",
      "text/plain": [
       "<Figure size 432x288 with 1 Axes>"
      ]
     },
     "metadata": {
      "needs_background": "light"
     },
     "output_type": "display_data"
    }
   ],
   "source": [
    "%matplotlib inline\n",
    "from autompc.graphs import plot_traj,plot_traj_projected\n",
    "import matplotlib.pyplot as plt\n",
    "\n",
    "plot_traj(traj)\n",
    "plt.show()"
   ]
  },
  {
   "cell_type": "code",
   "execution_count": 9,
   "metadata": {},
   "outputs": [
    {
     "data": {
      "image/png": "[encoded data removed]",
      "text/plain": [
       "<Figure size 432x288 with 1 Axes>"
      ]
     },
     "metadata": {
      "needs_background": "light"
     },
     "output_type": "display_data"
    }
   ],
   "source": [
    "plot_traj_projected(traj, dimensions=[0,1])\n",
    "plt.show()"
   ]
  },
  {
   "cell_type": "code",
   "execution_count": null,
   "metadata": {},
   "outputs": [],
   "source": []
  }
 ],
 "metadata": {
  "kernelspec": {
   "display_name": "Python 3",
   "language": "python",
   "name": "python3"
  },
  "language_info": {
   "codemirror_mode": {
    "name": "ipython",
    "version": 3
   },
   "file_extension": ".py",
   "mimetype": "text/x-python",
   "name": "python",
   "nbconvert_exporter": "python",
   "pygments_lexer": "ipython3",
   "version": "3.7.10"
  },
  "latex_envs": {
   "LaTeX_envs_menu_present": true,
   "autoclose": false,
   "autocomplete": false,
   "bibliofile": "biblio.bib",
   "cite_by": "apalike",
   "current_citInitial": 1,
   "eqLabelWithNumbers": true,
   "eqNumInitial": 1,
   "hotkeys": {
    "equation": "Ctrl-E",
    "itemize": "Ctrl-I"
   },
   "labels_anchors": false,
   "latex_user_defs": false,
   "report_style_numbering": false,
   "user_envs_cfg": false
  },
  "toc": {
   "base_numbering": 1,
   "nav_menu": {},
   "number_sections": true,
   "sideBar": true,
   "skip_h1_title": false,
   "title_cell": "Table of Contents",
   "title_sidebar": "Contents",
   "toc_cell": false,
   "toc_position": {},
   "toc_section_display": true,
   "toc_window_display": false
  }
 },
 "nbformat": 4,
 "nbformat_minor": 4
}
