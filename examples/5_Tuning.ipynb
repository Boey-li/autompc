{
 "cells": [
  {
   "cell_type": "markdown",
   "metadata": {},
   "source": [
    "# AutoMPC Demo\n",
    "\n",
    "Welcome!  This notebook demonstrates the core features of AutoMPC.  We will use the Cart-Pole swing-up task as an example, and we will tune an MPC pipeline consisting of a multi-layer perception (MLP) system ID model and an iLQR optimizer."
   ]
  },
  {
   "cell_type": "markdown",
   "metadata": {},
   "source": [
    "## Set-Up\n",
    "\n",
    "To begin, we need an input dataset and specifications for the system and task.  The `benchmarks` module provides these for a few example systems."
   ]
  },
  {
   "cell_type": "code",
   "execution_count": 1,
   "metadata": {},
   "outputs": [
    {
     "name": "stdout",
     "output_type": "stream",
     "text": [
      "Loading AutoMPC...\n",
      "Cannot import SnoptWrapper\n",
      "Cannot import KnitroSolver, make sure its Python interface is installed\n",
      "Finished loading AutoMPC\n",
      "running build_ext\n"
     ]
    }
   ],
   "source": [
    "import autompc as ampc\n",
    "import numpy as np\n",
    "from autompc.benchmarks import CartpoleSwingupBenchmark\n",
    "\n",
    "benchmark = CartpoleSwingupBenchmark()\n",
    "\n",
    "\n",
    "# Get system and task specification\n",
    "system = benchmark.system\n",
    "task   = benchmark.task\n",
    "\n",
    "# Generate benchmark dataset\n",
    "trajs = benchmark.gen_trajs(seed=100, n_trajs=500, traj_len=200)"
   ]
  },
  {
   "cell_type": "markdown",
   "metadata": {},
   "source": [
    "Next, we need to declare our MPC pipeline.  The following code initializes a pipeline with a MLP system ID model, a quadratic objective function, and and an iLQR optimizer."
   ]
  },
  {
   "cell_type": "code",
   "execution_count": 2,
   "metadata": {},
   "outputs": [],
   "source": [
    "from autompc.sysid import MLPFactory\n",
    "from autompc.control import IterativeLQRFactory\n",
    "from autompc.costs import QuadCostFactory\n",
    "\n",
    "model_factory = MLPFactory(system)\n",
    "ctrlr_factory = IterativeLQRFactory(system)\n",
    "cost_factory  = QuadCostFactory(system)\n",
    "\n",
    "pipeline = ampc.Pipeline(system, model_factory, ctrlr_factory, cost_factory)"
   ]
  },
  {
   "cell_type": "markdown",
   "metadata": {},
   "source": [
    "We can view the joint configuration space of the pipeline"
   ]
  },
  {
   "cell_type": "code",
   "execution_count": 3,
   "metadata": {},
   "outputs": [
    {
     "data": {
      "text/plain": [
       "Configuration space object:\n",
       "  Hyperparameters:\n",
       "    _cost:dx_F, Type: UniformFloat, Range: [0.001, 10000.0], Default: 1.0, on log-scale\n",
       "    _cost:dx_Q, Type: UniformFloat, Range: [0.001, 10000.0], Default: 1.0, on log-scale\n",
       "    _cost:omega_F, Type: UniformFloat, Range: [0.001, 10000.0], Default: 1.0, on log-scale\n",
       "    _cost:omega_Q, Type: UniformFloat, Range: [0.001, 10000.0], Default: 1.0, on log-scale\n",
       "    _cost:theta_F, Type: UniformFloat, Range: [0.001, 10000.0], Default: 1.0, on log-scale\n",
       "    _cost:theta_Q, Type: UniformFloat, Range: [0.001, 10000.0], Default: 1.0, on log-scale\n",
       "    _cost:u_R, Type: UniformFloat, Range: [0.001, 10000.0], Default: 1.0, on log-scale\n",
       "    _cost:x_F, Type: UniformFloat, Range: [0.001, 10000.0], Default: 1.0, on log-scale\n",
       "    _cost:x_Q, Type: UniformFloat, Range: [0.001, 10000.0], Default: 1.0, on log-scale\n",
       "    _ctrlr:horizon, Type: UniformInteger, Range: [5, 25], Default: 20\n",
       "    _model:hidden_size_1, Type: UniformInteger, Range: [16, 256], Default: 128\n",
       "    _model:hidden_size_2, Type: UniformInteger, Range: [16, 256], Default: 128\n",
       "    _model:hidden_size_3, Type: UniformInteger, Range: [16, 256], Default: 128\n",
       "    _model:hidden_size_4, Type: UniformInteger, Range: [16, 256], Default: 128\n",
       "    _model:lr, Type: UniformFloat, Range: [1e-05, 1.0], Default: 0.001, on log-scale\n",
       "    _model:n_hidden_layers, Type: Categorical, Choices: {1, 2, 3, 4}, Default: 2\n",
       "    _model:nonlintype, Type: Categorical, Choices: {relu, tanh, sigmoid, selu}, Default: relu\n",
       "  Conditions:\n",
       "    _model:hidden_size_2 | _model:n_hidden_layers in {'2', '3', '4'}\n",
       "    _model:hidden_size_3 | _model:n_hidden_layers in {'3', '4'}\n",
       "    _model:hidden_size_4 | _model:n_hidden_layers in {'4'}"
      ]
     },
     "execution_count": 3,
     "metadata": {},
     "output_type": "execute_result"
    }
   ],
   "source": [
    "pipeline.get_configuration_space()"
   ]
  },
  {
   "cell_type": "markdown",
   "metadata": {},
   "source": [
    "## Tuning"
   ]
  },
  {
   "cell_type": "markdown",
   "metadata": {},
   "source": [
    "Tune with selected surrogate model class, default model configuration."
   ]
  },
  {
   "cell_type": "code",
   "execution_count": 4,
   "metadata": {},
   "outputs": [
    {
     "name": "stderr",
     "output_type": "stream",
     "text": [
      "/usr/lib/python3/dist-packages/pyparsing.py:1745: FutureWarning: Possible set intersection at position 3\n",
      "  self.re = re.compile( self.reString )\n",
      "/home/william/.local/lib/python3.8/site-packages/numpy/core/_asarray.py:83: VisibleDeprecationWarning: Creating an ndarray from ragged nested sequences (which is a list-or-tuple of lists-or-tuples-or ndarrays with different lengths or shapes) is deprecated. If you meant to do this, you must specify 'dtype=object' when creating the ndarray\n",
      "  return array(a, dtype, copy=False, order=order)\n"
     ]
    },
    {
     "name": "stdout",
     "output_type": "stream",
     "text": [
      "use_cuda=True\n",
      "MLP Using Cuda\n",
      "hidden_sizes= [128, 128]\n",
      "100%|██████████| 50/50 [01:23<00:00,  1.67s/it]"
     ]
    },
    {
     "name": "stderr",
     "output_type": "stream",
     "text": [
      "INFO:smac.utils.io.cmd_reader.CMDReader:Output to smac3-output_2021-05-29_19:41:20_790610\n",
      "INFO:smac.facade.smac_hpo_facade.SMAC4HPO:Optimizing a deterministic scenario for quality without a tuner timeout - will make SMAC deterministic and only evaluate one configuration per iteration!\n",
      "INFO:smac.initial_design.sobol_design.SobolDesign:Running initial design for 25 configurations\n",
      "INFO:smac.facade.smac_hpo_facade.SMAC4HPO:<class 'smac.facade.smac_hpo_facade.SMAC4HPO'>\n",
      "INFO:smac.optimizer.smbo.SMBO:Running initial design\n",
      "INFO:smac.intensification.intensification.Intensifier:First run, no incumbent provided; challenger is assumed to be the incumbent\n"
     ]
    },
    {
     "name": "stdout",
     "output_type": "stream",
     "text": [
      "\n",
      "use_cuda=True\n",
      "MLP Using Cuda\n",
      "hidden_sizes= [136, 136, 136]\n",
      "100%|██████████| 50/50 [01:40<00:00,  2.00s/it]\n",
      "Simulating Surrogate Trajectory: \n",
      " 99%|█████████▉| 198/200 [00:11<00:00, 16.55it/s]"
     ]
    },
    {
     "name": "stderr",
     "output_type": "stream",
     "text": [
      "INFO:smac.intensification.intensification.Intensifier:First run, no incumbent provided; challenger is assumed to be the incumbent\n",
      "INFO:smac.intensification.intensification.Intensifier:Updated estimated cost of incumbent on 1 runs: 200.0000\n"
     ]
    },
    {
     "name": "stdout",
     "output_type": "stream",
     "text": [
      "\n",
      "Surrogate Cost:  200.0\n",
      "Surrogate Final State:  [ 3.14933241e+00 -1.70686022e-03 -2.33875150e-01  7.27841969e-03]\n",
      "use_cuda=True\n",
      "MLP Using Cuda\n",
      "hidden_sizes= [76, 76]\n",
      "100%|██████████| 50/50 [01:22<00:00,  1.64s/it]\n",
      "Simulating Surrogate Trajectory: \n",
      "  4%|▍         | 8/200 [00:00<00:05, 32.92it/s]"
     ]
    },
    {
     "name": "stderr",
     "output_type": "stream",
     "text": [
      "/home/william/proj/autompc_dev/autompc/control/ilqr.py:535: RuntimeWarning: invalid value encountered in double_scalars\n",
      "  if (obj - new_obj) / (-expect_cost_reduction) > ls_cost_threshold:\n"
     ]
    },
    {
     "name": "stdout",
     "output_type": "stream",
     "text": [
      " 99%|█████████▉| 198/200 [00:05<00:00, 33.62it/s]"
     ]
    },
    {
     "name": "stderr",
     "output_type": "stream",
     "text": [
      "INFO:smac.intensification.intensification.Intensifier:Wallclock time limit for intensification reached (used: 200.036886 sec, available: 0.000010 sec)\n"
     ]
    },
    {
     "name": "stdout",
     "output_type": "stream",
     "text": [
      "\n",
      "Surrogate Cost:  200.0\n",
      "Surrogate Final State:  [ 3.15554152 -0.01183288 -2.41204393 -0.47205724]\n",
      "use_cuda=True\n",
      "MLP Using Cuda\n",
      "hidden_sizes= [196, 196, 76, 76]\n",
      "100%|██████████| 50/50 [02:07<00:00,  2.55s/it]\n",
      "Simulating Surrogate Trajectory: \n",
      " 99%|█████████▉| 198/200 [00:42<00:00,  4.67it/s]"
     ]
    },
    {
     "name": "stderr",
     "output_type": "stream",
     "text": [
      "INFO:smac.intensification.intensification.Intensifier:Wallclock time limit for intensification reached (used: 170.135431 sec, available: 0.000010 sec)\n"
     ]
    },
    {
     "name": "stdout",
     "output_type": "stream",
     "text": [
      "\n",
      "Surrogate Cost:  200.0\n",
      "Surrogate Final State:  [ 3.14906289e+00 -1.14868512e-03  6.60187164e-03  6.98054234e-03]\n",
      "use_cuda=True\n",
      "MLP Using Cuda\n",
      "hidden_sizes= [106]\n",
      "100%|██████████| 50/50 [01:03<00:00,  1.26s/it]\n",
      "Simulating Surrogate Trajectory: \n",
      " 99%|█████████▉| 198/200 [00:46<00:00,  4.25it/s]"
     ]
    },
    {
     "name": "stderr",
     "output_type": "stream",
     "text": [
      "INFO:smac.intensification.intensification.Intensifier:Challenger (189.0000) is better than incumbent (200.0000) on 1 runs.\n",
      "INFO:smac.intensification.intensification.Intensifier:Changes in incumbent:\n",
      "INFO:smac.intensification.intensification.Intensifier:  _cost:dx_F : 3.1622776601683813 -> 0.4216965034285823\n",
      "INFO:smac.intensification.intensification.Intensifier:  _cost:dx_Q : 3.1622776601683813 -> 0.4216965034285823\n",
      "INFO:smac.intensification.intensification.Intensifier:  _cost:omega_F : 3.1622776601683813 -> 23.713737056616576\n",
      "INFO:smac.intensification.intensification.Intensifier:  _cost:omega_Q : 3.1622776601683813 -> 0.007498942093324564\n",
      "INFO:smac.intensification.intensification.Intensifier:  _cost:theta_F : 3.1622776601683813 -> 1333.5214321633246\n",
      "INFO:smac.intensification.intensification.Intensifier:  _cost:theta_Q : 3.1622776601683813 -> 1333.5214321633246\n",
      "INFO:smac.intensification.intensification.Intensifier:  _cost:u_R : 3.1622776601683813 -> 0.007498942093324564\n",
      "INFO:smac.intensification.intensification.Intensifier:  _cost:x_F : 3.1622776601683813 -> 23.713737056616576\n",
      "INFO:smac.intensification.intensification.Intensifier:  _cost:x_Q : 3.1622776601683813 -> 0.007498942093324564\n",
      "INFO:smac.intensification.intensification.Intensifier:  _ctrlr:horizon : 15 -> 23\n",
      "INFO:smac.intensification.intensification.Intensifier:  _model:hidden_size_1 : 136 -> 106\n",
      "INFO:smac.intensification.intensification.Intensifier:  _model:lr : 0.003162277660168379 -> 0.013335214321633242\n",
      "INFO:smac.intensification.intensification.Intensifier:  _model:n_hidden_layers : '3' -> '1'\n",
      "INFO:smac.intensification.intensification.Intensifier:  _model:nonlintype : 'sigmoid' -> 'tanh'\n",
      "INFO:smac.intensification.intensification.Intensifier:Wallclock time limit for intensification reached (used: 109.697942 sec, available: 0.000010 sec)\n"
     ]
    },
    {
     "name": "stdout",
     "output_type": "stream",
     "text": [
      "\n",
      "Surrogate Cost:  189.0\n",
      "Surrogate Final State:  [-0.00666512 -0.52544062 -0.06502337 -0.88503012]\n",
      "use_cuda=True\n",
      "MLP Using Cuda\n",
      "hidden_sizes= [226, 46, 166]\n",
      "100%|██████████| 50/50 [01:43<00:00,  2.07s/it]\n",
      "Simulating Surrogate Trajectory: \n",
      " 99%|█████████▉| 198/200 [00:11<00:00, 17.64it/s]"
     ]
    },
    {
     "name": "stderr",
     "output_type": "stream",
     "text": [
      "INFO:smac.intensification.intensification.Intensifier:Wallclock time limit for intensification reached (used: 114.524080 sec, available: 0.000010 sec)\n"
     ]
    },
    {
     "name": "stdout",
     "output_type": "stream",
     "text": [
      "\n",
      "Surrogate Cost:  200.0\n",
      "Surrogate Final State:  [ 3.15040457 -0.00623933  0.07339137  0.0140647 ]\n",
      "use_cuda=True\n",
      "MLP Using Cuda\n",
      "hidden_sizes= [46, 226]\n",
      "100%|██████████| 50/50 [01:23<00:00,  1.67s/it]\n",
      "Simulating Surrogate Trajectory: \n",
      " 99%|█████████▉| 198/200 [00:08<00:00, 23.41it/s]"
     ]
    },
    {
     "name": "stderr",
     "output_type": "stream",
     "text": [
      "INFO:smac.intensification.intensification.Intensifier:Wallclock time limit for intensification reached (used: 92.026344 sec, available: 0.000010 sec)\n"
     ]
    },
    {
     "name": "stdout",
     "output_type": "stream",
     "text": [
      "\n",
      "Surrogate Cost:  200.0\n",
      "Surrogate Final State:  [ 3.14918028 -0.01198638 -0.10616199  0.00470263]\n",
      "use_cuda=True\n",
      "MLP Using Cuda\n",
      "hidden_sizes= [166, 106, 106, 226]\n",
      "100%|██████████| 50/50 [02:08<00:00,  2.56s/it]\n",
      "Simulating Surrogate Trajectory: \n",
      " 99%|█████████▉| 198/200 [00:07<00:00, 26.64it/s]"
     ]
    },
    {
     "name": "stderr",
     "output_type": "stream",
     "text": [
      "INFO:smac.intensification.intensification.Intensifier:Wallclock time limit for intensification reached (used: 135.570068 sec, available: 0.000010 sec)\n"
     ]
    },
    {
     "name": "stdout",
     "output_type": "stream",
     "text": [
      "\n",
      "Surrogate Cost:  200.0\n",
      "Surrogate Final State:  [ 3.15554152 -0.01183288 -2.41204393 -0.47205724]\n",
      "use_cuda=True\n",
      "MLP Using Cuda\n",
      "hidden_sizes= [181, 61, 181]\n",
      "100%|██████████| 50/50 [01:42<00:00,  2.05s/it]\n",
      "Simulating Surrogate Trajectory: \n",
      " 99%|█████████▉| 198/200 [00:06<00:00, 30.56it/s]"
     ]
    },
    {
     "name": "stderr",
     "output_type": "stream",
     "text": [
      "INFO:smac.intensification.intensification.Intensifier:Wallclock time limit for intensification reached (used: 109.080340 sec, available: 0.000010 sec)\n"
     ]
    },
    {
     "name": "stdout",
     "output_type": "stream",
     "text": [
      "\n",
      "Surrogate Cost:  200.0\n",
      "Surrogate Final State:  [ 3.15554152 -0.01183288 -2.41204393 -0.47205723]\n",
      "use_cuda=True\n",
      "MLP Using Cuda\n",
      "hidden_sizes= [61]\n",
      "100%|██████████| 50/50 [01:02<00:00,  1.24s/it]\n",
      "Simulating Surrogate Trajectory: \n",
      " 99%|█████████▉| 198/200 [00:07<00:00, 26.66it/s]"
     ]
    },
    {
     "name": "stderr",
     "output_type": "stream",
     "text": [
      "INFO:smac.intensification.intensification.Intensifier:Wallclock time limit for intensification reached (used: 69.484710 sec, available: 0.000010 sec)\n"
     ]
    },
    {
     "name": "stdout",
     "output_type": "stream",
     "text": [
      "\n",
      "Surrogate Cost:  200.0\n",
      "Surrogate Final State:  [3.15004840e+00 1.39208160e-03 9.37795292e-02 1.27166540e-02]\n",
      "use_cuda=True\n",
      "MLP Using Cuda\n",
      "hidden_sizes= [241, 121, 121, 241]\n",
      "100%|██████████| 50/50 [02:05<00:00,  2.50s/it]\n",
      "Simulating Surrogate Trajectory: \n",
      " 99%|█████████▉| 198/200 [00:10<00:00, 19.04it/s]"
     ]
    },
    {
     "name": "stderr",
     "output_type": "stream",
     "text": [
      "INFO:smac.intensification.intensification.Intensifier:Wallclock time limit for intensification reached (used: 135.449177 sec, available: 0.000010 sec)\n"
     ]
    },
    {
     "name": "stdout",
     "output_type": "stream",
     "text": [
      "\n",
      "Surrogate Cost:  200.0\n",
      "Surrogate Final State:  [ 3.14902539e+00 -1.13830344e-03  6.33867181e-02  5.54725234e-03]\n",
      "use_cuda=True\n",
      "MLP Using Cuda\n",
      "hidden_sizes= [121, 241]\n",
      "100%|██████████| 50/50 [01:25<00:00,  1.70s/it]\n",
      "Simulating Surrogate Trajectory: \n",
      " 99%|█████████▉| 198/200 [00:18<00:00, 10.48it/s]"
     ]
    },
    {
     "name": "stderr",
     "output_type": "stream",
     "text": [
      "INFO:smac.intensification.intensification.Intensifier:Wallclock time limit for intensification reached (used: 103.934856 sec, available: 0.000010 sec)\n"
     ]
    },
    {
     "name": "stdout",
     "output_type": "stream",
     "text": [
      "\n",
      "Surrogate Cost:  200.0\n",
      "Surrogate Final State:  [ 0.58767556  3.61856703 -1.72331294  0.38833403]\n",
      "use_cuda=True\n",
      "MLP Using Cuda\n",
      "hidden_sizes= [211, 151, 151]\n",
      "100%|██████████| 50/50 [01:44<00:00,  2.10s/it]\n",
      "Simulating Surrogate Trajectory: \n",
      " 99%|█████████▉| 198/200 [00:37<00:00,  5.29it/s]"
     ]
    },
    {
     "name": "stderr",
     "output_type": "stream",
     "text": [
      "INFO:smac.intensification.intensification.Intensifier:Wallclock time limit for intensification reached (used: 142.286269 sec, available: 0.000010 sec)\n"
     ]
    },
    {
     "name": "stdout",
     "output_type": "stream",
     "text": [
      "\n",
      "Surrogate Cost:  190.0\n",
      "Surrogate Final State:  [-0.02054212  0.04017876 -3.03660575 -0.51431262]\n",
      "use_cuda=True\n",
      "MLP Using Cuda\n",
      "hidden_sizes= [91]\n",
      "100%|██████████| 50/50 [01:02<00:00,  1.26s/it]\n",
      "Simulating Surrogate Trajectory: \n",
      " 99%|█████████▉| 198/200 [02:00<00:01,  1.64it/s]"
     ]
    },
    {
     "name": "stderr",
     "output_type": "stream",
     "text": [
      "INFO:smac.intensification.intensification.Intensifier:Wallclock time limit for intensification reached (used: 183.360480 sec, available: 0.000010 sec)\n"
     ]
    },
    {
     "name": "stdout",
     "output_type": "stream",
     "text": [
      "\n",
      "Surrogate Cost:  200.0\n",
      "Surrogate Final State:  [ 3.07868129e+00 -9.74838184e-03 -1.77512833e+01 -1.17823935e+00]\n",
      "use_cuda=True\n",
      "MLP Using Cuda\n",
      "hidden_sizes= [151, 211, 91, 91]\n",
      "100%|██████████| 50/50 [02:08<00:00,  2.56s/it]\n",
      "Simulating Surrogate Trajectory: \n",
      " 99%|█████████▉| 198/200 [00:10<00:00, 19.51it/s]"
     ]
    },
    {
     "name": "stderr",
     "output_type": "stream",
     "text": [
      "INFO:smac.intensification.intensification.Intensifier:Wallclock time limit for intensification reached (used: 138.335120 sec, available: 0.000010 sec)\n"
     ]
    },
    {
     "name": "stdout",
     "output_type": "stream",
     "text": [
      "\n",
      "Surrogate Cost:  200.0\n",
      "Surrogate Final State:  [ 3.15554606 -0.00980468 -2.42584849 -0.47496704]\n",
      "use_cuda=True\n",
      "MLP Using Cuda\n",
      "hidden_sizes= [31, 91]\n",
      "100%|██████████| 50/50 [01:23<00:00,  1.67s/it]\n",
      "Simulating Surrogate Trajectory: \n",
      " 99%|█████████▉| 198/200 [00:18<00:00, 10.68it/s]"
     ]
    },
    {
     "name": "stderr",
     "output_type": "stream",
     "text": [
      "INFO:smac.intensification.intensification.Intensifier:Wallclock time limit for intensification reached (used: 102.038520 sec, available: 0.000010 sec)\n"
     ]
    },
    {
     "name": "stdout",
     "output_type": "stream",
     "text": [
      "\n",
      "Surrogate Cost:  200.0\n",
      "Surrogate Final State:  [ 3.15003814 -0.01129705 -0.03110662  0.00540546]\n",
      "use_cuda=True\n",
      "MLP Using Cuda\n",
      "hidden_sizes= [113, 204, 144, 38]\n",
      "100%|██████████| 50/50 [02:07<00:00,  2.55s/it]\n",
      "Simulating Surrogate Trajectory: \n",
      " 99%|█████████▉| 198/200 [00:07<00:00, 25.46it/s]"
     ]
    },
    {
     "name": "stderr",
     "output_type": "stream",
     "text": [
      "INFO:smac.intensification.intensification.Intensifier:Wallclock time limit for intensification reached (used: 135.347797 sec, available: 0.000010 sec)\n"
     ]
    },
    {
     "name": "stdout",
     "output_type": "stream",
     "text": [
      "\n",
      "Surrogate Cost:  200.0\n",
      "Surrogate Final State:  [ 3.15554152 -0.01183288 -2.41204393 -0.47205724]\n",
      "use_cuda=True\n",
      "MLP Using Cuda\n",
      "hidden_sizes= [234, 83]\n",
      "100%|██████████| 50/50 [01:22<00:00,  1.65s/it]\n",
      "Simulating Surrogate Trajectory: \n",
      " 99%|█████████▉| 198/200 [00:18<00:00, 10.62it/s]"
     ]
    },
    {
     "name": "stderr",
     "output_type": "stream",
     "text": [
      "INFO:smac.intensification.intensification.Intensifier:Wallclock time limit for intensification reached (used: 101.302939 sec, available: 0.000010 sec)\n"
     ]
    },
    {
     "name": "stdout",
     "output_type": "stream",
     "text": [
      "\n",
      "Surrogate Cost:  200.0\n",
      "Surrogate Final State:  [ 3.14904933e+00 -8.75357525e-04 -2.37124498e-01 -1.80104783e-02]\n",
      "use_cuda=True\n",
      "MLP Using Cuda\n",
      "hidden_sizes= [53, 144, 83]\n",
      "100%|██████████| 50/50 [01:43<00:00,  2.08s/it]\n",
      "Simulating Surrogate Trajectory: \n",
      " 99%|█████████▉| 198/200 [00:50<00:00,  3.89it/s]"
     ]
    },
    {
     "name": "stderr",
     "output_type": "stream",
     "text": [
      "INFO:smac.intensification.intensification.Intensifier:Wallclock time limit for intensification reached (used: 154.915020 sec, available: 0.000010 sec)\n"
     ]
    },
    {
     "name": "stdout",
     "output_type": "stream",
     "text": [
      "\n",
      "Surrogate Cost:  190.0\n",
      "Surrogate Final State:  [ 1.7824312   4.08364142 -0.93760578 -1.41756332]\n",
      "use_cuda=True\n",
      "MLP Using Cuda\n",
      "hidden_sizes= [174]\n",
      "100%|██████████| 50/50 [01:04<00:00,  1.29s/it]\n",
      "Simulating Surrogate Trajectory: \n",
      " 99%|█████████▉| 198/200 [00:07<00:00, 26.46it/s]"
     ]
    },
    {
     "name": "stderr",
     "output_type": "stream",
     "text": [
      "INFO:smac.intensification.intensification.Intensifier:Wallclock time limit for intensification reached (used: 72.198770 sec, available: 0.000010 sec)\n"
     ]
    },
    {
     "name": "stdout",
     "output_type": "stream",
     "text": [
      "\n",
      "Surrogate Cost:  200.0\n",
      "Surrogate Final State:  [ 3.14979072 -0.00848727 -0.87540971 -0.11374063]\n",
      "use_cuda=True\n",
      "MLP Using Cuda\n",
      "hidden_sizes= [23, 113, 174, 189]\n",
      "100%|██████████| 50/50 [02:07<00:00,  2.54s/it]\n",
      "Simulating Surrogate Trajectory: \n",
      " 99%|█████████▉| 198/200 [00:13<00:00, 14.89it/s]"
     ]
    },
    {
     "name": "stderr",
     "output_type": "stream",
     "text": [
      "INFO:smac.intensification.intensification.Intensifier:Wallclock time limit for intensification reached (used: 140.376554 sec, available: 0.000010 sec)\n"
     ]
    },
    {
     "name": "stdout",
     "output_type": "stream",
     "text": [
      "\n",
      "Surrogate Cost:  200.0\n",
      "Surrogate Final State:  [ 3.14895768 -0.0054139  -0.04821955  0.00682666]\n",
      "use_cuda=True\n",
      "MLP Using Cuda\n",
      "hidden_sizes= [144, 234]\n",
      "100%|██████████| 50/50 [01:23<00:00,  1.68s/it]\n",
      "Simulating Surrogate Trajectory: \n",
      " 99%|█████████▉| 198/200 [00:20<00:00,  9.81it/s]"
     ]
    },
    {
     "name": "stderr",
     "output_type": "stream",
     "text": [
      "INFO:smac.intensification.intensification.Intensifier:Wallclock time limit for intensification reached (used: 104.110878 sec, available: 0.000010 sec)\n"
     ]
    },
    {
     "name": "stdout",
     "output_type": "stream",
     "text": [
      "\n",
      "Surrogate Cost:  200.0\n",
      "Surrogate Final State:  [  3.64852147  -2.69195142 -78.73666755  -5.56713224]\n",
      "use_cuda=True\n",
      "MLP Using Cuda\n",
      "hidden_sizes= [83, 53, 113]\n",
      "100%|██████████| 50/50 [01:44<00:00,  2.08s/it]\n",
      "Simulating Surrogate Trajectory: \n",
      " 99%|█████████▉| 198/200 [01:16<00:00,  2.57it/s]"
     ]
    },
    {
     "name": "stderr",
     "output_type": "stream",
     "text": [
      "INFO:smac.intensification.intensification.Intensifier:Wallclock time limit for intensification reached (used: 181.192880 sec, available: 0.000010 sec)\n"
     ]
    },
    {
     "name": "stdout",
     "output_type": "stream",
     "text": [
      "\n",
      "Surrogate Cost:  200.0\n",
      "Surrogate Final State:  [-0.01602694 -0.00586651  4.58872227 -0.39830405]\n",
      "use_cuda=True\n",
      "MLP Using Cuda\n",
      "hidden_sizes= [204]\n",
      "100%|██████████| 50/50 [01:04<00:00,  1.29s/it]\n",
      "Simulating Surrogate Trajectory: \n",
      " 99%|█████████▉| 198/200 [00:11<00:00, 17.41it/s]"
     ]
    },
    {
     "name": "stderr",
     "output_type": "stream",
     "text": [
      "INFO:smac.intensification.intensification.Intensifier:Wallclock time limit for intensification reached (used: 75.739502 sec, available: 0.000010 sec)\n"
     ]
    },
    {
     "name": "stdout",
     "output_type": "stream",
     "text": [
      "\n",
      "Surrogate Cost:  200.0\n",
      "Surrogate Final State:  [ 3.14917613 -0.01053136 -0.89046535 -0.07684704]\n",
      "use_cuda=True\n",
      "MLP Using Cuda\n",
      "hidden_sizes= [219, 249]\n",
      "100%|██████████| 50/50 [01:25<00:00,  1.70s/it]\n",
      "Simulating Surrogate Trajectory: \n",
      " 99%|█████████▉| 198/200 [00:16<00:00, 12.05it/s]"
     ]
    },
    {
     "name": "stderr",
     "output_type": "stream",
     "text": [
      "INFO:smac.intensification.intensification.Intensifier:Wallclock time limit for intensification reached (used: 101.538722 sec, available: 0.000010 sec)\n"
     ]
    },
    {
     "name": "stdout",
     "output_type": "stream",
     "text": [
      "\n",
      "Surrogate Cost:  200.0\n",
      "Surrogate Final State:  [ 3.14748696e+00  2.50853367e-03 -6.12042526e-02  6.46869920e-03]\n",
      "use_cuda=True\n",
      "MLP Using Cuda\n",
      "hidden_sizes= [98, 128, 189, 174]\n",
      "100%|██████████| 50/50 [02:05<00:00,  2.51s/it]\n",
      "Simulating Surrogate Trajectory: \n",
      " 99%|█████████▉| 198/200 [01:23<00:00,  2.36it/s]"
     ]
    },
    {
     "name": "stderr",
     "output_type": "stream",
     "text": [
      "INFO:smac.intensification.intensification.Intensifier:Wallclock time limit for intensification reached (used: 209.073278 sec, available: 0.000010 sec)\n"
     ]
    },
    {
     "name": "stdout",
     "output_type": "stream",
     "text": [
      "\n",
      "Surrogate Cost:  200.0\n",
      "Surrogate Final State:  [-0.01842676  0.78312438 -1.93814055  0.88341863]\n",
      "use_cuda=True\n",
      "MLP Using Cuda\n",
      "hidden_sizes= [155]\n",
      "100%|██████████| 50/50 [01:03<00:00,  1.27s/it]\n",
      "Simulating Surrogate Trajectory: \n",
      " 99%|█████████▉| 198/200 [00:08<00:00, 23.63it/s]"
     ]
    },
    {
     "name": "stderr",
     "output_type": "stream",
     "text": [
      "INFO:smac.intensification.intensification.Intensifier:Wallclock time limit for intensification reached (used: 71.985613 sec, available: 0.000010 sec)\n"
     ]
    },
    {
     "name": "stdout",
     "output_type": "stream",
     "text": [
      "\n",
      "Surrogate Cost:  200.0\n",
      "Surrogate Final State:  [ 3.14578104 -0.02100855  0.02988309  0.00885625]\n",
      "use_cuda=True\n",
      "MLP Using Cuda\n",
      "hidden_sizes= [88, 39, 214, 147]\n",
      "100%|██████████| 50/50 [02:07<00:00,  2.55s/it]\n",
      "Simulating Surrogate Trajectory: \n",
      "  2%|▏         | 3/200 [00:00<00:08, 24.33it/s]"
     ]
    },
    {
     "name": "stderr",
     "output_type": "stream",
     "text": [
      "/home/william/proj/autompc_dev/autompc/control/ilqr.py:535: RuntimeWarning: invalid value encountered in double_scalars\n",
      "  if (obj - new_obj) / (-expect_cost_reduction) > ls_cost_threshold:\n"
     ]
    },
    {
     "name": "stdout",
     "output_type": "stream",
     "text": [
      " 99%|█████████▉| 198/200 [00:07<00:00, 27.42it/s]"
     ]
    },
    {
     "name": "stderr",
     "output_type": "stream",
     "text": [
      "INFO:smac.intensification.intensification.Intensifier:Wallclock time limit for intensification reached (used: 134.992021 sec, available: 0.000010 sec)\n"
     ]
    },
    {
     "name": "stdout",
     "output_type": "stream",
     "text": [
      "\n",
      "Surrogate Cost:  200.0\n",
      "Surrogate Final State:  [ 3.15554152 -0.01183288 -2.41204393 -0.47205724]\n",
      "use_cuda=True\n",
      "MLP Using Cuda\n",
      "hidden_sizes= [36, 200, 128]\n",
      "100%|██████████| 50/50 [01:41<00:00,  2.03s/it]\n",
      "Simulating Surrogate Trajectory: \n",
      " 99%|█████████▉| 198/200 [00:09<00:00, 20.81it/s]"
     ]
    },
    {
     "name": "stderr",
     "output_type": "stream",
     "text": [
      "INFO:smac.intensification.intensification.Intensifier:Wallclock time limit for intensification reached (used: 111.165622 sec, available: 0.000010 sec)\n"
     ]
    },
    {
     "name": "stdout",
     "output_type": "stream",
     "text": [
      "\n",
      "Surrogate Cost:  200.0\n",
      "Surrogate Final State:  [ 3.14949154 -0.00818565  1.23764306  0.15000985]\n",
      "use_cuda=True\n",
      "MLP Using Cuda\n",
      "hidden_sizes= [106]\n",
      "100%|██████████| 50/50 [01:04<00:00,  1.28s/it]\n",
      "Simulating Surrogate Trajectory: \n",
      " 99%|█████████▉| 198/200 [00:45<00:00,  4.32it/s]"
     ]
    },
    {
     "name": "stderr",
     "output_type": "stream",
     "text": [
      "INFO:smac.intensification.intensification.Intensifier:Wallclock time limit for intensification reached (used: 109.879945 sec, available: 0.000010 sec)\n"
     ]
    },
    {
     "name": "stdout",
     "output_type": "stream",
     "text": [
      "\n",
      "Surrogate Cost:  197.0\n",
      "Surrogate Final State:  [ 0.0120098   0.04851164 -0.31712248 -0.51267052]\n",
      "use_cuda=True\n",
      "MLP Using Cuda\n",
      "hidden_sizes= [116]\n",
      "100%|██████████| 50/50 [01:03<00:00,  1.27s/it]\n",
      "Simulating Surrogate Trajectory: \n",
      " 99%|█████████▉| 198/200 [00:07<00:00, 25.41it/s]"
     ]
    },
    {
     "name": "stderr",
     "output_type": "stream",
     "text": [
      "INFO:smac.intensification.intensification.Intensifier:Wallclock time limit for intensification reached (used: 71.326937 sec, available: 0.000010 sec)\n"
     ]
    },
    {
     "name": "stdout",
     "output_type": "stream",
     "text": [
      "\n",
      "Surrogate Cost:  200.0\n",
      "Surrogate Final State:  [ 3.14938438 -0.01172596 -0.06631957  0.007017  ]\n",
      "use_cuda=True\n",
      "MLP Using Cuda\n",
      "hidden_sizes= [229, 164]\n",
      "100%|██████████| 50/50 [01:23<00:00,  1.67s/it]\n",
      "Simulating Surrogate Trajectory: \n",
      " 99%|█████████▉| 198/200 [00:08<00:00, 22.87it/s]"
     ]
    },
    {
     "name": "stderr",
     "output_type": "stream",
     "text": [
      "INFO:smac.intensification.intensification.Intensifier:Wallclock time limit for intensification reached (used: 92.150502 sec, available: 0.000010 sec)\n"
     ]
    },
    {
     "name": "stdout",
     "output_type": "stream",
     "text": [
      "\n",
      "Surrogate Cost:  200.0\n",
      "Surrogate Final State:  [ 3.14886315 -0.01432637 -1.16664916 -0.08573395]\n",
      "use_cuda=True\n",
      "MLP Using Cuda\n",
      "hidden_sizes= [175, 144, 108]\n",
      "100%|██████████| 50/50 [01:46<00:00,  2.13s/it]\n",
      "Simulating Surrogate Trajectory: \n",
      " 99%|█████████▉| 198/200 [00:55<00:00,  3.57it/s]"
     ]
    },
    {
     "name": "stderr",
     "output_type": "stream",
     "text": [
      "INFO:smac.intensification.intensification.Intensifier:Wallclock time limit for intensification reached (used: 161.855378 sec, available: 0.000010 sec)\n"
     ]
    },
    {
     "name": "stdout",
     "output_type": "stream",
     "text": [
      "\n",
      "Surrogate Cost:  199.0\n",
      "Surrogate Final State:  [ 0.07789281 -1.36811474  6.37715957 -1.34074906]\n",
      "use_cuda=True\n",
      "MLP Using Cuda\n",
      "hidden_sizes= [108, 107]\n",
      "100%|██████████| 50/50 [01:22<00:00,  1.66s/it]\n",
      "Simulating Surrogate Trajectory: \n",
      " 99%|█████████▉| 198/200 [00:55<00:00,  3.58it/s]"
     ]
    },
    {
     "name": "stderr",
     "output_type": "stream",
     "text": [
      "INFO:smac.intensification.intensification.Intensifier:Wallclock time limit for intensification reached (used: 138.400171 sec, available: 0.000010 sec)\n"
     ]
    },
    {
     "name": "stdout",
     "output_type": "stream",
     "text": [
      "\n",
      "Surrogate Cost:  200.0\n",
      "Surrogate Final State:  [-2.76912189 -4.93987696  0.92411501  2.22215226]\n",
      "use_cuda=True\n",
      "MLP Using Cuda\n",
      "hidden_sizes= [106]\n",
      "100%|██████████| 50/50 [01:03<00:00,  1.27s/it]\n",
      "Simulating Surrogate Trajectory: \n",
      " 99%|█████████▉| 198/200 [00:42<00:00,  4.67it/s]"
     ]
    },
    {
     "name": "stderr",
     "output_type": "stream",
     "text": [
      "INFO:smac.intensification.intensification.Intensifier:Wallclock time limit for intensification reached (used: 106.161195 sec, available: 0.000010 sec)\n"
     ]
    },
    {
     "name": "stdout",
     "output_type": "stream",
     "text": [
      "\n",
      "Surrogate Cost:  200.0\n",
      "Surrogate Final State:  [-0.01408503 -0.27935784 -4.92322589  1.59070812]\n",
      "use_cuda=True\n",
      "MLP Using Cuda\n",
      "hidden_sizes= [46, 241, 102]\n",
      "100%|██████████| 50/50 [01:43<00:00,  2.08s/it]\n",
      "Simulating Surrogate Trajectory: \n",
      " 99%|█████████▉| 198/200 [01:22<00:00,  2.40it/s]"
     ]
    },
    {
     "name": "stderr",
     "output_type": "stream",
     "text": [
      "INFO:smac.intensification.intensification.Intensifier:Wallclock time limit for intensification reached (used: 186.225915 sec, available: 0.000010 sec)\n"
     ]
    },
    {
     "name": "stdout",
     "output_type": "stream",
     "text": [
      "\n",
      "Surrogate Cost:  200.0\n",
      "Surrogate Final State:  [-1.77251927e-02 -2.36050876e-01 -5.04100749e+01 -5.51463319e+00]\n",
      "use_cuda=True\n",
      "MLP Using Cuda\n",
      "hidden_sizes= [206, 145, 151]\n",
      "100%|██████████| 50/50 [01:46<00:00,  2.13s/it]\n",
      "Simulating Surrogate Trajectory: \n",
      " 99%|█████████▉| 198/200 [02:13<00:01,  1.48it/s]"
     ]
    },
    {
     "name": "stderr",
     "output_type": "stream",
     "text": [
      "INFO:smac.intensification.intensification.Intensifier:Wallclock time limit for intensification reached (used: 240.014852 sec, available: 0.000010 sec)\n"
     ]
    },
    {
     "name": "stdout",
     "output_type": "stream",
     "text": [
      "\n",
      "Surrogate Cost:  200.0\n",
      "Surrogate Final State:  [ 2.74375158e-02 -1.26080641e-01  3.63743110e+01  4.87003072e-01]\n",
      "use_cuda=True\n",
      "MLP Using Cuda\n",
      "hidden_sizes= [60, 120]\n",
      "100%|██████████| 50/50 [01:23<00:00,  1.66s/it]\n",
      "Simulating Surrogate Trajectory: \n",
      "  4%|▎         | 7/200 [00:00<00:06, 30.66it/s]"
     ]
    },
    {
     "name": "stderr",
     "output_type": "stream",
     "text": [
      "/home/william/proj/autompc_dev/autompc/control/ilqr.py:535: RuntimeWarning: invalid value encountered in double_scalars\n",
      "  if (obj - new_obj) / (-expect_cost_reduction) > ls_cost_threshold:\n"
     ]
    },
    {
     "name": "stdout",
     "output_type": "stream",
     "text": [
      " 99%|█████████▉| 198/200 [00:05<00:00, 33.77it/s]"
     ]
    },
    {
     "name": "stderr",
     "output_type": "stream",
     "text": [
      "INFO:smac.intensification.intensification.Intensifier:Wallclock time limit for intensification reached (used: 88.905305 sec, available: 0.000010 sec)\n"
     ]
    },
    {
     "name": "stdout",
     "output_type": "stream",
     "text": [
      "\n",
      "Surrogate Cost:  200.0\n",
      "Surrogate Final State:  [ 3.15554152 -0.01183288 -2.41204393 -0.47205724]\n",
      "use_cuda=True\n",
      "MLP Using Cuda\n",
      "hidden_sizes= [80]\n",
      "100%|██████████| 50/50 [01:04<00:00,  1.28s/it]\n",
      "Simulating Surrogate Trajectory: \n",
      " 99%|█████████▉| 198/200 [00:58<00:00,  3.37it/s]"
     ]
    },
    {
     "name": "stderr",
     "output_type": "stream",
     "text": [
      "INFO:smac.intensification.intensification.Intensifier:Wallclock time limit for intensification reached (used: 122.701614 sec, available: 0.000010 sec)\n"
     ]
    },
    {
     "name": "stdout",
     "output_type": "stream",
     "text": [
      "\n",
      "Surrogate Cost:  195.0\n",
      "Surrogate Final State:  [0.15845983 0.00515898 2.22161115 1.9287167 ]\n",
      "use_cuda=True\n",
      "MLP Using Cuda\n",
      "hidden_sizes= [240]\n",
      "100%|██████████| 50/50 [01:05<00:00,  1.31s/it]\n",
      "Simulating Surrogate Trajectory: \n",
      " 99%|█████████▉| 198/200 [00:41<00:00,  4.73it/s]"
     ]
    },
    {
     "name": "stderr",
     "output_type": "stream",
     "text": [
      "INFO:smac.intensification.intensification.Intensifier:Wallclock time limit for intensification reached (used: 107.472808 sec, available: 0.000010 sec)\n"
     ]
    },
    {
     "name": "stdout",
     "output_type": "stream",
     "text": [
      "\n",
      "Surrogate Cost:  200.0\n",
      "Surrogate Final State:  [ -0.08259648   0.18558832  -8.77781767 -12.48273254]\n",
      "use_cuda=True\n",
      "MLP Using Cuda\n",
      "hidden_sizes= [174, 89]\n",
      "100%|██████████| 50/50 [01:23<00:00,  1.68s/it]\n",
      "Simulating Surrogate Trajectory: \n",
      " 99%|█████████▉| 198/200 [00:08<00:00, 22.41it/s]"
     ]
    },
    {
     "name": "stderr",
     "output_type": "stream",
     "text": [
      "INFO:smac.intensification.intensification.Intensifier:Wallclock time limit for intensification reached (used: 92.696526 sec, available: 0.000010 sec)\n"
     ]
    },
    {
     "name": "stdout",
     "output_type": "stream",
     "text": [
      "\n",
      "Surrogate Cost:  200.0\n",
      "Surrogate Final State:  [ 3.14774683e+00 -1.03703478e-03 -2.22680379e-01  3.18281255e-02]\n",
      "use_cuda=True\n",
      "MLP Using Cuda\n",
      "hidden_sizes= [114, 35, 30]\n",
      "100%|██████████| 50/50 [01:42<00:00,  2.04s/it]\n",
      "Simulating Surrogate Trajectory: \n",
      " 99%|█████████▉| 198/200 [02:03<00:01,  1.60it/s]"
     ]
    },
    {
     "name": "stderr",
     "output_type": "stream",
     "text": [
      "INFO:smac.intensification.intensification.Intensifier:Wallclock time limit for intensification reached (used: 225.632756 sec, available: 0.000010 sec)\n"
     ]
    },
    {
     "name": "stdout",
     "output_type": "stream",
     "text": [
      "\n",
      "Surrogate Cost:  197.0\n",
      "Surrogate Final State:  [-0.07159436 -0.0213766  -2.45938251 -2.3455406 ]\n",
      "use_cuda=True\n",
      "MLP Using Cuda\n",
      "hidden_sizes= [235]\n",
      "100%|██████████| 50/50 [01:05<00:00,  1.31s/it]\n",
      "Simulating Surrogate Trajectory: \n",
      " 99%|█████████▉| 198/200 [00:16<00:00, 12.22it/s]"
     ]
    },
    {
     "name": "stderr",
     "output_type": "stream",
     "text": [
      "INFO:smac.intensification.intensification.Intensifier:Challenger (61.0000) is better than incumbent (189.0000) on 1 runs.\n",
      "INFO:smac.intensification.intensification.Intensifier:Changes in incumbent:\n",
      "INFO:smac.intensification.intensification.Intensifier:  _cost:dx_F : 0.4216965034285823 -> 28.4060323021976\n",
      "INFO:smac.intensification.intensification.Intensifier:  _cost:dx_Q : 0.4216965034285823 -> 0.002310163609770474\n",
      "INFO:smac.intensification.intensification.Intensifier:  _cost:omega_F : 23.713737056616576 -> 0.7153851316952081\n",
      "INFO:smac.intensification.intensification.Intensifier:  _cost:omega_Q : 0.007498942093324564 -> 0.001029598603549767\n",
      "INFO:smac.intensification.intensification.Intensifier:  _cost:theta_F : 1333.5214321633246 -> 3553.6596649624844\n",
      "INFO:smac.intensification.intensification.Intensifier:  _cost:theta_Q : 1333.5214321633246 -> 1323.9022916419856\n",
      "INFO:smac.intensification.intensification.Intensifier:  _cost:u_R : 0.007498942093324564 -> 3.8190563682199836\n",
      "INFO:smac.intensification.intensification.Intensifier:  _cost:x_F : 23.713737056616576 -> 8300.504607508154\n",
      "INFO:smac.intensification.intensification.Intensifier:  _cost:x_Q : 0.007498942093324564 -> 0.3510404502055934\n",
      "INFO:smac.intensification.intensification.Intensifier:  _ctrlr:horizon : 23 -> 16\n",
      "INFO:smac.intensification.intensification.Intensifier:  _model:hidden_size_1 : 106 -> 235\n",
      "INFO:smac.intensification.intensification.Intensifier:  _model:lr : 0.013335214321633242 -> 0.00033995041204044527\n",
      "INFO:smac.intensification.intensification.Intensifier:  _model:nonlintype : 'tanh' -> 'selu'\n",
      "INFO:smac.intensification.intensification.Intensifier:Wallclock time limit for intensification reached (used: 81.933055 sec, available: 0.000010 sec)\n"
     ]
    },
    {
     "name": "stdout",
     "output_type": "stream",
     "text": [
      "\n",
      "Surrogate Cost:  61.0\n",
      "Surrogate Final State:  [-0.00953201 -0.00450323 -0.03884365  0.00109977]\n",
      "use_cuda=True\n",
      "MLP Using Cuda\n",
      "hidden_sizes= [244, 30, 32]\n",
      "100%|██████████| 50/50 [01:44<00:00,  2.09s/it]\n",
      "Simulating Surrogate Trajectory: \n",
      " 99%|█████████▉| 198/200 [02:01<00:01,  1.63it/s]"
     ]
    },
    {
     "name": "stderr",
     "output_type": "stream",
     "text": [
      "INFO:smac.intensification.intensification.Intensifier:Wallclock time limit for intensification reached (used: 226.076536 sec, available: 0.000010 sec)\n"
     ]
    },
    {
     "name": "stdout",
     "output_type": "stream",
     "text": [
      "\n",
      "Surrogate Cost:  200.0\n",
      "Surrogate Final State:  [ 3.1703037  -0.0618555   0.25936619  0.02995511]\n",
      "use_cuda=True\n",
      "MLP Using Cuda\n",
      "hidden_sizes= [176, 186, 130]\n",
      "100%|██████████| 50/50 [01:43<00:00,  2.07s/it]\n",
      "Simulating Surrogate Trajectory: \n",
      " 99%|█████████▉| 198/200 [02:12<00:01,  1.49it/s]"
     ]
    },
    {
     "name": "stderr",
     "output_type": "stream",
     "text": [
      "INFO:smac.intensification.intensification.Intensifier:Wallclock time limit for intensification reached (used: 236.085776 sec, available: 0.000010 sec)\n"
     ]
    },
    {
     "name": "stdout",
     "output_type": "stream",
     "text": [
      "\n",
      "Surrogate Cost:  200.0\n",
      "Surrogate Final State:  [ 3.07162083  0.06734822 -0.08579725 -0.05394686]\n",
      "use_cuda=True\n",
      "MLP Using Cuda\n",
      "hidden_sizes= [235]\n",
      "100%|██████████| 50/50 [01:04<00:00,  1.29s/it]\n",
      "Simulating Surrogate Trajectory: \n",
      " 99%|█████████▉| 198/200 [00:17<00:00, 11.13it/s]"
     ]
    },
    {
     "name": "stderr",
     "output_type": "stream",
     "text": [
      "INFO:smac.intensification.intensification.Intensifier:Wallclock time limit for intensification reached (used: 82.315191 sec, available: 0.000010 sec)\n"
     ]
    },
    {
     "name": "stdout",
     "output_type": "stream",
     "text": [
      "\n",
      "Surrogate Cost:  61.0\n",
      "Surrogate Final State:  [-0.00971394 -0.00452234  0.10377402  0.00116815]\n",
      "use_cuda=True\n",
      "MLP Using Cuda\n",
      "hidden_sizes= [238, 128]\n",
      "100%|██████████| 50/50 [01:23<00:00,  1.67s/it]\n",
      "Simulating Surrogate Trajectory: \n",
      " 99%|█████████▉| 198/200 [00:15<00:00, 12.44it/s]"
     ]
    },
    {
     "name": "stderr",
     "output_type": "stream",
     "text": [
      "INFO:smac.intensification.intensification.Intensifier:Challenger (55.0000) is better than incumbent (61.0000) on 1 runs.\n",
      "INFO:smac.intensification.intensification.Intensifier:Changes in incumbent:\n",
      "INFO:smac.intensification.intensification.Intensifier:  _cost:dx_F : 28.4060323021976 -> 65.24806984386902\n",
      "INFO:smac.intensification.intensification.Intensifier:  _cost:omega_F : 0.7153851316952081 -> 1.3519710652415837\n",
      "INFO:smac.intensification.intensification.Intensifier:  _cost:omega_Q : 0.001029598603549767 -> 0.014156948325638843\n",
      "INFO:smac.intensification.intensification.Intensifier:  _cost:theta_F : 3553.6596649624844 -> 5384.822675488608\n",
      "INFO:smac.intensification.intensification.Intensifier:  _cost:theta_Q : 1323.9022916419856 -> 6120.346672377408\n",
      "INFO:smac.intensification.intensification.Intensifier:  _cost:u_R : 3.8190563682199836 -> 7.634750040083289\n",
      "INFO:smac.intensification.intensification.Intensifier:  _cost:x_Q : 0.3510404502055934 -> 0.22635704855130792\n",
      "INFO:smac.intensification.intensification.Intensifier:  _ctrlr:horizon : 16 -> 23\n",
      "INFO:smac.intensification.intensification.Intensifier:  _model:hidden_size_1 : 235 -> 238\n",
      "INFO:smac.intensification.intensification.Intensifier:  _model:hidden_size_2 : None -> 128\n",
      "INFO:smac.intensification.intensification.Intensifier:  _model:lr : 0.00033995041204044527 -> 0.008067296191642426\n"
     ]
    },
    {
     "name": "stdout",
     "output_type": "stream",
     "text": [
      "\n",
      "Surrogate Cost:  55.0\n",
      "Surrogate Final State:  [-0.00959387 -0.00450867  0.00945632  0.00112425]\n"
     ]
    },
    {
     "name": "stderr",
     "output_type": "stream",
     "text": [
      "INFO:smac.intensification.intensification.Intensifier:  _model:n_hidden_layers : '1' -> '2'\n",
      "INFO:smac.intensification.intensification.Intensifier:  _model:nonlintype : 'selu' -> 'relu'\n",
      "INFO:smac.intensification.intensification.Intensifier:Wallclock time limit for intensification reached (used: 99.244860 sec, available: 0.000010 sec)\n"
     ]
    },
    {
     "name": "stdout",
     "output_type": "stream",
     "text": [
      "use_cuda=True\n",
      "MLP Using Cuda\n",
      "hidden_sizes= [229, 141]\n",
      "100%|██████████| 50/50 [01:23<00:00,  1.67s/it]\n",
      "Simulating Surrogate Trajectory: \n",
      " 99%|█████████▉| 198/200 [00:31<00:00,  6.35it/s]"
     ]
    },
    {
     "name": "stderr",
     "output_type": "stream",
     "text": [
      "INFO:smac.intensification.intensification.Intensifier:Wallclock time limit for intensification reached (used: 114.907322 sec, available: 0.000010 sec)\n"
     ]
    },
    {
     "name": "stdout",
     "output_type": "stream",
     "text": [
      "\n",
      "Surrogate Cost:  200.0\n",
      "Surrogate Final State:  [ 2.57114636 -4.60620629 -3.90523067  6.39328369]\n",
      "use_cuda=True\n",
      "MLP Using Cuda\n",
      "hidden_sizes= [248, 128]\n",
      "100%|██████████| 50/50 [01:23<00:00,  1.68s/it]\n",
      "Simulating Surrogate Trajectory: \n",
      " 99%|█████████▉| 198/200 [00:14<00:00, 13.73it/s]"
     ]
    },
    {
     "name": "stderr",
     "output_type": "stream",
     "text": [
      "INFO:smac.intensification.intensification.Intensifier:Wallclock time limit for intensification reached (used: 98.260895 sec, available: 0.000010 sec)\n"
     ]
    },
    {
     "name": "stdout",
     "output_type": "stream",
     "text": [
      "\n",
      "Surrogate Cost:  57.0\n",
      "Surrogate Final State:  [-0.00948268 -0.00449842 -0.07730381  0.00108189]\n",
      "use_cuda=True\n",
      "MLP Using Cuda\n",
      "hidden_sizes= [241, 128, 128, 128]\n",
      "100%|██████████| 50/50 [02:09<00:00,  2.59s/it]\n",
      "Simulating Surrogate Trajectory: \n",
      " 99%|█████████▉| 198/200 [00:47<00:00,  4.19it/s]"
     ]
    },
    {
     "name": "stderr",
     "output_type": "stream",
     "text": [
      "INFO:smac.intensification.intensification.Intensifier:Wallclock time limit for intensification reached (used: 176.725936 sec, available: 0.000010 sec)\n"
     ]
    },
    {
     "name": "stdout",
     "output_type": "stream",
     "text": [
      "\n",
      "Surrogate Cost:  146.0\n",
      "Surrogate Final State:  [-0.01596086  0.04173498  0.06998639  0.01369699]\n",
      "use_cuda=True\n",
      "MLP Using Cuda\n",
      "hidden_sizes= [238]\n",
      "100%|██████████| 50/50 [01:04<00:00,  1.29s/it]\n",
      "Simulating Surrogate Trajectory: \n",
      " 99%|█████████▉| 198/200 [00:15<00:00, 12.78it/s]"
     ]
    },
    {
     "name": "stderr",
     "output_type": "stream",
     "text": [
      "INFO:smac.intensification.intensification.Intensifier:Wallclock time limit for intensification reached (used: 79.896045 sec, available: 0.000010 sec)\n"
     ]
    },
    {
     "name": "stdout",
     "output_type": "stream",
     "text": [
      "\n",
      "Surrogate Cost:  68.0\n",
      "Surrogate Final State:  [-0.00983267 -0.00453398  0.19633509  0.001211  ]\n",
      "use_cuda=True\n",
      "MLP Using Cuda\n",
      "hidden_sizes= [238, 143]\n",
      "100%|██████████| 50/50 [01:24<00:00,  1.68s/it]\n",
      "Simulating Surrogate Trajectory: \n",
      " 99%|█████████▉| 198/200 [00:24<00:00,  8.11it/s]"
     ]
    },
    {
     "name": "stderr",
     "output_type": "stream",
     "text": [
      "INFO:smac.intensification.intensification.Intensifier:Wallclock time limit for intensification reached (used: 108.423616 sec, available: 0.000010 sec)\n"
     ]
    },
    {
     "name": "stdout",
     "output_type": "stream",
     "text": [
      "\n",
      "Surrogate Cost:  112.0\n",
      "Surrogate Final State:  [-0.00953099 -0.00156027 -0.00549759  0.01146188]\n",
      "use_cuda=True\n",
      "MLP Using Cuda\n",
      "hidden_sizes= [238, 127]\n",
      "100%|██████████| 50/50 [01:24<00:00,  1.68s/it]\n",
      "Simulating Surrogate Trajectory: \n",
      " 99%|█████████▉| 198/200 [00:14<00:00, 13.64it/s]"
     ]
    },
    {
     "name": "stderr",
     "output_type": "stream",
     "text": [
      "INFO:smac.intensification.intensification.Intensifier:Wallclock time limit for intensification reached (used: 98.704436 sec, available: 0.000010 sec)\n"
     ]
    },
    {
     "name": "stdout",
     "output_type": "stream",
     "text": [
      "\n",
      "Surrogate Cost:  63.0\n",
      "Surrogate Final State:  [-0.00934674 -0.00448091 -0.1833318   0.00104114]\n",
      "use_cuda=True\n",
      "MLP Using Cuda\n",
      "hidden_sizes= [255, 128]\n",
      "100%|██████████| 50/50 [01:23<00:00,  1.67s/it]\n",
      "Simulating Surrogate Trajectory: \n",
      " 99%|█████████▉| 198/200 [02:01<00:01,  1.62it/s]"
     ]
    },
    {
     "name": "stderr",
     "output_type": "stream",
     "text": [
      "INFO:smac.intensification.intensification.Intensifier:Wallclock time limit for intensification reached (used: 205.382935 sec, available: 0.000010 sec)\n"
     ]
    },
    {
     "name": "stdout",
     "output_type": "stream",
     "text": [
      "\n",
      "Surrogate Cost:  200.0\n",
      "Surrogate Final State:  [ 3.13267385  1.35010038  2.1193951  -0.4702293 ]\n",
      "use_cuda=True\n",
      "MLP Using Cuda\n",
      "hidden_sizes= [238, 137, 135, 128]\n",
      "100%|██████████| 50/50 [02:06<00:00,  2.52s/it]\n",
      "Simulating Surrogate Trajectory: \n",
      " 99%|█████████▉| 198/200 [00:57<00:00,  3.45it/s]"
     ]
    },
    {
     "name": "stderr",
     "output_type": "stream",
     "text": [
      "INFO:smac.intensification.intensification.Intensifier:Wallclock time limit for intensification reached (used: 183.695455 sec, available: 0.000010 sec)\n"
     ]
    },
    {
     "name": "stdout",
     "output_type": "stream",
     "text": [
      "\n",
      "Surrogate Cost:  169.0\n",
      "Surrogate Final State:  [-0.04894235 -0.04992572  0.35548392 -0.01241929]\n",
      "use_cuda=True\n",
      "MLP Using Cuda\n",
      "hidden_sizes= [234, 106]\n",
      "100%|██████████| 50/50 [01:21<00:00,  1.62s/it]\n",
      "Simulating Surrogate Trajectory: \n",
      " 99%|█████████▉| 198/200 [00:27<00:00,  7.31it/s]"
     ]
    },
    {
     "name": "stderr",
     "output_type": "stream",
     "text": [
      "INFO:smac.intensification.intensification.Intensifier:Wallclock time limit for intensification reached (used: 108.248295 sec, available: 0.000010 sec)\n"
     ]
    },
    {
     "name": "stdout",
     "output_type": "stream",
     "text": [
      "\n",
      "Surrogate Cost:  184.0\n",
      "Surrogate Final State:  [-0.01085234  0.00104602  0.24038341  0.00648301]\n",
      "use_cuda=True\n",
      "MLP Using Cuda\n",
      "hidden_sizes= [240, 128]\n",
      "100%|██████████| 50/50 [01:21<00:00,  1.64s/it]\n",
      "Simulating Surrogate Trajectory: \n",
      " 99%|█████████▉| 198/200 [00:35<00:00,  5.52it/s]"
     ]
    },
    {
     "name": "stderr",
     "output_type": "stream",
     "text": [
      "INFO:smac.intensification.intensification.Intensifier:Wallclock time limit for intensification reached (used: 117.827902 sec, available: 0.000010 sec)\n"
     ]
    },
    {
     "name": "stdout",
     "output_type": "stream",
     "text": [
      "\n",
      "Surrogate Cost:  106.0\n",
      "Surrogate Final State:  [-0.01287339  0.00970804 -0.19838633  0.023023  ]\n",
      "use_cuda=True\n",
      "MLP Using Cuda\n",
      "hidden_sizes= [251, 128]\n",
      "100%|██████████| 50/50 [01:20<00:00,  1.62s/it]\n",
      "Simulating Surrogate Trajectory: \n",
      " 99%|█████████▉| 198/200 [00:16<00:00, 12.06it/s]"
     ]
    },
    {
     "name": "stderr",
     "output_type": "stream",
     "text": [
      "INFO:smac.intensification.intensification.Intensifier:Wallclock time limit for intensification reached (used: 97.418577 sec, available: 0.000010 sec)\n"
     ]
    },
    {
     "name": "stdout",
     "output_type": "stream",
     "text": [
      "\n",
      "Surrogate Cost:  61.0\n",
      "Surrogate Final State:  [-0.00965077 -0.00451537  0.0540551   0.00114369]\n",
      "use_cuda=True\n",
      "MLP Using Cuda\n",
      "hidden_sizes= [200, 219, 167, 150]\n",
      "100%|██████████| 50/50 [02:08<00:00,  2.56s/it]\n",
      "Simulating Surrogate Trajectory: \n",
      " 99%|█████████▉| 198/200 [01:10<00:00,  2.81it/s]"
     ]
    },
    {
     "name": "stderr",
     "output_type": "stream",
     "text": [
      "INFO:smac.intensification.intensification.Intensifier:Wallclock time limit for intensification reached (used: 198.755916 sec, available: 0.000010 sec)\n"
     ]
    },
    {
     "name": "stdout",
     "output_type": "stream",
     "text": [
      "\n",
      "Surrogate Cost:  200.0\n",
      "Surrogate Final State:  [  2.82234616   0.97106869 227.38260279  28.90906703]\n",
      "use_cuda=True\n",
      "MLP Using Cuda\n",
      "hidden_sizes= [23]\n",
      "100%|██████████| 50/50 [01:02<00:00,  1.25s/it]\n",
      "Simulating Surrogate Trajectory: \n",
      " 99%|█████████▉| 198/200 [00:08<00:00, 23.37it/s]"
     ]
    },
    {
     "name": "stderr",
     "output_type": "stream",
     "text": [
      "INFO:smac.intensification.intensification.Intensifier:Wallclock time limit for intensification reached (used: 71.189058 sec, available: 0.000010 sec)\n"
     ]
    },
    {
     "name": "stdout",
     "output_type": "stream",
     "text": [
      "\n",
      "Surrogate Cost:  200.0\n",
      "Surrogate Final State:  [ 3.1493876  -0.0083372  -0.02137865  0.00684189]\n",
      "use_cuda=True\n",
      "MLP Using Cuda\n",
      "hidden_sizes= [240]\n",
      "100%|██████████| 50/50 [01:03<00:00,  1.27s/it]\n",
      "Simulating Surrogate Trajectory: \n",
      " 99%|█████████▉| 198/200 [00:24<00:00,  8.22it/s]"
     ]
    },
    {
     "name": "stderr",
     "output_type": "stream",
     "text": [
      "INFO:smac.intensification.intensification.Intensifier:Wallclock time limit for intensification reached (used: 87.703481 sec, available: 0.000010 sec)\n"
     ]
    },
    {
     "name": "stdout",
     "output_type": "stream",
     "text": [
      "\n",
      "Surrogate Cost:  66.0\n",
      "Surrogate Final State:  [-0.00957344 -0.0056068  -0.0042775  -0.00019117]\n",
      "use_cuda=True\n",
      "MLP Using Cuda\n",
      "hidden_sizes= [244, 142]\n",
      "100%|██████████| 50/50 [01:24<00:00,  1.68s/it]\n",
      "Simulating Surrogate Trajectory: \n",
      " 99%|█████████▉| 198/200 [00:28<00:00,  6.88it/s]"
     ]
    },
    {
     "name": "stderr",
     "output_type": "stream",
     "text": [
      "INFO:smac.intensification.intensification.Intensifier:Wallclock time limit for intensification reached (used: 112.858000 sec, available: 0.000010 sec)\n"
     ]
    },
    {
     "name": "stdout",
     "output_type": "stream",
     "text": [
      "\n",
      "Surrogate Cost:  65.0\n",
      "Surrogate Final State:  [-0.00934426 -0.0050545   0.01125939  0.00084509]\n",
      "use_cuda=True\n",
      "MLP Using Cuda\n",
      "hidden_sizes= [246, 128]\n",
      "100%|██████████| 50/50 [01:21<00:00,  1.64s/it]\n",
      "Simulating Surrogate Trajectory: \n",
      " 99%|█████████▉| 198/200 [00:19<00:00, 10.01it/s]"
     ]
    },
    {
     "name": "stderr",
     "output_type": "stream",
     "text": [
      "INFO:smac.intensification.intensification.Intensifier:Wallclock time limit for intensification reached (used: 101.558946 sec, available: 0.000010 sec)\n"
     ]
    },
    {
     "name": "stdout",
     "output_type": "stream",
     "text": [
      "\n",
      "Surrogate Cost:  170.0\n",
      "Surrogate Final State:  [-0.00932546 -0.00448277 -0.20042618  0.00102154]\n",
      "use_cuda=True\n",
      "MLP Using Cuda\n",
      "hidden_sizes= [251, 128]\n",
      "100%|██████████| 50/50 [01:23<00:00,  1.67s/it]\n",
      "Simulating Surrogate Trajectory: \n",
      " 99%|█████████▉| 198/200 [00:18<00:00, 10.45it/s]"
     ]
    },
    {
     "name": "stderr",
     "output_type": "stream",
     "text": [
      "INFO:smac.intensification.intensification.Intensifier:Wallclock time limit for intensification reached (used: 102.427680 sec, available: 0.000010 sec)\n"
     ]
    },
    {
     "name": "stdout",
     "output_type": "stream",
     "text": [
      "\n",
      "Surrogate Cost:  86.0\n",
      "Surrogate Final State:  [-0.00986754 -0.00467412 -0.03940543 -0.00088709]\n",
      "use_cuda=True\n",
      "MLP Using Cuda\n",
      "hidden_sizes= [239, 128, 136]\n",
      "100%|██████████| 50/50 [01:44<00:00,  2.08s/it]\n",
      "Simulating Surrogate Trajectory: \n",
      " 99%|█████████▉| 198/200 [00:32<00:00,  6.05it/s]"
     ]
    },
    {
     "name": "stderr",
     "output_type": "stream",
     "text": [
      "INFO:smac.intensification.intensification.Intensifier:Wallclock time limit for intensification reached (used: 136.980939 sec, available: 0.000010 sec)\n"
     ]
    },
    {
     "name": "stdout",
     "output_type": "stream",
     "text": [
      "\n",
      "Surrogate Cost:  63.0\n",
      "Surrogate Final State:  [-0.00937351 -0.00453293 -0.16214687  0.00097161]\n",
      "use_cuda=True\n",
      "MLP Using Cuda\n",
      "hidden_sizes= [240, 158]\n",
      "100%|██████████| 50/50 [01:23<00:00,  1.67s/it]\n",
      "Simulating Surrogate Trajectory: \n",
      " 99%|█████████▉| 198/200 [00:37<00:00,  5.27it/s]"
     ]
    },
    {
     "name": "stderr",
     "output_type": "stream",
     "text": [
      "INFO:smac.intensification.intensification.Intensifier:Wallclock time limit for intensification reached (used: 121.217752 sec, available: 0.000010 sec)\n"
     ]
    },
    {
     "name": "stdout",
     "output_type": "stream",
     "text": [
      "\n",
      "Surrogate Cost:  200.0\n",
      "Surrogate Final State:  [-9.57281422e-03 -4.44422429e-03  8.01560804e-01  2.06555924e-04]\n",
      "use_cuda=True\n",
      "MLP Using Cuda\n",
      "hidden_sizes= [238, 98, 131]\n",
      "100%|██████████| 50/50 [01:44<00:00,  2.09s/it]\n",
      "Simulating Surrogate Trajectory: \n",
      " 99%|█████████▉| 198/200 [00:24<00:00,  8.03it/s]"
     ]
    },
    {
     "name": "stderr",
     "output_type": "stream",
     "text": [
      "INFO:smac.intensification.intensification.Intensifier:Wallclock time limit for intensification reached (used: 129.328230 sec, available: 0.000010 sec)\n"
     ]
    },
    {
     "name": "stdout",
     "output_type": "stream",
     "text": [
      "\n",
      "Surrogate Cost:  171.0\n",
      "Surrogate Final State:  [-0.00985197 -0.00453618  0.21147281  0.00121793]\n",
      "use_cuda=True\n",
      "MLP Using Cuda\n",
      "hidden_sizes= [238, 128]\n",
      "100%|██████████| 50/50 [01:24<00:00,  1.68s/it]\n",
      "Simulating Surrogate Trajectory: \n",
      " 99%|█████████▉| 198/200 [00:14<00:00, 13.50it/s]"
     ]
    },
    {
     "name": "stderr",
     "output_type": "stream",
     "text": [
      "INFO:smac.intensification.intensification.Intensifier:Wallclock time limit for intensification reached (used: 98.869427 sec, available: 0.000010 sec)\n"
     ]
    },
    {
     "name": "stdout",
     "output_type": "stream",
     "text": [
      "\n",
      "Surrogate Cost:  58.0\n",
      "Surrogate Final State:  [-0.00961794 -0.00451206  0.02835788  0.00113135]\n",
      "use_cuda=True\n",
      "MLP Using Cuda\n",
      "hidden_sizes= [121]\n",
      "100%|██████████| 50/50 [01:02<00:00,  1.24s/it]\n",
      "Simulating Surrogate Trajectory: \n",
      " 99%|█████████▉| 198/200 [00:46<00:00,  4.27it/s]"
     ]
    },
    {
     "name": "stderr",
     "output_type": "stream",
     "text": [
      "INFO:smac.intensification.intensification.Intensifier:Wallclock time limit for intensification reached (used: 108.559066 sec, available: 0.000010 sec)\n"
     ]
    },
    {
     "name": "stdout",
     "output_type": "stream",
     "text": [
      "\n",
      "Surrogate Cost:  200.0\n",
      "Surrogate Final State:  [ 0.47969279  0.0020866   0.30517745 -1.04845347]\n",
      "use_cuda=True\n",
      "MLP Using Cuda\n",
      "hidden_sizes= [237, 123]\n",
      "100%|██████████| 50/50 [01:22<00:00,  1.65s/it]\n",
      "Simulating Surrogate Trajectory: \n",
      " 99%|█████████▉| 198/200 [00:37<00:00,  5.30it/s]"
     ]
    },
    {
     "name": "stderr",
     "output_type": "stream",
     "text": [
      "INFO:smac.intensification.intensification.Intensifier:Wallclock time limit for intensification reached (used: 120.093331 sec, available: 0.000010 sec)\n"
     ]
    },
    {
     "name": "stdout",
     "output_type": "stream",
     "text": [
      "\n",
      "Surrogate Cost:  198.0\n",
      "Surrogate Final State:  [-3.67465021e-04  3.36142755e-02  5.56523648e-01  8.76022297e-02]\n",
      "use_cuda=True\n",
      "MLP Using Cuda\n",
      "hidden_sizes= [239, 142, 127, 134]\n",
      "100%|██████████| 50/50 [02:14<00:00,  2.69s/it]\n",
      "Simulating Surrogate Trajectory: \n",
      " 99%|█████████▉| 198/200 [00:38<00:00,  5.17it/s]"
     ]
    },
    {
     "name": "stderr",
     "output_type": "stream",
     "text": [
      "INFO:smac.intensification.intensification.Intensifier:Wallclock time limit for intensification reached (used: 173.013360 sec, available: 0.000010 sec)\n"
     ]
    },
    {
     "name": "stdout",
     "output_type": "stream",
     "text": [
      "\n",
      "Surrogate Cost:  200.0\n",
      "Surrogate Final State:  [ 0.27722981 -0.7078165  -1.91874169 -3.32897698]\n",
      "use_cuda=True\n",
      "MLP Using Cuda\n",
      "hidden_sizes= [238]\n",
      "100%|██████████| 50/50 [01:01<00:00,  1.23s/it]\n",
      "Simulating Surrogate Trajectory: \n",
      " 99%|█████████▉| 198/200 [00:30<00:00,  6.45it/s]"
     ]
    },
    {
     "name": "stderr",
     "output_type": "stream",
     "text": [
      "INFO:smac.intensification.intensification.Intensifier:Wallclock time limit for intensification reached (used: 92.460999 sec, available: 0.000010 sec)\n"
     ]
    },
    {
     "name": "stdout",
     "output_type": "stream",
     "text": [
      "\n",
      "Surrogate Cost:  200.0\n",
      "Surrogate Final State:  [-0.13508675 -0.00877295 -1.29601328  0.69647601]\n",
      "use_cuda=True\n",
      "MLP Using Cuda\n",
      "hidden_sizes= [59, 151]\n",
      "100%|██████████| 50/50 [01:25<00:00,  1.72s/it]\n",
      "Simulating Surrogate Trajectory: \n",
      " 99%|█████████▉| 198/200 [00:07<00:00, 26.14it/s]"
     ]
    },
    {
     "name": "stderr",
     "output_type": "stream",
     "text": [
      "INFO:smac.intensification.intensification.Intensifier:Wallclock time limit for intensification reached (used: 93.507876 sec, available: 0.000010 sec)\n"
     ]
    },
    {
     "name": "stdout",
     "output_type": "stream",
     "text": [
      "\n",
      "Surrogate Cost:  200.0\n",
      "Surrogate Final State:  [ 3.11794035e+00 -8.75912356e-03  1.26171048e+01  2.57287737e+00]\n",
      "use_cuda=True\n",
      "MLP Using Cuda\n",
      "hidden_sizes= [243, 106, 128]\n",
      "100%|██████████| 50/50 [01:49<00:00,  2.20s/it]\n",
      "Simulating Surrogate Trajectory: \n",
      " 99%|█████████▉| 198/200 [01:34<00:00,  2.10it/s]"
     ]
    },
    {
     "name": "stderr",
     "output_type": "stream",
     "text": [
      "INFO:smac.intensification.intensification.Intensifier:Wallclock time limit for intensification reached (used: 204.238667 sec, available: 0.000010 sec)\n"
     ]
    },
    {
     "name": "stdout",
     "output_type": "stream",
     "text": [
      "\n",
      "Surrogate Cost:  199.0\n",
      "Surrogate Final State:  [-0.11132696 -0.05979943  0.68844346 -0.15699446]\n",
      "use_cuda=True\n",
      "MLP Using Cuda\n",
      "hidden_sizes= [238, 128]\n",
      "100%|██████████| 50/50 [01:26<00:00,  1.73s/it]\n",
      "Simulating Surrogate Trajectory: \n",
      " 99%|█████████▉| 198/200 [00:14<00:00, 14.09it/s]"
     ]
    },
    {
     "name": "stderr",
     "output_type": "stream",
     "text": [
      "INFO:smac.intensification.intensification.Intensifier:Challenger (54.0000) is better than incumbent (55.0000) on 1 runs.\n",
      "INFO:smac.intensification.intensification.Intensifier:Changes in incumbent:\n",
      "INFO:smac.intensification.intensification.Intensifier:  _cost:dx_F : 65.24806984386902 -> 33.6356525523436\n",
      "INFO:smac.intensification.intensification.Intensifier:  _cost:dx_Q : 0.002310163609770474 -> 0.0013622084435760135\n",
      "INFO:smac.intensification.intensification.Intensifier:  _cost:omega_Q : 0.014156948325638843 -> 0.01869440877657144\n",
      "INFO:smac.intensification.intensification.Intensifier:  _cost:u_R : 7.634750040083289 -> 7.7417556278179624\n",
      "INFO:smac.intensification.intensification.Intensifier:  _cost:x_Q : 0.22635704855130792 -> 0.009056379979656125\n",
      "INFO:smac.intensification.intensification.Intensifier:  _ctrlr:horizon : 23 -> 20\n",
      "INFO:smac.intensification.intensification.Intensifier:Wallclock time limit for intensification reached (used: 100.497106 sec, available: 0.000010 sec)\n"
     ]
    },
    {
     "name": "stdout",
     "output_type": "stream",
     "text": [
      "\n",
      "Surrogate Cost:  54.0\n",
      "Surrogate Final State:  [-0.00959364 -0.00450856  0.00918405  0.0011235 ]\n",
      "use_cuda=True\n",
      "MLP Using Cuda\n",
      "hidden_sizes= [201]\n",
      "100%|██████████| 50/50 [01:01<00:00,  1.22s/it]\n",
      "Simulating Surrogate Trajectory: \n",
      " 99%|█████████▉| 198/200 [00:46<00:00,  4.26it/s]"
     ]
    },
    {
     "name": "stderr",
     "output_type": "stream",
     "text": [
      "INFO:smac.intensification.intensification.Intensifier:Wallclock time limit for intensification reached (used: 107.629081 sec, available: 0.000010 sec)\n"
     ]
    },
    {
     "name": "stdout",
     "output_type": "stream",
     "text": [
      "\n",
      "Surrogate Cost:  200.0\n",
      "Surrogate Final State:  [3.23697755 0.2790962  0.07070098 0.0385979 ]\n",
      "use_cuda=True\n",
      "MLP Using Cuda\n",
      "hidden_sizes= [253, 139]\n",
      "100%|██████████| 50/50 [01:24<00:00,  1.70s/it]\n",
      "Simulating Surrogate Trajectory: \n",
      " 99%|█████████▉| 198/200 [00:18<00:00, 10.77it/s]"
     ]
    },
    {
     "name": "stderr",
     "output_type": "stream",
     "text": [
      "INFO:smac.intensification.intensification.Intensifier:Wallclock time limit for intensification reached (used: 103.399887 sec, available: 0.000010 sec)\n"
     ]
    },
    {
     "name": "stdout",
     "output_type": "stream",
     "text": [
      "\n",
      "Surrogate Cost:  58.0\n",
      "Surrogate Final State:  [-0.00952996 -0.00450177 -0.04108222  0.00109779]\n",
      "use_cuda=True\n",
      "MLP Using Cuda\n",
      "hidden_sizes= [238, 128]\n",
      "100%|██████████| 50/50 [01:24<00:00,  1.69s/it]\n",
      "Simulating Surrogate Trajectory: \n",
      " 99%|█████████▉| 198/200 [00:12<00:00, 15.35it/s]"
     ]
    },
    {
     "name": "stderr",
     "output_type": "stream",
     "text": [
      "INFO:smac.intensification.intensification.Intensifier:Wallclock time limit for intensification reached (used: 97.458515 sec, available: 0.000010 sec)\n"
     ]
    },
    {
     "name": "stdout",
     "output_type": "stream",
     "text": [
      "\n",
      "Surrogate Cost:  54.0\n",
      "Surrogate Final State:  [-0.00959112 -0.00450814  0.00707823  0.00112165]\n",
      "use_cuda=True\n",
      "MLP Using Cuda\n",
      "hidden_sizes= [248, 128]\n",
      "100%|██████████| 50/50 [01:26<00:00,  1.72s/it]\n",
      "Simulating Surrogate Trajectory: \n",
      " 99%|█████████▉| 198/200 [00:31<00:00,  6.34it/s]"
     ]
    },
    {
     "name": "stderr",
     "output_type": "stream",
     "text": [
      "INFO:smac.intensification.intensification.Intensifier:Wallclock time limit for intensification reached (used: 117.499775 sec, available: 0.000010 sec)\n"
     ]
    },
    {
     "name": "stdout",
     "output_type": "stream",
     "text": [
      "\n",
      "Surrogate Cost:  200.0\n",
      "Surrogate Final State:  [-0.00938045  0.00431532 -0.66115156  0.01480104]\n",
      "use_cuda=True\n",
      "MLP Using Cuda\n",
      "hidden_sizes= [204]\n",
      "100%|██████████| 50/50 [01:02<00:00,  1.25s/it]\n",
      "Simulating Surrogate Trajectory: \n",
      " 99%|█████████▉| 198/200 [00:06<00:00, 29.45it/s]"
     ]
    },
    {
     "name": "stderr",
     "output_type": "stream",
     "text": [
      "INFO:smac.intensification.intensification.Intensifier:Wallclock time limit for intensification reached (used: 69.036461 sec, available: 0.000010 sec)\n"
     ]
    },
    {
     "name": "stdout",
     "output_type": "stream",
     "text": [
      "\n",
      "Surrogate Cost:  200.0\n",
      "Surrogate Final State:  [ 3.147327   -0.01022038 -0.79176907 -0.01081018]\n",
      "use_cuda=True\n",
      "MLP Using Cuda\n",
      "hidden_sizes= [115, 61, 33]\n",
      "100%|██████████| 50/50 [01:49<00:00,  2.19s/it]\n",
      "Simulating Surrogate Trajectory: \n",
      " 99%|█████████▉| 198/200 [00:08<00:00, 23.38it/s]"
     ]
    },
    {
     "name": "stderr",
     "output_type": "stream",
     "text": [
      "INFO:smac.intensification.intensification.Intensifier:Wallclock time limit for intensification reached (used: 118.083888 sec, available: 0.000010 sec)\n"
     ]
    },
    {
     "name": "stdout",
     "output_type": "stream",
     "text": [
      "\n",
      "Surrogate Cost:  200.0\n",
      "Surrogate Final State:  [ 3.14930423 -0.01128503 -0.16815334  0.00814196]\n",
      "use_cuda=True\n",
      "MLP Using Cuda\n",
      "hidden_sizes= [236, 127]\n",
      "100%|██████████| 50/50 [01:26<00:00,  1.73s/it]\n",
      "Simulating Surrogate Trajectory: \n",
      " 99%|█████████▉| 198/200 [00:11<00:00, 16.90it/s]"
     ]
    },
    {
     "name": "stderr",
     "output_type": "stream",
     "text": [
      "INFO:smac.intensification.intensification.Intensifier:Wallclock time limit for intensification reached (used: 98.236709 sec, available: 0.000010 sec)\n"
     ]
    },
    {
     "name": "stdout",
     "output_type": "stream",
     "text": [
      "\n",
      "Surrogate Cost:  61.0\n",
      "Surrogate Final State:  [-0.00939197 -0.00448888 -0.1483885   0.00104794]\n",
      "use_cuda=True\n",
      "MLP Using Cuda\n",
      "hidden_sizes= [238, 138]\n",
      "100%|██████████| 50/50 [01:27<00:00,  1.75s/it]\n",
      "Simulating Surrogate Trajectory: \n",
      " 99%|█████████▉| 198/200 [00:30<00:00,  6.44it/s]"
     ]
    },
    {
     "name": "stderr",
     "output_type": "stream",
     "text": [
      "INFO:smac.intensification.intensification.Intensifier:Wallclock time limit for intensification reached (used: 118.161878 sec, available: 0.000010 sec)\n"
     ]
    },
    {
     "name": "stdout",
     "output_type": "stream",
     "text": [
      "\n",
      "Surrogate Cost:  200.0\n",
      "Surrogate Final State:  [ 1.88539918  3.40708787 -3.03153732 -5.18123201]\n",
      "use_cuda=True\n",
      "MLP Using Cuda\n",
      "hidden_sizes= [31, 191]\n",
      "100%|██████████| 50/50 [01:26<00:00,  1.73s/it]\n",
      "Simulating Surrogate Trajectory: \n",
      " 99%|█████████▉| 198/200 [00:08<00:00, 24.20it/s]"
     ]
    },
    {
     "name": "stderr",
     "output_type": "stream",
     "text": [
      "INFO:smac.intensification.intensification.Intensifier:Wallclock time limit for intensification reached (used: 94.912809 sec, available: 0.000010 sec)\n"
     ]
    },
    {
     "name": "stdout",
     "output_type": "stream",
     "text": [
      "\n",
      "Surrogate Cost:  200.0\n",
      "Surrogate Final State:  [ 3.15092955 -0.00884669  0.02733571  0.00697554]\n",
      "use_cuda=True\n",
      "MLP Using Cuda\n",
      "hidden_sizes= [238, 129]\n",
      "100%|██████████| 50/50 [01:27<00:00,  1.74s/it]\n",
      "Simulating Surrogate Trajectory: \n",
      " 99%|█████████▉| 198/200 [00:47<00:00,  4.15it/s]"
     ]
    },
    {
     "name": "stderr",
     "output_type": "stream",
     "text": [
      "INFO:smac.intensification.intensification.Intensifier:Wallclock time limit for intensification reached (used: 134.987072 sec, available: 0.000010 sec)\n"
     ]
    },
    {
     "name": "stdout",
     "output_type": "stream",
     "text": [
      "\n",
      "Surrogate Cost:  200.0\n",
      "Surrogate Final State:  [-8.94599612e-03 -4.70155444e-03 -5.53522696e-01  1.34401771e-04]\n",
      "use_cuda=True\n",
      "MLP Using Cuda\n",
      "hidden_sizes= [240, 136]\n",
      "100%|██████████| 50/50 [01:26<00:00,  1.73s/it]\n",
      "Simulating Surrogate Trajectory: \n",
      " 99%|█████████▉| 198/200 [00:25<00:00,  7.65it/s]"
     ]
    },
    {
     "name": "stderr",
     "output_type": "stream",
     "text": [
      "INFO:smac.intensification.intensification.Intensifier:Wallclock time limit for intensification reached (used: 112.383737 sec, available: 0.000010 sec)\n"
     ]
    },
    {
     "name": "stdout",
     "output_type": "stream",
     "text": [
      "\n",
      "Surrogate Cost:  95.0\n",
      "Surrogate Final State:  [-0.00919786 -0.00542143  0.16257488  0.00188169]\n",
      "use_cuda=True\n",
      "MLP Using Cuda\n",
      "hidden_sizes= [236, 136]\n",
      "100%|██████████| 50/50 [01:26<00:00,  1.73s/it]\n",
      "Simulating Surrogate Trajectory: \n",
      " 99%|█████████▉| 198/200 [00:29<00:00,  6.81it/s]"
     ]
    },
    {
     "name": "stderr",
     "output_type": "stream",
     "text": [
      "INFO:smac.intensification.intensification.Intensifier:Wallclock time limit for intensification reached (used: 115.752036 sec, available: 0.000010 sec)\n"
     ]
    },
    {
     "name": "stdout",
     "output_type": "stream",
     "text": [
      "\n",
      "Surrogate Cost:  150.0\n",
      "Surrogate Final State:  [-0.01145686 -0.00291427  0.07145314 -0.00702116]\n",
      "use_cuda=True\n",
      "MLP Using Cuda\n",
      "hidden_sizes= [238, 130]\n",
      "100%|██████████| 50/50 [01:26<00:00,  1.73s/it]\n",
      "Simulating Surrogate Trajectory: \n",
      " 99%|█████████▉| 198/200 [00:27<00:00,  7.28it/s]"
     ]
    },
    {
     "name": "stderr",
     "output_type": "stream",
     "text": [
      "INFO:smac.intensification.intensification.Intensifier:Wallclock time limit for intensification reached (used: 113.818861 sec, available: 0.000010 sec)\n"
     ]
    },
    {
     "name": "stdout",
     "output_type": "stream",
     "text": [
      "\n",
      "Surrogate Cost:  178.0\n",
      "Surrogate Final State:  [-0.00924524 -0.00446512 -0.20246462  0.00118581]\n",
      "use_cuda=True\n",
      "MLP Using Cuda\n",
      "hidden_sizes= [238, 129]\n",
      "100%|██████████| 50/50 [01:27<00:00,  1.75s/it]\n",
      "Simulating Surrogate Trajectory: \n",
      " 99%|█████████▉| 198/200 [00:17<00:00, 11.55it/s]"
     ]
    },
    {
     "name": "stderr",
     "output_type": "stream",
     "text": [
      "INFO:smac.intensification.intensification.Intensifier:Wallclock time limit for intensification reached (used: 104.468036 sec, available: 0.000010 sec)\n"
     ]
    },
    {
     "name": "stdout",
     "output_type": "stream",
     "text": [
      "\n",
      "Surrogate Cost:  56.0\n",
      "Surrogate Final State:  [-0.00939431 -0.00448783 -0.14655173  0.00105078]\n",
      "use_cuda=True\n",
      "MLP Using Cuda\n",
      "hidden_sizes= [238, 128, 128]\n",
      "100%|██████████| 50/50 [01:51<00:00,  2.22s/it]\n",
      "Simulating Surrogate Trajectory: \n",
      " 99%|█████████▉| 198/200 [00:20<00:00,  9.73it/s]"
     ]
    },
    {
     "name": "stderr",
     "output_type": "stream",
     "text": [
      "INFO:smac.intensification.intensification.Intensifier:Wallclock time limit for intensification reached (used: 131.587650 sec, available: 0.000010 sec)\n"
     ]
    },
    {
     "name": "stdout",
     "output_type": "stream",
     "text": [
      "\n",
      "Surrogate Cost:  123.0\n",
      "Surrogate Final State:  [-9.34382568e-03 -5.81377947e-03  1.95561713e-01  9.21339768e-05]\n",
      "use_cuda=True\n",
      "MLP Using Cuda\n",
      "hidden_sizes= [241, 128]\n",
      "100%|██████████| 50/50 [01:26<00:00,  1.73s/it]\n",
      "Simulating Surrogate Trajectory: \n",
      " 99%|█████████▉| 198/200 [00:13<00:00, 15.13it/s]"
     ]
    },
    {
     "name": "stderr",
     "output_type": "stream",
     "text": [
      "INFO:smac.intensification.intensification.Intensifier:Wallclock time limit for intensification reached (used: 99.670673 sec, available: 0.000010 sec)\n"
     ]
    },
    {
     "name": "stdout",
     "output_type": "stream",
     "text": [
      "\n",
      "Surrogate Cost:  59.0\n",
      "Surrogate Final State:  [-0.00808719  0.00493584 -0.11033472  0.01571535]\n",
      "use_cuda=True\n",
      "MLP Using Cuda\n",
      "hidden_sizes= [245, 129]\n",
      "100%|██████████| 50/50 [01:26<00:00,  1.73s/it]\n",
      "Simulating Surrogate Trajectory: \n",
      " 99%|█████████▉| 198/200 [00:14<00:00, 13.97it/s]"
     ]
    },
    {
     "name": "stderr",
     "output_type": "stream",
     "text": [
      "INFO:smac.intensification.intensification.Intensifier:Wallclock time limit for intensification reached (used: 100.714931 sec, available: 0.000010 sec)\n"
     ]
    },
    {
     "name": "stdout",
     "output_type": "stream",
     "text": [
      "\n",
      "Surrogate Cost:  61.0\n",
      "Surrogate Final State:  [-0.00951781 -0.00449982 -0.05011234  0.00109737]\n",
      "use_cuda=True\n",
      "MLP Using Cuda\n",
      "hidden_sizes= [251]\n",
      "100%|██████████| 50/50 [01:03<00:00,  1.27s/it]\n",
      "Simulating Surrogate Trajectory: \n",
      " 99%|█████████▉| 198/200 [00:20<00:00,  9.85it/s]"
     ]
    },
    {
     "name": "stderr",
     "output_type": "stream",
     "text": [
      "INFO:smac.intensification.intensification.Intensifier:Wallclock time limit for intensification reached (used: 83.641952 sec, available: 0.000010 sec)\n"
     ]
    },
    {
     "name": "stdout",
     "output_type": "stream",
     "text": [
      "\n",
      "Surrogate Cost:  109.0\n",
      "Surrogate Final State:  [-0.00922041 -0.00359974  0.01465686  0.00448885]\n",
      "use_cuda=True\n",
      "MLP Using Cuda\n",
      "hidden_sizes= [238, 128]\n",
      "100%|██████████| 50/50 [01:26<00:00,  1.72s/it]\n",
      "Simulating Surrogate Trajectory: \n",
      " 99%|█████████▉| 198/200 [00:39<00:00,  4.98it/s]"
     ]
    },
    {
     "name": "stderr",
     "output_type": "stream",
     "text": [
      "INFO:smac.intensification.intensification.Intensifier:Wallclock time limit for intensification reached (used: 125.983173 sec, available: 0.000010 sec)\n"
     ]
    },
    {
     "name": "stdout",
     "output_type": "stream",
     "text": [
      "\n",
      "Surrogate Cost:  80.0\n",
      "Surrogate Final State:  [-0.00908701 -0.00486738  0.07499593  0.00338713]\n",
      "use_cuda=True\n",
      "MLP Using Cuda\n",
      "hidden_sizes= [238, 128]\n",
      "100%|██████████| 50/50 [01:26<00:00,  1.73s/it]\n",
      "Simulating Surrogate Trajectory: \n",
      " 99%|█████████▉| 198/200 [00:18<00:00, 10.85it/s]"
     ]
    },
    {
     "name": "stderr",
     "output_type": "stream",
     "text": [
      "INFO:smac.intensification.intensification.Intensifier:Wallclock time limit for intensification reached (used: 104.570589 sec, available: 0.000010 sec)\n"
     ]
    },
    {
     "name": "stdout",
     "output_type": "stream",
     "text": [
      "\n",
      "Surrogate Cost:  54.0\n",
      "Surrogate Final State:  [-0.00965909 -0.00451612  0.06050549  0.00114654]\n",
      "use_cuda=True\n",
      "MLP Using Cuda\n",
      "hidden_sizes= [238, 128]\n",
      "100%|██████████| 50/50 [01:26<00:00,  1.72s/it]\n",
      "Simulating Surrogate Trajectory: \n",
      " 99%|█████████▉| 198/200 [00:16<00:00, 11.67it/s]"
     ]
    },
    {
     "name": "stderr",
     "output_type": "stream",
     "text": [
      "INFO:smac.intensification.intensification.Intensifier:Wallclock time limit for intensification reached (used: 102.995141 sec, available: 0.000010 sec)\n"
     ]
    },
    {
     "name": "stdout",
     "output_type": "stream",
     "text": [
      "\n",
      "Surrogate Cost:  54.0\n",
      "Surrogate Final State:  [-0.00964843 -0.00451658  0.05244309  0.00114109]\n",
      "use_cuda=True\n",
      "MLP Using Cuda\n",
      "hidden_sizes= [238, 110, 127]\n",
      "100%|██████████| 50/50 [01:51<00:00,  2.23s/it]\n",
      "Simulating Surrogate Trajectory: \n",
      " 99%|█████████▉| 198/200 [00:30<00:00,  6.50it/s]"
     ]
    },
    {
     "name": "stderr",
     "output_type": "stream",
     "text": [
      "INFO:smac.intensification.intensification.Intensifier:Wallclock time limit for intensification reached (used: 141.756147 sec, available: 0.000010 sec)\n"
     ]
    },
    {
     "name": "stdout",
     "output_type": "stream",
     "text": [
      "\n",
      "Surrogate Cost:  97.0\n",
      "Surrogate Final State:  [-0.03425937  0.0557601   0.06499224  0.04779628]\n",
      "use_cuda=True\n",
      "MLP Using Cuda\n",
      "hidden_sizes= [238, 129]\n",
      "100%|██████████| 50/50 [01:25<00:00,  1.72s/it]\n",
      "Simulating Surrogate Trajectory: \n",
      " 99%|█████████▉| 198/200 [00:18<00:00, 10.95it/s]"
     ]
    },
    {
     "name": "stderr",
     "output_type": "stream",
     "text": [
      "INFO:smac.intensification.intensification.Intensifier:Wallclock time limit for intensification reached (used: 104.068414 sec, available: 0.000010 sec)\n"
     ]
    },
    {
     "name": "stdout",
     "output_type": "stream",
     "text": [
      "\n",
      "Surrogate Cost:  200.0\n",
      "Surrogate Final State:  [-0.00990967 -0.00454148  0.25667992  0.00124068]\n",
      "use_cuda=True\n",
      "MLP Using Cuda\n",
      "hidden_sizes= [214, 201]\n",
      "100%|██████████| 50/50 [01:26<00:00,  1.72s/it]\n",
      "Simulating Surrogate Trajectory: \n",
      " 99%|█████████▉| 198/200 [02:00<00:01,  1.64it/s]"
     ]
    },
    {
     "name": "stderr",
     "output_type": "stream",
     "text": [
      "INFO:smac.intensification.intensification.Intensifier:Wallclock time limit for intensification reached (used: 206.486963 sec, available: 0.000010 sec)\n"
     ]
    },
    {
     "name": "stdout",
     "output_type": "stream",
     "text": [
      "\n",
      "Surrogate Cost:  200.0\n",
      "Surrogate Final State:  [3.07377729 0.03142495 2.93310611 0.69010844]\n",
      "use_cuda=True\n",
      "MLP Using Cuda\n",
      "hidden_sizes= [238, 128]\n",
      "100%|██████████| 50/50 [01:25<00:00,  1.72s/it]\n",
      "Simulating Surrogate Trajectory: \n",
      " 99%|█████████▉| 198/200 [00:18<00:00, 10.90it/s]"
     ]
    },
    {
     "name": "stderr",
     "output_type": "stream",
     "text": [
      "INFO:smac.intensification.intensification.Intensifier:Wallclock time limit for intensification reached (used: 104.038280 sec, available: 0.000010 sec)\n"
     ]
    },
    {
     "name": "stdout",
     "output_type": "stream",
     "text": [
      "\n",
      "Surrogate Cost:  63.0\n",
      "Surrogate Final State:  [-0.00941103 -0.00449236 -0.13345293  0.00105161]\n",
      "use_cuda=True\n",
      "MLP Using Cuda\n",
      "hidden_sizes= [255, 128]\n",
      "100%|██████████| 50/50 [01:27<00:00,  1.74s/it]\n",
      "Simulating Surrogate Trajectory: \n",
      " 99%|█████████▉| 198/200 [00:19<00:00, 10.37it/s]"
     ]
    },
    {
     "name": "stderr",
     "output_type": "stream",
     "text": [
      "INFO:smac.intensification.intensification.Intensifier:Wallclock time limit for intensification reached (used: 106.163151 sec, available: 0.000010 sec)\n",
      "INFO:smac.stats.stats.Stats:##########################################################\n",
      "INFO:smac.stats.stats.Stats:Statistics:\n",
      "INFO:smac.stats.stats.Stats:#Incumbent changed: 4\n",
      "INFO:smac.stats.stats.Stats:#Submitted target algorithm runs: 100 / 100.0\n",
      "INFO:smac.stats.stats.Stats:#Finished target algorithm runs: 100 / 100.0\n",
      "INFO:smac.stats.stats.Stats:#Configurations: 100\n",
      "INFO:smac.stats.stats.Stats:Used wallclock time: 12363.24 / inf sec \n",
      "INFO:smac.stats.stats.Stats:Used target algorithm runtime: 12229.17 / inf sec\n",
      "INFO:smac.stats.stats.Stats:##########################################################\n",
      "INFO:smac.facade.smac_hpo_facade.SMAC4HPO:Final Incumbent: Configuration:\n",
      "  _cost:dx_F, Value: 33.6356525523436\n",
      "  _cost:dx_Q, Value: 0.0013622084435760135\n",
      "  _cost:omega_F, Value: 1.3519710652415837\n",
      "  _cost:omega_Q, Value: 0.01869440877657144\n",
      "  _cost:theta_F, Value: 5384.822675488608\n",
      "  _cost:theta_Q, Value: 6120.346672377408\n",
      "  _cost:u_R, Value: 7.7417556278179624\n",
      "  _cost:x_F, Value: 8300.504607508154\n",
      "  _cost:x_Q, Value: 0.009056379979656125\n",
      "  _ctrlr:horizon, Value: 20\n",
      "  _model:hidden_size_1, Value: 238\n",
      "  _model:hidden_size_2, Value: 128\n",
      "  _model:lr, Value: 0.008067296191642426\n",
      "  _model:n_hidden_layers, Value: '2'\n",
      "  _model:nonlintype, Value: 'relu'\n",
      "\n",
      "INFO:smac.facade.smac_hpo_facade.SMAC4HPO:Estimated cost of incumbent: 54.000000\n"
     ]
    },
    {
     "name": "stdout",
     "output_type": "stream",
     "text": [
      "\n",
      "Surrogate Cost:  74.0\n",
      "Surrogate Final State:  [-0.00711933  0.0564036  -0.14651211  0.08580299]\n",
      "use_cuda=True\n",
      "MLP Using Cuda\n",
      "hidden_sizes= [238, 128]\n",
      "100%|██████████| 50/50 [01:26<00:00,  1.74s/it]\n"
     ]
    }
   ],
   "source": [
    "from autompc.tuning import PipelineTuner\n",
    "\n",
    "surrogate_factory = MLPFactory(system)\n",
    "tuner = PipelineTuner(surrogate_mode=\"defaultcfg\", surrogate_factory=surrogate_factory, surrogate_split=0.5)\n",
    "\n",
    "controller, tune_result = tuner.run(pipeline, task, trajs, n_iters=100, rng=np.random.default_rng(100))"
   ]
  },
  {
   "cell_type": "markdown",
   "metadata": {},
   "source": [
    "We can also set the configuration of the surrogate model."
   ]
  },
  {
   "cell_type": "code",
   "execution_count": 5,
   "metadata": {},
   "outputs": [
    {
     "name": "stderr",
     "output_type": "stream",
     "text": [
      "/home/william/.local/lib/python3.8/site-packages/numpy/core/_asarray.py:83: VisibleDeprecationWarning: Creating an ndarray from ragged nested sequences (which is a list-or-tuple of lists-or-tuples-or ndarrays with different lengths or shapes) is deprecated. If you meant to do this, you must specify 'dtype=object' when creating the ndarray\n",
      "  return array(a, dtype, copy=False, order=order)\n"
     ]
    },
    {
     "name": "stdout",
     "output_type": "stream",
     "text": [
      "use_cuda=True\n",
      "MLP Using Cuda\n",
      "hidden_sizes= [128, 128]\n",
      "100%|██████████| 50/50 [01:25<00:00,  1.71s/it]"
     ]
    },
    {
     "name": "stderr",
     "output_type": "stream",
     "text": [
      "INFO:smac.utils.io.cmd_reader.CMDReader:Output to smac3-output_2021-05-29_23:10:17_436873\n",
      "INFO:smac.facade.smac_hpo_facade.SMAC4HPO:Optimizing a deterministic scenario for quality without a tuner timeout - will make SMAC deterministic and only evaluate one configuration per iteration!\n",
      "INFO:smac.initial_design.sobol_design.SobolDesign:Running initial design for 25 configurations\n",
      "INFO:smac.facade.smac_hpo_facade.SMAC4HPO:<class 'smac.facade.smac_hpo_facade.SMAC4HPO'>\n",
      "INFO:smac.optimizer.smbo.SMBO:Running initial design\n",
      "INFO:smac.intensification.intensification.Intensifier:First run, no incumbent provided; challenger is assumed to be the incumbent\n"
     ]
    },
    {
     "name": "stdout",
     "output_type": "stream",
     "text": [
      "\n",
      "use_cuda=True\n",
      "MLP Using Cuda\n",
      "hidden_sizes= [136, 136, 136]\n",
      "100%|██████████| 50/50 [01:46<00:00,  2.12s/it]\n",
      "Simulating Surrogate Trajectory: \n",
      " 99%|█████████▉| 198/200 [00:12<00:00, 15.95it/s]\n",
      "Surrogate Cost:  200.0\n",
      "Surrogate Final State:  [ 3.16447529e+00 -1.86618074e-03  4.48800437e-02 -3.67070618e-02]\n",
      "Simulating True Dynamics Trajectory\n",
      " 99%|█████████▉| 198/200 [00:12<00:00, 16.06it/s]"
     ]
    },
    {
     "name": "stderr",
     "output_type": "stream",
     "text": [
      "INFO:smac.intensification.intensification.Intensifier:First run, no incumbent provided; challenger is assumed to be the incumbent\n",
      "INFO:smac.intensification.intensification.Intensifier:Updated estimated cost of incumbent on 1 runs: 200.0000\n"
     ]
    },
    {
     "name": "stdout",
     "output_type": "stream",
     "text": [
      "\n",
      "True Dynamics Cost:  200.0\n",
      "True Dynamics Final State:  [ 3.14147307e+00 -5.25928823e-04 -1.54829346e-01  1.75514009e-04]\n",
      "use_cuda=True\n",
      "MLP Using Cuda\n",
      "hidden_sizes= [76, 76]\n",
      "100%|██████████| 50/50 [01:25<00:00,  1.71s/it]\n",
      "Simulating Surrogate Trajectory: \n",
      "  4%|▍         | 9/200 [00:00<00:05, 35.55it/s]"
     ]
    },
    {
     "name": "stderr",
     "output_type": "stream",
     "text": [
      "/home/william/proj/autompc_dev/autompc/control/ilqr.py:535: RuntimeWarning: invalid value encountered in double_scalars\n",
      "  if (obj - new_obj) / (-expect_cost_reduction) > ls_cost_threshold:\n"
     ]
    },
    {
     "name": "stdout",
     "output_type": "stream",
     "text": [
      " 99%|█████████▉| 198/200 [00:05<00:00, 37.96it/s]\n",
      "Surrogate Cost:  200.0\n",
      "Surrogate Final State:  [ 3.15190839 -0.00761527  4.20540384  0.78507825]\n",
      "Simulating True Dynamics Trajectory\n",
      " 99%|█████████▉| 198/200 [00:05<00:00, 39.21it/s]"
     ]
    },
    {
     "name": "stderr",
     "output_type": "stream",
     "text": [
      "INFO:smac.intensification.intensification.Intensifier:Wallclock time limit for intensification reached (used: 226.809207 sec, available: 0.000010 sec)\n"
     ]
    },
    {
     "name": "stdout",
     "output_type": "stream",
     "text": [
      "\n",
      "True Dynamics Cost:  200.0\n",
      "True Dynamics Final State:  [ 3.13851311e+00 -1.40604318e-03  0.00000000e+00  0.00000000e+00]\n",
      "use_cuda=True\n",
      "MLP Using Cuda\n",
      "hidden_sizes= [196, 196, 76, 76]\n",
      "100%|██████████| 50/50 [02:15<00:00,  2.72s/it]\n",
      "Simulating Surrogate Trajectory: \n",
      " 99%|█████████▉| 198/200 [00:41<00:00,  4.78it/s]\n",
      "Surrogate Cost:  200.0\n",
      "Surrogate Final State:  [ 3.16456888e+00 -8.15588894e-04  1.10866692e-01 -3.67522015e-02]\n",
      "Simulating True Dynamics Trajectory\n",
      " 99%|█████████▉| 198/200 [00:41<00:00,  4.77it/s]"
     ]
    },
    {
     "name": "stderr",
     "output_type": "stream",
     "text": [
      "INFO:smac.intensification.intensification.Intensifier:Wallclock time limit for intensification reached (used: 218.759697 sec, available: 0.000010 sec)\n"
     ]
    },
    {
     "name": "stdout",
     "output_type": "stream",
     "text": [
      "\n",
      "True Dynamics Cost:  200.0\n",
      "True Dynamics Final State:  [ 3.14159189e+00 -2.90918756e-05  5.28054810e-03 -2.13330927e-05]\n",
      "use_cuda=True\n",
      "MLP Using Cuda\n",
      "hidden_sizes= [106]\n",
      "100%|██████████| 50/50 [01:00<00:00,  1.21s/it]\n",
      "Simulating Surrogate Trajectory: \n",
      " 99%|█████████▉| 198/200 [00:42<00:00,  4.62it/s]\n",
      "Surrogate Cost:  189.0\n",
      "Surrogate Final State:  [ 0.00973875 -0.04347662 -0.04251184 -0.5306367 ]\n",
      "Simulating True Dynamics Trajectory\n",
      " 99%|█████████▉| 198/200 [00:37<00:00,  5.30it/s]"
     ]
    },
    {
     "name": "stderr",
     "output_type": "stream",
     "text": [
      "INFO:smac.intensification.intensification.Intensifier:Challenger (189.0000) is better than incumbent (200.0000) on 1 runs.\n",
      "INFO:smac.intensification.intensification.Intensifier:Changes in incumbent:\n",
      "INFO:smac.intensification.intensification.Intensifier:  _cost:dx_F : 3.1622776601683813 -> 0.4216965034285823\n",
      "INFO:smac.intensification.intensification.Intensifier:  _cost:dx_Q : 3.1622776601683813 -> 0.4216965034285823\n",
      "INFO:smac.intensification.intensification.Intensifier:  _cost:omega_F : 3.1622776601683813 -> 23.713737056616576\n",
      "INFO:smac.intensification.intensification.Intensifier:  _cost:omega_Q : 3.1622776601683813 -> 0.007498942093324564\n",
      "INFO:smac.intensification.intensification.Intensifier:  _cost:theta_F : 3.1622776601683813 -> 1333.5214321633246\n",
      "INFO:smac.intensification.intensification.Intensifier:  _cost:theta_Q : 3.1622776601683813 -> 1333.5214321633246\n",
      "INFO:smac.intensification.intensification.Intensifier:  _cost:u_R : 3.1622776601683813 -> 0.007498942093324564\n",
      "INFO:smac.intensification.intensification.Intensifier:  _cost:x_F : 3.1622776601683813 -> 23.713737056616576\n",
      "INFO:smac.intensification.intensification.Intensifier:  _cost:x_Q : 3.1622776601683813 -> 0.007498942093324564\n",
      "INFO:smac.intensification.intensification.Intensifier:  _ctrlr:horizon : 15 -> 23\n",
      "INFO:smac.intensification.intensification.Intensifier:  _model:hidden_size_1 : 136 -> 106\n",
      "INFO:smac.intensification.intensification.Intensifier:  _model:lr : 0.003162277660168379 -> 0.013335214321633242\n",
      "INFO:smac.intensification.intensification.Intensifier:  _model:n_hidden_layers : '3' -> '1'\n",
      "INFO:smac.intensification.intensification.Intensifier:  _model:nonlintype : 'sigmoid' -> 'tanh'\n",
      "INFO:smac.intensification.intensification.Intensifier:Wallclock time limit for intensification reached (used: 140.567727 sec, available: 0.000010 sec)\n"
     ]
    },
    {
     "name": "stdout",
     "output_type": "stream",
     "text": [
      "\n",
      "True Dynamics Cost:  194.0\n",
      "True Dynamics Final State:  [-0.01876785  0.03161407  0.03019355 -0.44492201]\n",
      "use_cuda=True\n",
      "MLP Using Cuda\n",
      "hidden_sizes= [226, 46, 166]\n",
      "100%|██████████| 50/50 [01:49<00:00,  2.20s/it]\n",
      "Simulating Surrogate Trajectory: \n",
      " 99%|█████████▉| 198/200 [00:10<00:00, 18.96it/s]\n",
      "Surrogate Cost:  200.0\n",
      "Surrogate Final State:  [ 3.16177125 -0.01351985  0.6753062   0.02795075]\n",
      "Simulating True Dynamics Trajectory\n",
      " 99%|█████████▉| 198/200 [00:09<00:00, 21.12it/s]"
     ]
    },
    {
     "name": "stderr",
     "output_type": "stream",
     "text": [
      "INFO:smac.intensification.intensification.Intensifier:Wallclock time limit for intensification reached (used: 129.810046 sec, available: 0.000010 sec)\n"
     ]
    },
    {
     "name": "stdout",
     "output_type": "stream",
     "text": [
      "\n",
      "True Dynamics Cost:  200.0\n",
      "True Dynamics Final State:  [ 3.14030136 -0.00337683  0.20415112  0.01933015]\n",
      "use_cuda=True\n",
      "MLP Using Cuda\n",
      "hidden_sizes= [46, 226]\n",
      "100%|██████████| 50/50 [01:26<00:00,  1.72s/it]\n",
      "Simulating Surrogate Trajectory: \n",
      " 99%|█████████▉| 198/200 [00:07<00:00, 26.91it/s]\n",
      "Surrogate Cost:  200.0\n",
      "Surrogate Final State:  [ 3.16049779 -0.00705243  0.10717057 -0.03490627]\n",
      "Simulating True Dynamics Trajectory\n",
      " 99%|█████████▉| 198/200 [00:07<00:00, 26.84it/s]"
     ]
    },
    {
     "name": "stderr",
     "output_type": "stream",
     "text": [
      "INFO:smac.intensification.intensification.Intensifier:Wallclock time limit for intensification reached (used: 100.969843 sec, available: 0.000010 sec)\n"
     ]
    },
    {
     "name": "stdout",
     "output_type": "stream",
     "text": [
      "\n",
      "True Dynamics Cost:  200.0\n",
      "True Dynamics Final State:  [ 3.13842822e+00 -8.55974272e-04 -3.63654186e-02 -9.01147320e-04]\n",
      "use_cuda=True\n",
      "MLP Using Cuda\n",
      "hidden_sizes= [166, 106, 106, 226]\n",
      "100%|██████████| 50/50 [02:16<00:00,  2.73s/it]\n",
      "Simulating Surrogate Trajectory: \n",
      " 99%|█████████▉| 198/200 [00:06<00:00, 30.09it/s]\n",
      "Surrogate Cost:  200.0\n",
      "Surrogate Final State:  [ 3.15190839 -0.00761527  4.20540384  0.78507825]\n",
      "Simulating True Dynamics Trajectory\n",
      " 99%|█████████▉| 198/200 [00:06<00:00, 31.25it/s]"
     ]
    },
    {
     "name": "stderr",
     "output_type": "stream",
     "text": [
      "INFO:smac.intensification.intensification.Intensifier:Wallclock time limit for intensification reached (used: 149.693356 sec, available: 0.000010 sec)\n"
     ]
    },
    {
     "name": "stdout",
     "output_type": "stream",
     "text": [
      "\n",
      "True Dynamics Cost:  200.0\n",
      "True Dynamics Final State:  [ 3.13851311e+00 -1.40604318e-03  0.00000000e+00  0.00000000e+00]\n",
      "use_cuda=True\n",
      "MLP Using Cuda\n",
      "hidden_sizes= [181, 61, 181]\n",
      "100%|██████████| 50/50 [01:50<00:00,  2.21s/it]\n",
      "Simulating Surrogate Trajectory: \n",
      " 99%|█████████▉| 198/200 [00:05<00:00, 33.93it/s]\n",
      "Surrogate Cost:  200.0\n",
      "Surrogate Final State:  [ 3.15190839 -0.00761527  4.20540382  0.78507824]\n",
      "Simulating True Dynamics Trajectory\n",
      " 99%|█████████▉| 198/200 [00:05<00:00, 34.95it/s]"
     ]
    },
    {
     "name": "stderr",
     "output_type": "stream",
     "text": [
      "INFO:smac.intensification.intensification.Intensifier:Wallclock time limit for intensification reached (used: 122.080868 sec, available: 0.000010 sec)\n"
     ]
    },
    {
     "name": "stdout",
     "output_type": "stream",
     "text": [
      "\n",
      "True Dynamics Cost:  200.0\n",
      "True Dynamics Final State:  [ 3.13851311e+00 -1.40604318e-03 -5.63406026e-09 -1.12561249e-09]\n",
      "use_cuda=True\n",
      "MLP Using Cuda\n",
      "hidden_sizes= [61]\n",
      "100%|██████████| 50/50 [00:59<00:00,  1.20s/it]\n",
      "Simulating Surrogate Trajectory: \n",
      " 99%|█████████▉| 198/200 [00:06<00:00, 30.23it/s]\n",
      "Surrogate Cost:  200.0\n",
      "Surrogate Final State:  [ 3.16718488 -0.00520228  0.51296891 -0.00721502]\n",
      "Simulating True Dynamics Trajectory\n",
      " 99%|█████████▉| 198/200 [00:06<00:00, 30.92it/s]"
     ]
    },
    {
     "name": "stderr",
     "output_type": "stream",
     "text": [
      "INFO:smac.intensification.intensification.Intensifier:Wallclock time limit for intensification reached (used: 72.748399 sec, available: 0.000010 sec)\n"
     ]
    },
    {
     "name": "stdout",
     "output_type": "stream",
     "text": [
      "\n",
      "True Dynamics Cost:  200.0\n",
      "True Dynamics Final State:  [ 3.14274375e+00 -2.78204190e-03  1.85425842e-01  1.04057840e-02]\n",
      "use_cuda=True\n",
      "MLP Using Cuda\n",
      "hidden_sizes= [241, 121, 121, 241]\n",
      "100%|██████████| 50/50 [02:16<00:00,  2.73s/it]\n",
      "Simulating Surrogate Trajectory: \n",
      " 99%|█████████▉| 198/200 [00:09<00:00, 21.12it/s]\n",
      "Surrogate Cost:  200.0\n",
      "Surrogate Final State:  [ 3.16524713e+00 -7.82101034e-04  1.49236828e+00  8.35696274e-02]\n",
      "Simulating True Dynamics Trajectory\n",
      " 99%|█████████▉| 198/200 [00:09<00:00, 21.03it/s]"
     ]
    },
    {
     "name": "stderr",
     "output_type": "stream",
     "text": [
      "INFO:smac.intensification.intensification.Intensifier:Wallclock time limit for intensification reached (used: 155.526403 sec, available: 0.000010 sec)\n"
     ]
    },
    {
     "name": "stdout",
     "output_type": "stream",
     "text": [
      "\n",
      "True Dynamics Cost:  200.0\n",
      "True Dynamics Final State:  [ 3.14175828e+00 -9.65619996e-06  3.96758260e-01  2.82427943e-02]\n",
      "use_cuda=True\n",
      "MLP Using Cuda\n",
      "hidden_sizes= [121, 241]\n",
      "100%|██████████| 50/50 [01:26<00:00,  1.74s/it]\n",
      "Simulating Surrogate Trajectory: \n",
      " 99%|█████████▉| 198/200 [00:20<00:00,  9.47it/s]\n",
      "Surrogate Cost:  200.0\n",
      "Surrogate Final State:  [ 3.32361527  5.21841068  3.02888425 -0.08801299]\n",
      "Simulating True Dynamics Trajectory\n",
      " 99%|█████████▉| 198/200 [00:27<00:00,  7.11it/s]"
     ]
    },
    {
     "name": "stderr",
     "output_type": "stream",
     "text": [
      "INFO:smac.intensification.intensification.Intensifier:Wallclock time limit for intensification reached (used: 135.783081 sec, available: 0.000010 sec)\n"
     ]
    },
    {
     "name": "stdout",
     "output_type": "stream",
     "text": [
      "\n",
      "True Dynamics Cost:  200.0\n",
      "True Dynamics Final State:  [-3.76356335 -1.71624989 -1.48823419 -1.68869251]\n",
      "use_cuda=True\n",
      "MLP Using Cuda\n",
      "hidden_sizes= [211, 151, 151]\n",
      "100%|██████████| 50/50 [01:51<00:00,  2.24s/it]\n",
      "Simulating Surrogate Trajectory: \n",
      " 99%|█████████▉| 198/200 [00:49<00:00,  4.03it/s]\n",
      "Surrogate Cost:  200.0\n",
      "Surrogate Final State:  [3.56940041e-02 1.30788576e-02 2.41269570e+01 1.75604100e+00]\n",
      "Simulating True Dynamics Trajectory\n",
      " 99%|█████████▉| 198/200 [00:48<00:00,  4.05it/s]"
     ]
    },
    {
     "name": "stderr",
     "output_type": "stream",
     "text": [
      "INFO:smac.intensification.intensification.Intensifier:Wallclock time limit for intensification reached (used: 209.908609 sec, available: 0.000010 sec)\n"
     ]
    },
    {
     "name": "stdout",
     "output_type": "stream",
     "text": [
      "\n",
      "True Dynamics Cost:  200.0\n",
      "True Dynamics Final State:  [ 2.98987131e-02 -1.31836319e-05  2.09869232e+01  8.33839031e-01]\n",
      "use_cuda=True\n",
      "MLP Using Cuda\n",
      "hidden_sizes= [91]\n",
      "100%|██████████| 50/50 [01:06<00:00,  1.33s/it]\n",
      "Simulating Surrogate Trajectory: \n",
      " 99%|█████████▉| 198/200 [01:56<00:01,  1.71it/s]\n",
      "Surrogate Cost:  200.0\n",
      "Surrogate Final State:  [  3.04009952  -0.11541395 -16.22194805   0.10793223]\n",
      "Simulating True Dynamics Trajectory\n",
      " 99%|█████████▉| 198/200 [01:56<00:01,  1.70it/s]"
     ]
    },
    {
     "name": "stderr",
     "output_type": "stream",
     "text": [
      "INFO:smac.intensification.intensification.Intensifier:Wallclock time limit for intensification reached (used: 299.082186 sec, available: 0.000010 sec)\n"
     ]
    },
    {
     "name": "stdout",
     "output_type": "stream",
     "text": [
      "\n",
      "True Dynamics Cost:  200.0\n",
      "True Dynamics Final State:  [  3.10092833  -0.24555813 -16.07127159  -0.18533037]\n",
      "use_cuda=True\n",
      "MLP Using Cuda\n",
      "hidden_sizes= [151, 211, 91, 91]\n",
      "100%|██████████| 50/50 [02:16<00:00,  2.74s/it]\n",
      "Simulating Surrogate Trajectory: \n",
      " 99%|█████████▉| 198/200 [00:09<00:00, 21.34it/s]\n",
      "Surrogate Cost:  200.0\n",
      "Surrogate Final State:  [ 3.15298545 -0.00675138  4.14213054  0.76698103]\n",
      "Simulating True Dynamics Trajectory\n",
      " 99%|█████████▉| 198/200 [00:09<00:00, 21.46it/s]"
     ]
    },
    {
     "name": "stderr",
     "output_type": "stream",
     "text": [
      "INFO:smac.intensification.intensification.Intensifier:Wallclock time limit for intensification reached (used: 155.487459 sec, available: 0.000010 sec)\n"
     ]
    },
    {
     "name": "stdout",
     "output_type": "stream",
     "text": [
      "\n",
      "True Dynamics Cost:  200.0\n",
      "True Dynamics Final State:  [ 3.13915643e+00 -1.35919271e-03 -2.70094317e-02 -7.11927139e-03]\n",
      "use_cuda=True\n",
      "MLP Using Cuda\n",
      "hidden_sizes= [31, 91]\n",
      "100%|██████████| 50/50 [01:25<00:00,  1.71s/it]\n",
      "Simulating Surrogate Trajectory: \n",
      " 99%|█████████▉| 198/200 [00:16<00:00, 11.99it/s]\n",
      "Surrogate Cost:  200.0\n",
      "Surrogate Final State:  [ 3.15924034 -0.0074184   0.26013678 -0.02304406]\n",
      "Simulating True Dynamics Trajectory\n",
      " 99%|█████████▉| 198/200 [00:16<00:00, 12.11it/s]"
     ]
    },
    {
     "name": "stderr",
     "output_type": "stream",
     "text": [
      "INFO:smac.intensification.intensification.Intensifier:Wallclock time limit for intensification reached (used: 118.540536 sec, available: 0.000010 sec)\n"
     ]
    },
    {
     "name": "stdout",
     "output_type": "stream",
     "text": [
      "\n",
      "True Dynamics Cost:  200.0\n",
      "True Dynamics Final State:  [ 3.13853810e+00 -1.35869537e-03  2.48229957e-02  1.27375416e-03]\n",
      "use_cuda=True\n",
      "MLP Using Cuda\n",
      "hidden_sizes= [113, 204, 144, 38]\n",
      "100%|██████████| 50/50 [02:19<00:00,  2.79s/it]\n",
      "Simulating Surrogate Trajectory: \n",
      " 99%|█████████▉| 198/200 [00:06<00:00, 29.67it/s]\n",
      "Surrogate Cost:  200.0\n",
      "Surrogate Final State:  [ 3.15190839 -0.00761527  4.20540384  0.78507825]\n",
      "Simulating True Dynamics Trajectory\n",
      " 99%|█████████▉| 198/200 [00:06<00:00, 30.22it/s]"
     ]
    },
    {
     "name": "stderr",
     "output_type": "stream",
     "text": [
      "INFO:smac.intensification.intensification.Intensifier:Wallclock time limit for intensification reached (used: 152.772632 sec, available: 0.000010 sec)\n"
     ]
    },
    {
     "name": "stdout",
     "output_type": "stream",
     "text": [
      "\n",
      "True Dynamics Cost:  200.0\n",
      "True Dynamics Final State:  [ 3.13851311e+00 -1.40604318e-03  0.00000000e+00  0.00000000e+00]\n",
      "use_cuda=True\n",
      "MLP Using Cuda\n",
      "hidden_sizes= [234, 83]\n",
      "100%|██████████| 50/50 [01:25<00:00,  1.72s/it]\n",
      "Simulating Surrogate Trajectory: \n",
      " 99%|█████████▉| 198/200 [00:16<00:00, 12.09it/s]\n",
      "Surrogate Cost:  200.0\n",
      "Surrogate Final State:  [ 3.16468617e+00 -5.73924269e-04  4.16782135e-01  4.56207742e-03]\n",
      "Simulating True Dynamics Trajectory\n",
      " 99%|█████████▉| 198/200 [00:16<00:00, 11.81it/s]"
     ]
    },
    {
     "name": "stderr",
     "output_type": "stream",
     "text": [
      "INFO:smac.intensification.intensification.Intensifier:Wallclock time limit for intensification reached (used: 119.152935 sec, available: 0.000010 sec)\n"
     ]
    },
    {
     "name": "stdout",
     "output_type": "stream",
     "text": [
      "\n",
      "True Dynamics Cost:  200.0\n",
      "True Dynamics Final State:  [ 3.14166184e+00  3.08026653e-05 -2.00410135e-01 -2.11806885e-02]\n",
      "use_cuda=True\n",
      "MLP Using Cuda\n",
      "hidden_sizes= [53, 144, 83]\n",
      "100%|██████████| 50/50 [01:50<00:00,  2.21s/it]\n",
      "Simulating Surrogate Trajectory: \n",
      " 99%|█████████▉| 198/200 [00:37<00:00,  5.27it/s]\n",
      "Surrogate Cost:  150.0\n",
      "Surrogate Final State:  [ 0.01995934  0.06177932 -0.11269717 -0.3751661 ]\n",
      "Simulating True Dynamics Trajectory\n",
      " 99%|█████████▉| 198/200 [00:37<00:00,  5.31it/s]"
     ]
    },
    {
     "name": "stderr",
     "output_type": "stream",
     "text": [
      "INFO:smac.intensification.intensification.Intensifier:Challenger (150.0000) is better than incumbent (189.0000) on 1 runs.\n",
      "INFO:smac.intensification.intensification.Intensifier:Changes in incumbent:\n",
      "INFO:smac.intensification.intensification.Intensifier:  _cost:dx_F : 0.4216965034285823 -> 805.8421877614824\n",
      "INFO:smac.intensification.intensification.Intensifier:  _cost:dx_Q : 0.4216965034285823 -> 0.033982083289425605\n",
      "INFO:smac.intensification.intensification.Intensifier:  _cost:omega_F : 23.713737056616576 -> 0.004531583637600819\n",
      "INFO:smac.intensification.intensification.Intensifier:  _cost:omega_Q : 0.007498942093324564 -> 0.0124093776075172\n",
      "INFO:smac.intensification.intensification.Intensifier:  _cost:theta_F : 1333.5214321633246 -> 5.232991146814948\n",
      "INFO:smac.intensification.intensification.Intensifier:  _cost:theta_Q : 1333.5214321633246 -> 0.004531583637600819\n",
      "INFO:smac.intensification.intensification.Intensifier:  _cost:u_R : 0.007498942093324564 -> 0.0930572040929699\n",
      "INFO:smac.intensification.intensification.Intensifier:  _cost:x_F : 23.713737056616576 -> 14.330125702369648\n",
      "INFO:smac.intensification.intensification.Intensifier:  _cost:x_Q : 0.007498942093324564 -> 5.232991146814948\n",
      "INFO:smac.intensification.intensification.Intensifier:  _ctrlr:horizon : 23 -> 18\n",
      "INFO:smac.intensification.intensification.Intensifier:  _model:hidden_size_1 : 106 -> 53\n",
      "INFO:smac.intensification.intensification.Intensifier:  _model:hidden_size_2 : None -> 144\n",
      "INFO:smac.intensification.intensification.Intensifier:  _model:hidden_size_3 : None -> 83\n",
      "INFO:smac.intensification.intensification.Intensifier:  _model:lr : 0.013335214321633242 -> 2.942727176209284e-05\n",
      "INFO:smac.intensification.intensification.Intensifier:  _model:n_hidden_layers : '1' -> '3'\n",
      "INFO:smac.intensification.intensification.Intensifier:  _model:nonlintype : 'tanh' -> 'selu'\n",
      "INFO:smac.intensification.intensification.Intensifier:Wallclock time limit for intensification reached (used: 185.541021 sec, available: 0.000010 sec)\n"
     ]
    },
    {
     "name": "stdout",
     "output_type": "stream",
     "text": [
      "\n",
      "True Dynamics Cost:  148.0\n",
      "True Dynamics Final State:  [ 0.53451352 -1.68349589  1.08797691 -0.61401664]\n",
      "use_cuda=True\n",
      "MLP Using Cuda\n",
      "hidden_sizes= [174]\n",
      "100%|██████████| 50/50 [01:02<00:00,  1.24s/it]\n",
      "Simulating Surrogate Trajectory: \n",
      " 99%|█████████▉| 198/200 [00:06<00:00, 30.85it/s]\n",
      "Surrogate Cost:  200.0\n",
      "Surrogate Final State:  [ 3.16110339 -0.00538883  2.38870392  0.28752597]\n",
      "Simulating True Dynamics Trajectory\n",
      " 99%|█████████▉| 198/200 [00:06<00:00, 29.94it/s]"
     ]
    },
    {
     "name": "stderr",
     "output_type": "stream",
     "text": [
      "INFO:smac.intensification.intensification.Intensifier:Wallclock time limit for intensification reached (used: 75.170858 sec, available: 0.000010 sec)\n"
     ]
    },
    {
     "name": "stdout",
     "output_type": "stream",
     "text": [
      "\n",
      "True Dynamics Cost:  200.0\n",
      "True Dynamics Final State:  [ 3.13946502e+00 -8.74691559e-04  2.50945211e-01  3.37532097e-02]\n",
      "use_cuda=True\n",
      "MLP Using Cuda\n",
      "hidden_sizes= [23, 113, 174, 189]\n",
      "100%|██████████| 50/50 [02:19<00:00,  2.80s/it]\n",
      "Simulating Surrogate Trajectory: \n",
      " 99%|█████████▉| 198/200 [00:11<00:00, 17.24it/s]\n",
      "Surrogate Cost:  200.0\n",
      "Surrogate Final State:  [ 3.1617372  -0.00329929 -0.00329969 -0.03711219]\n",
      "Simulating True Dynamics Trajectory\n",
      " 99%|█████████▉| 198/200 [00:12<00:00, 16.49it/s]"
     ]
    },
    {
     "name": "stderr",
     "output_type": "stream",
     "text": [
      "INFO:smac.intensification.intensification.Intensifier:Wallclock time limit for intensification reached (used: 163.282448 sec, available: 0.000010 sec)\n"
     ]
    },
    {
     "name": "stdout",
     "output_type": "stream",
     "text": [
      "\n",
      "True Dynamics Cost:  200.0\n",
      "True Dynamics Final State:  [ 3.13998813e+00  1.44584524e-03 -3.78685575e-02 -3.17091934e-04]\n",
      "use_cuda=True\n",
      "MLP Using Cuda\n",
      "hidden_sizes= [144, 234]\n",
      "100%|██████████| 50/50 [01:28<00:00,  1.77s/it]\n",
      "Simulating Surrogate Trajectory: \n",
      " 99%|█████████▉| 198/200 [00:17<00:00, 11.59it/s]\n",
      "Surrogate Cost:  200.0\n",
      "Surrogate Final State:  [  3.05262115  -1.99643377 -76.37446302  -3.88581359]\n",
      "Simulating True Dynamics Trajectory\n",
      " 99%|█████████▉| 198/200 [00:17<00:00, 11.07it/s]"
     ]
    },
    {
     "name": "stderr",
     "output_type": "stream",
     "text": [
      "INFO:smac.intensification.intensification.Intensifier:Wallclock time limit for intensification reached (used: 123.424711 sec, available: 0.000010 sec)\n"
     ]
    },
    {
     "name": "stdout",
     "output_type": "stream",
     "text": [
      "\n",
      "True Dynamics Cost:  200.0\n",
      "True Dynamics Final State:  [  3.07279981  -2.04100716 -77.84378758  -4.83837615]\n",
      "use_cuda=True\n",
      "MLP Using Cuda\n",
      "hidden_sizes= [83, 53, 113]\n",
      "100%|██████████| 50/50 [01:49<00:00,  2.19s/it]\n",
      "Simulating Surrogate Trajectory: \n",
      " 99%|█████████▉| 198/200 [01:53<00:01,  1.75it/s]\n",
      "Surrogate Cost:  200.0\n",
      "Surrogate Final State:  [-5.95924986e-03 -3.76120022e-02  1.19346425e+01  3.65574033e-01]\n",
      "Simulating True Dynamics Trajectory\n",
      " 99%|█████████▉| 198/200 [01:52<00:01,  1.76it/s]"
     ]
    },
    {
     "name": "stderr",
     "output_type": "stream",
     "text": [
      "INFO:smac.intensification.intensification.Intensifier:Wallclock time limit for intensification reached (used: 334.953521 sec, available: 0.000010 sec)\n"
     ]
    },
    {
     "name": "stdout",
     "output_type": "stream",
     "text": [
      "\n",
      "True Dynamics Cost:  200.0\n",
      "True Dynamics Final State:  [ 3.82490312e-03 -9.11165352e-02  1.08947452e+01  3.48807061e-01]\n",
      "use_cuda=True\n",
      "MLP Using Cuda\n",
      "hidden_sizes= [204]\n",
      "100%|██████████| 50/50 [01:03<00:00,  1.27s/it]\n",
      "Simulating Surrogate Trajectory: \n",
      " 99%|█████████▉| 198/200 [00:10<00:00, 18.96it/s]\n",
      "Surrogate Cost:  200.0\n",
      "Surrogate Final State:  [ 3.15830585e+00 -3.86991571e-04  1.70288697e+00  1.58449552e-01]\n",
      "Simulating True Dynamics Trajectory\n",
      " 99%|█████████▉| 198/200 [00:10<00:00, 19.29it/s]"
     ]
    },
    {
     "name": "stderr",
     "output_type": "stream",
     "text": [
      "INFO:smac.intensification.intensification.Intensifier:Wallclock time limit for intensification reached (used: 84.049544 sec, available: 0.000010 sec)\n"
     ]
    },
    {
     "name": "stdout",
     "output_type": "stream",
     "text": [
      "\n",
      "True Dynamics Cost:  200.0\n",
      "True Dynamics Final State:  [ 3.13797259e+00 -2.33587701e-03 -8.26239514e-02 -1.17494055e-02]\n",
      "use_cuda=True\n",
      "MLP Using Cuda\n",
      "hidden_sizes= [219, 249]\n",
      "100%|██████████| 50/50 [01:27<00:00,  1.74s/it]\n",
      "Simulating Surrogate Trajectory: \n",
      " 99%|█████████▉| 198/200 [00:14<00:00, 13.57it/s]\n",
      "Surrogate Cost:  200.0\n",
      "Surrogate Final State:  [ 3.1646254   0.01119677 -0.03208237 -0.03770006]\n",
      "Simulating True Dynamics Trajectory\n",
      " 99%|█████████▉| 198/200 [00:14<00:00, 13.85it/s]"
     ]
    },
    {
     "name": "stderr",
     "output_type": "stream",
     "text": [
      "INFO:smac.intensification.intensification.Intensifier:Wallclock time limit for intensification reached (used: 115.986407 sec, available: 0.000010 sec)\n"
     ]
    },
    {
     "name": "stdout",
     "output_type": "stream",
     "text": [
      "\n",
      "True Dynamics Cost:  200.0\n",
      "True Dynamics Final State:  [ 3.14282556e+00  4.65193325e-03 -5.50670269e-02 -3.47361511e-04]\n",
      "use_cuda=True\n",
      "MLP Using Cuda\n",
      "hidden_sizes= [98, 128, 189, 174]\n",
      "100%|██████████| 50/50 [02:19<00:00,  2.79s/it]\n",
      "Simulating Surrogate Trajectory: \n",
      " 99%|█████████▉| 198/200 [01:02<00:00,  3.19it/s]\n",
      "Surrogate Cost:  200.0\n",
      "Surrogate Final State:  [0.01938869 0.54416489 3.50650689 0.66660728]\n",
      "Simulating True Dynamics Trajectory\n",
      " 99%|█████████▉| 198/200 [00:42<00:00,  4.64it/s]"
     ]
    },
    {
     "name": "stderr",
     "output_type": "stream",
     "text": [
      "INFO:smac.intensification.intensification.Intensifier:Wallclock time limit for intensification reached (used: 244.448863 sec, available: 0.000010 sec)\n"
     ]
    },
    {
     "name": "stdout",
     "output_type": "stream",
     "text": [
      "\n",
      "True Dynamics Cost:  200.0\n",
      "True Dynamics Final State:  [ 2.0590606  -3.7915659  -5.85648976  8.73352933]\n",
      "use_cuda=True\n",
      "MLP Using Cuda\n",
      "hidden_sizes= [155]\n",
      "100%|██████████| 50/50 [01:01<00:00,  1.24s/it]\n",
      "Simulating Surrogate Trajectory: \n",
      " 99%|█████████▉| 198/200 [00:07<00:00, 26.96it/s]\n",
      "Surrogate Cost:  200.0\n",
      "Surrogate Final State:  [ 3.15288073 -0.00881083  0.1855681  -0.03320711]\n",
      "Simulating True Dynamics Trajectory\n",
      " 99%|█████████▉| 198/200 [00:07<00:00, 28.09it/s]"
     ]
    },
    {
     "name": "stderr",
     "output_type": "stream",
     "text": [
      "INFO:smac.intensification.intensification.Intensifier:Wallclock time limit for intensification reached (used: 76.260966 sec, available: 0.000010 sec)\n"
     ]
    },
    {
     "name": "stdout",
     "output_type": "stream",
     "text": [
      "\n",
      "True Dynamics Cost:  200.0\n",
      "True Dynamics Final State:  [3.13385604e+00 8.35307102e-03 7.81600241e-02 1.56517698e-03]\n",
      "use_cuda=True\n",
      "MLP Using Cuda\n",
      "hidden_sizes= [88, 39, 214, 147]\n",
      "100%|██████████| 50/50 [02:18<00:00,  2.77s/it]\n",
      "Simulating Surrogate Trajectory: \n",
      "  4%|▎         | 7/200 [00:00<00:06, 27.89it/s]"
     ]
    },
    {
     "name": "stderr",
     "output_type": "stream",
     "text": [
      "/home/william/proj/autompc_dev/autompc/control/ilqr.py:535: RuntimeWarning: invalid value encountered in double_scalars\n",
      "  if (obj - new_obj) / (-expect_cost_reduction) > ls_cost_threshold:\n"
     ]
    },
    {
     "name": "stdout",
     "output_type": "stream",
     "text": [
      " 99%|█████████▉| 198/200 [00:06<00:00, 30.26it/s]\n",
      "Surrogate Cost:  200.0\n",
      "Surrogate Final State:  [ 3.15190839 -0.00761527  4.20540384  0.78507825]\n",
      "Simulating True Dynamics Trajectory\n",
      " 99%|█████████▉| 198/200 [00:06<00:00, 30.65it/s]"
     ]
    },
    {
     "name": "stderr",
     "output_type": "stream",
     "text": [
      "INFO:smac.intensification.intensification.Intensifier:Wallclock time limit for intensification reached (used: 151.445498 sec, available: 0.000010 sec)\n"
     ]
    },
    {
     "name": "stdout",
     "output_type": "stream",
     "text": [
      "\n",
      "True Dynamics Cost:  200.0\n",
      "True Dynamics Final State:  [ 3.13851311e+00 -1.40604318e-03  0.00000000e+00  0.00000000e+00]\n",
      "use_cuda=True\n",
      "MLP Using Cuda\n",
      "hidden_sizes= [53]\n",
      "100%|██████████| 50/50 [01:00<00:00,  1.20s/it]\n",
      "Simulating Surrogate Trajectory: \n",
      " 99%|█████████▉| 198/200 [00:46<00:00,  4.26it/s]\n",
      "Surrogate Cost:  200.0\n",
      "Surrogate Final State:  [ 3.14004466 -2.94766566 -0.92217375  1.11707403]\n",
      "Simulating True Dynamics Trajectory\n",
      " 99%|█████████▉| 198/200 [00:45<00:00,  4.31it/s]"
     ]
    },
    {
     "name": "stderr",
     "output_type": "stream",
     "text": [
      "INFO:smac.intensification.intensification.Intensifier:Wallclock time limit for intensification reached (used: 152.579331 sec, available: 0.000010 sec)\n"
     ]
    },
    {
     "name": "stdout",
     "output_type": "stream",
     "text": [
      "\n",
      "True Dynamics Cost:  200.0\n",
      "True Dynamics Final State:  [ 3.19694677 -3.34814559 -0.87478098  0.96576512]\n",
      "use_cuda=True\n",
      "MLP Using Cuda\n",
      "hidden_sizes= [52, 167, 88]\n",
      "100%|██████████| 50/50 [01:49<00:00,  2.19s/it]\n",
      "Simulating Surrogate Trajectory: \n",
      " 99%|█████████▉| 198/200 [00:52<00:00,  3.75it/s]\n",
      "Surrogate Cost:  200.0\n",
      "Surrogate Final State:  [-0.03479536 -0.13946754 -2.05344712 -0.16738323]\n",
      "Simulating True Dynamics Trajectory\n",
      " 99%|█████████▉| 198/200 [00:22<00:00,  8.95it/s]"
     ]
    },
    {
     "name": "stderr",
     "output_type": "stream",
     "text": [
      "INFO:smac.intensification.intensification.Intensifier:Wallclock time limit for intensification reached (used: 184.629015 sec, available: 0.000010 sec)\n"
     ]
    },
    {
     "name": "stdout",
     "output_type": "stream",
     "text": [
      "\n",
      "True Dynamics Cost:  200.0\n",
      "True Dynamics Final State:  [ 0.64101909 -1.3139692  -1.65614399 -2.52665665]\n",
      "use_cuda=True\n",
      "MLP Using Cuda\n",
      "hidden_sizes= [151, 85, 182]\n",
      "100%|██████████| 50/50 [01:49<00:00,  2.20s/it]\n",
      "Simulating Surrogate Trajectory: \n",
      "  3%|▎         | 6/200 [00:00<00:07, 26.48it/s]"
     ]
    },
    {
     "name": "stderr",
     "output_type": "stream",
     "text": [
      "/home/william/proj/autompc_dev/autompc/control/ilqr.py:535: RuntimeWarning: invalid value encountered in double_scalars\n",
      "  if (obj - new_obj) / (-expect_cost_reduction) > ls_cost_threshold:\n"
     ]
    },
    {
     "name": "stdout",
     "output_type": "stream",
     "text": [
      " 99%|█████████▉| 198/200 [00:06<00:00, 32.26it/s]\n",
      "Surrogate Cost:  200.0\n",
      "Surrogate Final State:  [ 3.15190839 -0.00761527  4.20540384  0.78507825]\n",
      "Simulating True Dynamics Trajectory\n",
      " 99%|█████████▉| 198/200 [00:05<00:00, 34.79it/s]"
     ]
    },
    {
     "name": "stderr",
     "output_type": "stream",
     "text": [
      "INFO:smac.intensification.intensification.Intensifier:Wallclock time limit for intensification reached (used: 121.773368 sec, available: 0.000010 sec)\n"
     ]
    },
    {
     "name": "stdout",
     "output_type": "stream",
     "text": [
      "\n",
      "True Dynamics Cost:  200.0\n",
      "True Dynamics Final State:  [ 3.13851311e+00 -1.40604318e-03  0.00000000e+00  0.00000000e+00]\n",
      "use_cuda=True\n",
      "MLP Using Cuda\n",
      "hidden_sizes= [101, 122, 73]\n",
      "100%|██████████| 50/50 [01:49<00:00,  2.19s/it]\n",
      "Simulating Surrogate Trajectory: \n",
      " 99%|█████████▉| 198/200 [00:30<00:00,  6.58it/s]\n",
      "Surrogate Cost:  200.0\n",
      "Surrogate Final State:  [-0.22785624  0.41202765  0.07061363  0.61712285]\n",
      "Simulating True Dynamics Trajectory\n",
      " 99%|█████████▉| 198/200 [00:32<00:00,  6.17it/s]"
     ]
    },
    {
     "name": "stderr",
     "output_type": "stream",
     "text": [
      "INFO:smac.intensification.intensification.Intensifier:Wallclock time limit for intensification reached (used: 171.922023 sec, available: 0.000010 sec)\n"
     ]
    },
    {
     "name": "stdout",
     "output_type": "stream",
     "text": [
      "\n",
      "True Dynamics Cost:  200.0\n",
      "True Dynamics Final State:  [-0.25564086  0.51180036  0.05495631  0.9686871 ]\n",
      "use_cuda=True\n",
      "MLP Using Cuda\n",
      "hidden_sizes= [53, 112, 128, 128]\n",
      "100%|██████████| 50/50 [02:13<00:00,  2.67s/it]\n",
      "Simulating Surrogate Trajectory: \n",
      " 99%|█████████▉| 198/200 [00:56<00:00,  3.49it/s]\n",
      "Surrogate Cost:  200.0\n",
      "Surrogate Final State:  [ 3.57762513 -1.69493725 -1.05354283  0.264513  ]\n",
      "Simulating True Dynamics Trajectory\n",
      " 99%|█████████▉| 198/200 [00:58<00:00,  3.40it/s]"
     ]
    },
    {
     "name": "stderr",
     "output_type": "stream",
     "text": [
      "INFO:smac.intensification.intensification.Intensifier:Wallclock time limit for intensification reached (used: 248.680657 sec, available: 0.000010 sec)\n"
     ]
    },
    {
     "name": "stdout",
     "output_type": "stream",
     "text": [
      "\n",
      "True Dynamics Cost:  200.0\n",
      "True Dynamics Final State:  [ 2.6424747   5.06308179 -1.1193898  -2.43177408]\n",
      "use_cuda=True\n",
      "MLP Using Cuda\n",
      "hidden_sizes= [53, 145, 93]\n",
      "100%|██████████| 50/50 [01:49<00:00,  2.19s/it]\n",
      "Simulating Surrogate Trajectory: \n",
      " 99%|█████████▉| 198/200 [00:49<00:00,  4.00it/s]\n",
      "Surrogate Cost:  200.0\n",
      "Surrogate Final State:  [-0.01484997  0.0036047  -0.60898559 -0.06464124]\n",
      "Simulating True Dynamics Trajectory\n",
      " 99%|█████████▉| 198/200 [00:47<00:00,  4.13it/s]"
     ]
    },
    {
     "name": "stderr",
     "output_type": "stream",
     "text": [
      "INFO:smac.intensification.intensification.Intensifier:Wallclock time limit for intensification reached (used: 207.136835 sec, available: 0.000010 sec)\n"
     ]
    },
    {
     "name": "stdout",
     "output_type": "stream",
     "text": [
      "\n",
      "True Dynamics Cost:  200.0\n",
      "True Dynamics Final State:  [-0.00213079  0.00748301 -0.4062035   0.00470538]\n",
      "use_cuda=True\n",
      "MLP Using Cuda\n",
      "hidden_sizes= [40, 128, 156, 145]\n",
      "100%|██████████| 50/50 [02:16<00:00,  2.73s/it]\n",
      "Simulating Surrogate Trajectory: \n",
      " 99%|█████████▉| 198/200 [00:06<00:00, 30.56it/s]\n",
      "Surrogate Cost:  200.0\n",
      "Surrogate Final State:  [ 3.15190839 -0.00761527  4.20540384  0.78507825]\n",
      "Simulating True Dynamics Trajectory\n",
      " 99%|█████████▉| 198/200 [00:06<00:00, 30.79it/s]"
     ]
    },
    {
     "name": "stderr",
     "output_type": "stream",
     "text": [
      "INFO:smac.intensification.intensification.Intensifier:Wallclock time limit for intensification reached (used: 149.357352 sec, available: 0.000010 sec)\n"
     ]
    },
    {
     "name": "stdout",
     "output_type": "stream",
     "text": [
      "\n",
      "True Dynamics Cost:  200.0\n",
      "True Dynamics Final State:  [ 3.13851311e+00 -1.40604318e-03  1.55554947e-78  3.13514598e-79]\n",
      "use_cuda=True\n",
      "MLP Using Cuda\n",
      "hidden_sizes= [26, 165, 83]\n",
      "100%|██████████| 50/50 [01:49<00:00,  2.18s/it]\n",
      "Simulating Surrogate Trajectory: \n",
      " 99%|█████████▉| 198/200 [00:10<00:00, 18.38it/s]\n",
      "Surrogate Cost:  200.0\n",
      "Surrogate Final State:  [ 3.15454676e+00  1.16682003e-03 -5.87494850e-02 -3.60909526e-02]\n",
      "Simulating True Dynamics Trajectory\n",
      " 99%|█████████▉| 198/200 [00:10<00:00, 18.56it/s]"
     ]
    },
    {
     "name": "stderr",
     "output_type": "stream",
     "text": [
      "INFO:smac.intensification.intensification.Intensifier:Wallclock time limit for intensification reached (used: 130.529121 sec, available: 0.000010 sec)\n"
     ]
    },
    {
     "name": "stdout",
     "output_type": "stream",
     "text": [
      "\n",
      "True Dynamics Cost:  200.0\n",
      "True Dynamics Final State:  [ 3.13530036e+00  9.75849337e-03 -1.04290918e-01  1.62412253e-04]\n",
      "use_cuda=True\n",
      "MLP Using Cuda\n",
      "hidden_sizes= [176, 247]\n",
      "100%|██████████| 50/50 [01:27<00:00,  1.75s/it]\n",
      "Simulating Surrogate Trajectory: \n",
      "  4%|▍         | 8/200 [00:00<00:05, 34.46it/s]"
     ]
    },
    {
     "name": "stderr",
     "output_type": "stream",
     "text": [
      "/home/william/proj/autompc_dev/autompc/control/ilqr.py:535: RuntimeWarning: invalid value encountered in double_scalars\n",
      "  if (obj - new_obj) / (-expect_cost_reduction) > ls_cost_threshold:\n"
     ]
    },
    {
     "name": "stdout",
     "output_type": "stream",
     "text": [
      " 99%|█████████▉| 198/200 [00:05<00:00, 38.53it/s]\n",
      "Surrogate Cost:  200.0\n",
      "Surrogate Final State:  [ 3.15190839 -0.00761527  4.20540384  0.78507825]\n",
      "Simulating True Dynamics Trajectory\n",
      " 99%|█████████▉| 198/200 [00:05<00:00, 38.64it/s]"
     ]
    },
    {
     "name": "stderr",
     "output_type": "stream",
     "text": [
      "INFO:smac.intensification.intensification.Intensifier:Wallclock time limit for intensification reached (used: 97.633486 sec, available: 0.000010 sec)\n"
     ]
    },
    {
     "name": "stdout",
     "output_type": "stream",
     "text": [
      "\n",
      "True Dynamics Cost:  200.0\n",
      "True Dynamics Final State:  [ 3.13851311e+00 -1.40604318e-03  0.00000000e+00  0.00000000e+00]\n",
      "use_cuda=True\n",
      "MLP Using Cuda\n",
      "hidden_sizes= [42, 123]\n",
      "100%|██████████| 50/50 [01:26<00:00,  1.74s/it]\n",
      "Simulating Surrogate Trajectory: \n",
      " 99%|█████████▉| 198/200 [00:39<00:00,  4.96it/s]\n",
      "Surrogate Cost:  200.0\n",
      "Surrogate Final State:  [ 2.6514144  -1.71115795 27.8856986   9.16180135]\n",
      "Simulating True Dynamics Trajectory\n",
      " 99%|█████████▉| 198/200 [00:39<00:00,  5.00it/s]"
     ]
    },
    {
     "name": "stderr",
     "output_type": "stream",
     "text": [
      "INFO:smac.intensification.intensification.Intensifier:Wallclock time limit for intensification reached (used: 166.339747 sec, available: 0.000010 sec)\n"
     ]
    },
    {
     "name": "stdout",
     "output_type": "stream",
     "text": [
      "\n",
      "True Dynamics Cost:  200.0\n",
      "True Dynamics Final State:  [ 2.66662606 -1.80651684 12.82037177  6.75324967]\n",
      "use_cuda=True\n",
      "MLP Using Cuda\n",
      "hidden_sizes= [53, 139, 76]\n",
      "100%|██████████| 50/50 [01:49<00:00,  2.18s/it]\n",
      "Simulating Surrogate Trajectory: \n",
      " 99%|█████████▉| 198/200 [00:38<00:00,  5.13it/s]\n",
      "Surrogate Cost:  200.0\n",
      "Surrogate Final State:  [ 1.18655216  0.08870777  1.88799122 -2.79888167]\n",
      "Simulating True Dynamics Trajectory\n",
      " 99%|█████████▉| 198/200 [00:33<00:00,  5.84it/s]"
     ]
    },
    {
     "name": "stderr",
     "output_type": "stream",
     "text": [
      "INFO:smac.intensification.intensification.Intensifier:Wallclock time limit for intensification reached (used: 181.725863 sec, available: 0.000010 sec)\n"
     ]
    },
    {
     "name": "stdout",
     "output_type": "stream",
     "text": [
      "\n",
      "True Dynamics Cost:  200.0\n",
      "True Dynamics Final State:  [ 1.27489512 -0.45902782  2.06673456  0.56921877]\n",
      "use_cuda=True\n",
      "MLP Using Cuda\n",
      "hidden_sizes= [43]\n",
      "100%|██████████| 50/50 [01:00<00:00,  1.21s/it]\n",
      "Simulating Surrogate Trajectory: \n",
      " 99%|█████████▉| 198/200 [00:09<00:00, 20.45it/s]\n",
      "Surrogate Cost:  200.0\n",
      "Surrogate Final State:  [ 3.16950186 -0.00642914  0.1344617  -0.03765607]\n",
      "Simulating True Dynamics Trajectory\n",
      " 99%|█████████▉| 198/200 [00:09<00:00, 20.90it/s]"
     ]
    },
    {
     "name": "stderr",
     "output_type": "stream",
     "text": [
      "INFO:smac.intensification.intensification.Intensifier:Wallclock time limit for intensification reached (used: 79.628985 sec, available: 0.000010 sec)\n"
     ]
    },
    {
     "name": "stdout",
     "output_type": "stream",
     "text": [
      "\n",
      "True Dynamics Cost:  200.0\n",
      "True Dynamics Final State:  [ 3.14309995e+00 -4.49769940e-03  7.73832516e-02 -5.66327064e-05]\n",
      "use_cuda=True\n",
      "MLP Using Cuda\n",
      "hidden_sizes= [46, 128, 131, 128]\n",
      "100%|██████████| 50/50 [02:16<00:00,  2.74s/it]\n",
      "Simulating Surrogate Trajectory: \n",
      " 99%|█████████▉| 198/200 [00:57<00:00,  3.43it/s]\n",
      "Surrogate Cost:  200.0\n",
      "Surrogate Final State:  [ 0.0045206   0.02229831 -0.59331264  0.19524693]\n",
      "Simulating True Dynamics Trajectory\n",
      " 99%|█████████▉| 198/200 [00:53<00:00,  3.70it/s]"
     ]
    },
    {
     "name": "stderr",
     "output_type": "stream",
     "text": [
      "INFO:smac.intensification.intensification.Intensifier:Wallclock time limit for intensification reached (used: 248.087276 sec, available: 0.000010 sec)\n"
     ]
    },
    {
     "name": "stdout",
     "output_type": "stream",
     "text": [
      "\n",
      "True Dynamics Cost:  200.0\n",
      "True Dynamics Final State:  [ 0.2341417  -0.58883576 -0.32106375 -2.43814953]\n",
      "use_cuda=True\n",
      "MLP Using Cuda\n",
      "hidden_sizes= [53, 144, 75]\n",
      "100%|██████████| 50/50 [01:48<00:00,  2.18s/it]\n",
      "Simulating Surrogate Trajectory: \n",
      " 99%|█████████▉| 198/200 [00:51<00:00,  3.82it/s]\n",
      "Surrogate Cost:  200.0\n",
      "Surrogate Final State:  [ 3.3437837  -2.56970687 -1.41279285  0.520784  ]\n",
      "Simulating True Dynamics Trajectory\n",
      " 99%|█████████▉| 198/200 [00:47<00:00,  4.18it/s]"
     ]
    },
    {
     "name": "stderr",
     "output_type": "stream",
     "text": [
      "INFO:smac.intensification.intensification.Intensifier:Wallclock time limit for intensification reached (used: 208.079865 sec, available: 0.000010 sec)\n"
     ]
    },
    {
     "name": "stdout",
     "output_type": "stream",
     "text": [
      "\n",
      "True Dynamics Cost:  200.0\n",
      "True Dynamics Final State:  [ 1.42648667 -2.86583673  0.12730419  3.68735817]\n",
      "use_cuda=True\n",
      "MLP Using Cuda\n",
      "hidden_sizes= [73, 152, 37]\n",
      "100%|██████████| 50/50 [01:48<00:00,  2.18s/it]\n",
      "Simulating Surrogate Trajectory: \n",
      " 99%|█████████▉| 198/200 [00:49<00:00,  4.04it/s]\n",
      "Surrogate Cost:  200.0\n",
      "Surrogate Final State:  [-0.00409064  0.09862407 -2.38764819  0.44278333]\n",
      "Simulating True Dynamics Trajectory\n",
      " 99%|█████████▉| 198/200 [00:44<00:00,  4.50it/s]"
     ]
    },
    {
     "name": "stderr",
     "output_type": "stream",
     "text": [
      "INFO:smac.intensification.intensification.Intensifier:Wallclock time limit for intensification reached (used: 201.919667 sec, available: 0.000010 sec)\n"
     ]
    },
    {
     "name": "stdout",
     "output_type": "stream",
     "text": [
      "\n",
      "True Dynamics Cost:  200.0\n",
      "True Dynamics Final State:  [ 0.00976076  0.0205466  -2.01741259  0.35688197]\n",
      "use_cuda=True\n",
      "MLP Using Cuda\n",
      "hidden_sizes= [35, 151, 82]\n",
      "100%|██████████| 50/50 [01:49<00:00,  2.19s/it]\n",
      "Simulating Surrogate Trajectory: \n",
      " 99%|█████████▉| 198/200 [01:02<00:00,  3.17it/s]\n",
      "Surrogate Cost:  200.0\n",
      "Surrogate Final State:  [ 0.11802449 -0.84647096  0.14791192 -2.86097278]\n",
      "Simulating True Dynamics Trajectory\n",
      " 99%|█████████▉| 198/200 [01:03<00:00,  3.14it/s]"
     ]
    },
    {
     "name": "stderr",
     "output_type": "stream",
     "text": [
      "INFO:smac.intensification.intensification.Intensifier:Wallclock time limit for intensification reached (used: 234.971428 sec, available: 0.000010 sec)\n"
     ]
    },
    {
     "name": "stdout",
     "output_type": "stream",
     "text": [
      "\n",
      "True Dynamics Cost:  200.0\n",
      "True Dynamics Final State:  [ 0.38251063 -1.07607502  0.53120829 -2.50937365]\n",
      "use_cuda=True\n",
      "MLP Using Cuda\n",
      "hidden_sizes= [45, 147, 83]\n",
      "100%|██████████| 50/50 [01:48<00:00,  2.18s/it]\n",
      "Simulating Surrogate Trajectory: \n",
      " 99%|█████████▉| 198/200 [00:36<00:00,  5.37it/s]\n",
      "Surrogate Cost:  200.0\n",
      "Surrogate Final State:  [ 3.69220657  1.83674846 -1.72673621 -0.12687617]\n",
      "Simulating True Dynamics Trajectory\n",
      " 99%|█████████▉| 198/200 [00:34<00:00,  5.82it/s]"
     ]
    },
    {
     "name": "stderr",
     "output_type": "stream",
     "text": [
      "INFO:smac.intensification.intensification.Intensifier:Wallclock time limit for intensification reached (used: 179.933768 sec, available: 0.000010 sec)\n"
     ]
    },
    {
     "name": "stdout",
     "output_type": "stream",
     "text": [
      "\n",
      "True Dynamics Cost:  200.0\n",
      "True Dynamics Final State:  [ 1.51128386  3.50003337 -1.09634495 -1.0503086 ]\n",
      "use_cuda=True\n",
      "MLP Using Cuda\n",
      "hidden_sizes= [53, 144, 83]\n",
      "100%|██████████| 50/50 [01:49<00:00,  2.20s/it]\n",
      "Simulating Surrogate Trajectory: \n",
      " 99%|█████████▉| 198/200 [00:49<00:00,  3.97it/s]\n",
      "Surrogate Cost:  198.0\n",
      "Surrogate Final State:  [ 0.13936602 -0.84554068  0.61170972 -1.23783572]\n",
      "Simulating True Dynamics Trajectory\n",
      " 99%|█████████▉| 198/200 [00:50<00:00,  3.90it/s]"
     ]
    },
    {
     "name": "stderr",
     "output_type": "stream",
     "text": [
      "INFO:smac.intensification.intensification.Intensifier:Wallclock time limit for intensification reached (used: 210.606850 sec, available: 0.000010 sec)\n"
     ]
    },
    {
     "name": "stdout",
     "output_type": "stream",
     "text": [
      "\n",
      "True Dynamics Cost:  197.0\n",
      "True Dynamics Final State:  [ 0.43798055 -1.23876491  0.76363115 -1.22532167]\n",
      "use_cuda=True\n",
      "MLP Using Cuda\n",
      "hidden_sizes= [180, 223, 83]\n",
      "100%|██████████| 50/50 [01:48<00:00,  2.18s/it]\n",
      "Simulating Surrogate Trajectory: \n",
      "  3%|▎         | 6/200 [00:00<00:09, 21.47it/s]"
     ]
    },
    {
     "name": "stderr",
     "output_type": "stream",
     "text": [
      "/home/william/proj/autompc_dev/autompc/control/ilqr.py:535: RuntimeWarning: invalid value encountered in double_scalars\n",
      "  if (obj - new_obj) / (-expect_cost_reduction) > ls_cost_threshold:\n"
     ]
    },
    {
     "name": "stdout",
     "output_type": "stream",
     "text": [
      " 99%|█████████▉| 198/200 [00:05<00:00, 34.73it/s]\n",
      "Surrogate Cost:  200.0\n",
      "Surrogate Final State:  [ 3.15190839 -0.00761527  4.20540384  0.78507825]\n",
      "Simulating True Dynamics Trajectory\n",
      " 99%|█████████▉| 198/200 [00:05<00:00, 35.33it/s]"
     ]
    },
    {
     "name": "stderr",
     "output_type": "stream",
     "text": [
      "INFO:smac.intensification.intensification.Intensifier:Wallclock time limit for intensification reached (used: 120.141537 sec, available: 0.000010 sec)\n"
     ]
    },
    {
     "name": "stdout",
     "output_type": "stream",
     "text": [
      "\n",
      "True Dynamics Cost:  200.0\n",
      "True Dynamics Final State:  [ 3.13851311e+00 -1.40604318e-03  0.00000000e+00  0.00000000e+00]\n",
      "use_cuda=True\n",
      "MLP Using Cuda\n",
      "hidden_sizes= [50, 121]\n",
      "100%|██████████| 50/50 [01:26<00:00,  1.72s/it]\n",
      "Simulating Surrogate Trajectory: \n",
      " 99%|█████████▉| 198/200 [00:17<00:00, 11.32it/s]\n",
      "Surrogate Cost:  200.0\n",
      "Surrogate Final State:  [3.15883191e+00 1.44923321e-02 2.84988224e+01 2.86795597e+00]\n",
      "Simulating True Dynamics Trajectory\n",
      " 99%|█████████▉| 198/200 [00:18<00:00, 10.91it/s]"
     ]
    },
    {
     "name": "stderr",
     "output_type": "stream",
     "text": [
      "INFO:smac.intensification.intensification.Intensifier:Wallclock time limit for intensification reached (used: 121.691508 sec, available: 0.000010 sec)\n"
     ]
    },
    {
     "name": "stdout",
     "output_type": "stream",
     "text": [
      "\n",
      "True Dynamics Cost:  200.0\n",
      "True Dynamics Final State:  [3.12601004e+00 1.17864939e-02 2.81907706e+01 2.75618102e+00]\n",
      "use_cuda=True\n",
      "MLP Using Cuda\n",
      "hidden_sizes= [44, 157, 131]\n",
      "100%|██████████| 50/50 [01:49<00:00,  2.19s/it]\n",
      "Simulating Surrogate Trajectory: \n",
      " 99%|█████████▉| 198/200 [00:45<00:00,  4.37it/s]\n",
      "Surrogate Cost:  181.0\n",
      "Surrogate Final State:  [-0.01686819  0.08973907 -0.08417448 -0.67532038]\n",
      "Simulating True Dynamics Trajectory\n",
      " 99%|█████████▉| 198/200 [00:48<00:00,  4.05it/s]"
     ]
    },
    {
     "name": "stderr",
     "output_type": "stream",
     "text": [
      "INFO:smac.intensification.intensification.Intensifier:Wallclock time limit for intensification reached (used: 203.905515 sec, available: 0.000010 sec)\n"
     ]
    },
    {
     "name": "stdout",
     "output_type": "stream",
     "text": [
      "\n",
      "True Dynamics Cost:  181.0\n",
      "True Dynamics Final State:  [ 0.05965357  0.13141877 -0.43887499 -0.56603966]\n",
      "use_cuda=True\n",
      "MLP Using Cuda\n",
      "hidden_sizes= [53, 153, 83]\n",
      "100%|██████████| 50/50 [01:49<00:00,  2.18s/it]\n",
      "Simulating Surrogate Trajectory: \n",
      " 99%|█████████▉| 198/200 [00:32<00:00,  6.11it/s]\n",
      "Surrogate Cost:  200.0\n",
      "Surrogate Final State:  [-4.0336101   1.19192924  1.65137131  0.23479182]\n",
      "Simulating True Dynamics Trajectory\n",
      " 99%|█████████▉| 198/200 [00:32<00:00,  6.07it/s]"
     ]
    },
    {
     "name": "stderr",
     "output_type": "stream",
     "text": [
      "INFO:smac.intensification.intensification.Intensifier:Wallclock time limit for intensification reached (used: 174.291736 sec, available: 0.000010 sec)\n"
     ]
    },
    {
     "name": "stdout",
     "output_type": "stream",
     "text": [
      "\n",
      "True Dynamics Cost:  200.0\n",
      "True Dynamics Final State:  [-3.03745733 -4.49359627  1.8758177   0.33290872]\n",
      "use_cuda=True\n",
      "MLP Using Cuda\n",
      "hidden_sizes= [53, 150]\n",
      "100%|██████████| 50/50 [01:26<00:00,  1.73s/it]\n",
      "Simulating Surrogate Trajectory: \n",
      " 99%|█████████▉| 198/200 [00:29<00:00,  6.78it/s]\n",
      "Surrogate Cost:  200.0\n",
      "Surrogate Final State:  [ 3.14835641  0.00505189 -0.28980728 -0.03468675]\n",
      "Simulating True Dynamics Trajectory\n",
      " 99%|█████████▉| 198/200 [00:29<00:00,  6.62it/s]"
     ]
    },
    {
     "name": "stderr",
     "output_type": "stream",
     "text": [
      "INFO:smac.intensification.intensification.Intensifier:Wallclock time limit for intensification reached (used: 145.571339 sec, available: 0.000010 sec)\n"
     ]
    },
    {
     "name": "stdout",
     "output_type": "stream",
     "text": [
      "\n",
      "True Dynamics Cost:  200.0\n",
      "True Dynamics Final State:  [ 3.13762503e+00 -1.80972869e-03 -3.14968769e-01 -2.39010575e-03]\n",
      "use_cuda=True\n",
      "MLP Using Cuda\n",
      "hidden_sizes= [35, 134, 82]\n",
      "100%|██████████| 50/50 [01:50<00:00,  2.22s/it]\n",
      "Simulating Surrogate Trajectory: \n",
      " 99%|█████████▉| 198/200 [00:54<00:00,  3.60it/s]\n",
      "Surrogate Cost:  199.0\n",
      "Surrogate Final State:  [ 3.43460683  2.13757824 -1.38864817  0.76962643]\n",
      "Simulating True Dynamics Trajectory\n",
      " 99%|█████████▉| 198/200 [00:51<00:00,  3.83it/s]"
     ]
    },
    {
     "name": "stderr",
     "output_type": "stream",
     "text": [
      "INFO:smac.intensification.intensification.Intensifier:Wallclock time limit for intensification reached (used: 217.605185 sec, available: 0.000010 sec)\n"
     ]
    },
    {
     "name": "stdout",
     "output_type": "stream",
     "text": [
      "\n",
      "True Dynamics Cost:  200.0\n",
      "True Dynamics Final State:  [ 3.46946622  1.61748126 -1.26309318  0.42361565]\n",
      "use_cuda=True\n",
      "MLP Using Cuda\n",
      "hidden_sizes= [44, 132, 131]\n",
      "100%|██████████| 50/50 [01:50<00:00,  2.21s/it]\n",
      "Simulating Surrogate Trajectory: \n",
      " 99%|█████████▉| 198/200 [00:29<00:00,  6.82it/s]\n",
      "Surrogate Cost:  73.0\n",
      "Surrogate Final State:  [-0.01536226  0.00209565 -0.02568899 -0.03602577]\n",
      "Simulating True Dynamics Trajectory\n",
      " 99%|█████████▉| 198/200 [00:26<00:00,  7.55it/s]"
     ]
    },
    {
     "name": "stderr",
     "output_type": "stream",
     "text": [
      "INFO:smac.intensification.intensification.Intensifier:Challenger (73.0000) is better than incumbent (150.0000) on 1 runs.\n"
     ]
    },
    {
     "name": "stdout",
     "output_type": "stream",
     "text": [
      "\n",
      "True Dynamics Cost:  61.0\n",
      "True Dynamics Final State:  [-0.00053287  0.00655393  0.03990036  0.00785957]\n"
     ]
    },
    {
     "name": "stderr",
     "output_type": "stream",
     "text": [
      "INFO:smac.intensification.intensification.Intensifier:Changes in incumbent:\n",
      "INFO:smac.intensification.intensification.Intensifier:  _cost:dx_F : 805.8421877614824 -> 1233.1267677928226\n",
      "INFO:smac.intensification.intensification.Intensifier:  _cost:dx_Q : 0.033982083289425605 -> 0.05134214094807894\n",
      "INFO:smac.intensification.intensification.Intensifier:  _cost:omega_F : 0.004531583637600819 -> 0.004668128777211037\n",
      "INFO:smac.intensification.intensification.Intensifier:  _cost:omega_Q : 0.0124093776075172 -> 0.011887198551763617\n",
      "INFO:smac.intensification.intensification.Intensifier:  _cost:theta_F : 5.232991146814948 -> 9.393324497426475\n",
      "INFO:smac.intensification.intensification.Intensifier:  _cost:theta_Q : 0.004531583637600819 -> 0.0010332840967745137\n",
      "INFO:smac.intensification.intensification.Intensifier:  _cost:u_R : 0.0930572040929699 -> 0.10380303770562607\n",
      "INFO:smac.intensification.intensification.Intensifier:  _cost:x_F : 14.330125702369648 -> 62.83189036816617\n",
      "INFO:smac.intensification.intensification.Intensifier:  _cost:x_Q : 5.232991146814948 -> 0.332199696152417\n",
      "INFO:smac.intensification.intensification.Intensifier:  _ctrlr:horizon : 18 -> 15\n",
      "INFO:smac.intensification.intensification.Intensifier:  _model:hidden_size_1 : 53 -> 44\n",
      "INFO:smac.intensification.intensification.Intensifier:  _model:hidden_size_2 : 144 -> 132\n",
      "INFO:smac.intensification.intensification.Intensifier:  _model:hidden_size_3 : 83 -> 131\n",
      "INFO:smac.intensification.intensification.Intensifier:  _model:lr : 2.942727176209284e-05 -> 1.9238007497426624e-05\n",
      "INFO:smac.intensification.intensification.Intensifier:Wallclock time limit for intensification reached (used: 165.947286 sec, available: 0.000010 sec)\n"
     ]
    },
    {
     "name": "stdout",
     "output_type": "stream",
     "text": [
      "use_cuda=True\n",
      "MLP Using Cuda\n",
      "hidden_sizes= [22, 124]\n",
      "100%|██████████| 50/50 [01:26<00:00,  1.72s/it]\n",
      "Simulating Surrogate Trajectory: \n",
      " 99%|█████████▉| 198/200 [00:43<00:00,  4.51it/s]\n",
      "Surrogate Cost:  200.0\n",
      "Surrogate Final State:  [ 3.04094178  2.67994919 -0.74157606 -0.17046707]\n",
      "Simulating True Dynamics Trajectory\n",
      " 99%|█████████▉| 198/200 [00:41<00:00,  4.78it/s]"
     ]
    },
    {
     "name": "stderr",
     "output_type": "stream",
     "text": [
      "INFO:smac.intensification.intensification.Intensifier:Wallclock time limit for intensification reached (used: 171.405473 sec, available: 0.000010 sec)\n"
     ]
    },
    {
     "name": "stdout",
     "output_type": "stream",
     "text": [
      "\n",
      "True Dynamics Cost:  200.0\n",
      "True Dynamics Final State:  [ 3.54053712  2.44717284 -0.86742711 -0.54736045]\n",
      "use_cuda=True\n",
      "MLP Using Cuda\n",
      "hidden_sizes= [53, 150, 128]\n",
      "100%|██████████| 50/50 [01:48<00:00,  2.17s/it]\n",
      "Simulating Surrogate Trajectory: \n",
      " 99%|█████████▉| 198/200 [00:29<00:00,  6.70it/s]\n",
      "Surrogate Cost:  197.0\n",
      "Surrogate Final State:  [-0.05380533  0.18582799 -0.87999413  1.10360496]\n",
      "Simulating True Dynamics Trajectory\n",
      " 99%|█████████▉| 198/200 [00:36<00:00,  5.40it/s]"
     ]
    },
    {
     "name": "stderr",
     "output_type": "stream",
     "text": [
      "INFO:smac.intensification.intensification.Intensifier:Wallclock time limit for intensification reached (used: 174.631979 sec, available: 0.000010 sec)\n"
     ]
    },
    {
     "name": "stdout",
     "output_type": "stream",
     "text": [
      "\n",
      "True Dynamics Cost:  200.0\n",
      "True Dynamics Final State:  [ 1.11166944  1.45360625 -0.85732556 -5.48957286]\n",
      "use_cuda=True\n",
      "MLP Using Cuda\n",
      "hidden_sizes= [58, 143, 131]\n",
      "100%|██████████| 50/50 [01:49<00:00,  2.20s/it]\n",
      "Simulating Surrogate Trajectory: \n",
      " 99%|█████████▉| 198/200 [00:59<00:00,  3.31it/s]\n",
      "Surrogate Cost:  200.0\n",
      "Surrogate Final State:  [ 0.88062778  0.09249788  0.6634459  -0.42074066]\n",
      "Simulating True Dynamics Trajectory\n",
      " 99%|█████████▉| 198/200 [00:58<00:00,  3.41it/s]"
     ]
    },
    {
     "name": "stderr",
     "output_type": "stream",
     "text": [
      "INFO:smac.intensification.intensification.Intensifier:Wallclock time limit for intensification reached (used: 227.807828 sec, available: 0.000010 sec)\n"
     ]
    },
    {
     "name": "stdout",
     "output_type": "stream",
     "text": [
      "\n",
      "True Dynamics Cost:  200.0\n",
      "True Dynamics Final State:  [ 0.90030842 -0.42232893  0.62232628  0.24405522]\n",
      "use_cuda=True\n",
      "MLP Using Cuda\n",
      "hidden_sizes= [65, 144, 131]\n",
      "100%|██████████| 50/50 [01:49<00:00,  2.20s/it]\n",
      "Simulating Surrogate Trajectory: \n",
      " 99%|█████████▉| 198/200 [00:34<00:00,  5.78it/s]\n",
      "Surrogate Cost:  193.0\n",
      "Surrogate Final State:  [-0.01867284 -0.02007367 -0.24958892 -0.07201125]\n",
      "Simulating True Dynamics Trajectory\n",
      " 99%|█████████▉| 198/200 [00:26<00:00,  7.46it/s]"
     ]
    },
    {
     "name": "stderr",
     "output_type": "stream",
     "text": [
      "INFO:smac.intensification.intensification.Intensifier:Wallclock time limit for intensification reached (used: 170.613715 sec, available: 0.000010 sec)\n"
     ]
    },
    {
     "name": "stdout",
     "output_type": "stream",
     "text": [
      "\n",
      "True Dynamics Cost:  91.0\n",
      "True Dynamics Final State:  [-0.00134689  0.00175858 -0.18211277 -0.00034138]\n",
      "use_cuda=True\n",
      "MLP Using Cuda\n",
      "hidden_sizes= [43, 141, 83]\n",
      "100%|██████████| 50/50 [01:50<00:00,  2.22s/it]\n",
      "Simulating Surrogate Trajectory: \n",
      " 99%|█████████▉| 198/200 [00:37<00:00,  5.29it/s]\n",
      "Surrogate Cost:  200.0\n",
      "Surrogate Final State:  [ 3.16524733 -0.00607774 -0.64243247 -0.02953309]\n",
      "Simulating True Dynamics Trajectory\n",
      " 99%|█████████▉| 198/200 [00:32<00:00,  6.07it/s]"
     ]
    },
    {
     "name": "stderr",
     "output_type": "stream",
     "text": [
      "INFO:smac.intensification.intensification.Intensifier:Wallclock time limit for intensification reached (used: 181.098184 sec, available: 0.000010 sec)\n"
     ]
    },
    {
     "name": "stdout",
     "output_type": "stream",
     "text": [
      "\n",
      "True Dynamics Cost:  200.0\n",
      "True Dynamics Final State:  [ 3.1206915   0.07463506 -0.651032   -0.04405614]\n",
      "use_cuda=True\n",
      "MLP Using Cuda\n",
      "hidden_sizes= [44, 128]\n",
      "100%|██████████| 50/50 [01:24<00:00,  1.69s/it]\n",
      "Simulating Surrogate Trajectory: \n",
      " 99%|█████████▉| 198/200 [00:51<00:00,  3.87it/s]\n",
      "Surrogate Cost:  200.0\n",
      "Surrogate Final State:  [ 2.33475066  1.27497006 -0.92963445  0.65518336]\n",
      "Simulating True Dynamics Trajectory\n",
      " 99%|█████████▉| 198/200 [00:51<00:00,  3.85it/s]"
     ]
    },
    {
     "name": "stderr",
     "output_type": "stream",
     "text": [
      "INFO:smac.intensification.intensification.Intensifier:Wallclock time limit for intensification reached (used: 187.281054 sec, available: 0.000010 sec)\n"
     ]
    },
    {
     "name": "stdout",
     "output_type": "stream",
     "text": [
      "\n",
      "True Dynamics Cost:  200.0\n",
      "True Dynamics Final State:  [ 2.17808368  1.67698941 -0.79703188  0.33871928]\n",
      "use_cuda=True\n",
      "MLP Using Cuda\n",
      "hidden_sizes= [34, 119, 137]\n",
      "100%|██████████| 50/50 [01:50<00:00,  2.22s/it]\n",
      "Simulating Surrogate Trajectory: \n",
      " 99%|█████████▉| 198/200 [00:38<00:00,  5.17it/s]\n",
      "Surrogate Cost:  200.0\n",
      "Surrogate Final State:  [-0.55556107 -2.76137118  1.97884129  0.02069309]\n",
      "Simulating True Dynamics Trajectory\n",
      " 99%|█████████▉| 198/200 [00:38<00:00,  5.16it/s]"
     ]
    },
    {
     "name": "stderr",
     "output_type": "stream",
     "text": [
      "INFO:smac.intensification.intensification.Intensifier:Wallclock time limit for intensification reached (used: 187.621377 sec, available: 0.000010 sec)\n"
     ]
    },
    {
     "name": "stdout",
     "output_type": "stream",
     "text": [
      "\n",
      "True Dynamics Cost:  200.0\n",
      "True Dynamics Final State:  [-0.24576381 -0.70763593  0.81133856  0.05491135]\n",
      "use_cuda=True\n",
      "MLP Using Cuda\n",
      "hidden_sizes= [222]\n",
      "100%|██████████| 50/50 [01:00<00:00,  1.22s/it]\n",
      "Simulating Surrogate Trajectory: \n",
      " 99%|█████████▉| 198/200 [00:06<00:00, 31.11it/s]\n",
      "Surrogate Cost:  200.0\n",
      "Surrogate Final State:  [ 3.16190072 -0.00457458  1.0371593   0.1263064 ]\n",
      "Simulating True Dynamics Trajectory\n",
      " 99%|█████████▉| 198/200 [00:06<00:00, 31.08it/s]"
     ]
    },
    {
     "name": "stderr",
     "output_type": "stream",
     "text": [
      "INFO:smac.intensification.intensification.Intensifier:Wallclock time limit for intensification reached (used: 73.540817 sec, available: 0.000010 sec)\n"
     ]
    },
    {
     "name": "stdout",
     "output_type": "stream",
     "text": [
      "\n",
      "True Dynamics Cost:  200.0\n",
      "True Dynamics Final State:  [ 3.14803329e+00 -1.46326829e-03 -3.34784692e+00 -7.00103192e-01]\n",
      "use_cuda=True\n",
      "MLP Using Cuda\n",
      "hidden_sizes= [53, 28, 253]\n",
      "100%|██████████| 50/50 [01:50<00:00,  2.22s/it]\n",
      "Simulating Surrogate Trajectory: \n",
      " 99%|█████████▉| 198/200 [02:03<00:01,  1.60it/s]\n",
      "Surrogate Cost:  200.0\n",
      "Surrogate Final State:  [3.01721901 0.58463326 7.39867106 1.93465583]\n",
      "Simulating True Dynamics Trajectory\n",
      " 99%|█████████▉| 198/200 [02:02<00:01,  1.61it/s]"
     ]
    },
    {
     "name": "stderr",
     "output_type": "stream",
     "text": [
      "INFO:smac.intensification.intensification.Intensifier:Wallclock time limit for intensification reached (used: 357.677819 sec, available: 0.000010 sec)\n"
     ]
    },
    {
     "name": "stdout",
     "output_type": "stream",
     "text": [
      "\n",
      "True Dynamics Cost:  200.0\n",
      "True Dynamics Final State:  [ 3.05518139  0.01793399 -1.55458202  1.26677894]\n",
      "use_cuda=True\n",
      "MLP Using Cuda\n",
      "hidden_sizes= [38, 144, 127]\n",
      "100%|██████████| 50/50 [01:49<00:00,  2.20s/it]\n",
      "Simulating Surrogate Trajectory: \n",
      " 99%|█████████▉| 198/200 [00:31<00:00,  6.20it/s]\n",
      "Surrogate Cost:  184.0\n",
      "Surrogate Final State:  [-0.00537444  0.01634604 -0.27307468  0.03936437]\n",
      "Simulating True Dynamics Trajectory\n",
      " 99%|█████████▉| 198/200 [00:28<00:00,  6.86it/s]"
     ]
    },
    {
     "name": "stderr",
     "output_type": "stream",
     "text": [
      "INFO:smac.intensification.intensification.Intensifier:Wallclock time limit for intensification reached (used: 170.793172 sec, available: 0.000010 sec)\n"
     ]
    },
    {
     "name": "stdout",
     "output_type": "stream",
     "text": [
      "\n",
      "True Dynamics Cost:  175.0\n",
      "True Dynamics Final State:  [-0.00336351 -0.01663448 -0.2283841  -0.04019503]\n",
      "use_cuda=True\n",
      "MLP Using Cuda\n",
      "hidden_sizes= [84, 146]\n",
      "100%|██████████| 50/50 [01:25<00:00,  1.72s/it]\n",
      "Simulating Surrogate Trajectory: \n",
      " 99%|█████████▉| 198/200 [00:32<00:00,  6.03it/s]\n",
      "Surrogate Cost:  200.0\n",
      "Surrogate Final State:  [ 3.14400064  0.00890523 -0.44953099 -0.01842983]\n",
      "Simulating True Dynamics Trajectory\n",
      " 99%|█████████▉| 198/200 [00:34<00:00,  5.76it/s]"
     ]
    },
    {
     "name": "stderr",
     "output_type": "stream",
     "text": [
      "INFO:smac.intensification.intensification.Intensifier:Wallclock time limit for intensification reached (used: 152.990099 sec, available: 0.000010 sec)\n"
     ]
    },
    {
     "name": "stdout",
     "output_type": "stream",
     "text": [
      "\n",
      "True Dynamics Cost:  200.0\n",
      "True Dynamics Final State:  [ 3.14266199 -0.0192175  -0.45997496 -0.01371451]\n",
      "use_cuda=True\n",
      "MLP Using Cuda\n",
      "hidden_sizes= [76, 146, 155]\n",
      "100%|██████████| 50/50 [01:49<00:00,  2.19s/it]\n",
      "Simulating Surrogate Trajectory: \n",
      " 99%|█████████▉| 198/200 [00:54<00:00,  3.60it/s]\n",
      "Surrogate Cost:  197.0\n",
      "Surrogate Final State:  [-0.35737724  0.14085135  0.1446524   2.92528968]\n",
      "Simulating True Dynamics Trajectory\n",
      " 99%|█████████▉| 198/200 [00:52<00:00,  3.79it/s]"
     ]
    },
    {
     "name": "stderr",
     "output_type": "stream",
     "text": [
      "INFO:smac.intensification.intensification.Intensifier:Wallclock time limit for intensification reached (used: 216.719340 sec, available: 0.000010 sec)\n"
     ]
    },
    {
     "name": "stdout",
     "output_type": "stream",
     "text": [
      "\n",
      "True Dynamics Cost:  200.0\n",
      "True Dynamics Final State:  [-1.87288165 -4.08402819  0.55653928  3.93018073]\n",
      "use_cuda=True\n",
      "MLP Using Cuda\n",
      "hidden_sizes= [52, 144, 146, 128]\n",
      "100%|██████████| 50/50 [02:18<00:00,  2.77s/it]\n",
      "Simulating Surrogate Trajectory: \n",
      " 99%|█████████▉| 198/200 [00:27<00:00,  7.08it/s]\n",
      "Surrogate Cost:  71.0\n",
      "Surrogate Final State:  [-0.01532399  0.00218847 -0.1734493  -0.03481739]\n",
      "Simulating True Dynamics Trajectory\n",
      " 99%|█████████▉| 198/200 [00:28<00:00,  6.87it/s]"
     ]
    },
    {
     "name": "stderr",
     "output_type": "stream",
     "text": [
      "INFO:smac.intensification.intensification.Intensifier:Challenger (71.0000) is better than incumbent (73.0000) on 1 runs.\n",
      "INFO:smac.intensification.intensification.Intensifier:Changes in incumbent:\n",
      "INFO:smac.intensification.intensification.Intensifier:  _cost:dx_F : 1233.1267677928226 -> 5915.448051127327\n",
      "INFO:smac.intensification.intensification.Intensifier:  _cost:dx_Q : 0.05134214094807894 -> 0.12736315303690632\n",
      "INFO:smac.intensification.intensification.Intensifier:  _cost:omega_F : 0.004668128777211037 -> 0.004640107866457608\n",
      "INFO:smac.intensification.intensification.Intensifier:  _cost:u_R : 0.10380303770562607 -> 0.029833471229469166\n",
      "INFO:smac.intensification.intensification.Intensifier:  _cost:x_F : 62.83189036816617 -> 516.5986574059903\n",
      "INFO:smac.intensification.intensification.Intensifier:  _ctrlr:horizon : 15 -> 20\n",
      "INFO:smac.intensification.intensification.Intensifier:  _model:hidden_size_1 : 44 -> 52\n",
      "INFO:smac.intensification.intensification.Intensifier:  _model:hidden_size_2 : 132 -> 144\n",
      "INFO:smac.intensification.intensification.Intensifier:  _model:hidden_size_3 : 131 -> 146\n",
      "INFO:smac.intensification.intensification.Intensifier:  _model:hidden_size_4 : None -> 128\n",
      "INFO:smac.intensification.intensification.Intensifier:  _model:lr : 1.9238007497426624e-05 -> 1.0929417956477514e-05\n",
      "INFO:smac.intensification.intensification.Intensifier:  _model:n_hidden_layers : '3' -> '4'\n",
      "INFO:smac.intensification.intensification.Intensifier:Wallclock time limit for intensification reached (used: 195.341392 sec, available: 0.000010 sec)\n"
     ]
    },
    {
     "name": "stdout",
     "output_type": "stream",
     "text": [
      "\n",
      "True Dynamics Cost:  51.0\n",
      "True Dynamics Final State:  [ 2.85558829e-05 -1.03993607e-04 -1.07768607e-01 -1.93041654e-04]\n",
      "use_cuda=True\n",
      "MLP Using Cuda\n",
      "hidden_sizes= [44, 145, 133]\n",
      "100%|██████████| 50/50 [01:48<00:00,  2.18s/it]\n",
      "Simulating Surrogate Trajectory: \n",
      " 99%|█████████▉| 198/200 [00:45<00:00,  4.33it/s]\n",
      "Surrogate Cost:  197.0\n",
      "Surrogate Final State:  [19.382215    5.42032692  2.23930227 -5.50996418]\n",
      "Simulating True Dynamics Trajectory\n",
      " 99%|█████████▉| 198/200 [01:02<00:00,  3.17it/s]"
     ]
    },
    {
     "name": "stderr",
     "output_type": "stream",
     "text": [
      "INFO:smac.intensification.intensification.Intensifier:Wallclock time limit for intensification reached (used: 216.934739 sec, available: 0.000010 sec)\n"
     ]
    },
    {
     "name": "stdout",
     "output_type": "stream",
     "text": [
      "\n",
      "True Dynamics Cost:  200.0\n",
      "True Dynamics Final State:  [ 8.69545671  1.56526881 -0.06285407  1.34259811]\n",
      "use_cuda=True\n",
      "MLP Using Cuda\n",
      "hidden_sizes= [52, 144, 146, 128]\n",
      "100%|██████████| 50/50 [02:15<00:00,  2.70s/it]\n",
      "Simulating Surrogate Trajectory: \n",
      " 99%|█████████▉| 198/200 [00:40<00:00,  4.88it/s]\n",
      "Surrogate Cost:  188.0\n",
      "Surrogate Final State:  [-0.01628929 -0.0015692  -0.31447884 -0.05270482]\n",
      "Simulating True Dynamics Trajectory\n",
      " 99%|█████████▉| 198/200 [00:26<00:00,  7.40it/s]"
     ]
    },
    {
     "name": "stderr",
     "output_type": "stream",
     "text": [
      "INFO:smac.intensification.intensification.Intensifier:Wallclock time limit for intensification reached (used: 202.556367 sec, available: 0.000010 sec)\n"
     ]
    },
    {
     "name": "stdout",
     "output_type": "stream",
     "text": [
      "\n",
      "True Dynamics Cost:  183.0\n",
      "True Dynamics Final State:  [-0.00096077  0.0004421  -0.249385   -0.00307779]\n",
      "use_cuda=True\n",
      "MLP Using Cuda\n",
      "hidden_sizes= [18, 125, 137]\n",
      "100%|██████████| 50/50 [01:48<00:00,  2.17s/it]\n",
      "Simulating Surrogate Trajectory: \n",
      " 99%|█████████▉| 198/200 [00:47<00:00,  4.20it/s]\n",
      "Surrogate Cost:  200.0\n",
      "Surrogate Final State:  [ 2.39434435 -4.33275213 -1.87212896  4.11292397]\n",
      "Simulating True Dynamics Trajectory\n",
      " 99%|█████████▉| 198/200 [00:44<00:00,  4.40it/s]"
     ]
    },
    {
     "name": "stderr",
     "output_type": "stream",
     "text": [
      "INFO:smac.intensification.intensification.Intensifier:Wallclock time limit for intensification reached (used: 200.455730 sec, available: 0.000010 sec)\n"
     ]
    },
    {
     "name": "stdout",
     "output_type": "stream",
     "text": [
      "\n",
      "True Dynamics Cost:  200.0\n",
      "True Dynamics Final State:  [ 2.32860198  3.56472296 -1.60455192 -2.75442987]\n",
      "use_cuda=True\n",
      "MLP Using Cuda\n",
      "hidden_sizes= [62, 124, 131, 111]\n",
      "100%|██████████| 50/50 [02:17<00:00,  2.75s/it]\n",
      "Simulating Surrogate Trajectory: \n",
      " 99%|█████████▉| 198/200 [00:59<00:00,  3.35it/s]\n",
      "Surrogate Cost:  200.0\n",
      "Surrogate Final State:  [ 3.20098876  0.06695698 -1.28529394 -0.06131363]\n",
      "Simulating True Dynamics Trajectory\n",
      " 99%|█████████▉| 198/200 [00:59<00:00,  3.31it/s]"
     ]
    },
    {
     "name": "stderr",
     "output_type": "stream",
     "text": [
      "INFO:smac.intensification.intensification.Intensifier:Wallclock time limit for intensification reached (used: 256.315400 sec, available: 0.000010 sec)\n"
     ]
    },
    {
     "name": "stdout",
     "output_type": "stream",
     "text": [
      "\n",
      "True Dynamics Cost:  200.0\n",
      "True Dynamics Final State:  [ 3.14980377e+00  2.09612959e-03 -1.29142834e+00 -1.57319295e-03]\n",
      "use_cuda=True\n",
      "MLP Using Cuda\n",
      "hidden_sizes= [55, 110, 125]\n",
      "100%|██████████| 50/50 [01:50<00:00,  2.22s/it]\n",
      "Simulating Surrogate Trajectory: \n",
      " 99%|█████████▉| 198/200 [00:48<00:00,  4.10it/s]\n",
      "Surrogate Cost:  200.0\n",
      "Surrogate Final State:  [-0.80424277 -3.84778942  1.55546229 -2.12094999]\n",
      "Simulating True Dynamics Trajectory\n",
      " 99%|█████████▉| 198/200 [00:39<00:00,  5.05it/s]"
     ]
    },
    {
     "name": "stderr",
     "output_type": "stream",
     "text": [
      "INFO:smac.intensification.intensification.Intensifier:Wallclock time limit for intensification reached (used: 198.364168 sec, available: 0.000010 sec)\n"
     ]
    },
    {
     "name": "stdout",
     "output_type": "stream",
     "text": [
      "\n",
      "True Dynamics Cost:  167.0\n",
      "True Dynamics Final State:  [-0.00338207  0.00921894  0.14935413  0.00830105]\n",
      "use_cuda=True\n",
      "MLP Using Cuda\n",
      "hidden_sizes= [52, 115, 147, 128]\n",
      "100%|██████████| 50/50 [02:18<00:00,  2.77s/it]\n",
      "Simulating Surrogate Trajectory: \n",
      " 99%|█████████▉| 198/200 [00:31<00:00,  6.26it/s]\n",
      "Surrogate Cost:  106.0\n",
      "Surrogate Final State:  [-0.02440699  0.00762518 -0.04766685 -0.04716236]\n",
      "Simulating True Dynamics Trajectory\n",
      " 99%|█████████▉| 198/200 [00:34<00:00,  5.77it/s]"
     ]
    },
    {
     "name": "stderr",
     "output_type": "stream",
     "text": [
      "INFO:smac.intensification.intensification.Intensifier:Wallclock time limit for intensification reached (used: 204.413314 sec, available: 0.000010 sec)\n"
     ]
    },
    {
     "name": "stdout",
     "output_type": "stream",
     "text": [
      "\n",
      "True Dynamics Cost:  122.0\n",
      "True Dynamics Final State:  [ 0.00151983  0.05044781 -0.00167085  0.10240873]\n",
      "use_cuda=True\n",
      "MLP Using Cuda\n",
      "hidden_sizes= [19, 132]\n",
      "100%|██████████| 50/50 [01:25<00:00,  1.71s/it]\n",
      "Simulating Surrogate Trajectory: \n",
      " 99%|█████████▉| 198/200 [00:33<00:00,  5.97it/s]\n",
      "Surrogate Cost:  200.0\n",
      "Surrogate Final State:  [ 2.31571704 -2.16669547 -1.31322688  1.85776506]\n",
      "Simulating True Dynamics Trajectory\n",
      " 99%|█████████▉| 198/200 [00:33<00:00,  5.96it/s]"
     ]
    },
    {
     "name": "stderr",
     "output_type": "stream",
     "text": [
      "INFO:smac.intensification.intensification.Intensifier:Wallclock time limit for intensification reached (used: 152.099454 sec, available: 0.000010 sec)\n"
     ]
    },
    {
     "name": "stdout",
     "output_type": "stream",
     "text": [
      "\n",
      "True Dynamics Cost:  200.0\n",
      "True Dynamics Final State:  [ 2.16578033 -1.14539344 -1.21678548  1.48266053]\n",
      "use_cuda=True\n",
      "MLP Using Cuda\n",
      "hidden_sizes= [34, 154, 142, 128]\n",
      "100%|██████████| 50/50 [02:16<00:00,  2.73s/it]\n",
      "Simulating Surrogate Trajectory: \n",
      " 99%|█████████▉| 198/200 [01:03<00:00,  3.14it/s]\n",
      "Surrogate Cost:  200.0\n",
      "Surrogate Final State:  [-0.74054843 -0.97826061  0.58148549  3.46823482]\n",
      "Simulating True Dynamics Trajectory\n",
      " 99%|█████████▉| 198/200 [00:56<00:00,  3.48it/s]"
     ]
    },
    {
     "name": "stderr",
     "output_type": "stream",
     "text": [
      "INFO:smac.intensification.intensification.Intensifier:Wallclock time limit for intensification reached (used: 256.567007 sec, available: 0.000010 sec)\n"
     ]
    },
    {
     "name": "stdout",
     "output_type": "stream",
     "text": [
      "\n",
      "True Dynamics Cost:  200.0\n",
      "True Dynamics Final State:  [-2.61955482  5.61361414  1.42134172 -3.74144292]\n",
      "use_cuda=True\n",
      "MLP Using Cuda\n",
      "hidden_sizes= [50, 127, 146]\n",
      "100%|██████████| 50/50 [01:50<00:00,  2.21s/it]\n",
      "Simulating Surrogate Trajectory: \n",
      " 99%|█████████▉| 198/200 [00:46<00:00,  4.25it/s]\n",
      "Surrogate Cost:  200.0\n",
      "Surrogate Final State:  [-3.0637965  -3.86123011  2.61580897 -0.51389299]\n",
      "Simulating True Dynamics Trajectory\n",
      " 99%|█████████▉| 198/200 [00:46<00:00,  4.30it/s]"
     ]
    },
    {
     "name": "stderr",
     "output_type": "stream",
     "text": [
      "INFO:smac.intensification.intensification.Intensifier:Wallclock time limit for intensification reached (used: 203.054479 sec, available: 0.000010 sec)\n"
     ]
    },
    {
     "name": "stdout",
     "output_type": "stream",
     "text": [
      "\n",
      "True Dynamics Cost:  200.0\n",
      "True Dynamics Final State:  [-1.03446615 -5.41818572  1.6541993  -2.39402389]\n",
      "use_cuda=True\n",
      "MLP Using Cuda\n",
      "hidden_sizes= [52, 110, 146, 128]\n",
      "100%|██████████| 50/50 [02:15<00:00,  2.71s/it]\n",
      "Simulating Surrogate Trajectory: \n",
      " 99%|█████████▉| 198/200 [00:52<00:00,  3.75it/s]\n",
      "Surrogate Cost:  200.0\n",
      "Surrogate Final State:  [-2.43823761 -4.88998428  2.6481521   0.89004922]\n",
      "Simulating True Dynamics Trajectory\n",
      " 99%|█████████▉| 198/200 [00:54<00:00,  3.60it/s]"
     ]
    },
    {
     "name": "stderr",
     "output_type": "stream",
     "text": [
      "INFO:smac.intensification.intensification.Intensifier:Wallclock time limit for intensification reached (used: 243.320461 sec, available: 0.000010 sec)\n"
     ]
    },
    {
     "name": "stdout",
     "output_type": "stream",
     "text": [
      "\n",
      "True Dynamics Cost:  200.0\n",
      "True Dynamics Final State:  [-2.10673205 -5.12065801  2.44470092  2.14112188]\n",
      "use_cuda=True\n",
      "MLP Using Cuda\n",
      "hidden_sizes= [61, 136, 169, 158]\n",
      "100%|██████████| 50/50 [02:18<00:00,  2.76s/it]\n",
      "Simulating Surrogate Trajectory: \n",
      " 99%|█████████▉| 198/200 [00:24<00:00,  8.19it/s]\n",
      "Surrogate Cost:  78.0\n",
      "Surrogate Final State:  [-0.01532202  0.00224957 -0.15160314 -0.03492671]\n",
      "Simulating True Dynamics Trajectory\n",
      " 99%|█████████▉| 198/200 [00:19<00:00, 10.41it/s]"
     ]
    },
    {
     "name": "stderr",
     "output_type": "stream",
     "text": [
      "INFO:smac.intensification.intensification.Intensifier:Wallclock time limit for intensification reached (used: 181.252445 sec, available: 0.000010 sec)\n"
     ]
    },
    {
     "name": "stdout",
     "output_type": "stream",
     "text": [
      "\n",
      "True Dynamics Cost:  48.0\n",
      "True Dynamics Final State:  [-6.00000850e-07  1.95581221e-06 -1.02793914e-01  1.27172174e-06]\n",
      "use_cuda=True\n",
      "MLP Using Cuda\n",
      "hidden_sizes= [52, 138, 157, 164]\n",
      "100%|██████████| 50/50 [02:15<00:00,  2.70s/it]\n",
      "Simulating Surrogate Trajectory: \n",
      " 99%|█████████▉| 198/200 [01:03<00:00,  3.10it/s]\n",
      "Surrogate Cost:  200.0\n",
      "Surrogate Final State:  [ 2.59583768 -3.34139609 -2.05971685  2.37793589]\n",
      "Simulating True Dynamics Trajectory\n",
      " 99%|█████████▉| 198/200 [01:02<00:00,  3.15it/s]"
     ]
    },
    {
     "name": "stderr",
     "output_type": "stream",
     "text": [
      "INFO:smac.intensification.intensification.Intensifier:Wallclock time limit for intensification reached (used: 261.865458 sec, available: 0.000010 sec)\n"
     ]
    },
    {
     "name": "stdout",
     "output_type": "stream",
     "text": [
      "\n",
      "True Dynamics Cost:  200.0\n",
      "True Dynamics Final State:  [ 2.35522574 -2.64785398 -1.93832882  2.31794148]\n",
      "use_cuda=True\n",
      "MLP Using Cuda\n",
      "hidden_sizes= [70, 80, 226, 79]\n",
      "100%|██████████| 50/50 [02:12<00:00,  2.66s/it]\n",
      "Simulating Surrogate Trajectory: \n",
      " 99%|█████████▉| 198/200 [02:17<00:01,  1.44it/s]\n",
      "Surrogate Cost:  200.0\n",
      "Surrogate Final State:  [ 3.23632684 -0.15194639  1.73455623  0.34382001]\n",
      "Simulating True Dynamics Trajectory\n",
      " 99%|█████████▉| 198/200 [02:17<00:01,  1.44it/s]"
     ]
    },
    {
     "name": "stderr",
     "output_type": "stream",
     "text": [
      "INFO:smac.intensification.intensification.Intensifier:Wallclock time limit for intensification reached (used: 407.305555 sec, available: 0.000010 sec)\n"
     ]
    },
    {
     "name": "stdout",
     "output_type": "stream",
     "text": [
      "\n",
      "True Dynamics Cost:  200.0\n",
      "True Dynamics Final State:  [ 3.19968457 -0.32548516  0.94186206  0.06524826]\n",
      "use_cuda=True\n",
      "MLP Using Cuda\n",
      "hidden_sizes= [54, 148, 146, 146]\n",
      "100%|██████████| 50/50 [02:17<00:00,  2.75s/it]\n",
      "Simulating Surrogate Trajectory: \n",
      " 99%|█████████▉| 198/200 [00:30<00:00,  6.45it/s]\n",
      "Surrogate Cost:  200.0\n",
      "Surrogate Final State:  [ 1.15412616 -0.22841489  0.85511836 -2.01305427]\n",
      "Simulating True Dynamics Trajectory\n",
      " 99%|█████████▉| 198/200 [00:29<00:00,  6.68it/s]"
     ]
    },
    {
     "name": "stderr",
     "output_type": "stream",
     "text": [
      "INFO:smac.intensification.intensification.Intensifier:Wallclock time limit for intensification reached (used: 197.996563 sec, available: 0.000010 sec)\n"
     ]
    },
    {
     "name": "stdout",
     "output_type": "stream",
     "text": [
      "\n",
      "True Dynamics Cost:  200.0\n",
      "True Dynamics Final State:  [ 0.98727069 -0.78602359  0.65777417 -3.47754131]\n",
      "use_cuda=True\n",
      "MLP Using Cuda\n",
      "hidden_sizes= [50, 127, 177, 104]\n",
      "100%|██████████| 50/50 [02:15<00:00,  2.71s/it]\n",
      "Simulating Surrogate Trajectory: \n",
      " 99%|█████████▉| 198/200 [00:43<00:00,  4.58it/s]\n",
      "Surrogate Cost:  200.0\n",
      "Surrogate Final State:  [ 2.67734264 -2.38241262 -1.87820287  1.53575472]\n",
      "Simulating True Dynamics Trajectory\n",
      " 99%|█████████▉| 198/200 [00:43<00:00,  4.52it/s]"
     ]
    },
    {
     "name": "stderr",
     "output_type": "stream",
     "text": [
      "INFO:smac.intensification.intensification.Intensifier:Wallclock time limit for intensification reached (used: 222.501212 sec, available: 0.000010 sec)\n"
     ]
    },
    {
     "name": "stdout",
     "output_type": "stream",
     "text": [
      "\n",
      "True Dynamics Cost:  200.0\n",
      "True Dynamics Final State:  [ 2.57745631 -2.15502829 -1.86107915  1.6192996 ]\n",
      "use_cuda=True\n",
      "MLP Using Cuda\n",
      "hidden_sizes= [52, 189, 140, 128]\n",
      "100%|██████████| 50/50 [02:16<00:00,  2.73s/it]\n",
      "Simulating Surrogate Trajectory: \n",
      " 99%|█████████▉| 198/200 [00:44<00:00,  4.47it/s]\n",
      "Surrogate Cost:  200.0\n",
      "Surrogate Final State:  [-2.54021741  5.83896863  1.92216846 -2.57877641]\n",
      "Simulating True Dynamics Trajectory\n",
      " 99%|█████████▉| 198/200 [00:44<00:00,  4.47it/s]"
     ]
    },
    {
     "name": "stderr",
     "output_type": "stream",
     "text": [
      "INFO:smac.intensification.intensification.Intensifier:Wallclock time limit for intensification reached (used: 225.362864 sec, available: 0.000010 sec)\n"
     ]
    },
    {
     "name": "stdout",
     "output_type": "stream",
     "text": [
      "\n",
      "True Dynamics Cost:  200.0\n",
      "True Dynamics Final State:  [ 4.77931404 -0.8723496  -1.88363153 -0.56205449]\n",
      "use_cuda=True\n",
      "MLP Using Cuda\n",
      "hidden_sizes= [52, 135, 158, 128]\n",
      "100%|██████████| 50/50 [02:17<00:00,  2.76s/it]\n",
      "Simulating Surrogate Trajectory: \n",
      " 99%|█████████▉| 198/200 [01:01<00:00,  3.22it/s]\n",
      "Surrogate Cost:  200.0\n",
      "Surrogate Final State:  [ 3.17631549  0.00677386 -1.87254537 -0.0384199 ]\n",
      "Simulating True Dynamics Trajectory\n",
      " 99%|█████████▉| 198/200 [01:07<00:00,  2.93it/s]"
     ]
    },
    {
     "name": "stderr",
     "output_type": "stream",
     "text": [
      "INFO:smac.intensification.intensification.Intensifier:Wallclock time limit for intensification reached (used: 267.010273 sec, available: 0.000010 sec)\n"
     ]
    },
    {
     "name": "stdout",
     "output_type": "stream",
     "text": [
      "\n",
      "True Dynamics Cost:  200.0\n",
      "True Dynamics Final State:  [ 3.14868685e+00 -1.99110351e-02 -1.94442716e+00  1.58554493e-03]\n",
      "use_cuda=True\n",
      "MLP Using Cuda\n",
      "hidden_sizes= [44, 111, 172, 128]\n",
      "100%|██████████| 50/50 [02:18<00:00,  2.76s/it]\n",
      "Simulating Surrogate Trajectory: \n",
      " 99%|█████████▉| 198/200 [00:39<00:00,  5.05it/s]\n",
      "Surrogate Cost:  200.0\n",
      "Surrogate Final State:  [ 3.03003719  3.49999418 -2.02171652 -1.33749727]\n",
      "Simulating True Dynamics Trajectory\n",
      " 99%|█████████▉| 198/200 [00:40<00:00,  4.89it/s]"
     ]
    },
    {
     "name": "stderr",
     "output_type": "stream",
     "text": [
      "INFO:smac.intensification.intensification.Intensifier:Wallclock time limit for intensification reached (used: 217.842963 sec, available: 0.000010 sec)\n"
     ]
    },
    {
     "name": "stdout",
     "output_type": "stream",
     "text": [
      "\n",
      "True Dynamics Cost:  200.0\n",
      "True Dynamics Final State:  [ 1.95340811 -4.67182659 -0.75915421  7.5637272 ]\n",
      "use_cuda=True\n",
      "MLP Using Cuda\n",
      "hidden_sizes= [222, 144, 255]\n",
      "100%|██████████| 50/50 [01:51<00:00,  2.23s/it]\n",
      "Simulating Surrogate Trajectory: \n",
      "  2%|▎         | 5/200 [00:00<00:09, 21.19it/s]"
     ]
    },
    {
     "name": "stderr",
     "output_type": "stream",
     "text": [
      "/home/william/proj/autompc_dev/autompc/control/ilqr.py:535: RuntimeWarning: invalid value encountered in double_scalars\n",
      "  if (obj - new_obj) / (-expect_cost_reduction) > ls_cost_threshold:\n"
     ]
    },
    {
     "name": "stdout",
     "output_type": "stream",
     "text": [
      " 99%|█████████▉| 198/200 [00:05<00:00, 34.15it/s]\n",
      "Surrogate Cost:  200.0\n",
      "Surrogate Final State:  [ 3.15190839 -0.00761527  4.20540384  0.78507825]\n",
      "Simulating True Dynamics Trajectory\n",
      " 99%|█████████▉| 198/200 [00:05<00:00, 35.11it/s]"
     ]
    },
    {
     "name": "stderr",
     "output_type": "stream",
     "text": [
      "INFO:smac.intensification.intensification.Intensifier:Wallclock time limit for intensification reached (used: 123.093554 sec, available: 0.000010 sec)\n"
     ]
    },
    {
     "name": "stdout",
     "output_type": "stream",
     "text": [
      "\n",
      "True Dynamics Cost:  200.0\n",
      "True Dynamics Final State:  [ 3.13851311e+00 -1.40604318e-03  0.00000000e+00  0.00000000e+00]\n",
      "use_cuda=True\n",
      "MLP Using Cuda\n",
      "hidden_sizes= [16, 149, 146, 154]\n",
      "100%|██████████| 50/50 [02:16<00:00,  2.73s/it]\n",
      "Simulating Surrogate Trajectory: \n",
      " 99%|█████████▉| 198/200 [00:40<00:00,  4.91it/s]\n",
      "Surrogate Cost:  107.0\n",
      "Surrogate Final State:  [-0.01562233  0.00486381 -0.12236668 -0.0242338 ]\n",
      "Simulating True Dynamics Trajectory\n",
      " 99%|█████████▉| 198/200 [00:46<00:00,  4.23it/s]"
     ]
    },
    {
     "name": "stderr",
     "output_type": "stream",
     "text": [
      "INFO:smac.intensification.intensification.Intensifier:Wallclock time limit for intensification reached (used: 223.664422 sec, available: 0.000010 sec)\n"
     ]
    },
    {
     "name": "stdout",
     "output_type": "stream",
     "text": [
      "\n",
      "True Dynamics Cost:  184.0\n",
      "True Dynamics Final State:  [-0.00211187 -0.04910172  0.11823983 -0.27732506]\n",
      "use_cuda=True\n",
      "MLP Using Cuda\n",
      "hidden_sizes= [55, 152, 167, 146]\n",
      "100%|██████████| 50/50 [02:16<00:00,  2.73s/it]\n",
      "Simulating Surrogate Trajectory: \n",
      " 99%|█████████▉| 198/200 [00:44<00:00,  4.45it/s]\n",
      "Surrogate Cost:  137.0\n",
      "Surrogate Final State:  [-0.0143375   0.00154392  0.08498488 -0.03163972]\n",
      "Simulating True Dynamics Trajectory\n",
      " 99%|█████████▉| 198/200 [00:50<00:00,  3.96it/s]"
     ]
    },
    {
     "name": "stderr",
     "output_type": "stream",
     "text": [
      "INFO:smac.intensification.intensification.Intensifier:Wallclock time limit for intensification reached (used: 231.141420 sec, available: 0.000010 sec)\n"
     ]
    },
    {
     "name": "stdout",
     "output_type": "stream",
     "text": [
      "\n",
      "True Dynamics Cost:  126.0\n",
      "True Dynamics Final State:  [-6.09479717e-05  6.53771750e-05  1.76836886e-01 -4.92630863e-04]\n",
      "use_cuda=True\n",
      "MLP Using Cuda\n",
      "hidden_sizes= [52, 144, 134, 128]\n",
      "100%|██████████| 50/50 [02:16<00:00,  2.73s/it]\n",
      "Simulating Surrogate Trajectory: \n",
      " 99%|█████████▉| 198/200 [00:28<00:00,  7.02it/s]\n",
      "Surrogate Cost:  45.0\n",
      "Surrogate Final State:  [-0.01507329  0.00248803  0.04766264 -0.0353885 ]\n",
      "Simulating True Dynamics Trajectory\n",
      " 99%|█████████▉| 198/200 [00:27<00:00,  7.10it/s]"
     ]
    },
    {
     "name": "stderr",
     "output_type": "stream",
     "text": [
      "INFO:smac.intensification.intensification.Intensifier:Challenger (45.0000) is better than incumbent (71.0000) on 1 runs.\n",
      "INFO:smac.intensification.intensification.Intensifier:Changes in incumbent:\n",
      "INFO:smac.intensification.intensification.Intensifier:  _cost:dx_Q : 0.12736315303690632 -> 0.7824060412248923\n",
      "INFO:smac.intensification.intensification.Intensifier:  _cost:x_F : 516.5986574059903 -> 919.3862153636283\n",
      "INFO:smac.intensification.intensification.Intensifier:  _ctrlr:horizon : 20 -> 25\n",
      "INFO:smac.intensification.intensification.Intensifier:  _model:hidden_size_3 : 146 -> 134\n",
      "INFO:smac.intensification.intensification.Intensifier:  _model:lr : 1.0929417956477514e-05 -> 1.9173960060107152e-05\n",
      "INFO:smac.intensification.intensification.Intensifier:Wallclock time limit for intensification reached (used: 192.813653 sec, available: 0.000010 sec)\n"
     ]
    },
    {
     "name": "stdout",
     "output_type": "stream",
     "text": [
      "\n",
      "True Dynamics Cost:  45.0\n",
      "True Dynamics Final State:  [-1.44295049e-07  1.42333319e-07  9.42856895e-02 -5.50789498e-07]\n",
      "use_cuda=True\n",
      "MLP Using Cuda\n",
      "hidden_sizes= [62, 144, 116, 131]\n",
      "100%|██████████| 50/50 [02:17<00:00,  2.76s/it]\n",
      "Simulating Surrogate Trajectory: \n",
      " 99%|█████████▉| 198/200 [00:29<00:00,  6.68it/s]\n",
      "Surrogate Cost:  83.0\n",
      "Surrogate Final State:  [-0.01517459  0.00239351 -0.0349767  -0.03518431]\n",
      "Simulating True Dynamics Trajectory\n",
      " 99%|█████████▉| 198/200 [00:29<00:00,  6.81it/s]"
     ]
    },
    {
     "name": "stderr",
     "output_type": "stream",
     "text": [
      "INFO:smac.intensification.intensification.Intensifier:Wallclock time limit for intensification reached (used: 196.605240 sec, available: 0.000010 sec)\n"
     ]
    },
    {
     "name": "stdout",
     "output_type": "stream",
     "text": [
      "\n",
      "True Dynamics Cost:  66.0\n",
      "True Dynamics Final State:  [5.72557267e-09 1.16686323e-08 1.28852510e-02 2.22412535e-08]\n",
      "use_cuda=True\n",
      "MLP Using Cuda\n",
      "hidden_sizes= [55]\n",
      "100%|██████████| 50/50 [00:58<00:00,  1.17s/it]\n",
      "Simulating Surrogate Trajectory: \n",
      " 99%|█████████▉| 198/200 [00:50<00:00,  3.94it/s]\n",
      "Surrogate Cost:  200.0\n",
      "Surrogate Final State:  [ 4.36582737  1.81656231 -1.98217872 -3.17767318]\n",
      "Simulating True Dynamics Trajectory\n",
      " 99%|█████████▉| 198/200 [00:52<00:00,  3.77it/s]"
     ]
    },
    {
     "name": "stderr",
     "output_type": "stream",
     "text": [
      "INFO:smac.intensification.intensification.Intensifier:Wallclock time limit for intensification reached (used: 160.988574 sec, available: 0.000010 sec)\n"
     ]
    },
    {
     "name": "stdout",
     "output_type": "stream",
     "text": [
      "\n",
      "True Dynamics Cost:  200.0\n",
      "True Dynamics Final State:  [ 4.46990823  1.59827117 -2.01574582 -2.38123411]\n",
      "use_cuda=True\n",
      "MLP Using Cuda\n",
      "hidden_sizes= [68, 31, 25, 117]\n",
      "100%|██████████| 50/50 [02:17<00:00,  2.75s/it]\n",
      "Simulating Surrogate Trajectory: \n",
      " 99%|█████████▉| 198/200 [00:09<00:00, 21.98it/s]\n",
      "Surrogate Cost:  200.0\n",
      "Surrogate Final State:  [ 3.15875287 -0.00656357  3.29120762  0.48218603]\n",
      "Simulating True Dynamics Trajectory\n",
      " 99%|█████████▉| 198/200 [00:06<00:00, 31.28it/s]"
     ]
    },
    {
     "name": "stderr",
     "output_type": "stream",
     "text": [
      "INFO:smac.intensification.intensification.Intensifier:Wallclock time limit for intensification reached (used: 152.714194 sec, available: 0.000010 sec)\n"
     ]
    },
    {
     "name": "stdout",
     "output_type": "stream",
     "text": [
      "\n",
      "True Dynamics Cost:  200.0\n",
      "True Dynamics Final State:  [ 3.13852896e+00 -1.53859267e-03 -5.92645794e-03 -1.03648898e-03]\n",
      "use_cuda=True\n",
      "MLP Using Cuda\n",
      "hidden_sizes= [52, 144, 152, 114]\n",
      "100%|██████████| 50/50 [02:16<00:00,  2.72s/it]\n",
      "Simulating Surrogate Trajectory: \n",
      " 99%|█████████▉| 198/200 [00:28<00:00,  6.95it/s]\n",
      "Surrogate Cost:  91.0\n",
      "Surrogate Final State:  [-0.01556235  0.00166166  0.11597746 -0.04082724]\n",
      "Simulating True Dynamics Trajectory\n",
      " 99%|█████████▉| 198/200 [00:36<00:00,  5.42it/s]"
     ]
    },
    {
     "name": "stderr",
     "output_type": "stream",
     "text": [
      "INFO:smac.intensification.intensification.Intensifier:Wallclock time limit for intensification reached (used: 201.208697 sec, available: 0.000010 sec)\n"
     ]
    },
    {
     "name": "stdout",
     "output_type": "stream",
     "text": [
      "\n",
      "True Dynamics Cost:  76.0\n",
      "True Dynamics Final State:  [-0.00037882  0.00100961  0.17679472 -0.00083077]\n",
      "use_cuda=True\n",
      "MLP Using Cuda\n",
      "hidden_sizes= [52, 141, 110, 142]\n",
      "100%|██████████| 50/50 [02:17<00:00,  2.75s/it]\n",
      "Simulating Surrogate Trajectory: \n",
      " 99%|█████████▉| 198/200 [00:39<00:00,  5.00it/s]\n",
      "Surrogate Cost:  96.0\n",
      "Surrogate Final State:  [-0.01538756  0.00246324 -0.19713557 -0.03442012]\n",
      "Simulating True Dynamics Trajectory\n",
      " 99%|█████████▉| 198/200 [00:44<00:00,  4.46it/s]"
     ]
    },
    {
     "name": "stderr",
     "output_type": "stream",
     "text": [
      "INFO:smac.intensification.intensification.Intensifier:Wallclock time limit for intensification reached (used: 221.597966 sec, available: 0.000010 sec)\n"
     ]
    },
    {
     "name": "stdout",
     "output_type": "stream",
     "text": [
      "\n",
      "True Dynamics Cost:  79.0\n",
      "True Dynamics Final State:  [ 1.78642728e-04  3.15716819e-06 -1.60006137e-01  1.04963024e-03]\n",
      "use_cuda=True\n",
      "MLP Using Cuda\n",
      "hidden_sizes= [26, 136, 167, 146]\n",
      "100%|██████████| 50/50 [02:16<00:00,  2.73s/it]\n",
      "Simulating Surrogate Trajectory: \n",
      " 99%|█████████▉| 198/200 [00:41<00:00,  4.78it/s]\n",
      "Surrogate Cost:  200.0\n",
      "Surrogate Final State:  [-2.96673248 -2.54514653  0.70444931  4.51836112]\n",
      "Simulating True Dynamics Trajectory\n",
      " 99%|█████████▉| 198/200 [00:31<00:00,  6.31it/s]"
     ]
    },
    {
     "name": "stderr",
     "output_type": "stream",
     "text": [
      "INFO:smac.intensification.intensification.Intensifier:Wallclock time limit for intensification reached (used: 209.513372 sec, available: 0.000010 sec)\n"
     ]
    },
    {
     "name": "stdout",
     "output_type": "stream",
     "text": [
      "\n",
      "True Dynamics Cost:  67.0\n",
      "True Dynamics Final State:  [-2.45104547e-08 -1.15940582e-08  6.85299659e-02 -3.10408856e-07]\n",
      "use_cuda=True\n",
      "MLP Using Cuda\n",
      "hidden_sizes= [52, 144, 133, 122]\n",
      "100%|██████████| 50/50 [02:15<00:00,  2.71s/it]\n",
      "Simulating Surrogate Trajectory: \n",
      " 99%|█████████▉| 198/200 [00:23<00:00,  8.28it/s]\n",
      "Surrogate Cost:  72.0\n",
      "Surrogate Final State:  [-0.01526403  0.00221649 -0.12745981 -0.03497711]\n",
      "Simulating True Dynamics Trajectory\n",
      " 99%|█████████▉| 198/200 [00:26<00:00,  7.60it/s]"
     ]
    },
    {
     "name": "stderr",
     "output_type": "stream",
     "text": [
      "INFO:smac.intensification.intensification.Intensifier:Wallclock time limit for intensification reached (used: 185.651653 sec, available: 0.000010 sec)\n"
     ]
    },
    {
     "name": "stdout",
     "output_type": "stream",
     "text": [
      "\n",
      "True Dynamics Cost:  77.0\n",
      "True Dynamics Final State:  [ 4.24941633e-05 -6.01977453e-05 -8.24265768e-02  2.85076136e-05]\n",
      "use_cuda=True\n",
      "MLP Using Cuda\n",
      "hidden_sizes= [55, 148, 134, 128]\n",
      "100%|██████████| 50/50 [02:17<00:00,  2.75s/it]\n",
      "Simulating Surrogate Trajectory: \n",
      " 99%|█████████▉| 198/200 [00:48<00:00,  4.04it/s]\n",
      "Surrogate Cost:  200.0\n",
      "Surrogate Final State:  [ 0.46764744 -1.69288185  0.35589237 -0.21173849]\n",
      "Simulating True Dynamics Trajectory\n",
      " 99%|█████████▉| 198/200 [00:45<00:00,  4.33it/s]"
     ]
    },
    {
     "name": "stderr",
     "output_type": "stream",
     "text": [
      "INFO:smac.intensification.intensification.Intensifier:Wallclock time limit for intensification reached (used: 232.239479 sec, available: 0.000010 sec)\n"
     ]
    },
    {
     "name": "stdout",
     "output_type": "stream",
     "text": [
      "\n",
      "True Dynamics Cost:  140.0\n",
      "True Dynamics Final State:  [-0.00789419  0.04236578  0.01317871  0.0774178 ]\n",
      "use_cuda=True\n",
      "MLP Using Cuda\n",
      "hidden_sizes= [87, 143, 145, 128]\n",
      "100%|██████████| 50/50 [02:16<00:00,  2.73s/it]\n",
      "Simulating Surrogate Trajectory: \n",
      " 99%|█████████▉| 198/200 [00:49<00:00,  4.01it/s]\n",
      "Surrogate Cost:  200.0\n",
      "Surrogate Final State:  [-0.90831613  0.62751379 -0.91985898  4.54945845]\n",
      "Simulating True Dynamics Trajectory\n",
      " 99%|█████████▉| 198/200 [00:46<00:00,  4.22it/s]"
     ]
    },
    {
     "name": "stderr",
     "output_type": "stream",
     "text": [
      "INFO:smac.intensification.intensification.Intensifier:Wallclock time limit for intensification reached (used: 233.042100 sec, available: 0.000010 sec)\n"
     ]
    },
    {
     "name": "stdout",
     "output_type": "stream",
     "text": [
      "\n",
      "True Dynamics Cost:  200.0\n",
      "True Dynamics Final State:  [-1.29992325  2.20899079 -0.30527037 -3.29150326]\n",
      "use_cuda=True\n",
      "MLP Using Cuda\n",
      "hidden_sizes= [55, 154, 123]\n",
      "100%|██████████| 50/50 [01:49<00:00,  2.19s/it]\n",
      "Simulating Surrogate Trajectory: \n",
      " 99%|█████████▉| 198/200 [00:52<00:00,  3.75it/s]\n",
      "Surrogate Cost:  200.0\n",
      "Surrogate Final State:  [ 1.04819168  2.27166963  0.16854555 -0.32256583]\n",
      "Simulating True Dynamics Trajectory\n",
      " 99%|█████████▉| 198/200 [00:58<00:00,  3.41it/s]"
     ]
    },
    {
     "name": "stderr",
     "output_type": "stream",
     "text": [
      "INFO:smac.intensification.intensification.Intensifier:Wallclock time limit for intensification reached (used: 220.523158 sec, available: 0.000010 sec)\n"
     ]
    },
    {
     "name": "stdout",
     "output_type": "stream",
     "text": [
      "\n",
      "True Dynamics Cost:  200.0\n",
      "True Dynamics Final State:  [ 3.7756658   0.91646504 -0.23014598  0.13307996]\n",
      "use_cuda=True\n",
      "MLP Using Cuda\n",
      "hidden_sizes= [194, 129, 170]\n",
      "100%|██████████| 50/50 [01:48<00:00,  2.17s/it]\n",
      "Simulating Surrogate Trajectory: \n",
      " 99%|█████████▉| 198/200 [00:17<00:00, 11.31it/s]\n",
      "Surrogate Cost:  200.0\n",
      "Surrogate Final State:  [  2.13181935  -2.74274956 299.19388199  55.30150631]\n",
      "Simulating True Dynamics Trajectory\n",
      " 99%|█████████▉| 198/200 [00:17<00:00, 11.11it/s]"
     ]
    },
    {
     "name": "stderr",
     "output_type": "stream",
     "text": [
      "INFO:smac.intensification.intensification.Intensifier:Wallclock time limit for intensification reached (used: 144.107169 sec, available: 0.000010 sec)\n"
     ]
    },
    {
     "name": "stdout",
     "output_type": "stream",
     "text": [
      "\n",
      "True Dynamics Cost:  200.0\n",
      "True Dynamics Final State:  [  2.15741769  -2.60389526 299.28578085  55.77586943]\n",
      "use_cuda=True\n",
      "MLP Using Cuda\n",
      "hidden_sizes= [37, 144, 135, 148]\n",
      "100%|██████████| 50/50 [02:15<00:00,  2.71s/it]\n",
      "Simulating Surrogate Trajectory: \n",
      " 99%|█████████▉| 198/200 [00:54<00:00,  3.65it/s]\n",
      "Surrogate Cost:  88.0\n",
      "Surrogate Final State:  [-0.01533094  0.00214997 -0.1809859  -0.03483346]\n",
      "Simulating True Dynamics Trajectory\n",
      " 99%|█████████▉| 198/200 [00:28<00:00,  6.87it/s]"
     ]
    },
    {
     "name": "stderr",
     "output_type": "stream",
     "text": [
      "INFO:smac.intensification.intensification.Intensifier:Wallclock time limit for intensification reached (used: 218.705683 sec, available: 0.000010 sec)\n"
     ]
    },
    {
     "name": "stdout",
     "output_type": "stream",
     "text": [
      "\n",
      "True Dynamics Cost:  47.0\n",
      "True Dynamics Final State:  [-1.20087772e-08  1.45236835e-06 -1.29121852e-01  2.78932314e-06]\n",
      "use_cuda=True\n",
      "MLP Using Cuda\n",
      "hidden_sizes= [33, 145, 106, 119]\n",
      "100%|██████████| 50/50 [02:19<00:00,  2.79s/it]\n",
      "Simulating Surrogate Trajectory: \n",
      " 99%|█████████▉| 198/200 [00:33<00:00,  5.84it/s]\n",
      "Surrogate Cost:  185.0\n",
      "Surrogate Final State:  [-0.01189215 -0.00475219 -0.22674637 -0.03755996]\n",
      "Simulating True Dynamics Trajectory\n",
      " 99%|█████████▉| 198/200 [00:33<00:00,  5.99it/s]"
     ]
    },
    {
     "name": "stderr",
     "output_type": "stream",
     "text": [
      "INFO:smac.intensification.intensification.Intensifier:Wallclock time limit for intensification reached (used: 206.389781 sec, available: 0.000010 sec)\n",
      "INFO:smac.stats.stats.Stats:##########################################################\n",
      "INFO:smac.stats.stats.Stats:Statistics:\n",
      "INFO:smac.stats.stats.Stats:#Incumbent changed: 5\n"
     ]
    },
    {
     "name": "stdout",
     "output_type": "stream",
     "text": [
      "\n",
      "True Dynamics Cost:  200.0\n",
      "True Dynamics Final State:  [ 3.22417292  0.77115759 -1.20651987 -3.40561783]\n"
     ]
    },
    {
     "name": "stderr",
     "output_type": "stream",
     "text": [
      "INFO:smac.stats.stats.Stats:#Submitted target algorithm runs: 100 / 100.0\n",
      "INFO:smac.stats.stats.Stats:#Finished target algorithm runs: 100 / 100.0\n",
      "INFO:smac.stats.stats.Stats:#Configurations: 100\n",
      "INFO:smac.stats.stats.Stats:Used wallclock time: 18483.55 / inf sec \n",
      "INFO:smac.stats.stats.Stats:Used target algorithm runtime: 18323.56 / inf sec\n",
      "INFO:smac.stats.stats.Stats:##########################################################\n",
      "INFO:smac.facade.smac_hpo_facade.SMAC4HPO:Final Incumbent: Configuration:\n",
      "  _cost:dx_F, Value: 5915.448051127327\n",
      "  _cost:dx_Q, Value: 0.7824060412248923\n",
      "  _cost:omega_F, Value: 0.004640107866457608\n",
      "  _cost:omega_Q, Value: 0.011887198551763617\n",
      "  _cost:theta_F, Value: 9.393324497426475\n",
      "  _cost:theta_Q, Value: 0.0010332840967745137\n",
      "  _cost:u_R, Value: 0.029833471229469166\n",
      "  _cost:x_F, Value: 919.3862153636283\n",
      "  _cost:x_Q, Value: 0.332199696152417\n",
      "  _ctrlr:horizon, Value: 25\n",
      "  _model:hidden_size_1, Value: 52\n",
      "  _model:hidden_size_2, Value: 144\n",
      "  _model:hidden_size_3, Value: 134\n",
      "  _model:hidden_size_4, Value: 128\n",
      "  _model:lr, Value: 1.9173960060107152e-05\n",
      "  _model:n_hidden_layers, Value: '4'\n",
      "  _model:nonlintype, Value: 'selu'\n",
      "\n",
      "INFO:smac.facade.smac_hpo_facade.SMAC4HPO:Estimated cost of incumbent: 45.000000\n"
     ]
    },
    {
     "name": "stdout",
     "output_type": "stream",
     "text": [
      "use_cuda=True\n",
      "MLP Using Cuda\n",
      "hidden_sizes= [52, 144, 134, 128]\n",
      "100%|██████████| 50/50 [02:19<00:00,  2.78s/it]\n"
     ]
    }
   ],
   "source": [
    "surrogate_cfg = surrogate_factory.get_configuration_space().get_default_configuration()\n",
    "surrogate_cfg[\"n_hidden_layers\"] = \"2\"\n",
    "surrogate_cfg[\"hidden_size_1\"] = 128\n",
    "surrogate_cfg[\"hidden_size_2\"] = 128       \n",
    "surrogate_cfg[\"nonlintype\"] = \"relu\"\n",
    "\n",
    "tuner = PipelineTuner(surrogate_mode=\"fixedcfg\", surrogate_factory=surrogate_factory,\n",
    "                     surrogate_cfg=surrogate_cfg, surrogate_split=0.5)\n",
    "\n",
    "controller, tune_result2 = tuner.run(pipeline, task, trajs, n_iters=100, rng=np.random.default_rng(100),\n",
    "                                    truedyn=benchmark.dynamics)"
   ]
  },
  {
   "cell_type": "markdown",
   "metadata": {},
   "source": [
    "We can also auto-tune a particular surrogate class"
   ]
  },
  {
   "cell_type": "code",
   "execution_count": 6,
   "metadata": {},
   "outputs": [
    {
     "name": "stderr",
     "output_type": "stream",
     "text": [
      "/home/william/.local/lib/python3.8/site-packages/numpy/core/_asarray.py:83: VisibleDeprecationWarning: Creating an ndarray from ragged nested sequences (which is a list-or-tuple of lists-or-tuples-or ndarrays with different lengths or shapes) is deprecated. If you meant to do this, you must specify 'dtype=object' when creating the ndarray\n",
      "  return array(a, dtype, copy=False, order=order)\n",
      "INFO:smac.utils.io.cmd_reader.CMDReader:Output to smac3-output_2021-05-30_04:20:41_280303\n",
      "INFO:smac.facade.smac_hpo_facade.SMAC4HPO:Optimizing a deterministic scenario for quality without a tuner timeout - will make SMAC deterministic and only evaluate one configuration per iteration!\n",
      "INFO:smac.initial_design.sobol_design.SobolDesign:Running initial design for 25 configurations\n",
      "INFO:smac.facade.smac_hpo_facade.SMAC4HPO:<class 'smac.facade.smac_hpo_facade.SMAC4HPO'>\n",
      "INFO:smac.optimizer.smbo.SMBO:Running initial design\n",
      "INFO:smac.intensification.intensification.Intensifier:First run, no incumbent provided; challenger is assumed to be the incumbent\n"
     ]
    },
    {
     "name": "stdout",
     "output_type": "stream",
     "text": [
      "Evaluating Cfg:\n",
      "Configuration:\n",
      "  _MLP:hidden_size_1, Value: 136\n",
      "  _MLP:hidden_size_2, Value: 136\n",
      "  _MLP:hidden_size_3, Value: 136\n",
      "  _MLP:lr, Value: 0.003162277660168379\n",
      "  _MLP:n_hidden_layers, Value: '3'\n",
      "  _MLP:nonlintype, Value: 'sigmoid'\n",
      "  model, Value: 'MLP'\n",
      "\n",
      "use_cuda=True\n",
      "MLP Using Cuda\n",
      "hidden_sizes= [136, 136, 136]\n",
      "100%|██████████| 50/50 [01:23<00:00,  1.67s/it]"
     ]
    },
    {
     "name": "stderr",
     "output_type": "stream",
     "text": [
      "INFO:smac.intensification.intensification.Intensifier:First run, no incumbent provided; challenger is assumed to be the incumbent\n",
      "INFO:smac.intensification.intensification.Intensifier:Updated estimated cost of incumbent on 1 runs: 0.0315\n"
     ]
    },
    {
     "name": "stdout",
     "output_type": "stream",
     "text": [
      "\n",
      "Model Score  0.03151856053630189\n",
      "Evaluating Cfg:\n",
      "Configuration:\n",
      "  _MLP:hidden_size_1, Value: 76\n",
      "  _MLP:hidden_size_2, Value: 76\n",
      "  _MLP:lr, Value: 0.056234132519034884\n",
      "  _MLP:n_hidden_layers, Value: '2'\n",
      "  _MLP:nonlintype, Value: 'selu'\n",
      "  model, Value: 'MLP'\n",
      "\n",
      "use_cuda=True\n",
      "MLP Using Cuda\n",
      "hidden_sizes= [76, 76]\n",
      "100%|██████████| 50/50 [01:04<00:00,  1.30s/it]"
     ]
    },
    {
     "name": "stderr",
     "output_type": "stream",
     "text": [
      "INFO:smac.intensification.intensification.Intensifier:Wallclock time limit for intensification reached (used: 148.436885 sec, available: 0.000010 sec)\n"
     ]
    },
    {
     "name": "stdout",
     "output_type": "stream",
     "text": [
      "\n",
      "Model Score  1.0633479411400002\n",
      "Evaluating Cfg:\n",
      "Configuration:\n",
      "  _MLP:hidden_size_1, Value: 196\n",
      "  _MLP:hidden_size_2, Value: 196\n",
      "  _MLP:hidden_size_3, Value: 76\n",
      "  _MLP:hidden_size_4, Value: 196\n",
      "  _MLP:lr, Value: 0.00017782794100389232\n",
      "  _MLP:n_hidden_layers, Value: '4'\n",
      "  _MLP:nonlintype, Value: 'tanh'\n",
      "  model, Value: 'MLP'\n",
      "\n",
      "use_cuda=True\n",
      "MLP Using Cuda\n",
      "hidden_sizes= [196, 196, 76, 196]\n",
      "100%|██████████| 50/50 [01:39<00:00,  1.99s/it]"
     ]
    },
    {
     "name": "stderr",
     "output_type": "stream",
     "text": [
      "INFO:smac.intensification.intensification.Intensifier:Challenger (0.0174) is better than incumbent (0.0315) on 1 runs.\n",
      "INFO:smac.intensification.intensification.Intensifier:Changes in incumbent:\n",
      "INFO:smac.intensification.intensification.Intensifier:  _MLP:hidden_size_1 : 136 -> 196\n",
      "INFO:smac.intensification.intensification.Intensifier:  _MLP:hidden_size_2 : 136 -> 196\n",
      "INFO:smac.intensification.intensification.Intensifier:  _MLP:hidden_size_3 : 136 -> 76\n",
      "INFO:smac.intensification.intensification.Intensifier:  _MLP:hidden_size_4 : None -> 196\n",
      "INFO:smac.intensification.intensification.Intensifier:  _MLP:lr : 0.003162277660168379 -> 0.00017782794100389232\n",
      "INFO:smac.intensification.intensification.Intensifier:  _MLP:n_hidden_layers : '3' -> '4'\n",
      "INFO:smac.intensification.intensification.Intensifier:  _MLP:nonlintype : 'sigmoid' -> 'tanh'\n",
      "INFO:smac.intensification.intensification.Intensifier:Wallclock time limit for intensification reached (used: 99.643170 sec, available: 0.000010 sec)\n"
     ]
    },
    {
     "name": "stdout",
     "output_type": "stream",
     "text": [
      "\n",
      "Model Score  0.017384673431608343\n",
      "Evaluating Cfg:\n",
      "Configuration:\n",
      "  _MLP:hidden_size_1, Value: 106\n",
      "  _MLP:lr, Value: 0.013335214321633242\n",
      "  _MLP:n_hidden_layers, Value: '1'\n",
      "  _MLP:nonlintype, Value: 'selu'\n",
      "  model, Value: 'MLP'\n",
      "\n",
      "use_cuda=True\n",
      "MLP Using Cuda\n",
      "hidden_sizes= [106]\n",
      "100%|██████████| 50/50 [00:45<00:00,  1.10it/s]"
     ]
    },
    {
     "name": "stderr",
     "output_type": "stream",
     "text": [
      "INFO:smac.intensification.intensification.Intensifier:Wallclock time limit for intensification reached (used: 45.696404 sec, available: 0.000010 sec)\n"
     ]
    },
    {
     "name": "stdout",
     "output_type": "stream",
     "text": [
      "\n",
      "Model Score  0.09193800818479257\n",
      "Evaluating Cfg:\n",
      "Configuration:\n",
      "  _MLP:hidden_size_1, Value: 226\n",
      "  _MLP:hidden_size_2, Value: 106\n",
      "  _MLP:hidden_size_3, Value: 166\n",
      "  _MLP:lr, Value: 4.216965034285819e-05\n",
      "  _MLP:n_hidden_layers, Value: '3'\n",
      "  _MLP:nonlintype, Value: 'tanh'\n",
      "  model, Value: 'MLP'\n",
      "\n",
      "use_cuda=True\n",
      "MLP Using Cuda\n",
      "hidden_sizes= [226, 106, 166]\n",
      "100%|██████████| 50/50 [01:21<00:00,  1.64s/it]"
     ]
    },
    {
     "name": "stderr",
     "output_type": "stream",
     "text": [
      "INFO:smac.intensification.intensification.Intensifier:Wallclock time limit for intensification reached (used: 81.995762 sec, available: 0.000010 sec)\n"
     ]
    },
    {
     "name": "stdout",
     "output_type": "stream",
     "text": [
      "\n",
      "Model Score  0.04144772127101444\n",
      "Evaluating Cfg:\n",
      "Configuration:\n",
      "  _MLP:hidden_size_1, Value: 46\n",
      "  _MLP:hidden_size_2, Value: 166\n",
      "  _MLP:lr, Value: 0.0007498942093324555\n",
      "  _MLP:n_hidden_layers, Value: '2'\n",
      "  _MLP:nonlintype, Value: 'relu'\n",
      "  model, Value: 'MLP'\n",
      "\n",
      "use_cuda=True\n",
      "MLP Using Cuda\n",
      "hidden_sizes= [46, 166]\n",
      "100%|██████████| 50/50 [01:05<00:00,  1.31s/it]"
     ]
    },
    {
     "name": "stderr",
     "output_type": "stream",
     "text": [
      "INFO:smac.intensification.intensification.Intensifier:Wallclock time limit for intensification reached (used: 65.407621 sec, available: 0.000010 sec)\n"
     ]
    },
    {
     "name": "stdout",
     "output_type": "stream",
     "text": [
      "\n",
      "Model Score  0.025977221542028944\n",
      "Evaluating Cfg:\n",
      "Configuration:\n",
      "  _MLP:hidden_size_1, Value: 166\n",
      "  _MLP:hidden_size_2, Value: 46\n",
      "  _MLP:hidden_size_3, Value: 106\n",
      "  _MLP:hidden_size_4, Value: 106\n",
      "  _MLP:lr, Value: 0.23713737056616568\n",
      "  _MLP:n_hidden_layers, Value: '4'\n",
      "  _MLP:nonlintype, Value: 'sigmoid'\n",
      "  model, Value: 'MLP'\n",
      "\n",
      "use_cuda=True\n",
      "MLP Using Cuda\n",
      "hidden_sizes= [166, 46, 106, 106]\n",
      "100%|██████████| 50/50 [01:43<00:00,  2.06s/it]"
     ]
    },
    {
     "name": "stderr",
     "output_type": "stream",
     "text": [
      "INFO:smac.intensification.intensification.Intensifier:Wallclock time limit for intensification reached (used: 103.226306 sec, available: 0.000010 sec)\n"
     ]
    },
    {
     "name": "stdout",
     "output_type": "stream",
     "text": [
      "\n",
      "Model Score  0.9888017053059142\n",
      "Evaluating Cfg:\n",
      "Configuration:\n",
      "  _MLP:hidden_size_1, Value: 91\n",
      "  _MLP:hidden_size_2, Value: 61\n",
      "  _MLP:hidden_size_3, Value: 31\n",
      "  _MLP:lr, Value: 0.0003651741272548377\n",
      "  _MLP:n_hidden_layers, Value: '3'\n",
      "  _MLP:nonlintype, Value: 'sigmoid'\n",
      "  model, Value: 'MLP'\n",
      "\n",
      "use_cuda=True\n",
      "MLP Using Cuda\n",
      "hidden_sizes= [91, 61, 31]\n",
      "100%|██████████| 50/50 [01:21<00:00,  1.63s/it]"
     ]
    },
    {
     "name": "stderr",
     "output_type": "stream",
     "text": [
      "INFO:smac.intensification.intensification.Intensifier:Wallclock time limit for intensification reached (used: 81.665962 sec, available: 0.000010 sec)\n"
     ]
    },
    {
     "name": "stdout",
     "output_type": "stream",
     "text": [
      "\n",
      "Model Score  0.12980509421186265\n",
      "Evaluating Cfg:\n",
      "Configuration:\n",
      "  _MLP:hidden_size_1, Value: 211\n",
      "  _MLP:lr, Value: 0.11547819846894583\n",
      "  _MLP:n_hidden_layers, Value: '1'\n",
      "  _MLP:nonlintype, Value: 'relu'\n",
      "  model, Value: 'MLP'\n",
      "\n",
      "use_cuda=True\n",
      "MLP Using Cuda\n",
      "hidden_sizes= [211]\n",
      "100%|██████████| 50/50 [00:46<00:00,  1.07it/s]"
     ]
    },
    {
     "name": "stderr",
     "output_type": "stream",
     "text": [
      "INFO:smac.intensification.intensification.Intensifier:Wallclock time limit for intensification reached (used: 46.547486 sec, available: 0.000010 sec)\n"
     ]
    },
    {
     "name": "stdout",
     "output_type": "stream",
     "text": [
      "\n",
      "Model Score  0.2072014643591992\n",
      "Evaluating Cfg:\n",
      "Configuration:\n",
      "  _MLP:hidden_size_1, Value: 31\n",
      "  _MLP:hidden_size_2, Value: 121\n",
      "  _MLP:hidden_size_3, Value: 211\n",
      "  _MLP:hidden_size_4, Value: 181\n",
      "  _MLP:lr, Value: 0.00649381631576211\n",
      "  _MLP:n_hidden_layers, Value: '4'\n",
      "  _MLP:nonlintype, Value: 'tanh'\n",
      "  model, Value: 'MLP'\n",
      "\n",
      "use_cuda=True\n",
      "MLP Using Cuda\n",
      "hidden_sizes= [31, 121, 211, 181]\n",
      "100%|██████████| 50/50 [01:42<00:00,  2.05s/it]"
     ]
    },
    {
     "name": "stderr",
     "output_type": "stream",
     "text": [
      "INFO:smac.intensification.intensification.Intensifier:Wallclock time limit for intensification reached (used: 102.587640 sec, available: 0.000010 sec)\n"
     ]
    },
    {
     "name": "stdout",
     "output_type": "stream",
     "text": [
      "\n",
      "Model Score  0.07153648052723989\n",
      "Evaluating Cfg:\n",
      "Configuration:\n",
      "  _MLP:hidden_size_1, Value: 151\n",
      "  _MLP:hidden_size_2, Value: 241\n",
      "  _MLP:lr, Value: 2.053525026457147e-05\n",
      "  _MLP:n_hidden_layers, Value: '2'\n",
      "  _MLP:nonlintype, Value: 'selu'\n",
      "  model, Value: 'MLP'\n",
      "\n",
      "use_cuda=True\n",
      "MLP Using Cuda\n",
      "hidden_sizes= [151, 241]\n",
      "100%|██████████| 50/50 [01:04<00:00,  1.30s/it]"
     ]
    },
    {
     "name": "stderr",
     "output_type": "stream",
     "text": [
      "INFO:smac.intensification.intensification.Intensifier:Wallclock time limit for intensification reached (used: 65.022151 sec, available: 0.000010 sec)\n"
     ]
    },
    {
     "name": "stdout",
     "output_type": "stream",
     "text": [
      "\n",
      "Model Score  0.14031559283459466\n",
      "Evaluating Cfg:\n",
      "Configuration:\n",
      "  _MLP:hidden_size_1, Value: 61\n",
      "  _MLP:hidden_size_2, Value: 211\n",
      "  _MLP:hidden_size_3, Value: 61\n",
      "  _MLP:lr, Value: 0.48696752516586284\n",
      "  _MLP:n_hidden_layers, Value: '3'\n",
      "  _MLP:nonlintype, Value: 'tanh'\n",
      "  model, Value: 'MLP'\n",
      "\n",
      "use_cuda=True\n",
      "MLP Using Cuda\n",
      "hidden_sizes= [61, 211, 61]\n",
      "100%|██████████| 50/50 [01:22<00:00,  1.65s/it]"
     ]
    },
    {
     "name": "stderr",
     "output_type": "stream",
     "text": [
      "INFO:smac.intensification.intensification.Intensifier:Wallclock time limit for intensification reached (used: 82.353626 sec, available: 0.000010 sec)\n"
     ]
    },
    {
     "name": "stdout",
     "output_type": "stream",
     "text": [
      "\n",
      "Model Score  1.4935473144426024\n",
      "Evaluating Cfg:\n",
      "Configuration:\n",
      "  _MLP:hidden_size_1, Value: 181\n",
      "  _MLP:lr, Value: 0.0015399265260594922\n",
      "  _MLP:n_hidden_layers, Value: '1'\n",
      "  _MLP:nonlintype, Value: 'selu'\n",
      "  model, Value: 'MLP'\n",
      "\n",
      "use_cuda=True\n",
      "MLP Using Cuda\n",
      "hidden_sizes= [181]\n",
      "100%|██████████| 50/50 [00:46<00:00,  1.09it/s]"
     ]
    },
    {
     "name": "stderr",
     "output_type": "stream",
     "text": [
      "INFO:smac.intensification.intensification.Intensifier:Wallclock time limit for intensification reached (used: 46.103257 sec, available: 0.000010 sec)\n"
     ]
    },
    {
     "name": "stdout",
     "output_type": "stream",
     "text": [
      "\n",
      "Model Score  0.04819011648620263\n",
      "Evaluating Cfg:\n",
      "Configuration:\n",
      "  _MLP:hidden_size_1, Value: 121\n",
      "  _MLP:hidden_size_2, Value: 151\n",
      "  _MLP:hidden_size_3, Value: 241\n",
      "  _MLP:hidden_size_4, Value: 31\n",
      "  _MLP:lr, Value: 8.659643233600651e-05\n",
      "  _MLP:n_hidden_layers, Value: '4'\n",
      "  _MLP:nonlintype, Value: 'sigmoid'\n",
      "  model, Value: 'MLP'\n",
      "\n",
      "use_cuda=True\n",
      "MLP Using Cuda\n",
      "hidden_sizes= [121, 151, 241, 31]\n",
      "100%|██████████| 50/50 [01:42<00:00,  2.05s/it]"
     ]
    },
    {
     "name": "stderr",
     "output_type": "stream",
     "text": [
      "INFO:smac.intensification.intensification.Intensifier:Wallclock time limit for intensification reached (used: 102.795797 sec, available: 0.000010 sec)\n"
     ]
    },
    {
     "name": "stdout",
     "output_type": "stream",
     "text": [
      "\n",
      "Model Score  0.39515724497850524\n",
      "Evaluating Cfg:\n",
      "Configuration:\n",
      "  _MLP:hidden_size_1, Value: 241\n",
      "  _MLP:hidden_size_2, Value: 31\n",
      "  _MLP:lr, Value: 0.027384196342643607\n",
      "  _MLP:n_hidden_layers, Value: '2'\n",
      "  _MLP:nonlintype, Value: 'relu'\n",
      "  model, Value: 'MLP'\n",
      "\n",
      "use_cuda=True\n",
      "MLP Using Cuda\n",
      "hidden_sizes= [241, 31]\n",
      "100%|██████████| 50/50 [01:04<00:00,  1.29s/it]"
     ]
    },
    {
     "name": "stderr",
     "output_type": "stream",
     "text": [
      "INFO:smac.intensification.intensification.Intensifier:Wallclock time limit for intensification reached (used: 64.533813 sec, available: 0.000010 sec)\n"
     ]
    },
    {
     "name": "stdout",
     "output_type": "stream",
     "text": [
      "\n",
      "Model Score  0.05796179919843242\n",
      "Evaluating Cfg:\n",
      "Configuration:\n",
      "  _MLP:hidden_size_1, Value: 128\n",
      "  _MLP:hidden_size_2, Value: 98\n",
      "  _MLP:lr, Value: 0.1654817099943182\n",
      "  _MLP:n_hidden_layers, Value: '2'\n",
      "  _MLP:nonlintype, Value: 'tanh'\n",
      "  model, Value: 'MLP'\n",
      "\n",
      "use_cuda=True\n",
      "MLP Using Cuda\n",
      "hidden_sizes= [128, 98]\n",
      "100%|██████████| 50/50 [01:04<00:00,  1.29s/it]"
     ]
    },
    {
     "name": "stderr",
     "output_type": "stream",
     "text": [
      "INFO:smac.intensification.intensification.Intensifier:Wallclock time limit for intensification reached (used: 64.388938 sec, available: 0.000010 sec)\n"
     ]
    },
    {
     "name": "stdout",
     "output_type": "stream",
     "text": [
      "\n",
      "Model Score  0.5913717230576522\n",
      "Evaluating Cfg:\n",
      "Configuration:\n",
      "  _MLP:hidden_size_1, Value: 249\n",
      "  _MLP:hidden_size_2, Value: 219\n",
      "  _MLP:hidden_size_3, Value: 23\n",
      "  _MLP:hidden_size_4, Value: 98\n",
      "  _MLP:lr, Value: 0.0005232991146814944\n",
      "  _MLP:n_hidden_layers, Value: '4'\n",
      "  _MLP:nonlintype, Value: 'selu'\n",
      "  model, Value: 'MLP'\n",
      "\n",
      "use_cuda=True\n",
      "MLP Using Cuda\n",
      "hidden_sizes= [249, 219, 23, 98]\n",
      "100%|██████████| 50/50 [01:44<00:00,  2.10s/it]"
     ]
    },
    {
     "name": "stderr",
     "output_type": "stream",
     "text": [
      "INFO:smac.intensification.intensification.Intensifier:Wallclock time limit for intensification reached (used: 104.894707 sec, available: 0.000010 sec)\n"
     ]
    },
    {
     "name": "stdout",
     "output_type": "stream",
     "text": [
      "\n",
      "Model Score  0.031271034606697556\n",
      "Evaluating Cfg:\n",
      "Configuration:\n",
      "  _MLP:hidden_size_1, Value: 68\n",
      "  _MLP:lr, Value: 2.942727176209284e-05\n",
      "  _MLP:n_hidden_layers, Value: '1'\n",
      "  _MLP:nonlintype, Value: 'sigmoid'\n",
      "  model, Value: 'MLP'\n",
      "\n",
      "use_cuda=True\n",
      "MLP Using Cuda\n",
      "hidden_sizes= [68]\n",
      "100%|██████████| 50/50 [00:44<00:00,  1.13it/s]"
     ]
    },
    {
     "name": "stderr",
     "output_type": "stream",
     "text": [
      "INFO:smac.intensification.intensification.Intensifier:Wallclock time limit for intensification reached (used: 44.419580 sec, available: 0.000010 sec)\n"
     ]
    },
    {
     "name": "stdout",
     "output_type": "stream",
     "text": [
      "\n",
      "Model Score  0.39998680203862663\n",
      "Evaluating Cfg:\n",
      "Configuration:\n",
      "  _MLP:hidden_size_1, Value: 189\n",
      "  _MLP:hidden_size_2, Value: 159\n",
      "  _MLP:hidden_size_3, Value: 204\n",
      "  _MLP:lr, Value: 0.009305720409296989\n",
      "  _MLP:n_hidden_layers, Value: '3'\n",
      "  _MLP:nonlintype, Value: 'relu'\n",
      "  model, Value: 'MLP'\n",
      "\n",
      "use_cuda=True\n",
      "MLP Using Cuda\n",
      "hidden_sizes= [189, 159, 204]\n",
      "100%|██████████| 50/50 [01:23<00:00,  1.68s/it]"
     ]
    },
    {
     "name": "stderr",
     "output_type": "stream",
     "text": [
      "INFO:smac.intensification.intensification.Intensifier:Wallclock time limit for intensification reached (used: 83.984213 sec, available: 0.000010 sec)\n"
     ]
    },
    {
     "name": "stdout",
     "output_type": "stream",
     "text": [
      "\n",
      "Model Score  0.05393818646020615\n",
      "Evaluating Cfg:\n",
      "Configuration:\n",
      "  _MLP:hidden_size_1, Value: 38\n",
      "  _MLP:hidden_size_2, Value: 189\n",
      "  _MLP:lr, Value: 0.002206734069084589\n",
      "  _MLP:n_hidden_layers, Value: '2'\n",
      "  _MLP:nonlintype, Value: 'sigmoid'\n",
      "  model, Value: 'MLP'\n",
      "\n",
      "use_cuda=True\n",
      "MLP Using Cuda\n",
      "hidden_sizes= [38, 189]\n",
      "100%|██████████| 50/50 [01:02<00:00,  1.25s/it]"
     ]
    },
    {
     "name": "stderr",
     "output_type": "stream",
     "text": [
      "INFO:smac.intensification.intensification.Intensifier:Wallclock time limit for intensification reached (used: 62.379263 sec, available: 0.000010 sec)\n"
     ]
    },
    {
     "name": "stdout",
     "output_type": "stream",
     "text": [
      "\n",
      "Model Score  0.09085663795279879\n",
      "Evaluating Cfg:\n",
      "Configuration:\n",
      "  _MLP:hidden_size_1, Value: 159\n",
      "  _MLP:hidden_size_2, Value: 68\n",
      "  _MLP:hidden_size_3, Value: 53\n",
      "  _MLP:hidden_size_4, Value: 249\n",
      "  _MLP:lr, Value: 0.6978305848598662\n",
      "  _MLP:n_hidden_layers, Value: '4'\n",
      "  _MLP:nonlintype, Value: 'relu'\n",
      "  model, Value: 'MLP'\n",
      "\n",
      "use_cuda=True\n",
      "MLP Using Cuda\n",
      "hidden_sizes= [159, 68, 53, 249]\n",
      "100%|██████████| 50/50 [01:45<00:00,  2.10s/it]"
     ]
    },
    {
     "name": "stderr",
     "output_type": "stream",
     "text": [
      "INFO:smac.intensification.intensification.Intensifier:Wallclock time limit for intensification reached (used: 105.272332 sec, available: 0.000010 sec)\n"
     ]
    },
    {
     "name": "stdout",
     "output_type": "stream",
     "text": [
      "\n",
      "Model Score  0.8694039483791526\n",
      "Evaluating Cfg:\n",
      "Configuration:\n",
      "  _MLP:hidden_size_1, Value: 98\n",
      "  _MLP:lr, Value: 0.03924189758484533\n",
      "  _MLP:n_hidden_layers, Value: '1'\n",
      "  _MLP:nonlintype, Value: 'tanh'\n",
      "  model, Value: 'MLP'\n",
      "\n",
      "use_cuda=True\n",
      "MLP Using Cuda\n",
      "hidden_sizes= [98]\n",
      "100%|██████████| 50/50 [00:44<00:00,  1.12it/s]"
     ]
    },
    {
     "name": "stderr",
     "output_type": "stream",
     "text": [
      "INFO:smac.intensification.intensification.Intensifier:Wallclock time limit for intensification reached (used: 44.553235 sec, available: 0.000010 sec)\n"
     ]
    },
    {
     "name": "stdout",
     "output_type": "stream",
     "text": [
      "\n",
      "Model Score  0.06315595906785736\n",
      "Evaluating Cfg:\n",
      "Configuration:\n",
      "  _MLP:hidden_size_1, Value: 219\n",
      "  _MLP:hidden_size_2, Value: 128\n",
      "  _MLP:hidden_size_3, Value: 234\n",
      "  _MLP:lr, Value: 0.00012409377607517196\n",
      "  _MLP:n_hidden_layers, Value: '3'\n",
      "  _MLP:nonlintype, Value: 'selu'\n",
      "  model, Value: 'MLP'\n",
      "\n",
      "use_cuda=True\n",
      "MLP Using Cuda\n",
      "hidden_sizes= [219, 128, 234]\n",
      "100%|██████████| 50/50 [01:22<00:00,  1.66s/it]"
     ]
    },
    {
     "name": "stderr",
     "output_type": "stream",
     "text": [
      "INFO:smac.intensification.intensification.Intensifier:Wallclock time limit for intensification reached (used: 82.887737 sec, available: 0.000010 sec)\n"
     ]
    },
    {
     "name": "stdout",
     "output_type": "stream",
     "text": [
      "\n",
      "Model Score  0.028276808926528802\n",
      "Evaluating Cfg:\n",
      "Configuration:\n",
      "  _MLP:hidden_size_1, Value: 53\n",
      "  _MLP:hidden_size_2, Value: 113\n",
      "  _MLP:hidden_size_3, Value: 159\n",
      "  _MLP:hidden_size_4, Value: 53\n",
      "  _MLP:lr, Value: 0.004531583637600819\n",
      "  _MLP:n_hidden_layers, Value: '4'\n",
      "  _MLP:nonlintype, Value: 'selu'\n",
      "  model, Value: 'MLP'\n",
      "\n",
      "use_cuda=True\n",
      "MLP Using Cuda\n",
      "hidden_sizes= [53, 113, 159, 53]\n",
      "100%|██████████| 50/50 [01:41<00:00,  2.03s/it]"
     ]
    },
    {
     "name": "stderr",
     "output_type": "stream",
     "text": [
      "INFO:smac.intensification.intensification.Intensifier:Wallclock time limit for intensification reached (used: 101.341596 sec, available: 0.000010 sec)\n"
     ]
    },
    {
     "name": "stdout",
     "output_type": "stream",
     "text": [
      "\n",
      "Model Score  0.03323886304383986\n",
      "Evaluating Cfg:\n",
      "Configuration:\n",
      "  _MLP:hidden_size_1, Value: 174\n",
      "  _MLP:hidden_size_2, Value: 234\n",
      "  _MLP:lr, Value: 1.4330125702369629e-05\n",
      "  _MLP:n_hidden_layers, Value: '2'\n",
      "  _MLP:nonlintype, Value: 'tanh'\n",
      "  model, Value: 'MLP'\n",
      "\n",
      "use_cuda=True\n",
      "MLP Using Cuda\n",
      "hidden_sizes= [174, 234]\n",
      "100%|██████████| 50/50 [01:05<00:00,  1.31s/it]"
     ]
    },
    {
     "name": "stderr",
     "output_type": "stream",
     "text": [
      "INFO:smac.intensification.intensification.Intensifier:Wallclock time limit for intensification reached (used: 65.429708 sec, available: 0.000010 sec)\n"
     ]
    },
    {
     "name": "stdout",
     "output_type": "stream",
     "text": [
      "\n",
      "Model Score  0.1930394282306845\n",
      "Evaluating Cfg:\n",
      "Configuration:\n",
      "  _MLP:hidden_size_1, Value: 138\n",
      "  _MLP:hidden_size_2, Value: 57\n",
      "  _MLP:hidden_size_3, Value: 58\n",
      "  _MLP:lr, Value: 0.5022331624816654\n",
      "  _MLP:n_hidden_layers, Value: '3'\n",
      "  _MLP:nonlintype, Value: 'sigmoid'\n",
      "  model, Value: 'MLP'\n",
      "\n",
      "use_cuda=True\n",
      "MLP Using Cuda\n",
      "hidden_sizes= [138, 57, 58]\n",
      "100%|██████████| 50/50 [01:21<00:00,  1.63s/it]"
     ]
    },
    {
     "name": "stderr",
     "output_type": "stream",
     "text": [
      "INFO:smac.intensification.intensification.Intensifier:Wallclock time limit for intensification reached (used: 81.304921 sec, available: 0.000010 sec)\n"
     ]
    },
    {
     "name": "stdout",
     "output_type": "stream",
     "text": [
      "\n",
      "Model Score  0.9893924667062567\n",
      "Evaluating Cfg:\n",
      "Configuration:\n",
      "  _MLP:hidden_size_1, Value: 49\n",
      "  _MLP:hidden_size_2, Value: 176\n",
      "  _MLP:hidden_size_3, Value: 99\n",
      "  _MLP:hidden_size_4, Value: 197\n",
      "  _MLP:lr, Value: 0.0002111881550968414\n",
      "  _MLP:n_hidden_layers, Value: '4'\n",
      "  _MLP:nonlintype, Value: 'selu'\n",
      "  model, Value: 'MLP'\n",
      "\n",
      "use_cuda=True\n",
      "MLP Using Cuda\n",
      "hidden_sizes= [49, 176, 99, 197]\n",
      "100%|██████████| 50/50 [01:43<00:00,  2.07s/it]"
     ]
    },
    {
     "name": "stderr",
     "output_type": "stream",
     "text": [
      "INFO:smac.intensification.intensification.Intensifier:Wallclock time limit for intensification reached (used: 103.737445 sec, available: 0.000010 sec)\n"
     ]
    },
    {
     "name": "stdout",
     "output_type": "stream",
     "text": [
      "\n",
      "Model Score  0.03652107603931662\n",
      "Evaluating Cfg:\n",
      "Configuration:\n",
      "  _MLP:hidden_size_1, Value: 234\n",
      "  _MLP:hidden_size_2, Value: 200\n",
      "  _MLP:hidden_size_3, Value: 19\n",
      "  _MLP:hidden_size_4, Value: 44\n",
      "  _MLP:lr, Value: 0.008124146826214944\n",
      "  _MLP:n_hidden_layers, Value: '4'\n",
      "  _MLP:nonlintype, Value: 'relu'\n",
      "  model, Value: 'MLP'\n",
      "\n",
      "use_cuda=True\n",
      "MLP Using Cuda\n",
      "hidden_sizes= [234, 200, 19, 44]\n",
      "100%|██████████| 50/50 [01:41<00:00,  2.02s/it]"
     ]
    },
    {
     "name": "stderr",
     "output_type": "stream",
     "text": [
      "INFO:smac.intensification.intensification.Intensifier:Wallclock time limit for intensification reached (used: 101.143775 sec, available: 0.000010 sec)\n"
     ]
    },
    {
     "name": "stdout",
     "output_type": "stream",
     "text": [
      "\n",
      "Model Score  0.026801747342290752\n",
      "Evaluating Cfg:\n",
      "Configuration:\n",
      "  _MLP:hidden_size_1, Value: 219\n",
      "  _MLP:hidden_size_2, Value: 250\n",
      "  _MLP:hidden_size_3, Value: 51\n",
      "  _MLP:hidden_size_4, Value: 209\n",
      "  _MLP:lr, Value: 0.0003437591337506701\n",
      "  _MLP:n_hidden_layers, Value: '4'\n",
      "  _MLP:nonlintype, Value: 'tanh'\n",
      "  model, Value: 'MLP'\n",
      "\n",
      "use_cuda=True\n",
      "MLP Using Cuda\n",
      "hidden_sizes= [219, 250, 51, 209]\n",
      "100%|██████████| 50/50 [01:40<00:00,  2.01s/it]"
     ]
    },
    {
     "name": "stderr",
     "output_type": "stream",
     "text": [
      "INFO:smac.intensification.intensification.Intensifier:Wallclock time limit for intensification reached (used: 100.798953 sec, available: 0.000010 sec)\n"
     ]
    },
    {
     "name": "stdout",
     "output_type": "stream",
     "text": [
      "\n",
      "Model Score  0.03177103225153686\n",
      "Evaluating Cfg:\n",
      "Configuration:\n",
      "  _MLP:hidden_size_1, Value: 198\n",
      "  _MLP:hidden_size_2, Value: 194\n",
      "  _MLP:hidden_size_3, Value: 128\n",
      "  _MLP:hidden_size_4, Value: 75\n",
      "  _MLP:lr, Value: 0.00017399955624705394\n",
      "  _MLP:n_hidden_layers, Value: '4'\n",
      "  _MLP:nonlintype, Value: 'selu'\n",
      "  model, Value: 'MLP'\n",
      "\n",
      "use_cuda=True\n",
      "MLP Using Cuda\n",
      "hidden_sizes= [198, 194, 128, 75]\n",
      "100%|██████████| 50/50 [01:42<00:00,  2.05s/it]"
     ]
    },
    {
     "name": "stderr",
     "output_type": "stream",
     "text": [
      "INFO:smac.intensification.intensification.Intensifier:Wallclock time limit for intensification reached (used: 102.528075 sec, available: 0.000010 sec)\n"
     ]
    },
    {
     "name": "stdout",
     "output_type": "stream",
     "text": [
      "\n",
      "Model Score  0.031708465893687844\n",
      "Evaluating Cfg:\n",
      "Configuration:\n",
      "  _MLP:hidden_size_1, Value: 55\n",
      "  _MLP:lr, Value: 0.016410291601140926\n",
      "  _MLP:n_hidden_layers, Value: '1'\n",
      "  _MLP:nonlintype, Value: 'sigmoid'\n",
      "  model, Value: 'MLP'\n",
      "\n",
      "use_cuda=True\n",
      "MLP Using Cuda\n",
      "hidden_sizes= [55]\n",
      "100%|██████████| 50/50 [00:44<00:00,  1.13it/s]"
     ]
    },
    {
     "name": "stderr",
     "output_type": "stream",
     "text": [
      "INFO:smac.intensification.intensification.Intensifier:Wallclock time limit for intensification reached (used: 44.206712 sec, available: 0.000010 sec)\n"
     ]
    },
    {
     "name": "stdout",
     "output_type": "stream",
     "text": [
      "\n",
      "Model Score  0.020622360038977355\n",
      "Evaluating Cfg:\n",
      "Configuration:\n",
      "  _MLP:hidden_size_1, Value: 185\n",
      "  _MLP:hidden_size_2, Value: 194\n",
      "  _MLP:hidden_size_3, Value: 212\n",
      "  _MLP:lr, Value: 0.0008007134815344076\n",
      "  _MLP:n_hidden_layers, Value: '3'\n",
      "  _MLP:nonlintype, Value: 'tanh'\n",
      "  model, Value: 'MLP'\n",
      "\n",
      "use_cuda=True\n",
      "MLP Using Cuda\n",
      "hidden_sizes= [185, 194, 212]\n",
      "100%|██████████| 50/50 [01:20<00:00,  1.61s/it]"
     ]
    },
    {
     "name": "stderr",
     "output_type": "stream",
     "text": [
      "INFO:smac.intensification.intensification.Intensifier:Wallclock time limit for intensification reached (used: 80.448106 sec, available: 0.000010 sec)\n"
     ]
    },
    {
     "name": "stdout",
     "output_type": "stream",
     "text": [
      "\n",
      "Model Score  0.02670037892834943\n",
      "Evaluating Cfg:\n",
      "Configuration:\n",
      "  _MLP:hidden_size_1, Value: 239\n",
      "  _MLP:hidden_size_2, Value: 148\n",
      "  _MLP:hidden_size_3, Value: 224\n",
      "  _MLP:lr, Value: 3.1442534522916294e-05\n",
      "  _MLP:n_hidden_layers, Value: '3'\n",
      "  _MLP:nonlintype, Value: 'relu'\n",
      "  model, Value: 'MLP'\n",
      "\n",
      "use_cuda=True\n",
      "MLP Using Cuda\n",
      "hidden_sizes= [239, 148, 224]\n",
      "100%|██████████| 50/50 [01:23<00:00,  1.66s/it]"
     ]
    },
    {
     "name": "stderr",
     "output_type": "stream",
     "text": [
      "INFO:smac.intensification.intensification.Intensifier:Wallclock time limit for intensification reached (used: 83.245631 sec, available: 0.000010 sec)\n"
     ]
    },
    {
     "name": "stdout",
     "output_type": "stream",
     "text": [
      "\n",
      "Model Score  0.034999022645472055\n",
      "Evaluating Cfg:\n",
      "Configuration:\n",
      "  _MLP:hidden_size_1, Value: 189\n",
      "  _MLP:lr, Value: 0.9474905583242474\n",
      "  _MLP:n_hidden_layers, Value: '1'\n",
      "  _MLP:nonlintype, Value: 'sigmoid'\n",
      "  model, Value: 'MLP'\n",
      "\n",
      "use_cuda=True\n",
      "MLP Using Cuda\n",
      "hidden_sizes= [189]\n",
      "100%|██████████| 50/50 [00:45<00:00,  1.10it/s]"
     ]
    },
    {
     "name": "stderr",
     "output_type": "stream",
     "text": [
      "INFO:smac.intensification.intensification.Intensifier:Wallclock time limit for intensification reached (used: 45.530653 sec, available: 0.000010 sec)\n"
     ]
    },
    {
     "name": "stdout",
     "output_type": "stream",
     "text": [
      "\n",
      "Model Score  3.12811892754693\n",
      "Evaluating Cfg:\n",
      "Configuration:\n",
      "  _MLP:hidden_size_1, Value: 43\n",
      "  _MLP:hidden_size_2, Value: 27\n",
      "  _MLP:hidden_size_3, Value: 197\n",
      "  _MLP:hidden_size_4, Value: 154\n",
      "  _MLP:lr, Value: 0.023038985164916745\n",
      "  _MLP:n_hidden_layers, Value: '4'\n",
      "  _MLP:nonlintype, Value: 'tanh'\n",
      "  model, Value: 'MLP'\n",
      "\n",
      "use_cuda=True\n",
      "MLP Using Cuda\n",
      "hidden_sizes= [43, 27, 197, 154]\n",
      "100%|██████████| 50/50 [01:41<00:00,  2.04s/it]"
     ]
    },
    {
     "name": "stderr",
     "output_type": "stream",
     "text": [
      "INFO:smac.intensification.intensification.Intensifier:Wallclock time limit for intensification reached (used: 101.921431 sec, available: 0.000010 sec)\n"
     ]
    },
    {
     "name": "stdout",
     "output_type": "stream",
     "text": [
      "\n",
      "Model Score  0.38300859369066514\n",
      "Evaluating Cfg:\n",
      "Configuration:\n",
      "  _MLP:hidden_size_1, Value: 195\n",
      "  _MLP:hidden_size_2, Value: 200\n",
      "  _MLP:hidden_size_3, Value: 71\n",
      "  _MLP:hidden_size_4, Value: 208\n",
      "  _MLP:lr, Value: 5.508506728075184e-05\n",
      "  _MLP:n_hidden_layers, Value: '4'\n",
      "  _MLP:nonlintype, Value: 'tanh'\n",
      "  model, Value: 'MLP'\n",
      "\n",
      "use_cuda=True\n",
      "MLP Using Cuda\n",
      "hidden_sizes= [195, 200, 71, 208]\n",
      "100%|██████████| 50/50 [01:41<00:00,  2.03s/it]"
     ]
    },
    {
     "name": "stderr",
     "output_type": "stream",
     "text": [
      "INFO:smac.intensification.intensification.Intensifier:Wallclock time limit for intensification reached (used: 101.360941 sec, available: 0.000010 sec)\n"
     ]
    },
    {
     "name": "stdout",
     "output_type": "stream",
     "text": [
      "\n",
      "Model Score  0.027751230792266577\n",
      "Evaluating Cfg:\n",
      "Configuration:\n",
      "  _MLP:hidden_size_1, Value: 196\n",
      "  _MLP:hidden_size_2, Value: 234\n",
      "  _MLP:hidden_size_3, Value: 214\n",
      "  _MLP:hidden_size_4, Value: 162\n",
      "  _MLP:lr, Value: 0.025736364656705243\n",
      "  _MLP:n_hidden_layers, Value: '4'\n",
      "  _MLP:nonlintype, Value: 'tanh'\n",
      "  model, Value: 'MLP'\n",
      "\n",
      "use_cuda=True\n",
      "MLP Using Cuda\n",
      "hidden_sizes= [196, 234, 214, 162]\n",
      "100%|██████████| 50/50 [01:40<00:00,  2.01s/it]"
     ]
    },
    {
     "name": "stderr",
     "output_type": "stream",
     "text": [
      "INFO:smac.intensification.intensification.Intensifier:Wallclock time limit for intensification reached (used: 100.612478 sec, available: 0.000010 sec)\n"
     ]
    },
    {
     "name": "stdout",
     "output_type": "stream",
     "text": [
      "\n",
      "Model Score  0.38719101778501225\n",
      "Evaluating Cfg:\n",
      "Configuration:\n",
      "  _MLP:hidden_size_1, Value: 191\n",
      "  _MLP:hidden_size_2, Value: 190\n",
      "  _MLP:hidden_size_3, Value: 120\n",
      "  _MLP:hidden_size_4, Value: 66\n",
      "  _MLP:lr, Value: 0.0001584261844518049\n",
      "  _MLP:n_hidden_layers, Value: '4'\n",
      "  _MLP:nonlintype, Value: 'tanh'\n",
      "  model, Value: 'MLP'\n",
      "\n",
      "use_cuda=True\n",
      "MLP Using Cuda\n",
      "hidden_sizes= [191, 190, 120, 66]\n",
      "100%|██████████| 50/50 [01:41<00:00,  2.04s/it]"
     ]
    },
    {
     "name": "stderr",
     "output_type": "stream",
     "text": [
      "INFO:smac.intensification.intensification.Intensifier:Wallclock time limit for intensification reached (used: 101.906657 sec, available: 0.000010 sec)\n"
     ]
    },
    {
     "name": "stdout",
     "output_type": "stream",
     "text": [
      "\n",
      "Model Score  0.02224960148258117\n",
      "Evaluating Cfg:\n",
      "Configuration:\n",
      "  _MLP:hidden_size_1, Value: 176\n",
      "  _MLP:hidden_size_2, Value: 195\n",
      "  _MLP:hidden_size_3, Value: 83\n",
      "  _MLP:hidden_size_4, Value: 199\n",
      "  _MLP:lr, Value: 0.00025576732163886724\n",
      "  _MLP:n_hidden_layers, Value: '4'\n",
      "  _MLP:nonlintype, Value: 'tanh'\n",
      "  model, Value: 'MLP'\n",
      "\n",
      "use_cuda=True\n",
      "MLP Using Cuda\n",
      "hidden_sizes= [176, 195, 83, 199]\n",
      "100%|██████████| 50/50 [01:41<00:00,  2.03s/it]"
     ]
    },
    {
     "name": "stderr",
     "output_type": "stream",
     "text": [
      "INFO:smac.intensification.intensification.Intensifier:Wallclock time limit for intensification reached (used: 101.507194 sec, available: 0.000010 sec)\n"
     ]
    },
    {
     "name": "stdout",
     "output_type": "stream",
     "text": [
      "\n",
      "Model Score  0.019048714254959426\n",
      "Evaluating Cfg:\n",
      "Configuration:\n",
      "  _MLP:hidden_size_1, Value: 176\n",
      "  _MLP:hidden_size_2, Value: 197\n",
      "  _MLP:hidden_size_3, Value: 75\n",
      "  _MLP:hidden_size_4, Value: 195\n",
      "  _MLP:lr, Value: 0.00010432460956821284\n",
      "  _MLP:n_hidden_layers, Value: '4'\n",
      "  _MLP:nonlintype, Value: 'sigmoid'\n",
      "  model, Value: 'MLP'\n",
      "\n",
      "use_cuda=True\n",
      "MLP Using Cuda\n",
      "hidden_sizes= [176, 197, 75, 195]\n",
      "100%|██████████| 50/50 [01:43<00:00,  2.06s/it]"
     ]
    },
    {
     "name": "stderr",
     "output_type": "stream",
     "text": [
      "INFO:smac.intensification.intensification.Intensifier:Wallclock time limit for intensification reached (used: 103.205965 sec, available: 0.000010 sec)\n"
     ]
    },
    {
     "name": "stdout",
     "output_type": "stream",
     "text": [
      "\n",
      "Model Score  0.38995686046836797\n",
      "Evaluating Cfg:\n",
      "Configuration:\n",
      "  _MLP:hidden_size_1, Value: 173\n",
      "  _MLP:hidden_size_2, Value: 198\n",
      "  _MLP:hidden_size_3, Value: 212\n",
      "  _MLP:hidden_size_4, Value: 199\n",
      "  _MLP:lr, Value: 0.00030200823127956173\n",
      "  _MLP:n_hidden_layers, Value: '4'\n",
      "  _MLP:nonlintype, Value: 'relu'\n",
      "  model, Value: 'MLP'\n",
      "\n",
      "use_cuda=True\n",
      "MLP Using Cuda\n",
      "hidden_sizes= [173, 198, 212, 199]\n",
      "100%|██████████| 50/50 [01:42<00:00,  2.05s/it]"
     ]
    },
    {
     "name": "stderr",
     "output_type": "stream",
     "text": [
      "INFO:smac.intensification.intensification.Intensifier:Wallclock time limit for intensification reached (used: 102.374854 sec, available: 0.000010 sec)\n"
     ]
    },
    {
     "name": "stdout",
     "output_type": "stream",
     "text": [
      "\n",
      "Model Score  0.021301820184312044\n",
      "Evaluating Cfg:\n",
      "Configuration:\n",
      "  _MLP:hidden_size_1, Value: 194\n",
      "  _MLP:hidden_size_2, Value: 224\n",
      "  _MLP:hidden_size_3, Value: 84\n",
      "  _MLP:hidden_size_4, Value: 245\n",
      "  _MLP:lr, Value: 0.00019195423993269457\n",
      "  _MLP:n_hidden_layers, Value: '4'\n",
      "  _MLP:nonlintype, Value: 'tanh'\n",
      "  model, Value: 'MLP'\n",
      "\n",
      "use_cuda=True\n",
      "MLP Using Cuda\n",
      "hidden_sizes= [194, 224, 84, 245]\n",
      "100%|██████████| 50/50 [01:40<00:00,  2.02s/it]"
     ]
    },
    {
     "name": "stderr",
     "output_type": "stream",
     "text": [
      "INFO:smac.intensification.intensification.Intensifier:Wallclock time limit for intensification reached (used: 101.012053 sec, available: 0.000010 sec)\n"
     ]
    },
    {
     "name": "stdout",
     "output_type": "stream",
     "text": [
      "\n",
      "Model Score  0.018547797010400928\n",
      "Evaluating Cfg:\n",
      "Configuration:\n",
      "  _MLP:hidden_size_1, Value: 210\n",
      "  _MLP:hidden_size_2, Value: 245\n",
      "  _MLP:hidden_size_3, Value: 122\n",
      "  _MLP:hidden_size_4, Value: 196\n",
      "  _MLP:lr, Value: 0.00018384555290895232\n",
      "  _MLP:n_hidden_layers, Value: '4'\n",
      "  _MLP:nonlintype, Value: 'tanh'\n",
      "  model, Value: 'MLP'\n",
      "\n",
      "use_cuda=True\n",
      "MLP Using Cuda\n",
      "hidden_sizes= [210, 245, 122, 196]\n",
      "100%|██████████| 50/50 [01:39<00:00,  2.00s/it]"
     ]
    },
    {
     "name": "stderr",
     "output_type": "stream",
     "text": [
      "INFO:smac.intensification.intensification.Intensifier:Challenger (0.0161) is better than incumbent (0.0174) on 1 runs.\n",
      "INFO:smac.intensification.intensification.Intensifier:Changes in incumbent:\n",
      "INFO:smac.intensification.intensification.Intensifier:  _MLP:hidden_size_1 : 196 -> 210\n",
      "INFO:smac.intensification.intensification.Intensifier:  _MLP:hidden_size_2 : 196 -> 245\n",
      "INFO:smac.intensification.intensification.Intensifier:  _MLP:hidden_size_3 : 76 -> 122\n",
      "INFO:smac.intensification.intensification.Intensifier:  _MLP:lr : 0.00017782794100389232 -> 0.00018384555290895232\n",
      "INFO:smac.intensification.intensification.Intensifier:Wallclock time limit for intensification reached (used: 99.933558 sec, available: 0.000010 sec)\n"
     ]
    },
    {
     "name": "stdout",
     "output_type": "stream",
     "text": [
      "\n",
      "Model Score  0.016085393753043773\n",
      "Evaluating Cfg:\n",
      "Configuration:\n",
      "  _MLP:hidden_size_1, Value: 200\n",
      "  _MLP:hidden_size_2, Value: 233\n",
      "  _MLP:hidden_size_3, Value: 256\n",
      "  _MLP:hidden_size_4, Value: 177\n",
      "  _MLP:lr, Value: 0.0001849706293889266\n",
      "  _MLP:n_hidden_layers, Value: '4'\n",
      "  _MLP:nonlintype, Value: 'tanh'\n",
      "  model, Value: 'MLP'\n",
      "\n",
      "use_cuda=True\n",
      "MLP Using Cuda\n",
      "hidden_sizes= [200, 233, 256, 177]\n",
      "100%|██████████| 50/50 [01:40<00:00,  2.02s/it]"
     ]
    },
    {
     "name": "stderr",
     "output_type": "stream",
     "text": [
      "INFO:smac.intensification.intensification.Intensifier:Wallclock time limit for intensification reached (used: 100.935852 sec, available: 0.000010 sec)\n"
     ]
    },
    {
     "name": "stdout",
     "output_type": "stream",
     "text": [
      "\n",
      "Model Score  0.019492486403337648\n",
      "Evaluating Cfg:\n",
      "Configuration:\n",
      "  _MLP:hidden_size_1, Value: 177\n",
      "  _MLP:hidden_size_2, Value: 233\n",
      "  _MLP:hidden_size_3, Value: 129\n",
      "  _MLP:hidden_size_4, Value: 209\n",
      "  _MLP:lr, Value: 0.0001503435839447263\n",
      "  _MLP:n_hidden_layers, Value: '4'\n",
      "  _MLP:nonlintype, Value: 'tanh'\n",
      "  model, Value: 'MLP'\n",
      "\n",
      "use_cuda=True\n",
      "MLP Using Cuda\n",
      "hidden_sizes= [177, 233, 129, 209]\n",
      "100%|██████████| 50/50 [01:39<00:00,  1.99s/it]"
     ]
    },
    {
     "name": "stderr",
     "output_type": "stream",
     "text": [
      "INFO:smac.intensification.intensification.Intensifier:Wallclock time limit for intensification reached (used: 99.730719 sec, available: 0.000010 sec)\n"
     ]
    },
    {
     "name": "stdout",
     "output_type": "stream",
     "text": [
      "\n",
      "Model Score  0.021779877557511405\n",
      "Evaluating Cfg:\n",
      "Configuration:\n",
      "  _MLP:hidden_size_1, Value: 208\n",
      "  _MLP:hidden_size_2, Value: 251\n",
      "  _MLP:hidden_size_3, Value: 87\n",
      "  _MLP:hidden_size_4, Value: 192\n",
      "  _MLP:lr, Value: 0.0001789254382216608\n",
      "  _MLP:n_hidden_layers, Value: '4'\n",
      "  _MLP:nonlintype, Value: 'tanh'\n",
      "  model, Value: 'MLP'\n",
      "\n",
      "use_cuda=True\n",
      "MLP Using Cuda\n",
      "hidden_sizes= [208, 251, 87, 192]\n",
      "100%|██████████| 50/50 [01:41<00:00,  2.03s/it]"
     ]
    },
    {
     "name": "stderr",
     "output_type": "stream",
     "text": [
      "INFO:smac.intensification.intensification.Intensifier:Wallclock time limit for intensification reached (used: 101.333792 sec, available: 0.000010 sec)\n"
     ]
    },
    {
     "name": "stdout",
     "output_type": "stream",
     "text": [
      "\n",
      "Model Score  0.021046686566800858\n",
      "Evaluating Cfg:\n",
      "Configuration:\n",
      "  _MLP:hidden_size_1, Value: 222\n",
      "  _MLP:hidden_size_2, Value: 226\n",
      "  _MLP:hidden_size_3, Value: 248\n",
      "  _MLP:hidden_size_4, Value: 210\n",
      "  _MLP:lr, Value: 0.0216018100699386\n",
      "  _MLP:n_hidden_layers, Value: '4'\n",
      "  _MLP:nonlintype, Value: 'tanh'\n",
      "  model, Value: 'MLP'\n",
      "\n",
      "use_cuda=True\n",
      "MLP Using Cuda\n",
      "hidden_sizes= [222, 226, 248, 210]\n",
      "100%|██████████| 50/50 [01:40<00:00,  2.01s/it]"
     ]
    },
    {
     "name": "stderr",
     "output_type": "stream",
     "text": [
      "INFO:smac.intensification.intensification.Intensifier:Wallclock time limit for intensification reached (used: 100.570012 sec, available: 0.000010 sec)\n"
     ]
    },
    {
     "name": "stdout",
     "output_type": "stream",
     "text": [
      "\n",
      "Model Score  0.358579598276095\n",
      "Evaluating Cfg:\n",
      "Configuration:\n",
      "  _MLP:hidden_size_1, Value: 202\n",
      "  _MLP:hidden_size_2, Value: 174\n",
      "  _MLP:hidden_size_3, Value: 122\n",
      "  _MLP:hidden_size_4, Value: 198\n",
      "  _MLP:lr, Value: 0.013396048064538915\n",
      "  _MLP:n_hidden_layers, Value: '4'\n",
      "  _MLP:nonlintype, Value: 'tanh'\n",
      "  model, Value: 'MLP'\n",
      "\n",
      "use_cuda=True\n",
      "MLP Using Cuda\n",
      "hidden_sizes= [202, 174, 122, 198]\n",
      "100%|██████████| 50/50 [01:41<00:00,  2.04s/it]"
     ]
    },
    {
     "name": "stderr",
     "output_type": "stream",
     "text": [
      "INFO:smac.intensification.intensification.Intensifier:Wallclock time limit for intensification reached (used: 101.822692 sec, available: 0.000010 sec)\n"
     ]
    },
    {
     "name": "stdout",
     "output_type": "stream",
     "text": [
      "\n",
      "Model Score  0.23905238868735576\n",
      "Evaluating Cfg:\n",
      "Configuration:\n",
      "  _MLP:hidden_size_1, Value: 211\n",
      "  _MLP:hidden_size_2, Value: 239\n",
      "  _MLP:hidden_size_3, Value: 78\n",
      "  _MLP:hidden_size_4, Value: 169\n",
      "  _MLP:lr, Value: 0.0001894476507126955\n",
      "  _MLP:n_hidden_layers, Value: '4'\n",
      "  _MLP:nonlintype, Value: 'sigmoid'\n",
      "  model, Value: 'MLP'\n",
      "\n",
      "use_cuda=True\n",
      "MLP Using Cuda\n",
      "hidden_sizes= [211, 239, 78, 169]\n",
      "100%|██████████| 50/50 [01:42<00:00,  2.05s/it]"
     ]
    },
    {
     "name": "stderr",
     "output_type": "stream",
     "text": [
      "INFO:smac.intensification.intensification.Intensifier:Wallclock time limit for intensification reached (used: 102.431352 sec, available: 0.000010 sec)\n"
     ]
    },
    {
     "name": "stdout",
     "output_type": "stream",
     "text": [
      "\n",
      "Model Score  0.11255068685344773\n",
      "Evaluating Cfg:\n",
      "Configuration:\n",
      "  _MLP:hidden_size_1, Value: 234\n",
      "  _MLP:hidden_size_2, Value: 242\n",
      "  _MLP:hidden_size_3, Value: 77\n",
      "  _MLP:hidden_size_4, Value: 202\n",
      "  _MLP:lr, Value: 0.00013823844056213742\n",
      "  _MLP:n_hidden_layers, Value: '4'\n",
      "  _MLP:nonlintype, Value: 'tanh'\n",
      "  model, Value: 'MLP'\n",
      "\n",
      "use_cuda=True\n",
      "MLP Using Cuda\n",
      "hidden_sizes= [234, 242, 77, 202]\n",
      "100%|██████████| 50/50 [01:41<00:00,  2.03s/it]"
     ]
    },
    {
     "name": "stderr",
     "output_type": "stream",
     "text": [
      "INFO:smac.intensification.intensification.Intensifier:Wallclock time limit for intensification reached (used: 101.689506 sec, available: 0.000010 sec)\n"
     ]
    },
    {
     "name": "stdout",
     "output_type": "stream",
     "text": [
      "\n",
      "Model Score  0.021955028570116365\n",
      "Evaluating Cfg:\n",
      "Configuration:\n",
      "  _MLP:hidden_size_1, Value: 222\n",
      "  _MLP:hidden_size_2, Value: 243\n",
      "  _MLP:hidden_size_3, Value: 234\n",
      "  _MLP:hidden_size_4, Value: 196\n",
      "  _MLP:lr, Value: 0.00018151617712423287\n",
      "  _MLP:n_hidden_layers, Value: '4'\n",
      "  _MLP:nonlintype, Value: 'tanh'\n",
      "  model, Value: 'MLP'\n",
      "\n",
      "use_cuda=True\n",
      "MLP Using Cuda\n",
      "hidden_sizes= [222, 243, 234, 196]\n",
      "100%|██████████| 50/50 [01:39<00:00,  1.99s/it]"
     ]
    },
    {
     "name": "stderr",
     "output_type": "stream",
     "text": [
      "INFO:smac.intensification.intensification.Intensifier:Wallclock time limit for intensification reached (used: 99.766696 sec, available: 0.000010 sec)\n"
     ]
    },
    {
     "name": "stdout",
     "output_type": "stream",
     "text": [
      "\n",
      "Model Score  0.017827656707334147\n",
      "Evaluating Cfg:\n",
      "Configuration:\n",
      "  _MLP:hidden_size_1, Value: 212\n",
      "  _MLP:hidden_size_2, Value: 45\n",
      "  _MLP:lr, Value: 0.0007708237129276679\n",
      "  _MLP:n_hidden_layers, Value: '2'\n",
      "  _MLP:nonlintype, Value: 'selu'\n",
      "  model, Value: 'MLP'\n",
      "\n",
      "use_cuda=True\n",
      "MLP Using Cuda\n",
      "hidden_sizes= [212, 45]\n",
      "100%|██████████| 50/50 [01:04<00:00,  1.29s/it]"
     ]
    },
    {
     "name": "stderr",
     "output_type": "stream",
     "text": [
      "INFO:smac.intensification.intensification.Intensifier:Wallclock time limit for intensification reached (used: 64.544050 sec, available: 0.000010 sec)\n"
     ]
    },
    {
     "name": "stdout",
     "output_type": "stream",
     "text": [
      "\n",
      "Model Score  0.04492744580172012\n",
      "Evaluating Cfg:\n",
      "Configuration:\n",
      "  _MLP:hidden_size_1, Value: 229\n",
      "  _MLP:hidden_size_2, Value: 256\n",
      "  _MLP:hidden_size_3, Value: 75\n",
      "  _MLP:hidden_size_4, Value: 196\n",
      "  _MLP:lr, Value: 0.000179587897496491\n",
      "  _MLP:n_hidden_layers, Value: '4'\n",
      "  _MLP:nonlintype, Value: 'tanh'\n",
      "  model, Value: 'MLP'\n",
      "\n",
      "use_cuda=True\n",
      "MLP Using Cuda\n",
      "hidden_sizes= [229, 256, 75, 196]\n",
      "100%|██████████| 50/50 [01:42<00:00,  2.04s/it]"
     ]
    },
    {
     "name": "stderr",
     "output_type": "stream",
     "text": [
      "INFO:smac.intensification.intensification.Intensifier:Wallclock time limit for intensification reached (used: 102.067936 sec, available: 0.000010 sec)\n"
     ]
    },
    {
     "name": "stdout",
     "output_type": "stream",
     "text": [
      "\n",
      "Model Score  0.020313637959228015\n",
      "Evaluating Cfg:\n",
      "Configuration:\n",
      "  _MLP:hidden_size_1, Value: 228\n",
      "  _MLP:hidden_size_2, Value: 245\n",
      "  _MLP:hidden_size_3, Value: 143\n",
      "  _MLP:hidden_size_4, Value: 210\n",
      "  _MLP:lr, Value: 0.00018921081030061327\n",
      "  _MLP:n_hidden_layers, Value: '4'\n",
      "  _MLP:nonlintype, Value: 'tanh'\n",
      "  model, Value: 'MLP'\n",
      "\n",
      "use_cuda=True\n",
      "MLP Using Cuda\n",
      "hidden_sizes= [228, 245, 143, 210]\n",
      "100%|██████████| 50/50 [01:40<00:00,  2.01s/it]"
     ]
    },
    {
     "name": "stderr",
     "output_type": "stream",
     "text": [
      "INFO:smac.intensification.intensification.Intensifier:Wallclock time limit for intensification reached (used: 100.674222 sec, available: 0.000010 sec)\n"
     ]
    },
    {
     "name": "stdout",
     "output_type": "stream",
     "text": [
      "\n",
      "Model Score  0.021305290640448653\n",
      "Evaluating Cfg:\n",
      "Configuration:\n",
      "  _MLP:hidden_size_1, Value: 193\n",
      "  _MLP:hidden_size_2, Value: 246\n",
      "  _MLP:hidden_size_3, Value: 78\n",
      "  _MLP:hidden_size_4, Value: 196\n",
      "  _MLP:lr, Value: 0.00018381346186985788\n",
      "  _MLP:n_hidden_layers, Value: '4'\n",
      "  _MLP:nonlintype, Value: 'sigmoid'\n",
      "  model, Value: 'MLP'\n",
      "\n",
      "use_cuda=True\n",
      "MLP Using Cuda\n",
      "hidden_sizes= [193, 246, 78, 196]\n",
      "100%|██████████| 50/50 [01:40<00:00,  2.02s/it]"
     ]
    },
    {
     "name": "stderr",
     "output_type": "stream",
     "text": [
      "INFO:smac.intensification.intensification.Intensifier:Wallclock time limit for intensification reached (used: 100.899175 sec, available: 0.000010 sec)\n"
     ]
    },
    {
     "name": "stdout",
     "output_type": "stream",
     "text": [
      "\n",
      "Model Score  0.36090339989050413\n",
      "Evaluating Cfg:\n",
      "Configuration:\n",
      "  _MLP:hidden_size_1, Value: 50\n",
      "  _MLP:hidden_size_2, Value: 210\n",
      "  _MLP:lr, Value: 0.012920151289118477\n",
      "  _MLP:n_hidden_layers, Value: '2'\n",
      "  _MLP:nonlintype, Value: 'sigmoid'\n",
      "  model, Value: 'MLP'\n",
      "\n",
      "use_cuda=True\n",
      "MLP Using Cuda\n",
      "hidden_sizes= [50, 210]\n",
      "100%|██████████| 50/50 [01:04<00:00,  1.28s/it]"
     ]
    },
    {
     "name": "stderr",
     "output_type": "stream",
     "text": [
      "INFO:smac.intensification.intensification.Intensifier:Wallclock time limit for intensification reached (used: 64.228645 sec, available: 0.000010 sec)\n"
     ]
    },
    {
     "name": "stdout",
     "output_type": "stream",
     "text": [
      "\n",
      "Model Score  0.06276290206664718\n",
      "Evaluating Cfg:\n",
      "Configuration:\n",
      "  _MLP:hidden_size_1, Value: 219\n",
      "  _MLP:hidden_size_2, Value: 222\n",
      "  _MLP:hidden_size_3, Value: 116\n",
      "  _MLP:hidden_size_4, Value: 196\n",
      "  _MLP:lr, Value: 0.000183626602580001\n",
      "  _MLP:n_hidden_layers, Value: '4'\n",
      "  _MLP:nonlintype, Value: 'tanh'\n",
      "  model, Value: 'MLP'\n",
      "\n",
      "use_cuda=True\n",
      "MLP Using Cuda\n",
      "hidden_sizes= [219, 222, 116, 196]\n",
      "100%|██████████| 50/50 [01:39<00:00,  2.00s/it]"
     ]
    },
    {
     "name": "stderr",
     "output_type": "stream",
     "text": [
      "INFO:smac.intensification.intensification.Intensifier:Wallclock time limit for intensification reached (used: 99.914401 sec, available: 0.000010 sec)\n"
     ]
    },
    {
     "name": "stdout",
     "output_type": "stream",
     "text": [
      "\n",
      "Model Score  0.020512335644912803\n",
      "Evaluating Cfg:\n",
      "Configuration:\n",
      "  _MLP:hidden_size_1, Value: 189\n",
      "  _MLP:hidden_size_2, Value: 243\n",
      "  _MLP:hidden_size_3, Value: 145\n",
      "  _MLP:hidden_size_4, Value: 196\n",
      "  _MLP:lr, Value: 0.00018396994299204857\n",
      "  _MLP:n_hidden_layers, Value: '4'\n",
      "  _MLP:nonlintype, Value: 'tanh'\n",
      "  model, Value: 'MLP'\n",
      "\n",
      "use_cuda=True\n",
      "MLP Using Cuda\n",
      "hidden_sizes= [189, 243, 145, 196]\n",
      "100%|██████████| 50/50 [01:40<00:00,  2.01s/it]"
     ]
    },
    {
     "name": "stderr",
     "output_type": "stream",
     "text": [
      "INFO:smac.intensification.intensification.Intensifier:Wallclock time limit for intensification reached (used: 100.814933 sec, available: 0.000010 sec)\n"
     ]
    },
    {
     "name": "stdout",
     "output_type": "stream",
     "text": [
      "\n",
      "Model Score  0.020668246690145695\n",
      "Evaluating Cfg:\n",
      "Configuration:\n",
      "  _MLP:hidden_size_1, Value: 210\n",
      "  _MLP:hidden_size_2, Value: 234\n",
      "  _MLP:hidden_size_3, Value: 80\n",
      "  _MLP:hidden_size_4, Value: 182\n",
      "  _MLP:lr, Value: 0.00018398502215120598\n",
      "  _MLP:n_hidden_layers, Value: '4'\n",
      "  _MLP:nonlintype, Value: 'tanh'\n",
      "  model, Value: 'MLP'\n",
      "\n",
      "use_cuda=True\n",
      "MLP Using Cuda\n",
      "hidden_sizes= [210, 234, 80, 182]\n",
      "100%|██████████| 50/50 [01:36<00:00,  1.92s/it]"
     ]
    },
    {
     "name": "stderr",
     "output_type": "stream",
     "text": [
      "INFO:smac.intensification.intensification.Intensifier:Wallclock time limit for intensification reached (used: 96.162534 sec, available: 0.000010 sec)\n"
     ]
    },
    {
     "name": "stdout",
     "output_type": "stream",
     "text": [
      "\n",
      "Model Score  0.022373997305424977\n",
      "Evaluating Cfg:\n",
      "Configuration:\n",
      "  _MLP:hidden_size_1, Value: 217\n",
      "  _MLP:hidden_size_2, Value: 247\n",
      "  _MLP:hidden_size_3, Value: 138\n",
      "  _MLP:hidden_size_4, Value: 193\n",
      "  _MLP:lr, Value: 0.00018384555290895232\n",
      "  _MLP:n_hidden_layers, Value: '4'\n",
      "  _MLP:nonlintype, Value: 'relu'\n",
      "  model, Value: 'MLP'\n",
      "\n",
      "use_cuda=True\n",
      "MLP Using Cuda\n",
      "hidden_sizes= [217, 247, 138, 193]\n",
      "100%|██████████| 50/50 [01:42<00:00,  2.05s/it]"
     ]
    },
    {
     "name": "stderr",
     "output_type": "stream",
     "text": [
      "INFO:smac.intensification.intensification.Intensifier:Wallclock time limit for intensification reached (used: 102.794048 sec, available: 0.000010 sec)\n"
     ]
    },
    {
     "name": "stdout",
     "output_type": "stream",
     "text": [
      "\n",
      "Model Score  0.018447634942912034\n",
      "Evaluating Cfg:\n",
      "Configuration:\n",
      "  _MLP:hidden_size_1, Value: 205\n",
      "  _MLP:hidden_size_2, Value: 245\n",
      "  _MLP:hidden_size_3, Value: 99\n",
      "  _MLP:hidden_size_4, Value: 193\n",
      "  _MLP:lr, Value: 0.00018384555290895232\n",
      "  _MLP:n_hidden_layers, Value: '4'\n",
      "  _MLP:nonlintype, Value: 'relu'\n",
      "  model, Value: 'MLP'\n",
      "\n",
      "use_cuda=True\n",
      "MLP Using Cuda\n",
      "hidden_sizes= [205, 245, 99, 193]\n",
      "100%|██████████| 50/50 [01:40<00:00,  2.02s/it]"
     ]
    },
    {
     "name": "stderr",
     "output_type": "stream",
     "text": [
      "INFO:smac.intensification.intensification.Intensifier:Wallclock time limit for intensification reached (used: 100.972503 sec, available: 0.000010 sec)\n"
     ]
    },
    {
     "name": "stdout",
     "output_type": "stream",
     "text": [
      "\n",
      "Model Score  0.02862674254288796\n",
      "Evaluating Cfg:\n",
      "Configuration:\n",
      "  _MLP:hidden_size_1, Value: 211\n",
      "  _MLP:hidden_size_2, Value: 187\n",
      "  _MLP:hidden_size_3, Value: 120\n",
      "  _MLP:hidden_size_4, Value: 196\n",
      "  _MLP:lr, Value: 0.000185629043450854\n",
      "  _MLP:n_hidden_layers, Value: '4'\n",
      "  _MLP:nonlintype, Value: 'tanh'\n",
      "  model, Value: 'MLP'\n",
      "\n",
      "use_cuda=True\n",
      "MLP Using Cuda\n",
      "hidden_sizes= [211, 187, 120, 196]\n",
      "100%|██████████| 50/50 [01:40<00:00,  2.01s/it]"
     ]
    },
    {
     "name": "stderr",
     "output_type": "stream",
     "text": [
      "INFO:smac.intensification.intensification.Intensifier:Wallclock time limit for intensification reached (used: 100.742368 sec, available: 0.000010 sec)\n"
     ]
    },
    {
     "name": "stdout",
     "output_type": "stream",
     "text": [
      "\n",
      "Model Score  0.023060980510483525\n",
      "Evaluating Cfg:\n",
      "Configuration:\n",
      "  _MLP:hidden_size_1, Value: 216\n",
      "  _MLP:hidden_size_2, Value: 253\n",
      "  _MLP:hidden_size_3, Value: 122\n",
      "  _MLP:hidden_size_4, Value: 209\n",
      "  _MLP:lr, Value: 0.00018384555290895232\n",
      "  _MLP:n_hidden_layers, Value: '4'\n",
      "  _MLP:nonlintype, Value: 'tanh'\n",
      "  model, Value: 'MLP'\n",
      "\n",
      "use_cuda=True\n",
      "MLP Using Cuda\n",
      "hidden_sizes= [216, 253, 122, 209]\n",
      "100%|██████████| 50/50 [01:40<00:00,  2.02s/it]"
     ]
    },
    {
     "name": "stderr",
     "output_type": "stream",
     "text": [
      "INFO:smac.intensification.intensification.Intensifier:Wallclock time limit for intensification reached (used: 101.063850 sec, available: 0.000010 sec)\n"
     ]
    },
    {
     "name": "stdout",
     "output_type": "stream",
     "text": [
      "\n",
      "Model Score  0.01985171026107887\n",
      "Evaluating Cfg:\n",
      "Configuration:\n",
      "  _MLP:hidden_size_1, Value: 217\n",
      "  _MLP:hidden_size_2, Value: 246\n",
      "  _MLP:hidden_size_3, Value: 137\n",
      "  _MLP:hidden_size_4, Value: 194\n",
      "  _MLP:lr, Value: 0.00011467143224606136\n",
      "  _MLP:n_hidden_layers, Value: '4'\n",
      "  _MLP:nonlintype, Value: 'relu'\n",
      "  model, Value: 'MLP'\n",
      "\n",
      "use_cuda=True\n",
      "MLP Using Cuda\n",
      "hidden_sizes= [217, 246, 137, 194]\n",
      "100%|██████████| 50/50 [01:42<00:00,  2.04s/it]"
     ]
    },
    {
     "name": "stderr",
     "output_type": "stream",
     "text": [
      "INFO:smac.intensification.intensification.Intensifier:Wallclock time limit for intensification reached (used: 102.150536 sec, available: 0.000010 sec)\n"
     ]
    },
    {
     "name": "stdout",
     "output_type": "stream",
     "text": [
      "\n",
      "Model Score  0.029092545848225786\n",
      "Evaluating Cfg:\n",
      "Configuration:\n",
      "  _MLP:hidden_size_1, Value: 191\n",
      "  _MLP:hidden_size_2, Value: 245\n",
      "  _MLP:hidden_size_3, Value: 87\n",
      "  _MLP:hidden_size_4, Value: 197\n",
      "  _MLP:lr, Value: 0.00018384555290895232\n",
      "  _MLP:n_hidden_layers, Value: '4'\n",
      "  _MLP:nonlintype, Value: 'tanh'\n",
      "  model, Value: 'MLP'\n",
      "\n",
      "use_cuda=True\n",
      "MLP Using Cuda\n",
      "hidden_sizes= [191, 245, 87, 197]\n",
      "100%|██████████| 50/50 [01:41<00:00,  2.02s/it]"
     ]
    },
    {
     "name": "stderr",
     "output_type": "stream",
     "text": [
      "INFO:smac.intensification.intensification.Intensifier:Wallclock time limit for intensification reached (used: 101.075934 sec, available: 0.000010 sec)\n"
     ]
    },
    {
     "name": "stdout",
     "output_type": "stream",
     "text": [
      "\n",
      "Model Score  0.018777571876870895\n",
      "Evaluating Cfg:\n",
      "Configuration:\n",
      "  _MLP:hidden_size_1, Value: 208\n",
      "  _MLP:hidden_size_2, Value: 246\n",
      "  _MLP:hidden_size_3, Value: 139\n",
      "  _MLP:hidden_size_4, Value: 196\n",
      "  _MLP:lr, Value: 0.0001826042893355684\n",
      "  _MLP:n_hidden_layers, Value: '4'\n",
      "  _MLP:nonlintype, Value: 'tanh'\n",
      "  model, Value: 'MLP'\n",
      "\n",
      "use_cuda=True\n",
      "MLP Using Cuda\n",
      "hidden_sizes= [208, 246, 139, 196]\n",
      "100%|██████████| 50/50 [01:39<00:00,  1.98s/it]"
     ]
    },
    {
     "name": "stderr",
     "output_type": "stream",
     "text": [
      "INFO:smac.intensification.intensification.Intensifier:Wallclock time limit for intensification reached (used: 99.115627 sec, available: 0.000010 sec)\n"
     ]
    },
    {
     "name": "stdout",
     "output_type": "stream",
     "text": [
      "\n",
      "Model Score  0.019887303629860905\n",
      "Evaluating Cfg:\n",
      "Configuration:\n",
      "  _MLP:hidden_size_1, Value: 205\n",
      "  _MLP:hidden_size_2, Value: 244\n",
      "  _MLP:hidden_size_3, Value: 124\n",
      "  _MLP:hidden_size_4, Value: 196\n",
      "  _MLP:lr, Value: 0.00018384555290895232\n",
      "  _MLP:n_hidden_layers, Value: '4'\n",
      "  _MLP:nonlintype, Value: 'tanh'\n",
      "  model, Value: 'MLP'\n",
      "\n",
      "use_cuda=True\n",
      "MLP Using Cuda\n",
      "hidden_sizes= [205, 244, 124, 196]\n",
      "100%|██████████| 50/50 [01:40<00:00,  2.01s/it]"
     ]
    },
    {
     "name": "stderr",
     "output_type": "stream",
     "text": [
      "INFO:smac.intensification.intensification.Intensifier:Wallclock time limit for intensification reached (used: 100.682954 sec, available: 0.000010 sec)\n"
     ]
    },
    {
     "name": "stdout",
     "output_type": "stream",
     "text": [
      "\n",
      "Model Score  0.01793328128907918\n",
      "Evaluating Cfg:\n",
      "Configuration:\n",
      "  _MLP:hidden_size_1, Value: 210\n",
      "  _MLP:hidden_size_2, Value: 245\n",
      "  _MLP:hidden_size_3, Value: 77\n",
      "  _MLP:hidden_size_4, Value: 229\n",
      "  _MLP:lr, Value: 0.000161673343720133\n",
      "  _MLP:n_hidden_layers, Value: '4'\n",
      "  _MLP:nonlintype, Value: 'tanh'\n",
      "  model, Value: 'MLP'\n",
      "\n",
      "use_cuda=True\n",
      "MLP Using Cuda\n",
      "hidden_sizes= [210, 245, 77, 229]\n",
      "100%|██████████| 50/50 [01:40<00:00,  2.02s/it]"
     ]
    },
    {
     "name": "stderr",
     "output_type": "stream",
     "text": [
      "INFO:smac.intensification.intensification.Intensifier:Wallclock time limit for intensification reached (used: 101.012984 sec, available: 0.000010 sec)\n"
     ]
    },
    {
     "name": "stdout",
     "output_type": "stream",
     "text": [
      "\n",
      "Model Score  0.019068609718655437\n",
      "Evaluating Cfg:\n",
      "Configuration:\n",
      "  _MLP:hidden_size_1, Value: 212\n",
      "  _MLP:hidden_size_2, Value: 256\n",
      "  _MLP:hidden_size_3, Value: 130\n",
      "  _MLP:hidden_size_4, Value: 117\n",
      "  _MLP:lr, Value: 0.00018130629253491787\n",
      "  _MLP:n_hidden_layers, Value: '4'\n",
      "  _MLP:nonlintype, Value: 'tanh'\n",
      "  model, Value: 'MLP'\n",
      "\n",
      "use_cuda=True\n",
      "MLP Using Cuda\n",
      "hidden_sizes= [212, 256, 130, 117]\n",
      "100%|██████████| 50/50 [01:42<00:00,  2.04s/it]"
     ]
    },
    {
     "name": "stderr",
     "output_type": "stream",
     "text": [
      "INFO:smac.intensification.intensification.Intensifier:Wallclock time limit for intensification reached (used: 102.147144 sec, available: 0.000010 sec)\n"
     ]
    },
    {
     "name": "stdout",
     "output_type": "stream",
     "text": [
      "\n",
      "Model Score  0.01833925919066895\n",
      "Evaluating Cfg:\n",
      "Configuration:\n",
      "  _MLP:hidden_size_1, Value: 194\n",
      "  _MLP:hidden_size_2, Value: 111\n",
      "  _MLP:lr, Value: 0.006193332435866452\n",
      "  _MLP:n_hidden_layers, Value: '2'\n",
      "  _MLP:nonlintype, Value: 'tanh'\n",
      "  model, Value: 'MLP'\n",
      "\n",
      "use_cuda=True\n",
      "MLP Using Cuda\n",
      "hidden_sizes= [194, 111]\n",
      "100%|██████████| 50/50 [01:05<00:00,  1.30s/it]"
     ]
    },
    {
     "name": "stderr",
     "output_type": "stream",
     "text": [
      "INFO:smac.intensification.intensification.Intensifier:Wallclock time limit for intensification reached (used: 65.168334 sec, available: 0.000010 sec)\n"
     ]
    },
    {
     "name": "stdout",
     "output_type": "stream",
     "text": [
      "\n",
      "Model Score  0.04559083323752494\n",
      "Evaluating Cfg:\n",
      "Configuration:\n",
      "  _MLP:hidden_size_1, Value: 175\n",
      "  _MLP:hidden_size_2, Value: 244\n",
      "  _MLP:hidden_size_3, Value: 122\n",
      "  _MLP:hidden_size_4, Value: 127\n",
      "  _MLP:lr, Value: 0.00018384555290895232\n",
      "  _MLP:n_hidden_layers, Value: '4'\n",
      "  _MLP:nonlintype, Value: 'tanh'\n",
      "  model, Value: 'MLP'\n",
      "\n",
      "use_cuda=True\n",
      "MLP Using Cuda\n",
      "hidden_sizes= [175, 244, 122, 127]\n",
      "100%|██████████| 50/50 [01:41<00:00,  2.02s/it]"
     ]
    },
    {
     "name": "stderr",
     "output_type": "stream",
     "text": [
      "INFO:smac.intensification.intensification.Intensifier:Wallclock time limit for intensification reached (used: 101.290925 sec, available: 0.000010 sec)\n"
     ]
    },
    {
     "name": "stdout",
     "output_type": "stream",
     "text": [
      "\n",
      "Model Score  0.017926919398009427\n",
      "Evaluating Cfg:\n",
      "Configuration:\n",
      "  _MLP:hidden_size_1, Value: 207\n",
      "  _MLP:hidden_size_2, Value: 189\n",
      "  _MLP:hidden_size_3, Value: 123\n",
      "  _MLP:hidden_size_4, Value: 198\n",
      "  _MLP:lr, Value: 0.00018215857161499273\n",
      "  _MLP:n_hidden_layers, Value: '4'\n",
      "  _MLP:nonlintype, Value: 'tanh'\n",
      "  model, Value: 'MLP'\n",
      "\n",
      "use_cuda=True\n",
      "MLP Using Cuda\n",
      "hidden_sizes= [207, 189, 123, 198]\n",
      "100%|██████████| 50/50 [01:40<00:00,  2.02s/it]"
     ]
    },
    {
     "name": "stderr",
     "output_type": "stream",
     "text": [
      "INFO:smac.intensification.intensification.Intensifier:Wallclock time limit for intensification reached (used: 100.860000 sec, available: 0.000010 sec)\n"
     ]
    },
    {
     "name": "stdout",
     "output_type": "stream",
     "text": [
      "\n",
      "Model Score  0.020589896929902336\n",
      "Evaluating Cfg:\n",
      "Configuration:\n",
      "  _MLP:hidden_size_1, Value: 215\n",
      "  _MLP:hidden_size_2, Value: 245\n",
      "  _MLP:hidden_size_3, Value: 132\n",
      "  _MLP:hidden_size_4, Value: 121\n",
      "  _MLP:lr, Value: 0.00018384555290895232\n",
      "  _MLP:n_hidden_layers, Value: '4'\n",
      "  _MLP:nonlintype, Value: 'tanh'\n",
      "  model, Value: 'MLP'\n",
      "\n",
      "use_cuda=True\n",
      "MLP Using Cuda\n",
      "hidden_sizes= [215, 245, 132, 121]\n",
      "100%|██████████| 50/50 [01:40<00:00,  2.01s/it]"
     ]
    },
    {
     "name": "stderr",
     "output_type": "stream",
     "text": [
      "INFO:smac.intensification.intensification.Intensifier:Wallclock time limit for intensification reached (used: 100.344398 sec, available: 0.000010 sec)\n"
     ]
    },
    {
     "name": "stdout",
     "output_type": "stream",
     "text": [
      "\n",
      "Model Score  0.018826802339410538\n",
      "Evaluating Cfg:\n",
      "Configuration:\n",
      "  _MLP:hidden_size_1, Value: 18\n",
      "  _MLP:hidden_size_2, Value: 125\n",
      "  _MLP:hidden_size_3, Value: 28\n",
      "  _MLP:hidden_size_4, Value: 219\n",
      "  _MLP:lr, Value: 5.580726933134718e-05\n",
      "  _MLP:n_hidden_layers, Value: '4'\n",
      "  _MLP:nonlintype, Value: 'relu'\n",
      "  model, Value: 'MLP'\n",
      "\n",
      "use_cuda=True\n",
      "MLP Using Cuda\n",
      "hidden_sizes= [18, 125, 28, 219]\n",
      "100%|██████████| 50/50 [01:41<00:00,  2.03s/it]"
     ]
    },
    {
     "name": "stderr",
     "output_type": "stream",
     "text": [
      "INFO:smac.intensification.intensification.Intensifier:Wallclock time limit for intensification reached (used: 101.680824 sec, available: 0.000010 sec)\n"
     ]
    },
    {
     "name": "stdout",
     "output_type": "stream",
     "text": [
      "\n",
      "Model Score  0.07243754822717959\n",
      "Evaluating Cfg:\n",
      "Configuration:\n",
      "  _MLP:hidden_size_1, Value: 209\n",
      "  _MLP:hidden_size_2, Value: 243\n",
      "  _MLP:hidden_size_3, Value: 122\n",
      "  _MLP:hidden_size_4, Value: 196\n",
      "  _MLP:lr, Value: 0.00018384555290895232\n",
      "  _MLP:n_hidden_layers, Value: '4'\n",
      "  _MLP:nonlintype, Value: 'tanh'\n",
      "  model, Value: 'MLP'\n",
      "\n",
      "use_cuda=True\n",
      "MLP Using Cuda\n",
      "hidden_sizes= [209, 243, 122, 196]\n",
      "100%|██████████| 50/50 [01:41<00:00,  2.03s/it]"
     ]
    },
    {
     "name": "stderr",
     "output_type": "stream",
     "text": [
      "INFO:smac.intensification.intensification.Intensifier:Wallclock time limit for intensification reached (used: 101.598532 sec, available: 0.000010 sec)\n"
     ]
    },
    {
     "name": "stdout",
     "output_type": "stream",
     "text": [
      "\n",
      "Model Score  0.02056439619339756\n",
      "Evaluating Cfg:\n",
      "Configuration:\n",
      "  _MLP:hidden_size_1, Value: 210\n",
      "  _MLP:hidden_size_2, Value: 255\n",
      "  _MLP:hidden_size_3, Value: 118\n",
      "  _MLP:hidden_size_4, Value: 196\n",
      "  _MLP:lr, Value: 0.00018384555290895232\n",
      "  _MLP:n_hidden_layers, Value: '4'\n",
      "  _MLP:nonlintype, Value: 'tanh'\n",
      "  model, Value: 'MLP'\n",
      "\n",
      "use_cuda=True\n",
      "MLP Using Cuda\n",
      "hidden_sizes= [210, 255, 118, 196]\n",
      "100%|██████████| 50/50 [01:40<00:00,  2.01s/it]"
     ]
    },
    {
     "name": "stderr",
     "output_type": "stream",
     "text": [
      "INFO:smac.intensification.intensification.Intensifier:Wallclock time limit for intensification reached (used: 100.815285 sec, available: 0.000010 sec)\n"
     ]
    },
    {
     "name": "stdout",
     "output_type": "stream",
     "text": [
      "\n",
      "Model Score  0.018033374703769686\n",
      "Evaluating Cfg:\n",
      "Configuration:\n",
      "  _MLP:hidden_size_1, Value: 210\n",
      "  _MLP:hidden_size_2, Value: 245\n",
      "  _MLP:hidden_size_3, Value: 120\n",
      "  _MLP:hidden_size_4, Value: 195\n",
      "  _MLP:lr, Value: 0.0002078923891938794\n",
      "  _MLP:n_hidden_layers, Value: '4'\n",
      "  _MLP:nonlintype, Value: 'tanh'\n",
      "  model, Value: 'MLP'\n",
      "\n",
      "use_cuda=True\n",
      "MLP Using Cuda\n",
      "hidden_sizes= [210, 245, 120, 195]\n",
      "100%|██████████| 50/50 [01:40<00:00,  2.00s/it]"
     ]
    },
    {
     "name": "stderr",
     "output_type": "stream",
     "text": [
      "INFO:smac.intensification.intensification.Intensifier:Wallclock time limit for intensification reached (used: 100.076307 sec, available: 0.000010 sec)\n"
     ]
    },
    {
     "name": "stdout",
     "output_type": "stream",
     "text": [
      "\n",
      "Model Score  0.023093357217181778\n",
      "Evaluating Cfg:\n",
      "Configuration:\n",
      "  _MLP:hidden_size_1, Value: 205\n",
      "  _MLP:hidden_size_2, Value: 245\n",
      "  _MLP:hidden_size_3, Value: 123\n",
      "  _MLP:hidden_size_4, Value: 177\n",
      "  _MLP:lr, Value: 0.00018384555290895232\n",
      "  _MLP:n_hidden_layers, Value: '4'\n",
      "  _MLP:nonlintype, Value: 'tanh'\n",
      "  model, Value: 'MLP'\n",
      "\n",
      "use_cuda=True\n",
      "MLP Using Cuda\n",
      "hidden_sizes= [205, 245, 123, 177]\n",
      "100%|██████████| 50/50 [01:38<00:00,  1.97s/it]"
     ]
    },
    {
     "name": "stderr",
     "output_type": "stream",
     "text": [
      "INFO:smac.intensification.intensification.Intensifier:Wallclock time limit for intensification reached (used: 98.723081 sec, available: 0.000010 sec)\n"
     ]
    },
    {
     "name": "stdout",
     "output_type": "stream",
     "text": [
      "\n",
      "Model Score  0.017047281227617252\n",
      "Evaluating Cfg:\n",
      "Configuration:\n",
      "  _MLP:hidden_size_1, Value: 212\n",
      "  _MLP:hidden_size_2, Value: 245\n",
      "  _MLP:hidden_size_3, Value: 122\n",
      "  _MLP:hidden_size_4, Value: 226\n",
      "  _MLP:lr, Value: 0.00018384555290895232\n",
      "  _MLP:n_hidden_layers, Value: '4'\n",
      "  _MLP:nonlintype, Value: 'tanh'\n",
      "  model, Value: 'MLP'\n",
      "\n",
      "use_cuda=True\n",
      "MLP Using Cuda\n",
      "hidden_sizes= [212, 245, 122, 226]\n",
      "100%|██████████| 50/50 [01:41<00:00,  2.02s/it]"
     ]
    },
    {
     "name": "stderr",
     "output_type": "stream",
     "text": [
      "INFO:smac.intensification.intensification.Intensifier:Wallclock time limit for intensification reached (used: 101.114375 sec, available: 0.000010 sec)\n"
     ]
    },
    {
     "name": "stdout",
     "output_type": "stream",
     "text": [
      "\n",
      "Model Score  0.020648548284359594\n",
      "Evaluating Cfg:\n",
      "Configuration:\n",
      "  _MLP:hidden_size_1, Value: 251\n",
      "  _MLP:hidden_size_2, Value: 74\n",
      "  _MLP:hidden_size_3, Value: 236\n",
      "  _MLP:hidden_size_4, Value: 177\n",
      "  _MLP:lr, Value: 0.03578684061882497\n",
      "  _MLP:n_hidden_layers, Value: '4'\n",
      "  _MLP:nonlintype, Value: 'relu'\n",
      "  model, Value: 'MLP'\n",
      "\n",
      "use_cuda=True\n",
      "MLP Using Cuda\n",
      "hidden_sizes= [251, 74, 236, 177]\n",
      "100%|██████████| 50/50 [01:43<00:00,  2.07s/it]"
     ]
    },
    {
     "name": "stderr",
     "output_type": "stream",
     "text": [
      "INFO:smac.intensification.intensification.Intensifier:Wallclock time limit for intensification reached (used: 103.538789 sec, available: 0.000010 sec)\n"
     ]
    },
    {
     "name": "stdout",
     "output_type": "stream",
     "text": [
      "\n",
      "Model Score  0.29782287251580153\n",
      "Evaluating Cfg:\n",
      "Configuration:\n",
      "  _MLP:hidden_size_1, Value: 182\n",
      "  _MLP:hidden_size_2, Value: 245\n",
      "  _MLP:hidden_size_3, Value: 76\n",
      "  _MLP:hidden_size_4, Value: 194\n",
      "  _MLP:lr, Value: 0.00017491195995252083\n",
      "  _MLP:n_hidden_layers, Value: '4'\n",
      "  _MLP:nonlintype, Value: 'tanh'\n",
      "  model, Value: 'MLP'\n",
      "\n",
      "use_cuda=True\n",
      "MLP Using Cuda\n",
      "hidden_sizes= [182, 245, 76, 194]\n",
      "100%|██████████| 50/50 [01:41<00:00,  2.03s/it]"
     ]
    },
    {
     "name": "stderr",
     "output_type": "stream",
     "text": [
      "INFO:smac.intensification.intensification.Intensifier:Wallclock time limit for intensification reached (used: 101.493524 sec, available: 0.000010 sec)\n"
     ]
    },
    {
     "name": "stdout",
     "output_type": "stream",
     "text": [
      "\n",
      "Model Score  0.02032973240032539\n",
      "Evaluating Cfg:\n",
      "Configuration:\n",
      "  _MLP:hidden_size_1, Value: 210\n",
      "  _MLP:hidden_size_2, Value: 245\n",
      "  _MLP:hidden_size_3, Value: 121\n",
      "  _MLP:hidden_size_4, Value: 191\n",
      "  _MLP:lr, Value: 0.00018384555290895232\n",
      "  _MLP:n_hidden_layers, Value: '4'\n",
      "  _MLP:nonlintype, Value: 'tanh'\n",
      "  model, Value: 'MLP'\n",
      "\n",
      "use_cuda=True\n",
      "MLP Using Cuda\n",
      "hidden_sizes= [210, 245, 121, 191]\n",
      "100%|██████████| 50/50 [01:40<00:00,  2.01s/it]"
     ]
    },
    {
     "name": "stderr",
     "output_type": "stream",
     "text": [
      "INFO:smac.intensification.intensification.Intensifier:Wallclock time limit for intensification reached (used: 100.764358 sec, available: 0.000010 sec)\n"
     ]
    },
    {
     "name": "stdout",
     "output_type": "stream",
     "text": [
      "\n",
      "Model Score  0.018345137010449108\n",
      "Evaluating Cfg:\n",
      "Configuration:\n",
      "  _MLP:hidden_size_1, Value: 210\n",
      "  _MLP:hidden_size_2, Value: 240\n",
      "  _MLP:hidden_size_3, Value: 133\n",
      "  _MLP:hidden_size_4, Value: 196\n",
      "  _MLP:lr, Value: 0.00018384555290895232\n",
      "  _MLP:n_hidden_layers, Value: '4'\n",
      "  _MLP:nonlintype, Value: 'tanh'\n",
      "  model, Value: 'MLP'\n",
      "\n",
      "use_cuda=True\n",
      "MLP Using Cuda\n",
      "hidden_sizes= [210, 240, 133, 196]\n",
      "100%|██████████| 50/50 [01:42<00:00,  2.05s/it]"
     ]
    },
    {
     "name": "stderr",
     "output_type": "stream",
     "text": [
      "INFO:smac.intensification.intensification.Intensifier:Wallclock time limit for intensification reached (used: 102.454420 sec, available: 0.000010 sec)\n"
     ]
    },
    {
     "name": "stdout",
     "output_type": "stream",
     "text": [
      "\n",
      "Model Score  0.01869059043879035\n",
      "Evaluating Cfg:\n",
      "Configuration:\n",
      "  _MLP:hidden_size_1, Value: 213\n",
      "  _MLP:hidden_size_2, Value: 245\n",
      "  _MLP:hidden_size_3, Value: 122\n",
      "  _MLP:hidden_size_4, Value: 194\n",
      "  _MLP:lr, Value: 0.00018384555290895232\n",
      "  _MLP:n_hidden_layers, Value: '4'\n",
      "  _MLP:nonlintype, Value: 'tanh'\n",
      "  model, Value: 'MLP'\n",
      "\n",
      "use_cuda=True\n",
      "MLP Using Cuda\n",
      "hidden_sizes= [213, 245, 122, 194]\n",
      "100%|██████████| 50/50 [01:41<00:00,  2.02s/it]"
     ]
    },
    {
     "name": "stderr",
     "output_type": "stream",
     "text": [
      "INFO:smac.intensification.intensification.Intensifier:Wallclock time limit for intensification reached (used: 101.179906 sec, available: 0.000010 sec)\n"
     ]
    },
    {
     "name": "stdout",
     "output_type": "stream",
     "text": [
      "\n",
      "Model Score  0.016713371861738813\n",
      "Evaluating Cfg:\n",
      "Configuration:\n",
      "  _MLP:hidden_size_1, Value: 210\n",
      "  _MLP:hidden_size_2, Value: 246\n",
      "  _MLP:hidden_size_3, Value: 122\n",
      "  _MLP:hidden_size_4, Value: 196\n",
      "  _MLP:lr, Value: 0.00018384555290895232\n",
      "  _MLP:n_hidden_layers, Value: '4'\n",
      "  _MLP:nonlintype, Value: 'tanh'\n",
      "  model, Value: 'MLP'\n",
      "\n",
      "use_cuda=True\n",
      "MLP Using Cuda\n",
      "hidden_sizes= [210, 246, 122, 196]\n",
      "100%|██████████| 50/50 [01:41<00:00,  2.03s/it]"
     ]
    },
    {
     "name": "stderr",
     "output_type": "stream",
     "text": [
      "INFO:smac.intensification.intensification.Intensifier:Challenger (0.0152) is better than incumbent (0.0161) on 1 runs.\n",
      "INFO:smac.intensification.intensification.Intensifier:Changes in incumbent:\n",
      "INFO:smac.intensification.intensification.Intensifier:  _MLP:hidden_size_2 : 245 -> 246\n",
      "INFO:smac.intensification.intensification.Intensifier:Wallclock time limit for intensification reached (used: 101.431255 sec, available: 0.000010 sec)\n"
     ]
    },
    {
     "name": "stdout",
     "output_type": "stream",
     "text": [
      "\n",
      "Model Score  0.01520791691802452\n",
      "Evaluating Cfg:\n",
      "Configuration:\n",
      "  _MLP:hidden_size_1, Value: 166\n",
      "  _MLP:hidden_size_2, Value: 248\n",
      "  _MLP:hidden_size_3, Value: 123\n",
      "  _MLP:hidden_size_4, Value: 196\n",
      "  _MLP:lr, Value: 0.00018328424058932041\n",
      "  _MLP:n_hidden_layers, Value: '4'\n",
      "  _MLP:nonlintype, Value: 'tanh'\n",
      "  model, Value: 'MLP'\n",
      "\n",
      "use_cuda=True\n",
      "MLP Using Cuda\n",
      "hidden_sizes= [166, 248, 123, 196]\n",
      "100%|██████████| 50/50 [01:40<00:00,  2.02s/it]"
     ]
    },
    {
     "name": "stderr",
     "output_type": "stream",
     "text": [
      "INFO:smac.intensification.intensification.Intensifier:Wallclock time limit for intensification reached (used: 100.993735 sec, available: 0.000010 sec)\n"
     ]
    },
    {
     "name": "stdout",
     "output_type": "stream",
     "text": [
      "\n",
      "Model Score  0.01678549902574734\n",
      "Evaluating Cfg:\n",
      "Configuration:\n",
      "  _MLP:hidden_size_1, Value: 159\n",
      "  _MLP:hidden_size_2, Value: 246\n",
      "  _MLP:hidden_size_3, Value: 122\n",
      "  _MLP:hidden_size_4, Value: 194\n",
      "  _MLP:lr, Value: 0.00018328424058932041\n",
      "  _MLP:n_hidden_layers, Value: '4'\n",
      "  _MLP:nonlintype, Value: 'tanh'\n",
      "  model, Value: 'MLP'\n",
      "\n",
      "use_cuda=True\n",
      "MLP Using Cuda\n",
      "hidden_sizes= [159, 246, 122, 194]\n",
      "100%|██████████| 50/50 [01:39<00:00,  1.99s/it]"
     ]
    },
    {
     "name": "stderr",
     "output_type": "stream",
     "text": [
      "INFO:smac.intensification.intensification.Intensifier:Wallclock time limit for intensification reached (used: 99.596377 sec, available: 0.000010 sec)\n"
     ]
    },
    {
     "name": "stdout",
     "output_type": "stream",
     "text": [
      "\n",
      "Model Score  0.019413032069539184\n",
      "Evaluating Cfg:\n",
      "Configuration:\n",
      "  _MLP:hidden_size_1, Value: 210\n",
      "  _MLP:hidden_size_2, Value: 246\n",
      "  _MLP:hidden_size_3, Value: 121\n",
      "  _MLP:hidden_size_4, Value: 196\n",
      "  _MLP:lr, Value: 0.0001822901894643108\n",
      "  _MLP:n_hidden_layers, Value: '4'\n",
      "  _MLP:nonlintype, Value: 'tanh'\n",
      "  model, Value: 'MLP'\n",
      "\n",
      "use_cuda=True\n",
      "MLP Using Cuda\n",
      "hidden_sizes= [210, 246, 121, 196]\n",
      "100%|██████████| 50/50 [01:41<00:00,  2.02s/it]"
     ]
    },
    {
     "name": "stderr",
     "output_type": "stream",
     "text": [
      "INFO:smac.intensification.intensification.Intensifier:Wallclock time limit for intensification reached (used: 101.122502 sec, available: 0.000010 sec)\n"
     ]
    },
    {
     "name": "stdout",
     "output_type": "stream",
     "text": [
      "\n",
      "Model Score  0.022371052795558545\n",
      "Evaluating Cfg:\n",
      "Configuration:\n",
      "  _MLP:hidden_size_1, Value: 210\n",
      "  _MLP:hidden_size_2, Value: 246\n",
      "  _MLP:hidden_size_3, Value: 122\n",
      "  _MLP:hidden_size_4, Value: 195\n",
      "  _MLP:lr, Value: 0.00018384555290895232\n",
      "  _MLP:n_hidden_layers, Value: '4'\n",
      "  _MLP:nonlintype, Value: 'tanh'\n",
      "  model, Value: 'MLP'\n",
      "\n",
      "use_cuda=True\n",
      "MLP Using Cuda\n",
      "hidden_sizes= [210, 246, 122, 195]\n",
      "100%|██████████| 50/50 [01:40<00:00,  2.02s/it]"
     ]
    },
    {
     "name": "stderr",
     "output_type": "stream",
     "text": [
      "INFO:smac.intensification.intensification.Intensifier:Wallclock time limit for intensification reached (used: 100.861823 sec, available: 0.000010 sec)\n"
     ]
    },
    {
     "name": "stdout",
     "output_type": "stream",
     "text": [
      "\n",
      "Model Score  0.01925472816331711\n",
      "Evaluating Cfg:\n",
      "Configuration:\n",
      "  _MLP:hidden_size_1, Value: 210\n",
      "  _MLP:hidden_size_2, Value: 246\n",
      "  _MLP:hidden_size_3, Value: 122\n",
      "  _MLP:lr, Value: 0.00018328424058932041\n",
      "  _MLP:n_hidden_layers, Value: '3'\n",
      "  _MLP:nonlintype, Value: 'tanh'\n",
      "  model, Value: 'MLP'\n",
      "\n",
      "use_cuda=True\n",
      "MLP Using Cuda\n",
      "hidden_sizes= [210, 246, 122]\n",
      "100%|██████████| 50/50 [01:21<00:00,  1.62s/it]"
     ]
    },
    {
     "name": "stderr",
     "output_type": "stream",
     "text": [
      "INFO:smac.intensification.intensification.Intensifier:Wallclock time limit for intensification reached (used: 81.169809 sec, available: 0.000010 sec)\n"
     ]
    },
    {
     "name": "stdout",
     "output_type": "stream",
     "text": [
      "\n",
      "Model Score  0.017059374714627384\n",
      "Evaluating Cfg:\n",
      "Configuration:\n",
      "  _MLP:hidden_size_1, Value: 207\n",
      "  _MLP:hidden_size_2, Value: 253\n",
      "  _MLP:hidden_size_3, Value: 122\n",
      "  _MLP:hidden_size_4, Value: 196\n",
      "  _MLP:lr, Value: 0.00018384555290895232\n",
      "  _MLP:n_hidden_layers, Value: '4'\n",
      "  _MLP:nonlintype, Value: 'tanh'\n",
      "  model, Value: 'MLP'\n",
      "\n",
      "use_cuda=True\n",
      "MLP Using Cuda\n",
      "hidden_sizes= [207, 253, 122, 196]\n",
      "100%|██████████| 50/50 [01:39<00:00,  1.99s/it]"
     ]
    },
    {
     "name": "stderr",
     "output_type": "stream",
     "text": [
      "INFO:smac.intensification.intensification.Intensifier:Wallclock time limit for intensification reached (used: 99.803407 sec, available: 0.000010 sec)\n"
     ]
    },
    {
     "name": "stdout",
     "output_type": "stream",
     "text": [
      "\n",
      "Model Score  0.020671906090049378\n",
      "Evaluating Cfg:\n",
      "Configuration:\n",
      "  _MLP:hidden_size_1, Value: 214\n",
      "  _MLP:hidden_size_2, Value: 246\n",
      "  _MLP:hidden_size_3, Value: 122\n",
      "  _MLP:hidden_size_4, Value: 196\n",
      "  _MLP:lr, Value: 0.00018384555290895232\n",
      "  _MLP:n_hidden_layers, Value: '4'\n",
      "  _MLP:nonlintype, Value: 'tanh'\n",
      "  model, Value: 'MLP'\n",
      "\n",
      "use_cuda=True\n",
      "MLP Using Cuda\n",
      "hidden_sizes= [214, 246, 122, 196]\n",
      "100%|██████████| 50/50 [01:39<00:00,  2.00s/it]"
     ]
    },
    {
     "name": "stderr",
     "output_type": "stream",
     "text": [
      "INFO:smac.intensification.intensification.Intensifier:Wallclock time limit for intensification reached (used: 99.876064 sec, available: 0.000010 sec)\n"
     ]
    },
    {
     "name": "stdout",
     "output_type": "stream",
     "text": [
      "\n",
      "Model Score  0.019314844869579212\n",
      "Evaluating Cfg:\n",
      "Configuration:\n",
      "  _MLP:hidden_size_1, Value: 211\n",
      "  _MLP:hidden_size_2, Value: 246\n",
      "  _MLP:hidden_size_3, Value: 122\n",
      "  _MLP:hidden_size_4, Value: 196\n",
      "  _MLP:lr, Value: 0.00018384555290895232\n",
      "  _MLP:n_hidden_layers, Value: '4'\n",
      "  _MLP:nonlintype, Value: 'tanh'\n",
      "  model, Value: 'MLP'\n",
      "\n",
      "use_cuda=True\n",
      "MLP Using Cuda\n",
      "hidden_sizes= [211, 246, 122, 196]\n",
      "100%|██████████| 50/50 [01:40<00:00,  2.02s/it]"
     ]
    },
    {
     "name": "stderr",
     "output_type": "stream",
     "text": [
      "INFO:smac.intensification.intensification.Intensifier:Wallclock time limit for intensification reached (used: 100.949142 sec, available: 0.000010 sec)\n"
     ]
    },
    {
     "name": "stdout",
     "output_type": "stream",
     "text": [
      "\n",
      "Model Score  0.018449449609480327\n",
      "Evaluating Cfg:\n",
      "Configuration:\n",
      "  _MLP:hidden_size_1, Value: 151\n",
      "  _MLP:hidden_size_2, Value: 77\n",
      "  _MLP:hidden_size_3, Value: 177\n",
      "  _MLP:lr, Value: 0.24289794306543327\n",
      "  _MLP:n_hidden_layers, Value: '3'\n",
      "  _MLP:nonlintype, Value: 'tanh'\n",
      "  model, Value: 'MLP'\n",
      "\n",
      "use_cuda=True\n",
      "MLP Using Cuda\n",
      "hidden_sizes= [151, 77, 177]\n",
      "100%|██████████| 50/50 [01:21<00:00,  1.62s/it]"
     ]
    },
    {
     "name": "stderr",
     "output_type": "stream",
     "text": [
      "INFO:smac.intensification.intensification.Intensifier:Wallclock time limit for intensification reached (used: 81.075535 sec, available: 0.000010 sec)\n"
     ]
    },
    {
     "name": "stdout",
     "output_type": "stream",
     "text": [
      "\n",
      "Model Score  1.4997486784210834\n",
      "Evaluating Cfg:\n",
      "Configuration:\n",
      "  _MLP:hidden_size_1, Value: 210\n",
      "  _MLP:hidden_size_2, Value: 249\n",
      "  _MLP:hidden_size_3, Value: 122\n",
      "  _MLP:hidden_size_4, Value: 196\n",
      "  _MLP:lr, Value: 0.00018384555290895232\n",
      "  _MLP:n_hidden_layers, Value: '4'\n",
      "  _MLP:nonlintype, Value: 'tanh'\n",
      "  model, Value: 'MLP'\n",
      "\n",
      "use_cuda=True\n",
      "MLP Using Cuda\n",
      "hidden_sizes= [210, 249, 122, 196]\n",
      "100%|██████████| 50/50 [01:40<00:00,  2.02s/it]"
     ]
    },
    {
     "name": "stderr",
     "output_type": "stream",
     "text": [
      "INFO:smac.intensification.intensification.Intensifier:Wallclock time limit for intensification reached (used: 101.015617 sec, available: 0.000010 sec)\n"
     ]
    },
    {
     "name": "stdout",
     "output_type": "stream",
     "text": [
      "\n",
      "Model Score  0.01866533946559534\n",
      "Evaluating Cfg:\n",
      "Configuration:\n",
      "  _MLP:hidden_size_1, Value: 210\n",
      "  _MLP:hidden_size_2, Value: 246\n",
      "  _MLP:hidden_size_3, Value: 124\n",
      "  _MLP:hidden_size_4, Value: 196\n",
      "  _MLP:lr, Value: 0.00018384555290895232\n",
      "  _MLP:n_hidden_layers, Value: '4'\n",
      "  _MLP:nonlintype, Value: 'tanh'\n",
      "  model, Value: 'MLP'\n",
      "\n",
      "use_cuda=True\n",
      "MLP Using Cuda\n",
      "hidden_sizes= [210, 246, 124, 196]\n",
      "100%|██████████| 50/50 [01:41<00:00,  2.02s/it]"
     ]
    },
    {
     "name": "stderr",
     "output_type": "stream",
     "text": [
      "INFO:smac.intensification.intensification.Intensifier:Wallclock time limit for intensification reached (used: 101.241745 sec, available: 0.000010 sec)\n"
     ]
    },
    {
     "name": "stdout",
     "output_type": "stream",
     "text": [
      "\n",
      "Model Score  0.019691495435833557\n",
      "Evaluating Cfg:\n",
      "Configuration:\n",
      "  _MLP:hidden_size_1, Value: 165\n",
      "  _MLP:hidden_size_2, Value: 248\n",
      "  _MLP:hidden_size_3, Value: 171\n",
      "  _MLP:hidden_size_4, Value: 186\n",
      "  _MLP:lr, Value: 0.00017309754719526378\n",
      "  _MLP:n_hidden_layers, Value: '4'\n",
      "  _MLP:nonlintype, Value: 'relu'\n",
      "  model, Value: 'MLP'\n",
      "\n",
      "use_cuda=True\n",
      "MLP Using Cuda\n",
      "hidden_sizes= [165, 248, 171, 186]\n",
      "100%|██████████| 50/50 [01:42<00:00,  2.04s/it]"
     ]
    },
    {
     "name": "stderr",
     "output_type": "stream",
     "text": [
      "INFO:smac.intensification.intensification.Intensifier:Wallclock time limit for intensification reached (used: 102.292811 sec, available: 0.000010 sec)\n"
     ]
    },
    {
     "name": "stdout",
     "output_type": "stream",
     "text": [
      "\n",
      "Model Score  0.02314285353963573\n",
      "Evaluating Cfg:\n",
      "Configuration:\n",
      "  _MLP:hidden_size_1, Value: 237\n",
      "  _MLP:hidden_size_2, Value: 182\n",
      "  _MLP:lr, Value: 0.04198907048450306\n",
      "  _MLP:n_hidden_layers, Value: '2'\n",
      "  _MLP:nonlintype, Value: 'tanh'\n",
      "  model, Value: 'MLP'\n",
      "\n",
      "use_cuda=True\n",
      "MLP Using Cuda\n",
      "hidden_sizes= [237, 182]\n",
      "100%|██████████| 50/50 [01:04<00:00,  1.30s/it]"
     ]
    },
    {
     "name": "stderr",
     "output_type": "stream",
     "text": [
      "INFO:smac.intensification.intensification.Intensifier:Wallclock time limit for intensification reached (used: 64.912181 sec, available: 0.000010 sec)\n"
     ]
    },
    {
     "name": "stdout",
     "output_type": "stream",
     "text": [
      "\n",
      "Model Score  0.32934614633995735\n",
      "Evaluating Cfg:\n",
      "Configuration:\n",
      "  _MLP:hidden_size_1, Value: 210\n",
      "  _MLP:hidden_size_2, Value: 244\n",
      "  _MLP:hidden_size_3, Value: 122\n",
      "  _MLP:hidden_size_4, Value: 196\n",
      "  _MLP:lr, Value: 0.00018384555290895232\n",
      "  _MLP:n_hidden_layers, Value: '4'\n",
      "  _MLP:nonlintype, Value: 'relu'\n",
      "  model, Value: 'MLP'\n",
      "\n",
      "use_cuda=True\n",
      "MLP Using Cuda\n",
      "hidden_sizes= [210, 244, 122, 196]\n",
      "100%|██████████| 50/50 [01:40<00:00,  2.02s/it]"
     ]
    },
    {
     "name": "stderr",
     "output_type": "stream",
     "text": [
      "INFO:smac.intensification.intensification.Intensifier:Wallclock time limit for intensification reached (used: 101.014174 sec, available: 0.000010 sec)\n"
     ]
    },
    {
     "name": "stdout",
     "output_type": "stream",
     "text": [
      "\n",
      "Model Score  0.019331484503505213\n",
      "Evaluating Cfg:\n",
      "Configuration:\n",
      "  _MLP:hidden_size_1, Value: 213\n",
      "  _MLP:hidden_size_2, Value: 246\n",
      "  _MLP:hidden_size_3, Value: 123\n",
      "  _MLP:lr, Value: 0.00018384555290895232\n",
      "  _MLP:n_hidden_layers, Value: '3'\n",
      "  _MLP:nonlintype, Value: 'tanh'\n",
      "  model, Value: 'MLP'\n",
      "\n",
      "use_cuda=True\n",
      "MLP Using Cuda\n",
      "hidden_sizes= [213, 246, 123]\n",
      "100%|██████████| 50/50 [01:20<00:00,  1.62s/it]"
     ]
    },
    {
     "name": "stderr",
     "output_type": "stream",
     "text": [
      "INFO:smac.intensification.intensification.Intensifier:Wallclock time limit for intensification reached (used: 81.043468 sec, available: 0.000010 sec)\n",
      "INFO:smac.stats.stats.Stats:##########################################################\n",
      "INFO:smac.stats.stats.Stats:Statistics:\n",
      "INFO:smac.stats.stats.Stats:#Incumbent changed: 3\n",
      "INFO:smac.stats.stats.Stats:#Submitted target algorithm runs: 100 / 100.0\n",
      "INFO:smac.stats.stats.Stats:#Finished target algorithm runs: 100 / 100.0\n",
      "INFO:smac.stats.stats.Stats:#Configurations: 100\n",
      "INFO:smac.stats.stats.Stats:Used wallclock time: 9160.18 / inf sec \n",
      "INFO:smac.stats.stats.Stats:Used target algorithm runtime: 9101.19 / inf sec\n",
      "INFO:smac.stats.stats.Stats:##########################################################\n",
      "INFO:smac.facade.smac_hpo_facade.SMAC4HPO:Final Incumbent: Configuration:\n",
      "  _MLP:hidden_size_1, Value: 210\n",
      "  _MLP:hidden_size_2, Value: 246\n",
      "  _MLP:hidden_size_3, Value: 122\n",
      "  _MLP:hidden_size_4, Value: 196\n",
      "  _MLP:lr, Value: 0.00018384555290895232\n",
      "  _MLP:n_hidden_layers, Value: '4'\n",
      "  _MLP:nonlintype, Value: 'tanh'\n",
      "  model, Value: 'MLP'\n",
      "\n",
      "INFO:smac.facade.smac_hpo_facade.SMAC4HPO:Estimated cost of incumbent: 0.015208\n"
     ]
    },
    {
     "name": "stdout",
     "output_type": "stream",
     "text": [
      "\n",
      "Model Score  0.016267203704999428\n",
      "use_cuda=True\n",
      "MLP Using Cuda\n",
      "hidden_sizes= [210, 246, 122, 196]\n",
      "100%|██████████| 50/50 [02:12<00:00,  2.66s/it]"
     ]
    },
    {
     "name": "stderr",
     "output_type": "stream",
     "text": [
      "INFO:smac.utils.io.cmd_reader.CMDReader:Output to smac3-output_2021-05-30_06:55:34_416797\n",
      "INFO:smac.facade.smac_hpo_facade.SMAC4HPO:Optimizing a deterministic scenario for quality without a tuner timeout - will make SMAC deterministic and only evaluate one configuration per iteration!\n",
      "INFO:smac.initial_design.sobol_design.SobolDesign:Running initial design for 25 configurations\n",
      "INFO:smac.facade.smac_hpo_facade.SMAC4HPO:<class 'smac.facade.smac_hpo_facade.SMAC4HPO'>\n",
      "INFO:smac.optimizer.smbo.SMBO:Running initial design\n",
      "INFO:smac.intensification.intensification.Intensifier:First run, no incumbent provided; challenger is assumed to be the incumbent\n"
     ]
    },
    {
     "name": "stdout",
     "output_type": "stream",
     "text": [
      "\n",
      "use_cuda=True\n",
      "MLP Using Cuda\n",
      "hidden_sizes= [136, 136, 136]\n",
      "100%|██████████| 50/50 [01:48<00:00,  2.16s/it]\n",
      "Simulating Surrogate Trajectory: \n",
      " 99%|█████████▉| 198/200 [00:10<00:00, 18.56it/s]\n",
      "Surrogate Cost:  200.0\n",
      "Surrogate Final State:  [ 3.12776146 -0.01038008 -0.09606228 -0.02956289]\n",
      "Simulating True Dynamics Trajectory\n",
      " 99%|█████████▉| 198/200 [00:10<00:00, 18.65it/s]"
     ]
    },
    {
     "name": "stderr",
     "output_type": "stream",
     "text": [
      "INFO:smac.intensification.intensification.Intensifier:First run, no incumbent provided; challenger is assumed to be the incumbent\n",
      "INFO:smac.intensification.intensification.Intensifier:Updated estimated cost of incumbent on 1 runs: 200.0000\n"
     ]
    },
    {
     "name": "stdout",
     "output_type": "stream",
     "text": [
      "\n",
      "True Dynamics Cost:  200.0\n",
      "True Dynamics Final State:  [ 3.14147307e+00 -5.25928823e-04 -1.54829346e-01  1.75514009e-04]\n",
      "use_cuda=True\n",
      "MLP Using Cuda\n",
      "hidden_sizes= [76, 76]\n",
      "100%|██████████| 50/50 [01:26<00:00,  1.72s/it]\n",
      "Simulating Surrogate Trajectory: \n",
      "  4%|▍         | 8/200 [00:00<00:05, 33.35it/s]"
     ]
    },
    {
     "name": "stderr",
     "output_type": "stream",
     "text": [
      "/home/william/proj/autompc_dev/autompc/control/ilqr.py:535: RuntimeWarning: invalid value encountered in double_scalars\n",
      "  if (obj - new_obj) / (-expect_cost_reduction) > ls_cost_threshold:\n"
     ]
    },
    {
     "name": "stdout",
     "output_type": "stream",
     "text": [
      " 99%|█████████▉| 198/200 [00:05<00:00, 38.71it/s]\n",
      "Surrogate Cost:  200.0\n",
      "Surrogate Final State:  [ 3.12495379 -0.00510427  0.89749389  0.12104042]\n",
      "Simulating True Dynamics Trajectory\n",
      " 99%|█████████▉| 198/200 [00:04<00:00, 40.01it/s]"
     ]
    },
    {
     "name": "stderr",
     "output_type": "stream",
     "text": [
      "INFO:smac.intensification.intensification.Intensifier:Wallclock time limit for intensification reached (used: 225.505671 sec, available: 0.000010 sec)\n"
     ]
    },
    {
     "name": "stdout",
     "output_type": "stream",
     "text": [
      "\n",
      "True Dynamics Cost:  200.0\n",
      "True Dynamics Final State:  [ 3.13851311e+00 -1.40604318e-03  0.00000000e+00  0.00000000e+00]\n",
      "use_cuda=True\n",
      "MLP Using Cuda\n",
      "hidden_sizes= [196, 196, 76, 76]\n",
      "100%|██████████| 50/50 [02:16<00:00,  2.74s/it]\n",
      "Simulating Surrogate Trajectory: \n",
      " 99%|█████████▉| 198/200 [00:40<00:00,  4.87it/s]\n",
      "Surrogate Cost:  200.0\n",
      "Surrogate Final State:  [ 3.12797018 -0.01047137  0.00831456 -0.02972291]\n",
      "Simulating True Dynamics Trajectory\n",
      " 99%|█████████▉| 198/200 [00:40<00:00,  4.86it/s]"
     ]
    },
    {
     "name": "stderr",
     "output_type": "stream",
     "text": [
      "INFO:smac.intensification.intensification.Intensifier:Wallclock time limit for intensification reached (used: 218.314322 sec, available: 0.000010 sec)\n"
     ]
    },
    {
     "name": "stdout",
     "output_type": "stream",
     "text": [
      "\n",
      "True Dynamics Cost:  200.0\n",
      "True Dynamics Final State:  [ 3.14159189e+00 -2.90918756e-05  5.28054810e-03 -2.13330927e-05]\n",
      "use_cuda=True\n",
      "MLP Using Cuda\n",
      "hidden_sizes= [106]\n",
      "100%|██████████| 50/50 [01:00<00:00,  1.21s/it]\n",
      "Simulating Surrogate Trajectory: \n",
      " 99%|█████████▉| 198/200 [00:39<00:00,  5.07it/s]\n",
      "Surrogate Cost:  198.0\n",
      "Surrogate Final State:  [-0.01683238 -0.40016834 -0.06315161 -1.17209587]\n",
      "Simulating True Dynamics Trajectory\n",
      " 99%|█████████▉| 198/200 [00:37<00:00,  5.34it/s]"
     ]
    },
    {
     "name": "stderr",
     "output_type": "stream",
     "text": [
      "INFO:smac.intensification.intensification.Intensifier:Challenger (198.0000) is better than incumbent (200.0000) on 1 runs.\n",
      "INFO:smac.intensification.intensification.Intensifier:Changes in incumbent:\n",
      "INFO:smac.intensification.intensification.Intensifier:  _cost:dx_F : 3.1622776601683813 -> 0.4216965034285823\n",
      "INFO:smac.intensification.intensification.Intensifier:  _cost:dx_Q : 3.1622776601683813 -> 0.4216965034285823\n",
      "INFO:smac.intensification.intensification.Intensifier:  _cost:omega_F : 3.1622776601683813 -> 23.713737056616576\n",
      "INFO:smac.intensification.intensification.Intensifier:  _cost:omega_Q : 3.1622776601683813 -> 0.007498942093324564\n",
      "INFO:smac.intensification.intensification.Intensifier:  _cost:theta_F : 3.1622776601683813 -> 1333.5214321633246\n",
      "INFO:smac.intensification.intensification.Intensifier:  _cost:theta_Q : 3.1622776601683813 -> 1333.5214321633246\n",
      "INFO:smac.intensification.intensification.Intensifier:  _cost:u_R : 3.1622776601683813 -> 0.007498942093324564\n",
      "INFO:smac.intensification.intensification.Intensifier:  _cost:x_F : 3.1622776601683813 -> 23.713737056616576\n",
      "INFO:smac.intensification.intensification.Intensifier:  _cost:x_Q : 3.1622776601683813 -> 0.007498942093324564\n",
      "INFO:smac.intensification.intensification.Intensifier:  _ctrlr:horizon : 15 -> 23\n",
      "INFO:smac.intensification.intensification.Intensifier:  _model:hidden_size_1 : 136 -> 106\n",
      "INFO:smac.intensification.intensification.Intensifier:  _model:lr : 0.003162277660168379 -> 0.013335214321633242\n",
      "INFO:smac.intensification.intensification.Intensifier:  _model:n_hidden_layers : '3' -> '1'\n",
      "INFO:smac.intensification.intensification.Intensifier:  _model:nonlintype : 'sigmoid' -> 'tanh'\n"
     ]
    },
    {
     "name": "stdout",
     "output_type": "stream",
     "text": [
      "\n",
      "True Dynamics Cost:  194.0\n",
      "True Dynamics Final State:  [-0.01876785  0.03161407  0.03019355 -0.44492201]\n"
     ]
    },
    {
     "name": "stderr",
     "output_type": "stream",
     "text": [
      "INFO:smac.intensification.intensification.Intensifier:Wallclock time limit for intensification reached (used: 136.489325 sec, available: 0.000010 sec)\n"
     ]
    },
    {
     "name": "stdout",
     "output_type": "stream",
     "text": [
      "use_cuda=True\n",
      "MLP Using Cuda\n",
      "hidden_sizes= [226, 46, 166]\n",
      "100%|██████████| 50/50 [01:51<00:00,  2.23s/it]\n",
      "Simulating Surrogate Trajectory: \n",
      " 99%|█████████▉| 198/200 [00:11<00:00, 17.74it/s]\n",
      "Surrogate Cost:  200.0\n",
      "Surrogate Final State:  [ 3.12641751 -0.00999142  0.48800632  0.01635504]\n",
      "Simulating True Dynamics Trajectory\n",
      " 99%|█████████▉| 198/200 [00:09<00:00, 20.79it/s]"
     ]
    },
    {
     "name": "stderr",
     "output_type": "stream",
     "text": [
      "INFO:smac.intensification.intensification.Intensifier:Wallclock time limit for intensification reached (used: 132.103180 sec, available: 0.000010 sec)\n"
     ]
    },
    {
     "name": "stdout",
     "output_type": "stream",
     "text": [
      "\n",
      "True Dynamics Cost:  200.0\n",
      "True Dynamics Final State:  [ 3.14030136 -0.00337683  0.20415112  0.01933015]\n",
      "use_cuda=True\n",
      "MLP Using Cuda\n",
      "hidden_sizes= [46, 226]\n",
      "100%|██████████| 50/50 [01:26<00:00,  1.73s/it]\n",
      "Simulating Surrogate Trajectory: \n",
      " 99%|█████████▉| 198/200 [00:07<00:00, 26.47it/s]\n",
      "Surrogate Cost:  200.0\n",
      "Surrogate Final State:  [ 3.12594802 -0.00487286  0.00981873 -0.02988171]\n",
      "Simulating True Dynamics Trajectory\n",
      " 99%|█████████▉| 198/200 [00:07<00:00, 26.83it/s]"
     ]
    },
    {
     "name": "stderr",
     "output_type": "stream",
     "text": [
      "INFO:smac.intensification.intensification.Intensifier:Wallclock time limit for intensification reached (used: 101.207337 sec, available: 0.000010 sec)\n"
     ]
    },
    {
     "name": "stdout",
     "output_type": "stream",
     "text": [
      "\n",
      "True Dynamics Cost:  200.0\n",
      "True Dynamics Final State:  [ 3.13842822e+00 -8.55974272e-04 -3.63654186e-02 -9.01147320e-04]\n",
      "use_cuda=True\n",
      "MLP Using Cuda\n",
      "hidden_sizes= [166, 106, 106, 226]\n",
      "100%|██████████| 50/50 [02:18<00:00,  2.78s/it]\n",
      "Simulating Surrogate Trajectory: \n",
      " 99%|█████████▉| 198/200 [00:06<00:00, 29.75it/s]\n",
      "Surrogate Cost:  200.0\n",
      "Surrogate Final State:  [ 3.12495379 -0.00510427  0.89749389  0.12104042]\n",
      "Simulating True Dynamics Trajectory\n",
      " 99%|█████████▉| 198/200 [00:06<00:00, 31.03it/s]"
     ]
    },
    {
     "name": "stderr",
     "output_type": "stream",
     "text": [
      "INFO:smac.intensification.intensification.Intensifier:Wallclock time limit for intensification reached (used: 151.942482 sec, available: 0.000010 sec)\n"
     ]
    },
    {
     "name": "stdout",
     "output_type": "stream",
     "text": [
      "\n",
      "True Dynamics Cost:  200.0\n",
      "True Dynamics Final State:  [ 3.13851311e+00 -1.40604318e-03  0.00000000e+00  0.00000000e+00]\n",
      "use_cuda=True\n",
      "MLP Using Cuda\n",
      "hidden_sizes= [181, 61, 181]\n",
      "100%|██████████| 50/50 [01:48<00:00,  2.17s/it]\n",
      "Simulating Surrogate Trajectory: \n",
      " 99%|█████████▉| 198/200 [00:05<00:00, 34.42it/s]\n",
      "Surrogate Cost:  200.0\n",
      "Surrogate Final State:  [ 3.12495379 -0.00510427  0.89749388  0.12104042]\n",
      "Simulating True Dynamics Trajectory\n",
      " 99%|█████████▉| 198/200 [00:05<00:00, 34.95it/s]"
     ]
    },
    {
     "name": "stderr",
     "output_type": "stream",
     "text": [
      "INFO:smac.intensification.intensification.Intensifier:Wallclock time limit for intensification reached (used: 119.780694 sec, available: 0.000010 sec)\n"
     ]
    },
    {
     "name": "stdout",
     "output_type": "stream",
     "text": [
      "\n",
      "True Dynamics Cost:  200.0\n",
      "True Dynamics Final State:  [ 3.13851311e+00 -1.40604318e-03 -5.63406026e-09 -1.12561249e-09]\n",
      "use_cuda=True\n",
      "MLP Using Cuda\n",
      "hidden_sizes= [61]\n",
      "100%|██████████| 50/50 [00:59<00:00,  1.19s/it]\n",
      "Simulating Surrogate Trajectory: \n",
      " 99%|█████████▉| 198/200 [00:06<00:00, 31.90it/s]\n",
      "Surrogate Cost:  200.0\n",
      "Surrogate Final State:  [ 3.12829989 -0.01350484  0.36845234 -0.00907083]\n",
      "Simulating True Dynamics Trajectory\n",
      " 99%|█████████▉| 198/200 [00:06<00:00, 31.75it/s]"
     ]
    },
    {
     "name": "stderr",
     "output_type": "stream",
     "text": [
      "INFO:smac.intensification.intensification.Intensifier:Wallclock time limit for intensification reached (used: 72.053915 sec, available: 0.000010 sec)\n"
     ]
    },
    {
     "name": "stdout",
     "output_type": "stream",
     "text": [
      "\n",
      "True Dynamics Cost:  200.0\n",
      "True Dynamics Final State:  [ 3.14274375e+00 -2.78204190e-03  1.85425842e-01  1.04057840e-02]\n",
      "use_cuda=True\n",
      "MLP Using Cuda\n",
      "hidden_sizes= [241, 121, 121, 241]\n",
      "100%|██████████| 50/50 [02:15<00:00,  2.72s/it]\n",
      "Simulating Surrogate Trajectory: \n",
      " 99%|█████████▉| 198/200 [00:09<00:00, 21.40it/s]\n",
      "Surrogate Cost:  200.0\n",
      "Surrogate Final State:  [ 3.12819505e+00 -1.04296129e-02  4.40880397e-01  1.40168115e-03]\n",
      "Simulating True Dynamics Trajectory\n",
      " 99%|█████████▉| 198/200 [00:09<00:00, 21.84it/s]"
     ]
    },
    {
     "name": "stderr",
     "output_type": "stream",
     "text": [
      "INFO:smac.intensification.intensification.Intensifier:Wallclock time limit for intensification reached (used: 154.125991 sec, available: 0.000010 sec)\n"
     ]
    },
    {
     "name": "stdout",
     "output_type": "stream",
     "text": [
      "\n",
      "True Dynamics Cost:  200.0\n",
      "True Dynamics Final State:  [ 3.14175828e+00 -9.65619996e-06  3.96758260e-01  2.82427943e-02]\n",
      "use_cuda=True\n",
      "MLP Using Cuda\n",
      "hidden_sizes= [121, 241]\n",
      "100%|██████████| 50/50 [01:27<00:00,  1.74s/it]\n",
      "Simulating Surrogate Trajectory: \n",
      " 99%|█████████▉| 198/200 [00:20<00:00,  9.79it/s]\n",
      "Surrogate Cost:  200.0\n",
      "Surrogate Final State:  [-1.5236322   0.12780005  0.09477765 -6.5062432 ]\n",
      "Simulating True Dynamics Trajectory\n",
      " 99%|█████████▉| 198/200 [00:27<00:00,  7.20it/s]"
     ]
    },
    {
     "name": "stderr",
     "output_type": "stream",
     "text": [
      "INFO:smac.intensification.intensification.Intensifier:Wallclock time limit for intensification reached (used: 134.991412 sec, available: 0.000010 sec)\n"
     ]
    },
    {
     "name": "stdout",
     "output_type": "stream",
     "text": [
      "\n",
      "True Dynamics Cost:  200.0\n",
      "True Dynamics Final State:  [-3.76356335 -1.71624989 -1.48823419 -1.68869251]\n",
      "use_cuda=True\n",
      "MLP Using Cuda\n",
      "hidden_sizes= [211, 151, 151]\n",
      "100%|██████████| 50/50 [01:51<00:00,  2.23s/it]\n",
      "Simulating Surrogate Trajectory: \n",
      " 99%|█████████▉| 198/200 [00:37<00:00,  5.28it/s]\n",
      "Surrogate Cost:  200.0\n",
      "Surrogate Final State:  [ 1.31492519e-02 -3.12685868e-03  1.37298003e+01 -1.13338711e+00]\n",
      "Simulating True Dynamics Trajectory\n",
      " 99%|█████████▉| 198/200 [00:40<00:00,  4.92it/s]"
     ]
    },
    {
     "name": "stderr",
     "output_type": "stream",
     "text": [
      "INFO:smac.intensification.intensification.Intensifier:Wallclock time limit for intensification reached (used: 189.255048 sec, available: 0.000010 sec)\n"
     ]
    },
    {
     "name": "stdout",
     "output_type": "stream",
     "text": [
      "\n",
      "True Dynamics Cost:  200.0\n",
      "True Dynamics Final State:  [ 2.98987131e-02 -1.31836319e-05  2.09869232e+01  8.33839031e-01]\n",
      "use_cuda=True\n",
      "MLP Using Cuda\n",
      "hidden_sizes= [91]\n",
      "100%|██████████| 50/50 [00:59<00:00,  1.18s/it]\n",
      "Simulating Surrogate Trajectory: \n",
      " 99%|█████████▉| 198/200 [01:47<00:01,  1.85it/s]\n",
      "Surrogate Cost:  200.0\n",
      "Surrogate Final State:  [  3.06344504  -0.15151278 -15.94913942  -0.51853118]\n",
      "Simulating True Dynamics Trajectory\n",
      " 99%|█████████▉| 198/200 [01:47<00:01,  1.85it/s]"
     ]
    },
    {
     "name": "stderr",
     "output_type": "stream",
     "text": [
      "INFO:smac.intensification.intensification.Intensifier:Wallclock time limit for intensification reached (used: 273.539031 sec, available: 0.000010 sec)\n"
     ]
    },
    {
     "name": "stdout",
     "output_type": "stream",
     "text": [
      "\n",
      "True Dynamics Cost:  200.0\n",
      "True Dynamics Final State:  [  3.10092833  -0.24555813 -16.07127159  -0.18533037]\n",
      "use_cuda=True\n",
      "MLP Using Cuda\n",
      "hidden_sizes= [151, 211, 91, 91]\n",
      "100%|██████████| 50/50 [02:18<00:00,  2.77s/it]\n",
      "Simulating Surrogate Trajectory: \n",
      " 99%|█████████▉| 198/200 [00:09<00:00, 21.76it/s]\n",
      "Surrogate Cost:  200.0\n",
      "Surrogate Final State:  [ 3.1253825  -0.00612936  0.85060163  0.11004596]\n",
      "Simulating True Dynamics Trajectory\n",
      " 99%|█████████▉| 198/200 [00:09<00:00, 21.68it/s]"
     ]
    },
    {
     "name": "stderr",
     "output_type": "stream",
     "text": [
      "INFO:smac.intensification.intensification.Intensifier:Wallclock time limit for intensification reached (used: 156.726597 sec, available: 0.000010 sec)\n"
     ]
    },
    {
     "name": "stdout",
     "output_type": "stream",
     "text": [
      "\n",
      "True Dynamics Cost:  200.0\n",
      "True Dynamics Final State:  [ 3.13915643e+00 -1.35919271e-03 -2.70094317e-02 -7.11927139e-03]\n",
      "use_cuda=True\n",
      "MLP Using Cuda\n",
      "hidden_sizes= [31, 91]\n",
      "100%|██████████| 50/50 [01:26<00:00,  1.74s/it]\n",
      "Simulating Surrogate Trajectory: \n",
      " 99%|█████████▉| 198/200 [00:16<00:00, 12.16it/s]\n",
      "Surrogate Cost:  200.0\n",
      "Surrogate Final State:  [ 3.12606355 -0.00355727  0.19988159 -0.0196232 ]\n",
      "Simulating True Dynamics Trajectory\n",
      " 99%|█████████▉| 198/200 [00:15<00:00, 12.41it/s]"
     ]
    },
    {
     "name": "stderr",
     "output_type": "stream",
     "text": [
      "INFO:smac.intensification.intensification.Intensifier:Wallclock time limit for intensification reached (used: 119.182826 sec, available: 0.000010 sec)\n"
     ]
    },
    {
     "name": "stdout",
     "output_type": "stream",
     "text": [
      "\n",
      "True Dynamics Cost:  200.0\n",
      "True Dynamics Final State:  [ 3.13853810e+00 -1.35869537e-03  2.48229957e-02  1.27375416e-03]\n",
      "use_cuda=True\n",
      "MLP Using Cuda\n",
      "hidden_sizes= [113, 204, 144, 38]\n",
      "100%|██████████| 50/50 [02:18<00:00,  2.77s/it]\n",
      "Simulating Surrogate Trajectory: \n",
      " 99%|█████████▉| 198/200 [00:06<00:00, 31.06it/s]\n",
      "Surrogate Cost:  200.0\n",
      "Surrogate Final State:  [ 3.12495379 -0.00510427  0.89749389  0.12104042]\n",
      "Simulating True Dynamics Trajectory\n",
      " 99%|█████████▉| 198/200 [00:06<00:00, 31.53it/s]"
     ]
    },
    {
     "name": "stderr",
     "output_type": "stream",
     "text": [
      "INFO:smac.intensification.intensification.Intensifier:Wallclock time limit for intensification reached (used: 151.412359 sec, available: 0.000010 sec)\n"
     ]
    },
    {
     "name": "stdout",
     "output_type": "stream",
     "text": [
      "\n",
      "True Dynamics Cost:  200.0\n",
      "True Dynamics Final State:  [ 3.13851311e+00 -1.40604318e-03  0.00000000e+00  0.00000000e+00]\n",
      "use_cuda=True\n",
      "MLP Using Cuda\n",
      "hidden_sizes= [234, 83]\n",
      "100%|██████████| 50/50 [01:25<00:00,  1.71s/it]\n",
      "Simulating Surrogate Trajectory: \n",
      " 99%|█████████▉| 198/200 [00:18<00:00, 10.86it/s]\n",
      "Surrogate Cost:  200.0\n",
      "Surrogate Final State:  [ 3.12802739 -0.01064181 -0.04863999 -0.03577598]\n",
      "Simulating True Dynamics Trajectory\n",
      " 99%|█████████▉| 198/200 [00:16<00:00, 12.03it/s]"
     ]
    },
    {
     "name": "stderr",
     "output_type": "stream",
     "text": [
      "INFO:smac.intensification.intensification.Intensifier:Wallclock time limit for intensification reached (used: 120.076378 sec, available: 0.000010 sec)\n"
     ]
    },
    {
     "name": "stdout",
     "output_type": "stream",
     "text": [
      "\n",
      "True Dynamics Cost:  200.0\n",
      "True Dynamics Final State:  [ 3.14166184e+00  3.08026653e-05 -2.00410135e-01 -2.11806885e-02]\n",
      "use_cuda=True\n",
      "MLP Using Cuda\n",
      "hidden_sizes= [53, 144, 83]\n",
      "100%|██████████| 50/50 [01:52<00:00,  2.25s/it]\n",
      "Simulating Surrogate Trajectory: \n",
      " 99%|█████████▉| 198/200 [00:38<00:00,  5.13it/s]\n",
      "Surrogate Cost:  158.0\n",
      "Surrogate Final State:  [ 0.02751846  0.08034789 -0.17253015 -0.40377578]\n",
      "Simulating True Dynamics Trajectory\n",
      " 99%|█████████▉| 198/200 [00:36<00:00,  5.41it/s]"
     ]
    },
    {
     "name": "stderr",
     "output_type": "stream",
     "text": [
      "INFO:smac.intensification.intensification.Intensifier:Challenger (158.0000) is better than incumbent (198.0000) on 1 runs.\n",
      "INFO:smac.intensification.intensification.Intensifier:Changes in incumbent:\n",
      "INFO:smac.intensification.intensification.Intensifier:  _cost:dx_F : 0.4216965034285823 -> 805.8421877614824\n",
      "INFO:smac.intensification.intensification.Intensifier:  _cost:dx_Q : 0.4216965034285823 -> 0.033982083289425605\n",
      "INFO:smac.intensification.intensification.Intensifier:  _cost:omega_F : 23.713737056616576 -> 0.004531583637600819\n",
      "INFO:smac.intensification.intensification.Intensifier:  _cost:omega_Q : 0.007498942093324564 -> 0.0124093776075172\n",
      "INFO:smac.intensification.intensification.Intensifier:  _cost:theta_F : 1333.5214321633246 -> 5.232991146814948\n",
      "INFO:smac.intensification.intensification.Intensifier:  _cost:theta_Q : 1333.5214321633246 -> 0.004531583637600819\n",
      "INFO:smac.intensification.intensification.Intensifier:  _cost:u_R : 0.007498942093324564 -> 0.0930572040929699\n",
      "INFO:smac.intensification.intensification.Intensifier:  _cost:x_F : 23.713737056616576 -> 14.330125702369648\n",
      "INFO:smac.intensification.intensification.Intensifier:  _cost:x_Q : 0.007498942093324564 -> 5.232991146814948\n",
      "INFO:smac.intensification.intensification.Intensifier:  _ctrlr:horizon : 23 -> 18\n",
      "INFO:smac.intensification.intensification.Intensifier:  _model:hidden_size_1 : 106 -> 53\n",
      "INFO:smac.intensification.intensification.Intensifier:  _model:hidden_size_2 : None -> 144\n",
      "INFO:smac.intensification.intensification.Intensifier:  _model:hidden_size_3 : None -> 83\n",
      "INFO:smac.intensification.intensification.Intensifier:  _model:lr : 0.013335214321633242 -> 2.942727176209284e-05\n",
      "INFO:smac.intensification.intensification.Intensifier:  _model:n_hidden_layers : '1' -> '3'\n",
      "INFO:smac.intensification.intensification.Intensifier:  _model:nonlintype : 'tanh' -> 'selu'\n",
      "INFO:smac.intensification.intensification.Intensifier:Wallclock time limit for intensification reached (used: 187.647404 sec, available: 0.000010 sec)\n"
     ]
    },
    {
     "name": "stdout",
     "output_type": "stream",
     "text": [
      "\n",
      "True Dynamics Cost:  148.0\n",
      "True Dynamics Final State:  [ 0.53451352 -1.68349589  1.08797691 -0.61401664]\n",
      "use_cuda=True\n",
      "MLP Using Cuda\n",
      "hidden_sizes= [174]\n",
      "100%|██████████| 50/50 [01:01<00:00,  1.22s/it]\n",
      "Simulating Surrogate Trajectory: \n",
      " 99%|█████████▉| 198/200 [00:06<00:00, 30.65it/s]\n",
      "Surrogate Cost:  200.0\n",
      "Surrogate Final State:  [ 3.1266531  -0.00677689  0.78764511  0.0672596 ]\n",
      "Simulating True Dynamics Trajectory\n",
      " 99%|█████████▉| 198/200 [00:06<00:00, 31.67it/s]"
     ]
    },
    {
     "name": "stderr",
     "output_type": "stream",
     "text": [
      "INFO:smac.intensification.intensification.Intensifier:Wallclock time limit for intensification reached (used: 73.986672 sec, available: 0.000010 sec)\n"
     ]
    },
    {
     "name": "stdout",
     "output_type": "stream",
     "text": [
      "\n",
      "True Dynamics Cost:  200.0\n",
      "True Dynamics Final State:  [ 3.13946502e+00 -8.74691559e-04  2.50945211e-01  3.37532097e-02]\n",
      "use_cuda=True\n",
      "MLP Using Cuda\n",
      "hidden_sizes= [23, 113, 174, 189]\n",
      "100%|██████████| 50/50 [02:19<00:00,  2.78s/it]\n",
      "Simulating Surrogate Trajectory: \n",
      " 99%|█████████▉| 198/200 [00:11<00:00, 16.58it/s]\n",
      "Surrogate Cost:  200.0\n",
      "Surrogate Final State:  [ 3.12703123 -0.00471519 -0.02068731 -0.02980035]\n",
      "Simulating True Dynamics Trajectory\n",
      " 99%|█████████▉| 198/200 [00:11<00:00, 16.83it/s]"
     ]
    },
    {
     "name": "stderr",
     "output_type": "stream",
     "text": [
      "INFO:smac.intensification.intensification.Intensifier:Wallclock time limit for intensification reached (used: 162.839365 sec, available: 0.000010 sec)\n"
     ]
    },
    {
     "name": "stdout",
     "output_type": "stream",
     "text": [
      "\n",
      "True Dynamics Cost:  200.0\n",
      "True Dynamics Final State:  [ 3.13998813e+00  1.44584524e-03 -3.78685575e-02 -3.17091934e-04]\n",
      "use_cuda=True\n",
      "MLP Using Cuda\n",
      "hidden_sizes= [144, 234]\n",
      "100%|██████████| 50/50 [01:27<00:00,  1.74s/it]\n",
      "Simulating Surrogate Trajectory: \n",
      " 99%|█████████▉| 198/200 [00:17<00:00, 11.38it/s]\n",
      "Surrogate Cost:  200.0\n",
      "Surrogate Final State:  [  3.59193612  -2.89389719 -79.04921468  -5.41126603]\n",
      "Simulating True Dynamics Trajectory\n",
      " 99%|█████████▉| 198/200 [00:17<00:00, 11.44it/s]"
     ]
    },
    {
     "name": "stderr",
     "output_type": "stream",
     "text": [
      "INFO:smac.intensification.intensification.Intensifier:Wallclock time limit for intensification reached (used: 121.881135 sec, available: 0.000010 sec)\n"
     ]
    },
    {
     "name": "stdout",
     "output_type": "stream",
     "text": [
      "\n",
      "True Dynamics Cost:  200.0\n",
      "True Dynamics Final State:  [  3.07279981  -2.04100716 -77.84378758  -4.83837615]\n",
      "use_cuda=True\n",
      "MLP Using Cuda\n",
      "hidden_sizes= [83, 53, 113]\n",
      "100%|██████████| 50/50 [01:50<00:00,  2.22s/it]\n",
      "Simulating Surrogate Trajectory: \n",
      " 99%|█████████▉| 198/200 [01:24<00:00,  2.35it/s]\n",
      "Surrogate Cost:  200.0\n",
      "Surrogate Final State:  [-0.01827321 -0.00596178  5.69331202 -0.73106927]\n",
      "Simulating True Dynamics Trajectory\n",
      " 99%|█████████▉| 198/200 [01:49<00:01,  1.81it/s]"
     ]
    },
    {
     "name": "stderr",
     "output_type": "stream",
     "text": [
      "INFO:smac.intensification.intensification.Intensifier:Wallclock time limit for intensification reached (used: 304.856106 sec, available: 0.000010 sec)\n"
     ]
    },
    {
     "name": "stdout",
     "output_type": "stream",
     "text": [
      "\n",
      "True Dynamics Cost:  200.0\n",
      "True Dynamics Final State:  [ 3.82490312e-03 -9.11165352e-02  1.08947452e+01  3.48807061e-01]\n",
      "use_cuda=True\n",
      "MLP Using Cuda\n",
      "hidden_sizes= [204]\n",
      "100%|██████████| 50/50 [01:02<00:00,  1.24s/it]\n",
      "Simulating Surrogate Trajectory: \n",
      " 99%|█████████▉| 198/200 [00:09<00:00, 21.13it/s]\n",
      "Surrogate Cost:  200.0\n",
      "Surrogate Final State:  [ 3.12504716 -0.00544142  0.34581065 -0.00611425]\n",
      "Simulating True Dynamics Trajectory\n",
      " 99%|█████████▉| 198/200 [00:10<00:00, 19.80it/s]"
     ]
    },
    {
     "name": "stderr",
     "output_type": "stream",
     "text": [
      "INFO:smac.intensification.intensification.Intensifier:Wallclock time limit for intensification reached (used: 81.468065 sec, available: 0.000010 sec)\n"
     ]
    },
    {
     "name": "stdout",
     "output_type": "stream",
     "text": [
      "\n",
      "True Dynamics Cost:  200.0\n",
      "True Dynamics Final State:  [ 3.13797259e+00 -2.33587701e-03 -8.26239514e-02 -1.17494055e-02]\n",
      "use_cuda=True\n",
      "MLP Using Cuda\n",
      "hidden_sizes= [219, 249]\n",
      "100%|██████████| 50/50 [01:26<00:00,  1.73s/it]\n",
      "Simulating Surrogate Trajectory: \n",
      " 99%|█████████▉| 198/200 [00:14<00:00, 13.94it/s]\n",
      "Surrogate Cost:  200.0\n",
      "Surrogate Final State:  [ 3.1308634  -0.01376032 -0.03928369 -0.02925975]\n",
      "Simulating True Dynamics Trajectory\n",
      " 99%|█████████▉| 198/200 [00:14<00:00, 14.11it/s]"
     ]
    },
    {
     "name": "stderr",
     "output_type": "stream",
     "text": [
      "INFO:smac.intensification.intensification.Intensifier:Wallclock time limit for intensification reached (used: 114.974975 sec, available: 0.000010 sec)\n"
     ]
    },
    {
     "name": "stdout",
     "output_type": "stream",
     "text": [
      "\n",
      "True Dynamics Cost:  200.0\n",
      "True Dynamics Final State:  [ 3.14282556e+00  4.65193325e-03 -5.50670269e-02 -3.47361511e-04]\n",
      "use_cuda=True\n",
      "MLP Using Cuda\n",
      "hidden_sizes= [98, 128, 189, 174]\n",
      "100%|██████████| 50/50 [02:18<00:00,  2.76s/it]\n",
      "Simulating Surrogate Trajectory: \n",
      " 99%|█████████▉| 198/200 [00:52<00:00,  3.77it/s]\n",
      "Surrogate Cost:  200.0\n",
      "Surrogate Final State:  [-0.01349374  0.26595659  6.16025158  0.61095916]\n",
      "Simulating True Dynamics Trajectory\n",
      " 99%|█████████▉| 198/200 [00:42<00:00,  4.70it/s]"
     ]
    },
    {
     "name": "stderr",
     "output_type": "stream",
     "text": [
      "INFO:smac.intensification.intensification.Intensifier:Wallclock time limit for intensification reached (used: 232.962894 sec, available: 0.000010 sec)\n"
     ]
    },
    {
     "name": "stdout",
     "output_type": "stream",
     "text": [
      "\n",
      "True Dynamics Cost:  200.0\n",
      "True Dynamics Final State:  [ 2.0590606  -3.7915659  -5.85648976  8.73352933]\n",
      "use_cuda=True\n",
      "MLP Using Cuda\n",
      "hidden_sizes= [145, 154, 230]\n",
      "100%|██████████| 50/50 [01:50<00:00,  2.21s/it]\n",
      "Simulating Surrogate Trajectory: \n",
      " 99%|█████████▉| 198/200 [00:08<00:00, 23.84it/s]\n",
      "Surrogate Cost:  200.0\n",
      "Surrogate Final State:  [ 3.12662755 -0.00801728  0.09029116 -0.02994516]\n",
      "Simulating True Dynamics Trajectory\n",
      " 99%|█████████▉| 198/200 [00:08<00:00, 24.37it/s]"
     ]
    },
    {
     "name": "stderr",
     "output_type": "stream",
     "text": [
      "INFO:smac.intensification.intensification.Intensifier:Wallclock time limit for intensification reached (used: 127.190343 sec, available: 0.000010 sec)\n"
     ]
    },
    {
     "name": "stdout",
     "output_type": "stream",
     "text": [
      "\n",
      "True Dynamics Cost:  200.0\n",
      "True Dynamics Final State:  [ 3.13954307e+00 -1.01935126e-03  6.03260255e-02 -1.96226454e-04]\n",
      "use_cuda=True\n",
      "MLP Using Cuda\n",
      "hidden_sizes= [213, 20]\n",
      "100%|██████████| 50/50 [01:24<00:00,  1.70s/it]\n",
      "Simulating Surrogate Trajectory: \n",
      " 99%|█████████▉| 198/200 [00:09<00:00, 20.68it/s]\n",
      "Surrogate Cost:  200.0\n",
      "Surrogate Final State:  [ 3.12197678 -0.02155168  0.14550031 -0.03025697]\n",
      "Simulating True Dynamics Trajectory\n",
      " 99%|█████████▉| 198/200 [00:09<00:00, 20.91it/s]"
     ]
    },
    {
     "name": "stderr",
     "output_type": "stream",
     "text": [
      "INFO:smac.intensification.intensification.Intensifier:Wallclock time limit for intensification reached (used: 104.050377 sec, available: 0.000010 sec)\n"
     ]
    },
    {
     "name": "stdout",
     "output_type": "stream",
     "text": [
      "\n",
      "True Dynamics Cost:  200.0\n",
      "True Dynamics Final State:  [ 3.14101143e+00 -2.01552101e-02  1.26620051e-01 -5.50180969e-04]\n",
      "use_cuda=True\n",
      "MLP Using Cuda\n",
      "hidden_sizes= [53, 134, 83]\n",
      "100%|██████████| 50/50 [01:49<00:00,  2.20s/it]\n",
      "Simulating Surrogate Trajectory: \n",
      " 99%|█████████▉| 198/200 [00:26<00:00,  7.38it/s]\n",
      "Surrogate Cost:  200.0\n",
      "Surrogate Final State:  [ 2.69887993 -0.5238281  -0.58693848  0.35857602]\n",
      "Simulating True Dynamics Trajectory\n",
      " 99%|█████████▉| 198/200 [00:29<00:00,  6.76it/s]"
     ]
    },
    {
     "name": "stderr",
     "output_type": "stream",
     "text": [
      "INFO:smac.intensification.intensification.Intensifier:Wallclock time limit for intensification reached (used: 165.938328 sec, available: 0.000010 sec)\n"
     ]
    },
    {
     "name": "stdout",
     "output_type": "stream",
     "text": [
      "\n",
      "True Dynamics Cost:  200.0\n",
      "True Dynamics Final State:  [ 2.83445476 -0.71736086 -0.65700795  0.37683717]\n",
      "use_cuda=True\n",
      "MLP Using Cuda\n",
      "hidden_sizes= [53]\n",
      "100%|██████████| 50/50 [00:59<00:00,  1.19s/it]\n",
      "Simulating Surrogate Trajectory: \n",
      " 99%|█████████▉| 198/200 [00:42<00:00,  4.70it/s]\n",
      "Surrogate Cost:  200.0\n",
      "Surrogate Final State:  [ 1.63959178 -0.09520271 -0.29951303  0.7009871 ]\n",
      "Simulating True Dynamics Trajectory\n",
      " 99%|█████████▉| 198/200 [00:41<00:00,  4.78it/s]"
     ]
    },
    {
     "name": "stderr",
     "output_type": "stream",
     "text": [
      "INFO:smac.intensification.intensification.Intensifier:Wallclock time limit for intensification reached (used: 142.833414 sec, available: 0.000010 sec)\n"
     ]
    },
    {
     "name": "stdout",
     "output_type": "stream",
     "text": [
      "\n",
      "True Dynamics Cost:  200.0\n",
      "True Dynamics Final State:  [ 1.63175442  0.22587986 -0.31252657  0.68987396]\n",
      "use_cuda=True\n",
      "MLP Using Cuda\n",
      "hidden_sizes= [178, 195]\n",
      "100%|██████████| 50/50 [01:26<00:00,  1.73s/it]\n",
      "Simulating Surrogate Trajectory: \n",
      " 99%|█████████▉| 198/200 [00:10<00:00, 19.75it/s]\n",
      "Surrogate Cost:  200.0\n",
      "Surrogate Final State:  [ 3.12643808e+00 -1.95448063e-03  2.03570936e-01 -1.19329150e-02]\n",
      "Simulating True Dynamics Trajectory\n",
      " 99%|█████████▉| 198/200 [00:09<00:00, 20.76it/s]"
     ]
    },
    {
     "name": "stderr",
     "output_type": "stream",
     "text": [
      "INFO:smac.intensification.intensification.Intensifier:Wallclock time limit for intensification reached (used: 106.041792 sec, available: 0.000010 sec)\n"
     ]
    },
    {
     "name": "stdout",
     "output_type": "stream",
     "text": [
      "\n",
      "True Dynamics Cost:  200.0\n",
      "True Dynamics Final State:  [ 3.13843176e+00 -8.74448076e-04 -6.37409241e-02 -5.45997064e-03]\n",
      "use_cuda=True\n",
      "MLP Using Cuda\n",
      "hidden_sizes= [20, 151, 83]\n",
      "100%|██████████| 50/50 [01:49<00:00,  2.19s/it]\n",
      "Simulating Surrogate Trajectory: \n",
      " 99%|█████████▉| 198/200 [00:58<00:00,  3.38it/s]\n",
      "Surrogate Cost:  200.0\n",
      "Surrogate Final State:  [ 1.12307238  1.27910606  0.94037652 -1.38337945]\n",
      "Simulating True Dynamics Trajectory\n",
      " 99%|█████████▉| 198/200 [01:01<00:00,  3.24it/s]"
     ]
    },
    {
     "name": "stderr",
     "output_type": "stream",
     "text": [
      "INFO:smac.intensification.intensification.Intensifier:Wallclock time limit for intensification reached (used: 229.259297 sec, available: 0.000010 sec)\n"
     ]
    },
    {
     "name": "stdout",
     "output_type": "stream",
     "text": [
      "\n",
      "True Dynamics Cost:  200.0\n",
      "True Dynamics Final State:  [ 1.36811986  2.05158825  0.8155567  -1.66108838]\n",
      "use_cuda=True\n",
      "MLP Using Cuda\n",
      "hidden_sizes= [121, 79]\n",
      "100%|██████████| 50/50 [01:26<00:00,  1.72s/it]\n",
      "Simulating Surrogate Trajectory: \n",
      " 99%|█████████▉| 198/200 [00:07<00:00, 27.24it/s]\n",
      "Surrogate Cost:  200.0\n",
      "Surrogate Final State:  [ 3.12710253e+00 -6.74486654e-03  5.93259905e-01 -2.23495335e-03]\n",
      "Simulating True Dynamics Trajectory\n",
      " 99%|█████████▉| 198/200 [00:07<00:00, 27.15it/s]"
     ]
    },
    {
     "name": "stderr",
     "output_type": "stream",
     "text": [
      "INFO:smac.intensification.intensification.Intensifier:Wallclock time limit for intensification reached (used: 100.634549 sec, available: 0.000010 sec)\n"
     ]
    },
    {
     "name": "stdout",
     "output_type": "stream",
     "text": [
      "\n",
      "True Dynamics Cost:  200.0\n",
      "True Dynamics Final State:  [ 3.13958498e+00 -9.34621536e-04  3.65249133e-01  1.80765959e-02]\n",
      "use_cuda=True\n",
      "MLP Using Cuda\n",
      "hidden_sizes= [114, 168, 147, 144]\n",
      "100%|██████████| 50/50 [02:14<00:00,  2.70s/it]\n",
      "Simulating Surrogate Trajectory: \n",
      " 99%|█████████▉| 198/200 [00:17<00:00, 11.44it/s]\n",
      "Surrogate Cost:  200.0\n",
      "Surrogate Final State:  [ 3.1247384  -0.00633083  5.77005101  0.91552054]\n",
      "Simulating True Dynamics Trajectory\n",
      " 99%|█████████▉| 198/200 [00:16<00:00, 12.15it/s]"
     ]
    },
    {
     "name": "stderr",
     "output_type": "stream",
     "text": [
      "INFO:smac.intensification.intensification.Intensifier:Wallclock time limit for intensification reached (used: 168.581362 sec, available: 0.000010 sec)\n"
     ]
    },
    {
     "name": "stdout",
     "output_type": "stream",
     "text": [
      "\n",
      "True Dynamics Cost:  200.0\n",
      "True Dynamics Final State:  [ 3.14085309 -0.0085469   4.90782246  0.73357954]\n",
      "use_cuda=True\n",
      "MLP Using Cuda\n",
      "hidden_sizes= [53, 128, 170]\n",
      "100%|██████████| 50/50 [01:49<00:00,  2.18s/it]\n",
      "Simulating Surrogate Trajectory: \n",
      " 99%|█████████▉| 198/200 [00:57<00:00,  3.44it/s]\n",
      "Surrogate Cost:  200.0\n",
      "Surrogate Final State:  [-0.01013618  0.00622234  0.36123161  0.07189492]\n",
      "Simulating True Dynamics Trajectory\n",
      " 99%|█████████▉| 198/200 [00:50<00:00,  3.94it/s]"
     ]
    },
    {
     "name": "stderr",
     "output_type": "stream",
     "text": [
      "INFO:smac.intensification.intensification.Intensifier:Wallclock time limit for intensification reached (used: 217.066534 sec, available: 0.000010 sec)\n"
     ]
    },
    {
     "name": "stdout",
     "output_type": "stream",
     "text": [
      "\n",
      "True Dynamics Cost:  177.0\n",
      "True Dynamics Final State:  [ 0.05089712  0.15839996 -0.40314138 -1.19954173]\n",
      "use_cuda=True\n",
      "MLP Using Cuda\n",
      "hidden_sizes= [141, 118, 119]\n",
      "100%|██████████| 50/50 [01:49<00:00,  2.18s/it]\n",
      "Simulating Surrogate Trajectory: \n",
      " 99%|█████████▉| 198/200 [00:14<00:00, 13.92it/s]\n",
      "Surrogate Cost:  193.0\n",
      "Surrogate Final State:  [-2.44331179e-02  6.25923242e-04 -3.73848483e+00 -3.88267036e-01]\n",
      "Simulating True Dynamics Trajectory\n",
      " 99%|█████████▉| 198/200 [00:12<00:00, 15.62it/s]"
     ]
    },
    {
     "name": "stderr",
     "output_type": "stream",
     "text": [
      "INFO:smac.intensification.intensification.Intensifier:Wallclock time limit for intensification reached (used: 136.027944 sec, available: 0.000010 sec)\n"
     ]
    },
    {
     "name": "stdout",
     "output_type": "stream",
     "text": [
      "\n",
      "True Dynamics Cost:  188.0\n",
      "True Dynamics Final State:  [-2.86882035e-03  1.17813143e-03 -1.55137027e+00 -4.56872157e-02]\n",
      "use_cuda=True\n",
      "MLP Using Cuda\n",
      "hidden_sizes= [20, 151, 83]\n",
      "100%|██████████| 50/50 [01:48<00:00,  2.17s/it]\n",
      "Simulating Surrogate Trajectory: \n",
      " 99%|█████████▉| 198/200 [00:37<00:00,  5.34it/s]\n",
      "Surrogate Cost:  200.0\n",
      "Surrogate Final State:  [-1.1002793   2.88231458  0.16586386 -3.48485578]\n",
      "Simulating True Dynamics Trajectory\n",
      " 99%|█████████▉| 198/200 [00:36<00:00,  5.38it/s]"
     ]
    },
    {
     "name": "stderr",
     "output_type": "stream",
     "text": [
      "INFO:smac.intensification.intensification.Intensifier:Wallclock time limit for intensification reached (used: 182.329922 sec, available: 0.000010 sec)\n"
     ]
    },
    {
     "name": "stdout",
     "output_type": "stream",
     "text": [
      "\n",
      "True Dynamics Cost:  198.0\n",
      "True Dynamics Final State:  [-0.00183565  0.00586738  0.29401325  0.00280197]\n",
      "use_cuda=True\n",
      "MLP Using Cuda\n",
      "hidden_sizes= [112, 22, 227, 99]\n",
      "100%|██████████| 50/50 [02:16<00:00,  2.73s/it]\n",
      "Simulating Surrogate Trajectory: \n",
      "  4%|▎         | 7/200 [00:00<00:07, 27.00it/s]"
     ]
    },
    {
     "name": "stderr",
     "output_type": "stream",
     "text": [
      "/home/william/proj/autompc_dev/autompc/control/ilqr.py:535: RuntimeWarning: invalid value encountered in double_scalars\n",
      "  if (obj - new_obj) / (-expect_cost_reduction) > ls_cost_threshold:\n"
     ]
    },
    {
     "name": "stdout",
     "output_type": "stream",
     "text": [
      " 99%|█████████▉| 198/200 [00:06<00:00, 30.23it/s]\n",
      "Surrogate Cost:  200.0\n",
      "Surrogate Final State:  [ 3.12495379 -0.00510427  0.89749389  0.12104042]\n",
      "Simulating True Dynamics Trajectory\n",
      " 99%|█████████▉| 198/200 [00:06<00:00, 31.16it/s]"
     ]
    },
    {
     "name": "stderr",
     "output_type": "stream",
     "text": [
      "INFO:smac.intensification.intensification.Intensifier:Wallclock time limit for intensification reached (used: 149.542590 sec, available: 0.000010 sec)\n"
     ]
    },
    {
     "name": "stdout",
     "output_type": "stream",
     "text": [
      "\n",
      "True Dynamics Cost:  200.0\n",
      "True Dynamics Final State:  [ 3.13851311e+00 -1.40604318e-03  0.00000000e+00  0.00000000e+00]\n",
      "use_cuda=True\n",
      "MLP Using Cuda\n",
      "hidden_sizes= [51, 144, 83]\n",
      "100%|██████████| 50/50 [01:48<00:00,  2.16s/it]\n",
      "Simulating Surrogate Trajectory: \n",
      " 99%|█████████▉| 198/200 [00:56<00:00,  3.50it/s]\n",
      "Surrogate Cost:  199.0\n",
      "Surrogate Final State:  [ 3.98273429  0.12184003 -1.55876687  1.75023863]\n",
      "Simulating True Dynamics Trajectory\n",
      " 99%|█████████▉| 198/200 [00:41<00:00,  4.79it/s]"
     ]
    },
    {
     "name": "stderr",
     "output_type": "stream",
     "text": [
      "INFO:smac.intensification.intensification.Intensifier:Wallclock time limit for intensification reached (used: 206.105298 sec, available: 0.000010 sec)\n"
     ]
    },
    {
     "name": "stdout",
     "output_type": "stream",
     "text": [
      "\n",
      "True Dynamics Cost:  200.0\n",
      "True Dynamics Final State:  [ 0.00552121 -0.03627779 -1.22382615  0.16840378]\n",
      "use_cuda=True\n",
      "MLP Using Cuda\n",
      "hidden_sizes= [53, 143, 166]\n",
      "100%|██████████| 50/50 [01:49<00:00,  2.20s/it]\n",
      "Simulating Surrogate Trajectory: \n",
      " 99%|█████████▉| 198/200 [00:35<00:00,  5.58it/s]\n",
      "Surrogate Cost:  199.0\n",
      "Surrogate Final State:  [-3.40509222  4.48523892  0.90331571 -0.92626259]\n",
      "Simulating True Dynamics Trajectory\n",
      " 99%|█████████▉| 198/200 [00:32<00:00,  6.08it/s]"
     ]
    },
    {
     "name": "stderr",
     "output_type": "stream",
     "text": [
      "INFO:smac.intensification.intensification.Intensifier:Wallclock time limit for intensification reached (used: 177.899969 sec, available: 0.000010 sec)\n"
     ]
    },
    {
     "name": "stdout",
     "output_type": "stream",
     "text": [
      "\n",
      "True Dynamics Cost:  200.0\n",
      "True Dynamics Final State:  [ 3.00469245 -4.82952404 -0.62957188  1.58680133]\n",
      "use_cuda=True\n",
      "MLP Using Cuda\n",
      "hidden_sizes= [53, 144, 128, 128]\n",
      "100%|██████████| 50/50 [02:16<00:00,  2.73s/it]\n",
      "Simulating Surrogate Trajectory: \n",
      " 99%|█████████▉| 198/200 [00:14<00:00, 13.94it/s]\n",
      "Surrogate Cost:  200.0\n",
      "Surrogate Final State:  [ 3.15208886  0.04672329 -0.2053795  -0.03747641]\n",
      "Simulating True Dynamics Trajectory\n",
      " 99%|█████████▉| 198/200 [00:14<00:00, 13.98it/s]"
     ]
    },
    {
     "name": "stderr",
     "output_type": "stream",
     "text": [
      "INFO:smac.intensification.intensification.Intensifier:Wallclock time limit for intensification reached (used: 164.906353 sec, available: 0.000010 sec)\n"
     ]
    },
    {
     "name": "stdout",
     "output_type": "stream",
     "text": [
      "\n",
      "True Dynamics Cost:  200.0\n",
      "True Dynamics Final State:  [ 3.14242756  0.07877201 -0.22755769 -0.00484973]\n",
      "use_cuda=True\n",
      "MLP Using Cuda\n",
      "hidden_sizes= [82, 144, 83]\n",
      "100%|██████████| 50/50 [01:49<00:00,  2.20s/it]\n",
      "Simulating Surrogate Trajectory: \n",
      " 99%|█████████▉| 198/200 [00:28<00:00,  6.90it/s]\n",
      "Surrogate Cost:  72.0\n",
      "Surrogate Final State:  [-0.01870083 -0.00397246 -0.05162523  0.02579917]\n",
      "Simulating True Dynamics Trajectory\n",
      " 99%|█████████▉| 198/200 [00:30<00:00,  6.55it/s]"
     ]
    },
    {
     "name": "stderr",
     "output_type": "stream",
     "text": [
      "INFO:smac.intensification.intensification.Intensifier:Challenger (72.0000) is better than incumbent (158.0000) on 1 runs.\n",
      "INFO:smac.intensification.intensification.Intensifier:Changes in incumbent:\n",
      "INFO:smac.intensification.intensification.Intensifier:  _cost:dx_Q : 0.033982083289425605 -> 0.1326794721718123\n",
      "INFO:smac.intensification.intensification.Intensifier:  _cost:omega_F : 0.004531583637600819 -> 0.004946745289925756\n",
      "INFO:smac.intensification.intensification.Intensifier:  _cost:omega_Q : 0.0124093776075172 -> 0.0020741110672169247\n",
      "INFO:smac.intensification.intensification.Intensifier:  _cost:theta_F : 5.232991146814948 -> 24.333385810224282\n",
      "INFO:smac.intensification.intensification.Intensifier:  _cost:theta_Q : 0.004531583637600819 -> 0.002053561301933842\n",
      "INFO:smac.intensification.intensification.Intensifier:  _ctrlr:horizon : 18 -> 24\n",
      "INFO:smac.intensification.intensification.Intensifier:  _model:hidden_size_1 : 53 -> 82\n",
      "INFO:smac.intensification.intensification.Intensifier:Wallclock time limit for intensification reached (used: 168.716574 sec, available: 0.000010 sec)\n"
     ]
    },
    {
     "name": "stdout",
     "output_type": "stream",
     "text": [
      "\n",
      "True Dynamics Cost:  182.0\n",
      "True Dynamics Final State:  [-1.78438396e-05 -2.66814499e-06  2.53133987e-01 -4.17820173e-04]\n",
      "use_cuda=True\n",
      "MLP Using Cuda\n",
      "hidden_sizes= [21, 159]\n",
      "100%|██████████| 50/50 [01:25<00:00,  1.71s/it]\n",
      "Simulating Surrogate Trajectory: \n",
      " 99%|█████████▉| 198/200 [00:24<00:00,  8.00it/s]\n",
      "Surrogate Cost:  200.0\n",
      "Surrogate Final State:  [ 3.12737538 -0.00662203 -0.25253831 -0.02962575]\n",
      "Simulating True Dynamics Trajectory\n",
      " 99%|█████████▉| 198/200 [00:24<00:00,  8.25it/s]"
     ]
    },
    {
     "name": "stderr",
     "output_type": "stream",
     "text": [
      "INFO:smac.intensification.intensification.Intensifier:Wallclock time limit for intensification reached (used: 134.436547 sec, available: 0.000010 sec)\n"
     ]
    },
    {
     "name": "stdout",
     "output_type": "stream",
     "text": [
      "\n",
      "True Dynamics Cost:  200.0\n",
      "True Dynamics Final State:  [ 3.14065796e+00  1.61983560e-03 -2.66396400e-01 -5.45733926e-04]\n",
      "use_cuda=True\n",
      "MLP Using Cuda\n",
      "hidden_sizes= [113, 67]\n",
      "100%|██████████| 50/50 [01:25<00:00,  1.71s/it]\n",
      "Simulating Surrogate Trajectory: \n",
      " 99%|█████████▉| 198/200 [00:15<00:00, 13.14it/s]\n",
      "Surrogate Cost:  200.0\n",
      "Surrogate Final State:  [ 3.11469776 -0.07310989 49.99456613  5.79102933]\n",
      "Simulating True Dynamics Trajectory\n",
      " 99%|█████████▉| 198/200 [00:14<00:00, 13.20it/s]"
     ]
    },
    {
     "name": "stderr",
     "output_type": "stream",
     "text": [
      "INFO:smac.intensification.intensification.Intensifier:Wallclock time limit for intensification reached (used: 115.647871 sec, available: 0.000010 sec)\n"
     ]
    },
    {
     "name": "stdout",
     "output_type": "stream",
     "text": [
      "\n",
      "True Dynamics Cost:  200.0\n",
      "True Dynamics Final State:  [ 3.16749799 -0.06041478 49.54159143  5.80480435]\n",
      "use_cuda=True\n",
      "MLP Using Cuda\n",
      "hidden_sizes= [31, 233]\n",
      "100%|██████████| 50/50 [01:24<00:00,  1.68s/it]\n",
      "Simulating Surrogate Trajectory: \n",
      " 99%|█████████▉| 198/200 [00:27<00:00,  7.32it/s]\n",
      "Surrogate Cost:  200.0\n",
      "Surrogate Final State:  [ 3.13423276 -0.01287555  0.63284691 -0.02477242]\n",
      "Simulating True Dynamics Trajectory\n",
      " 99%|█████████▉| 198/200 [00:26<00:00,  7.48it/s]"
     ]
    },
    {
     "name": "stderr",
     "output_type": "stream",
     "text": [
      "INFO:smac.intensification.intensification.Intensifier:Wallclock time limit for intensification reached (used: 137.553238 sec, available: 0.000010 sec)\n"
     ]
    },
    {
     "name": "stdout",
     "output_type": "stream",
     "text": [
      "\n",
      "True Dynamics Cost:  200.0\n",
      "True Dynamics Final State:  [3.15039750e+00 8.03527184e-04 6.65940051e-01 1.68077770e-02]\n",
      "use_cuda=True\n",
      "MLP Using Cuda\n",
      "hidden_sizes= [90]\n",
      "100%|██████████| 50/50 [01:00<00:00,  1.21s/it]\n",
      "Simulating Surrogate Trajectory: \n",
      " 99%|█████████▉| 198/200 [00:14<00:00, 13.55it/s]\n",
      "Surrogate Cost:  200.0\n",
      "Surrogate Final State:  [ 3.87673810e+00 -2.06750029e-01  3.70591594e+02  1.07253816e+02]\n",
      "Simulating True Dynamics Trajectory\n",
      " 99%|█████████▉| 198/200 [00:14<00:00, 13.24it/s]"
     ]
    },
    {
     "name": "stderr",
     "output_type": "stream",
     "text": [
      "INFO:smac.intensification.intensification.Intensifier:Wallclock time limit for intensification reached (used: 90.113447 sec, available: 0.000010 sec)\n"
     ]
    },
    {
     "name": "stdout",
     "output_type": "stream",
     "text": [
      "\n",
      "True Dynamics Cost:  200.0\n",
      "True Dynamics Final State:  [  2.49629345  -3.0538596  545.48879523 106.90440038]\n",
      "use_cuda=True\n",
      "MLP Using Cuda\n",
      "hidden_sizes= [81, 243, 31, 123]\n",
      "100%|██████████| 50/50 [02:17<00:00,  2.75s/it]\n",
      "Simulating Surrogate Trajectory: \n",
      " 99%|█████████▉| 198/200 [01:39<00:01,  1.99it/s]\n",
      "Surrogate Cost:  200.0\n",
      "Surrogate Final State:  [ 3.12475198  0.0064962  -2.92898321 -0.32058822]\n",
      "Simulating True Dynamics Trajectory\n",
      " 99%|█████████▉| 198/200 [01:37<00:00,  2.03it/s]"
     ]
    },
    {
     "name": "stderr",
     "output_type": "stream",
     "text": [
      "INFO:smac.intensification.intensification.Intensifier:Wallclock time limit for intensification reached (used: 334.477539 sec, available: 0.000010 sec)\n"
     ]
    },
    {
     "name": "stdout",
     "output_type": "stream",
     "text": [
      "\n",
      "True Dynamics Cost:  200.0\n",
      "True Dynamics Final State:  [ 3.14548883 -0.00746816 -3.15606182 -0.32271919]\n",
      "use_cuda=True\n",
      "MLP Using Cuda\n",
      "hidden_sizes= [37, 163, 166]\n",
      "100%|██████████| 50/50 [01:49<00:00,  2.18s/it]\n",
      "Simulating Surrogate Trajectory: \n",
      " 99%|█████████▉| 198/200 [00:20<00:00,  9.53it/s]\n",
      "Surrogate Cost:  200.0\n",
      "Surrogate Final State:  [ 0.80958533 -2.27584949  0.62213762 -2.35685059]\n",
      "Simulating True Dynamics Trajectory\n",
      " 99%|█████████▉| 198/200 [00:18<00:00, 10.56it/s]"
     ]
    },
    {
     "name": "stderr",
     "output_type": "stream",
     "text": [
      "INFO:smac.intensification.intensification.Intensifier:Wallclock time limit for intensification reached (used: 148.704403 sec, available: 0.000010 sec)\n"
     ]
    },
    {
     "name": "stdout",
     "output_type": "stream",
     "text": [
      "\n",
      "True Dynamics Cost:  200.0\n",
      "True Dynamics Final State:  [ 4.64248216 -1.16298015 -0.57326926 -0.20618013]\n",
      "use_cuda=True\n",
      "MLP Using Cuda\n",
      "hidden_sizes= [51, 139, 128, 128]\n",
      "100%|██████████| 50/50 [02:16<00:00,  2.72s/it]\n",
      "Simulating Surrogate Trajectory: \n",
      " 99%|█████████▉| 198/200 [00:24<00:00,  8.04it/s]\n",
      "Surrogate Cost:  58.0\n",
      "Surrogate Final State:  [-0.01871839 -0.00372417  0.0161887   0.02677396]\n",
      "Simulating True Dynamics Trajectory\n",
      " 99%|█████████▉| 198/200 [00:29<00:00,  6.77it/s]"
     ]
    },
    {
     "name": "stderr",
     "output_type": "stream",
     "text": [
      "INFO:smac.intensification.intensification.Intensifier:Challenger (58.0000) is better than incumbent (72.0000) on 1 runs.\n",
      "INFO:smac.intensification.intensification.Intensifier:Changes in incumbent:\n",
      "INFO:smac.intensification.intensification.Intensifier:  _cost:dx_Q : 0.1326794721718123 -> 0.006410343073868711\n",
      "INFO:smac.intensification.intensification.Intensifier:  _cost:omega_F : 0.004946745289925756 -> 0.006019803719227091\n",
      "INFO:smac.intensification.intensification.Intensifier:  _cost:omega_Q : 0.0020741110672169247 -> 0.0011471997104461095\n",
      "INFO:smac.intensification.intensification.Intensifier:  _cost:theta_F : 24.333385810224282 -> 5.1075765249158795\n",
      "INFO:smac.intensification.intensification.Intensifier:  _cost:theta_Q : 0.002053561301933842 -> 0.0019011681848479128\n",
      "INFO:smac.intensification.intensification.Intensifier:  _cost:u_R : 0.0930572040929699 -> 0.022895214099422693\n",
      "INFO:smac.intensification.intensification.Intensifier:  _cost:x_F : 14.330125702369648 -> 48.82861025841821\n",
      "INFO:smac.intensification.intensification.Intensifier:  _cost:x_Q : 5.232991146814948 -> 1.9847353279264541\n",
      "INFO:smac.intensification.intensification.Intensifier:  _ctrlr:horizon : 24 -> 16\n",
      "INFO:smac.intensification.intensification.Intensifier:  _model:hidden_size_1 : 82 -> 51\n",
      "INFO:smac.intensification.intensification.Intensifier:  _model:hidden_size_2 : 144 -> 139\n",
      "INFO:smac.intensification.intensification.Intensifier:  _model:hidden_size_3 : 83 -> 128\n",
      "INFO:smac.intensification.intensification.Intensifier:  _model:hidden_size_4 : None -> 128\n",
      "INFO:smac.intensification.intensification.Intensifier:  _model:n_hidden_layers : '3' -> '4'\n",
      "INFO:smac.intensification.intensification.Intensifier:Wallclock time limit for intensification reached (used: 190.091579 sec, available: 0.000010 sec)\n"
     ]
    },
    {
     "name": "stdout",
     "output_type": "stream",
     "text": [
      "\n",
      "True Dynamics Cost:  65.0\n",
      "True Dynamics Final State:  [-1.13053298e-04 -2.97204196e-04  1.76608960e-01 -1.91574029e-03]\n",
      "use_cuda=True\n",
      "MLP Using Cuda\n",
      "hidden_sizes= [51, 131, 128, 126]\n",
      "100%|██████████| 50/50 [02:17<00:00,  2.74s/it]\n",
      "Simulating Surrogate Trajectory: \n",
      " 99%|█████████▉| 198/200 [00:33<00:00,  5.85it/s]\n",
      "Surrogate Cost:  70.0\n",
      "Surrogate Final State:  [-0.01862601 -0.00396027 -0.18208654  0.02509696]\n",
      "Simulating True Dynamics Trajectory\n",
      " 99%|█████████▉| 198/200 [00:22<00:00,  8.66it/s]"
     ]
    },
    {
     "name": "stderr",
     "output_type": "stream",
     "text": [
      "INFO:smac.intensification.intensification.Intensifier:Wallclock time limit for intensification reached (used: 193.790581 sec, available: 0.000010 sec)\n"
     ]
    },
    {
     "name": "stdout",
     "output_type": "stream",
     "text": [
      "\n",
      "True Dynamics Cost:  62.0\n",
      "True Dynamics Final State:  [-2.37863015e-07  1.43082444e-06 -4.71486185e-02  1.32179702e-06]\n",
      "use_cuda=True\n",
      "MLP Using Cuda\n",
      "hidden_sizes= [51, 139, 109, 128]\n",
      "100%|██████████| 50/50 [02:17<00:00,  2.76s/it]\n",
      "Simulating Surrogate Trajectory: \n",
      " 99%|█████████▉| 198/200 [01:05<00:00,  3.01it/s]\n",
      "Surrogate Cost:  200.0\n",
      "Surrogate Final State:  [ 0.04026846  0.125155   -0.55912026  0.70067025]\n",
      "Simulating True Dynamics Trajectory\n",
      " 99%|█████████▉| 198/200 [00:56<00:00,  3.47it/s]"
     ]
    },
    {
     "name": "stderr",
     "output_type": "stream",
     "text": [
      "INFO:smac.intensification.intensification.Intensifier:Wallclock time limit for intensification reached (used: 260.676246 sec, available: 0.000010 sec)\n"
     ]
    },
    {
     "name": "stdout",
     "output_type": "stream",
     "text": [
      "\n",
      "True Dynamics Cost:  186.0\n",
      "True Dynamics Final State:  [ 0.06465291  0.09117454 -0.3392079   0.68828229]\n",
      "use_cuda=True\n",
      "MLP Using Cuda\n",
      "hidden_sizes= [51, 139, 126, 128]\n",
      "100%|██████████| 50/50 [02:16<00:00,  2.73s/it]\n",
      "Simulating Surrogate Trajectory: \n",
      " 99%|█████████▉| 198/200 [00:45<00:00,  4.37it/s]\n",
      "Surrogate Cost:  198.0\n",
      "Surrogate Final State:  [-0.11563115 -0.9012174  -0.00871974 -1.35078115]\n",
      "Simulating True Dynamics Trajectory\n",
      " 99%|█████████▉| 198/200 [00:34<00:00,  5.69it/s]"
     ]
    },
    {
     "name": "stderr",
     "output_type": "stream",
     "text": [
      "INFO:smac.intensification.intensification.Intensifier:Wallclock time limit for intensification reached (used: 216.491858 sec, available: 0.000010 sec)\n"
     ]
    },
    {
     "name": "stdout",
     "output_type": "stream",
     "text": [
      "\n",
      "True Dynamics Cost:  189.0\n",
      "True Dynamics Final State:  [-0.03165735 -0.41898997  0.01123399 -0.61712296]\n",
      "use_cuda=True\n",
      "MLP Using Cuda\n",
      "hidden_sizes= [51, 151, 128, 130]\n",
      "100%|██████████| 50/50 [02:18<00:00,  2.76s/it]\n",
      "Simulating Surrogate Trajectory: \n",
      " 99%|█████████▉| 198/200 [00:37<00:00,  5.24it/s]\n",
      "Surrogate Cost:  187.0\n",
      "Surrogate Final State:  [-0.01933447 -0.00153058  0.21122463  0.02763586]\n",
      "Simulating True Dynamics Trajectory\n",
      " 99%|█████████▉| 198/200 [00:56<00:00,  3.51it/s]"
     ]
    },
    {
     "name": "stderr",
     "output_type": "stream",
     "text": [
      "INFO:smac.intensification.intensification.Intensifier:Wallclock time limit for intensification reached (used: 232.344787 sec, available: 0.000010 sec)\n"
     ]
    },
    {
     "name": "stdout",
     "output_type": "stream",
     "text": [
      "\n",
      "True Dynamics Cost:  198.0\n",
      "True Dynamics Final State:  [ 0.00078135 -0.00926785  0.36871633 -0.00958755]\n",
      "use_cuda=True\n",
      "MLP Using Cuda\n",
      "hidden_sizes= [46, 139, 137, 141]\n",
      "100%|██████████| 50/50 [02:17<00:00,  2.74s/it]\n",
      "Simulating Surrogate Trajectory: \n",
      " 99%|█████████▉| 198/200 [00:41<00:00,  4.81it/s]\n",
      "Surrogate Cost:  150.0\n",
      "Surrogate Final State:  [ 0.00650336  0.179114   -0.10850981  0.34201899]\n",
      "Simulating True Dynamics Trajectory\n",
      " 99%|█████████▉| 198/200 [00:20<00:00,  9.55it/s]"
     ]
    },
    {
     "name": "stderr",
     "output_type": "stream",
     "text": [
      "INFO:smac.intensification.intensification.Intensifier:Wallclock time limit for intensification reached (used: 198.994432 sec, available: 0.000010 sec)\n"
     ]
    },
    {
     "name": "stdout",
     "output_type": "stream",
     "text": [
      "\n",
      "True Dynamics Cost:  50.0\n",
      "True Dynamics Final State:  [-2.74874819e-05  1.47428969e-04 -1.44082545e-02  1.59061152e-04]\n",
      "use_cuda=True\n",
      "MLP Using Cuda\n",
      "hidden_sizes= [50, 143, 143, 151]\n",
      "100%|██████████| 50/50 [02:12<00:00,  2.66s/it]\n",
      "Simulating Surrogate Trajectory: \n",
      " 99%|█████████▉| 198/200 [00:55<00:00,  3.58it/s]\n",
      "Surrogate Cost:  200.0\n",
      "Surrogate Final State:  [ 3.07911221  0.04984726 -3.23579799 -0.09652529]\n",
      "Simulating True Dynamics Trajectory\n",
      " 99%|█████████▉| 198/200 [00:54<00:00,  3.63it/s]"
     ]
    },
    {
     "name": "stderr",
     "output_type": "stream",
     "text": [
      "INFO:smac.intensification.intensification.Intensifier:Wallclock time limit for intensification reached (used: 242.599253 sec, available: 0.000010 sec)\n"
     ]
    },
    {
     "name": "stdout",
     "output_type": "stream",
     "text": [
      "\n",
      "True Dynamics Cost:  200.0\n",
      "True Dynamics Final State:  [ 3.1043854   0.03621627 -3.24304125 -0.05709896]\n",
      "use_cuda=True\n",
      "MLP Using Cuda\n",
      "hidden_sizes= [190, 256]\n",
      "100%|██████████| 50/50 [01:26<00:00,  1.72s/it]\n",
      "Simulating Surrogate Trajectory: \n",
      " 99%|█████████▉| 198/200 [00:09<00:00, 20.06it/s]\n",
      "Surrogate Cost:  200.0\n",
      "Surrogate Final State:  [ 3.1255265  -0.0115268   0.7332346   0.04377997]\n",
      "Simulating True Dynamics Trajectory\n",
      " 99%|█████████▉| 198/200 [00:09<00:00, 20.51it/s]"
     ]
    },
    {
     "name": "stderr",
     "output_type": "stream",
     "text": [
      "INFO:smac.intensification.intensification.Intensifier:Wallclock time limit for intensification reached (used: 105.668477 sec, available: 0.000010 sec)\n"
     ]
    },
    {
     "name": "stdout",
     "output_type": "stream",
     "text": [
      "\n",
      "True Dynamics Cost:  200.0\n",
      "True Dynamics Final State:  [ 3.14036168 -0.00806784  0.43778037  0.04365623]\n",
      "use_cuda=True\n",
      "MLP Using Cuda\n",
      "hidden_sizes= [25, 143, 95]\n",
      "100%|██████████| 50/50 [01:49<00:00,  2.19s/it]\n",
      "Simulating Surrogate Trajectory: \n",
      " 99%|█████████▉| 198/200 [00:29<00:00,  6.64it/s]\n",
      "Surrogate Cost:  200.0\n",
      "Surrogate Final State:  [ 3.12806286 -0.01235273 -0.61036294 -0.02939763]\n",
      "Simulating True Dynamics Trajectory\n",
      " 99%|█████████▉| 198/200 [00:29<00:00,  6.75it/s]"
     ]
    },
    {
     "name": "stderr",
     "output_type": "stream",
     "text": [
      "INFO:smac.intensification.intensification.Intensifier:Wallclock time limit for intensification reached (used: 168.928005 sec, available: 0.000010 sec)\n"
     ]
    },
    {
     "name": "stdout",
     "output_type": "stream",
     "text": [
      "\n",
      "True Dynamics Cost:  200.0\n",
      "True Dynamics Final State:  [ 3.14158167e+00 -3.03573512e-04 -6.19545684e-01 -2.71595759e-05]\n",
      "use_cuda=True\n",
      "MLP Using Cuda\n",
      "hidden_sizes= [53, 162, 83]\n",
      "100%|██████████| 50/50 [01:49<00:00,  2.19s/it]\n",
      "Simulating Surrogate Trajectory: \n",
      " 99%|█████████▉| 198/200 [01:07<00:00,  2.94it/s]\n",
      "Surrogate Cost:  200.0\n",
      "Surrogate Final State:  [0.18742726 0.14366449 0.49434715 1.73191532]\n",
      "Simulating True Dynamics Trajectory\n",
      " 99%|█████████▉| 198/200 [00:49<00:00,  3.97it/s]"
     ]
    },
    {
     "name": "stderr",
     "output_type": "stream",
     "text": [
      "INFO:smac.intensification.intensification.Intensifier:Wallclock time limit for intensification reached (used: 226.979769 sec, available: 0.000010 sec)\n"
     ]
    },
    {
     "name": "stdout",
     "output_type": "stream",
     "text": [
      "\n",
      "True Dynamics Cost:  200.0\n",
      "True Dynamics Final State:  [-3.96837852  0.39601685  1.91520252 -0.31044748]\n",
      "use_cuda=True\n",
      "MLP Using Cuda\n",
      "hidden_sizes= [54, 115, 137]\n",
      "100%|██████████| 50/50 [01:48<00:00,  2.16s/it]\n",
      "Simulating Surrogate Trajectory: \n",
      " 99%|█████████▉| 198/200 [00:23<00:00,  8.44it/s]\n",
      "Surrogate Cost:  200.0\n",
      "Surrogate Final State:  [ 0.00328715  2.11262104 -0.73572312 -1.41832632]\n",
      "Simulating True Dynamics Trajectory\n",
      " 99%|█████████▉| 198/200 [00:27<00:00,  7.14it/s]"
     ]
    },
    {
     "name": "stderr",
     "output_type": "stream",
     "text": [
      "INFO:smac.intensification.intensification.Intensifier:Wallclock time limit for intensification reached (used: 159.274838 sec, available: 0.000010 sec)\n"
     ]
    },
    {
     "name": "stdout",
     "output_type": "stream",
     "text": [
      "\n",
      "True Dynamics Cost:  200.0\n",
      "True Dynamics Final State:  [-0.58776112  2.52743703 -0.99059694 -2.44531726]\n",
      "use_cuda=True\n",
      "MLP Using Cuda\n",
      "hidden_sizes= [53, 186, 175, 128]\n",
      "100%|██████████| 50/50 [02:16<00:00,  2.73s/it]\n",
      "Simulating Surrogate Trajectory: \n",
      " 99%|█████████▉| 198/200 [00:44<00:00,  4.42it/s]\n",
      "Surrogate Cost:  117.0\n",
      "Surrogate Final State:  [-0.01879753 -0.00384083 -0.09839956  0.02452559]\n",
      "Simulating True Dynamics Trajectory\n",
      " 99%|█████████▉| 198/200 [01:02<00:00,  3.15it/s]"
     ]
    },
    {
     "name": "stderr",
     "output_type": "stream",
     "text": [
      "INFO:smac.intensification.intensification.Intensifier:Wallclock time limit for intensification reached (used: 244.476347 sec, available: 0.000010 sec)\n"
     ]
    },
    {
     "name": "stdout",
     "output_type": "stream",
     "text": [
      "\n",
      "True Dynamics Cost:  200.0\n",
      "True Dynamics Final State:  [-3.64424622 -1.82874059  1.45545479 -0.26445393]\n",
      "use_cuda=True\n",
      "MLP Using Cuda\n",
      "hidden_sizes= [56, 135, 169, 101]\n",
      "100%|██████████| 50/50 [02:12<00:00,  2.66s/it]\n",
      "Simulating Surrogate Trajectory: \n",
      " 99%|█████████▉| 198/200 [00:31<00:00,  6.20it/s]\n",
      "Surrogate Cost:  76.0\n",
      "Surrogate Final State:  [-0.01868549 -0.0039819  -0.09553971  0.02523364]\n",
      "Simulating True Dynamics Trajectory\n",
      " 99%|█████████▉| 198/200 [00:42<00:00,  4.62it/s]"
     ]
    },
    {
     "name": "stderr",
     "output_type": "stream",
     "text": [
      "INFO:smac.intensification.intensification.Intensifier:Wallclock time limit for intensification reached (used: 207.834407 sec, available: 0.000010 sec)\n"
     ]
    },
    {
     "name": "stdout",
     "output_type": "stream",
     "text": [
      "\n",
      "True Dynamics Cost:  100.0\n",
      "True Dynamics Final State:  [-4.57490757e-05  2.11754246e-04  8.65113808e-02  3.09564448e-04]\n",
      "use_cuda=True\n",
      "MLP Using Cuda\n",
      "hidden_sizes= [73, 132, 119, 130]\n",
      "100%|██████████| 50/50 [02:17<00:00,  2.74s/it]\n",
      "Simulating Surrogate Trajectory: \n",
      " 99%|█████████▉| 198/200 [00:43<00:00,  4.54it/s]\n",
      "Surrogate Cost:  45.0\n",
      "Surrogate Final State:  [-0.01813308 -0.00354091 -0.08705802  0.02328608]\n",
      "Simulating True Dynamics Trajectory\n",
      " 99%|█████████▉| 198/200 [00:44<00:00,  4.50it/s]"
     ]
    },
    {
     "name": "stderr",
     "output_type": "stream",
     "text": [
      "INFO:smac.intensification.intensification.Intensifier:Challenger (45.0000) is better than incumbent (58.0000) on 1 runs.\n",
      "INFO:smac.intensification.intensification.Intensifier:Changes in incumbent:\n",
      "INFO:smac.intensification.intensification.Intensifier:  _cost:dx_F : 805.8421877614824 -> 2075.0627121841476\n",
      "INFO:smac.intensification.intensification.Intensifier:  _cost:omega_F : 0.006019803719227091 -> 0.00703401540260917\n",
      "INFO:smac.intensification.intensification.Intensifier:  _cost:omega_Q : 0.0011471997104461095 -> 0.0010268426557017319\n",
      "INFO:smac.intensification.intensification.Intensifier:  _cost:theta_F : 5.1075765249158795 -> 36.567015327488626\n",
      "INFO:smac.intensification.intensification.Intensifier:  _cost:theta_Q : 0.0019011681848479128 -> 0.0018564162625974948\n",
      "INFO:smac.intensification.intensification.Intensifier:  _cost:u_R : 0.022895214099422693 -> 0.0014327989984304589\n",
      "INFO:smac.intensification.intensification.Intensifier:  _cost:x_F : 48.82861025841821 -> 161.71242320329628\n",
      "INFO:smac.intensification.intensification.Intensifier:  _cost:x_Q : 1.9847353279264541 -> 1.8588590493983284\n",
      "INFO:smac.intensification.intensification.Intensifier:  _ctrlr:horizon : 16 -> 23\n",
      "INFO:smac.intensification.intensification.Intensifier:  _model:hidden_size_1 : 51 -> 73\n",
      "INFO:smac.intensification.intensification.Intensifier:  _model:hidden_size_2 : 139 -> 132\n",
      "INFO:smac.intensification.intensification.Intensifier:  _model:hidden_size_3 : 128 -> 119\n",
      "INFO:smac.intensification.intensification.Intensifier:  _model:hidden_size_4 : 128 -> 130\n",
      "INFO:smac.intensification.intensification.Intensifier:  _model:lr : 2.942727176209284e-05 -> 3.713969252930982e-05\n",
      "INFO:smac.intensification.intensification.Intensifier:Wallclock time limit for intensification reached (used: 224.888804 sec, available: 0.000010 sec)\n"
     ]
    },
    {
     "name": "stdout",
     "output_type": "stream",
     "text": [
      "\n",
      "True Dynamics Cost:  56.0\n",
      "True Dynamics Final State:  [0.0003928  0.00044513 0.03166284 0.00069103]\n",
      "use_cuda=True\n",
      "MLP Using Cuda\n",
      "hidden_sizes= [35, 104, 122, 145]\n",
      "100%|██████████| 50/50 [02:14<00:00,  2.70s/it]\n",
      "Simulating Surrogate Trajectory: \n",
      " 99%|█████████▉| 198/200 [00:34<00:00,  5.78it/s]\n",
      "Surrogate Cost:  200.0\n",
      "Surrogate Final State:  [ 1.24701429  4.40334852 -1.4597924  -0.09173999]\n",
      "Simulating True Dynamics Trajectory\n",
      " 99%|█████████▉| 198/200 [00:32<00:00,  6.05it/s]"
     ]
    },
    {
     "name": "stderr",
     "output_type": "stream",
     "text": [
      "INFO:smac.intensification.intensification.Intensifier:Wallclock time limit for intensification reached (used: 201.828108 sec, available: 0.000010 sec)\n"
     ]
    },
    {
     "name": "stdout",
     "output_type": "stream",
     "text": [
      "\n",
      "True Dynamics Cost:  200.0\n",
      "True Dynamics Final State:  [ 3.58548761 -0.45497529 -2.11846399  0.62542019]\n",
      "use_cuda=True\n",
      "MLP Using Cuda\n",
      "hidden_sizes= [56, 137]\n",
      "100%|██████████| 50/50 [01:26<00:00,  1.72s/it]\n",
      "Simulating Surrogate Trajectory: \n",
      " 99%|█████████▉| 198/200 [00:34<00:00,  5.67it/s]\n",
      "Surrogate Cost:  198.0\n",
      "Surrogate Final State:  [-2.51072255 -5.08871733  0.92621208  1.13389123]\n",
      "Simulating True Dynamics Trajectory\n",
      " 99%|█████████▉| 198/200 [00:33<00:00,  5.91it/s]"
     ]
    },
    {
     "name": "stderr",
     "output_type": "stream",
     "text": [
      "INFO:smac.intensification.intensification.Intensifier:Wallclock time limit for intensification reached (used: 154.442816 sec, available: 0.000010 sec)\n"
     ]
    },
    {
     "name": "stdout",
     "output_type": "stream",
     "text": [
      "\n",
      "True Dynamics Cost:  200.0\n",
      "True Dynamics Final State:  [-4.41559494  1.28213129  1.04485501  0.23362838]\n",
      "use_cuda=True\n",
      "MLP Using Cuda\n",
      "hidden_sizes= [95, 128, 76, 133]\n",
      "100%|██████████| 50/50 [02:13<00:00,  2.67s/it]\n",
      "Simulating Surrogate Trajectory: \n",
      " 99%|█████████▉| 198/200 [00:32<00:00,  6.17it/s]\n",
      "Surrogate Cost:  198.0\n",
      "Surrogate Final State:  [ 1.20162579  1.68535152  0.67511793 -3.13494727]\n",
      "Simulating True Dynamics Trajectory\n",
      " 99%|█████████▉| 198/200 [00:30<00:00,  6.50it/s]"
     ]
    },
    {
     "name": "stderr",
     "output_type": "stream",
     "text": [
      "INFO:smac.intensification.intensification.Intensifier:Wallclock time limit for intensification reached (used: 195.909059 sec, available: 0.000010 sec)\n"
     ]
    },
    {
     "name": "stdout",
     "output_type": "stream",
     "text": [
      "\n",
      "True Dynamics Cost:  200.0\n",
      "True Dynamics Final State:  [ 3.22800392 -4.18605136 -1.5705218   4.18158723]\n",
      "use_cuda=True\n",
      "MLP Using Cuda\n",
      "hidden_sizes= [50, 127, 128, 128]\n",
      "100%|██████████| 50/50 [02:16<00:00,  2.73s/it]\n",
      "Simulating Surrogate Trajectory: \n",
      " 99%|█████████▉| 198/200 [01:20<00:00,  2.47it/s]\n",
      "Surrogate Cost:  175.0\n",
      "Surrogate Final State:  [-0.01399309  0.04175126 -0.19770632  0.08159455]\n",
      "Simulating True Dynamics Trajectory\n",
      " 99%|█████████▉| 198/200 [01:01<00:00,  3.19it/s]"
     ]
    },
    {
     "name": "stderr",
     "output_type": "stream",
     "text": [
      "INFO:smac.intensification.intensification.Intensifier:Wallclock time limit for intensification reached (used: 278.876109 sec, available: 0.000010 sec)\n"
     ]
    },
    {
     "name": "stdout",
     "output_type": "stream",
     "text": [
      "\n",
      "True Dynamics Cost:  69.0\n",
      "True Dynamics Final State:  [ 0.00388244  0.01002438 -0.06032394  0.00936177]\n",
      "use_cuda=True\n",
      "MLP Using Cuda\n",
      "hidden_sizes= [70, 121, 169, 131]\n",
      "100%|██████████| 50/50 [02:17<00:00,  2.75s/it]\n",
      "Simulating Surrogate Trajectory: \n",
      " 99%|█████████▉| 198/200 [00:54<00:00,  3.66it/s]\n",
      "Surrogate Cost:  200.0\n",
      "Surrogate Final State:  [-0.02413009 -0.30677721 -0.44627716 -0.64294788]\n",
      "Simulating True Dynamics Trajectory\n",
      " 99%|█████████▉| 198/200 [00:51<00:00,  3.84it/s]"
     ]
    },
    {
     "name": "stderr",
     "output_type": "stream",
     "text": [
      "INFO:smac.intensification.intensification.Intensifier:Wallclock time limit for intensification reached (used: 243.381851 sec, available: 0.000010 sec)\n"
     ]
    },
    {
     "name": "stdout",
     "output_type": "stream",
     "text": [
      "\n",
      "True Dynamics Cost:  161.0\n",
      "True Dynamics Final State:  [ 0.01734448 -0.23564317 -0.22503122 -0.54959028]\n",
      "use_cuda=True\n",
      "MLP Using Cuda\n",
      "hidden_sizes= [73, 139, 119, 130]\n",
      "100%|██████████| 50/50 [02:17<00:00,  2.74s/it]\n",
      "Simulating Surrogate Trajectory: \n",
      " 99%|█████████▉| 198/200 [01:39<00:01,  1.99it/s]\n",
      "Surrogate Cost:  194.0\n",
      "Surrogate Final State:  [ 0.02987495  0.15640035 -0.32032849  0.16051453]\n",
      "Simulating True Dynamics Trajectory\n",
      " 99%|█████████▉| 198/200 [01:08<00:00,  2.90it/s]"
     ]
    },
    {
     "name": "stderr",
     "output_type": "stream",
     "text": [
      "INFO:smac.intensification.intensification.Intensifier:Wallclock time limit for intensification reached (used: 304.557584 sec, available: 0.000010 sec)\n"
     ]
    },
    {
     "name": "stdout",
     "output_type": "stream",
     "text": [
      "\n",
      "True Dynamics Cost:  200.0\n",
      "True Dynamics Final State:  [ 0.13117614 -0.61873915 -0.32116119 -0.96874648]\n",
      "use_cuda=True\n",
      "MLP Using Cuda\n",
      "hidden_sizes= [162, 135]\n",
      "100%|██████████| 50/50 [01:26<00:00,  1.73s/it]\n",
      "Simulating Surrogate Trajectory: \n",
      " 99%|█████████▉| 198/200 [00:07<00:00, 26.48it/s]\n",
      "Surrogate Cost:  200.0\n",
      "Surrogate Final State:  [ 3.12925296 -0.00904759  0.56591886 -0.00629635]\n",
      "Simulating True Dynamics Trajectory\n",
      " 99%|█████████▉| 198/200 [00:07<00:00, 27.17it/s]"
     ]
    },
    {
     "name": "stderr",
     "output_type": "stream",
     "text": [
      "INFO:smac.intensification.intensification.Intensifier:Wallclock time limit for intensification reached (used: 101.445788 sec, available: 0.000010 sec)\n"
     ]
    },
    {
     "name": "stdout",
     "output_type": "stream",
     "text": [
      "\n",
      "True Dynamics Cost:  200.0\n",
      "True Dynamics Final State:  [3.14192729e+00 8.96697441e-04 3.82670724e-01 2.86096584e-02]\n",
      "use_cuda=True\n",
      "MLP Using Cuda\n",
      "hidden_sizes= [65, 131, 120, 127]\n",
      "100%|██████████| 50/50 [02:16<00:00,  2.74s/it]\n",
      "Simulating Surrogate Trajectory: \n",
      " 99%|█████████▉| 198/200 [00:34<00:00,  5.73it/s]\n",
      "Surrogate Cost:  48.0\n",
      "Surrogate Final State:  [-0.01865453 -0.00398191 -0.12418989  0.02519001]\n",
      "Simulating True Dynamics Trajectory\n",
      " 99%|█████████▉| 198/200 [00:21<00:00,  9.42it/s]"
     ]
    },
    {
     "name": "stderr",
     "output_type": "stream",
     "text": [
      "INFO:smac.intensification.intensification.Intensifier:Wallclock time limit for intensification reached (used: 192.368259 sec, available: 0.000010 sec)\n"
     ]
    },
    {
     "name": "stdout",
     "output_type": "stream",
     "text": [
      "\n",
      "True Dynamics Cost:  54.0\n",
      "True Dynamics Final State:  [1.55195579e-07 1.29732600e-07 6.12387742e-03 1.23125511e-06]\n",
      "use_cuda=True\n",
      "MLP Using Cuda\n",
      "hidden_sizes= [73, 133, 117, 130]\n",
      "100%|██████████| 50/50 [02:18<00:00,  2.77s/it]\n",
      "Simulating Surrogate Trajectory: \n",
      " 99%|█████████▉| 198/200 [00:30<00:00,  6.58it/s]\n",
      "Surrogate Cost:  114.0\n",
      "Surrogate Final State:  [-0.01872648 -0.00399527 -0.03238755  0.02541058]\n",
      "Simulating True Dynamics Trajectory\n",
      " 99%|█████████▉| 198/200 [01:00<00:00,  3.27it/s]"
     ]
    },
    {
     "name": "stderr",
     "output_type": "stream",
     "text": [
      "INFO:smac.intensification.intensification.Intensifier:Wallclock time limit for intensification reached (used: 229.029473 sec, available: 0.000010 sec)\n"
     ]
    },
    {
     "name": "stdout",
     "output_type": "stream",
     "text": [
      "\n",
      "True Dynamics Cost:  73.0\n",
      "True Dynamics Final State:  [-0.00182124 -0.00477866  0.11386018 -0.00631891]\n",
      "use_cuda=True\n",
      "MLP Using Cuda\n",
      "hidden_sizes= [204, 44]\n",
      "100%|██████████| 50/50 [01:26<00:00,  1.72s/it]\n",
      "Simulating Surrogate Trajectory: \n",
      " 99%|█████████▉| 198/200 [00:07<00:00, 26.62it/s]\n",
      "Surrogate Cost:  200.0\n",
      "Surrogate Final State:  [ 3.12680534e+00 -5.40192778e-03  9.11139509e+00  1.42026788e+00]\n",
      "Simulating True Dynamics Trajectory\n",
      " 99%|█████████▉| 198/200 [00:07<00:00, 26.61it/s]"
     ]
    },
    {
     "name": "stderr",
     "output_type": "stream",
     "text": [
      "INFO:smac.intensification.intensification.Intensifier:Wallclock time limit for intensification reached (used: 101.021416 sec, available: 0.000010 sec)\n"
     ]
    },
    {
     "name": "stdout",
     "output_type": "stream",
     "text": [
      "\n",
      "True Dynamics Cost:  200.0\n",
      "True Dynamics Final State:  [3.13811683e+00 2.80265405e-03 8.40836051e+00 1.37230172e+00]\n",
      "use_cuda=True\n",
      "MLP Using Cuda\n",
      "hidden_sizes= [236]\n",
      "100%|██████████| 50/50 [01:03<00:00,  1.27s/it]\n",
      "Simulating Surrogate Trajectory: \n",
      " 99%|█████████▉| 198/200 [00:40<00:00,  4.83it/s]\n",
      "Surrogate Cost:  200.0\n",
      "Surrogate Final State:  [ 3.42800711 -2.02998993  7.12732521 -0.33356131]\n",
      "Simulating True Dynamics Trajectory\n",
      " 99%|█████████▉| 198/200 [00:38<00:00,  5.08it/s]"
     ]
    },
    {
     "name": "stderr",
     "output_type": "stream",
     "text": [
      "INFO:smac.intensification.intensification.Intensifier:Wallclock time limit for intensification reached (used: 143.248001 sec, available: 0.000010 sec)\n"
     ]
    },
    {
     "name": "stdout",
     "output_type": "stream",
     "text": [
      "\n",
      "True Dynamics Cost:  200.0\n",
      "True Dynamics Final State:  [ 3.61587665 -1.19353099  6.50148679 -0.44023449]\n",
      "use_cuda=True\n",
      "MLP Using Cuda\n",
      "hidden_sizes= [51, 133, 164, 127]\n",
      "100%|██████████| 50/50 [02:15<00:00,  2.70s/it]\n",
      "Simulating Surrogate Trajectory: \n",
      " 99%|█████████▉| 198/200 [00:36<00:00,  5.39it/s]\n",
      "Surrogate Cost:  190.0\n",
      "Surrogate Final State:  [-0.01668103 -0.01044635 -0.26544645  0.01969357]\n",
      "Simulating True Dynamics Trajectory\n",
      " 99%|█████████▉| 198/200 [00:31<00:00,  6.27it/s]"
     ]
    },
    {
     "name": "stderr",
     "output_type": "stream",
     "text": [
      "INFO:smac.intensification.intensification.Intensifier:Wallclock time limit for intensification reached (used: 203.361271 sec, available: 0.000010 sec)\n"
     ]
    },
    {
     "name": "stdout",
     "output_type": "stream",
     "text": [
      "\n",
      "True Dynamics Cost:  73.0\n",
      "True Dynamics Final State:  [-8.73820237e-05 -3.80975975e-03 -8.24189878e-02 -8.17439046e-03]\n",
      "use_cuda=True\n",
      "MLP Using Cuda\n",
      "hidden_sizes= [55, 132, 134, 130]\n",
      "100%|██████████| 50/50 [02:15<00:00,  2.72s/it]\n",
      "Simulating Surrogate Trajectory: \n",
      " 99%|█████████▉| 198/200 [00:50<00:00,  3.94it/s]\n",
      "Surrogate Cost:  192.0\n",
      "Surrogate Final State:  [-0.01843847 -0.0048908  -0.3241215   0.02376576]\n",
      "Simulating True Dynamics Trajectory\n",
      " 99%|█████████▉| 198/200 [00:38<00:00,  5.18it/s]"
     ]
    },
    {
     "name": "stderr",
     "output_type": "stream",
     "text": [
      "INFO:smac.intensification.intensification.Intensifier:Wallclock time limit for intensification reached (used: 224.441326 sec, available: 0.000010 sec)\n"
     ]
    },
    {
     "name": "stdout",
     "output_type": "stream",
     "text": [
      "\n",
      "True Dynamics Cost:  50.0\n",
      "True Dynamics Final State:  [ 2.11702440e-05  1.74078479e-03 -1.52721383e-01  1.85200424e-03]\n",
      "use_cuda=True\n",
      "MLP Using Cuda\n",
      "hidden_sizes= [73, 143, 119, 130]\n",
      "100%|██████████| 50/50 [02:16<00:00,  2.73s/it]\n",
      "Simulating Surrogate Trajectory: \n",
      " 99%|█████████▉| 198/200 [01:26<00:00,  2.28it/s]\n",
      "Surrogate Cost:  187.0\n",
      "Surrogate Final State:  [ 0.04633551  0.20947679 -0.23342462  0.29139192]\n",
      "Simulating True Dynamics Trajectory\n",
      " 99%|█████████▉| 198/200 [01:34<00:00,  2.10it/s]"
     ]
    },
    {
     "name": "stderr",
     "output_type": "stream",
     "text": [
      "INFO:smac.intensification.intensification.Intensifier:Wallclock time limit for intensification reached (used: 318.057679 sec, available: 0.000010 sec)\n"
     ]
    },
    {
     "name": "stdout",
     "output_type": "stream",
     "text": [
      "\n",
      "True Dynamics Cost:  185.0\n",
      "True Dynamics Final State:  [-0.0007981  -0.05315195 -0.22277789 -0.04625467]\n",
      "use_cuda=True\n",
      "MLP Using Cuda\n",
      "hidden_sizes= [56, 173]\n",
      "100%|██████████| 50/50 [01:26<00:00,  1.73s/it]\n",
      "Simulating Surrogate Trajectory: \n",
      " 99%|█████████▉| 198/200 [00:35<00:00,  5.55it/s]\n",
      "Surrogate Cost:  200.0\n",
      "Surrogate Final State:  [ 2.49081279  1.1754729  -0.65797939  4.13325001]\n",
      "Simulating True Dynamics Trajectory\n",
      " 99%|█████████▉| 198/200 [00:30<00:00,  6.39it/s]"
     ]
    },
    {
     "name": "stderr",
     "output_type": "stream",
     "text": [
      "INFO:smac.intensification.intensification.Intensifier:Wallclock time limit for intensification reached (used: 153.275553 sec, available: 0.000010 sec)\n"
     ]
    },
    {
     "name": "stdout",
     "output_type": "stream",
     "text": [
      "\n",
      "True Dynamics Cost:  200.0\n",
      "True Dynamics Final State:  [ 2.17827266 -0.30909331 -4.69279108  3.89230474]\n",
      "use_cuda=True\n",
      "MLP Using Cuda\n",
      "hidden_sizes= [73, 132, 119, 130]\n",
      "100%|██████████| 50/50 [02:18<00:00,  2.76s/it]\n",
      "Simulating Surrogate Trajectory: \n",
      " 99%|█████████▉| 198/200 [00:36<00:00,  5.45it/s]\n",
      "Surrogate Cost:  45.0\n",
      "Surrogate Final State:  [-0.01898756  0.01055558 -0.09233515  0.0398173 ]\n",
      "Simulating True Dynamics Trajectory\n",
      " 99%|█████████▉| 198/200 [00:42<00:00,  4.67it/s]"
     ]
    },
    {
     "name": "stderr",
     "output_type": "stream",
     "text": [
      "INFO:smac.intensification.intensification.Intensifier:Wallclock time limit for intensification reached (used: 216.957086 sec, available: 0.000010 sec)\n"
     ]
    },
    {
     "name": "stdout",
     "output_type": "stream",
     "text": [
      "\n",
      "True Dynamics Cost:  51.0\n",
      "True Dynamics Final State:  [ 0.00088955 -0.00220559  0.0254322  -0.00064048]\n",
      "use_cuda=True\n",
      "MLP Using Cuda\n",
      "hidden_sizes= [161, 98, 184]\n",
      "100%|██████████| 50/50 [01:49<00:00,  2.19s/it]\n",
      "Simulating Surrogate Trajectory: \n",
      " 99%|█████████▉| 198/200 [00:08<00:00, 22.39it/s]\n",
      "Surrogate Cost:  200.0\n",
      "Surrogate Final State:  [3.16603382 0.03852748 0.69406915 0.56557002]\n",
      "Simulating True Dynamics Trajectory\n",
      " 99%|█████████▉| 198/200 [00:09<00:00, 20.20it/s]"
     ]
    },
    {
     "name": "stderr",
     "output_type": "stream",
     "text": [
      "INFO:smac.intensification.intensification.Intensifier:Wallclock time limit for intensification reached (used: 128.367402 sec, available: 0.000010 sec)\n"
     ]
    },
    {
     "name": "stdout",
     "output_type": "stream",
     "text": [
      "\n",
      "True Dynamics Cost:  200.0\n",
      "True Dynamics Final State:  [3.15267211 0.08054532 0.69136161 1.1657678 ]\n",
      "use_cuda=True\n",
      "MLP Using Cuda\n",
      "hidden_sizes= [109, 132, 128, 138]\n",
      "100%|██████████| 50/50 [02:16<00:00,  2.73s/it]\n",
      "Simulating Surrogate Trajectory: \n",
      " 99%|█████████▉| 198/200 [00:39<00:00,  4.97it/s]\n",
      "Surrogate Cost:  42.0\n",
      "Surrogate Final State:  [-0.02073744  0.00179241 -0.08899227  0.0252774 ]\n",
      "Simulating True Dynamics Trajectory\n",
      " 99%|█████████▉| 198/200 [00:35<00:00,  5.54it/s]"
     ]
    },
    {
     "name": "stderr",
     "output_type": "stream",
     "text": [
      "INFO:smac.intensification.intensification.Intensifier:Challenger (42.0000) is better than incumbent (45.0000) on 1 runs.\n",
      "INFO:smac.intensification.intensification.Intensifier:Changes in incumbent:\n",
      "INFO:smac.intensification.intensification.Intensifier:  _cost:dx_Q : 0.006410343073868711 -> 0.003439168248164087\n",
      "INFO:smac.intensification.intensification.Intensifier:  _cost:omega_F : 0.00703401540260917 -> 0.08071656763578268\n",
      "INFO:smac.intensification.intensification.Intensifier:  _cost:theta_F : 36.567015327488626 -> 45.06342259785199\n",
      "INFO:smac.intensification.intensification.Intensifier:  _cost:theta_Q : 0.0018564162625974948 -> 0.0012463252411725472\n",
      "INFO:smac.intensification.intensification.Intensifier:  _cost:u_R : 0.0014327989984304589 -> 0.001248911825626729\n",
      "INFO:smac.intensification.intensification.Intensifier:  _cost:x_F : 161.71242320329628 -> 312.61198268322227\n",
      "INFO:smac.intensification.intensification.Intensifier:  _ctrlr:horizon : 23 -> 14\n",
      "INFO:smac.intensification.intensification.Intensifier:  _model:hidden_size_1 : 73 -> 109\n",
      "INFO:smac.intensification.intensification.Intensifier:  _model:hidden_size_3 : 119 -> 128\n",
      "INFO:smac.intensification.intensification.Intensifier:  _model:hidden_size_4 : 130 -> 138\n",
      "INFO:smac.intensification.intensification.Intensifier:  _model:lr : 3.713969252930982e-05 -> 3.9574870509555896e-05\n",
      "INFO:smac.intensification.intensification.Intensifier:Wallclock time limit for intensification reached (used: 212.279233 sec, available: 0.000010 sec)\n"
     ]
    },
    {
     "name": "stdout",
     "output_type": "stream",
     "text": [
      "\n",
      "True Dynamics Cost:  40.0\n",
      "True Dynamics Final State:  [-5.12304021e-06  1.18560318e-02  6.05147106e-02  1.25783077e-02]\n",
      "use_cuda=True\n",
      "MLP Using Cuda\n",
      "hidden_sizes= [77, 132, 140, 130]\n",
      "100%|██████████| 50/50 [02:12<00:00,  2.64s/it]\n",
      "Simulating Surrogate Trajectory: \n",
      " 99%|█████████▉| 198/200 [00:58<00:00,  3.37it/s]\n",
      "Surrogate Cost:  78.0\n",
      "Surrogate Final State:  [-0.01654122 -0.00337999 -0.04068245  0.02945423]\n",
      "Simulating True Dynamics Trajectory\n",
      " 99%|█████████▉| 198/200 [00:55<00:00,  3.54it/s]"
     ]
    },
    {
     "name": "stderr",
     "output_type": "stream",
     "text": [
      "INFO:smac.intensification.intensification.Intensifier:Wallclock time limit for intensification reached (used: 246.838916 sec, available: 0.000010 sec)\n"
     ]
    },
    {
     "name": "stdout",
     "output_type": "stream",
     "text": [
      "\n",
      "True Dynamics Cost:  200.0\n",
      "True Dynamics Final State:  [ 0.46915668 -1.99336022  8.09216577  1.90194084]\n",
      "use_cuda=True\n",
      "MLP Using Cuda\n",
      "hidden_sizes= [91, 131, 153, 147]\n",
      "100%|██████████| 50/50 [02:16<00:00,  2.72s/it]\n",
      "Simulating Surrogate Trajectory: \n",
      " 99%|█████████▉| 198/200 [00:34<00:00,  5.76it/s]\n",
      "Surrogate Cost:  200.0\n",
      "Surrogate Final State:  [-0.30100101 -2.14474028  0.89715349 -0.22571035]\n",
      "Simulating True Dynamics Trajectory\n",
      " 99%|█████████▉| 198/200 [01:52<00:01,  1.76it/s]"
     ]
    },
    {
     "name": "stderr",
     "output_type": "stream",
     "text": [
      "INFO:smac.intensification.intensification.Intensifier:Wallclock time limit for intensification reached (used: 283.353683 sec, available: 0.000010 sec)\n"
     ]
    },
    {
     "name": "stdout",
     "output_type": "stream",
     "text": [
      "\n",
      "True Dynamics Cost:  200.0\n",
      "True Dynamics Final State:  [ 0.05522992 -0.74855905  0.46431583 -0.74158994]\n",
      "use_cuda=True\n",
      "MLP Using Cuda\n",
      "hidden_sizes= [91, 128, 128, 165]\n",
      "100%|██████████| 50/50 [02:16<00:00,  2.73s/it]\n",
      "Simulating Surrogate Trajectory: \n",
      " 99%|█████████▉| 198/200 [00:58<00:00,  3.40it/s]\n",
      "Surrogate Cost:  152.0\n",
      "Surrogate Final State:  [0.10558989 0.4721651  0.51819519 0.65627481]\n",
      "Simulating True Dynamics Trajectory\n",
      " 99%|█████████▉| 198/200 [00:40<00:00,  4.92it/s]"
     ]
    },
    {
     "name": "stderr",
     "output_type": "stream",
     "text": [
      "INFO:smac.intensification.intensification.Intensifier:Wallclock time limit for intensification reached (used: 234.754886 sec, available: 0.000010 sec)\n"
     ]
    },
    {
     "name": "stdout",
     "output_type": "stream",
     "text": [
      "\n",
      "True Dynamics Cost:  196.0\n",
      "True Dynamics Final State:  [-1.36979033  0.72768905 -1.81305865 -2.37468793]\n",
      "use_cuda=True\n",
      "MLP Using Cuda\n",
      "hidden_sizes= [133]\n",
      "100%|██████████| 50/50 [00:59<00:00,  1.19s/it]\n",
      "Simulating Surrogate Trajectory: \n",
      " 99%|█████████▉| 198/200 [00:34<00:00,  5.72it/s]\n",
      "Surrogate Cost:  175.0\n",
      "Surrogate Final State:  [ 2.73689801 -6.35670297 -0.87525662  2.94954641]\n",
      "Simulating True Dynamics Trajectory\n",
      " 99%|█████████▉| 198/200 [00:31<00:00,  6.27it/s]"
     ]
    },
    {
     "name": "stderr",
     "output_type": "stream",
     "text": [
      "INFO:smac.intensification.intensification.Intensifier:Wallclock time limit for intensification reached (used: 125.771373 sec, available: 0.000010 sec)\n"
     ]
    },
    {
     "name": "stdout",
     "output_type": "stream",
     "text": [
      "\n",
      "True Dynamics Cost:  200.0\n",
      "True Dynamics Final State:  [-2.01238085  6.04712677  0.87458367 -3.95686615]\n",
      "use_cuda=True\n",
      "MLP Using Cuda\n",
      "hidden_sizes= [73, 132, 128, 160]\n",
      "100%|██████████| 50/50 [02:16<00:00,  2.73s/it]\n",
      "Simulating Surrogate Trajectory: \n",
      " 99%|█████████▉| 198/200 [01:01<00:00,  3.20it/s]\n",
      "Surrogate Cost:  200.0\n",
      "Surrogate Final State:  [-12.41318776  -3.31636665   1.38954645   6.89865059]\n",
      "Simulating True Dynamics Trajectory\n",
      " 99%|█████████▉| 198/200 [00:56<00:00,  3.50it/s]"
     ]
    },
    {
     "name": "stderr",
     "output_type": "stream",
     "text": [
      "INFO:smac.intensification.intensification.Intensifier:Wallclock time limit for intensification reached (used: 255.047366 sec, available: 0.000010 sec)\n"
     ]
    },
    {
     "name": "stdout",
     "output_type": "stream",
     "text": [
      "\n",
      "True Dynamics Cost:  200.0\n",
      "True Dynamics Final State:  [-15.52004807  -0.05159444   3.91547261  -1.47462847]\n",
      "use_cuda=True\n",
      "MLP Using Cuda\n",
      "hidden_sizes= [133, 128, 128, 128]\n",
      "100%|██████████| 50/50 [02:16<00:00,  2.74s/it]\n",
      "Simulating Surrogate Trajectory: \n",
      " 99%|█████████▉| 198/200 [00:40<00:00,  4.87it/s]\n",
      "Surrogate Cost:  200.0\n",
      "Surrogate Final State:  [-0.01208994 -0.31785518  0.90452074 -0.88351032]\n",
      "Simulating True Dynamics Trajectory\n",
      " 99%|█████████▉| 198/200 [01:50<00:01,  1.80it/s]"
     ]
    },
    {
     "name": "stderr",
     "output_type": "stream",
     "text": [
      "INFO:smac.intensification.intensification.Intensifier:Wallclock time limit for intensification reached (used: 287.789576 sec, available: 0.000010 sec)\n"
     ]
    },
    {
     "name": "stdout",
     "output_type": "stream",
     "text": [
      "\n",
      "True Dynamics Cost:  137.0\n",
      "True Dynamics Final State:  [ 0.02157427 -0.25860766  0.20707655 -0.24773568]\n",
      "use_cuda=True\n",
      "MLP Using Cuda\n",
      "hidden_sizes= [72, 132, 119, 130]\n",
      "100%|██████████| 50/50 [02:15<00:00,  2.71s/it]\n",
      "Simulating Surrogate Trajectory: \n",
      " 99%|█████████▉| 198/200 [00:50<00:00,  3.93it/s]\n",
      "Surrogate Cost:  200.0\n",
      "Surrogate Final State:  [ 3.99504941  0.10602652 -0.20952981  0.09530811]\n",
      "Simulating True Dynamics Trajectory\n",
      " 99%|█████████▉| 198/200 [00:51<00:00,  3.81it/s]"
     ]
    },
    {
     "name": "stderr",
     "output_type": "stream",
     "text": [
      "INFO:smac.intensification.intensification.Intensifier:Wallclock time limit for intensification reached (used: 237.953114 sec, available: 0.000010 sec)\n"
     ]
    },
    {
     "name": "stdout",
     "output_type": "stream",
     "text": [
      "\n",
      "True Dynamics Cost:  200.0\n",
      "True Dynamics Final State:  [-0.814009   -4.2031824   0.26319362 -0.91745401]\n",
      "use_cuda=True\n",
      "MLP Using Cuda\n",
      "hidden_sizes= [73, 132, 162, 130]\n",
      "100%|██████████| 50/50 [02:17<00:00,  2.75s/it]\n",
      "Simulating Surrogate Trajectory: \n",
      " 99%|█████████▉| 198/200 [01:00<00:00,  3.29it/s]\n",
      "Surrogate Cost:  69.0\n",
      "Surrogate Final State:  [-0.01302857 -0.10713601  0.16891475 -0.11712287]\n",
      "Simulating True Dynamics Trajectory\n",
      " 99%|█████████▉| 198/200 [01:09<00:00,  2.87it/s]"
     ]
    },
    {
     "name": "stderr",
     "output_type": "stream",
     "text": [
      "INFO:smac.intensification.intensification.Intensifier:Wallclock time limit for intensification reached (used: 266.622261 sec, available: 0.000010 sec)\n"
     ]
    },
    {
     "name": "stdout",
     "output_type": "stream",
     "text": [
      "\n",
      "True Dynamics Cost:  195.0\n",
      "True Dynamics Final State:  [0.01160332 0.17670127 0.27327716 0.24940003]\n",
      "use_cuda=True\n",
      "MLP Using Cuda\n",
      "hidden_sizes= [73, 137, 87, 130]\n",
      "100%|██████████| 50/50 [02:16<00:00,  2.73s/it]\n",
      "Simulating Surrogate Trajectory: \n",
      " 99%|█████████▉| 198/200 [01:14<00:00,  2.65it/s]\n",
      "Surrogate Cost:  165.0\n",
      "Surrogate Final State:  [-0.00068803 -0.33495033 -0.15367183 -0.30340294]\n",
      "Simulating True Dynamics Trajectory\n",
      " 99%|█████████▉| 198/200 [01:10<00:00,  2.80it/s]"
     ]
    },
    {
     "name": "stderr",
     "output_type": "stream",
     "text": [
      "INFO:smac.intensification.intensification.Intensifier:Wallclock time limit for intensification reached (used: 282.078739 sec, available: 0.000010 sec)\n"
     ]
    },
    {
     "name": "stdout",
     "output_type": "stream",
     "text": [
      "\n",
      "True Dynamics Cost:  145.0\n",
      "True Dynamics Final State:  [-0.08097841  0.05048247 -0.2327694  -0.07231686]\n",
      "use_cuda=True\n",
      "MLP Using Cuda\n",
      "hidden_sizes= [114, 132, 119, 162]\n",
      "100%|██████████| 50/50 [02:17<00:00,  2.74s/it]\n",
      "Simulating Surrogate Trajectory: \n",
      " 99%|█████████▉| 198/200 [01:13<00:00,  2.70it/s]\n",
      "Surrogate Cost:  178.0\n",
      "Surrogate Final State:  [ 0.02662789 -1.20487186 -0.17636036 -1.2105841 ]\n",
      "Simulating True Dynamics Trajectory\n",
      " 99%|█████████▉| 198/200 [01:20<00:00,  2.47it/s]"
     ]
    },
    {
     "name": "stderr",
     "output_type": "stream",
     "text": [
      "INFO:smac.intensification.intensification.Intensifier:Wallclock time limit for intensification reached (used: 290.824409 sec, available: 0.000010 sec)\n"
     ]
    },
    {
     "name": "stdout",
     "output_type": "stream",
     "text": [
      "\n",
      "True Dynamics Cost:  139.0\n",
      "True Dynamics Final State:  [ 0.02389736  0.10389692 -0.15160541  0.19502148]\n",
      "use_cuda=True\n",
      "MLP Using Cuda\n",
      "hidden_sizes= [50, 132, 109, 138]\n",
      "100%|██████████| 50/50 [02:16<00:00,  2.73s/it]\n",
      "Simulating Surrogate Trajectory: \n",
      " 99%|█████████▉| 198/200 [00:42<00:00,  4.61it/s]\n",
      "Surrogate Cost:  190.0\n",
      "Surrogate Final State:  [-0.04242774  0.05571474 -0.30009566  0.06942921]\n",
      "Simulating True Dynamics Trajectory\n",
      " 99%|█████████▉| 198/200 [00:49<00:00,  4.01it/s]"
     ]
    },
    {
     "name": "stderr",
     "output_type": "stream",
     "text": [
      "INFO:smac.intensification.intensification.Intensifier:Wallclock time limit for intensification reached (used: 228.980162 sec, available: 0.000010 sec)\n"
     ]
    },
    {
     "name": "stdout",
     "output_type": "stream",
     "text": [
      "\n",
      "True Dynamics Cost:  61.0\n",
      "True Dynamics Final State:  [-0.00952318 -0.0160754  -0.16184021 -0.03642368]\n",
      "use_cuda=True\n",
      "MLP Using Cuda\n",
      "hidden_sizes= [125, 132, 128, 138]\n",
      "100%|██████████| 50/50 [02:13<00:00,  2.66s/it]\n",
      "Simulating Surrogate Trajectory: \n",
      " 99%|█████████▉| 198/200 [00:52<00:00,  3.78it/s]\n",
      "Surrogate Cost:  195.0\n",
      "Surrogate Final State:  [-0.02086133  0.00531931 -0.41495531  0.03470408]\n",
      "Simulating True Dynamics Trajectory\n",
      " 99%|█████████▉| 198/200 [00:45<00:00,  4.38it/s]"
     ]
    },
    {
     "name": "stderr",
     "output_type": "stream",
     "text": [
      "INFO:smac.intensification.intensification.Intensifier:Wallclock time limit for intensification reached (used: 230.760929 sec, available: 0.000010 sec)\n"
     ]
    },
    {
     "name": "stdout",
     "output_type": "stream",
     "text": [
      "\n",
      "True Dynamics Cost:  181.0\n",
      "True Dynamics Final State:  [ 0.00542949  0.00686083 -0.2620158   0.03040422]\n",
      "use_cuda=True\n",
      "MLP Using Cuda\n",
      "hidden_sizes= [109, 132, 128, 122]\n",
      "100%|██████████| 50/50 [02:17<00:00,  2.75s/it]\n",
      "Simulating Surrogate Trajectory: \n",
      " 99%|█████████▉| 198/200 [00:56<00:00,  3.48it/s]\n",
      "Surrogate Cost:  197.0\n",
      "Surrogate Final State:  [ 3.3716147   6.26802024 -0.51314751  0.57334184]\n",
      "Simulating True Dynamics Trajectory\n",
      " 99%|█████████▉| 198/200 [01:10<00:00,  2.82it/s]"
     ]
    },
    {
     "name": "stderr",
     "output_type": "stream",
     "text": [
      "INFO:smac.intensification.intensification.Intensifier:Wallclock time limit for intensification reached (used: 264.272234 sec, available: 0.000010 sec)\n"
     ]
    },
    {
     "name": "stdout",
     "output_type": "stream",
     "text": [
      "\n",
      "True Dynamics Cost:  87.0\n",
      "True Dynamics Final State:  [-0.0067907  -0.14176785  0.09703975 -0.19313288]\n",
      "use_cuda=True\n",
      "MLP Using Cuda\n",
      "hidden_sizes= [84, 132, 111, 152]\n",
      "100%|██████████| 50/50 [02:15<00:00,  2.71s/it]\n",
      "Simulating Surrogate Trajectory: \n",
      " 99%|█████████▉| 198/200 [00:48<00:00,  4.11it/s]\n",
      "Surrogate Cost:  189.0\n",
      "Surrogate Final State:  [-0.01780427 -0.00767797 -0.22597492  0.02210826]\n",
      "Simulating True Dynamics Trajectory\n",
      " 99%|█████████▉| 198/200 [00:38<00:00,  5.13it/s]"
     ]
    },
    {
     "name": "stderr",
     "output_type": "stream",
     "text": [
      "INFO:smac.intensification.intensification.Intensifier:Wallclock time limit for intensification reached (used: 222.451308 sec, available: 0.000010 sec)\n"
     ]
    },
    {
     "name": "stdout",
     "output_type": "stream",
     "text": [
      "\n",
      "True Dynamics Cost:  46.0\n",
      "True Dynamics Final State:  [-2.35243869e-05  6.31083416e-04 -1.12486155e-01  7.30397502e-04]\n",
      "use_cuda=True\n",
      "MLP Using Cuda\n",
      "hidden_sizes= [85, 132, 139, 128]\n",
      "100%|██████████| 50/50 [02:16<00:00,  2.74s/it]\n",
      "Simulating Surrogate Trajectory: \n",
      " 99%|█████████▉| 198/200 [01:15<00:00,  2.61it/s]\n",
      "Surrogate Cost:  121.0\n",
      "Surrogate Final State:  [-0.01887756 -0.00521511  0.17077633  0.02717192]\n",
      "Simulating True Dynamics Trajectory\n",
      " 99%|█████████▉| 198/200 [01:35<00:00,  2.07it/s]"
     ]
    },
    {
     "name": "stderr",
     "output_type": "stream",
     "text": [
      "INFO:smac.intensification.intensification.Intensifier:Wallclock time limit for intensification reached (used: 308.567572 sec, available: 0.000010 sec)\n"
     ]
    },
    {
     "name": "stdout",
     "output_type": "stream",
     "text": [
      "\n",
      "True Dynamics Cost:  180.0\n",
      "True Dynamics Final State:  [-0.003834    0.38144166  0.20206656  0.65395856]\n",
      "use_cuda=True\n",
      "MLP Using Cuda\n",
      "hidden_sizes= [70, 132, 129, 131]\n",
      "100%|██████████| 50/50 [02:16<00:00,  2.73s/it]\n",
      "Simulating Surrogate Trajectory: \n",
      " 99%|█████████▉| 198/200 [01:54<00:01,  1.72it/s]\n",
      "Surrogate Cost:  126.0\n",
      "Surrogate Final State:  [ 0.01502381 -0.31589859 -0.15813719 -0.20059935]\n",
      "Simulating True Dynamics Trajectory\n",
      " 99%|█████████▉| 198/200 [00:35<00:00,  5.57it/s]"
     ]
    },
    {
     "name": "stderr",
     "output_type": "stream",
     "text": [
      "INFO:smac.intensification.intensification.Intensifier:Wallclock time limit for intensification reached (used: 287.325428 sec, available: 0.000010 sec)\n"
     ]
    },
    {
     "name": "stdout",
     "output_type": "stream",
     "text": [
      "\n",
      "True Dynamics Cost:  200.0\n",
      "True Dynamics Final State:  [ 0.87676334 -2.2483057   0.29690365  0.64289505]\n",
      "use_cuda=True\n",
      "MLP Using Cuda\n",
      "hidden_sizes= [184, 35]\n",
      "100%|██████████| 50/50 [01:26<00:00,  1.73s/it]\n",
      "Simulating Surrogate Trajectory: \n",
      " 99%|█████████▉| 198/200 [00:33<00:00,  5.94it/s]\n",
      "Surrogate Cost:  200.0\n",
      "Surrogate Final State:  [ 3.12729474 -0.01080097 -3.24410348 -0.02899417]\n",
      "Simulating True Dynamics Trajectory\n",
      " 99%|█████████▉| 198/200 [00:31<00:00,  6.26it/s]"
     ]
    },
    {
     "name": "stderr",
     "output_type": "stream",
     "text": [
      "INFO:smac.intensification.intensification.Intensifier:Wallclock time limit for intensification reached (used: 151.547842 sec, available: 0.000010 sec)\n"
     ]
    },
    {
     "name": "stdout",
     "output_type": "stream",
     "text": [
      "\n",
      "True Dynamics Cost:  200.0\n",
      "True Dynamics Final State:  [ 3.14123423e+00  3.65675537e-05 -3.23992862e+00 -1.65043929e-03]\n",
      "use_cuda=True\n",
      "MLP Using Cuda\n",
      "hidden_sizes= [77, 132, 119, 139]\n",
      "100%|██████████| 50/50 [02:16<00:00,  2.72s/it]\n",
      "Simulating Surrogate Trajectory: \n",
      " 99%|█████████▉| 198/200 [00:27<00:00,  7.20it/s]\n",
      "Surrogate Cost:  42.0\n",
      "Surrogate Final State:  [-0.01882554  0.00077748 -0.02876431  0.02974249]\n",
      "Simulating True Dynamics Trajectory\n",
      " 99%|█████████▉| 198/200 [00:40<00:00,  4.94it/s]"
     ]
    },
    {
     "name": "stderr",
     "output_type": "stream",
     "text": [
      "INFO:smac.intensification.intensification.Intensifier:Wallclock time limit for intensification reached (used: 203.887032 sec, available: 0.000010 sec)\n"
     ]
    },
    {
     "name": "stdout",
     "output_type": "stream",
     "text": [
      "\n",
      "True Dynamics Cost:  51.0\n",
      "True Dynamics Final State:  [-8.75596109e-05  5.81067908e-03  1.01370242e-01  6.03680998e-03]\n",
      "use_cuda=True\n",
      "MLP Using Cuda\n",
      "hidden_sizes= [117, 132, 114, 144]\n",
      "100%|██████████| 50/50 [02:17<00:00,  2.74s/it]\n",
      "Simulating Surrogate Trajectory: \n",
      " 99%|█████████▉| 198/200 [01:04<00:00,  3.06it/s]\n",
      "Surrogate Cost:  173.0\n",
      "Surrogate Final State:  [-0.01776091  0.01437421 -0.24407822  0.05689823]\n",
      "Simulating True Dynamics Trajectory\n",
      " 99%|█████████▉| 198/200 [00:55<00:00,  3.57it/s]"
     ]
    },
    {
     "name": "stderr",
     "output_type": "stream",
     "text": [
      "INFO:smac.intensification.intensification.Intensifier:Wallclock time limit for intensification reached (used: 257.348747 sec, available: 0.000010 sec)\n"
     ]
    },
    {
     "name": "stdout",
     "output_type": "stream",
     "text": [
      "\n",
      "True Dynamics Cost:  199.0\n",
      "True Dynamics Final State:  [ 0.03124697 -0.24946197  0.21591022 -0.37401852]\n",
      "use_cuda=True\n",
      "MLP Using Cuda\n",
      "hidden_sizes= [76, 92, 119, 136]\n",
      "100%|██████████| 50/50 [02:13<00:00,  2.67s/it]\n",
      "Simulating Surrogate Trajectory: \n",
      " 99%|█████████▉| 198/200 [00:39<00:00,  4.96it/s]\n",
      "Surrogate Cost:  188.0\n",
      "Surrogate Final State:  [-0.02675465  0.00501243 -0.03418282 -0.34761741]\n",
      "Simulating True Dynamics Trajectory\n",
      " 99%|█████████▉| 198/200 [00:38<00:00,  5.16it/s]"
     ]
    },
    {
     "name": "stderr",
     "output_type": "stream",
     "text": [
      "INFO:smac.intensification.intensification.Intensifier:Wallclock time limit for intensification reached (used: 211.751442 sec, available: 0.000010 sec)\n"
     ]
    },
    {
     "name": "stdout",
     "output_type": "stream",
     "text": [
      "\n",
      "True Dynamics Cost:  200.0\n",
      "True Dynamics Final State:  [ 4.22528926 -0.19461106 -0.52535292  0.2896695 ]\n",
      "use_cuda=True\n",
      "MLP Using Cuda\n",
      "hidden_sizes= [187, 140, 194]\n",
      "100%|██████████| 50/50 [01:50<00:00,  2.20s/it]\n",
      "Simulating Surrogate Trajectory: \n",
      "  2%|▏         | 4/200 [00:00<00:06, 32.66it/s]"
     ]
    },
    {
     "name": "stderr",
     "output_type": "stream",
     "text": [
      "/home/william/proj/autompc_dev/autompc/control/ilqr.py:535: RuntimeWarning: invalid value encountered in double_scalars\n",
      "  if (obj - new_obj) / (-expect_cost_reduction) > ls_cost_threshold:\n"
     ]
    },
    {
     "name": "stdout",
     "output_type": "stream",
     "text": [
      " 99%|█████████▉| 198/200 [00:06<00:00, 31.80it/s]\n",
      "Surrogate Cost:  200.0\n",
      "Surrogate Final State:  [ 3.12495379 -0.00510427  0.89749389  0.12104042]\n",
      "Simulating True Dynamics Trajectory\n",
      " 99%|█████████▉| 198/200 [00:05<00:00, 33.17it/s]"
     ]
    },
    {
     "name": "stderr",
     "output_type": "stream",
     "text": [
      "INFO:smac.intensification.intensification.Intensifier:Wallclock time limit for intensification reached (used: 122.400830 sec, available: 0.000010 sec)\n",
      "INFO:smac.stats.stats.Stats:##########################################################\n",
      "INFO:smac.stats.stats.Stats:Statistics:\n",
      "INFO:smac.stats.stats.Stats:#Incumbent changed: 6\n",
      "INFO:smac.stats.stats.Stats:#Submitted target algorithm runs: 100 / 100.0\n",
      "INFO:smac.stats.stats.Stats:#Finished target algorithm runs: 100 / 100.0\n",
      "INFO:smac.stats.stats.Stats:#Configurations: 100\n",
      "INFO:smac.stats.stats.Stats:Used wallclock time: 18862.36 / inf sec \n",
      "INFO:smac.stats.stats.Stats:Used target algorithm runtime: 18721.47 / inf sec\n",
      "INFO:smac.stats.stats.Stats:##########################################################\n",
      "INFO:smac.facade.smac_hpo_facade.SMAC4HPO:Final Incumbent: Configuration:\n",
      "  _cost:dx_F, Value: 2075.0627121841476\n",
      "  _cost:dx_Q, Value: 0.003439168248164087\n",
      "  _cost:omega_F, Value: 0.08071656763578268\n",
      "  _cost:omega_Q, Value: 0.0010268426557017319\n",
      "  _cost:theta_F, Value: 45.06342259785199\n",
      "  _cost:theta_Q, Value: 0.0012463252411725472\n",
      "  _cost:u_R, Value: 0.001248911825626729\n",
      "  _cost:x_F, Value: 312.61198268322227\n",
      "  _cost:x_Q, Value: 1.8588590493983284\n",
      "  _ctrlr:horizon, Value: 14\n",
      "  _model:hidden_size_1, Value: 109\n",
      "  _model:hidden_size_2, Value: 132\n",
      "  _model:hidden_size_3, Value: 128\n",
      "  _model:hidden_size_4, Value: 138\n",
      "  _model:lr, Value: 3.9574870509555896e-05\n",
      "  _model:n_hidden_layers, Value: '4'\n",
      "  _model:nonlintype, Value: 'selu'\n",
      "\n",
      "INFO:smac.facade.smac_hpo_facade.SMAC4HPO:Estimated cost of incumbent: 42.000000\n"
     ]
    },
    {
     "name": "stdout",
     "output_type": "stream",
     "text": [
      "\n",
      "True Dynamics Cost:  200.0\n",
      "True Dynamics Final State:  [ 3.13851311e+00 -1.40604318e-03  0.00000000e+00  0.00000000e+00]\n",
      "use_cuda=True\n",
      "MLP Using Cuda\n",
      "hidden_sizes= [109, 132, 128, 138]\n",
      "100%|██████████| 50/50 [02:19<00:00,  2.78s/it]\n"
     ]
    }
   ],
   "source": [
    "tuner = PipelineTuner(surrogate_mode=\"autotune\", surrogate_factory=surrogate_factory, surrogate_split=0.5)\n",
    "\n",
    "controller, tune_result3 = tuner.run(pipeline, task, trajs, n_iters=100, rng=np.random.default_rng(100),\n",
    "                                    truedyn=benchmark.dynamics)"
   ]
  },
  {
   "cell_type": "markdown",
   "metadata": {},
   "source": [
    "Finally, we can auto-select and auto-tune the surrogate mode class"
   ]
  },
  {
   "cell_type": "code",
   "execution_count": 7,
   "metadata": {},
   "outputs": [
    {
     "name": "stderr",
     "output_type": "stream",
     "text": [
      "/home/william/.local/lib/python3.8/site-packages/numpy/core/_asarray.py:83: VisibleDeprecationWarning: Creating an ndarray from ragged nested sequences (which is a list-or-tuple of lists-or-tuples-or ndarrays with different lengths or shapes) is deprecated. If you meant to do this, you must specify 'dtype=object' when creating the ndarray\n",
      "  return array(a, dtype, copy=False, order=order)\n",
      "INFO:smac.utils.io.cmd_reader.CMDReader:Output to smac3-output_2021-05-30_12:12:17_059821\n",
      "INFO:smac.facade.smac_hpo_facade.SMAC4HPO:Optimizing a deterministic scenario for quality without a tuner timeout - will make SMAC deterministic and only evaluate one configuration per iteration!\n",
      "INFO:smac.initial_design.sobol_design.SobolDesign:Running initial design for 25 configurations\n",
      "INFO:smac.facade.smac_hpo_facade.SMAC4HPO:<class 'smac.facade.smac_hpo_facade.SMAC4HPO'>\n",
      "INFO:smac.optimizer.smbo.SMBO:Running initial design\n",
      "INFO:smac.intensification.intensification.Intensifier:First run, no incumbent provided; challenger is assumed to be the incumbent\n",
      "  0%|          | 0/5 [00:00<?, ?it/s]"
     ]
    },
    {
     "name": "stdout",
     "output_type": "stream",
     "text": [
      "Evaluating Cfg:\n",
      "Configuration:\n",
      "  _ApproximateGP:induce_count, Value: 125\n",
      "  model, Value: 'ApproximateGP'\n",
      "\n",
      "Cuda is used for GPytorch\n"
     ]
    },
    {
     "name": "stderr",
     "output_type": "stream",
     "text": [
      "100%|██████████| 5/5 [00:12<00:00,  2.44s/it]\n",
      "INFO:smac.intensification.intensification.Intensifier:First run, no incumbent provided; challenger is assumed to be the incumbent\n",
      "INFO:smac.intensification.intensification.Intensifier:Updated estimated cost of incumbent on 1 runs: 0.2232\n"
     ]
    },
    {
     "name": "stdout",
     "output_type": "stream",
     "text": [
      "Model Score  0.223215880077073\n",
      "Evaluating Cfg:\n",
      "Configuration:\n",
      "  _ARX:history, Value: 3\n",
      "  model, Value: 'ARX'\n",
      "\n"
     ]
    },
    {
     "name": "stderr",
     "output_type": "stream",
     "text": [
      "INFO:smac.intensification.intensification.Intensifier:Wallclock time limit for intensification reached (used: 13.067177 sec, available: 0.000010 sec)\n"
     ]
    },
    {
     "name": "stdout",
     "output_type": "stream",
     "text": [
      "Model Score  0.32555137627102093\n",
      "Evaluating Cfg:\n",
      "Configuration:\n",
      "  _SINDy:method, Value: 'lstsq'\n",
      "  _SINDy:poly_basis, Value: 'false'\n",
      "  _SINDy:poly_cross_terms, Value: 'true'\n",
      "  _SINDy:threshold, Value: 0.3162277660168378\n",
      "  _SINDy:time_mode, Value: 'discrete'\n",
      "  _SINDy:trig_basis, Value: 'true'\n",
      "  _SINDy:trig_freq, Value: 3\n",
      "  _SINDy:trig_interaction, Value: 'false'\n",
      "  model, Value: 'SINDy'\n",
      "\n"
     ]
    },
    {
     "name": "stderr",
     "output_type": "stream",
     "text": [
      "INFO:smac.intensification.intensification.Intensifier:Wallclock time limit for intensification reached (used: 2.811121 sec, available: 0.000010 sec)\n"
     ]
    },
    {
     "name": "stdout",
     "output_type": "stream",
     "text": [
      "Model Score  0.7636319113006799\n",
      "Evaluating Cfg:\n",
      "Configuration:\n",
      "  _SINDy:lasso_alpha, Value: 13.33521432163324\n",
      "  _SINDy:method, Value: 'lasso'\n",
      "  _SINDy:poly_basis, Value: 'true'\n",
      "  _SINDy:poly_cross_terms, Value: 'true'\n",
      "  _SINDy:poly_degree, Value: 2\n",
      "  _SINDy:threshold, Value: 0.056234132519034884\n",
      "  _SINDy:time_mode, Value: 'discrete'\n",
      "  _SINDy:trig_basis, Value: 'false'\n",
      "  model, Value: 'SINDy'\n",
      "\n"
     ]
    },
    {
     "name": "stderr",
     "output_type": "stream",
     "text": [
      "INFO:smac.intensification.intensification.Intensifier:Wallclock time limit for intensification reached (used: 2.377929 sec, available: 0.000010 sec)\n"
     ]
    },
    {
     "name": "stdout",
     "output_type": "stream",
     "text": [
      "Model Score  0.8190855108162253\n",
      "Evaluating Cfg:\n",
      "Configuration:\n",
      "  _Koopman:lasso_alpha, Value: 3.1622776601683755\n",
      "  _Koopman:method, Value: 'lasso'\n",
      "  _Koopman:poly_basis, Value: 'true'\n",
      "  _Koopman:poly_degree, Value: 8\n",
      "  _Koopman:product_terms, Value: 'false'\n",
      "  _Koopman:trig_basis, Value: 'false'\n",
      "  model, Value: 'Koopman'\n",
      "\n",
      "Call Lasso\n"
     ]
    },
    {
     "name": "stderr",
     "output_type": "stream",
     "text": [
      "/home/william/.local/lib/python3.8/site-packages/sklearn/linear_model/_coordinate_descent.py:529: ConvergenceWarning: Objective did not converge. You might want to increase the number of iterations. Duality gap: 254560723320291.12, tolerance: 127148261120.73523\n",
      "  model = cd_fast.enet_coordinate_descent(\n",
      "/home/william/.local/lib/python3.8/site-packages/sklearn/linear_model/_coordinate_descent.py:529: ConvergenceWarning: Objective did not converge. You might want to increase the number of iterations. Duality gap: 2.7278026922495287e+22, tolerance: 2.3361510308481244e+20\n",
      "  model = cd_fast.enet_coordinate_descent(\n",
      "INFO:smac.intensification.intensification.Intensifier:Wallclock time limit for intensification reached (used: 35.984548 sec, available: 0.000010 sec)\n"
     ]
    },
    {
     "name": "stdout",
     "output_type": "stream",
     "text": [
      "Model Score  2.4016675974605843\n",
      "Evaluating Cfg:\n",
      "Configuration:\n",
      "  _ARX:history, Value: 2\n",
      "  model, Value: 'ARX'\n",
      "\n"
     ]
    },
    {
     "name": "stderr",
     "output_type": "stream",
     "text": [
      "INFO:smac.intensification.intensification.Intensifier:Wallclock time limit for intensification reached (used: 0.450987 sec, available: 0.000010 sec)\n"
     ]
    },
    {
     "name": "stdout",
     "output_type": "stream",
     "text": [
      "Model Score  0.34474180344880745\n",
      "Evaluating Cfg:\n",
      "Configuration:\n",
      "  _MLP:hidden_size_1, Value: 106\n",
      "  _MLP:hidden_size_2, Value: 166\n",
      "  _MLP:hidden_size_3, Value: 106\n",
      "  _MLP:lr, Value: 0.23713737056616568\n",
      "  _MLP:n_hidden_layers, Value: '3'\n",
      "  _MLP:nonlintype, Value: 'sigmoid'\n",
      "  model, Value: 'MLP'\n",
      "\n",
      "use_cuda=True\n",
      "MLP Using Cuda\n",
      "hidden_sizes= [106, 166, 106]\n",
      "100%|██████████| 50/50 [01:23<00:00,  1.67s/it]"
     ]
    },
    {
     "name": "stderr",
     "output_type": "stream",
     "text": [
      "INFO:smac.intensification.intensification.Intensifier:Wallclock time limit for intensification reached (used: 83.431263 sec, available: 0.000010 sec)\n"
     ]
    },
    {
     "name": "stdout",
     "output_type": "stream",
     "text": [
      "\n",
      "Model Score  0.9972292817337782\n",
      "Evaluating Cfg:\n",
      "Configuration:\n",
      "  _MLP:hidden_size_1, Value: 241\n",
      "  _MLP:lr, Value: 8.659643233600651e-05\n",
      "  _MLP:n_hidden_layers, Value: '1'\n",
      "  _MLP:nonlintype, Value: 'sigmoid'\n",
      "  model, Value: 'MLP'\n",
      "\n",
      "use_cuda=True\n",
      "MLP Using Cuda\n",
      "hidden_sizes= [241]\n",
      "100%|██████████| 50/50 [00:47<00:00,  1.05it/s]"
     ]
    },
    {
     "name": "stderr",
     "output_type": "stream",
     "text": [
      "INFO:smac.intensification.intensification.Intensifier:Wallclock time limit for intensification reached (used: 47.505358 sec, available: 0.000010 sec)\n"
     ]
    },
    {
     "name": "stdout",
     "output_type": "stream",
     "text": [
      "\n",
      "Model Score  0.39595702719538606\n",
      "Evaluating Cfg:\n",
      "Configuration:\n",
      "  _ARX:history, Value: 9\n",
      "  model, Value: 'ARX'\n",
      "\n"
     ]
    },
    {
     "name": "stderr",
     "output_type": "stream",
     "text": [
      "INFO:smac.intensification.intensification.Intensifier:Wallclock time limit for intensification reached (used: 1.337934 sec, available: 0.000010 sec)\n"
     ]
    },
    {
     "name": "stdout",
     "output_type": "stream",
     "text": [
      "Model Score  0.3033815354839334\n",
      "Evaluating Cfg:\n",
      "Configuration:\n",
      "  _Koopman:method, Value: 'stable'\n",
      "  _Koopman:poly_basis, Value: 'true'\n",
      "  _Koopman:poly_degree, Value: 7\n",
      "  _Koopman:product_terms, Value: 'false'\n",
      "  _Koopman:trig_basis, Value: 'false'\n",
      "  model, Value: 'Koopman'\n",
      "\n",
      "Compute Stable Koopman\n",
      "None\n",
      "[[1. 0. 0. 0. 0. 0. 0. 0. 0. 0. 0. 0. 0. 0. 0. 0. 0. 0. 0. 0. 0. 0. 0. 0.\n",
      "  0. 0. 0. 0.]\n",
      " [0. 1. 0. 0. 0. 0. 0. 0. 0. 0. 0. 0. 0. 0. 0. 0. 0. 0. 0. 0. 0. 0. 0. 0.\n",
      "  0. 0. 0. 0.]\n",
      " [0. 0. 1. 0. 0. 0. 0. 0. 0. 0. 0. 0. 0. 0. 0. 0. 0. 0. 0. 0. 0. 0. 0. 0.\n",
      "  0. 0. 0. 0.]\n",
      " [0. 0. 0. 1. 0. 0. 0. 0. 0. 0. 0. 0. 0. 0. 0. 0. 0. 0. 0. 0. 0. 0. 0. 0.\n",
      "  0. 0. 0. 0.]\n",
      " [0. 0. 0. 0. 1. 0. 0. 0. 0. 0. 0. 0. 0. 0. 0. 0. 0. 0. 0. 0. 0. 0. 0. 0.\n",
      "  0. 0. 0. 0.]\n",
      " [0. 0. 0. 0. 0. 1. 0. 0. 0. 0. 0. 0. 0. 0. 0. 0. 0. 0. 0. 0. 0. 0. 0. 0.\n",
      "  0. 0. 0. 0.]\n",
      " [0. 0. 0. 0. 0. 0. 1. 0. 0. 0. 0. 0. 0. 0. 0. 0. 0. 0. 0. 0. 0. 0. 0. 0.\n",
      "  0. 0. 0. 0.]\n",
      " [0. 0. 0. 0. 0. 0. 0. 1. 0. 0. 0. 0. 0. 0. 0. 0. 0. 0. 0. 0. 0. 0. 0. 0.\n",
      "  0. 0. 0. 0.]\n",
      " [0. 0. 0. 0. 0. 0. 0. 0. 1. 0. 0. 0. 0. 0. 0. 0. 0. 0. 0. 0. 0. 0. 0. 0.\n",
      "  0. 0. 0. 0.]\n",
      " [0. 0. 0. 0. 0. 0. 0. 0. 0. 1. 0. 0. 0. 0. 0. 0. 0. 0. 0. 0. 0. 0. 0. 0.\n",
      "  0. 0. 0. 0.]\n",
      " [0. 0. 0. 0. 0. 0. 0. 0. 0. 0. 1. 0. 0. 0. 0. 0. 0. 0. 0. 0. 0. 0. 0. 0.\n",
      "  0. 0. 0. 0.]\n",
      " [0. 0. 0. 0. 0. 0. 0. 0. 0. 0. 0. 1. 0. 0. 0. 0. 0. 0. 0. 0. 0. 0. 0. 0.\n",
      "  0. 0. 0. 0.]\n",
      " [0. 0. 0. 0. 0. 0. 0. 0. 0. 0. 0. 0. 1. 0. 0. 0. 0. 0. 0. 0. 0. 0. 0. 0.\n",
      "  0. 0. 0. 0.]\n",
      " [0. 0. 0. 0. 0. 0. 0. 0. 0. 0. 0. 0. 0. 1. 0. 0. 0. 0. 0. 0. 0. 0. 0. 0.\n",
      "  0. 0. 0. 0.]\n",
      " [0. 0. 0. 0. 0. 0. 0. 0. 0. 0. 0. 0. 0. 0. 1. 0. 0. 0. 0. 0. 0. 0. 0. 0.\n",
      "  0. 0. 0. 0.]\n",
      " [0. 0. 0. 0. 0. 0. 0. 0. 0. 0. 0. 0. 0. 0. 0. 1. 0. 0. 0. 0. 0. 0. 0. 0.\n",
      "  0. 0. 0. 0.]\n",
      " [0. 0. 0. 0. 0. 0. 0. 0. 0. 0. 0. 0. 0. 0. 0. 0. 1. 0. 0. 0. 0. 0. 0. 0.\n",
      "  0. 0. 0. 0.]\n",
      " [0. 0. 0. 0. 0. 0. 0. 0. 0. 0. 0. 0. 0. 0. 0. 0. 0. 1. 0. 0. 0. 0. 0. 0.\n",
      "  0. 0. 0. 0.]\n",
      " [0. 0. 0. 0. 0. 0. 0. 0. 0. 0. 0. 0. 0. 0. 0. 0. 0. 0. 1. 0. 0. 0. 0. 0.\n",
      "  0. 0. 0. 0.]\n",
      " [0. 0. 0. 0. 0. 0. 0. 0. 0. 0. 0. 0. 0. 0. 0. 0. 0. 0. 0. 1. 0. 0. 0. 0.\n",
      "  0. 0. 0. 0.]\n",
      " [0. 0. 0. 0. 0. 0. 0. 0. 0. 0. 0. 0. 0. 0. 0. 0. 0. 0. 0. 0. 1. 0. 0. 0.\n",
      "  0. 0. 0. 0.]\n",
      " [0. 0. 0. 0. 0. 0. 0. 0. 0. 0. 0. 0. 0. 0. 0. 0. 0. 0. 0. 0. 0. 1. 0. 0.\n",
      "  0. 0. 0. 0.]\n",
      " [0. 0. 0. 0. 0. 0. 0. 0. 0. 0. 0. 0. 0. 0. 0. 0. 0. 0. 0. 0. 0. 0. 1. 0.\n",
      "  0. 0. 0. 0.]\n",
      " [0. 0. 0. 0. 0. 0. 0. 0. 0. 0. 0. 0. 0. 0. 0. 0. 0. 0. 0. 0. 0. 0. 0. 1.\n",
      "  0. 0. 0. 0.]\n",
      " [0. 0. 0. 0. 0. 0. 0. 0. 0. 0. 0. 0. 0. 0. 0. 0. 0. 0. 0. 0. 0. 0. 0. 0.\n",
      "  1. 0. 0. 0.]\n",
      " [0. 0. 0. 0. 0. 0. 0. 0. 0. 0. 0. 0. 0. 0. 0. 0. 0. 0. 0. 0. 0. 0. 0. 0.\n",
      "  0. 1. 0. 0.]\n",
      " [0. 0. 0. 0. 0. 0. 0. 0. 0. 0. 0. 0. 0. 0. 0. 0. 0. 0. 0. 0. 0. 0. 0. 0.\n",
      "  0. 0. 1. 0.]\n",
      " [0. 0. 0. 0. 0. 0. 0. 0. 0. 0. 0. 0. 0. 0. 0. 0. 0. 0. 0. 0. 0. 0. 0. 0.\n",
      "  0. 0. 0. 1.]]\n",
      "Error is  6357276407665996.0\n",
      " No descent: Restart FGM\n"
     ]
    },
    {
     "name": "stderr",
     "output_type": "stream",
     "text": [
      "ERROR:smac.tae.execute_func.ExecuteTAFuncDict:Object of type complex128 is not JSON serializable\n",
      "Traceback (most recent call last):\n",
      "  File \"/home/william/.local/lib/python3.8/site-packages/smac/tae/execute_func.py\", line 226, in run\n",
      "    json.dumps(cost)\n",
      "  File \"/usr/lib/python3.8/json/__init__.py\", line 231, in dumps\n",
      "    return _default_encoder.encode(obj)\n",
      "  File \"/usr/lib/python3.8/json/encoder.py\", line 199, in encode\n",
      "    chunks = self.iterencode(o, _one_shot=True)\n",
      "  File \"/usr/lib/python3.8/json/encoder.py\", line 257, in iterencode\n",
      "    return _iterencode(o, 0)\n",
      "  File \"/usr/lib/python3.8/json/encoder.py\", line 179, in default\n",
      "    raise TypeError(f'Object of type {o.__class__.__name__} '\n",
      "TypeError: Object of type complex128 is not JSON serializable\n",
      "INFO:smac.intensification.intensification.Intensifier:Wallclock time limit for intensification reached (used: 8.361420 sec, available: 0.000010 sec)\n",
      "  0%|          | 0/5 [00:00<?, ?it/s]"
     ]
    },
    {
     "name": "stdout",
     "output_type": "stream",
     "text": [
      "Model Score  (1818229.5480091483+4.571170029049227e-18j)\n",
      "Evaluating Cfg:\n",
      "Configuration:\n",
      "  _ApproximateGP:induce_count, Value: 59\n",
      "  model, Value: 'ApproximateGP'\n",
      "\n",
      "Cuda is used for GPytorch\n"
     ]
    },
    {
     "name": "stderr",
     "output_type": "stream",
     "text": [
      "100%|██████████| 5/5 [00:09<00:00,  1.91s/it]\n",
      "INFO:smac.intensification.intensification.Intensifier:Wallclock time limit for intensification reached (used: 9.830903 sec, available: 0.000010 sec)\n"
     ]
    },
    {
     "name": "stdout",
     "output_type": "stream",
     "text": [
      "Model Score  0.2871711966286021\n",
      "Evaluating Cfg:\n",
      "Configuration:\n",
      "  _SINDy:method, Value: 'lstsq'\n",
      "  _SINDy:poly_basis, Value: 'false'\n",
      "  _SINDy:poly_cross_terms, Value: 'false'\n",
      "  _SINDy:threshold, Value: 0.02371373705661654\n",
      "  _SINDy:time_mode, Value: 'continuous'\n",
      "  _SINDy:trig_basis, Value: 'false'\n",
      "  model, Value: 'SINDy'\n",
      "\n"
     ]
    },
    {
     "name": "stderr",
     "output_type": "stream",
     "text": [
      "INFO:smac.intensification.intensification.Intensifier:Wallclock time limit for intensification reached (used: 1.620708 sec, available: 0.000010 sec)\n"
     ]
    },
    {
     "name": "stdout",
     "output_type": "stream",
     "text": [
      "Model Score  0.5357037202302738\n",
      "Evaluating Cfg:\n",
      "Configuration:\n",
      "  _Koopman:method, Value: 'lstsq'\n",
      "  _Koopman:poly_basis, Value: 'false'\n",
      "  _Koopman:product_terms, Value: 'false'\n",
      "  _Koopman:trig_basis, Value: 'false'\n",
      "  model, Value: 'Koopman'\n",
      "\n"
     ]
    },
    {
     "name": "stderr",
     "output_type": "stream",
     "text": [
      "INFO:smac.intensification.intensification.Intensifier:Wallclock time limit for intensification reached (used: 0.281500 sec, available: 0.000010 sec)\n",
      "  0%|          | 0/5 [00:00<?, ?it/s]"
     ]
    },
    {
     "name": "stdout",
     "output_type": "stream",
     "text": [
      "Model Score  0.39490937194852194\n",
      "Evaluating Cfg:\n",
      "Configuration:\n",
      "  _ApproximateGP:induce_count, Value: 78\n",
      "  model, Value: 'ApproximateGP'\n",
      "\n",
      "Cuda is used for GPytorch\n"
     ]
    },
    {
     "name": "stderr",
     "output_type": "stream",
     "text": [
      "100%|██████████| 5/5 [00:11<00:00,  2.24s/it]\n",
      "INFO:smac.intensification.intensification.Intensifier:Wallclock time limit for intensification reached (used: 11.455370 sec, available: 0.000010 sec)\n"
     ]
    },
    {
     "name": "stdout",
     "output_type": "stream",
     "text": [
      "Model Score  0.25163260798686554\n",
      "Evaluating Cfg:\n",
      "Configuration:\n",
      "  _MLP:hidden_size_1, Value: 151\n",
      "  _MLP:hidden_size_2, Value: 91\n",
      "  _MLP:hidden_size_3, Value: 61\n",
      "  _MLP:lr, Value: 0.11547819846894583\n",
      "  _MLP:n_hidden_layers, Value: '3'\n",
      "  _MLP:nonlintype, Value: 'relu'\n",
      "  model, Value: 'MLP'\n",
      "\n",
      "use_cuda=True\n",
      "MLP Using Cuda\n",
      "hidden_sizes= [151, 91, 61]\n",
      "100%|██████████| 50/50 [01:25<00:00,  1.71s/it]"
     ]
    },
    {
     "name": "stderr",
     "output_type": "stream",
     "text": [
      "INFO:smac.intensification.intensification.Intensifier:Challenger (0.1691) is better than incumbent (0.2232) on 1 runs.\n",
      "INFO:smac.intensification.intensification.Intensifier:Changes in incumbent:\n",
      "INFO:smac.intensification.intensification.Intensifier:  _MLP:hidden_size_1 : None -> 151\n",
      "INFO:smac.intensification.intensification.Intensifier:  _MLP:hidden_size_2 : None -> 91\n",
      "INFO:smac.intensification.intensification.Intensifier:  _MLP:hidden_size_3 : None -> 61\n",
      "INFO:smac.intensification.intensification.Intensifier:  _MLP:lr : None -> 0.11547819846894583\n",
      "INFO:smac.intensification.intensification.Intensifier:  _MLP:n_hidden_layers : None -> '3'\n",
      "INFO:smac.intensification.intensification.Intensifier:  _MLP:nonlintype : None -> 'relu'\n",
      "INFO:smac.intensification.intensification.Intensifier:  model : 'ApproximateGP' -> 'MLP'\n",
      "INFO:smac.intensification.intensification.Intensifier:Wallclock time limit for intensification reached (used: 85.301450 sec, available: 0.000010 sec)\n"
     ]
    },
    {
     "name": "stdout",
     "output_type": "stream",
     "text": [
      "\n",
      "Model Score  0.16909411545129163\n",
      "Evaluating Cfg:\n",
      "Configuration:\n",
      "  _MLP:hidden_size_1, Value: 219\n",
      "  _MLP:hidden_size_2, Value: 98\n",
      "  _MLP:lr, Value: 0.08058421877614816\n",
      "  _MLP:n_hidden_layers, Value: '2'\n",
      "  _MLP:nonlintype, Value: 'tanh'\n",
      "  model, Value: 'MLP'\n",
      "\n",
      "use_cuda=True\n",
      "MLP Using Cuda\n",
      "hidden_sizes= [219, 98]\n",
      "100%|██████████| 50/50 [01:03<00:00,  1.28s/it]"
     ]
    },
    {
     "name": "stderr",
     "output_type": "stream",
     "text": [
      "INFO:smac.intensification.intensification.Intensifier:Wallclock time limit for intensification reached (used: 63.886376 sec, available: 0.000010 sec)\n",
      "  0%|          | 0/5 [00:00<?, ?it/s]"
     ]
    },
    {
     "name": "stdout",
     "output_type": "stream",
     "text": [
      "\n",
      "Model Score  0.3756543570654656\n",
      "Evaluating Cfg:\n",
      "Configuration:\n",
      "  _ApproximateGP:induce_count, Value: 101\n",
      "  model, Value: 'ApproximateGP'\n",
      "\n",
      "Cuda is used for GPytorch\n"
     ]
    },
    {
     "name": "stderr",
     "output_type": "stream",
     "text": [
      "100%|██████████| 5/5 [00:11<00:00,  2.37s/it]\n",
      "INFO:smac.intensification.intensification.Intensifier:Wallclock time limit for intensification reached (used: 12.097858 sec, available: 0.000010 sec)\n"
     ]
    },
    {
     "name": "stdout",
     "output_type": "stream",
     "text": [
      "Model Score  0.241282127187308\n",
      "Evaluating Cfg:\n",
      "Configuration:\n",
      "  _Koopman:method, Value: 'lstsq'\n",
      "  _Koopman:poly_basis, Value: 'false'\n",
      "  _Koopman:product_terms, Value: 'false'\n",
      "  _Koopman:trig_basis, Value: 'true'\n",
      "  _Koopman:trig_freq, Value: 2\n",
      "  model, Value: 'Koopman'\n",
      "\n"
     ]
    },
    {
     "name": "stderr",
     "output_type": "stream",
     "text": [
      "INFO:smac.intensification.intensification.Intensifier:Wallclock time limit for intensification reached (used: 1.102362 sec, available: 0.000010 sec)\n"
     ]
    },
    {
     "name": "stdout",
     "output_type": "stream",
     "text": [
      "Model Score  0.28520659732163073\n",
      "Evaluating Cfg:\n",
      "Configuration:\n",
      "  _SINDy:lasso_alpha, Value: 0.3924189758484537\n",
      "  _SINDy:method, Value: 'lasso'\n",
      "  _SINDy:poly_basis, Value: 'true'\n",
      "  _SINDy:poly_cross_terms, Value: 'true'\n",
      "  _SINDy:poly_degree, Value: 6\n",
      "  _SINDy:threshold, Value: 1.5399265260594915e-05\n",
      "  _SINDy:time_mode, Value: 'continuous'\n",
      "  _SINDy:trig_basis, Value: 'true'\n",
      "  _SINDy:trig_freq, Value: 7\n",
      "  _SINDy:trig_interaction, Value: 'true'\n",
      "  model, Value: 'SINDy'\n",
      "\n"
     ]
    },
    {
     "name": "stderr",
     "output_type": "stream",
     "text": [
      "/home/william/.local/lib/python3.8/site-packages/sklearn/linear_model/_ridge.py:147: LinAlgWarning: Ill-conditioned matrix (rcond=2.58797e-25): result may not be accurate.\n",
      "  return linalg.solve(A, Xy, sym_pos=True,\n",
      "/home/william/.local/lib/python3.8/site-packages/sklearn/linear_model/_ridge.py:147: LinAlgWarning: Ill-conditioned matrix (rcond=2.58797e-25): result may not be accurate.\n",
      "  return linalg.solve(A, Xy, sym_pos=True,\n",
      "/home/william/.local/lib/python3.8/site-packages/sklearn/linear_model/_ridge.py:147: LinAlgWarning: Ill-conditioned matrix (rcond=2.58797e-25): result may not be accurate.\n",
      "  return linalg.solve(A, Xy, sym_pos=True,\n",
      "/home/william/.local/lib/python3.8/site-packages/sklearn/linear_model/_ridge.py:147: LinAlgWarning: Ill-conditioned matrix (rcond=2.58797e-25): result may not be accurate.\n",
      "  return linalg.solve(A, Xy, sym_pos=True,\n",
      "INFO:smac.intensification.intensification.Intensifier:Wallclock time limit for intensification reached (used: 122.815799 sec, available: 0.000010 sec)\n",
      "  0%|          | 0/5 [00:00<?, ?it/s]"
     ]
    },
    {
     "name": "stdout",
     "output_type": "stream",
     "text": [
      "Model Score  0.38982976379674356\n",
      "Evaluating Cfg:\n",
      "Configuration:\n",
      "  _ApproximateGP:induce_count, Value: 120\n",
      "  model, Value: 'ApproximateGP'\n",
      "\n",
      "Cuda is used for GPytorch\n"
     ]
    },
    {
     "name": "stderr",
     "output_type": "stream",
     "text": [
      "100%|██████████| 5/5 [00:12<00:00,  2.44s/it]\n",
      "INFO:smac.intensification.intensification.Intensifier:Wallclock time limit for intensification reached (used: 12.519386 sec, available: 0.000010 sec)\n"
     ]
    },
    {
     "name": "stdout",
     "output_type": "stream",
     "text": [
      "Model Score  0.233940868782237\n",
      "Evaluating Cfg:\n",
      "Configuration:\n",
      "  _Koopman:method, Value: 'stable'\n",
      "  _Koopman:poly_basis, Value: 'true'\n",
      "  _Koopman:poly_degree, Value: 7\n",
      "  _Koopman:product_terms, Value: 'false'\n",
      "  _Koopman:trig_basis, Value: 'true'\n",
      "  _Koopman:trig_freq, Value: 1\n",
      "  model, Value: 'Koopman'\n",
      "\n",
      "Compute Stable Koopman\n",
      "None\n",
      "[[1. 0. 0. ... 0. 0. 0.]\n",
      " [0. 1. 0. ... 0. 0. 0.]\n",
      " [0. 0. 1. ... 0. 0. 0.]\n",
      " ...\n",
      " [0. 0. 0. ... 1. 0. 0.]\n",
      " [0. 0. 0. ... 0. 1. 0.]\n",
      " [0. 0. 0. ... 0. 0. 1.]]\n",
      "Error is  6357276407666741.0\n",
      " No descent: Restart FGM\n"
     ]
    },
    {
     "name": "stderr",
     "output_type": "stream",
     "text": [
      "ERROR:smac.tae.execute_func.ExecuteTAFuncDict:Object of type complex128 is not JSON serializable\n",
      "Traceback (most recent call last):\n",
      "  File \"/home/william/.local/lib/python3.8/site-packages/smac/tae/execute_func.py\", line 226, in run\n",
      "    json.dumps(cost)\n",
      "  File \"/usr/lib/python3.8/json/__init__.py\", line 231, in dumps\n",
      "    return _default_encoder.encode(obj)\n",
      "  File \"/usr/lib/python3.8/json/encoder.py\", line 199, in encode\n",
      "    chunks = self.iterencode(o, _one_shot=True)\n",
      "  File \"/usr/lib/python3.8/json/encoder.py\", line 257, in iterencode\n",
      "    return _iterencode(o, 0)\n",
      "  File \"/usr/lib/python3.8/json/encoder.py\", line 179, in default\n",
      "    raise TypeError(f'Object of type {o.__class__.__name__} '\n",
      "TypeError: Object of type complex128 is not JSON serializable\n",
      "INFO:smac.intensification.intensification.Intensifier:Wallclock time limit for intensification reached (used: 65.168039 sec, available: 0.000010 sec)\n"
     ]
    },
    {
     "name": "stdout",
     "output_type": "stream",
     "text": [
      "Model Score  (1818229.561145797-2.0548672317609935e-18j)\n",
      "Evaluating Cfg:\n",
      "Configuration:\n",
      "  _ARX:history, Value: 4\n",
      "  model, Value: 'ARX'\n",
      "\n"
     ]
    },
    {
     "name": "stderr",
     "output_type": "stream",
     "text": [
      "INFO:smac.intensification.intensification.Intensifier:Wallclock time limit for intensification reached (used: 0.736070 sec, available: 0.000010 sec)\n"
     ]
    },
    {
     "name": "stdout",
     "output_type": "stream",
     "text": [
      "Model Score  0.3167208852522229\n",
      "Evaluating Cfg:\n",
      "Configuration:\n",
      "  _SINDy:method, Value: 'lstsq'\n",
      "  _SINDy:poly_basis, Value: 'true'\n",
      "  _SINDy:poly_cross_terms, Value: 'true'\n",
      "  _SINDy:poly_degree, Value: 5\n",
      "  _SINDy:threshold, Value: 0.08659643233600649\n",
      "  _SINDy:time_mode, Value: 'continuous'\n",
      "  _SINDy:trig_basis, Value: 'false'\n",
      "  model, Value: 'SINDy'\n",
      "\n"
     ]
    },
    {
     "name": "stderr",
     "output_type": "stream",
     "text": [
      "/home/william/.local/lib/python3.8/site-packages/sklearn/linear_model/_ridge.py:147: LinAlgWarning: Ill-conditioned matrix (rcond=8.19936e-20): result may not be accurate.\n",
      "  return linalg.solve(A, Xy, sym_pos=True,\n",
      "/home/william/.local/lib/python3.8/site-packages/sklearn/linear_model/_ridge.py:147: LinAlgWarning: Ill-conditioned matrix (rcond=8.19936e-20): result may not be accurate.\n",
      "  return linalg.solve(A, Xy, sym_pos=True,\n",
      "/home/william/.local/lib/python3.8/site-packages/sklearn/linear_model/_ridge.py:147: LinAlgWarning: Ill-conditioned matrix (rcond=8.19936e-20): result may not be accurate.\n",
      "  return linalg.solve(A, Xy, sym_pos=True,\n",
      "/home/william/.local/lib/python3.8/site-packages/sklearn/linear_model/_ridge.py:147: LinAlgWarning: Ill-conditioned matrix (rcond=8.19936e-20): result may not be accurate.\n",
      "  return linalg.solve(A, Xy, sym_pos=True,\n",
      "/home/william/.local/lib/python3.8/site-packages/pysindy/optimizers/stlsq.py:154: UserWarning: Sparsity parameter is too big (0.08659643233600649) and eliminated all coefficients\n",
      "  warnings.warn(\n",
      "INFO:smac.intensification.intensification.Intensifier:Wallclock time limit for intensification reached (used: 24.098075 sec, available: 0.000010 sec)\n"
     ]
    },
    {
     "name": "stdout",
     "output_type": "stream",
     "text": [
      "Model Score  0.6212711623082344\n",
      "Evaluating Cfg:\n",
      "Configuration:\n",
      "  _MLP:hidden_size_1, Value: 53\n",
      "  _MLP:hidden_size_2, Value: 174\n",
      "  _MLP:lr, Value: 0.6978305848598662\n",
      "  _MLP:n_hidden_layers, Value: '2'\n",
      "  _MLP:nonlintype, Value: 'selu'\n",
      "  model, Value: 'MLP'\n",
      "\n",
      "use_cuda=True\n",
      "MLP Using Cuda\n",
      "hidden_sizes= [53, 174]\n",
      "100%|██████████| 50/50 [01:04<00:00,  1.29s/it]"
     ]
    },
    {
     "name": "stderr",
     "output_type": "stream",
     "text": [
      "INFO:smac.intensification.intensification.Intensifier:Wallclock time limit for intensification reached (used: 64.777818 sec, available: 0.000010 sec)\n"
     ]
    },
    {
     "name": "stdout",
     "output_type": "stream",
     "text": [
      "\n",
      "Model Score  27.877152912503586\n",
      "Evaluating Cfg:\n",
      "Configuration:\n",
      "  _ARX:history, Value: 7\n",
      "  model, Value: 'ARX'\n",
      "\n"
     ]
    },
    {
     "name": "stderr",
     "output_type": "stream",
     "text": [
      "INFO:smac.intensification.intensification.Intensifier:Wallclock time limit for intensification reached (used: 1.009658 sec, available: 0.000010 sec)\n",
      "  0%|          | 0/5 [00:00<?, ?it/s]"
     ]
    },
    {
     "name": "stdout",
     "output_type": "stream",
     "text": [
      "Model Score  0.3052770985082724\n",
      "Evaluating Cfg:\n",
      "Configuration:\n",
      "  _ApproximateGP:induce_count, Value: 55\n",
      "  model, Value: 'ApproximateGP'\n",
      "\n",
      "Cuda is used for GPytorch\n"
     ]
    },
    {
     "name": "stderr",
     "output_type": "stream",
     "text": [
      "100%|██████████| 5/5 [00:10<00:00,  2.13s/it]\n",
      "INFO:smac.intensification.intensification.Intensifier:Wallclock time limit for intensification reached (used: 10.909319 sec, available: 0.000010 sec)\n"
     ]
    },
    {
     "name": "stdout",
     "output_type": "stream",
     "text": [
      "Model Score  0.29042856440373743\n",
      "Evaluating Cfg:\n",
      "Configuration:\n",
      "  _Koopman:method, Value: 'lstsq'\n",
      "  _Koopman:poly_basis, Value: 'true'\n",
      "  _Koopman:poly_degree, Value: 3\n",
      "  _Koopman:product_terms, Value: 'false'\n",
      "  _Koopman:trig_basis, Value: 'true'\n",
      "  _Koopman:trig_freq, Value: 6\n",
      "  model, Value: 'Koopman'\n",
      "\n"
     ]
    },
    {
     "name": "stderr",
     "output_type": "stream",
     "text": [
      "INFO:smac.intensification.intensification.Intensifier:Wallclock time limit for intensification reached (used: 2.588321 sec, available: 0.000010 sec)\n"
     ]
    },
    {
     "name": "stdout",
     "output_type": "stream",
     "text": [
      "Model Score  0.37257279422282424\n",
      "Evaluating Cfg:\n",
      "Configuration:\n",
      "  _Koopman:method, Value: 'lstsq'\n",
      "  _Koopman:poly_basis, Value: 'false'\n",
      "  _Koopman:product_terms, Value: 'false'\n",
      "  _Koopman:trig_basis, Value: 'true'\n",
      "  _Koopman:trig_freq, Value: 4\n",
      "  model, Value: 'Koopman'\n",
      "\n"
     ]
    },
    {
     "name": "stderr",
     "output_type": "stream",
     "text": [
      "INFO:smac.intensification.intensification.Intensifier:Wallclock time limit for intensification reached (used: 1.062774 sec, available: 0.000010 sec)\n"
     ]
    },
    {
     "name": "stdout",
     "output_type": "stream",
     "text": [
      "Model Score  0.28520659732163073\n",
      "Evaluating Cfg:\n",
      "Configuration:\n",
      "  _Koopman:method, Value: 'stable'\n",
      "  _Koopman:poly_basis, Value: 'true'\n",
      "  _Koopman:poly_degree, Value: 2\n",
      "  _Koopman:product_terms, Value: 'false'\n",
      "  _Koopman:trig_basis, Value: 'true'\n",
      "  _Koopman:trig_freq, Value: 5\n",
      "  model, Value: 'Koopman'\n",
      "\n",
      "Compute Stable Koopman\n",
      "None\n",
      "[[1. 0. 0. 0. 0. 0. 0. 0. 0. 0. 0. 0. 0. 0. 0. 0. 0. 0. 0. 0. 0. 0. 0. 0.]\n",
      " [0. 1. 0. 0. 0. 0. 0. 0. 0. 0. 0. 0. 0. 0. 0. 0. 0. 0. 0. 0. 0. 0. 0. 0.]\n",
      " [0. 0. 1. 0. 0. 0. 0. 0. 0. 0. 0. 0. 0. 0. 0. 0. 0. 0. 0. 0. 0. 0. 0. 0.]\n",
      " [0. 0. 0. 1. 0. 0. 0. 0. 0. 0. 0. 0. 0. 0. 0. 0. 0. 0. 0. 0. 0. 0. 0. 0.]\n",
      " [0. 0. 0. 0. 1. 0. 0. 0. 0. 0. 0. 0. 0. 0. 0. 0. 0. 0. 0. 0. 0. 0. 0. 0.]\n",
      " [0. 0. 0. 0. 0. 1. 0. 0. 0. 0. 0. 0. 0. 0. 0. 0. 0. 0. 0. 0. 0. 0. 0. 0.]\n",
      " [0. 0. 0. 0. 0. 0. 1. 0. 0. 0. 0. 0. 0. 0. 0. 0. 0. 0. 0. 0. 0. 0. 0. 0.]\n",
      " [0. 0. 0. 0. 0. 0. 0. 1. 0. 0. 0. 0. 0. 0. 0. 0. 0. 0. 0. 0. 0. 0. 0. 0.]\n",
      " [0. 0. 0. 0. 0. 0. 0. 0. 1. 0. 0. 0. 0. 0. 0. 0. 0. 0. 0. 0. 0. 0. 0. 0.]\n",
      " [0. 0. 0. 0. 0. 0. 0. 0. 0. 1. 0. 0. 0. 0. 0. 0. 0. 0. 0. 0. 0. 0. 0. 0.]\n",
      " [0. 0. 0. 0. 0. 0. 0. 0. 0. 0. 1. 0. 0. 0. 0. 0. 0. 0. 0. 0. 0. 0. 0. 0.]\n",
      " [0. 0. 0. 0. 0. 0. 0. 0. 0. 0. 0. 1. 0. 0. 0. 0. 0. 0. 0. 0. 0. 0. 0. 0.]\n",
      " [0. 0. 0. 0. 0. 0. 0. 0. 0. 0. 0. 0. 1. 0. 0. 0. 0. 0. 0. 0. 0. 0. 0. 0.]\n",
      " [0. 0. 0. 0. 0. 0. 0. 0. 0. 0. 0. 0. 0. 1. 0. 0. 0. 0. 0. 0. 0. 0. 0. 0.]\n",
      " [0. 0. 0. 0. 0. 0. 0. 0. 0. 0. 0. 0. 0. 0. 1. 0. 0. 0. 0. 0. 0. 0. 0. 0.]\n",
      " [0. 0. 0. 0. 0. 0. 0. 0. 0. 0. 0. 0. 0. 0. 0. 1. 0. 0. 0. 0. 0. 0. 0. 0.]\n",
      " [0. 0. 0. 0. 0. 0. 0. 0. 0. 0. 0. 0. 0. 0. 0. 0. 1. 0. 0. 0. 0. 0. 0. 0.]\n",
      " [0. 0. 0. 0. 0. 0. 0. 0. 0. 0. 0. 0. 0. 0. 0. 0. 0. 1. 0. 0. 0. 0. 0. 0.]\n",
      " [0. 0. 0. 0. 0. 0. 0. 0. 0. 0. 0. 0. 0. 0. 0. 0. 0. 0. 1. 0. 0. 0. 0. 0.]\n",
      " [0. 0. 0. 0. 0. 0. 0. 0. 0. 0. 0. 0. 0. 0. 0. 0. 0. 0. 0. 1. 0. 0. 0. 0.]\n",
      " [0. 0. 0. 0. 0. 0. 0. 0. 0. 0. 0. 0. 0. 0. 0. 0. 0. 0. 0. 0. 1. 0. 0. 0.]\n",
      " [0. 0. 0. 0. 0. 0. 0. 0. 0. 0. 0. 0. 0. 0. 0. 0. 0. 0. 0. 0. 0. 1. 0. 0.]\n",
      " [0. 0. 0. 0. 0. 0. 0. 0. 0. 0. 0. 0. 0. 0. 0. 0. 0. 0. 0. 0. 0. 0. 1. 0.]\n",
      " [0. 0. 0. 0. 0. 0. 0. 0. 0. 0. 0. 0. 0. 0. 0. 0. 0. 0. 0. 0. 0. 0. 0. 1.]]\n",
      "Error is  31346.183312738405\n",
      " No descent: Restart FGM\n",
      " No descent: Restart FGM\n",
      " No descent: Restart FGM\n"
     ]
    },
    {
     "name": "stderr",
     "output_type": "stream",
     "text": [
      "ERROR:smac.tae.execute_func.ExecuteTAFuncDict:Object of type complex128 is not JSON serializable\n",
      "Traceback (most recent call last):\n",
      "  File \"/home/william/.local/lib/python3.8/site-packages/smac/tae/execute_func.py\", line 226, in run\n",
      "    json.dumps(cost)\n",
      "  File \"/usr/lib/python3.8/json/__init__.py\", line 231, in dumps\n",
      "    return _default_encoder.encode(obj)\n",
      "  File \"/usr/lib/python3.8/json/encoder.py\", line 199, in encode\n",
      "    chunks = self.iterencode(o, _one_shot=True)\n",
      "  File \"/usr/lib/python3.8/json/encoder.py\", line 257, in iterencode\n",
      "    return _iterencode(o, 0)\n",
      "  File \"/usr/lib/python3.8/json/encoder.py\", line 179, in default\n",
      "    raise TypeError(f'Object of type {o.__class__.__name__} '\n",
      "TypeError: Object of type complex128 is not JSON serializable\n",
      "INFO:smac.intensification.intensification.Intensifier:Wallclock time limit for intensification reached (used: 9.135934 sec, available: 0.000010 sec)\n"
     ]
    },
    {
     "name": "stdout",
     "output_type": "stream",
     "text": [
      "Model Score  (8.308802626636247-12.895201124530459j)\n",
      "Evaluating Cfg:\n",
      "Configuration:\n",
      "  _Koopman:method, Value: 'lstsq'\n",
      "  _Koopman:poly_basis, Value: 'true'\n",
      "  _Koopman:poly_degree, Value: 6\n",
      "  _Koopman:product_terms, Value: 'false'\n",
      "  _Koopman:trig_basis, Value: 'true'\n",
      "  _Koopman:trig_freq, Value: 2\n",
      "  model, Value: 'Koopman'\n",
      "\n"
     ]
    },
    {
     "name": "stderr",
     "output_type": "stream",
     "text": [
      "INFO:smac.intensification.intensification.Intensifier:Wallclock time limit for intensification reached (used: 6.800287 sec, available: 0.000010 sec)\n"
     ]
    },
    {
     "name": "stdout",
     "output_type": "stream",
     "text": [
      "Model Score  0.4001908002857867\n",
      "Evaluating Cfg:\n",
      "Configuration:\n",
      "  _Koopman:method, Value: 'lstsq'\n",
      "  _Koopman:poly_basis, Value: 'false'\n",
      "  _Koopman:product_terms, Value: 'false'\n",
      "  _Koopman:trig_basis, Value: 'true'\n",
      "  _Koopman:trig_freq, Value: 7\n",
      "  model, Value: 'Koopman'\n",
      "\n"
     ]
    },
    {
     "name": "stderr",
     "output_type": "stream",
     "text": [
      "INFO:smac.intensification.intensification.Intensifier:Wallclock time limit for intensification reached (used: 1.069260 sec, available: 0.000010 sec)\n"
     ]
    },
    {
     "name": "stdout",
     "output_type": "stream",
     "text": [
      "Model Score  0.28520659732163073\n",
      "Evaluating Cfg:\n",
      "Configuration:\n",
      "  _Koopman:lasso_alpha, Value: 9.905232643930044e-08\n",
      "  _Koopman:method, Value: 'lasso'\n",
      "  _Koopman:poly_basis, Value: 'false'\n",
      "  _Koopman:product_terms, Value: 'false'\n",
      "  _Koopman:trig_basis, Value: 'true'\n",
      "  _Koopman:trig_freq, Value: 7\n",
      "  model, Value: 'Koopman'\n",
      "\n",
      "Call Lasso\n"
     ]
    },
    {
     "name": "stderr",
     "output_type": "stream",
     "text": [
      "INFO:smac.intensification.intensification.Intensifier:Wallclock time limit for intensification reached (used: 1.408598 sec, available: 0.000010 sec)\n"
     ]
    },
    {
     "name": "stdout",
     "output_type": "stream",
     "text": [
      "Model Score  0.28520868161739876\n",
      "Evaluating Cfg:\n",
      "Configuration:\n",
      "  _Koopman:method, Value: 'lstsq'\n",
      "  _Koopman:poly_basis, Value: 'true'\n",
      "  _Koopman:poly_degree, Value: 8\n",
      "  _Koopman:product_terms, Value: 'false'\n",
      "  _Koopman:trig_basis, Value: 'true'\n",
      "  _Koopman:trig_freq, Value: 7\n",
      "  model, Value: 'Koopman'\n",
      "\n"
     ]
    },
    {
     "name": "stderr",
     "output_type": "stream",
     "text": [
      "INFO:smac.intensification.intensification.Intensifier:Wallclock time limit for intensification reached (used: 9.136180 sec, available: 0.000010 sec)\n"
     ]
    },
    {
     "name": "stdout",
     "output_type": "stream",
     "text": [
      "Model Score  85.60483259404945\n",
      "Evaluating Cfg:\n",
      "Configuration:\n",
      "  _Koopman:lasso_alpha, Value: 0.1205677068690809\n",
      "  _Koopman:method, Value: 'lasso'\n",
      "  _Koopman:poly_basis, Value: 'false'\n",
      "  _Koopman:product_terms, Value: 'false'\n",
      "  _Koopman:trig_basis, Value: 'true'\n",
      "  _Koopman:trig_freq, Value: 5\n",
      "  model, Value: 'Koopman'\n",
      "\n",
      "Call Lasso\n"
     ]
    },
    {
     "name": "stderr",
     "output_type": "stream",
     "text": [
      "INFO:smac.intensification.intensification.Intensifier:Wallclock time limit for intensification reached (used: 1.081069 sec, available: 0.000010 sec)\n"
     ]
    },
    {
     "name": "stdout",
     "output_type": "stream",
     "text": [
      "Model Score  0.35344950065467057\n",
      "Evaluating Cfg:\n",
      "Configuration:\n",
      "  _Koopman:lasso_alpha, Value: 0.5896132796918191\n",
      "  _Koopman:method, Value: 'lasso'\n",
      "  _Koopman:poly_basis, Value: 'true'\n",
      "  _Koopman:poly_degree, Value: 3\n",
      "  _Koopman:product_terms, Value: 'false'\n",
      "  _Koopman:trig_basis, Value: 'true'\n",
      "  _Koopman:trig_freq, Value: 5\n",
      "  model, Value: 'Koopman'\n",
      "\n",
      "Call Lasso\n"
     ]
    },
    {
     "name": "stderr",
     "output_type": "stream",
     "text": [
      "/home/william/.local/lib/python3.8/site-packages/sklearn/linear_model/_coordinate_descent.py:529: ConvergenceWarning: Objective did not converge. You might want to increase the number of iterations. Duality gap: 175698004.50507697, tolerance: 4717928.837888947\n",
      "  model = cd_fast.enet_coordinate_descent(\n",
      "INFO:smac.intensification.intensification.Intensifier:Wallclock time limit for intensification reached (used: 6.789550 sec, available: 0.000010 sec)\n"
     ]
    },
    {
     "name": "stdout",
     "output_type": "stream",
     "text": [
      "Model Score  0.7050071371713144\n",
      "Evaluating Cfg:\n",
      "Configuration:\n",
      "  _Koopman:method, Value: 'lstsq'\n",
      "  _Koopman:poly_basis, Value: 'true'\n",
      "  _Koopman:poly_degree, Value: 2\n",
      "  _Koopman:product_terms, Value: 'false'\n",
      "  _Koopman:trig_basis, Value: 'true'\n",
      "  _Koopman:trig_freq, Value: 2\n",
      "  model, Value: 'Koopman'\n",
      "\n"
     ]
    },
    {
     "name": "stderr",
     "output_type": "stream",
     "text": [
      "INFO:smac.intensification.intensification.Intensifier:Wallclock time limit for intensification reached (used: 1.871064 sec, available: 0.000010 sec)\n"
     ]
    },
    {
     "name": "stdout",
     "output_type": "stream",
     "text": [
      "Model Score  0.355501549119182\n",
      "Evaluating Cfg:\n",
      "Configuration:\n",
      "  _MLP:hidden_size_1, Value: 215\n",
      "  _MLP:hidden_size_2, Value: 45\n",
      "  _MLP:lr, Value: 0.12101107355038654\n",
      "  _MLP:n_hidden_layers, Value: '2'\n",
      "  _MLP:nonlintype, Value: 'relu'\n",
      "  model, Value: 'MLP'\n",
      "\n",
      "use_cuda=True\n",
      "MLP Using Cuda\n",
      "hidden_sizes= [215, 45]\n",
      "100%|██████████| 50/50 [01:05<00:00,  1.30s/it]"
     ]
    },
    {
     "name": "stderr",
     "output_type": "stream",
     "text": [
      "INFO:smac.intensification.intensification.Intensifier:Wallclock time limit for intensification reached (used: 65.198838 sec, available: 0.000010 sec)\n"
     ]
    },
    {
     "name": "stdout",
     "output_type": "stream",
     "text": [
      "\n",
      "Model Score  0.39958617015351944\n",
      "Evaluating Cfg:\n",
      "Configuration:\n",
      "  _Koopman:method, Value: 'lstsq'\n",
      "  _Koopman:poly_basis, Value: 'false'\n",
      "  _Koopman:product_terms, Value: 'false'\n",
      "  _Koopman:trig_basis, Value: 'true'\n",
      "  _Koopman:trig_freq, Value: 8\n",
      "  model, Value: 'Koopman'\n",
      "\n"
     ]
    },
    {
     "name": "stderr",
     "output_type": "stream",
     "text": [
      "INFO:smac.intensification.intensification.Intensifier:Wallclock time limit for intensification reached (used: 1.085469 sec, available: 0.000010 sec)\n",
      "  0%|          | 0/5 [00:00<?, ?it/s]"
     ]
    },
    {
     "name": "stdout",
     "output_type": "stream",
     "text": [
      "Model Score  0.28520659732163073\n",
      "Evaluating Cfg:\n",
      "Configuration:\n",
      "  _ApproximateGP:induce_count, Value: 86\n",
      "  model, Value: 'ApproximateGP'\n",
      "\n",
      "Cuda is used for GPytorch\n"
     ]
    },
    {
     "name": "stderr",
     "output_type": "stream",
     "text": [
      "100%|██████████| 5/5 [00:11<00:00,  2.33s/it]\n",
      "INFO:smac.intensification.intensification.Intensifier:Wallclock time limit for intensification reached (used: 11.885397 sec, available: 0.000010 sec)\n"
     ]
    },
    {
     "name": "stdout",
     "output_type": "stream",
     "text": [
      "Model Score  0.25067523389274987\n",
      "Evaluating Cfg:\n",
      "Configuration:\n",
      "  _MLP:hidden_size_1, Value: 168\n",
      "  _MLP:hidden_size_2, Value: 146\n",
      "  _MLP:hidden_size_3, Value: 70\n",
      "  _MLP:lr, Value: 0.044286301667183524\n",
      "  _MLP:n_hidden_layers, Value: '3'\n",
      "  _MLP:nonlintype, Value: 'relu'\n",
      "  model, Value: 'MLP'\n",
      "\n",
      "use_cuda=True\n",
      "MLP Using Cuda\n",
      "hidden_sizes= [168, 146, 70]\n",
      "100%|██████████| 50/50 [01:25<00:00,  1.71s/it]"
     ]
    },
    {
     "name": "stderr",
     "output_type": "stream",
     "text": [
      "INFO:smac.intensification.intensification.Intensifier:Challenger (0.1146) is better than incumbent (0.1691) on 1 runs.\n",
      "INFO:smac.intensification.intensification.Intensifier:Changes in incumbent:\n",
      "INFO:smac.intensification.intensification.Intensifier:  _MLP:hidden_size_1 : 151 -> 168\n",
      "INFO:smac.intensification.intensification.Intensifier:  _MLP:hidden_size_2 : 91 -> 146\n",
      "INFO:smac.intensification.intensification.Intensifier:  _MLP:hidden_size_3 : 61 -> 70\n",
      "INFO:smac.intensification.intensification.Intensifier:  _MLP:lr : 0.11547819846894583 -> 0.044286301667183524\n",
      "INFO:smac.intensification.intensification.Intensifier:Wallclock time limit for intensification reached (used: 85.764985 sec, available: 0.000010 sec)\n"
     ]
    },
    {
     "name": "stdout",
     "output_type": "stream",
     "text": [
      "\n",
      "Model Score  0.11457502746462178\n",
      "Evaluating Cfg:\n",
      "Configuration:\n",
      "  _Koopman:lasso_alpha, Value: 0.019789811946038377\n",
      "  _Koopman:method, Value: 'lasso'\n",
      "  _Koopman:poly_basis, Value: 'true'\n",
      "  _Koopman:poly_degree, Value: 7\n",
      "  _Koopman:product_terms, Value: 'false'\n",
      "  _Koopman:trig_basis, Value: 'false'\n",
      "  model, Value: 'Koopman'\n",
      "\n",
      "Call Lasso\n"
     ]
    },
    {
     "name": "stderr",
     "output_type": "stream",
     "text": [
      "/home/william/.local/lib/python3.8/site-packages/sklearn/linear_model/_coordinate_descent.py:529: ConvergenceWarning: Objective did not converge. You might want to increase the number of iterations. Duality gap: 30847799866447.703, tolerance: 1311365610555.7605\n",
      "  model = cd_fast.enet_coordinate_descent(\n",
      "/home/william/.local/lib/python3.8/site-packages/sklearn/linear_model/_coordinate_descent.py:529: ConvergenceWarning: Objective did not converge. You might want to increase the number of iterations. Duality gap: 5561093461059.446, tolerance: 3500257675.963731\n",
      "  model = cd_fast.enet_coordinate_descent(\n",
      "/home/william/.local/lib/python3.8/site-packages/sklearn/linear_model/_coordinate_descent.py:529: ConvergenceWarning: Objective did not converge. You might want to increase the number of iterations. Duality gap: 3.501226239267774e+19, tolerance: 3.552255271306642e+17\n",
      "  model = cd_fast.enet_coordinate_descent(\n",
      "INFO:smac.intensification.intensification.Intensifier:Wallclock time limit for intensification reached (used: 34.400081 sec, available: 0.000010 sec)\n"
     ]
    },
    {
     "name": "stdout",
     "output_type": "stream",
     "text": [
      "Model Score  0.396872568000847\n",
      "Evaluating Cfg:\n",
      "Configuration:\n",
      "  _MLP:hidden_size_1, Value: 148\n",
      "  _MLP:hidden_size_2, Value: 106\n",
      "  _MLP:hidden_size_3, Value: 75\n",
      "  _MLP:lr, Value: 0.20114230525018412\n",
      "  _MLP:n_hidden_layers, Value: '3'\n",
      "  _MLP:nonlintype, Value: 'relu'\n",
      "  model, Value: 'MLP'\n",
      "\n",
      "use_cuda=True\n",
      "MLP Using Cuda\n",
      "hidden_sizes= [148, 106, 75]\n",
      "100%|██████████| 50/50 [01:24<00:00,  1.69s/it]"
     ]
    },
    {
     "name": "stderr",
     "output_type": "stream",
     "text": [
      "INFO:smac.intensification.intensification.Intensifier:Wallclock time limit for intensification reached (used: 84.520394 sec, available: 0.000010 sec)\n"
     ]
    },
    {
     "name": "stdout",
     "output_type": "stream",
     "text": [
      "\n",
      "Model Score  0.8792032489427247\n",
      "Evaluating Cfg:\n",
      "Configuration:\n",
      "  _MLP:hidden_size_1, Value: 189\n",
      "  _MLP:hidden_size_2, Value: 167\n",
      "  _MLP:hidden_size_3, Value: 214\n",
      "  _MLP:lr, Value: 0.018752261938273146\n",
      "  _MLP:n_hidden_layers, Value: '3'\n",
      "  _MLP:nonlintype, Value: 'tanh'\n",
      "  model, Value: 'MLP'\n",
      "\n",
      "use_cuda=True\n",
      "MLP Using Cuda\n",
      "hidden_sizes= [189, 167, 214]\n",
      "100%|██████████| 50/50 [01:23<00:00,  1.67s/it]"
     ]
    },
    {
     "name": "stderr",
     "output_type": "stream",
     "text": [
      "INFO:smac.intensification.intensification.Intensifier:Wallclock time limit for intensification reached (used: 83.561642 sec, available: 0.000010 sec)\n"
     ]
    },
    {
     "name": "stdout",
     "output_type": "stream",
     "text": [
      "\n",
      "Model Score  0.2248528649107109\n",
      "Evaluating Cfg:\n",
      "Configuration:\n",
      "  _MLP:hidden_size_1, Value: 168\n",
      "  _MLP:hidden_size_2, Value: 172\n",
      "  _MLP:hidden_size_3, Value: 53\n",
      "  _MLP:lr, Value: 0.044286301667183524\n",
      "  _MLP:n_hidden_layers, Value: '3'\n",
      "  _MLP:nonlintype, Value: 'tanh'\n",
      "  model, Value: 'MLP'\n",
      "\n",
      "use_cuda=True\n",
      "MLP Using Cuda\n",
      "hidden_sizes= [168, 172, 53]\n",
      "100%|██████████| 50/50 [01:23<00:00,  1.68s/it]"
     ]
    },
    {
     "name": "stderr",
     "output_type": "stream",
     "text": [
      "INFO:smac.intensification.intensification.Intensifier:Wallclock time limit for intensification reached (used: 84.048025 sec, available: 0.000010 sec)\n",
      "  0%|          | 0/5 [00:00<?, ?it/s]"
     ]
    },
    {
     "name": "stdout",
     "output_type": "stream",
     "text": [
      "\n",
      "Model Score  0.32232153101049926\n",
      "Evaluating Cfg:\n",
      "Configuration:\n",
      "  _ApproximateGP:induce_count, Value: 146\n",
      "  model, Value: 'ApproximateGP'\n",
      "\n",
      "Cuda is used for GPytorch\n"
     ]
    },
    {
     "name": "stderr",
     "output_type": "stream",
     "text": [
      "100%|██████████| 5/5 [00:15<00:00,  3.05s/it]\n",
      "INFO:smac.intensification.intensification.Intensifier:Wallclock time limit for intensification reached (used: 15.561842 sec, available: 0.000010 sec)\n"
     ]
    },
    {
     "name": "stdout",
     "output_type": "stream",
     "text": [
      "Model Score  0.2190351120947691\n",
      "Evaluating Cfg:\n",
      "Configuration:\n",
      "  _MLP:hidden_size_1, Value: 145\n",
      "  _MLP:hidden_size_2, Value: 170\n",
      "  _MLP:hidden_size_3, Value: 67\n",
      "  _MLP:lr, Value: 0.05788680636796972\n",
      "  _MLP:n_hidden_layers, Value: '3'\n",
      "  _MLP:nonlintype, Value: 'relu'\n",
      "  model, Value: 'MLP'\n",
      "\n",
      "use_cuda=True\n",
      "MLP Using Cuda\n",
      "hidden_sizes= [145, 170, 67]\n",
      "100%|██████████| 50/50 [01:24<00:00,  1.68s/it]"
     ]
    },
    {
     "name": "stderr",
     "output_type": "stream",
     "text": [
      "INFO:smac.intensification.intensification.Intensifier:Challenger (0.1010) is better than incumbent (0.1146) on 1 runs.\n",
      "INFO:smac.intensification.intensification.Intensifier:Changes in incumbent:\n",
      "INFO:smac.intensification.intensification.Intensifier:  _MLP:hidden_size_1 : 168 -> 145\n",
      "INFO:smac.intensification.intensification.Intensifier:  _MLP:hidden_size_2 : 146 -> 170\n",
      "INFO:smac.intensification.intensification.Intensifier:  _MLP:hidden_size_3 : 70 -> 67\n",
      "INFO:smac.intensification.intensification.Intensifier:  _MLP:lr : 0.044286301667183524 -> 0.05788680636796972\n",
      "INFO:smac.intensification.intensification.Intensifier:Wallclock time limit for intensification reached (used: 84.175555 sec, available: 0.000010 sec)\n"
     ]
    },
    {
     "name": "stdout",
     "output_type": "stream",
     "text": [
      "\n",
      "Model Score  0.10098064371243384\n",
      "Evaluating Cfg:\n",
      "Configuration:\n",
      "  _MLP:hidden_size_1, Value: 129\n",
      "  _MLP:hidden_size_2, Value: 173\n",
      "  _MLP:hidden_size_3, Value: 67\n",
      "  _MLP:lr, Value: 0.05236778950723883\n",
      "  _MLP:n_hidden_layers, Value: '3'\n",
      "  _MLP:nonlintype, Value: 'relu'\n",
      "  model, Value: 'MLP'\n",
      "\n",
      "use_cuda=True\n",
      "MLP Using Cuda\n",
      "hidden_sizes= [129, 173, 67]\n",
      "100%|██████████| 50/50 [01:23<00:00,  1.67s/it]"
     ]
    },
    {
     "name": "stderr",
     "output_type": "stream",
     "text": [
      "INFO:smac.intensification.intensification.Intensifier:Wallclock time limit for intensification reached (used: 83.774671 sec, available: 0.000010 sec)\n"
     ]
    },
    {
     "name": "stdout",
     "output_type": "stream",
     "text": [
      "\n",
      "Model Score  0.10149202728723679\n",
      "Evaluating Cfg:\n",
      "Configuration:\n",
      "  _MLP:hidden_size_1, Value: 117\n",
      "  _MLP:lr, Value: 0.000989663782031484\n",
      "  _MLP:n_hidden_layers, Value: '1'\n",
      "  _MLP:nonlintype, Value: 'selu'\n",
      "  model, Value: 'MLP'\n",
      "\n",
      "use_cuda=True\n",
      "MLP Using Cuda\n",
      "hidden_sizes= [117]\n",
      "100%|██████████| 50/50 [00:46<00:00,  1.07it/s]"
     ]
    },
    {
     "name": "stderr",
     "output_type": "stream",
     "text": [
      "INFO:smac.intensification.intensification.Intensifier:Challenger (0.0644) is better than incumbent (0.1010) on 1 runs.\n",
      "INFO:smac.intensification.intensification.Intensifier:Changes in incumbent:\n",
      "INFO:smac.intensification.intensification.Intensifier:  _MLP:hidden_size_1 : 145 -> 117\n",
      "INFO:smac.intensification.intensification.Intensifier:  _MLP:lr : 0.05788680636796972 -> 0.000989663782031484\n",
      "INFO:smac.intensification.intensification.Intensifier:  _MLP:n_hidden_layers : '3' -> '1'\n",
      "INFO:smac.intensification.intensification.Intensifier:  _MLP:nonlintype : 'relu' -> 'selu'\n",
      "INFO:smac.intensification.intensification.Intensifier:Wallclock time limit for intensification reached (used: 46.677622 sec, available: 0.000010 sec)\n"
     ]
    },
    {
     "name": "stdout",
     "output_type": "stream",
     "text": [
      "\n",
      "Model Score  0.06442636031851984\n",
      "Evaluating Cfg:\n",
      "Configuration:\n",
      "  _MLP:hidden_size_1, Value: 132\n",
      "  _MLP:hidden_size_2, Value: 233\n",
      "  _MLP:hidden_size_3, Value: 68\n",
      "  _MLP:hidden_size_4, Value: 183\n",
      "  _MLP:lr, Value: 0.080745685243328\n",
      "  _MLP:n_hidden_layers, Value: '4'\n",
      "  _MLP:nonlintype, Value: 'relu'\n",
      "  model, Value: 'MLP'\n",
      "\n",
      "use_cuda=True\n",
      "MLP Using Cuda\n",
      "hidden_sizes= [132, 233, 68, 183]\n",
      "100%|██████████| 50/50 [01:42<00:00,  2.06s/it]"
     ]
    },
    {
     "name": "stderr",
     "output_type": "stream",
     "text": [
      "INFO:smac.intensification.intensification.Intensifier:Wallclock time limit for intensification reached (used: 103.022566 sec, available: 0.000010 sec)\n"
     ]
    },
    {
     "name": "stdout",
     "output_type": "stream",
     "text": [
      "\n",
      "Model Score  0.14567062900631242\n",
      "Evaluating Cfg:\n",
      "Configuration:\n",
      "  _MLP:hidden_size_1, Value: 94\n",
      "  _MLP:hidden_size_2, Value: 230\n",
      "  _MLP:hidden_size_3, Value: 169\n",
      "  _MLP:lr, Value: 0.047343638593585965\n",
      "  _MLP:n_hidden_layers, Value: '3'\n",
      "  _MLP:nonlintype, Value: 'selu'\n",
      "  model, Value: 'MLP'\n",
      "\n",
      "use_cuda=True\n",
      "MLP Using Cuda\n",
      "hidden_sizes= [94, 230, 169]\n",
      "100%|██████████| 50/50 [01:23<00:00,  1.67s/it]"
     ]
    },
    {
     "name": "stderr",
     "output_type": "stream",
     "text": [
      "INFO:smac.intensification.intensification.Intensifier:Wallclock time limit for intensification reached (used: 83.707929 sec, available: 0.000010 sec)\n"
     ]
    },
    {
     "name": "stdout",
     "output_type": "stream",
     "text": [
      "\n",
      "Model Score  1.0959885709131838\n",
      "Evaluating Cfg:\n",
      "Configuration:\n",
      "  _MLP:hidden_size_1, Value: 126\n",
      "  _MLP:hidden_size_2, Value: 181\n",
      "  _MLP:hidden_size_3, Value: 67\n",
      "  _MLP:lr, Value: 0.05157899348231353\n",
      "  _MLP:n_hidden_layers, Value: '3'\n",
      "  _MLP:nonlintype, Value: 'relu'\n",
      "  model, Value: 'MLP'\n",
      "\n",
      "use_cuda=True\n",
      "MLP Using Cuda\n",
      "hidden_sizes= [126, 181, 67]\n",
      "100%|██████████| 50/50 [01:21<00:00,  1.64s/it]"
     ]
    },
    {
     "name": "stderr",
     "output_type": "stream",
     "text": [
      "INFO:smac.intensification.intensification.Intensifier:Wallclock time limit for intensification reached (used: 81.977837 sec, available: 0.000010 sec)\n"
     ]
    },
    {
     "name": "stdout",
     "output_type": "stream",
     "text": [
      "\n",
      "Model Score  0.13203199016254846\n",
      "Evaluating Cfg:\n",
      "Configuration:\n",
      "  _Koopman:lasso_alpha, Value: 0.0005477449607079466\n",
      "  _Koopman:method, Value: 'lasso'\n",
      "  _Koopman:poly_basis, Value: 'true'\n",
      "  _Koopman:poly_degree, Value: 7\n",
      "  _Koopman:product_terms, Value: 'false'\n",
      "  _Koopman:trig_basis, Value: 'true'\n",
      "  _Koopman:trig_freq, Value: 8\n",
      "  model, Value: 'Koopman'\n",
      "\n",
      "Call Lasso\n"
     ]
    },
    {
     "name": "stderr",
     "output_type": "stream",
     "text": [
      "/home/william/.local/lib/python3.8/site-packages/sklearn/linear_model/_coordinate_descent.py:529: ConvergenceWarning: Objective did not converge. You might want to increase the number of iterations. Duality gap: 3087.396283892634, tolerance: 19.32133304533309\n",
      "  model = cd_fast.enet_coordinate_descent(\n",
      "/home/william/.local/lib/python3.8/site-packages/sklearn/linear_model/_coordinate_descent.py:529: ConvergenceWarning: Objective did not converge. You might want to increase the number of iterations. Duality gap: 30839334034557.387, tolerance: 1311365610555.7605\n",
      "  model = cd_fast.enet_coordinate_descent(\n",
      "/home/william/.local/lib/python3.8/site-packages/sklearn/linear_model/_coordinate_descent.py:529: ConvergenceWarning: Objective did not converge. You might want to increase the number of iterations. Duality gap: 5560259171633.489, tolerance: 3500257675.963731\n",
      "  model = cd_fast.enet_coordinate_descent(\n",
      "/home/william/.local/lib/python3.8/site-packages/sklearn/linear_model/_coordinate_descent.py:529: ConvergenceWarning: Objective did not converge. You might want to increase the number of iterations. Duality gap: 3.5001742013836247e+19, tolerance: 3.552255271306642e+17\n",
      "  model = cd_fast.enet_coordinate_descent(\n",
      "/home/william/.local/lib/python3.8/site-packages/sklearn/linear_model/_coordinate_descent.py:529: ConvergenceWarning: Objective did not converge. You might want to increase the number of iterations. Duality gap: 4451.243866341898, tolerance: 1.864380951089658\n",
      "  model = cd_fast.enet_coordinate_descent(\n",
      "/home/william/.local/lib/python3.8/site-packages/sklearn/linear_model/_coordinate_descent.py:529: ConvergenceWarning: Objective did not converge. You might want to increase the number of iterations. Duality gap: 8948.691094110392, tolerance: 1.9052873086278854\n",
      "  model = cd_fast.enet_coordinate_descent(\n",
      "INFO:smac.intensification.intensification.Intensifier:Wallclock time limit for intensification reached (used: 234.211440 sec, available: 0.000010 sec)\n"
     ]
    },
    {
     "name": "stdout",
     "output_type": "stream",
     "text": [
      "Model Score  0.3952621094506188\n",
      "Evaluating Cfg:\n",
      "Configuration:\n",
      "  _MLP:hidden_size_1, Value: 120\n",
      "  _MLP:lr, Value: 0.3220908758924724\n",
      "  _MLP:n_hidden_layers, Value: '1'\n",
      "  _MLP:nonlintype, Value: 'relu'\n",
      "  model, Value: 'MLP'\n",
      "\n",
      "use_cuda=True\n",
      "MLP Using Cuda\n",
      "hidden_sizes= [120]\n",
      "100%|██████████| 50/50 [00:44<00:00,  1.11it/s]"
     ]
    },
    {
     "name": "stderr",
     "output_type": "stream",
     "text": [
      "INFO:smac.intensification.intensification.Intensifier:Wallclock time limit for intensification reached (used: 44.953711 sec, available: 0.000010 sec)\n"
     ]
    },
    {
     "name": "stdout",
     "output_type": "stream",
     "text": [
      "\n",
      "Model Score  0.4315104885089237\n",
      "Evaluating Cfg:\n",
      "Configuration:\n",
      "  _Koopman:method, Value: 'lstsq'\n",
      "  _Koopman:poly_basis, Value: 'true'\n",
      "  _Koopman:poly_degree, Value: 4\n",
      "  _Koopman:product_terms, Value: 'false'\n",
      "  _Koopman:trig_basis, Value: 'true'\n",
      "  _Koopman:trig_freq, Value: 4\n",
      "  model, Value: 'Koopman'\n",
      "\n"
     ]
    },
    {
     "name": "stderr",
     "output_type": "stream",
     "text": [
      "INFO:smac.intensification.intensification.Intensifier:Wallclock time limit for intensification reached (used: 4.572800 sec, available: 0.000010 sec)\n",
      "  0%|          | 0/5 [00:00<?, ?it/s]"
     ]
    },
    {
     "name": "stdout",
     "output_type": "stream",
     "text": [
      "Model Score  0.3949340021647401\n",
      "Evaluating Cfg:\n",
      "Configuration:\n",
      "  _ApproximateGP:induce_count, Value: 128\n",
      "  model, Value: 'ApproximateGP'\n",
      "\n",
      "Cuda is used for GPytorch\n"
     ]
    },
    {
     "name": "stderr",
     "output_type": "stream",
     "text": [
      "100%|██████████| 5/5 [00:12<00:00,  2.52s/it]\n",
      "INFO:smac.intensification.intensification.Intensifier:Wallclock time limit for intensification reached (used: 12.886008 sec, available: 0.000010 sec)\n"
     ]
    },
    {
     "name": "stdout",
     "output_type": "stream",
     "text": [
      "Model Score  0.21863510789140714\n",
      "Evaluating Cfg:\n",
      "Configuration:\n",
      "  _MLP:hidden_size_1, Value: 201\n",
      "  _MLP:hidden_size_2, Value: 26\n",
      "  _MLP:lr, Value: 1.4823726873899709e-05\n",
      "  _MLP:n_hidden_layers, Value: '2'\n",
      "  _MLP:nonlintype, Value: 'selu'\n",
      "  model, Value: 'MLP'\n",
      "\n",
      "use_cuda=True\n",
      "MLP Using Cuda\n",
      "hidden_sizes= [201, 26]\n",
      "100%|██████████| 50/50 [01:06<00:00,  1.33s/it]"
     ]
    },
    {
     "name": "stderr",
     "output_type": "stream",
     "text": [
      "INFO:smac.intensification.intensification.Intensifier:Wallclock time limit for intensification reached (used: 66.387005 sec, available: 0.000010 sec)\n"
     ]
    },
    {
     "name": "stdout",
     "output_type": "stream",
     "text": [
      "\n",
      "Model Score  0.38081387249392956\n",
      "Evaluating Cfg:\n",
      "Configuration:\n",
      "  _MLP:hidden_size_1, Value: 209\n",
      "  _MLP:hidden_size_2, Value: 50\n",
      "  _MLP:lr, Value: 3.258018827949837e-05\n",
      "  _MLP:n_hidden_layers, Value: '2'\n",
      "  _MLP:nonlintype, Value: 'tanh'\n",
      "  model, Value: 'MLP'\n",
      "\n",
      "use_cuda=True\n",
      "MLP Using Cuda\n",
      "hidden_sizes= [209, 50]\n",
      "100%|██████████| 50/50 [01:05<00:00,  1.30s/it]"
     ]
    },
    {
     "name": "stderr",
     "output_type": "stream",
     "text": [
      "INFO:smac.intensification.intensification.Intensifier:Wallclock time limit for intensification reached (used: 65.194520 sec, available: 0.000010 sec)\n"
     ]
    },
    {
     "name": "stdout",
     "output_type": "stream",
     "text": [
      "\n",
      "Model Score  0.11883461551200945\n",
      "Evaluating Cfg:\n",
      "Configuration:\n",
      "  _MLP:hidden_size_1, Value: 109\n",
      "  _MLP:hidden_size_2, Value: 170\n",
      "  _MLP:hidden_size_3, Value: 65\n",
      "  _MLP:lr, Value: 0.3950139499385857\n",
      "  _MLP:n_hidden_layers, Value: '3'\n",
      "  _MLP:nonlintype, Value: 'relu'\n",
      "  model, Value: 'MLP'\n",
      "\n",
      "use_cuda=True\n",
      "MLP Using Cuda\n",
      "hidden_sizes= [109, 170, 65]\n",
      "100%|██████████| 50/50 [01:25<00:00,  1.70s/it]"
     ]
    },
    {
     "name": "stderr",
     "output_type": "stream",
     "text": [
      "INFO:smac.intensification.intensification.Intensifier:Wallclock time limit for intensification reached (used: 85.188651 sec, available: 0.000010 sec)\n"
     ]
    },
    {
     "name": "stdout",
     "output_type": "stream",
     "text": [
      "\n",
      "Model Score  0.862917379938388\n",
      "Evaluating Cfg:\n",
      "Configuration:\n",
      "  _MLP:hidden_size_1, Value: 34\n",
      "  _MLP:hidden_size_2, Value: 174\n",
      "  _MLP:hidden_size_3, Value: 73\n",
      "  _MLP:lr, Value: 1.0369359172037257e-05\n",
      "  _MLP:n_hidden_layers, Value: '3'\n",
      "  _MLP:nonlintype, Value: 'selu'\n",
      "  model, Value: 'MLP'\n",
      "\n",
      "use_cuda=True\n",
      "MLP Using Cuda\n",
      "hidden_sizes= [34, 174, 73]\n",
      "100%|██████████| 50/50 [01:24<00:00,  1.69s/it]"
     ]
    },
    {
     "name": "stderr",
     "output_type": "stream",
     "text": [
      "INFO:smac.intensification.intensification.Intensifier:Wallclock time limit for intensification reached (used: 84.327322 sec, available: 0.000010 sec)\n"
     ]
    },
    {
     "name": "stdout",
     "output_type": "stream",
     "text": [
      "\n",
      "Model Score  0.24903792569480507\n",
      "Evaluating Cfg:\n",
      "Configuration:\n",
      "  _MLP:hidden_size_1, Value: 141\n",
      "  _MLP:hidden_size_2, Value: 245\n",
      "  _MLP:lr, Value: 0.4916092104841561\n",
      "  _MLP:n_hidden_layers, Value: '2'\n",
      "  _MLP:nonlintype, Value: 'relu'\n",
      "  model, Value: 'MLP'\n",
      "\n",
      "use_cuda=True\n",
      "MLP Using Cuda\n",
      "hidden_sizes= [141, 245]\n",
      "100%|██████████| 50/50 [01:05<00:00,  1.32s/it]"
     ]
    },
    {
     "name": "stderr",
     "output_type": "stream",
     "text": [
      "INFO:smac.intensification.intensification.Intensifier:Wallclock time limit for intensification reached (used: 65.822069 sec, available: 0.000010 sec)\n"
     ]
    },
    {
     "name": "stdout",
     "output_type": "stream",
     "text": [
      "\n",
      "Model Score  0.8661954828462761\n",
      "Evaluating Cfg:\n",
      "Configuration:\n",
      "  _Koopman:lasso_alpha, Value: 1.0994609803547174e-06\n",
      "  _Koopman:method, Value: 'lasso'\n",
      "  _Koopman:poly_basis, Value: 'false'\n",
      "  _Koopman:product_terms, Value: 'false'\n",
      "  _Koopman:trig_basis, Value: 'false'\n",
      "  model, Value: 'Koopman'\n",
      "\n",
      "Call Lasso\n"
     ]
    },
    {
     "name": "stderr",
     "output_type": "stream",
     "text": [
      "INFO:smac.intensification.intensification.Intensifier:Wallclock time limit for intensification reached (used: 0.304742 sec, available: 0.000010 sec)\n"
     ]
    },
    {
     "name": "stdout",
     "output_type": "stream",
     "text": [
      "Model Score  0.3949173393830043\n",
      "Evaluating Cfg:\n",
      "Configuration:\n",
      "  _MLP:hidden_size_1, Value: 117\n",
      "  _MLP:hidden_size_2, Value: 183\n",
      "  _MLP:hidden_size_3, Value: 43\n",
      "  _MLP:lr, Value: 0.43367721652960756\n",
      "  _MLP:n_hidden_layers, Value: '3'\n",
      "  _MLP:nonlintype, Value: 'relu'\n",
      "  model, Value: 'MLP'\n",
      "\n",
      "use_cuda=True\n",
      "MLP Using Cuda\n",
      "hidden_sizes= [117, 183, 43]\n",
      "100%|██████████| 50/50 [01:23<00:00,  1.67s/it]"
     ]
    },
    {
     "name": "stderr",
     "output_type": "stream",
     "text": [
      "INFO:smac.intensification.intensification.Intensifier:Wallclock time limit for intensification reached (used: 83.601591 sec, available: 0.000010 sec)\n"
     ]
    },
    {
     "name": "stdout",
     "output_type": "stream",
     "text": [
      "\n",
      "Model Score  0.8649645621779164\n",
      "Evaluating Cfg:\n",
      "Configuration:\n",
      "  _SINDy:method, Value: 'lstsq'\n",
      "  _SINDy:poly_basis, Value: 'false'\n",
      "  _SINDy:poly_cross_terms, Value: 'false'\n",
      "  _SINDy:threshold, Value: 0.22103803910789718\n",
      "  _SINDy:time_mode, Value: 'continuous'\n",
      "  _SINDy:trig_basis, Value: 'true'\n",
      "  _SINDy:trig_freq, Value: 4\n",
      "  _SINDy:trig_interaction, Value: 'true'\n",
      "  model, Value: 'SINDy'\n",
      "\n"
     ]
    },
    {
     "name": "stderr",
     "output_type": "stream",
     "text": [
      "INFO:smac.intensification.intensification.Intensifier:Wallclock time limit for intensification reached (used: 11.337656 sec, available: 0.000010 sec)\n"
     ]
    },
    {
     "name": "stdout",
     "output_type": "stream",
     "text": [
      "Model Score  0.37746425432293984\n",
      "Evaluating Cfg:\n",
      "Configuration:\n",
      "  _MLP:hidden_size_1, Value: 118\n",
      "  _MLP:lr, Value: 0.12461989115411037\n",
      "  _MLP:n_hidden_layers, Value: '1'\n",
      "  _MLP:nonlintype, Value: 'selu'\n",
      "  model, Value: 'MLP'\n",
      "\n",
      "use_cuda=True\n",
      "MLP Using Cuda\n",
      "hidden_sizes= [118]\n",
      "100%|██████████| 50/50 [00:45<00:00,  1.10it/s]"
     ]
    },
    {
     "name": "stderr",
     "output_type": "stream",
     "text": [
      "INFO:smac.intensification.intensification.Intensifier:Wallclock time limit for intensification reached (used: 45.312846 sec, available: 0.000010 sec)\n"
     ]
    },
    {
     "name": "stdout",
     "output_type": "stream",
     "text": [
      "\n",
      "Model Score  0.19908305016965433\n",
      "Evaluating Cfg:\n",
      "Configuration:\n",
      "  _Koopman:method, Value: 'stable'\n",
      "  _Koopman:poly_basis, Value: 'true'\n",
      "  _Koopman:poly_degree, Value: 3\n",
      "  _Koopman:product_terms, Value: 'false'\n",
      "  _Koopman:trig_basis, Value: 'true'\n",
      "  _Koopman:trig_freq, Value: 3\n",
      "  model, Value: 'Koopman'\n",
      "\n",
      "Compute Stable Koopman\n",
      "None\n",
      "[[1. 0. 0. ... 0. 0. 0.]\n",
      " [0. 1. 0. ... 0. 0. 0.]\n",
      " [0. 0. 1. ... 0. 0. 0.]\n",
      " ...\n",
      " [0. 0. 0. ... 1. 0. 0.]\n",
      " [0. 0. 0. ... 0. 1. 0.]\n",
      " [0. 0. 0. ... 0. 0. 1.]]\n",
      "Error is  24921085.38823254\n",
      " No descent: Restart FGM\n",
      " No descent: Restart FGM\n"
     ]
    },
    {
     "name": "stderr",
     "output_type": "stream",
     "text": [
      "ERROR:smac.tae.execute_func.ExecuteTAFuncDict:Object of type complex128 is not JSON serializable\n",
      "Traceback (most recent call last):\n",
      "  File \"/home/william/.local/lib/python3.8/site-packages/smac/tae/execute_func.py\", line 226, in run\n",
      "    json.dumps(cost)\n",
      "  File \"/usr/lib/python3.8/json/__init__.py\", line 231, in dumps\n",
      "    return _default_encoder.encode(obj)\n",
      "  File \"/usr/lib/python3.8/json/encoder.py\", line 199, in encode\n",
      "    chunks = self.iterencode(o, _one_shot=True)\n",
      "  File \"/usr/lib/python3.8/json/encoder.py\", line 257, in iterencode\n",
      "    return _iterencode(o, 0)\n",
      "  File \"/usr/lib/python3.8/json/encoder.py\", line 179, in default\n",
      "    raise TypeError(f'Object of type {o.__class__.__name__} '\n",
      "TypeError: Object of type complex128 is not JSON serializable\n",
      "INFO:smac.intensification.intensification.Intensifier:Wallclock time limit for intensification reached (used: 17.047264 sec, available: 0.000010 sec)\n"
     ]
    },
    {
     "name": "stdout",
     "output_type": "stream",
     "text": [
      "Model Score  (71730.41602393596+2625.6812672157253j)\n",
      "Evaluating Cfg:\n",
      "Configuration:\n",
      "  _MLP:hidden_size_1, Value: 114\n",
      "  _MLP:hidden_size_2, Value: 208\n",
      "  _MLP:hidden_size_3, Value: 149\n",
      "  _MLP:hidden_size_4, Value: 29\n",
      "  _MLP:lr, Value: 2.2680495471861496e-05\n",
      "  _MLP:n_hidden_layers, Value: '4'\n",
      "  _MLP:nonlintype, Value: 'selu'\n",
      "  model, Value: 'MLP'\n",
      "\n",
      "use_cuda=True\n",
      "MLP Using Cuda\n",
      "hidden_sizes= [114, 208, 149, 29]\n",
      "100%|██████████| 50/50 [01:42<00:00,  2.06s/it]"
     ]
    },
    {
     "name": "stderr",
     "output_type": "stream",
     "text": [
      "INFO:smac.intensification.intensification.Intensifier:Challenger (0.0563) is better than incumbent (0.0644) on 1 runs.\n",
      "INFO:smac.intensification.intensification.Intensifier:Changes in incumbent:\n",
      "INFO:smac.intensification.intensification.Intensifier:  _MLP:hidden_size_1 : 117 -> 114\n",
      "INFO:smac.intensification.intensification.Intensifier:  _MLP:hidden_size_2 : None -> 208\n",
      "INFO:smac.intensification.intensification.Intensifier:  _MLP:hidden_size_3 : None -> 149\n",
      "INFO:smac.intensification.intensification.Intensifier:  _MLP:hidden_size_4 : None -> 29\n",
      "INFO:smac.intensification.intensification.Intensifier:  _MLP:lr : 0.000989663782031484 -> 2.2680495471861496e-05\n",
      "INFO:smac.intensification.intensification.Intensifier:  _MLP:n_hidden_layers : '1' -> '4'\n",
      "INFO:smac.intensification.intensification.Intensifier:Wallclock time limit for intensification reached (used: 102.813761 sec, available: 0.000010 sec)\n"
     ]
    },
    {
     "name": "stdout",
     "output_type": "stream",
     "text": [
      "\n",
      "Model Score  0.0562544999560481\n",
      "Evaluating Cfg:\n",
      "Configuration:\n",
      "  _ARX:history, Value: 6\n",
      "  model, Value: 'ARX'\n",
      "\n"
     ]
    },
    {
     "name": "stderr",
     "output_type": "stream",
     "text": [
      "INFO:smac.intensification.intensification.Intensifier:Wallclock time limit for intensification reached (used: 1.103644 sec, available: 0.000010 sec)\n"
     ]
    },
    {
     "name": "stdout",
     "output_type": "stream",
     "text": [
      "Model Score  0.30742830984014435\n",
      "Evaluating Cfg:\n",
      "Configuration:\n",
      "  _MLP:hidden_size_1, Value: 104\n",
      "  _MLP:hidden_size_2, Value: 159\n",
      "  _MLP:hidden_size_3, Value: 221\n",
      "  _MLP:hidden_size_4, Value: 48\n",
      "  _MLP:lr, Value: 7.672686649071185e-05\n",
      "  _MLP:n_hidden_layers, Value: '4'\n",
      "  _MLP:nonlintype, Value: 'selu'\n",
      "  model, Value: 'MLP'\n",
      "\n",
      "use_cuda=True\n",
      "MLP Using Cuda\n",
      "hidden_sizes= [104, 159, 221, 48]\n",
      "100%|██████████| 50/50 [01:43<00:00,  2.06s/it]"
     ]
    },
    {
     "name": "stderr",
     "output_type": "stream",
     "text": [
      "INFO:smac.intensification.intensification.Intensifier:Challenger (0.0336) is better than incumbent (0.0563) on 1 runs.\n",
      "INFO:smac.intensification.intensification.Intensifier:Changes in incumbent:\n",
      "INFO:smac.intensification.intensification.Intensifier:  _MLP:hidden_size_1 : 114 -> 104\n",
      "INFO:smac.intensification.intensification.Intensifier:  _MLP:hidden_size_2 : 208 -> 159\n",
      "INFO:smac.intensification.intensification.Intensifier:  _MLP:hidden_size_3 : 149 -> 221\n",
      "INFO:smac.intensification.intensification.Intensifier:  _MLP:hidden_size_4 : 29 -> 48\n",
      "INFO:smac.intensification.intensification.Intensifier:  _MLP:lr : 2.2680495471861496e-05 -> 7.672686649071185e-05\n",
      "INFO:smac.intensification.intensification.Intensifier:Wallclock time limit for intensification reached (used: 103.124269 sec, available: 0.000010 sec)\n"
     ]
    },
    {
     "name": "stdout",
     "output_type": "stream",
     "text": [
      "\n",
      "Model Score  0.03361636535404597\n",
      "Evaluating Cfg:\n",
      "Configuration:\n",
      "  _MLP:hidden_size_1, Value: 103\n",
      "  _MLP:hidden_size_2, Value: 88\n",
      "  _MLP:hidden_size_3, Value: 27\n",
      "  _MLP:hidden_size_4, Value: 226\n",
      "  _MLP:lr, Value: 0.5972574576336676\n",
      "  _MLP:n_hidden_layers, Value: '4'\n",
      "  _MLP:nonlintype, Value: 'selu'\n",
      "  model, Value: 'MLP'\n",
      "\n",
      "use_cuda=True\n",
      "MLP Using Cuda\n",
      "hidden_sizes= [103, 88, 27, 226]\n",
      "100%|██████████| 50/50 [01:43<00:00,  2.07s/it]"
     ]
    },
    {
     "name": "stderr",
     "output_type": "stream",
     "text": [
      "INFO:smac.intensification.intensification.Intensifier:Wallclock time limit for intensification reached (used: 103.418855 sec, available: 0.000010 sec)\n"
     ]
    },
    {
     "name": "stdout",
     "output_type": "stream",
     "text": [
      "\n",
      "Model Score  13.352527934009926\n",
      "Evaluating Cfg:\n",
      "Configuration:\n",
      "  _MLP:hidden_size_1, Value: 115\n",
      "  _MLP:hidden_size_2, Value: 170\n",
      "  _MLP:hidden_size_3, Value: 162\n",
      "  _MLP:hidden_size_4, Value: 209\n",
      "  _MLP:lr, Value: 0.0009387175187481021\n",
      "  _MLP:n_hidden_layers, Value: '4'\n",
      "  _MLP:nonlintype, Value: 'selu'\n",
      "  model, Value: 'MLP'\n",
      "\n",
      "use_cuda=True\n",
      "MLP Using Cuda\n",
      "hidden_sizes= [115, 170, 162, 209]\n",
      "100%|██████████| 50/50 [01:43<00:00,  2.08s/it]"
     ]
    },
    {
     "name": "stderr",
     "output_type": "stream",
     "text": [
      "INFO:smac.intensification.intensification.Intensifier:Wallclock time limit for intensification reached (used: 104.038521 sec, available: 0.000010 sec)\n"
     ]
    },
    {
     "name": "stdout",
     "output_type": "stream",
     "text": [
      "\n",
      "Model Score  0.03788295142584227\n",
      "Evaluating Cfg:\n",
      "Configuration:\n",
      "  _MLP:hidden_size_1, Value: 108\n",
      "  _MLP:hidden_size_2, Value: 205\n",
      "  _MLP:hidden_size_3, Value: 68\n",
      "  _MLP:hidden_size_4, Value: 204\n",
      "  _MLP:lr, Value: 0.0007797825290066216\n",
      "  _MLP:n_hidden_layers, Value: '4'\n",
      "  _MLP:nonlintype, Value: 'sigmoid'\n",
      "  model, Value: 'MLP'\n",
      "\n",
      "use_cuda=True\n",
      "MLP Using Cuda\n",
      "hidden_sizes= [108, 205, 68, 204]\n",
      "100%|██████████| 50/50 [01:43<00:00,  2.06s/it]"
     ]
    },
    {
     "name": "stderr",
     "output_type": "stream",
     "text": [
      "INFO:smac.intensification.intensification.Intensifier:Challenger (0.0314) is better than incumbent (0.0336) on 1 runs.\n",
      "INFO:smac.intensification.intensification.Intensifier:Changes in incumbent:\n",
      "INFO:smac.intensification.intensification.Intensifier:  _MLP:hidden_size_1 : 104 -> 108\n",
      "INFO:smac.intensification.intensification.Intensifier:  _MLP:hidden_size_2 : 159 -> 205\n",
      "INFO:smac.intensification.intensification.Intensifier:  _MLP:hidden_size_3 : 221 -> 68\n",
      "INFO:smac.intensification.intensification.Intensifier:  _MLP:hidden_size_4 : 48 -> 204\n",
      "INFO:smac.intensification.intensification.Intensifier:  _MLP:lr : 7.672686649071185e-05 -> 0.0007797825290066216\n",
      "INFO:smac.intensification.intensification.Intensifier:  _MLP:nonlintype : 'selu' -> 'sigmoid'\n",
      "INFO:smac.intensification.intensification.Intensifier:Wallclock time limit for intensification reached (used: 103.167938 sec, available: 0.000010 sec)\n"
     ]
    },
    {
     "name": "stdout",
     "output_type": "stream",
     "text": [
      "\n",
      "Model Score  0.03144634422141592\n",
      "Evaluating Cfg:\n",
      "Configuration:\n",
      "  _MLP:hidden_size_1, Value: 113\n",
      "  _MLP:hidden_size_2, Value: 205\n",
      "  _MLP:hidden_size_3, Value: 59\n",
      "  _MLP:hidden_size_4, Value: 155\n",
      "  _MLP:lr, Value: 0.00046138288304517657\n",
      "  _MLP:n_hidden_layers, Value: '4'\n",
      "  _MLP:nonlintype, Value: 'tanh'\n",
      "  model, Value: 'MLP'\n",
      "\n",
      "use_cuda=True\n",
      "MLP Using Cuda\n",
      "hidden_sizes= [113, 205, 59, 155]\n",
      "100%|██████████| 50/50 [01:43<00:00,  2.07s/it]"
     ]
    },
    {
     "name": "stderr",
     "output_type": "stream",
     "text": [
      "INFO:smac.intensification.intensification.Intensifier:Wallclock time limit for intensification reached (used: 103.676642 sec, available: 0.000010 sec)\n"
     ]
    },
    {
     "name": "stdout",
     "output_type": "stream",
     "text": [
      "\n",
      "Model Score  0.03629436336308929\n",
      "Evaluating Cfg:\n",
      "Configuration:\n",
      "  _MLP:hidden_size_1, Value: 111\n",
      "  _MLP:hidden_size_2, Value: 24\n",
      "  _MLP:hidden_size_3, Value: 196\n",
      "  _MLP:hidden_size_4, Value: 67\n",
      "  _MLP:lr, Value: 0.39760988270990105\n",
      "  _MLP:n_hidden_layers, Value: '4'\n",
      "  _MLP:nonlintype, Value: 'sigmoid'\n",
      "  model, Value: 'MLP'\n",
      "\n",
      "use_cuda=True\n",
      "MLP Using Cuda\n",
      "hidden_sizes= [111, 24, 196, 67]\n",
      "100%|██████████| 50/50 [01:41<00:00,  2.02s/it]"
     ]
    },
    {
     "name": "stderr",
     "output_type": "stream",
     "text": [
      "INFO:smac.intensification.intensification.Intensifier:Wallclock time limit for intensification reached (used: 101.156729 sec, available: 0.000010 sec)\n"
     ]
    },
    {
     "name": "stdout",
     "output_type": "stream",
     "text": [
      "\n",
      "Model Score  1.0712790479423768\n",
      "Evaluating Cfg:\n",
      "Configuration:\n",
      "  _MLP:hidden_size_1, Value: 129\n",
      "  _MLP:hidden_size_2, Value: 221\n",
      "  _MLP:hidden_size_3, Value: 118\n",
      "  _MLP:hidden_size_4, Value: 162\n",
      "  _MLP:lr, Value: 0.4916092104841561\n",
      "  _MLP:n_hidden_layers, Value: '4'\n",
      "  _MLP:nonlintype, Value: 'sigmoid'\n",
      "  model, Value: 'MLP'\n",
      "\n",
      "use_cuda=True\n",
      "MLP Using Cuda\n",
      "hidden_sizes= [129, 221, 118, 162]\n",
      "100%|██████████| 50/50 [01:42<00:00,  2.05s/it]"
     ]
    },
    {
     "name": "stderr",
     "output_type": "stream",
     "text": [
      "INFO:smac.intensification.intensification.Intensifier:Wallclock time limit for intensification reached (used: 102.525698 sec, available: 0.000010 sec)\n"
     ]
    },
    {
     "name": "stdout",
     "output_type": "stream",
     "text": [
      "\n",
      "Model Score  1.4328581386029613\n",
      "Evaluating Cfg:\n",
      "Configuration:\n",
      "  _Koopman:method, Value: 'stable'\n",
      "  _Koopman:poly_basis, Value: 'true'\n",
      "  _Koopman:poly_degree, Value: 6\n",
      "  _Koopman:product_terms, Value: 'false'\n",
      "  _Koopman:trig_basis, Value: 'false'\n",
      "  model, Value: 'Koopman'\n",
      "\n",
      "Compute Stable Koopman\n",
      "None\n",
      "[[1. 0. 0. 0. 0. 0. 0. 0. 0. 0. 0. 0. 0. 0. 0. 0. 0. 0. 0. 0. 0. 0. 0. 0.]\n",
      " [0. 1. 0. 0. 0. 0. 0. 0. 0. 0. 0. 0. 0. 0. 0. 0. 0. 0. 0. 0. 0. 0. 0. 0.]\n",
      " [0. 0. 1. 0. 0. 0. 0. 0. 0. 0. 0. 0. 0. 0. 0. 0. 0. 0. 0. 0. 0. 0. 0. 0.]\n",
      " [0. 0. 0. 1. 0. 0. 0. 0. 0. 0. 0. 0. 0. 0. 0. 0. 0. 0. 0. 0. 0. 0. 0. 0.]\n",
      " [0. 0. 0. 0. 1. 0. 0. 0. 0. 0. 0. 0. 0. 0. 0. 0. 0. 0. 0. 0. 0. 0. 0. 0.]\n",
      " [0. 0. 0. 0. 0. 1. 0. 0. 0. 0. 0. 0. 0. 0. 0. 0. 0. 0. 0. 0. 0. 0. 0. 0.]\n",
      " [0. 0. 0. 0. 0. 0. 1. 0. 0. 0. 0. 0. 0. 0. 0. 0. 0. 0. 0. 0. 0. 0. 0. 0.]\n",
      " [0. 0. 0. 0. 0. 0. 0. 1. 0. 0. 0. 0. 0. 0. 0. 0. 0. 0. 0. 0. 0. 0. 0. 0.]\n",
      " [0. 0. 0. 0. 0. 0. 0. 0. 1. 0. 0. 0. 0. 0. 0. 0. 0. 0. 0. 0. 0. 0. 0. 0.]\n",
      " [0. 0. 0. 0. 0. 0. 0. 0. 0. 1. 0. 0. 0. 0. 0. 0. 0. 0. 0. 0. 0. 0. 0. 0.]\n",
      " [0. 0. 0. 0. 0. 0. 0. 0. 0. 0. 1. 0. 0. 0. 0. 0. 0. 0. 0. 0. 0. 0. 0. 0.]\n",
      " [0. 0. 0. 0. 0. 0. 0. 0. 0. 0. 0. 1. 0. 0. 0. 0. 0. 0. 0. 0. 0. 0. 0. 0.]\n",
      " [0. 0. 0. 0. 0. 0. 0. 0. 0. 0. 0. 0. 1. 0. 0. 0. 0. 0. 0. 0. 0. 0. 0. 0.]\n",
      " [0. 0. 0. 0. 0. 0. 0. 0. 0. 0. 0. 0. 0. 1. 0. 0. 0. 0. 0. 0. 0. 0. 0. 0.]\n",
      " [0. 0. 0. 0. 0. 0. 0. 0. 0. 0. 0. 0. 0. 0. 1. 0. 0. 0. 0. 0. 0. 0. 0. 0.]\n",
      " [0. 0. 0. 0. 0. 0. 0. 0. 0. 0. 0. 0. 0. 0. 0. 1. 0. 0. 0. 0. 0. 0. 0. 0.]\n",
      " [0. 0. 0. 0. 0. 0. 0. 0. 0. 0. 0. 0. 0. 0. 0. 0. 1. 0. 0. 0. 0. 0. 0. 0.]\n",
      " [0. 0. 0. 0. 0. 0. 0. 0. 0. 0. 0. 0. 0. 0. 0. 0. 0. 1. 0. 0. 0. 0. 0. 0.]\n",
      " [0. 0. 0. 0. 0. 0. 0. 0. 0. 0. 0. 0. 0. 0. 0. 0. 0. 0. 1. 0. 0. 0. 0. 0.]\n",
      " [0. 0. 0. 0. 0. 0. 0. 0. 0. 0. 0. 0. 0. 0. 0. 0. 0. 0. 0. 1. 0. 0. 0. 0.]\n",
      " [0. 0. 0. 0. 0. 0. 0. 0. 0. 0. 0. 0. 0. 0. 0. 0. 0. 0. 0. 0. 1. 0. 0. 0.]\n",
      " [0. 0. 0. 0. 0. 0. 0. 0. 0. 0. 0. 0. 0. 0. 0. 0. 0. 0. 0. 0. 0. 1. 0. 0.]\n",
      " [0. 0. 0. 0. 0. 0. 0. 0. 0. 0. 0. 0. 0. 0. 0. 0. 0. 0. 0. 0. 0. 0. 1. 0.]\n",
      " [0. 0. 0. 0. 0. 0. 0. 0. 0. 0. 0. 0. 0. 0. 0. 0. 0. 0. 0. 0. 0. 0. 0. 1.]]\n",
      "Error is  48181869509553.586\n",
      " No descent: Restart FGM\n"
     ]
    },
    {
     "name": "stderr",
     "output_type": "stream",
     "text": [
      "ERROR:smac.tae.execute_func.ExecuteTAFuncDict:Object of type complex128 is not JSON serializable\n",
      "Traceback (most recent call last):\n",
      "  File \"/home/william/.local/lib/python3.8/site-packages/smac/tae/execute_func.py\", line 226, in run\n",
      "    json.dumps(cost)\n",
      "  File \"/usr/lib/python3.8/json/__init__.py\", line 231, in dumps\n",
      "    return _default_encoder.encode(obj)\n",
      "  File \"/usr/lib/python3.8/json/encoder.py\", line 199, in encode\n",
      "    chunks = self.iterencode(o, _one_shot=True)\n",
      "  File \"/usr/lib/python3.8/json/encoder.py\", line 257, in iterencode\n",
      "    return _iterencode(o, 0)\n",
      "  File \"/usr/lib/python3.8/json/encoder.py\", line 179, in default\n",
      "    raise TypeError(f'Object of type {o.__class__.__name__} '\n",
      "TypeError: Object of type complex128 is not JSON serializable\n",
      "INFO:smac.intensification.intensification.Intensifier:Wallclock time limit for intensification reached (used: 9.253827 sec, available: 0.000010 sec)\n"
     ]
    },
    {
     "name": "stdout",
     "output_type": "stream",
     "text": [
      "Model Score  (6487755.244895648+4.319077626419972e-25j)\n",
      "Evaluating Cfg:\n",
      "Configuration:\n",
      "  _MLP:hidden_size_1, Value: 85\n",
      "  _MLP:hidden_size_2, Value: 214\n",
      "  _MLP:hidden_size_3, Value: 69\n",
      "  _MLP:hidden_size_4, Value: 220\n",
      "  _MLP:lr, Value: 0.00031276411323010014\n",
      "  _MLP:n_hidden_layers, Value: '4'\n",
      "  _MLP:nonlintype, Value: 'selu'\n",
      "  model, Value: 'MLP'\n",
      "\n",
      "use_cuda=True\n",
      "MLP Using Cuda\n",
      "hidden_sizes= [85, 214, 69, 220]\n",
      "100%|██████████| 50/50 [01:39<00:00,  1.98s/it]"
     ]
    },
    {
     "name": "stderr",
     "output_type": "stream",
     "text": [
      "INFO:smac.intensification.intensification.Intensifier:Wallclock time limit for intensification reached (used: 99.143118 sec, available: 0.000010 sec)\n"
     ]
    },
    {
     "name": "stdout",
     "output_type": "stream",
     "text": [
      "\n",
      "Model Score  0.031856949470201006\n",
      "Evaluating Cfg:\n",
      "Configuration:\n",
      "  _MLP:hidden_size_1, Value: 74\n",
      "  _MLP:hidden_size_2, Value: 202\n",
      "  _MLP:hidden_size_3, Value: 29\n",
      "  _MLP:hidden_size_4, Value: 209\n",
      "  _MLP:lr, Value: 0.2499312316926979\n",
      "  _MLP:n_hidden_layers, Value: '4'\n",
      "  _MLP:nonlintype, Value: 'sigmoid'\n",
      "  model, Value: 'MLP'\n",
      "\n",
      "use_cuda=True\n",
      "MLP Using Cuda\n",
      "hidden_sizes= [74, 202, 29, 209]\n",
      "100%|██████████| 50/50 [01:41<00:00,  2.03s/it]"
     ]
    },
    {
     "name": "stderr",
     "output_type": "stream",
     "text": [
      "INFO:smac.intensification.intensification.Intensifier:Wallclock time limit for intensification reached (used: 101.633312 sec, available: 0.000010 sec)\n"
     ]
    },
    {
     "name": "stdout",
     "output_type": "stream",
     "text": [
      "\n",
      "Model Score  0.8782114576332768\n",
      "Evaluating Cfg:\n",
      "Configuration:\n",
      "  _MLP:hidden_size_1, Value: 106\n",
      "  _MLP:hidden_size_2, Value: 47\n",
      "  _MLP:hidden_size_3, Value: 67\n",
      "  _MLP:hidden_size_4, Value: 204\n",
      "  _MLP:lr, Value: 0.0007997648558719317\n",
      "  _MLP:n_hidden_layers, Value: '4'\n",
      "  _MLP:nonlintype, Value: 'selu'\n",
      "  model, Value: 'MLP'\n",
      "\n",
      "use_cuda=True\n",
      "MLP Using Cuda\n",
      "hidden_sizes= [106, 47, 67, 204]\n",
      "100%|██████████| 50/50 [01:44<00:00,  2.09s/it]"
     ]
    },
    {
     "name": "stderr",
     "output_type": "stream",
     "text": [
      "INFO:smac.intensification.intensification.Intensifier:Wallclock time limit for intensification reached (used: 104.477599 sec, available: 0.000010 sec)\n"
     ]
    },
    {
     "name": "stdout",
     "output_type": "stream",
     "text": [
      "\n",
      "Model Score  0.042668080624213796\n",
      "Evaluating Cfg:\n",
      "Configuration:\n",
      "  _MLP:hidden_size_1, Value: 93\n",
      "  _MLP:hidden_size_2, Value: 181\n",
      "  _MLP:hidden_size_3, Value: 203\n",
      "  _MLP:hidden_size_4, Value: 247\n",
      "  _MLP:lr, Value: 0.0007847451653341447\n",
      "  _MLP:n_hidden_layers, Value: '4'\n",
      "  _MLP:nonlintype, Value: 'selu'\n",
      "  model, Value: 'MLP'\n",
      "\n",
      "use_cuda=True\n",
      "MLP Using Cuda\n",
      "hidden_sizes= [93, 181, 203, 247]\n",
      "100%|██████████| 50/50 [01:42<00:00,  2.04s/it]"
     ]
    },
    {
     "name": "stderr",
     "output_type": "stream",
     "text": [
      "INFO:smac.intensification.intensification.Intensifier:Wallclock time limit for intensification reached (used: 102.221958 sec, available: 0.000010 sec)\n"
     ]
    },
    {
     "name": "stdout",
     "output_type": "stream",
     "text": [
      "\n",
      "Model Score  0.03907243183524258\n",
      "Evaluating Cfg:\n",
      "Configuration:\n",
      "  _MLP:hidden_size_1, Value: 79\n",
      "  _MLP:hidden_size_2, Value: 225\n",
      "  _MLP:hidden_size_3, Value: 197\n",
      "  _MLP:hidden_size_4, Value: 66\n",
      "  _MLP:lr, Value: 0.00015837104598798247\n",
      "  _MLP:n_hidden_layers, Value: '4'\n",
      "  _MLP:nonlintype, Value: 'tanh'\n",
      "  model, Value: 'MLP'\n",
      "\n",
      "use_cuda=True\n",
      "MLP Using Cuda\n",
      "hidden_sizes= [79, 225, 197, 66]\n",
      "100%|██████████| 50/50 [01:44<00:00,  2.09s/it]"
     ]
    },
    {
     "name": "stderr",
     "output_type": "stream",
     "text": [
      "INFO:smac.intensification.intensification.Intensifier:Challenger (0.0246) is better than incumbent (0.0314) on 1 runs.\n",
      "INFO:smac.intensification.intensification.Intensifier:Changes in incumbent:\n",
      "INFO:smac.intensification.intensification.Intensifier:  _MLP:hidden_size_1 : 108 -> 79\n",
      "INFO:smac.intensification.intensification.Intensifier:  _MLP:hidden_size_2 : 205 -> 225\n",
      "INFO:smac.intensification.intensification.Intensifier:  _MLP:hidden_size_3 : 68 -> 197\n",
      "INFO:smac.intensification.intensification.Intensifier:  _MLP:hidden_size_4 : 204 -> 66\n",
      "INFO:smac.intensification.intensification.Intensifier:  _MLP:lr : 0.0007797825290066216 -> 0.00015837104598798247\n",
      "INFO:smac.intensification.intensification.Intensifier:  _MLP:nonlintype : 'sigmoid' -> 'tanh'\n",
      "INFO:smac.intensification.intensification.Intensifier:Wallclock time limit for intensification reached (used: 104.322607 sec, available: 0.000010 sec)\n"
     ]
    },
    {
     "name": "stdout",
     "output_type": "stream",
     "text": [
      "\n",
      "Model Score  0.024619026662864335\n",
      "Evaluating Cfg:\n",
      "Configuration:\n",
      "  _MLP:hidden_size_1, Value: 55\n",
      "  _MLP:hidden_size_2, Value: 227\n",
      "  _MLP:hidden_size_3, Value: 24\n",
      "  _MLP:hidden_size_4, Value: 206\n",
      "  _MLP:lr, Value: 0.00011968132986316072\n",
      "  _MLP:n_hidden_layers, Value: '4'\n",
      "  _MLP:nonlintype, Value: 'tanh'\n",
      "  model, Value: 'MLP'\n",
      "\n",
      "use_cuda=True\n",
      "MLP Using Cuda\n",
      "hidden_sizes= [55, 227, 24, 206]\n",
      "100%|██████████| 50/50 [01:41<00:00,  2.02s/it]"
     ]
    },
    {
     "name": "stderr",
     "output_type": "stream",
     "text": [
      "INFO:smac.intensification.intensification.Intensifier:Wallclock time limit for intensification reached (used: 101.141291 sec, available: 0.000010 sec)\n"
     ]
    },
    {
     "name": "stdout",
     "output_type": "stream",
     "text": [
      "\n",
      "Model Score  0.032633879444679895\n",
      "Evaluating Cfg:\n",
      "Configuration:\n",
      "  _MLP:hidden_size_1, Value: 69\n",
      "  _MLP:hidden_size_2, Value: 234\n",
      "  _MLP:hidden_size_3, Value: 237\n",
      "  _MLP:hidden_size_4, Value: 72\n",
      "  _MLP:lr, Value: 0.0048655209779472\n",
      "  _MLP:n_hidden_layers, Value: '4'\n",
      "  _MLP:nonlintype, Value: 'selu'\n",
      "  model, Value: 'MLP'\n",
      "\n",
      "use_cuda=True\n",
      "MLP Using Cuda\n",
      "hidden_sizes= [69, 234, 237, 72]\n",
      "100%|██████████| 50/50 [01:43<00:00,  2.07s/it]"
     ]
    },
    {
     "name": "stderr",
     "output_type": "stream",
     "text": [
      "INFO:smac.intensification.intensification.Intensifier:Wallclock time limit for intensification reached (used: 103.311551 sec, available: 0.000010 sec)\n"
     ]
    },
    {
     "name": "stdout",
     "output_type": "stream",
     "text": [
      "\n",
      "Model Score  0.033275486599204096\n",
      "Evaluating Cfg:\n",
      "Configuration:\n",
      "  _MLP:hidden_size_1, Value: 77\n",
      "  _MLP:hidden_size_2, Value: 225\n",
      "  _MLP:hidden_size_3, Value: 198\n",
      "  _MLP:hidden_size_4, Value: 235\n",
      "  _MLP:lr, Value: 0.0006261556072831879\n",
      "  _MLP:n_hidden_layers, Value: '4'\n",
      "  _MLP:nonlintype, Value: 'sigmoid'\n",
      "  model, Value: 'MLP'\n",
      "\n",
      "use_cuda=True\n",
      "MLP Using Cuda\n",
      "hidden_sizes= [77, 225, 198, 235]\n",
      "100%|██████████| 50/50 [01:42<00:00,  2.06s/it]"
     ]
    },
    {
     "name": "stderr",
     "output_type": "stream",
     "text": [
      "INFO:smac.intensification.intensification.Intensifier:Wallclock time limit for intensification reached (used: 102.947789 sec, available: 0.000010 sec)\n"
     ]
    },
    {
     "name": "stdout",
     "output_type": "stream",
     "text": [
      "\n",
      "Model Score  0.05228597309523191\n",
      "Evaluating Cfg:\n",
      "Configuration:\n",
      "  _MLP:hidden_size_1, Value: 111\n",
      "  _MLP:hidden_size_2, Value: 214\n",
      "  _MLP:hidden_size_3, Value: 28\n",
      "  _MLP:hidden_size_4, Value: 223\n",
      "  _MLP:lr, Value: 0.0003774206249992535\n",
      "  _MLP:n_hidden_layers, Value: '4'\n",
      "  _MLP:nonlintype, Value: 'selu'\n",
      "  model, Value: 'MLP'\n",
      "\n",
      "use_cuda=True\n",
      "MLP Using Cuda\n",
      "hidden_sizes= [111, 214, 28, 223]\n",
      "100%|██████████| 50/50 [01:43<00:00,  2.07s/it]"
     ]
    },
    {
     "name": "stderr",
     "output_type": "stream",
     "text": [
      "INFO:smac.intensification.intensification.Intensifier:Wallclock time limit for intensification reached (used: 103.635401 sec, available: 0.000010 sec)\n"
     ]
    },
    {
     "name": "stdout",
     "output_type": "stream",
     "text": [
      "\n",
      "Model Score  0.0304998354754875\n",
      "Evaluating Cfg:\n",
      "Configuration:\n",
      "  _MLP:hidden_size_1, Value: 96\n",
      "  _MLP:hidden_size_2, Value: 96\n",
      "  _MLP:hidden_size_3, Value: 36\n",
      "  _MLP:hidden_size_4, Value: 194\n",
      "  _MLP:lr, Value: 0.10371770300469856\n",
      "  _MLP:n_hidden_layers, Value: '4'\n",
      "  _MLP:nonlintype, Value: 'selu'\n",
      "  model, Value: 'MLP'\n",
      "\n",
      "use_cuda=True\n",
      "MLP Using Cuda\n",
      "hidden_sizes= [96, 96, 36, 194]\n",
      "100%|██████████| 50/50 [01:40<00:00,  2.01s/it]"
     ]
    },
    {
     "name": "stderr",
     "output_type": "stream",
     "text": [
      "INFO:smac.intensification.intensification.Intensifier:Wallclock time limit for intensification reached (used: 100.755392 sec, available: 0.000010 sec)\n"
     ]
    },
    {
     "name": "stdout",
     "output_type": "stream",
     "text": [
      "\n",
      "Model Score  1.0015291149386834\n",
      "Evaluating Cfg:\n",
      "Configuration:\n",
      "  _MLP:hidden_size_1, Value: 25\n",
      "  _MLP:hidden_size_2, Value: 212\n",
      "  _MLP:hidden_size_3, Value: 59\n",
      "  _MLP:hidden_size_4, Value: 196\n",
      "  _MLP:lr, Value: 0.09352490827577054\n",
      "  _MLP:n_hidden_layers, Value: '4'\n",
      "  _MLP:nonlintype, Value: 'relu'\n",
      "  model, Value: 'MLP'\n",
      "\n",
      "use_cuda=True\n",
      "MLP Using Cuda\n",
      "hidden_sizes= [25, 212, 59, 196]\n",
      "100%|██████████| 50/50 [01:43<00:00,  2.07s/it]"
     ]
    },
    {
     "name": "stderr",
     "output_type": "stream",
     "text": [
      "INFO:smac.intensification.intensification.Intensifier:Wallclock time limit for intensification reached (used: 103.451160 sec, available: 0.000010 sec)\n"
     ]
    },
    {
     "name": "stdout",
     "output_type": "stream",
     "text": [
      "\n",
      "Model Score  0.4545796473753137\n",
      "Evaluating Cfg:\n",
      "Configuration:\n",
      "  _MLP:hidden_size_1, Value: 166\n",
      "  _MLP:hidden_size_2, Value: 203\n",
      "  _MLP:hidden_size_3, Value: 109\n",
      "  _MLP:hidden_size_4, Value: 229\n",
      "  _MLP:lr, Value: 0.0003817586560115894\n",
      "  _MLP:n_hidden_layers, Value: '4'\n",
      "  _MLP:nonlintype, Value: 'sigmoid'\n",
      "  model, Value: 'MLP'\n",
      "\n",
      "use_cuda=True\n",
      "MLP Using Cuda\n",
      "hidden_sizes= [166, 203, 109, 229]\n",
      "100%|██████████| 50/50 [01:43<00:00,  2.07s/it]"
     ]
    },
    {
     "name": "stderr",
     "output_type": "stream",
     "text": [
      "INFO:smac.intensification.intensification.Intensifier:Wallclock time limit for intensification reached (used: 103.389467 sec, available: 0.000010 sec)\n"
     ]
    },
    {
     "name": "stdout",
     "output_type": "stream",
     "text": [
      "\n",
      "Model Score  0.047985742314587264\n",
      "Evaluating Cfg:\n",
      "Configuration:\n",
      "  _MLP:hidden_size_1, Value: 89\n",
      "  _MLP:hidden_size_2, Value: 228\n",
      "  _MLP:hidden_size_3, Value: 218\n",
      "  _MLP:hidden_size_4, Value: 32\n",
      "  _MLP:lr, Value: 0.00025120300719047063\n",
      "  _MLP:n_hidden_layers, Value: '4'\n",
      "  _MLP:nonlintype, Value: 'tanh'\n",
      "  model, Value: 'MLP'\n",
      "\n",
      "use_cuda=True\n",
      "MLP Using Cuda\n",
      "hidden_sizes= [89, 228, 218, 32]\n",
      "100%|██████████| 50/50 [01:41<00:00,  2.04s/it]"
     ]
    },
    {
     "name": "stderr",
     "output_type": "stream",
     "text": [
      "INFO:smac.intensification.intensification.Intensifier:Challenger (0.0244) is better than incumbent (0.0246) on 1 runs.\n",
      "INFO:smac.intensification.intensification.Intensifier:Changes in incumbent:\n",
      "INFO:smac.intensification.intensification.Intensifier:  _MLP:hidden_size_1 : 79 -> 89\n",
      "INFO:smac.intensification.intensification.Intensifier:  _MLP:hidden_size_2 : 225 -> 228\n",
      "INFO:smac.intensification.intensification.Intensifier:  _MLP:hidden_size_3 : 197 -> 218\n",
      "INFO:smac.intensification.intensification.Intensifier:  _MLP:hidden_size_4 : 66 -> 32\n",
      "INFO:smac.intensification.intensification.Intensifier:  _MLP:lr : 0.00015837104598798247 -> 0.00025120300719047063\n",
      "INFO:smac.intensification.intensification.Intensifier:Wallclock time limit for intensification reached (used: 101.974791 sec, available: 0.000010 sec)\n"
     ]
    },
    {
     "name": "stdout",
     "output_type": "stream",
     "text": [
      "\n",
      "Model Score  0.02435159588869498\n",
      "Evaluating Cfg:\n",
      "Configuration:\n",
      "  _MLP:hidden_size_1, Value: 110\n",
      "  _MLP:hidden_size_2, Value: 118\n",
      "  _MLP:hidden_size_3, Value: 192\n",
      "  _MLP:hidden_size_4, Value: 154\n",
      "  _MLP:lr, Value: 0.0003957756048238442\n",
      "  _MLP:n_hidden_layers, Value: '4'\n",
      "  _MLP:nonlintype, Value: 'tanh'\n",
      "  model, Value: 'MLP'\n",
      "\n",
      "use_cuda=True\n",
      "MLP Using Cuda\n",
      "hidden_sizes= [110, 118, 192, 154]\n",
      "100%|██████████| 50/50 [01:44<00:00,  2.10s/it]"
     ]
    },
    {
     "name": "stderr",
     "output_type": "stream",
     "text": [
      "INFO:smac.intensification.intensification.Intensifier:Wallclock time limit for intensification reached (used: 104.900709 sec, available: 0.000010 sec)\n"
     ]
    },
    {
     "name": "stdout",
     "output_type": "stream",
     "text": [
      "\n",
      "Model Score  0.026304983557717702\n",
      "Evaluating Cfg:\n",
      "Configuration:\n",
      "  _MLP:hidden_size_1, Value: 104\n",
      "  _MLP:hidden_size_2, Value: 112\n",
      "  _MLP:hidden_size_3, Value: 60\n",
      "  _MLP:hidden_size_4, Value: 222\n",
      "  _MLP:lr, Value: 0.03194975183528318\n",
      "  _MLP:n_hidden_layers, Value: '4'\n",
      "  _MLP:nonlintype, Value: 'selu'\n",
      "  model, Value: 'MLP'\n",
      "\n",
      "use_cuda=True\n",
      "MLP Using Cuda\n",
      "hidden_sizes= [104, 112, 60, 222]\n",
      "100%|██████████| 50/50 [01:42<00:00,  2.06s/it]"
     ]
    },
    {
     "name": "stderr",
     "output_type": "stream",
     "text": [
      "INFO:smac.intensification.intensification.Intensifier:Wallclock time limit for intensification reached (used: 102.859604 sec, available: 0.000010 sec)\n"
     ]
    },
    {
     "name": "stdout",
     "output_type": "stream",
     "text": [
      "\n",
      "Model Score  0.9935249877274293\n",
      "Evaluating Cfg:\n",
      "Configuration:\n",
      "  _MLP:hidden_size_1, Value: 94\n",
      "  _MLP:hidden_size_2, Value: 127\n",
      "  _MLP:hidden_size_3, Value: 96\n",
      "  _MLP:hidden_size_4, Value: 224\n",
      "  _MLP:lr, Value: 0.0002064462380295315\n",
      "  _MLP:n_hidden_layers, Value: '4'\n",
      "  _MLP:nonlintype, Value: 'tanh'\n",
      "  model, Value: 'MLP'\n",
      "\n",
      "use_cuda=True\n",
      "MLP Using Cuda\n",
      "hidden_sizes= [94, 127, 96, 224]\n",
      "100%|██████████| 50/50 [01:42<00:00,  2.05s/it]"
     ]
    },
    {
     "name": "stderr",
     "output_type": "stream",
     "text": [
      "INFO:smac.intensification.intensification.Intensifier:Challenger (0.0223) is better than incumbent (0.0244) on 1 runs.\n",
      "INFO:smac.intensification.intensification.Intensifier:Changes in incumbent:\n",
      "INFO:smac.intensification.intensification.Intensifier:  _MLP:hidden_size_1 : 89 -> 94\n",
      "INFO:smac.intensification.intensification.Intensifier:  _MLP:hidden_size_2 : 228 -> 127\n",
      "INFO:smac.intensification.intensification.Intensifier:  _MLP:hidden_size_3 : 218 -> 96\n",
      "INFO:smac.intensification.intensification.Intensifier:  _MLP:hidden_size_4 : 32 -> 224\n",
      "INFO:smac.intensification.intensification.Intensifier:  _MLP:lr : 0.00025120300719047063 -> 0.0002064462380295315\n",
      "INFO:smac.intensification.intensification.Intensifier:Wallclock time limit for intensification reached (used: 102.445688 sec, available: 0.000010 sec)\n"
     ]
    },
    {
     "name": "stdout",
     "output_type": "stream",
     "text": [
      "\n",
      "Model Score  0.022339221282255888\n",
      "Evaluating Cfg:\n",
      "Configuration:\n",
      "  _MLP:hidden_size_1, Value: 91\n",
      "  _MLP:hidden_size_2, Value: 129\n",
      "  _MLP:hidden_size_3, Value: 204\n",
      "  _MLP:hidden_size_4, Value: 181\n",
      "  _MLP:lr, Value: 0.0001490410224187992\n",
      "  _MLP:n_hidden_layers, Value: '4'\n",
      "  _MLP:nonlintype, Value: 'tanh'\n",
      "  model, Value: 'MLP'\n",
      "\n",
      "use_cuda=True\n",
      "MLP Using Cuda\n",
      "hidden_sizes= [91, 129, 204, 181]\n",
      "100%|██████████| 50/50 [01:40<00:00,  2.01s/it]"
     ]
    },
    {
     "name": "stderr",
     "output_type": "stream",
     "text": [
      "INFO:smac.intensification.intensification.Intensifier:Challenger (0.0197) is better than incumbent (0.0223) on 1 runs.\n",
      "INFO:smac.intensification.intensification.Intensifier:Changes in incumbent:\n",
      "INFO:smac.intensification.intensification.Intensifier:  _MLP:hidden_size_1 : 94 -> 91\n",
      "INFO:smac.intensification.intensification.Intensifier:  _MLP:hidden_size_2 : 127 -> 129\n",
      "INFO:smac.intensification.intensification.Intensifier:  _MLP:hidden_size_3 : 96 -> 204\n",
      "INFO:smac.intensification.intensification.Intensifier:  _MLP:hidden_size_4 : 224 -> 181\n",
      "INFO:smac.intensification.intensification.Intensifier:  _MLP:lr : 0.0002064462380295315 -> 0.0001490410224187992\n",
      "INFO:smac.intensification.intensification.Intensifier:Wallclock time limit for intensification reached (used: 100.531962 sec, available: 0.000010 sec)\n"
     ]
    },
    {
     "name": "stdout",
     "output_type": "stream",
     "text": [
      "\n",
      "Model Score  0.019697414388238653\n",
      "Evaluating Cfg:\n",
      "Configuration:\n",
      "  _MLP:hidden_size_1, Value: 234\n",
      "  _MLP:hidden_size_2, Value: 190\n",
      "  _MLP:hidden_size_3, Value: 205\n",
      "  _MLP:hidden_size_4, Value: 169\n",
      "  _MLP:lr, Value: 0.011607888892348638\n",
      "  _MLP:n_hidden_layers, Value: '4'\n",
      "  _MLP:nonlintype, Value: 'tanh'\n",
      "  model, Value: 'MLP'\n",
      "\n",
      "use_cuda=True\n",
      "MLP Using Cuda\n",
      "hidden_sizes= [234, 190, 205, 169]\n",
      "100%|██████████| 50/50 [01:41<00:00,  2.02s/it]"
     ]
    },
    {
     "name": "stderr",
     "output_type": "stream",
     "text": [
      "INFO:smac.intensification.intensification.Intensifier:Wallclock time limit for intensification reached (used: 101.279461 sec, available: 0.000010 sec)\n"
     ]
    },
    {
     "name": "stdout",
     "output_type": "stream",
     "text": [
      "\n",
      "Model Score  0.21476365213547394\n",
      "Evaluating Cfg:\n",
      "Configuration:\n",
      "  _MLP:hidden_size_1, Value: 45\n",
      "  _MLP:hidden_size_2, Value: 127\n",
      "  _MLP:hidden_size_3, Value: 204\n",
      "  _MLP:hidden_size_4, Value: 226\n",
      "  _MLP:lr, Value: 3.138350404083634e-05\n",
      "  _MLP:n_hidden_layers, Value: '4'\n",
      "  _MLP:nonlintype, Value: 'tanh'\n",
      "  model, Value: 'MLP'\n",
      "\n",
      "use_cuda=True\n",
      "MLP Using Cuda\n",
      "hidden_sizes= [45, 127, 204, 226]\n",
      "100%|██████████| 50/50 [01:42<00:00,  2.06s/it]"
     ]
    },
    {
     "name": "stderr",
     "output_type": "stream",
     "text": [
      "INFO:smac.intensification.intensification.Intensifier:Wallclock time limit for intensification reached (used: 102.994139 sec, available: 0.000010 sec)\n"
     ]
    },
    {
     "name": "stdout",
     "output_type": "stream",
     "text": [
      "\n",
      "Model Score  0.1331015265826829\n",
      "Evaluating Cfg:\n",
      "Configuration:\n",
      "  _MLP:hidden_size_1, Value: 91\n",
      "  _MLP:hidden_size_2, Value: 31\n",
      "  _MLP:hidden_size_3, Value: 235\n",
      "  _MLP:hidden_size_4, Value: 230\n",
      "  _MLP:lr, Value: 0.0002642411679073436\n",
      "  _MLP:n_hidden_layers, Value: '4'\n",
      "  _MLP:nonlintype, Value: 'tanh'\n",
      "  model, Value: 'MLP'\n",
      "\n",
      "use_cuda=True\n",
      "MLP Using Cuda\n",
      "hidden_sizes= [91, 31, 235, 230]\n",
      "100%|██████████| 50/50 [01:42<00:00,  2.06s/it]"
     ]
    },
    {
     "name": "stderr",
     "output_type": "stream",
     "text": [
      "INFO:smac.intensification.intensification.Intensifier:Wallclock time limit for intensification reached (used: 102.893526 sec, available: 0.000010 sec)\n"
     ]
    },
    {
     "name": "stdout",
     "output_type": "stream",
     "text": [
      "\n",
      "Model Score  0.021819358226991\n",
      "Evaluating Cfg:\n",
      "Configuration:\n",
      "  _Koopman:method, Value: 'lstsq'\n",
      "  _Koopman:poly_basis, Value: 'true'\n",
      "  _Koopman:poly_degree, Value: 7\n",
      "  _Koopman:product_terms, Value: 'false'\n",
      "  _Koopman:trig_basis, Value: 'true'\n",
      "  _Koopman:trig_freq, Value: 6\n",
      "  model, Value: 'Koopman'\n",
      "\n"
     ]
    },
    {
     "name": "stderr",
     "output_type": "stream",
     "text": [
      "INFO:smac.intensification.intensification.Intensifier:Wallclock time limit for intensification reached (used: 7.896677 sec, available: 0.000010 sec)\n"
     ]
    },
    {
     "name": "stdout",
     "output_type": "stream",
     "text": [
      "Model Score  79.2208706275271\n",
      "Evaluating Cfg:\n",
      "Configuration:\n",
      "  _MLP:hidden_size_1, Value: 110\n",
      "  _MLP:hidden_size_2, Value: 134\n",
      "  _MLP:hidden_size_3, Value: 123\n",
      "  _MLP:hidden_size_4, Value: 224\n",
      "  _MLP:lr, Value: 0.0001353130233791138\n",
      "  _MLP:n_hidden_layers, Value: '4'\n",
      "  _MLP:nonlintype, Value: 'relu'\n",
      "  model, Value: 'MLP'\n",
      "\n",
      "use_cuda=True\n",
      "MLP Using Cuda\n",
      "hidden_sizes= [110, 134, 123, 224]\n",
      "100%|██████████| 50/50 [01:44<00:00,  2.10s/it]"
     ]
    },
    {
     "name": "stderr",
     "output_type": "stream",
     "text": [
      "INFO:smac.intensification.intensification.Intensifier:Wallclock time limit for intensification reached (used: 104.824307 sec, available: 0.000010 sec)\n"
     ]
    },
    {
     "name": "stdout",
     "output_type": "stream",
     "text": [
      "\n",
      "Model Score  0.028358083759562096\n",
      "Evaluating Cfg:\n",
      "Configuration:\n",
      "  _MLP:hidden_size_1, Value: 108\n",
      "  _MLP:hidden_size_2, Value: 121\n",
      "  _MLP:hidden_size_3, Value: 151\n",
      "  _MLP:hidden_size_4, Value: 194\n",
      "  _MLP:lr, Value: 0.0018497303796778798\n",
      "  _MLP:n_hidden_layers, Value: '4'\n",
      "  _MLP:nonlintype, Value: 'selu'\n",
      "  model, Value: 'MLP'\n",
      "\n",
      "use_cuda=True\n",
      "MLP Using Cuda\n",
      "hidden_sizes= [108, 121, 151, 194]\n",
      "100%|██████████| 50/50 [01:44<00:00,  2.09s/it]"
     ]
    },
    {
     "name": "stderr",
     "output_type": "stream",
     "text": [
      "INFO:smac.intensification.intensification.Intensifier:Wallclock time limit for intensification reached (used: 104.559630 sec, available: 0.000010 sec)\n"
     ]
    },
    {
     "name": "stdout",
     "output_type": "stream",
     "text": [
      "\n",
      "Model Score  0.03496180698059795\n",
      "Evaluating Cfg:\n",
      "Configuration:\n",
      "  _MLP:hidden_size_1, Value: 89\n",
      "  _MLP:hidden_size_2, Value: 201\n",
      "  _MLP:hidden_size_3, Value: 190\n",
      "  _MLP:hidden_size_4, Value: 18\n",
      "  _MLP:lr, Value: 9.291132141836155e-05\n",
      "  _MLP:n_hidden_layers, Value: '4'\n",
      "  _MLP:nonlintype, Value: 'tanh'\n",
      "  model, Value: 'MLP'\n",
      "\n",
      "use_cuda=True\n",
      "MLP Using Cuda\n",
      "hidden_sizes= [89, 201, 190, 18]\n",
      "100%|██████████| 50/50 [01:43<00:00,  2.06s/it]"
     ]
    },
    {
     "name": "stderr",
     "output_type": "stream",
     "text": [
      "INFO:smac.intensification.intensification.Intensifier:Wallclock time limit for intensification reached (used: 103.090123 sec, available: 0.000010 sec)\n"
     ]
    },
    {
     "name": "stdout",
     "output_type": "stream",
     "text": [
      "\n",
      "Model Score  0.02855036680124767\n",
      "Evaluating Cfg:\n",
      "Configuration:\n",
      "  _MLP:hidden_size_1, Value: 200\n",
      "  _MLP:hidden_size_2, Value: 189\n",
      "  _MLP:hidden_size_3, Value: 58\n",
      "  _MLP:hidden_size_4, Value: 227\n",
      "  _MLP:lr, Value: 0.00020033013560143457\n",
      "  _MLP:n_hidden_layers, Value: '4'\n",
      "  _MLP:nonlintype, Value: 'relu'\n",
      "  model, Value: 'MLP'\n",
      "\n",
      "use_cuda=True\n",
      "MLP Using Cuda\n",
      "hidden_sizes= [200, 189, 58, 227]\n",
      "100%|██████████| 50/50 [01:45<00:00,  2.11s/it]"
     ]
    },
    {
     "name": "stderr",
     "output_type": "stream",
     "text": [
      "INFO:smac.intensification.intensification.Intensifier:Wallclock time limit for intensification reached (used: 105.649080 sec, available: 0.000010 sec)\n",
      "INFO:smac.stats.stats.Stats:##########################################################\n",
      "INFO:smac.stats.stats.Stats:Statistics:\n",
      "INFO:smac.stats.stats.Stats:#Incumbent changed: 11\n",
      "INFO:smac.stats.stats.Stats:#Submitted target algorithm runs: 100 / 100.0\n",
      "INFO:smac.stats.stats.Stats:#Finished target algorithm runs: 100 / 100.0\n",
      "INFO:smac.stats.stats.Stats:#Configurations: 100\n",
      "INFO:smac.stats.stats.Stats:Used wallclock time: 5888.53 / inf sec \n",
      "INFO:smac.stats.stats.Stats:Used target algorithm runtime: 5805.00 / inf sec\n",
      "INFO:smac.stats.stats.Stats:##########################################################\n",
      "INFO:smac.facade.smac_hpo_facade.SMAC4HPO:Final Incumbent: Configuration:\n",
      "  _MLP:hidden_size_1, Value: 91\n",
      "  _MLP:hidden_size_2, Value: 129\n",
      "  _MLP:hidden_size_3, Value: 204\n",
      "  _MLP:hidden_size_4, Value: 181\n",
      "  _MLP:lr, Value: 0.0001490410224187992\n",
      "  _MLP:n_hidden_layers, Value: '4'\n",
      "  _MLP:nonlintype, Value: 'tanh'\n",
      "  model, Value: 'MLP'\n",
      "\n",
      "INFO:smac.facade.smac_hpo_facade.SMAC4HPO:Estimated cost of incumbent: 0.019697\n"
     ]
    },
    {
     "name": "stdout",
     "output_type": "stream",
     "text": [
      "\n",
      "Model Score  0.023842988667397366\n",
      "use_cuda=True\n",
      "MLP Using Cuda\n",
      "hidden_sizes= [91, 129, 204, 181]\n",
      "100%|██████████| 50/50 [02:18<00:00,  2.76s/it]"
     ]
    },
    {
     "name": "stderr",
     "output_type": "stream",
     "text": [
      "INFO:smac.utils.io.cmd_reader.CMDReader:Output to smac3-output_2021-05-30_13:52:43_788347\n",
      "INFO:smac.facade.smac_hpo_facade.SMAC4HPO:Optimizing a deterministic scenario for quality without a tuner timeout - will make SMAC deterministic and only evaluate one configuration per iteration!\n",
      "INFO:smac.initial_design.sobol_design.SobolDesign:Running initial design for 25 configurations\n",
      "INFO:smac.facade.smac_hpo_facade.SMAC4HPO:<class 'smac.facade.smac_hpo_facade.SMAC4HPO'>\n",
      "INFO:smac.optimizer.smbo.SMBO:Running initial design\n",
      "INFO:smac.intensification.intensification.Intensifier:First run, no incumbent provided; challenger is assumed to be the incumbent\n"
     ]
    },
    {
     "name": "stdout",
     "output_type": "stream",
     "text": [
      "\n",
      "use_cuda=True\n",
      "MLP Using Cuda\n",
      "hidden_sizes= [136, 136, 136]\n",
      "100%|██████████| 50/50 [01:50<00:00,  2.20s/it]\n",
      "Simulating Surrogate Trajectory: \n",
      " 99%|█████████▉| 198/200 [00:10<00:00, 18.51it/s]\n",
      "Surrogate Cost:  200.0\n",
      "Surrogate Final State:  [ 3.15677109e+00 -7.28055782e-03 -2.13685083e-03 -8.46887577e-02]\n",
      "Simulating True Dynamics Trajectory\n",
      " 99%|█████████▉| 198/200 [00:10<00:00, 18.56it/s]"
     ]
    },
    {
     "name": "stderr",
     "output_type": "stream",
     "text": [
      "INFO:smac.intensification.intensification.Intensifier:First run, no incumbent provided; challenger is assumed to be the incumbent\n",
      "INFO:smac.intensification.intensification.Intensifier:Updated estimated cost of incumbent on 1 runs: 200.0000\n"
     ]
    },
    {
     "name": "stdout",
     "output_type": "stream",
     "text": [
      "\n",
      "True Dynamics Cost:  200.0\n",
      "True Dynamics Final State:  [ 3.14147307e+00 -5.25928823e-04 -1.54829346e-01  1.75514009e-04]\n",
      "use_cuda=True\n",
      "MLP Using Cuda\n",
      "hidden_sizes= [76, 76]\n",
      "100%|██████████| 50/50 [01:26<00:00,  1.73s/it]\n",
      "Simulating Surrogate Trajectory: \n",
      "  2%|▏         | 4/200 [00:00<00:05, 33.99it/s]"
     ]
    },
    {
     "name": "stderr",
     "output_type": "stream",
     "text": [
      "/home/william/proj/autompc_dev/autompc/control/ilqr.py:535: RuntimeWarning: invalid value encountered in double_scalars\n",
      "  if (obj - new_obj) / (-expect_cost_reduction) > ls_cost_threshold:\n"
     ]
    },
    {
     "name": "stdout",
     "output_type": "stream",
     "text": [
      " 99%|█████████▉| 198/200 [00:04<00:00, 39.84it/s]\n",
      "Surrogate Cost:  200.0\n",
      "Surrogate Final State:  [ 3.15391568 -0.00849196  0.28048194 -0.1151191 ]\n",
      "Simulating True Dynamics Trajectory\n",
      " 99%|█████████▉| 198/200 [00:04<00:00, 40.27it/s]"
     ]
    },
    {
     "name": "stderr",
     "output_type": "stream",
     "text": [
      "INFO:smac.intensification.intensification.Intensifier:Wallclock time limit for intensification reached (used: 228.267757 sec, available: 0.000010 sec)\n"
     ]
    },
    {
     "name": "stdout",
     "output_type": "stream",
     "text": [
      "\n",
      "True Dynamics Cost:  200.0\n",
      "True Dynamics Final State:  [ 3.13851311e+00 -1.40604318e-03  0.00000000e+00  0.00000000e+00]\n",
      "use_cuda=True\n",
      "MLP Using Cuda\n",
      "hidden_sizes= [196, 196, 76, 76]\n",
      "100%|██████████| 50/50 [02:12<00:00,  2.65s/it]\n",
      "Simulating Surrogate Trajectory: \n",
      " 99%|█████████▉| 198/200 [00:43<00:00,  4.52it/s]\n",
      "Surrogate Cost:  200.0\n",
      "Surrogate Final State:  [ 3.15691401 -0.00669167  0.14084445 -0.08473967]\n",
      "Simulating True Dynamics Trajectory\n",
      " 99%|█████████▉| 198/200 [00:43<00:00,  4.51it/s]"
     ]
    },
    {
     "name": "stderr",
     "output_type": "stream",
     "text": [
      "INFO:smac.intensification.intensification.Intensifier:Wallclock time limit for intensification reached (used: 220.123340 sec, available: 0.000010 sec)\n"
     ]
    },
    {
     "name": "stdout",
     "output_type": "stream",
     "text": [
      "\n",
      "True Dynamics Cost:  200.0\n",
      "True Dynamics Final State:  [ 3.14159189e+00 -2.90918756e-05  5.28054810e-03 -2.13330927e-05]\n",
      "use_cuda=True\n",
      "MLP Using Cuda\n",
      "hidden_sizes= [106]\n",
      "100%|██████████| 50/50 [01:01<00:00,  1.23s/it]\n",
      "Simulating Surrogate Trajectory: \n",
      " 99%|█████████▉| 198/200 [00:45<00:00,  4.37it/s]\n",
      "Surrogate Cost:  191.0\n",
      "Surrogate Final State:  [-0.00306385 -0.16230084  0.10793365 -0.47298057]\n",
      "Simulating True Dynamics Trajectory\n",
      " 99%|█████████▉| 198/200 [00:37<00:00,  5.23it/s]"
     ]
    },
    {
     "name": "stderr",
     "output_type": "stream",
     "text": [
      "INFO:smac.intensification.intensification.Intensifier:Challenger (191.0000) is better than incumbent (200.0000) on 1 runs.\n",
      "INFO:smac.intensification.intensification.Intensifier:Changes in incumbent:\n",
      "INFO:smac.intensification.intensification.Intensifier:  _cost:dx_F : 3.1622776601683813 -> 0.4216965034285823\n",
      "INFO:smac.intensification.intensification.Intensifier:  _cost:dx_Q : 3.1622776601683813 -> 0.4216965034285823\n",
      "INFO:smac.intensification.intensification.Intensifier:  _cost:omega_F : 3.1622776601683813 -> 23.713737056616576\n",
      "INFO:smac.intensification.intensification.Intensifier:  _cost:omega_Q : 3.1622776601683813 -> 0.007498942093324564\n",
      "INFO:smac.intensification.intensification.Intensifier:  _cost:theta_F : 3.1622776601683813 -> 1333.5214321633246\n",
      "INFO:smac.intensification.intensification.Intensifier:  _cost:theta_Q : 3.1622776601683813 -> 1333.5214321633246\n",
      "INFO:smac.intensification.intensification.Intensifier:  _cost:u_R : 3.1622776601683813 -> 0.007498942093324564\n",
      "INFO:smac.intensification.intensification.Intensifier:  _cost:x_F : 3.1622776601683813 -> 23.713737056616576\n",
      "INFO:smac.intensification.intensification.Intensifier:  _cost:x_Q : 3.1622776601683813 -> 0.007498942093324564\n",
      "INFO:smac.intensification.intensification.Intensifier:  _ctrlr:horizon : 15 -> 23\n",
      "INFO:smac.intensification.intensification.Intensifier:  _model:hidden_size_1 : 136 -> 106\n"
     ]
    },
    {
     "name": "stdout",
     "output_type": "stream",
     "text": [
      "\n",
      "True Dynamics Cost:  194.0\n",
      "True Dynamics Final State:  [-0.01876785  0.03161407  0.03019355 -0.44492201]\n"
     ]
    },
    {
     "name": "stderr",
     "output_type": "stream",
     "text": [
      "INFO:smac.intensification.intensification.Intensifier:  _model:lr : 0.003162277660168379 -> 0.013335214321633242\n",
      "INFO:smac.intensification.intensification.Intensifier:  _model:n_hidden_layers : '3' -> '1'\n",
      "INFO:smac.intensification.intensification.Intensifier:  _model:nonlintype : 'sigmoid' -> 'tanh'\n",
      "INFO:smac.intensification.intensification.Intensifier:Wallclock time limit for intensification reached (used: 144.800343 sec, available: 0.000010 sec)\n"
     ]
    },
    {
     "name": "stdout",
     "output_type": "stream",
     "text": [
      "use_cuda=True\n",
      "MLP Using Cuda\n",
      "hidden_sizes= [226, 46, 166]\n",
      "100%|██████████| 50/50 [01:52<00:00,  2.24s/it]\n",
      "Simulating Surrogate Trajectory: \n",
      " 99%|█████████▉| 198/200 [00:11<00:00, 17.02it/s]\n",
      "Surrogate Cost:  200.0\n",
      "Surrogate Final State:  [ 3.1551347  -0.01156019  0.99036293  0.0089594 ]\n",
      "Simulating True Dynamics Trajectory\n",
      " 99%|█████████▉| 198/200 [00:09<00:00, 21.73it/s]"
     ]
    },
    {
     "name": "stderr",
     "output_type": "stream",
     "text": [
      "INFO:smac.intensification.intensification.Intensifier:Wallclock time limit for intensification reached (used: 132.935802 sec, available: 0.000010 sec)\n"
     ]
    },
    {
     "name": "stdout",
     "output_type": "stream",
     "text": [
      "\n",
      "True Dynamics Cost:  200.0\n",
      "True Dynamics Final State:  [ 3.14030136 -0.00337683  0.20415112  0.01933015]\n",
      "use_cuda=True\n",
      "MLP Using Cuda\n",
      "hidden_sizes= [46, 226]\n",
      "100%|██████████| 50/50 [01:26<00:00,  1.74s/it]\n",
      "Simulating Surrogate Trajectory: \n",
      " 99%|█████████▉| 198/200 [00:08<00:00, 24.66it/s]\n",
      "Surrogate Cost:  200.0\n",
      "Surrogate Final State:  [ 3.15308375 -0.00847279  0.03791402 -0.08515056]\n",
      "Simulating True Dynamics Trajectory\n",
      " 99%|█████████▉| 198/200 [00:07<00:00, 25.72it/s]"
     ]
    },
    {
     "name": "stderr",
     "output_type": "stream",
     "text": [
      "INFO:smac.intensification.intensification.Intensifier:Wallclock time limit for intensification reached (used: 102.750942 sec, available: 0.000010 sec)\n"
     ]
    },
    {
     "name": "stdout",
     "output_type": "stream",
     "text": [
      "\n",
      "True Dynamics Cost:  200.0\n",
      "True Dynamics Final State:  [ 3.13842822e+00 -8.55974272e-04 -3.63654186e-02 -9.01147320e-04]\n",
      "use_cuda=True\n",
      "MLP Using Cuda\n",
      "hidden_sizes= [166, 106, 106, 226]\n",
      "100%|██████████| 50/50 [02:15<00:00,  2.72s/it]\n",
      "Simulating Surrogate Trajectory: \n",
      " 99%|█████████▉| 198/200 [00:06<00:00, 28.51it/s]\n",
      "Surrogate Cost:  200.0\n",
      "Surrogate Final State:  [ 3.15391568 -0.00849196  0.28048194 -0.1151191 ]\n",
      "Simulating True Dynamics Trajectory\n",
      " 99%|█████████▉| 198/200 [00:06<00:00, 30.53it/s]"
     ]
    },
    {
     "name": "stderr",
     "output_type": "stream",
     "text": [
      "INFO:smac.intensification.intensification.Intensifier:Wallclock time limit for intensification reached (used: 149.315924 sec, available: 0.000010 sec)\n"
     ]
    },
    {
     "name": "stdout",
     "output_type": "stream",
     "text": [
      "\n",
      "True Dynamics Cost:  200.0\n",
      "True Dynamics Final State:  [ 3.13851311e+00 -1.40604318e-03  0.00000000e+00  0.00000000e+00]\n",
      "use_cuda=True\n",
      "MLP Using Cuda\n",
      "hidden_sizes= [181, 61, 181]\n",
      "100%|██████████| 50/50 [01:48<00:00,  2.17s/it]\n",
      "Simulating Surrogate Trajectory: \n",
      " 99%|█████████▉| 198/200 [00:06<00:00, 32.38it/s]\n",
      "Surrogate Cost:  200.0\n",
      "Surrogate Final State:  [ 3.15391568 -0.00849196  0.28048193 -0.11511911]\n",
      "Simulating True Dynamics Trajectory\n",
      " 99%|█████████▉| 198/200 [00:05<00:00, 33.74it/s]"
     ]
    },
    {
     "name": "stderr",
     "output_type": "stream",
     "text": [
      "INFO:smac.intensification.intensification.Intensifier:Wallclock time limit for intensification reached (used: 120.609087 sec, available: 0.000010 sec)\n"
     ]
    },
    {
     "name": "stdout",
     "output_type": "stream",
     "text": [
      "\n",
      "True Dynamics Cost:  200.0\n",
      "True Dynamics Final State:  [ 3.13851311e+00 -1.40604318e-03 -5.63406026e-09 -1.12561249e-09]\n",
      "use_cuda=True\n",
      "MLP Using Cuda\n",
      "hidden_sizes= [61]\n",
      "100%|██████████| 50/50 [01:01<00:00,  1.23s/it]\n",
      "Simulating Surrogate Trajectory: \n",
      " 99%|█████████▉| 198/200 [00:06<00:00, 29.51it/s]\n",
      "Surrogate Cost:  200.0\n",
      "Surrogate Final State:  [ 3.15881768 -0.01036353  0.71042139 -0.04437023]\n",
      "Simulating True Dynamics Trajectory\n",
      " 99%|█████████▉| 198/200 [00:06<00:00, 30.45it/s]"
     ]
    },
    {
     "name": "stderr",
     "output_type": "stream",
     "text": [
      "INFO:smac.intensification.intensification.Intensifier:Wallclock time limit for intensification reached (used: 74.804322 sec, available: 0.000010 sec)\n"
     ]
    },
    {
     "name": "stdout",
     "output_type": "stream",
     "text": [
      "\n",
      "True Dynamics Cost:  200.0\n",
      "True Dynamics Final State:  [ 3.14274375e+00 -2.78204190e-03  1.85425842e-01  1.04057840e-02]\n",
      "use_cuda=True\n",
      "MLP Using Cuda\n",
      "hidden_sizes= [241, 121, 121, 241]\n",
      "100%|██████████| 50/50 [02:19<00:00,  2.78s/it]\n",
      "Simulating Surrogate Trajectory: \n",
      " 99%|█████████▉| 198/200 [00:09<00:00, 21.53it/s]\n",
      "Surrogate Cost:  200.0\n",
      "Surrogate Final State:  [ 3.15746461 -0.00666873  1.07275296 -0.0079597 ]\n",
      "Simulating True Dynamics Trajectory\n",
      " 99%|█████████▉| 198/200 [00:09<00:00, 21.46it/s]"
     ]
    },
    {
     "name": "stderr",
     "output_type": "stream",
     "text": [
      "INFO:smac.intensification.intensification.Intensifier:Wallclock time limit for intensification reached (used: 157.639549 sec, available: 0.000010 sec)\n"
     ]
    },
    {
     "name": "stdout",
     "output_type": "stream",
     "text": [
      "\n",
      "True Dynamics Cost:  200.0\n",
      "True Dynamics Final State:  [ 3.14175828e+00 -9.65619996e-06  3.96758260e-01  2.82427943e-02]\n",
      "use_cuda=True\n",
      "MLP Using Cuda\n",
      "hidden_sizes= [121, 241]\n",
      "100%|██████████| 50/50 [01:28<00:00,  1.76s/it]\n",
      "Simulating Surrogate Trajectory: \n",
      " 99%|█████████▉| 198/200 [00:29<00:00,  6.82it/s]\n",
      "Surrogate Cost:  200.0\n",
      "Surrogate Final State:  [-3.75471249  1.18588798 -1.53761586 -1.24434198]\n",
      "Simulating True Dynamics Trajectory\n",
      " 99%|█████████▉| 198/200 [00:28<00:00,  7.07it/s]"
     ]
    },
    {
     "name": "stderr",
     "output_type": "stream",
     "text": [
      "INFO:smac.intensification.intensification.Intensifier:Wallclock time limit for intensification reached (used: 145.231180 sec, available: 0.000010 sec)\n"
     ]
    },
    {
     "name": "stdout",
     "output_type": "stream",
     "text": [
      "\n",
      "True Dynamics Cost:  200.0\n",
      "True Dynamics Final State:  [-3.76356335 -1.71624989 -1.48823419 -1.68869251]\n",
      "use_cuda=True\n",
      "MLP Using Cuda\n",
      "hidden_sizes= [211, 151, 151]\n",
      "100%|██████████| 50/50 [01:52<00:00,  2.25s/it]\n",
      "Simulating Surrogate Trajectory: \n",
      " 99%|█████████▉| 198/200 [00:35<00:00,  5.60it/s]\n",
      "Surrogate Cost:  200.0\n",
      "Surrogate Final State:  [ 1.02663851e-02 -8.44337877e-03  1.20711708e+01 -4.44567627e-01]\n",
      "Simulating True Dynamics Trajectory\n",
      " 99%|█████████▉| 198/200 [00:40<00:00,  4.85it/s]"
     ]
    },
    {
     "name": "stderr",
     "output_type": "stream",
     "text": [
      "INFO:smac.intensification.intensification.Intensifier:Wallclock time limit for intensification reached (used: 188.507832 sec, available: 0.000010 sec)\n"
     ]
    },
    {
     "name": "stdout",
     "output_type": "stream",
     "text": [
      "\n",
      "True Dynamics Cost:  200.0\n",
      "True Dynamics Final State:  [ 2.98987131e-02 -1.31836319e-05  2.09869232e+01  8.33839031e-01]\n",
      "use_cuda=True\n",
      "MLP Using Cuda\n",
      "hidden_sizes= [91]\n",
      "100%|██████████| 50/50 [01:02<00:00,  1.25s/it]\n",
      "Simulating Surrogate Trajectory: \n",
      " 99%|█████████▉| 198/200 [01:50<00:01,  1.79it/s]\n",
      "Surrogate Cost:  200.0\n",
      "Surrogate Final State:  [  3.08718287  -0.15719673 -15.63362319  -0.48652511]\n",
      "Simulating True Dynamics Trajectory\n",
      " 99%|█████████▉| 198/200 [01:51<00:01,  1.78it/s]"
     ]
    },
    {
     "name": "stderr",
     "output_type": "stream",
     "text": [
      "INFO:smac.intensification.intensification.Intensifier:Wallclock time limit for intensification reached (used: 284.067677 sec, available: 0.000010 sec)\n"
     ]
    },
    {
     "name": "stdout",
     "output_type": "stream",
     "text": [
      "\n",
      "True Dynamics Cost:  200.0\n",
      "True Dynamics Final State:  [  3.10092833  -0.24555813 -16.07127159  -0.18533037]\n",
      "use_cuda=True\n",
      "MLP Using Cuda\n",
      "hidden_sizes= [151, 211, 91, 91]\n",
      "100%|██████████| 50/50 [02:20<00:00,  2.82s/it]\n",
      "Simulating Surrogate Trajectory: \n",
      " 99%|█████████▉| 198/200 [00:09<00:00, 20.55it/s]\n",
      "Surrogate Cost:  200.0\n",
      "Surrogate Final State:  [ 3.1547834  -0.0084469   0.24081076 -0.12502596]\n",
      "Simulating True Dynamics Trajectory\n",
      " 99%|█████████▉| 198/200 [00:09<00:00, 20.37it/s]"
     ]
    },
    {
     "name": "stderr",
     "output_type": "stream",
     "text": [
      "INFO:smac.intensification.intensification.Intensifier:Wallclock time limit for intensification reached (used: 160.294905 sec, available: 0.000010 sec)\n"
     ]
    },
    {
     "name": "stdout",
     "output_type": "stream",
     "text": [
      "\n",
      "True Dynamics Cost:  200.0\n",
      "True Dynamics Final State:  [ 3.13915643e+00 -1.35919271e-03 -2.70094317e-02 -7.11927139e-03]\n",
      "use_cuda=True\n",
      "MLP Using Cuda\n",
      "hidden_sizes= [31, 91]\n",
      "100%|██████████| 50/50 [01:26<00:00,  1.72s/it]\n",
      "Simulating Surrogate Trajectory: \n",
      " 99%|█████████▉| 198/200 [00:16<00:00, 12.03it/s]\n",
      "Surrogate Cost:  200.0\n",
      "Surrogate Final State:  [ 3.15301672 -0.00884634  0.50809286 -0.05901505]\n",
      "Simulating True Dynamics Trajectory\n",
      " 99%|█████████▉| 198/200 [00:16<00:00, 11.68it/s]"
     ]
    },
    {
     "name": "stderr",
     "output_type": "stream",
     "text": [
      "INFO:smac.intensification.intensification.Intensifier:Wallclock time limit for intensification reached (used: 119.536884 sec, available: 0.000010 sec)\n"
     ]
    },
    {
     "name": "stdout",
     "output_type": "stream",
     "text": [
      "\n",
      "True Dynamics Cost:  200.0\n",
      "True Dynamics Final State:  [ 3.13853810e+00 -1.35869537e-03  2.48229957e-02  1.27375416e-03]\n",
      "use_cuda=True\n",
      "MLP Using Cuda\n",
      "hidden_sizes= [113, 204, 144, 38]\n",
      "100%|██████████| 50/50 [02:19<00:00,  2.78s/it]\n",
      "Simulating Surrogate Trajectory: \n",
      " 99%|█████████▉| 198/200 [00:06<00:00, 29.50it/s]\n",
      "Surrogate Cost:  200.0\n",
      "Surrogate Final State:  [ 3.15391568 -0.00849196  0.28048194 -0.1151191 ]\n",
      "Simulating True Dynamics Trajectory\n",
      " 99%|█████████▉| 198/200 [00:06<00:00, 29.09it/s]"
     ]
    },
    {
     "name": "stderr",
     "output_type": "stream",
     "text": [
      "INFO:smac.intensification.intensification.Intensifier:Wallclock time limit for intensification reached (used: 152.800792 sec, available: 0.000010 sec)\n"
     ]
    },
    {
     "name": "stdout",
     "output_type": "stream",
     "text": [
      "\n",
      "True Dynamics Cost:  200.0\n",
      "True Dynamics Final State:  [ 3.13851311e+00 -1.40604318e-03  0.00000000e+00  0.00000000e+00]\n",
      "use_cuda=True\n",
      "MLP Using Cuda\n",
      "hidden_sizes= [234, 83]\n",
      "100%|██████████| 50/50 [01:26<00:00,  1.74s/it]\n",
      "Simulating Surrogate Trajectory: \n",
      " 99%|█████████▉| 198/200 [00:16<00:00, 12.02it/s]\n",
      "Surrogate Cost:  200.0\n",
      "Surrogate Final State:  [ 3.15708181 -0.00653748  0.75363135 -0.01022224]\n",
      "Simulating True Dynamics Trajectory\n",
      " 99%|█████████▉| 198/200 [00:16<00:00, 11.77it/s]"
     ]
    },
    {
     "name": "stderr",
     "output_type": "stream",
     "text": [
      "INFO:smac.intensification.intensification.Intensifier:Wallclock time limit for intensification reached (used: 120.138267 sec, available: 0.000010 sec)\n"
     ]
    },
    {
     "name": "stdout",
     "output_type": "stream",
     "text": [
      "\n",
      "True Dynamics Cost:  200.0\n",
      "True Dynamics Final State:  [ 3.14166184e+00  3.08026653e-05 -2.00410135e-01 -2.11806885e-02]\n",
      "use_cuda=True\n",
      "MLP Using Cuda\n",
      "hidden_sizes= [53, 144, 83]\n",
      "100%|██████████| 50/50 [01:53<00:00,  2.27s/it]\n",
      "Simulating Surrogate Trajectory: \n",
      " 99%|█████████▉| 198/200 [00:46<00:00,  4.26it/s]\n",
      "Surrogate Cost:  182.0\n",
      "Surrogate Final State:  [ 0.68166356  2.52670991 -0.91489256  0.29715124]\n",
      "Simulating True Dynamics Trajectory\n",
      " 99%|█████████▉| 198/200 [00:37<00:00,  5.32it/s]"
     ]
    },
    {
     "name": "stderr",
     "output_type": "stream",
     "text": [
      "INFO:smac.intensification.intensification.Intensifier:Challenger (182.0000) is better than incumbent (191.0000) on 1 runs.\n",
      "INFO:smac.intensification.intensification.Intensifier:Changes in incumbent:\n",
      "INFO:smac.intensification.intensification.Intensifier:  _cost:dx_F : 0.4216965034285823 -> 805.8421877614824\n",
      "INFO:smac.intensification.intensification.Intensifier:  _cost:dx_Q : 0.4216965034285823 -> 0.033982083289425605\n",
      "INFO:smac.intensification.intensification.Intensifier:  _cost:omega_F : 23.713737056616576 -> 0.004531583637600819\n",
      "INFO:smac.intensification.intensification.Intensifier:  _cost:omega_Q : 0.007498942093324564 -> 0.0124093776075172\n",
      "INFO:smac.intensification.intensification.Intensifier:  _cost:theta_F : 1333.5214321633246 -> 5.232991146814948\n",
      "INFO:smac.intensification.intensification.Intensifier:  _cost:theta_Q : 1333.5214321633246 -> 0.004531583637600819\n",
      "INFO:smac.intensification.intensification.Intensifier:  _cost:u_R : 0.007498942093324564 -> 0.0930572040929699\n",
      "INFO:smac.intensification.intensification.Intensifier:  _cost:x_F : 23.713737056616576 -> 14.330125702369648\n",
      "INFO:smac.intensification.intensification.Intensifier:  _cost:x_Q : 0.007498942093324564 -> 5.232991146814948\n",
      "INFO:smac.intensification.intensification.Intensifier:  _ctrlr:horizon : 23 -> 18\n",
      "INFO:smac.intensification.intensification.Intensifier:  _model:hidden_size_1 : 106 -> 53\n",
      "INFO:smac.intensification.intensification.Intensifier:  _model:hidden_size_2 : None -> 144\n",
      "INFO:smac.intensification.intensification.Intensifier:  _model:hidden_size_3 : None -> 83\n",
      "INFO:smac.intensification.intensification.Intensifier:  _model:lr : 0.013335214321633242 -> 2.942727176209284e-05\n",
      "INFO:smac.intensification.intensification.Intensifier:  _model:n_hidden_layers : '1' -> '3'\n",
      "INFO:smac.intensification.intensification.Intensifier:  _model:nonlintype : 'tanh' -> 'selu'\n",
      "INFO:smac.intensification.intensification.Intensifier:Wallclock time limit for intensification reached (used: 197.007255 sec, available: 0.000010 sec)\n"
     ]
    },
    {
     "name": "stdout",
     "output_type": "stream",
     "text": [
      "\n",
      "True Dynamics Cost:  148.0\n",
      "True Dynamics Final State:  [ 0.53451352 -1.68349589  1.08797691 -0.61401664]\n",
      "use_cuda=True\n",
      "MLP Using Cuda\n",
      "hidden_sizes= [174]\n",
      "100%|██████████| 50/50 [01:02<00:00,  1.25s/it]\n",
      "Simulating Surrogate Trajectory: \n",
      " 99%|█████████▉| 198/200 [00:06<00:00, 30.82it/s]\n",
      "Surrogate Cost:  200.0\n",
      "Surrogate Final State:  [ 3.15419348e+00 -7.78623781e-03  8.38820516e-01 -2.44956993e-03]\n",
      "Simulating True Dynamics Trajectory\n",
      " 99%|█████████▉| 198/200 [00:06<00:00, 31.15it/s]"
     ]
    },
    {
     "name": "stderr",
     "output_type": "stream",
     "text": [
      "INFO:smac.intensification.intensification.Intensifier:Wallclock time limit for intensification reached (used: 75.406108 sec, available: 0.000010 sec)\n"
     ]
    },
    {
     "name": "stdout",
     "output_type": "stream",
     "text": [
      "\n",
      "True Dynamics Cost:  200.0\n",
      "True Dynamics Final State:  [ 3.13946502e+00 -8.74691559e-04  2.50945211e-01  3.37532097e-02]\n",
      "use_cuda=True\n",
      "MLP Using Cuda\n",
      "hidden_sizes= [23, 113, 174, 189]\n",
      "100%|██████████| 50/50 [02:18<00:00,  2.76s/it]\n",
      "Simulating Surrogate Trajectory: \n",
      " 99%|█████████▉| 198/200 [00:11<00:00, 16.81it/s]\n",
      "Surrogate Cost:  200.0\n",
      "Surrogate Final State:  [ 3.15474373 -0.00870058  0.00958084 -0.08537215]\n",
      "Simulating True Dynamics Trajectory\n",
      " 99%|█████████▉| 198/200 [00:11<00:00, 16.71it/s]"
     ]
    },
    {
     "name": "stderr",
     "output_type": "stream",
     "text": [
      "INFO:smac.intensification.intensification.Intensifier:Wallclock time limit for intensification reached (used: 161.775831 sec, available: 0.000010 sec)\n"
     ]
    },
    {
     "name": "stdout",
     "output_type": "stream",
     "text": [
      "\n",
      "True Dynamics Cost:  200.0\n",
      "True Dynamics Final State:  [ 3.13998813e+00  1.44584524e-03 -3.78685575e-02 -3.17091934e-04]\n",
      "use_cuda=True\n",
      "MLP Using Cuda\n",
      "hidden_sizes= [144, 234]\n",
      "100%|██████████| 50/50 [01:27<00:00,  1.74s/it]\n",
      "Simulating Surrogate Trajectory: \n",
      " 99%|█████████▉| 198/200 [00:18<00:00, 10.90it/s]\n",
      "Surrogate Cost:  200.0\n",
      "Surrogate Final State:  [  3.75547365  -2.61001068 -78.62613228  -5.89714048]\n",
      "Simulating True Dynamics Trajectory\n",
      " 99%|█████████▉| 198/200 [00:18<00:00, 10.93it/s]"
     ]
    },
    {
     "name": "stderr",
     "output_type": "stream",
     "text": [
      "INFO:smac.intensification.intensification.Intensifier:Wallclock time limit for intensification reached (used: 123.367924 sec, available: 0.000010 sec)\n"
     ]
    },
    {
     "name": "stdout",
     "output_type": "stream",
     "text": [
      "\n",
      "True Dynamics Cost:  200.0\n",
      "True Dynamics Final State:  [  3.07279981  -2.04100716 -77.84378758  -4.83837615]\n",
      "use_cuda=True\n",
      "MLP Using Cuda\n",
      "hidden_sizes= [83, 53, 113]\n",
      "100%|██████████| 50/50 [01:52<00:00,  2.26s/it]\n",
      "Simulating Surrogate Trajectory: \n",
      " 99%|█████████▉| 198/200 [01:14<00:00,  2.66it/s]\n",
      "Surrogate Cost:  200.0\n",
      "Surrogate Final State:  [-0.00953117 -0.01178063  6.86873153 -0.30374494]\n",
      "Simulating True Dynamics Trajectory\n",
      " 99%|█████████▉| 198/200 [01:53<00:01,  1.75it/s]"
     ]
    },
    {
     "name": "stderr",
     "output_type": "stream",
     "text": [
      "INFO:smac.intensification.intensification.Intensifier:Wallclock time limit for intensification reached (used: 300.282737 sec, available: 0.000010 sec)\n"
     ]
    },
    {
     "name": "stdout",
     "output_type": "stream",
     "text": [
      "\n",
      "True Dynamics Cost:  200.0\n",
      "True Dynamics Final State:  [ 3.82490312e-03 -9.11165352e-02  1.08947452e+01  3.48807061e-01]\n",
      "use_cuda=True\n",
      "MLP Using Cuda\n",
      "hidden_sizes= [204]\n",
      "100%|██████████| 50/50 [01:04<00:00,  1.29s/it]\n",
      "Simulating Surrogate Trajectory: \n",
      " 99%|█████████▉| 198/200 [00:09<00:00, 19.84it/s]\n",
      "Surrogate Cost:  200.0\n",
      "Surrogate Final State:  [ 3.15360239 -0.00771214  0.35478665 -0.08151908]\n",
      "Simulating True Dynamics Trajectory\n",
      " 99%|█████████▉| 198/200 [00:09<00:00, 20.06it/s]"
     ]
    },
    {
     "name": "stderr",
     "output_type": "stream",
     "text": [
      "INFO:smac.intensification.intensification.Intensifier:Wallclock time limit for intensification reached (used: 84.257833 sec, available: 0.000010 sec)\n"
     ]
    },
    {
     "name": "stdout",
     "output_type": "stream",
     "text": [
      "\n",
      "True Dynamics Cost:  200.0\n",
      "True Dynamics Final State:  [ 3.13797259e+00 -2.33587701e-03 -8.26239514e-02 -1.17494055e-02]\n",
      "use_cuda=True\n",
      "MLP Using Cuda\n",
      "hidden_sizes= [219, 249]\n",
      "100%|██████████| 50/50 [01:26<00:00,  1.73s/it]\n",
      "Simulating Surrogate Trajectory: \n",
      " 99%|█████████▉| 198/200 [00:14<00:00, 13.39it/s]\n",
      "Surrogate Cost:  200.0\n",
      "Surrogate Final State:  [ 3.15707803  0.00520434 -0.01374299 -0.08575757]\n",
      "Simulating True Dynamics Trajectory\n",
      " 99%|█████████▉| 198/200 [00:14<00:00, 13.38it/s]"
     ]
    },
    {
     "name": "stderr",
     "output_type": "stream",
     "text": [
      "INFO:smac.intensification.intensification.Intensifier:Wallclock time limit for intensification reached (used: 116.179397 sec, available: 0.000010 sec)\n"
     ]
    },
    {
     "name": "stdout",
     "output_type": "stream",
     "text": [
      "\n",
      "True Dynamics Cost:  200.0\n",
      "True Dynamics Final State:  [ 3.14282556e+00  4.65193325e-03 -5.50670269e-02 -3.47361511e-04]\n",
      "use_cuda=True\n",
      "MLP Using Cuda\n",
      "hidden_sizes= [98, 128, 189, 174]\n",
      "100%|██████████| 50/50 [02:16<00:00,  2.73s/it]\n",
      "Simulating Surrogate Trajectory: \n",
      " 99%|█████████▉| 198/200 [01:11<00:00,  2.77it/s]\n",
      "Surrogate Cost:  198.0\n",
      "Surrogate Final State:  [ 0.00522746 -0.00749232 -0.74935584 -0.87961698]\n",
      "Simulating True Dynamics Trajectory\n",
      " 99%|█████████▉| 198/200 [00:42<00:00,  4.62it/s]"
     ]
    },
    {
     "name": "stderr",
     "output_type": "stream",
     "text": [
      "INFO:smac.intensification.intensification.Intensifier:Wallclock time limit for intensification reached (used: 250.733656 sec, available: 0.000010 sec)\n"
     ]
    },
    {
     "name": "stdout",
     "output_type": "stream",
     "text": [
      "\n",
      "True Dynamics Cost:  200.0\n",
      "True Dynamics Final State:  [ 2.0590606  -3.7915659  -5.85648976  8.73352933]\n",
      "use_cuda=True\n",
      "MLP Using Cuda\n",
      "hidden_sizes= [145, 154, 230]\n",
      "100%|██████████| 50/50 [01:52<00:00,  2.25s/it]\n",
      "Simulating Surrogate Trajectory: \n",
      " 99%|█████████▉| 198/200 [00:08<00:00, 23.45it/s]\n",
      "Surrogate Cost:  200.0\n",
      "Surrogate Final State:  [ 3.15403856 -0.0087175   0.12136416 -0.08503155]\n",
      "Simulating True Dynamics Trajectory\n",
      " 99%|█████████▉| 198/200 [00:08<00:00, 24.12it/s]"
     ]
    },
    {
     "name": "stderr",
     "output_type": "stream",
     "text": [
      "INFO:smac.intensification.intensification.Intensifier:Wallclock time limit for intensification reached (used: 128.990109 sec, available: 0.000010 sec)\n"
     ]
    },
    {
     "name": "stdout",
     "output_type": "stream",
     "text": [
      "\n",
      "True Dynamics Cost:  200.0\n",
      "True Dynamics Final State:  [ 3.13954307e+00 -1.01935126e-03  6.03260255e-02 -1.96226454e-04]\n",
      "use_cuda=True\n",
      "MLP Using Cuda\n",
      "hidden_sizes= [201]\n",
      "100%|██████████| 50/50 [01:01<00:00,  1.23s/it]\n",
      "Simulating Surrogate Trajectory: \n",
      " 99%|█████████▉| 198/200 [00:06<00:00, 30.43it/s]\n",
      "Surrogate Cost:  200.0\n",
      "Surrogate Final State:  [ 3.15452929 -0.00828051  0.72170779 -0.09518913]\n",
      "Simulating True Dynamics Trajectory\n",
      " 99%|█████████▉| 198/200 [00:06<00:00, 31.06it/s]"
     ]
    },
    {
     "name": "stderr",
     "output_type": "stream",
     "text": [
      "INFO:smac.intensification.intensification.Intensifier:Wallclock time limit for intensification reached (used: 74.382618 sec, available: 0.000010 sec)\n"
     ]
    },
    {
     "name": "stdout",
     "output_type": "stream",
     "text": [
      "\n",
      "True Dynamics Cost:  200.0\n",
      "True Dynamics Final State:  [ 3.14016774e+00 -1.41699302e-03  5.78253642e-01 -9.75316708e-03]\n",
      "use_cuda=True\n",
      "MLP Using Cuda\n",
      "hidden_sizes= [248, 158, 210, 168]\n",
      "100%|██████████| 50/50 [02:15<00:00,  2.71s/it]\n",
      "Simulating Surrogate Trajectory: \n",
      " 99%|█████████▉| 198/200 [00:09<00:00, 21.32it/s]\n",
      "Surrogate Cost:  200.0\n",
      "Surrogate Final State:  [ 3.15220581 -0.00470439  0.4432882  -0.0417489 ]\n",
      "Simulating True Dynamics Trajectory\n",
      " 99%|█████████▉| 198/200 [00:09<00:00, 21.37it/s]"
     ]
    },
    {
     "name": "stderr",
     "output_type": "stream",
     "text": [
      "INFO:smac.intensification.intensification.Intensifier:Wallclock time limit for intensification reached (used: 154.073270 sec, available: 0.000010 sec)\n"
     ]
    },
    {
     "name": "stdout",
     "output_type": "stream",
     "text": [
      "\n",
      "True Dynamics Cost:  200.0\n",
      "True Dynamics Final State:  [ 3.13795064e+00  2.09203115e-03 -3.67586376e-01 -3.76825555e-02]\n",
      "use_cuda=True\n",
      "MLP Using Cuda\n",
      "hidden_sizes= [31, 132, 113]\n",
      "100%|██████████| 50/50 [01:51<00:00,  2.23s/it]\n",
      "Simulating Surrogate Trajectory: \n",
      " 99%|█████████▉| 198/200 [00:33<00:00,  5.84it/s]\n",
      "Surrogate Cost:  200.0\n",
      "Surrogate Final State:  [-1.2742663  -0.13783014 -1.54992437  2.48382499]\n",
      "Simulating True Dynamics Trajectory\n",
      " 99%|█████████▉| 198/200 [00:39<00:00,  5.00it/s]"
     ]
    },
    {
     "name": "stderr",
     "output_type": "stream",
     "text": [
      "INFO:smac.intensification.intensification.Intensifier:Wallclock time limit for intensification reached (used: 185.114883 sec, available: 0.000010 sec)\n"
     ]
    },
    {
     "name": "stdout",
     "output_type": "stream",
     "text": [
      "\n",
      "True Dynamics Cost:  200.0\n",
      "True Dynamics Final State:  [-0.38897062 -0.61989759 -0.56896799 -2.95521562]\n",
      "use_cuda=True\n",
      "MLP Using Cuda\n",
      "hidden_sizes= [39, 231, 117]\n",
      "100%|██████████| 50/50 [01:52<00:00,  2.24s/it]\n",
      "Simulating Surrogate Trajectory: \n",
      " 99%|█████████▉| 198/200 [00:45<00:00,  4.35it/s]\n",
      "Surrogate Cost:  200.0\n",
      "Surrogate Final State:  [-0.30454335 -0.40026904  1.30966559 -1.88055416]\n",
      "Simulating True Dynamics Trajectory\n",
      " 99%|█████████▉| 198/200 [00:38<00:00,  5.16it/s]"
     ]
    },
    {
     "name": "stderr",
     "output_type": "stream",
     "text": [
      "INFO:smac.intensification.intensification.Intensifier:Wallclock time limit for intensification reached (used: 196.072747 sec, available: 0.000010 sec)\n"
     ]
    },
    {
     "name": "stdout",
     "output_type": "stream",
     "text": [
      "\n",
      "True Dynamics Cost:  200.0\n",
      "True Dynamics Final State:  [ 0.8333866   2.14069971 -3.61092338 -2.33263714]\n",
      "use_cuda=True\n",
      "MLP Using Cuda\n",
      "hidden_sizes= [37, 231, 111]\n",
      "100%|██████████| 50/50 [01:51<00:00,  2.22s/it]\n",
      "Simulating Surrogate Trajectory: \n",
      " 99%|█████████▉| 198/200 [00:41<00:00,  4.83it/s]\n",
      "Surrogate Cost:  200.0\n",
      "Surrogate Final State:  [-0.04152932 -0.5260122   0.2320819  -1.01552886]\n",
      "Simulating True Dynamics Trajectory\n",
      " 99%|█████████▉| 198/200 [00:36<00:00,  5.45it/s]"
     ]
    },
    {
     "name": "stderr",
     "output_type": "stream",
     "text": [
      "INFO:smac.intensification.intensification.Intensifier:Wallclock time limit for intensification reached (used: 188.390523 sec, available: 0.000010 sec)\n"
     ]
    },
    {
     "name": "stdout",
     "output_type": "stream",
     "text": [
      "\n",
      "True Dynamics Cost:  199.0\n",
      "True Dynamics Final State:  [1.4796806  0.74265755 3.4581707  2.58345614]\n",
      "use_cuda=True\n",
      "MLP Using Cuda\n",
      "hidden_sizes= [21, 157, 96]\n",
      "100%|██████████| 50/50 [01:51<00:00,  2.23s/it]\n",
      "Simulating Surrogate Trajectory: \n",
      " 99%|█████████▉| 198/200 [00:48<00:00,  4.05it/s]\n",
      "Surrogate Cost:  199.0\n",
      "Surrogate Final State:  [ 0.81851165 -2.02092009  1.35076327 -0.42418534]\n",
      "Simulating True Dynamics Trajectory\n",
      " 99%|█████████▉| 198/200 [00:36<00:00,  5.41it/s]"
     ]
    },
    {
     "name": "stderr",
     "output_type": "stream",
     "text": [
      "INFO:smac.intensification.intensification.Intensifier:Wallclock time limit for intensification reached (used: 197.205445 sec, available: 0.000010 sec)\n"
     ]
    },
    {
     "name": "stdout",
     "output_type": "stream",
     "text": [
      "\n",
      "True Dynamics Cost:  182.0\n",
      "True Dynamics Final State:  [-0.03143633 -0.03713959  0.40877155  0.59729251]\n",
      "use_cuda=True\n",
      "MLP Using Cuda\n",
      "hidden_sizes= [69, 146, 83, 128]\n",
      "100%|██████████| 50/50 [02:18<00:00,  2.77s/it]\n",
      "Simulating Surrogate Trajectory: \n",
      " 99%|█████████▉| 198/200 [01:08<00:00,  2.90it/s]\n",
      "Surrogate Cost:  200.0\n",
      "Surrogate Final State:  [ 3.47494769 -2.72123968 -1.75015992  1.11909832]\n",
      "Simulating True Dynamics Trajectory\n",
      " 99%|█████████▉| 198/200 [01:13<00:00,  2.69it/s]"
     ]
    },
    {
     "name": "stderr",
     "output_type": "stream",
     "text": [
      "INFO:smac.intensification.intensification.Intensifier:Wallclock time limit for intensification reached (used: 280.340836 sec, available: 0.000010 sec)\n"
     ]
    },
    {
     "name": "stdout",
     "output_type": "stream",
     "text": [
      "\n",
      "True Dynamics Cost:  200.0\n",
      "True Dynamics Final State:  [ 1.24209785  3.32488948 -1.00674916 -0.3768865 ]\n",
      "use_cuda=True\n",
      "MLP Using Cuda\n",
      "hidden_sizes= [46]\n",
      "100%|██████████| 50/50 [00:58<00:00,  1.17s/it]\n",
      "Simulating Surrogate Trajectory: \n",
      " 99%|█████████▉| 198/200 [00:27<00:00,  7.19it/s]\n",
      "Surrogate Cost:  200.0\n",
      "Surrogate Final State:  [ 3.16330393  0.04061855 -0.23710346 -0.2985008 ]\n",
      "Simulating True Dynamics Trajectory\n",
      " 99%|█████████▉| 198/200 [00:28<00:00,  6.95it/s]"
     ]
    },
    {
     "name": "stderr",
     "output_type": "stream",
     "text": [
      "INFO:smac.intensification.intensification.Intensifier:Wallclock time limit for intensification reached (used: 114.727424 sec, available: 0.000010 sec)\n"
     ]
    },
    {
     "name": "stdout",
     "output_type": "stream",
     "text": [
      "\n",
      "True Dynamics Cost:  200.0\n",
      "True Dynamics Final State:  [ 3.09124079 -0.17251788 -0.41667126  0.04108888]\n",
      "use_cuda=True\n",
      "MLP Using Cuda\n",
      "hidden_sizes= [17, 128]\n",
      "100%|██████████| 50/50 [01:27<00:00,  1.75s/it]\n",
      "Simulating Surrogate Trajectory: \n",
      " 99%|█████████▉| 198/200 [00:20<00:00,  9.46it/s]\n",
      "Surrogate Cost:  200.0\n",
      "Surrogate Final State:  [ 3.9125349  -0.36480264  3.85260735  0.35761933]\n",
      "Simulating True Dynamics Trajectory\n",
      " 99%|█████████▉| 198/200 [00:21<00:00,  9.31it/s]"
     ]
    },
    {
     "name": "stderr",
     "output_type": "stream",
     "text": [
      "INFO:smac.intensification.intensification.Intensifier:Wallclock time limit for intensification reached (used: 129.593853 sec, available: 0.000010 sec)\n"
     ]
    },
    {
     "name": "stdout",
     "output_type": "stream",
     "text": [
      "\n",
      "True Dynamics Cost:  200.0\n",
      "True Dynamics Final State:  [-3.12220672 -0.55129728 -0.56158004  0.08492259]\n",
      "use_cuda=True\n",
      "MLP Using Cuda\n",
      "hidden_sizes= [51, 128, 148]\n",
      "100%|██████████| 50/50 [01:51<00:00,  2.24s/it]\n",
      "Simulating Surrogate Trajectory: \n",
      " 99%|█████████▉| 198/200 [00:30<00:00,  6.58it/s]\n",
      "Surrogate Cost:  200.0\n",
      "Surrogate Final State:  [ 0.63775092 -1.80095758  0.43603292 -2.62472767]\n",
      "Simulating True Dynamics Trajectory\n",
      " 99%|█████████▉| 198/200 [00:31<00:00,  6.22it/s]"
     ]
    },
    {
     "name": "stderr",
     "output_type": "stream",
     "text": [
      "INFO:smac.intensification.intensification.Intensifier:Wallclock time limit for intensification reached (used: 173.773970 sec, available: 0.000010 sec)\n"
     ]
    },
    {
     "name": "stdout",
     "output_type": "stream",
     "text": [
      "\n",
      "True Dynamics Cost:  200.0\n",
      "True Dynamics Final State:  [ 3.35198697  2.7804611  -2.61459473 -0.25079428]\n",
      "use_cuda=True\n",
      "MLP Using Cuda\n",
      "hidden_sizes= [201, 208, 34]\n",
      "100%|██████████| 50/50 [01:50<00:00,  2.21s/it]\n",
      "Simulating Surrogate Trajectory: \n",
      " 99%|█████████▉| 198/200 [00:14<00:00, 13.41it/s]\n",
      "Surrogate Cost:  200.0\n",
      "Surrogate Final State:  [ 3.15393016 -0.00848979  0.27691118 -0.11555314]\n",
      "Simulating True Dynamics Trajectory\n",
      " 99%|█████████▉| 198/200 [00:11<00:00, 16.66it/s]"
     ]
    },
    {
     "name": "stderr",
     "output_type": "stream",
     "text": [
      "INFO:smac.intensification.intensification.Intensifier:Wallclock time limit for intensification reached (used: 137.152516 sec, available: 0.000010 sec)\n"
     ]
    },
    {
     "name": "stdout",
     "output_type": "stream",
     "text": [
      "\n",
      "True Dynamics Cost:  200.0\n",
      "True Dynamics Final State:  [ 3.13851311e+00 -1.40604330e-03  1.29172252e-07  1.88242380e-08]\n",
      "use_cuda=True\n",
      "MLP Using Cuda\n",
      "hidden_sizes= [51, 144, 83]\n",
      "100%|██████████| 50/50 [01:51<00:00,  2.22s/it]\n",
      "Simulating Surrogate Trajectory: \n",
      " 99%|█████████▉| 198/200 [00:40<00:00,  4.89it/s]\n",
      "Surrogate Cost:  200.0\n",
      "Surrogate Final State:  [ 0.01185446  0.01392952 -0.62558242  0.00686824]\n",
      "Simulating True Dynamics Trajectory\n",
      " 99%|█████████▉| 198/200 [00:30<00:00,  6.59it/s]"
     ]
    },
    {
     "name": "stderr",
     "output_type": "stream",
     "text": [
      "INFO:smac.intensification.intensification.Intensifier:Wallclock time limit for intensification reached (used: 181.701072 sec, available: 0.000010 sec)\n"
     ]
    },
    {
     "name": "stdout",
     "output_type": "stream",
     "text": [
      "\n",
      "True Dynamics Cost:  200.0\n",
      "True Dynamics Final State:  [ 1.44431638e+00 -2.54484488e+00  1.40915718e-03  4.77200439e+00]\n",
      "use_cuda=True\n",
      "MLP Using Cuda\n",
      "hidden_sizes= [67, 140, 24]\n",
      "100%|██████████| 50/50 [01:51<00:00,  2.24s/it]\n",
      "Simulating Surrogate Trajectory: \n",
      " 99%|█████████▉| 198/200 [00:41<00:00,  4.79it/s]\n",
      "Surrogate Cost:  200.0\n",
      "Surrogate Final State:  [ 3.15270579 -0.0101414  -0.67611898 -0.15581091]\n",
      "Simulating True Dynamics Trajectory\n",
      " 99%|█████████▉| 198/200 [00:37<00:00,  5.31it/s]"
     ]
    },
    {
     "name": "stderr",
     "output_type": "stream",
     "text": [
      "INFO:smac.intensification.intensification.Intensifier:Wallclock time limit for intensification reached (used: 190.596817 sec, available: 0.000010 sec)\n"
     ]
    },
    {
     "name": "stdout",
     "output_type": "stream",
     "text": [
      "\n",
      "True Dynamics Cost:  200.0\n",
      "True Dynamics Final State:  [ 3.13791037e+00 -5.09563782e-04 -1.52440814e+00 -1.55444563e-01]\n",
      "use_cuda=True\n",
      "MLP Using Cuda\n",
      "hidden_sizes= [17, 227]\n",
      "100%|██████████| 50/50 [01:27<00:00,  1.75s/it]\n",
      "Simulating Surrogate Trajectory: \n",
      " 99%|█████████▉| 198/200 [00:16<00:00, 12.11it/s]\n",
      "Surrogate Cost:  200.0\n",
      "Surrogate Final State:  [17.04467171 -2.15128872 29.81862594  5.76974793]\n",
      "Simulating True Dynamics Trajectory\n",
      " 99%|█████████▉| 198/200 [00:23<00:00,  8.43it/s]"
     ]
    },
    {
     "name": "stderr",
     "output_type": "stream",
     "text": [
      "INFO:smac.intensification.intensification.Intensifier:Wallclock time limit for intensification reached (used: 127.135659 sec, available: 0.000010 sec)\n"
     ]
    },
    {
     "name": "stdout",
     "output_type": "stream",
     "text": [
      "\n",
      "True Dynamics Cost:  200.0\n",
      "True Dynamics Final State:  [ 8.73335949 -2.37569055 17.39401531 -1.29969876]\n",
      "use_cuda=True\n",
      "MLP Using Cuda\n",
      "hidden_sizes= [53]\n",
      "100%|██████████| 50/50 [00:58<00:00,  1.17s/it]\n",
      "Simulating Surrogate Trajectory: \n",
      " 99%|█████████▉| 198/200 [00:46<00:00,  4.24it/s]\n",
      "Surrogate Cost:  200.0\n",
      "Surrogate Final State:  [ 3.53598423 -0.69984198  0.20726954 -0.50264526]\n",
      "Simulating True Dynamics Trajectory\n",
      " 99%|█████████▉| 198/200 [00:46<00:00,  4.24it/s]"
     ]
    },
    {
     "name": "stderr",
     "output_type": "stream",
     "text": [
      "INFO:smac.intensification.intensification.Intensifier:Wallclock time limit for intensification reached (used: 151.838103 sec, available: 0.000010 sec)\n"
     ]
    },
    {
     "name": "stdout",
     "output_type": "stream",
     "text": [
      "\n",
      "True Dynamics Cost:  200.0\n",
      "True Dynamics Final State:  [ 3.47387761 -0.23953661  0.10027521 -0.35327579]\n",
      "use_cuda=True\n",
      "MLP Using Cuda\n",
      "hidden_sizes= [53, 155, 74]\n",
      "100%|██████████| 50/50 [01:50<00:00,  2.20s/it]\n",
      "Simulating Surrogate Trajectory: \n",
      " 99%|█████████▉| 198/200 [00:31<00:00,  6.32it/s]\n",
      "Surrogate Cost:  200.0\n",
      "Surrogate Final State:  [ 3.19766893 -0.79203109 -0.63562616  0.0617145 ]\n",
      "Simulating True Dynamics Trajectory\n",
      " 99%|█████████▉| 198/200 [00:31<00:00,  6.29it/s]"
     ]
    },
    {
     "name": "stderr",
     "output_type": "stream",
     "text": [
      "INFO:smac.intensification.intensification.Intensifier:Wallclock time limit for intensification reached (used: 173.060668 sec, available: 0.000010 sec)\n"
     ]
    },
    {
     "name": "stdout",
     "output_type": "stream",
     "text": [
      "\n",
      "True Dynamics Cost:  200.0\n",
      "True Dynamics Final State:  [ 3.12938897 -0.7386377  -0.69436207  0.17304022]\n",
      "use_cuda=True\n",
      "MLP Using Cuda\n",
      "hidden_sizes= [39]\n",
      "100%|██████████| 50/50 [00:59<00:00,  1.18s/it]\n",
      "Simulating Surrogate Trajectory: \n",
      " 99%|█████████▉| 198/200 [00:31<00:00,  6.32it/s]\n",
      "Surrogate Cost:  200.0\n",
      "Surrogate Final State:  [ 2.68156816  0.26237537 -1.39293379  0.05180447]\n",
      "Simulating True Dynamics Trajectory\n",
      " 99%|█████████▉| 198/200 [00:30<00:00,  6.59it/s]"
     ]
    },
    {
     "name": "stderr",
     "output_type": "stream",
     "text": [
      "INFO:smac.intensification.intensification.Intensifier:Wallclock time limit for intensification reached (used: 120.613356 sec, available: 0.000010 sec)\n"
     ]
    },
    {
     "name": "stdout",
     "output_type": "stream",
     "text": [
      "\n",
      "True Dynamics Cost:  200.0\n",
      "True Dynamics Final State:  [ 2.75926951 -0.35697596 -1.47618033  0.22985615]\n",
      "use_cuda=True\n",
      "MLP Using Cuda\n",
      "hidden_sizes= [202, 66]\n",
      "100%|██████████| 50/50 [01:26<00:00,  1.73s/it]\n",
      "Simulating Surrogate Trajectory: \n",
      "  4%|▍         | 9/200 [00:00<00:04, 39.65it/s]"
     ]
    },
    {
     "name": "stderr",
     "output_type": "stream",
     "text": [
      "/home/william/proj/autompc_dev/autompc/control/ilqr.py:535: RuntimeWarning: invalid value encountered in double_scalars\n",
      "  if (obj - new_obj) / (-expect_cost_reduction) > ls_cost_threshold:\n"
     ]
    },
    {
     "name": "stdout",
     "output_type": "stream",
     "text": [
      " 99%|█████████▉| 198/200 [00:05<00:00, 38.00it/s]\n",
      "Surrogate Cost:  200.0\n",
      "Surrogate Final State:  [ 3.15391568 -0.00849196  0.28048194 -0.1151191 ]\n",
      "Simulating True Dynamics Trajectory\n",
      " 99%|█████████▉| 198/200 [00:05<00:00, 38.11it/s]"
     ]
    },
    {
     "name": "stderr",
     "output_type": "stream",
     "text": [
      "INFO:smac.intensification.intensification.Intensifier:Wallclock time limit for intensification reached (used: 96.757764 sec, available: 0.000010 sec)\n"
     ]
    },
    {
     "name": "stdout",
     "output_type": "stream",
     "text": [
      "\n",
      "True Dynamics Cost:  200.0\n",
      "True Dynamics Final State:  [ 3.13851311e+00 -1.40604318e-03  0.00000000e+00  0.00000000e+00]\n",
      "use_cuda=True\n",
      "MLP Using Cuda\n",
      "hidden_sizes= [63, 130, 107]\n",
      "100%|██████████| 50/50 [01:50<00:00,  2.21s/it]\n",
      "Simulating Surrogate Trajectory: \n",
      " 99%|█████████▉| 198/200 [01:01<00:00,  3.23it/s]\n",
      "Surrogate Cost:  200.0\n",
      "Surrogate Final State:  [ 2.84536542 -3.95508952 -0.78366227  2.13589104]\n",
      "Simulating True Dynamics Trajectory\n",
      " 99%|█████████▉| 198/200 [01:01<00:00,  3.22it/s]"
     ]
    },
    {
     "name": "stderr",
     "output_type": "stream",
     "text": [
      "INFO:smac.intensification.intensification.Intensifier:Wallclock time limit for intensification reached (used: 233.192543 sec, available: 0.000010 sec)\n"
     ]
    },
    {
     "name": "stdout",
     "output_type": "stream",
     "text": [
      "\n",
      "True Dynamics Cost:  200.0\n",
      "True Dynamics Final State:  [ 3.21253765 -2.12950869 -0.90728073  0.01085701]\n",
      "use_cuda=True\n",
      "MLP Using Cuda\n",
      "hidden_sizes= [22, 161, 75]\n",
      "100%|██████████| 50/50 [01:51<00:00,  2.24s/it]\n",
      "Simulating Surrogate Trajectory: \n",
      " 99%|█████████▉| 198/200 [00:32<00:00,  6.07it/s]\n",
      "Surrogate Cost:  193.0\n",
      "Surrogate Final State:  [-0.00915496 -0.03909906 -0.34741467 -0.11189104]\n",
      "Simulating True Dynamics Trajectory\n",
      " 99%|█████████▉| 198/200 [00:32<00:00,  6.03it/s]"
     ]
    },
    {
     "name": "stderr",
     "output_type": "stream",
     "text": [
      "INFO:smac.intensification.intensification.Intensifier:Wallclock time limit for intensification reached (used: 177.236256 sec, available: 0.000010 sec)\n"
     ]
    },
    {
     "name": "stdout",
     "output_type": "stream",
     "text": [
      "\n",
      "True Dynamics Cost:  199.0\n",
      "True Dynamics Final State:  [-0.00042544 -0.01093976 -0.33590742 -0.01213082]\n",
      "use_cuda=True\n",
      "MLP Using Cuda\n",
      "hidden_sizes= [21, 144, 83]\n",
      "100%|██████████| 50/50 [01:51<00:00,  2.23s/it]\n",
      "Simulating Surrogate Trajectory: \n",
      " 99%|█████████▉| 198/200 [00:13<00:00, 14.70it/s]\n",
      "Surrogate Cost:  200.0\n",
      "Surrogate Final State:  [ 3.14695474  0.00415929  0.02287013 -0.08393951]\n",
      "Simulating True Dynamics Trajectory\n",
      " 99%|█████████▉| 198/200 [00:13<00:00, 14.83it/s]"
     ]
    },
    {
     "name": "stderr",
     "output_type": "stream",
     "text": [
      "INFO:smac.intensification.intensification.Intensifier:Wallclock time limit for intensification reached (used: 138.336512 sec, available: 0.000010 sec)\n"
     ]
    },
    {
     "name": "stdout",
     "output_type": "stream",
     "text": [
      "\n",
      "True Dynamics Cost:  200.0\n",
      "True Dynamics Final State:  [ 3.13565498e+00  1.40664874e-02 -3.15851292e-02  3.12055858e-04]\n",
      "use_cuda=True\n",
      "MLP Using Cuda\n",
      "hidden_sizes= [192]\n",
      "100%|██████████| 50/50 [01:03<00:00,  1.26s/it]\n",
      "Simulating Surrogate Trajectory: \n",
      " 99%|█████████▉| 198/200 [01:13<00:00,  2.68it/s]\n",
      "Surrogate Cost:  200.0\n",
      "Surrogate Final State:  [-2.66206221 -3.83742868  2.98148655  5.83536522]\n",
      "Simulating True Dynamics Trajectory\n",
      " 99%|█████████▉| 198/200 [01:31<00:00,  2.16it/s]"
     ]
    },
    {
     "name": "stderr",
     "output_type": "stream",
     "text": [
      "INFO:smac.intensification.intensification.Intensifier:Wallclock time limit for intensification reached (used: 228.685063 sec, available: 0.000010 sec)\n"
     ]
    },
    {
     "name": "stdout",
     "output_type": "stream",
     "text": [
      "\n",
      "True Dynamics Cost:  200.0\n",
      "True Dynamics Final State:  [ 3.0818153   0.65532928  3.64494694 -0.33555503]\n",
      "use_cuda=True\n",
      "MLP Using Cuda\n",
      "hidden_sizes= [63, 144, 94]\n",
      "100%|██████████| 50/50 [01:53<00:00,  2.26s/it]\n",
      "Simulating Surrogate Trajectory: \n",
      " 99%|█████████▉| 198/200 [00:25<00:00,  7.62it/s]\n",
      "Surrogate Cost:  200.0\n",
      "Surrogate Final State:  [-0.00931128 -0.01569361 -0.30640386 -0.03788348]\n",
      "Simulating True Dynamics Trajectory\n",
      " 99%|█████████▉| 198/200 [00:22<00:00,  8.65it/s]"
     ]
    },
    {
     "name": "stderr",
     "output_type": "stream",
     "text": [
      "INFO:smac.intensification.intensification.Intensifier:Wallclock time limit for intensification reached (used: 161.959948 sec, available: 0.000010 sec)\n"
     ]
    },
    {
     "name": "stdout",
     "output_type": "stream",
     "text": [
      "\n",
      "True Dynamics Cost:  149.0\n",
      "True Dynamics Final State:  [ 0.00165321 -0.00035785  0.06595481  0.07862059]\n",
      "use_cuda=True\n",
      "MLP Using Cuda\n",
      "hidden_sizes= [53, 137, 93]\n",
      "100%|██████████| 50/50 [01:52<00:00,  2.26s/it]\n",
      "Simulating Surrogate Trajectory: \n",
      " 99%|█████████▉| 198/200 [00:36<00:00,  5.45it/s]\n",
      "Surrogate Cost:  200.0\n",
      "Surrogate Final State:  [ 3.1567378  -0.00624499 -0.856723   -0.08630603]\n",
      "Simulating True Dynamics Trajectory\n",
      " 99%|█████████▉| 198/200 [00:39<00:00,  5.05it/s]"
     ]
    },
    {
     "name": "stderr",
     "output_type": "stream",
     "text": [
      "INFO:smac.intensification.intensification.Intensifier:Wallclock time limit for intensification reached (used: 188.296297 sec, available: 0.000010 sec)\n"
     ]
    },
    {
     "name": "stdout",
     "output_type": "stream",
     "text": [
      "\n",
      "True Dynamics Cost:  200.0\n",
      "True Dynamics Final State:  [ 3.14182502e+00 -1.35516801e-03 -9.32387530e-01  1.07769431e-03]\n",
      "use_cuda=True\n",
      "MLP Using Cuda\n",
      "hidden_sizes= [20, 153, 77]\n",
      "100%|██████████| 50/50 [01:50<00:00,  2.21s/it]\n",
      "Simulating Surrogate Trajectory: \n",
      " 99%|█████████▉| 198/200 [00:30<00:00,  6.49it/s]\n",
      "Surrogate Cost:  200.0\n",
      "Surrogate Final State:  [ 2.69652265 -5.17018306 -0.54285768  7.1417031 ]\n",
      "Simulating True Dynamics Trajectory\n",
      " 99%|█████████▉| 198/200 [00:40<00:00,  4.84it/s]"
     ]
    },
    {
     "name": "stderr",
     "output_type": "stream",
     "text": [
      "INFO:smac.intensification.intensification.Intensifier:Wallclock time limit for intensification reached (used: 182.113557 sec, available: 0.000010 sec)\n"
     ]
    },
    {
     "name": "stdout",
     "output_type": "stream",
     "text": [
      "\n",
      "True Dynamics Cost:  200.0\n",
      "True Dynamics Final State:  [-1.16423614  2.67342124 -0.98858544 -2.25165135]\n",
      "use_cuda=True\n",
      "MLP Using Cuda\n",
      "hidden_sizes= [53, 144, 83]\n",
      "100%|██████████| 50/50 [01:49<00:00,  2.19s/it]\n",
      "Simulating Surrogate Trajectory: \n",
      " 99%|█████████▉| 198/200 [00:58<00:00,  3.39it/s]\n",
      "Surrogate Cost:  191.0\n",
      "Surrogate Final State:  [ 0.09865561  0.65207096 -0.40265429 -1.23823152]\n",
      "Simulating True Dynamics Trajectory\n",
      " 99%|█████████▉| 198/200 [00:56<00:00,  3.48it/s]"
     ]
    },
    {
     "name": "stderr",
     "output_type": "stream",
     "text": [
      "INFO:smac.intensification.intensification.Intensifier:Wallclock time limit for intensification reached (used: 224.638697 sec, available: 0.000010 sec)\n"
     ]
    },
    {
     "name": "stdout",
     "output_type": "stream",
     "text": [
      "\n",
      "True Dynamics Cost:  191.0\n",
      "True Dynamics Final State:  [ 0.10273865  0.66848214 -0.48784789 -0.61633642]\n",
      "use_cuda=True\n",
      "MLP Using Cuda\n",
      "hidden_sizes= [250, 163, 150, 81]\n",
      "100%|██████████| 50/50 [02:17<00:00,  2.75s/it]\n",
      "Simulating Surrogate Trajectory: \n",
      " 99%|█████████▉| 198/200 [00:37<00:00,  5.33it/s]\n",
      "Surrogate Cost:  200.0\n",
      "Surrogate Final State:  [ 3.13732815  0.6508751   0.62427988 -0.56613047]\n",
      "Simulating True Dynamics Trajectory\n",
      " 99%|█████████▉| 198/200 [00:36<00:00,  5.37it/s]"
     ]
    },
    {
     "name": "stderr",
     "output_type": "stream",
     "text": [
      "INFO:smac.intensification.intensification.Intensifier:Wallclock time limit for intensification reached (used: 211.532424 sec, available: 0.000010 sec)\n"
     ]
    },
    {
     "name": "stdout",
     "output_type": "stream",
     "text": [
      "\n",
      "True Dynamics Cost:  200.0\n",
      "True Dynamics Final State:  [ 3.12624185 -0.6744851   0.49574715  0.73668142]\n",
      "use_cuda=True\n",
      "MLP Using Cuda\n",
      "hidden_sizes= [230, 98, 139]\n",
      "100%|██████████| 50/50 [01:51<00:00,  2.23s/it]\n",
      "Simulating Surrogate Trajectory: \n",
      " 99%|█████████▉| 198/200 [00:34<00:00,  5.76it/s]\n",
      "Surrogate Cost:  200.0\n",
      "Surrogate Final State:  [ 3.49121885 -0.66515208 -0.22617337 -0.93095165]\n",
      "Simulating True Dynamics Trajectory\n",
      " 99%|█████████▉| 198/200 [00:34<00:00,  5.77it/s]"
     ]
    },
    {
     "name": "stderr",
     "output_type": "stream",
     "text": [
      "INFO:smac.intensification.intensification.Intensifier:Wallclock time limit for intensification reached (used: 180.272785 sec, available: 0.000010 sec)\n"
     ]
    },
    {
     "name": "stdout",
     "output_type": "stream",
     "text": [
      "\n",
      "True Dynamics Cost:  200.0\n",
      "True Dynamics Final State:  [ 1.58230264 -2.08200478  0.63024023  2.27053368]\n",
      "use_cuda=True\n",
      "MLP Using Cuda\n",
      "hidden_sizes= [190, 256]\n",
      "100%|██████████| 50/50 [01:27<00:00,  1.75s/it]\n",
      "Simulating Surrogate Trajectory: \n",
      " 99%|█████████▉| 198/200 [00:09<00:00, 19.98it/s]\n",
      "Surrogate Cost:  200.0\n",
      "Surrogate Final State:  [ 3.1552375  -0.01687028  1.26958282  0.04243982]\n",
      "Simulating True Dynamics Trajectory\n",
      " 99%|█████████▉| 198/200 [00:09<00:00, 20.16it/s]"
     ]
    },
    {
     "name": "stderr",
     "output_type": "stream",
     "text": [
      "INFO:smac.intensification.intensification.Intensifier:Wallclock time limit for intensification reached (used: 107.390151 sec, available: 0.000010 sec)\n"
     ]
    },
    {
     "name": "stdout",
     "output_type": "stream",
     "text": [
      "\n",
      "True Dynamics Cost:  200.0\n",
      "True Dynamics Final State:  [ 3.14036168 -0.00806784  0.43778037  0.04365623]\n",
      "use_cuda=True\n",
      "MLP Using Cuda\n",
      "hidden_sizes= [180, 76, 185, 129]\n",
      "100%|██████████| 50/50 [02:15<00:00,  2.71s/it]\n",
      "Simulating Surrogate Trajectory: \n",
      " 99%|█████████▉| 198/200 [02:07<00:01,  1.56it/s]\n",
      "Surrogate Cost:  200.0\n",
      "Surrogate Final State:  [ 2.82620967  2.1028558  -0.1354447   0.7140543 ]\n",
      "Simulating True Dynamics Trajectory\n",
      " 99%|█████████▉| 198/200 [02:09<00:01,  1.53it/s]"
     ]
    },
    {
     "name": "stderr",
     "output_type": "stream",
     "text": [
      "INFO:smac.intensification.intensification.Intensifier:Wallclock time limit for intensification reached (used: 391.914124 sec, available: 0.000010 sec)\n"
     ]
    },
    {
     "name": "stdout",
     "output_type": "stream",
     "text": [
      "\n",
      "True Dynamics Cost:  200.0\n",
      "True Dynamics Final State:  [ 2.43963649 -2.24664527 -1.01767781  0.79825241]\n",
      "use_cuda=True\n",
      "MLP Using Cuda\n",
      "hidden_sizes= [84]\n",
      "100%|██████████| 50/50 [00:59<00:00,  1.20s/it]\n",
      "Simulating Surrogate Trajectory: \n",
      " 99%|█████████▉| 198/200 [00:10<00:00, 19.11it/s]\n",
      "Surrogate Cost:  200.0\n",
      "Surrogate Final State:  [ 3.20432931e+00 -1.13401724e-02 -5.76496838e+01 -1.10782664e+01]\n",
      "Simulating True Dynamics Trajectory\n",
      " 99%|█████████▉| 198/200 [00:10<00:00, 19.26it/s]"
     ]
    },
    {
     "name": "stderr",
     "output_type": "stream",
     "text": [
      "INFO:smac.intensification.intensification.Intensifier:Wallclock time limit for intensification reached (used: 80.515055 sec, available: 0.000010 sec)\n"
     ]
    },
    {
     "name": "stdout",
     "output_type": "stream",
     "text": [
      "\n",
      "True Dynamics Cost:  200.0\n",
      "True Dynamics Final State:  [ 3.19448345e+00 -6.01551542e-03 -5.71656307e+01 -1.07469044e+01]\n",
      "use_cuda=True\n",
      "MLP Using Cuda\n",
      "hidden_sizes= [41, 153, 73]\n",
      "100%|██████████| 50/50 [01:52<00:00,  2.25s/it]\n",
      "Simulating Surrogate Trajectory: \n",
      " 99%|█████████▉| 198/200 [00:35<00:00,  5.61it/s]\n",
      "Surrogate Cost:  188.0\n",
      "Surrogate Final State:  [-0.00991508 -0.02094839  0.29332509 -0.09316747]\n",
      "Simulating True Dynamics Trajectory\n",
      " 99%|█████████▉| 198/200 [00:36<00:00,  5.41it/s]"
     ]
    },
    {
     "name": "stderr",
     "output_type": "stream",
     "text": [
      "INFO:smac.intensification.intensification.Intensifier:Wallclock time limit for intensification reached (used: 184.257327 sec, available: 0.000010 sec)\n"
     ]
    },
    {
     "name": "stdout",
     "output_type": "stream",
     "text": [
      "\n",
      "True Dynamics Cost:  196.0\n",
      "True Dynamics Final State:  [-0.0003072   0.00309777  0.29803026  0.00292844]\n",
      "use_cuda=True\n",
      "MLP Using Cuda\n",
      "hidden_sizes= [52, 141, 83]\n",
      "100%|██████████| 50/50 [01:51<00:00,  2.24s/it]\n",
      "Simulating Surrogate Trajectory: \n",
      " 99%|█████████▉| 198/200 [00:38<00:00,  5.08it/s]\n",
      "Surrogate Cost:  106.0\n",
      "Surrogate Final State:  [-0.01022776 -0.01565479 -0.05017573 -0.08936426]\n",
      "Simulating True Dynamics Trajectory\n",
      " 99%|█████████▉| 198/200 [00:23<00:00,  8.57it/s]"
     ]
    },
    {
     "name": "stderr",
     "output_type": "stream",
     "text": [
      "INFO:smac.intensification.intensification.Intensifier:Challenger (106.0000) is better than incumbent (182.0000) on 1 runs.\n",
      "INFO:smac.intensification.intensification.Intensifier:Changes in incumbent:\n",
      "INFO:smac.intensification.intensification.Intensifier:  _cost:dx_F : 805.8421877614824 -> 4036.9131228237206\n",
      "INFO:smac.intensification.intensification.Intensifier:  _cost:dx_Q : 0.033982083289425605 -> 0.03369347361433015\n",
      "INFO:smac.intensification.intensification.Intensifier:  _cost:omega_Q : 0.0124093776075172 -> 0.004058621505549865\n",
      "INFO:smac.intensification.intensification.Intensifier:  _cost:theta_F : 5.232991146814948 -> 5.579944430365441\n",
      "INFO:smac.intensification.intensification.Intensifier:  _cost:theta_Q : 0.004531583637600819 -> 0.0017559590464545486\n",
      "INFO:smac.intensification.intensification.Intensifier:  _cost:u_R : 0.0930572040929699 -> 0.026123962068086926\n",
      "INFO:smac.intensification.intensification.Intensifier:  _cost:x_F : 14.330125702369648 -> 17.919952532237197\n",
      "INFO:smac.intensification.intensification.Intensifier:  _cost:x_Q : 5.232991146814948 -> 4.557072529733091\n",
      "INFO:smac.intensification.intensification.Intensifier:  _model:hidden_size_1 : 53 -> 52\n",
      "INFO:smac.intensification.intensification.Intensifier:  _model:hidden_size_2 : 144 -> 141\n",
      "INFO:smac.intensification.intensification.Intensifier:  _model:lr : 2.942727176209284e-05 -> 8.180305046438686e-05\n",
      "INFO:smac.intensification.intensification.Intensifier:Wallclock time limit for intensification reached (used: 174.017757 sec, available: 0.000010 sec)\n"
     ]
    },
    {
     "name": "stdout",
     "output_type": "stream",
     "text": [
      "\n",
      "True Dynamics Cost:  65.0\n",
      "True Dynamics Final State:  [-0.00011374  0.00014567 -0.01652127 -0.00023356]\n",
      "use_cuda=True\n",
      "MLP Using Cuda\n",
      "hidden_sizes= [47, 140, 128, 128]\n",
      "100%|██████████| 50/50 [02:18<00:00,  2.76s/it]\n",
      "Simulating Surrogate Trajectory: \n",
      " 99%|█████████▉| 198/200 [00:56<00:00,  3.53it/s]\n",
      "Surrogate Cost:  200.0\n",
      "Surrogate Final State:  [ 3.16873738  0.05436837 -1.67240021 -0.0706616 ]\n",
      "Simulating True Dynamics Trajectory\n",
      " 99%|█████████▉| 198/200 [00:55<00:00,  3.55it/s]"
     ]
    },
    {
     "name": "stderr",
     "output_type": "stream",
     "text": [
      "INFO:smac.intensification.intensification.Intensifier:Wallclock time limit for intensification reached (used: 250.100038 sec, available: 0.000010 sec)\n"
     ]
    },
    {
     "name": "stdout",
     "output_type": "stream",
     "text": [
      "\n",
      "True Dynamics Cost:  200.0\n",
      "True Dynamics Final State:  [ 3.16065619  0.03627779 -1.74651338  0.01063513]\n",
      "use_cuda=True\n",
      "MLP Using Cuda\n",
      "hidden_sizes= [65, 111, 92]\n",
      "100%|██████████| 50/50 [01:51<00:00,  2.22s/it]\n",
      "Simulating Surrogate Trajectory: \n",
      " 99%|█████████▉| 198/200 [00:42<00:00,  4.63it/s]\n",
      "Surrogate Cost:  200.0\n",
      "Surrogate Final State:  [-0.86138265  2.02321306 -1.43575395 -0.34650377]\n",
      "Simulating True Dynamics Trajectory\n",
      " 99%|█████████▉| 198/200 [00:42<00:00,  4.69it/s]"
     ]
    },
    {
     "name": "stderr",
     "output_type": "stream",
     "text": [
      "INFO:smac.intensification.intensification.Intensifier:Wallclock time limit for intensification reached (used: 196.166276 sec, available: 0.000010 sec)\n"
     ]
    },
    {
     "name": "stdout",
     "output_type": "stream",
     "text": [
      "\n",
      "True Dynamics Cost:  193.0\n",
      "True Dynamics Final State:  [ 0.48045866 -2.28286585  2.40031712 -1.00648033]\n",
      "use_cuda=True\n",
      "MLP Using Cuda\n",
      "hidden_sizes= [47, 164, 169, 112]\n",
      "100%|██████████| 50/50 [02:18<00:00,  2.77s/it]\n",
      "Simulating Surrogate Trajectory: \n",
      " 99%|█████████▉| 198/200 [00:41<00:00,  4.82it/s]\n",
      "Surrogate Cost:  200.0\n",
      "Surrogate Final State:  [ 4.20579938 -3.54918334 -1.32930614 -1.10434872]\n",
      "Simulating True Dynamics Trajectory\n",
      " 99%|█████████▉| 198/200 [00:41<00:00,  4.81it/s]"
     ]
    },
    {
     "name": "stderr",
     "output_type": "stream",
     "text": [
      "INFO:smac.intensification.intensification.Intensifier:Wallclock time limit for intensification reached (used: 220.590105 sec, available: 0.000010 sec)\n"
     ]
    },
    {
     "name": "stdout",
     "output_type": "stream",
     "text": [
      "\n",
      "True Dynamics Cost:  200.0\n",
      "True Dynamics Final State:  [ 3.53356468 -5.1278651  -1.41983453  0.38419626]\n",
      "use_cuda=True\n",
      "MLP Using Cuda\n",
      "hidden_sizes= [59, 161, 80]\n",
      "100%|██████████| 50/50 [01:50<00:00,  2.22s/it]\n",
      "Simulating Surrogate Trajectory: \n",
      " 99%|█████████▉| 198/200 [00:43<00:00,  4.54it/s]\n",
      "Surrogate Cost:  119.0\n",
      "Surrogate Final State:  [-0.01087364 -0.02133746 -0.15181857 -0.09792502]\n",
      "Simulating True Dynamics Trajectory\n",
      " 99%|█████████▉| 198/200 [00:47<00:00,  4.16it/s]"
     ]
    },
    {
     "name": "stderr",
     "output_type": "stream",
     "text": [
      "INFO:smac.intensification.intensification.Intensifier:Wallclock time limit for intensification reached (used: 202.182262 sec, available: 0.000010 sec)\n"
     ]
    },
    {
     "name": "stdout",
     "output_type": "stream",
     "text": [
      "\n",
      "True Dynamics Cost:  116.0\n",
      "True Dynamics Final State:  [-0.00089546  0.00504053 -0.09882626 -0.0018556 ]\n",
      "use_cuda=True\n",
      "MLP Using Cuda\n",
      "hidden_sizes= [54, 161, 93]\n",
      "100%|██████████| 50/50 [01:51<00:00,  2.24s/it]\n",
      "Simulating Surrogate Trajectory: \n",
      " 99%|█████████▉| 198/200 [00:43<00:00,  4.54it/s]\n",
      "Surrogate Cost:  200.0\n",
      "Surrogate Final State:  [ 3.5497583   1.53715577 -0.98018404 -0.95570396]\n",
      "Simulating True Dynamics Trajectory\n",
      " 99%|█████████▉| 198/200 [00:43<00:00,  4.51it/s]"
     ]
    },
    {
     "name": "stderr",
     "output_type": "stream",
     "text": [
      "INFO:smac.intensification.intensification.Intensifier:Wallclock time limit for intensification reached (used: 199.483608 sec, available: 0.000010 sec)\n"
     ]
    },
    {
     "name": "stdout",
     "output_type": "stream",
     "text": [
      "\n",
      "True Dynamics Cost:  200.0\n",
      "True Dynamics Final State:  [ 3.62061726  0.95934078 -1.10327703 -0.68884181]\n",
      "use_cuda=True\n",
      "MLP Using Cuda\n",
      "hidden_sizes= [65, 223, 206]\n",
      "100%|██████████| 50/50 [01:51<00:00,  2.22s/it]\n",
      "Simulating Surrogate Trajectory: \n",
      " 99%|█████████▉| 198/200 [00:56<00:00,  3.52it/s]\n",
      "Surrogate Cost:  200.0\n",
      "Surrogate Final State:  [ 4.04567212 -0.32936811 -0.05724932 -1.66540854]\n",
      "Simulating True Dynamics Trajectory\n",
      " 99%|█████████▉| 198/200 [00:52<00:00,  3.74it/s]"
     ]
    },
    {
     "name": "stderr",
     "output_type": "stream",
     "text": [
      "INFO:smac.intensification.intensification.Intensifier:Wallclock time limit for intensification reached (used: 220.406362 sec, available: 0.000010 sec)\n"
     ]
    },
    {
     "name": "stdout",
     "output_type": "stream",
     "text": [
      "\n",
      "True Dynamics Cost:  200.0\n",
      "True Dynamics Final State:  [ 1.43397049 -3.50990364  0.88555577  3.14069167]\n",
      "use_cuda=True\n",
      "MLP Using Cuda\n",
      "hidden_sizes= [30, 112, 166, 48]\n",
      "100%|██████████| 50/50 [02:19<00:00,  2.78s/it]\n",
      "Simulating Surrogate Trajectory: \n",
      " 99%|█████████▉| 198/200 [00:22<00:00,  8.80it/s]\n",
      "Surrogate Cost:  200.0\n",
      "Surrogate Final State:  [ 3.20130279  0.38325197 -0.77245125 -0.6367575 ]\n",
      "Simulating True Dynamics Trajectory\n",
      " 99%|█████████▉| 198/200 [00:20<00:00,  9.52it/s]"
     ]
    },
    {
     "name": "stderr",
     "output_type": "stream",
     "text": [
      "INFO:smac.intensification.intensification.Intensifier:Wallclock time limit for intensification reached (used: 182.556643 sec, available: 0.000010 sec)\n"
     ]
    },
    {
     "name": "stdout",
     "output_type": "stream",
     "text": [
      "\n",
      "True Dynamics Cost:  200.0\n",
      "True Dynamics Final State:  [ 3.19713654 -0.22429405 -4.39754393 -0.95818208]\n",
      "use_cuda=True\n",
      "MLP Using Cuda\n",
      "hidden_sizes= [49, 120, 128, 128]\n",
      "100%|██████████| 50/50 [02:19<00:00,  2.79s/it]\n",
      "Simulating Surrogate Trajectory: \n",
      " 99%|█████████▉| 198/200 [00:37<00:00,  5.34it/s]\n",
      "Surrogate Cost:  177.0\n",
      "Surrogate Final State:  [-0.0096389  -0.0117512   0.21630115 -0.08077176]\n",
      "Simulating True Dynamics Trajectory\n",
      " 99%|█████████▉| 198/200 [00:37<00:00,  5.29it/s]"
     ]
    },
    {
     "name": "stderr",
     "output_type": "stream",
     "text": [
      "INFO:smac.intensification.intensification.Intensifier:Wallclock time limit for intensification reached (used: 213.958050 sec, available: 0.000010 sec)\n"
     ]
    },
    {
     "name": "stdout",
     "output_type": "stream",
     "text": [
      "\n",
      "True Dynamics Cost:  174.0\n",
      "True Dynamics Final State:  [6.19194815e-05 3.12271920e-04 2.21142349e-01 8.75489965e-04]\n",
      "use_cuda=True\n",
      "MLP Using Cuda\n",
      "hidden_sizes= [52, 141, 83]\n",
      "100%|██████████| 50/50 [01:52<00:00,  2.24s/it]\n",
      "Simulating Surrogate Trajectory: \n",
      " 99%|█████████▉| 198/200 [00:21<00:00,  9.38it/s]\n",
      "Surrogate Cost:  65.0\n",
      "Surrogate Final State:  [-0.0101557  -0.01521281  0.0672655  -0.08794629]\n",
      "Simulating True Dynamics Trajectory\n",
      " 99%|█████████▉| 198/200 [00:25<00:00,  7.79it/s]"
     ]
    },
    {
     "name": "stderr",
     "output_type": "stream",
     "text": [
      "INFO:smac.intensification.intensification.Intensifier:Challenger (65.0000) is better than incumbent (106.0000) on 1 runs.\n",
      "INFO:smac.intensification.intensification.Intensifier:Changes in incumbent:\n",
      "INFO:smac.intensification.intensification.Intensifier:  _cost:dx_Q : 0.03369347361433015 -> 0.030007699861834856\n",
      "INFO:smac.intensification.intensification.Intensifier:  _cost:omega_F : 0.004531583637600819 -> 0.06995185111443405\n",
      "INFO:smac.intensification.intensification.Intensifier:  _cost:omega_Q : 0.004058621505549865 -> 0.0017350432076416933\n",
      "INFO:smac.intensification.intensification.Intensifier:  _cost:theta_Q : 0.0017559590464545486 -> 0.0015979261529220812\n",
      "INFO:smac.intensification.intensification.Intensifier:  _model:lr : 8.180305046438686e-05 -> 0.00041799843877622964\n",
      "INFO:smac.intensification.intensification.Intensifier:Wallclock time limit for intensification reached (used: 158.788171 sec, available: 0.000010 sec)\n"
     ]
    },
    {
     "name": "stdout",
     "output_type": "stream",
     "text": [
      "\n",
      "True Dynamics Cost:  62.0\n",
      "True Dynamics Final State:  [ 9.31255645e-06 -3.02124253e-05  8.40435768e-02 -2.91968016e-05]\n",
      "use_cuda=True\n",
      "MLP Using Cuda\n",
      "hidden_sizes= [40, 148, 88]\n",
      "100%|██████████| 50/50 [01:50<00:00,  2.21s/it]\n",
      "Simulating Surrogate Trajectory: \n",
      " 99%|█████████▉| 198/200 [00:31<00:00,  6.20it/s]\n",
      "Surrogate Cost:  56.0\n",
      "Surrogate Final State:  [-0.01340675  0.01966207 -0.01444147 -0.05062516]\n",
      "Simulating True Dynamics Trajectory\n",
      " 99%|█████████▉| 198/200 [00:21<00:00,  9.13it/s]"
     ]
    },
    {
     "name": "stderr",
     "output_type": "stream",
     "text": [
      "INFO:smac.intensification.intensification.Intensifier:Challenger (56.0000) is better than incumbent (65.0000) on 1 runs.\n",
      "INFO:smac.intensification.intensification.Intensifier:Changes in incumbent:\n",
      "INFO:smac.intensification.intensification.Intensifier:  _cost:dx_F : 4036.9131228237206 -> 7033.832166643433\n",
      "INFO:smac.intensification.intensification.Intensifier:  _cost:dx_Q : 0.030007699861834856 -> 0.02465585947673522\n",
      "INFO:smac.intensification.intensification.Intensifier:  _cost:omega_F : 0.06995185111443405 -> 0.003189056137072087\n",
      "INFO:smac.intensification.intensification.Intensifier:  _cost:omega_Q : 0.0017350432076416933 -> 0.0015299305273178219\n",
      "INFO:smac.intensification.intensification.Intensifier:  _cost:theta_F : 5.579944430365441 -> 9.630024984475451\n",
      "INFO:smac.intensification.intensification.Intensifier:  _cost:theta_Q : 0.0015979261529220812 -> 0.0012632336059377586\n",
      "INFO:smac.intensification.intensification.Intensifier:  _cost:u_R : 0.026123962068086926 -> 0.013062240805610977\n",
      "INFO:smac.intensification.intensification.Intensifier:  _cost:x_Q : 4.557072529733091 -> 3.799797214910551\n",
      "INFO:smac.intensification.intensification.Intensifier:  _ctrlr:horizon : 18 -> 17\n",
      "INFO:smac.intensification.intensification.Intensifier:  _model:hidden_size_1 : 52 -> 40\n",
      "INFO:smac.intensification.intensification.Intensifier:  _model:hidden_size_2 : 141 -> 148\n",
      "INFO:smac.intensification.intensification.Intensifier:  _model:hidden_size_3 : 83 -> 88\n",
      "INFO:smac.intensification.intensification.Intensifier:  _model:lr : 0.00041799843877622964 -> 0.00022558578828583755\n",
      "INFO:smac.intensification.intensification.Intensifier:  _model:nonlintype : 'selu' -> 'relu'\n",
      "INFO:smac.intensification.intensification.Intensifier:Wallclock time limit for intensification reached (used: 164.058977 sec, available: 0.000010 sec)\n"
     ]
    },
    {
     "name": "stdout",
     "output_type": "stream",
     "text": [
      "\n",
      "True Dynamics Cost:  40.0\n",
      "True Dynamics Final State:  [ 0.00489747  0.00142966 -0.0217716   0.00933341]\n",
      "use_cuda=True\n",
      "MLP Using Cuda\n",
      "hidden_sizes= [40, 148, 88]\n",
      "100%|██████████| 50/50 [01:50<00:00,  2.22s/it]\n",
      "Simulating Surrogate Trajectory: \n",
      " 99%|█████████▉| 198/200 [00:36<00:00,  5.38it/s]\n",
      "Surrogate Cost:  200.0\n",
      "Surrogate Final State:  [-0.01012239 -0.01505335  0.3254294  -0.08796156]\n",
      "Simulating True Dynamics Trajectory\n",
      " 99%|█████████▉| 198/200 [00:41<00:00,  4.73it/s]"
     ]
    },
    {
     "name": "stderr",
     "output_type": "stream",
     "text": [
      "INFO:smac.intensification.intensification.Intensifier:Wallclock time limit for intensification reached (used: 189.607423 sec, available: 0.000010 sec)\n"
     ]
    },
    {
     "name": "stdout",
     "output_type": "stream",
     "text": [
      "\n",
      "True Dynamics Cost:  200.0\n",
      "True Dynamics Final State:  [-1.26566132e-06  1.37082678e-04  3.30023648e-01  1.52000484e-04]\n",
      "use_cuda=True\n",
      "MLP Using Cuda\n",
      "hidden_sizes= [34, 143]\n",
      "100%|██████████| 50/50 [01:25<00:00,  1.72s/it]\n",
      "Simulating Surrogate Trajectory: \n",
      " 99%|█████████▉| 198/200 [00:14<00:00, 13.77it/s]\n",
      "Surrogate Cost:  200.0\n",
      "Surrogate Final State:  [ 3.29477884 -1.43506413 -0.69814031  0.15248483]\n",
      "Simulating True Dynamics Trajectory\n",
      " 99%|█████████▉| 198/200 [00:14<00:00, 13.59it/s]"
     ]
    },
    {
     "name": "stderr",
     "output_type": "stream",
     "text": [
      "INFO:smac.intensification.intensification.Intensifier:Wallclock time limit for intensification reached (used: 114.955715 sec, available: 0.000010 sec)\n"
     ]
    },
    {
     "name": "stdout",
     "output_type": "stream",
     "text": [
      "\n",
      "True Dynamics Cost:  200.0\n",
      "True Dynamics Final State:  [ 3.18354481 -1.34674627 -0.75205114  0.28806807]\n",
      "use_cuda=True\n",
      "MLP Using Cuda\n",
      "hidden_sizes= [52, 135, 101]\n",
      "100%|██████████| 50/50 [01:52<00:00,  2.26s/it]\n",
      "Simulating Surrogate Trajectory: \n",
      " 99%|█████████▉| 198/200 [00:20<00:00,  9.66it/s]\n",
      "Surrogate Cost:  74.0\n",
      "Surrogate Final State:  [-0.01017593 -0.01525715 -0.03509332 -0.08792467]\n",
      "Simulating True Dynamics Trajectory\n",
      " 99%|█████████▉| 198/200 [00:15<00:00, 12.41it/s]"
     ]
    },
    {
     "name": "stderr",
     "output_type": "stream",
     "text": [
      "INFO:smac.intensification.intensification.Intensifier:Wallclock time limit for intensification reached (used: 149.450114 sec, available: 0.000010 sec)\n"
     ]
    },
    {
     "name": "stdout",
     "output_type": "stream",
     "text": [
      "\n",
      "True Dynamics Cost:  57.0\n",
      "True Dynamics Final State:  [-1.55688571e-06  1.08582937e-06 -1.40728063e-02 -9.27938289e-06]\n",
      "use_cuda=True\n",
      "MLP Using Cuda\n",
      "hidden_sizes= [45, 148, 88]\n",
      "100%|██████████| 50/50 [01:50<00:00,  2.21s/it]\n",
      "Simulating Surrogate Trajectory: \n",
      " 99%|█████████▉| 198/200 [00:41<00:00,  4.79it/s]\n",
      "Surrogate Cost:  79.0\n",
      "Surrogate Final State:  [-0.01054149 -0.00746219 -0.13863565 -0.0799502 ]\n",
      "Simulating True Dynamics Trajectory\n",
      " 99%|█████████▉| 198/200 [00:32<00:00,  6.05it/s]"
     ]
    },
    {
     "name": "stderr",
     "output_type": "stream",
     "text": [
      "INFO:smac.intensification.intensification.Intensifier:Wallclock time limit for intensification reached (used: 184.779226 sec, available: 0.000010 sec)\n"
     ]
    },
    {
     "name": "stdout",
     "output_type": "stream",
     "text": [
      "\n",
      "True Dynamics Cost:  72.0\n",
      "True Dynamics Final State:  [ 3.24637481e-05 -1.37478946e-03 -1.40287145e-01 -1.33752928e-03]\n",
      "use_cuda=True\n",
      "MLP Using Cuda\n",
      "hidden_sizes= [31, 161, 80, 128]\n",
      "100%|██████████| 50/50 [02:19<00:00,  2.79s/it]\n",
      "Simulating Surrogate Trajectory: \n",
      " 99%|█████████▉| 198/200 [00:44<00:00,  4.49it/s]\n",
      "Surrogate Cost:  200.0\n",
      "Surrogate Final State:  [-0.01017934 -0.01538119 -0.22951261 -0.08767779]\n",
      "Simulating True Dynamics Trajectory\n",
      " 99%|█████████▉| 198/200 [00:44<00:00,  4.48it/s]"
     ]
    },
    {
     "name": "stderr",
     "output_type": "stream",
     "text": [
      "INFO:smac.intensification.intensification.Intensifier:Wallclock time limit for intensification reached (used: 228.009572 sec, available: 0.000010 sec)\n"
     ]
    },
    {
     "name": "stdout",
     "output_type": "stream",
     "text": [
      "\n",
      "True Dynamics Cost:  87.0\n",
      "True Dynamics Final State:  [ 2.88135304e-05 -4.86929332e-05 -1.74040399e-01  4.84648067e-05]\n",
      "use_cuda=True\n",
      "MLP Using Cuda\n",
      "hidden_sizes= [45, 136, 146]\n",
      "100%|██████████| 50/50 [01:52<00:00,  2.24s/it]\n",
      "Simulating Surrogate Trajectory: \n",
      " 99%|█████████▉| 198/200 [00:48<00:00,  4.09it/s]\n",
      "Surrogate Cost:  200.0\n",
      "Surrogate Final State:  [-0.01380259  0.6057617  -0.77620322  0.65476435]\n",
      "Simulating True Dynamics Trajectory\n",
      " 99%|█████████▉| 198/200 [00:43<00:00,  4.57it/s]"
     ]
    },
    {
     "name": "stderr",
     "output_type": "stream",
     "text": [
      "INFO:smac.intensification.intensification.Intensifier:Wallclock time limit for intensification reached (used: 203.790208 sec, available: 0.000010 sec)\n"
     ]
    },
    {
     "name": "stdout",
     "output_type": "stream",
     "text": [
      "\n",
      "True Dynamics Cost:  200.0\n",
      "True Dynamics Final State:  [ 0.00486822  0.06017221 -0.29227501  0.12761887]\n",
      "use_cuda=True\n",
      "MLP Using Cuda\n",
      "hidden_sizes= [52, 152, 84]\n",
      "100%|██████████| 50/50 [01:49<00:00,  2.20s/it]\n",
      "Simulating Surrogate Trajectory: \n",
      " 99%|█████████▉| 198/200 [00:31<00:00,  6.24it/s]\n",
      "Surrogate Cost:  78.0\n",
      "Surrogate Final State:  [-0.0118927  -0.00528394 -0.03759569 -0.07731842]\n",
      "Simulating True Dynamics Trajectory\n",
      " 99%|█████████▉| 198/200 [00:25<00:00,  7.80it/s]"
     ]
    },
    {
     "name": "stderr",
     "output_type": "stream",
     "text": [
      "INFO:smac.intensification.intensification.Intensifier:Wallclock time limit for intensification reached (used: 167.137789 sec, available: 0.000010 sec)\n"
     ]
    },
    {
     "name": "stdout",
     "output_type": "stream",
     "text": [
      "\n",
      "True Dynamics Cost:  62.0\n",
      "True Dynamics Final State:  [-1.04807228e-04  1.55103607e-04 -5.47278721e-02 -1.40331197e-05]\n",
      "use_cuda=True\n",
      "MLP Using Cuda\n",
      "hidden_sizes= [40, 157]\n",
      "100%|██████████| 50/50 [01:25<00:00,  1.71s/it]\n",
      "Simulating Surrogate Trajectory: \n",
      " 99%|█████████▉| 198/200 [00:52<00:00,  3.78it/s]\n",
      "Surrogate Cost:  200.0\n",
      "Surrogate Final State:  [-4.49723932 -0.08906565  0.95843645 -0.22035232]\n",
      "Simulating True Dynamics Trajectory\n",
      " 99%|█████████▉| 198/200 [00:51<00:00,  3.85it/s]"
     ]
    },
    {
     "name": "stderr",
     "output_type": "stream",
     "text": [
      "INFO:smac.intensification.intensification.Intensifier:Wallclock time limit for intensification reached (used: 189.373884 sec, available: 0.000010 sec)\n"
     ]
    },
    {
     "name": "stdout",
     "output_type": "stream",
     "text": [
      "\n",
      "True Dynamics Cost:  200.0\n",
      "True Dynamics Final State:  [-4.52947169  0.30570918  0.79184626  0.04811498]\n",
      "use_cuda=True\n",
      "MLP Using Cuda\n",
      "hidden_sizes= [161, 98, 184]\n",
      "100%|██████████| 50/50 [01:51<00:00,  2.22s/it]\n",
      "Simulating Surrogate Trajectory: \n",
      " 99%|█████████▉| 198/200 [00:11<00:00, 17.87it/s]\n",
      "Surrogate Cost:  200.0\n",
      "Surrogate Final State:  [3.20059332 0.11401863 1.20423933 1.5260427 ]\n",
      "Simulating True Dynamics Trajectory\n",
      " 99%|█████████▉| 198/200 [00:10<00:00, 19.31it/s]"
     ]
    },
    {
     "name": "stderr",
     "output_type": "stream",
     "text": [
      "INFO:smac.intensification.intensification.Intensifier:Wallclock time limit for intensification reached (used: 132.413897 sec, available: 0.000010 sec)\n"
     ]
    },
    {
     "name": "stdout",
     "output_type": "stream",
     "text": [
      "\n",
      "True Dynamics Cost:  200.0\n",
      "True Dynamics Final State:  [3.15267211 0.08054532 0.69136161 1.1657678 ]\n",
      "use_cuda=True\n",
      "MLP Using Cuda\n",
      "hidden_sizes= [72, 115, 92]\n",
      "100%|██████████| 50/50 [01:51<00:00,  2.24s/it]\n",
      "Simulating Surrogate Trajectory: \n",
      " 99%|█████████▉| 198/200 [00:34<00:00,  5.75it/s]\n",
      "Surrogate Cost:  174.0\n",
      "Surrogate Final State:  [-0.01002198 -0.03777085  0.21332367 -0.10948722]\n",
      "Simulating True Dynamics Trajectory\n",
      " 99%|█████████▉| 198/200 [00:27<00:00,  7.24it/s]"
     ]
    },
    {
     "name": "stderr",
     "output_type": "stream",
     "text": [
      "INFO:smac.intensification.intensification.Intensifier:Wallclock time limit for intensification reached (used: 173.661319 sec, available: 0.000010 sec)\n"
     ]
    },
    {
     "name": "stdout",
     "output_type": "stream",
     "text": [
      "\n",
      "True Dynamics Cost:  185.0\n",
      "True Dynamics Final State:  [1.27644436e-05 1.31422909e-02 2.04284257e-01 1.28015158e-02]\n",
      "use_cuda=True\n",
      "MLP Using Cuda\n",
      "hidden_sizes= [46]\n",
      "100%|██████████| 50/50 [01:00<00:00,  1.22s/it]\n",
      "Simulating Surrogate Trajectory: \n",
      " 99%|█████████▉| 198/200 [00:39<00:00,  5.06it/s]\n",
      "Surrogate Cost:  200.0\n",
      "Surrogate Final State:  [ 1.90071274  4.8686484  -0.89795232 -0.66827977]\n",
      "Simulating True Dynamics Trajectory\n",
      " 99%|█████████▉| 198/200 [00:40<00:00,  4.95it/s]"
     ]
    },
    {
     "name": "stderr",
     "output_type": "stream",
     "text": [
      "INFO:smac.intensification.intensification.Intensifier:Wallclock time limit for intensification reached (used: 140.063247 sec, available: 0.000010 sec)\n"
     ]
    },
    {
     "name": "stdout",
     "output_type": "stream",
     "text": [
      "\n",
      "True Dynamics Cost:  200.0\n",
      "True Dynamics Final State:  [-0.17120493  0.24503513 -0.89141095 -0.98412038]\n",
      "use_cuda=True\n",
      "MLP Using Cuda\n",
      "hidden_sizes= [36, 146, 92]\n",
      "100%|██████████| 50/50 [01:53<00:00,  2.26s/it]\n",
      "Simulating Surrogate Trajectory: \n",
      " 99%|█████████▉| 198/200 [00:28<00:00,  6.94it/s]\n",
      "Surrogate Cost:  61.0\n",
      "Surrogate Final State:  [-0.0101499  -0.01516723  0.11268088 -0.0879079 ]\n",
      "Simulating True Dynamics Trajectory\n",
      " 99%|█████████▉| 198/200 [00:32<00:00,  6.02it/s]"
     ]
    },
    {
     "name": "stderr",
     "output_type": "stream",
     "text": [
      "INFO:smac.intensification.intensification.Intensifier:Wallclock time limit for intensification reached (used: 174.656044 sec, available: 0.000010 sec)\n"
     ]
    },
    {
     "name": "stdout",
     "output_type": "stream",
     "text": [
      "\n",
      "True Dynamics Cost:  59.0\n",
      "True Dynamics Final State:  [ 8.88668454e-07 -4.63572982e-05  1.24023700e-01 -4.40842409e-05]\n",
      "use_cuda=True\n",
      "MLP Using Cuda\n",
      "hidden_sizes= [214]\n",
      "100%|██████████| 50/50 [01:05<00:00,  1.30s/it]\n",
      "Simulating Surrogate Trajectory: \n",
      " 99%|█████████▉| 198/200 [00:37<00:00,  5.28it/s]\n",
      "Surrogate Cost:  200.0\n",
      "Surrogate Final State:  [ 3.15514997e+00 -2.94875271e-03 -2.26773299e+00 -8.37114897e-02]\n",
      "Simulating True Dynamics Trajectory\n",
      " 99%|█████████▉| 198/200 [00:37<00:00,  5.24it/s]"
     ]
    },
    {
     "name": "stderr",
     "output_type": "stream",
     "text": [
      "INFO:smac.intensification.intensification.Intensifier:Wallclock time limit for intensification reached (used: 140.383501 sec, available: 0.000010 sec)\n"
     ]
    },
    {
     "name": "stdout",
     "output_type": "stream",
     "text": [
      "\n",
      "True Dynamics Cost:  200.0\n",
      "True Dynamics Final State:  [ 3.14067349e+00  1.89419310e-03 -2.37495558e+00  3.63352854e-04]\n",
      "use_cuda=True\n",
      "MLP Using Cuda\n",
      "hidden_sizes= [40, 154, 88, 114]\n",
      "100%|██████████| 50/50 [02:18<00:00,  2.77s/it]\n",
      "Simulating Surrogate Trajectory: \n",
      " 99%|█████████▉| 198/200 [01:13<00:00,  2.69it/s]\n",
      "Surrogate Cost:  171.0\n",
      "Surrogate Final State:  [-0.01898042 -0.0153195   0.19540918 -0.09935797]\n",
      "Simulating True Dynamics Trajectory\n",
      " 99%|█████████▉| 198/200 [01:03<00:00,  3.10it/s]"
     ]
    },
    {
     "name": "stderr",
     "output_type": "stream",
     "text": [
      "INFO:smac.intensification.intensification.Intensifier:Wallclock time limit for intensification reached (used: 276.052893 sec, available: 0.000010 sec)\n"
     ]
    },
    {
     "name": "stdout",
     "output_type": "stream",
     "text": [
      "\n",
      "True Dynamics Cost:  106.0\n",
      "True Dynamics Final State:  [-0.02237728  0.04273423  0.16091931  0.03623342]\n",
      "use_cuda=True\n",
      "MLP Using Cuda\n",
      "hidden_sizes= [45, 150, 110]\n",
      "100%|██████████| 50/50 [01:49<00:00,  2.18s/it]\n",
      "Simulating Surrogate Trajectory: \n",
      " 99%|█████████▉| 198/200 [00:17<00:00, 11.64it/s]\n",
      "Surrogate Cost:  55.0\n",
      "Surrogate Final State:  [-0.0102565  -0.01519025  0.01053579 -0.08855295]\n",
      "Simulating True Dynamics Trajectory\n",
      " 99%|█████████▉| 198/200 [00:18<00:00, 10.48it/s]"
     ]
    },
    {
     "name": "stderr",
     "output_type": "stream",
     "text": [
      "INFO:smac.intensification.intensification.Intensifier:Challenger (55.0000) is better than incumbent (56.0000) on 1 runs.\n",
      "INFO:smac.intensification.intensification.Intensifier:Changes in incumbent:\n",
      "INFO:smac.intensification.intensification.Intensifier:  _cost:dx_F : 7033.832166643433 -> 7250.118351680813\n",
      "INFO:smac.intensification.intensification.Intensifier:  _cost:dx_Q : 0.02465585947673522 -> 0.02464416797858498\n",
      "INFO:smac.intensification.intensification.Intensifier:  _cost:omega_F : 0.003189056137072087 -> 0.002262755815018774\n",
      "INFO:smac.intensification.intensification.Intensifier:  _cost:omega_Q : 0.0015299305273178219 -> 0.001466703436222033\n",
      "INFO:smac.intensification.intensification.Intensifier:  _cost:theta_F : 9.630024984475451 -> 8.67523980351373\n",
      "INFO:smac.intensification.intensification.Intensifier:  _cost:u_R : 0.013062240805610977 -> 0.013731973451645858\n",
      "INFO:smac.intensification.intensification.Intensifier:  _cost:x_F : 17.919952532237197 -> 2.4223107963949393\n",
      "INFO:smac.intensification.intensification.Intensifier:  _cost:x_Q : 3.799797214910551 -> 3.6608033527999755\n",
      "INFO:smac.intensification.intensification.Intensifier:  _model:hidden_size_1 : 40 -> 45\n",
      "INFO:smac.intensification.intensification.Intensifier:  _model:hidden_size_2 : 148 -> 150\n",
      "INFO:smac.intensification.intensification.Intensifier:  _model:hidden_size_3 : 88 -> 110\n",
      "INFO:smac.intensification.intensification.Intensifier:  _model:lr : 0.00022558578828583755 -> 0.00036536768202830955\n",
      "INFO:smac.intensification.intensification.Intensifier:  _model:nonlintype : 'relu' -> 'sigmoid'\n",
      "INFO:smac.intensification.intensification.Intensifier:Wallclock time limit for intensification reached (used: 144.961029 sec, available: 0.000010 sec)\n"
     ]
    },
    {
     "name": "stdout",
     "output_type": "stream",
     "text": [
      "\n",
      "True Dynamics Cost:  57.0\n",
      "True Dynamics Final State:  [ 1.77330942e-04 -7.44275085e-07  3.77616672e-02  1.64888997e-03]\n",
      "use_cuda=True\n",
      "MLP Using Cuda\n",
      "hidden_sizes= [45, 147, 91]\n",
      "100%|██████████| 50/50 [01:52<00:00,  2.25s/it]\n",
      "Simulating Surrogate Trajectory: \n",
      " 99%|█████████▉| 198/200 [00:26<00:00,  7.40it/s]\n",
      "Surrogate Cost:  180.0\n",
      "Surrogate Final State:  [-0.01012325 -0.01505144  0.32943786 -0.08798152]\n",
      "Simulating True Dynamics Trajectory\n",
      " 99%|█████████▉| 198/200 [00:32<00:00,  6.11it/s]"
     ]
    },
    {
     "name": "stderr",
     "output_type": "stream",
     "text": [
      "INFO:smac.intensification.intensification.Intensifier:Wallclock time limit for intensification reached (used: 171.480073 sec, available: 0.000010 sec)\n"
     ]
    },
    {
     "name": "stdout",
     "output_type": "stream",
     "text": [
      "\n",
      "True Dynamics Cost:  188.0\n",
      "True Dynamics Final State:  [-2.21463990e-05  5.60891741e-05  4.16567504e-01  3.98453640e-05]\n",
      "use_cuda=True\n",
      "MLP Using Cuda\n",
      "hidden_sizes= [138, 62, 179]\n",
      "100%|██████████| 50/50 [01:51<00:00,  2.24s/it]\n",
      "Simulating Surrogate Trajectory: \n",
      "  4%|▎         | 7/200 [00:00<00:07, 25.65it/s]"
     ]
    },
    {
     "name": "stderr",
     "output_type": "stream",
     "text": [
      "/home/william/proj/autompc_dev/autompc/control/ilqr.py:535: RuntimeWarning: invalid value encountered in double_scalars\n",
      "  if (obj - new_obj) / (-expect_cost_reduction) > ls_cost_threshold:\n"
     ]
    },
    {
     "name": "stdout",
     "output_type": "stream",
     "text": [
      " 99%|█████████▉| 198/200 [00:06<00:00, 32.48it/s]\n",
      "Surrogate Cost:  200.0\n",
      "Surrogate Final State:  [ 3.15391568 -0.00849196  0.28048194 -0.1151191 ]\n",
      "Simulating True Dynamics Trajectory\n",
      " 99%|█████████▉| 198/200 [00:05<00:00, 35.87it/s]"
     ]
    },
    {
     "name": "stderr",
     "output_type": "stream",
     "text": [
      "INFO:smac.intensification.intensification.Intensifier:Wallclock time limit for intensification reached (used: 123.416107 sec, available: 0.000010 sec)\n"
     ]
    },
    {
     "name": "stdout",
     "output_type": "stream",
     "text": [
      "\n",
      "True Dynamics Cost:  200.0\n",
      "True Dynamics Final State:  [ 3.13851311e+00 -1.40604318e-03  0.00000000e+00  0.00000000e+00]\n",
      "use_cuda=True\n",
      "MLP Using Cuda\n",
      "hidden_sizes= [45, 148, 129]\n",
      "100%|██████████| 50/50 [01:51<00:00,  2.23s/it]\n",
      "Simulating Surrogate Trajectory: \n",
      " 99%|█████████▉| 198/200 [01:07<00:00,  2.95it/s]\n",
      "Surrogate Cost:  200.0\n",
      "Surrogate Final State:  [-0.10084798  0.19081509 -2.20059021  0.35228041]\n",
      "Simulating True Dynamics Trajectory\n",
      " 99%|█████████▉| 198/200 [01:08<00:00,  2.88it/s]"
     ]
    },
    {
     "name": "stderr",
     "output_type": "stream",
     "text": [
      "INFO:smac.intensification.intensification.Intensifier:Wallclock time limit for intensification reached (used: 247.696545 sec, available: 0.000010 sec)\n"
     ]
    },
    {
     "name": "stdout",
     "output_type": "stream",
     "text": [
      "\n",
      "True Dynamics Cost:  200.0\n",
      "True Dynamics Final State:  [ 0.06877213 -0.28781971 -1.40187526 -0.36315676]\n",
      "use_cuda=True\n",
      "MLP Using Cuda\n",
      "hidden_sizes= [17, 151, 148]\n",
      "100%|██████████| 50/50 [01:50<00:00,  2.20s/it]\n",
      "Simulating Surrogate Trajectory: \n",
      " 99%|█████████▉| 198/200 [00:30<00:00,  6.53it/s]\n",
      "Surrogate Cost:  199.0\n",
      "Surrogate Final State:  [-0.00287396 -0.15172217 -0.21565158  0.01430445]\n",
      "Simulating True Dynamics Trajectory\n",
      " 99%|█████████▉| 198/200 [00:16<00:00, 11.87it/s]"
     ]
    },
    {
     "name": "stderr",
     "output_type": "stream",
     "text": [
      "INFO:smac.intensification.intensification.Intensifier:Wallclock time limit for intensification reached (used: 157.147436 sec, available: 0.000010 sec)\n"
     ]
    },
    {
     "name": "stdout",
     "output_type": "stream",
     "text": [
      "\n",
      "True Dynamics Cost:  56.0\n",
      "True Dynamics Final State:  [1.31210761e-05 4.84123420e-05 1.35730997e-01 9.73713902e-05]\n",
      "use_cuda=True\n",
      "MLP Using Cuda\n",
      "hidden_sizes= [32, 150, 111]\n",
      "100%|██████████| 50/50 [01:47<00:00,  2.16s/it]\n",
      "Simulating Surrogate Trajectory: \n",
      " 99%|█████████▉| 198/200 [00:41<00:00,  4.76it/s]\n",
      "Surrogate Cost:  200.0\n",
      "Surrogate Final State:  [ 3.16103297 -0.03477156 -0.53812446 -0.12133018]\n",
      "Simulating True Dynamics Trajectory\n",
      " 99%|█████████▉| 198/200 [00:41<00:00,  4.78it/s]"
     ]
    },
    {
     "name": "stderr",
     "output_type": "stream",
     "text": [
      "INFO:smac.intensification.intensification.Intensifier:Wallclock time limit for intensification reached (used: 190.939464 sec, available: 0.000010 sec)\n"
     ]
    },
    {
     "name": "stdout",
     "output_type": "stream",
     "text": [
      "\n",
      "True Dynamics Cost:  200.0\n",
      "True Dynamics Final State:  [ 3.14180291 -0.01815752 -0.58263738 -0.03147354]\n",
      "use_cuda=True\n",
      "MLP Using Cuda\n",
      "hidden_sizes= [50, 114, 75]\n",
      "100%|██████████| 50/50 [01:47<00:00,  2.15s/it]\n",
      "Simulating Surrogate Trajectory: \n",
      " 99%|█████████▉| 198/200 [01:00<00:00,  3.29it/s]\n",
      "Surrogate Cost:  200.0\n",
      "Surrogate Final State:  [ 2.25058695  2.50097439  0.37031192 -0.11043035]\n",
      "Simulating True Dynamics Trajectory\n",
      " 99%|█████████▉| 198/200 [00:51<00:00,  3.88it/s]"
     ]
    },
    {
     "name": "stderr",
     "output_type": "stream",
     "text": [
      "INFO:smac.intensification.intensification.Intensifier:Wallclock time limit for intensification reached (used: 218.664276 sec, available: 0.000010 sec)\n"
     ]
    },
    {
     "name": "stdout",
     "output_type": "stream",
     "text": [
      "\n",
      "True Dynamics Cost:  200.0\n",
      "True Dynamics Final State:  [11.00011616  2.03250841 -1.70264831 -2.12967306]\n",
      "use_cuda=True\n",
      "MLP Using Cuda\n",
      "hidden_sizes= [53, 149, 105]\n",
      "100%|██████████| 50/50 [01:49<00:00,  2.18s/it]\n",
      "Simulating Surrogate Trajectory: \n",
      " 99%|█████████▉| 198/200 [00:43<00:00,  4.57it/s]\n",
      "Surrogate Cost:  198.0\n",
      "Surrogate Final State:  [-0.09583751  0.37492426 -0.21529279  0.90922928]\n",
      "Simulating True Dynamics Trajectory\n",
      " 99%|█████████▉| 198/200 [00:45<00:00,  4.37it/s]"
     ]
    },
    {
     "name": "stderr",
     "output_type": "stream",
     "text": [
      "INFO:smac.intensification.intensification.Intensifier:Wallclock time limit for intensification reached (used: 197.697763 sec, available: 0.000010 sec)\n"
     ]
    },
    {
     "name": "stdout",
     "output_type": "stream",
     "text": [
      "\n",
      "True Dynamics Cost:  193.0\n",
      "True Dynamics Final State:  [-0.19544385  0.4228021  -0.52730582  0.31354469]\n",
      "use_cuda=True\n",
      "MLP Using Cuda\n",
      "hidden_sizes= [58, 150, 108]\n",
      "100%|██████████| 50/50 [01:51<00:00,  2.22s/it]\n",
      "Simulating Surrogate Trajectory: \n",
      " 99%|█████████▉| 198/200 [00:40<00:00,  4.85it/s]\n",
      "Surrogate Cost:  198.0\n",
      "Surrogate Final State:  [-4.21815372  1.13193192  0.28654554  0.69357818]\n",
      "Simulating True Dynamics Trajectory\n",
      " 99%|█████████▉| 198/200 [00:42<00:00,  4.69it/s]"
     ]
    },
    {
     "name": "stderr",
     "output_type": "stream",
     "text": [
      "INFO:smac.intensification.intensification.Intensifier:Wallclock time limit for intensification reached (used: 194.114236 sec, available: 0.000010 sec)\n"
     ]
    },
    {
     "name": "stdout",
     "output_type": "stream",
     "text": [
      "\n",
      "True Dynamics Cost:  199.0\n",
      "True Dynamics Final State:  [-4.15617721  0.82964015  0.42199904  0.30767824]\n",
      "use_cuda=True\n",
      "MLP Using Cuda\n",
      "hidden_sizes= [190, 196]\n",
      "100%|██████████| 50/50 [01:26<00:00,  1.74s/it]\n",
      "Simulating Surrogate Trajectory: \n",
      " 99%|█████████▉| 198/200 [00:08<00:00, 24.01it/s]\n",
      "Surrogate Cost:  200.0\n",
      "Surrogate Final State:  [ 3.15567462 -0.01022126  2.58089937  0.19004882]\n",
      "Simulating True Dynamics Trajectory\n",
      " 99%|█████████▉| 198/200 [00:09<00:00, 21.52it/s]"
     ]
    },
    {
     "name": "stderr",
     "output_type": "stream",
     "text": [
      "INFO:smac.intensification.intensification.Intensifier:Wallclock time limit for intensification reached (used: 104.260111 sec, available: 0.000010 sec)\n"
     ]
    },
    {
     "name": "stdout",
     "output_type": "stream",
     "text": [
      "\n",
      "True Dynamics Cost:  200.0\n",
      "True Dynamics Final State:  [ 3.14043583e+00 -1.01870872e-03  1.88220660e+00  2.07699017e-01]\n",
      "use_cuda=True\n",
      "MLP Using Cuda\n",
      "hidden_sizes= [42, 150, 110]\n",
      "100%|██████████| 50/50 [01:52<00:00,  2.26s/it]\n",
      "Simulating Surrogate Trajectory: \n",
      " 99%|█████████▉| 198/200 [00:39<00:00,  5.04it/s]\n",
      "Surrogate Cost:  172.0\n",
      "Surrogate Final State:  [-0.00962957 -0.01798876 -0.21504814 -0.08665296]\n",
      "Simulating True Dynamics Trajectory\n",
      " 99%|█████████▉| 198/200 [00:40<00:00,  4.90it/s]"
     ]
    },
    {
     "name": "stderr",
     "output_type": "stream",
     "text": [
      "INFO:smac.intensification.intensification.Intensifier:Wallclock time limit for intensification reached (used: 192.488087 sec, available: 0.000010 sec)\n"
     ]
    },
    {
     "name": "stdout",
     "output_type": "stream",
     "text": [
      "\n",
      "True Dynamics Cost:  172.0\n",
      "True Dynamics Final State:  [ 0.01100934 -0.00526315 -0.2403136   0.0063885 ]\n",
      "use_cuda=True\n",
      "MLP Using Cuda\n",
      "hidden_sizes= [245]\n",
      "100%|██████████| 50/50 [01:04<00:00,  1.29s/it]\n",
      "Simulating Surrogate Trajectory: \n",
      " 99%|█████████▉| 198/200 [00:55<00:00,  3.60it/s]\n",
      "Surrogate Cost:  200.0\n",
      "Surrogate Final State:  [3.17248504e+00 1.05329291e-02 2.01530218e+01 1.70659126e+00]\n",
      "Simulating True Dynamics Trajectory\n",
      " 99%|█████████▉| 198/200 [00:55<00:00,  3.58it/s]"
     ]
    },
    {
     "name": "stderr",
     "output_type": "stream",
     "text": [
      "INFO:smac.intensification.intensification.Intensifier:Wallclock time limit for intensification reached (used: 174.647644 sec, available: 0.000010 sec)\n"
     ]
    },
    {
     "name": "stdout",
     "output_type": "stream",
     "text": [
      "\n",
      "True Dynamics Cost:  200.0\n",
      "True Dynamics Final State:  [3.16054802e+00 3.13571831e-03 1.90472332e+01 1.73906702e+00]\n",
      "use_cuda=True\n",
      "MLP Using Cuda\n",
      "hidden_sizes= [60, 150, 108]\n",
      "100%|██████████| 50/50 [01:50<00:00,  2.20s/it]\n",
      "Simulating Surrogate Trajectory: \n",
      " 99%|█████████▉| 198/200 [00:38<00:00,  5.13it/s]\n",
      "Surrogate Cost:  200.0\n",
      "Surrogate Final State:  [-3.66988749  4.18537056  1.71565844 -3.22161534]\n",
      "Simulating True Dynamics Trajectory\n",
      " 99%|█████████▉| 198/200 [00:38<00:00,  5.17it/s]"
     ]
    },
    {
     "name": "stderr",
     "output_type": "stream",
     "text": [
      "INFO:smac.intensification.intensification.Intensifier:Wallclock time limit for intensification reached (used: 186.973833 sec, available: 0.000010 sec)\n"
     ]
    },
    {
     "name": "stdout",
     "output_type": "stream",
     "text": [
      "\n",
      "True Dynamics Cost:  200.0\n",
      "True Dynamics Final State:  [-0.83390563  2.30845788 -1.16060713 -1.13143693]\n",
      "use_cuda=True\n",
      "MLP Using Cuda\n",
      "hidden_sizes= [53, 148, 141]\n",
      "100%|██████████| 50/50 [01:48<00:00,  2.16s/it]\n",
      "Simulating Surrogate Trajectory: \n",
      " 99%|█████████▉| 198/200 [01:10<00:00,  2.80it/s]\n",
      "Surrogate Cost:  200.0\n",
      "Surrogate Final State:  [ 3.15245937 -0.01541057 -0.99820892 -0.08473462]\n",
      "Simulating True Dynamics Trajectory\n",
      " 99%|█████████▉| 198/200 [01:12<00:00,  2.72it/s]"
     ]
    },
    {
     "name": "stderr",
     "output_type": "stream",
     "text": [
      "INFO:smac.intensification.intensification.Intensifier:Wallclock time limit for intensification reached (used: 251.561458 sec, available: 0.000010 sec)\n"
     ]
    },
    {
     "name": "stdout",
     "output_type": "stream",
     "text": [
      "\n",
      "True Dynamics Cost:  200.0\n",
      "True Dynamics Final State:  [ 3.13621518e+00 -3.50756232e-03 -1.04964980e+00 -4.76821769e-04]\n",
      "use_cuda=True\n",
      "MLP Using Cuda\n",
      "hidden_sizes= [47]\n",
      "100%|██████████| 50/50 [01:00<00:00,  1.21s/it]\n",
      "Simulating Surrogate Trajectory: \n",
      " 99%|█████████▉| 198/200 [00:06<00:00, 29.72it/s]\n",
      "Surrogate Cost:  200.0\n",
      "Surrogate Final State:  [ 3.15221412 -0.00922303  0.16145012 -0.1307863 ]\n",
      "Simulating True Dynamics Trajectory\n",
      " 99%|█████████▉| 198/200 [00:06<00:00, 29.69it/s]"
     ]
    },
    {
     "name": "stderr",
     "output_type": "stream",
     "text": [
      "INFO:smac.intensification.intensification.Intensifier:Wallclock time limit for intensification reached (used: 74.003737 sec, available: 0.000010 sec)\n"
     ]
    },
    {
     "name": "stdout",
     "output_type": "stream",
     "text": [
      "\n",
      "True Dynamics Cost:  200.0\n",
      "True Dynamics Final State:  [ 3.13944610e+00 -1.76981073e-03  2.12340494e-01 -1.75190553e-02]\n",
      "use_cuda=True\n",
      "MLP Using Cuda\n",
      "hidden_sizes= [38, 128]\n",
      "100%|██████████| 50/50 [01:25<00:00,  1.71s/it]\n",
      "Simulating Surrogate Trajectory: \n",
      " 99%|█████████▉| 198/200 [00:46<00:00,  4.29it/s]\n",
      "Surrogate Cost:  67.0\n",
      "Surrogate Final State:  [-0.01156184  0.012345   -0.15131519 -0.07409573]\n",
      "Simulating True Dynamics Trajectory\n",
      " 99%|█████████▉| 198/200 [00:32<00:00,  6.13it/s]"
     ]
    },
    {
     "name": "stderr",
     "output_type": "stream",
     "text": [
      "INFO:smac.intensification.intensification.Intensifier:Wallclock time limit for intensification reached (used: 164.019650 sec, available: 0.000010 sec)\n"
     ]
    },
    {
     "name": "stdout",
     "output_type": "stream",
     "text": [
      "\n",
      "True Dynamics Cost:  77.0\n",
      "True Dynamics Final State:  [ 0.00110395 -0.23028481  0.09368596 -0.24102533]\n",
      "use_cuda=True\n",
      "MLP Using Cuda\n",
      "hidden_sizes= [52, 101, 102]\n",
      "100%|██████████| 50/50 [01:48<00:00,  2.18s/it]\n",
      "Simulating Surrogate Trajectory: \n",
      " 99%|█████████▉| 198/200 [00:12<00:00, 15.59it/s]\n",
      "Surrogate Cost:  49.0\n",
      "Surrogate Final State:  [-0.01015628 -0.01518392  0.09255421 -0.08793458]\n",
      "Simulating True Dynamics Trajectory\n",
      " 99%|█████████▉| 198/200 [00:14<00:00, 13.93it/s]"
     ]
    },
    {
     "name": "stderr",
     "output_type": "stream",
     "text": [
      "INFO:smac.intensification.intensification.Intensifier:Challenger (49.0000) is better than incumbent (55.0000) on 1 runs.\n",
      "INFO:smac.intensification.intensification.Intensifier:Changes in incumbent:\n",
      "INFO:smac.intensification.intensification.Intensifier:  _cost:dx_F : 7250.118351680813 -> 7990.334273749601\n",
      "INFO:smac.intensification.intensification.Intensifier:  _cost:dx_Q : 0.02464416797858498 -> 0.026390969205282777\n",
      "INFO:smac.intensification.intensification.Intensifier:  _cost:omega_F : 0.002262755815018774 -> 0.003037242338892879\n",
      "INFO:smac.intensification.intensification.Intensifier:  _cost:omega_Q : 0.001466703436222033 -> 0.0014466851874062442\n",
      "INFO:smac.intensification.intensification.Intensifier:  _cost:theta_F : 8.67523980351373 -> 2.605175947101952\n",
      "INFO:smac.intensification.intensification.Intensifier:  _cost:theta_Q : 0.0012632336059377586 -> 0.0011604314644478712\n",
      "INFO:smac.intensification.intensification.Intensifier:  _cost:u_R : 0.013731973451645858 -> 0.014255915736498532\n",
      "INFO:smac.intensification.intensification.Intensifier:  _cost:x_F : 2.4223107963949393 -> 14.610038077590847\n",
      "INFO:smac.intensification.intensification.Intensifier:  _cost:x_Q : 3.6608033527999755 -> 5.473455492792908\n",
      "INFO:smac.intensification.intensification.Intensifier:  _ctrlr:horizon : 17 -> 16\n",
      "INFO:smac.intensification.intensification.Intensifier:  _model:hidden_size_1 : 45 -> 52\n",
      "INFO:smac.intensification.intensification.Intensifier:  _model:hidden_size_2 : 150 -> 101\n",
      "INFO:smac.intensification.intensification.Intensifier:  _model:hidden_size_3 : 110 -> 102\n",
      "INFO:smac.intensification.intensification.Intensifier:  _model:lr : 0.00036536768202830955 -> 0.00027587061620324815\n",
      "INFO:smac.intensification.intensification.Intensifier:  _model:nonlintype : 'sigmoid' -> 'tanh'\n",
      "INFO:smac.intensification.intensification.Intensifier:Wallclock time limit for intensification reached (used: 135.842329 sec, available: 0.000010 sec)\n",
      "INFO:smac.stats.stats.Stats:##########################################################\n",
      "INFO:smac.stats.stats.Stats:Statistics:\n",
      "INFO:smac.stats.stats.Stats:#Incumbent changed: 7\n",
      "INFO:smac.stats.stats.Stats:#Submitted target algorithm runs: 100 / 100.0\n",
      "INFO:smac.stats.stats.Stats:#Finished target algorithm runs: 100 / 100.0\n",
      "INFO:smac.stats.stats.Stats:#Configurations: 100\n",
      "INFO:smac.stats.stats.Stats:Used wallclock time: 17197.74 / inf sec \n",
      "INFO:smac.stats.stats.Stats:Used target algorithm runtime: 17079.13 / inf sec\n",
      "INFO:smac.stats.stats.Stats:##########################################################\n",
      "INFO:smac.facade.smac_hpo_facade.SMAC4HPO:Final Incumbent: Configuration:\n",
      "  _cost:dx_F, Value: 7990.334273749601\n",
      "  _cost:dx_Q, Value: 0.026390969205282777\n",
      "  _cost:omega_F, Value: 0.003037242338892879\n",
      "  _cost:omega_Q, Value: 0.0014466851874062442\n",
      "  _cost:theta_F, Value: 2.605175947101952\n",
      "  _cost:theta_Q, Value: 0.0011604314644478712\n",
      "  _cost:u_R, Value: 0.014255915736498532\n",
      "  _cost:x_F, Value: 14.610038077590847\n",
      "  _cost:x_Q, Value: 5.473455492792908\n",
      "  _ctrlr:horizon, Value: 16\n",
      "  _model:hidden_size_1, Value: 52\n",
      "  _model:hidden_size_2, Value: 101\n",
      "  _model:hidden_size_3, Value: 102\n",
      "  _model:lr, Value: 0.00027587061620324815\n",
      "  _model:n_hidden_layers, Value: '3'\n",
      "  _model:nonlintype, Value: 'tanh'\n",
      "\n",
      "INFO:smac.facade.smac_hpo_facade.SMAC4HPO:Estimated cost of incumbent: 49.000000\n"
     ]
    },
    {
     "name": "stdout",
     "output_type": "stream",
     "text": [
      "\n",
      "True Dynamics Cost:  41.0\n",
      "True Dynamics Final State:  [-1.56160338e-10  4.50397082e-10  1.00845850e-01 -1.96410416e-10]\n",
      "use_cuda=True\n",
      "MLP Using Cuda\n",
      "hidden_sizes= [52, 101, 102]\n",
      "100%|██████████| 50/50 [01:50<00:00,  2.21s/it]\n"
     ]
    }
   ],
   "source": [
    "tuner = PipelineTuner(surrogate_mode=\"autoselect\", surrogate_split=0.5)\n",
    "\n",
    "controller, tune_result4 = tuner.run(pipeline, task, trajs, n_iters=100, rng=np.random.default_rng(100),\n",
    "                                    truedyn=benchmark.dynamics)"
   ]
  },
  {
   "cell_type": "markdown",
   "metadata": {},
   "source": [
    "Finally, we can pre-train and select our own surrogate."
   ]
  },
  {
   "cell_type": "code",
   "execution_count": 8,
   "metadata": {},
   "outputs": [
    {
     "name": "stderr",
     "output_type": "stream",
     "text": [
      "INFO:smac.utils.io.cmd_reader.CMDReader:Output to smac3-output_2021-05-30_18:41:12_510023\n",
      "INFO:smac.facade.smac_hpo_facade.SMAC4HPO:Optimizing a deterministic scenario for quality without a tuner timeout - will make SMAC deterministic and only evaluate one configuration per iteration!\n",
      "INFO:smac.initial_design.sobol_design.SobolDesign:Running initial design for 1 configurations\n",
      "INFO:smac.facade.smac_hpo_facade.SMAC4HPO:<class 'smac.facade.smac_hpo_facade.SMAC4HPO'>\n",
      "INFO:smac.optimizer.smbo.SMBO:Running initial design\n",
      "INFO:smac.intensification.intensification.Intensifier:First run, no incumbent provided; challenger is assumed to be the incumbent\n"
     ]
    },
    {
     "name": "stdout",
     "output_type": "stream",
     "text": [
      "Evaluating Cfg:\n",
      "Configuration:\n",
      "  _MLP:hidden_size_1, Value: 136\n",
      "  _MLP:hidden_size_2, Value: 136\n",
      "  _MLP:hidden_size_3, Value: 136\n",
      "  _MLP:lr, Value: 0.003162277660168379\n",
      "  _MLP:n_hidden_layers, Value: '3'\n",
      "  _MLP:nonlintype, Value: 'sigmoid'\n",
      "  model, Value: 'MLP'\n",
      "\n",
      "use_cuda=True\n",
      "MLP Using Cuda\n",
      "hidden_sizes= [136, 136, 136]\n",
      "100%|██████████| 50/50 [01:23<00:00,  1.66s/it]"
     ]
    },
    {
     "name": "stderr",
     "output_type": "stream",
     "text": [
      "INFO:smac.intensification.intensification.Intensifier:First run, no incumbent provided; challenger is assumed to be the incumbent\n",
      "INFO:smac.intensification.intensification.Intensifier:Updated estimated cost of incumbent on 1 runs: 0.0304\n",
      "INFO:smac.stats.stats.Stats:##########################################################\n",
      "INFO:smac.stats.stats.Stats:Statistics:\n",
      "INFO:smac.stats.stats.Stats:#Incumbent changed: 0\n",
      "INFO:smac.stats.stats.Stats:#Submitted target algorithm runs: 1 / 1.0\n",
      "INFO:smac.stats.stats.Stats:#Finished target algorithm runs: 1 / 1.0\n",
      "INFO:smac.stats.stats.Stats:#Configurations: 1\n",
      "INFO:smac.stats.stats.Stats:Used wallclock time: 83.10 / inf sec \n",
      "INFO:smac.stats.stats.Stats:Used target algorithm runtime: 83.09 / inf sec\n",
      "INFO:smac.stats.stats.Stats:##########################################################\n",
      "INFO:smac.facade.smac_hpo_facade.SMAC4HPO:Final Incumbent: Configuration:\n",
      "  _MLP:hidden_size_1, Value: 136\n",
      "  _MLP:hidden_size_2, Value: 136\n",
      "  _MLP:hidden_size_3, Value: 136\n",
      "  _MLP:lr, Value: 0.003162277660168379\n",
      "  _MLP:n_hidden_layers, Value: '3'\n",
      "  _MLP:nonlintype, Value: 'sigmoid'\n",
      "  model, Value: 'MLP'\n",
      "\n",
      "INFO:smac.facade.smac_hpo_facade.SMAC4HPO:Estimated cost of incumbent: 0.030380\n"
     ]
    },
    {
     "name": "stdout",
     "output_type": "stream",
     "text": [
      "\n",
      "Model Score  0.030380426310064948\n",
      "use_cuda=True\n",
      "MLP Using Cuda\n",
      "hidden_sizes= [136, 136, 136]\n",
      "100%|██████████| 50/50 [01:51<00:00,  2.22s/it]\n"
     ]
    },
    {
     "ename": "TypeError",
     "evalue": "run() missing 1 required positional argument: 'rng'",
     "output_type": "error",
     "traceback": [
      "\u001b[0;31m---------------------------------------------------------------------------\u001b[0m",
      "\u001b[0;31mTypeError\u001b[0m                                 Traceback (most recent call last)",
      "\u001b[0;32m<ipython-input-8-fe084e107744>\u001b[0m in \u001b[0;36m<module>\u001b[0;34m\u001b[0m\n\u001b[1;32m     14\u001b[0m \u001b[0mtuner\u001b[0m \u001b[0;34m=\u001b[0m \u001b[0mPipelineTuner\u001b[0m\u001b[0;34m(\u001b[0m\u001b[0msurrogate_mode\u001b[0m\u001b[0;34m=\u001b[0m\u001b[0;34m\"pretrain\"\u001b[0m\u001b[0;34m)\u001b[0m\u001b[0;34m\u001b[0m\u001b[0;34m\u001b[0m\u001b[0m\n\u001b[1;32m     15\u001b[0m \u001b[0;34m\u001b[0m\u001b[0m\n\u001b[0;32m---> 16\u001b[0;31m controller, tune_result5 = tuner.run(pipeline, task, sysid_trajs, n_iters=100, surrogate=surrogate_model,\n\u001b[0m\u001b[1;32m     17\u001b[0m                                     truedyn=benchmark.dynamics)\n",
      "\u001b[0;31mTypeError\u001b[0m: run() missing 1 required positional argument: 'rng'"
     ]
    }
   ],
   "source": [
    "from autompc.tuning import ModelTuner\n",
    "from autompc.evaluation import HoldoutModelEvaluator\n",
    "\n",
    "sysid_trajs = trajs[:250]\n",
    "surr_trajs = trajs[250:]\n",
    "\n",
    "model_evaluator = HoldoutModelEvaluator(system=system,trajs=surr_trajs,rng=np.random.default_rng(100),\n",
    "                                        holdout_prop=0.25, metric=\"rmse\")\n",
    "model_tuner = ModelTuner(system, model_evaluator)\n",
    "model_tuner.add_model_factory(surrogate_factory)\n",
    "\n",
    "surrogate_model, _ = model_tuner.run(rng=np.random.default_rng(100), n_iters = 1)\n",
    "\n",
    "tuner = PipelineTuner(surrogate_mode=\"pretrain\")\n",
    "\n",
    "controller, tune_result5 = tuner.run(pipeline, task, sysid_trajs, n_iters=100, surrogate=surrogate_model,\n",
    "                                    truedyn=benchmark.dynamics)"
   ]
  },
  {
   "cell_type": "markdown",
   "metadata": {},
   "source": [
    "## Decoupled Tuning\n",
    "\n",
    "The above examples is full pipeline tuning, which searches the configuration space of all components simultaneously.  Alternatively, we can take a decoupled tuning approach, where the model is first tuned based on prediction accuracy, then the objective function and optimizer are tuned.\n",
    "\n",
    "First, we must tune the model"
   ]
  },
  {
   "cell_type": "code",
   "execution_count": null,
   "metadata": {},
   "outputs": [],
   "source": [
    "from autompc.tuning import ModelTuner\n",
    "from autompc.evaluation import HoldoutModelEvaluator\n",
    "\n",
    "model_evaluator = HoldoutModelEvaluator(holdout_prop=0.25, metric=\"rmse\", trajs=trajs, system=system,\n",
    "                                       rng=np.random.default_rng(100))\n",
    "model_tuner = ModelTuner(system, model_evaluator)\n",
    "model_tuner.add_model_factory(model_factory)\n",
    "\n",
    "model, model_tune_result = model_tuner.run(rng=np.random.default_rng(100), n_iters=2)"
   ]
  },
  {
   "cell_type": "markdown",
   "metadata": {},
   "source": [
    "Now that we have tuned the model, we can create a pipeline with the pre-tuned model, and then run pipeline tuning."
   ]
  },
  {
   "cell_type": "code",
   "execution_count": null,
   "metadata": {},
   "outputs": [],
   "source": [
    "pipeline_fixed_model = ampc.Pipeline(system, model, iLQRFactory, QuadCostFactory)\n",
    "controller6, tune_result6 = tuner.run(pipeline, task, trajs, n_iters=100, truedyn=benchmark.dynamics)   "
   ]
  }
 ],
 "metadata": {
  "kernelspec": {
   "display_name": "Python 3",
   "language": "python",
   "name": "python3"
  },
  "language_info": {
   "codemirror_mode": {
    "name": "ipython",
    "version": 3
   },
   "file_extension": ".py",
   "mimetype": "text/x-python",
   "name": "python",
   "nbconvert_exporter": "python",
   "pygments_lexer": "ipython3",
   "version": "3.8.7"
  }
 },
 "nbformat": 4,
 "nbformat_minor": 4
}
