{
 "cells": [
  {
   "cell_type": "markdown",
   "metadata": {},
   "source": [
    "# AutoMPC Demo\n",
    "\n",
    "Welcome!  This notebook demonstrates the core features of AutoMPC.  We will use the Cart-Pole swing-up task as an example, and we will tune an MPC pipeline consisting of a multi-layer perception (MLP) system ID model and an iLQR optimizer."
   ]
  },
  {
   "cell_type": "markdown",
   "metadata": {},
   "source": [
    "## Set-Up\n",
    "\n",
    "To begin, we need an input dataset and specifications for the system and task.  The `benchmarks` module provides these for a few example systems."
   ]
  },
  {
   "cell_type": "code",
   "execution_count": 1,
   "metadata": {},
   "outputs": [
    {
     "name": "stderr",
     "output_type": "stream",
     "text": [
      "/usr/lib/python3/dist-packages/pyparsing.py:1745: FutureWarning: Possible set intersection at position 3\n",
      "  self.re = re.compile( self.reString )\n"
     ]
    }
   ],
   "source": [
    "import os\n",
    "os.chdir(\"..\")\n",
    "import autompc as ampc\n",
    "from autompc.benchmarks import CartpoleSwingupBenchmark\n",
    "\n",
    "benchmark = CartpoleSwingupBenchmark()\n",
    "\n",
    "\n",
    "# Get system and task specification\n",
    "system = benchmark.system\n",
    "task   = benchmark.task\n",
    "\n",
    "# Generate benchmark dataset\n",
    "trajs = benchmark.gen_trajs(seed=100, n_trajs=1000, traj_len=200)"
   ]
  },
  {
   "cell_type": "markdown",
   "metadata": {},
   "source": [
    "Next, we need to declare our MPC pipeline.  The following code initializes a pipeline with a MLP system ID model, a quadratic objective function, and and an iLQR optimizer."
   ]
  },
  {
   "cell_type": "code",
   "execution_count": 6,
   "metadata": {},
   "outputs": [],
   "source": [
    "from autompc.sysid import MLPFactory\n",
    "from autompc.control import IterativeLQRFactory\n",
    "from autompc.costs import QuadCostFactory\n",
    "\n",
    "model_factory = MLPFactory(system)\n",
    "ctrlr_factory = IterativeLQRFactory(system)\n",
    "cost_factory  = QuadCostFactory(system)\n",
    "\n",
    "pipeline = ampc.Pipeline(system, model_factory, ctrlr_factory, cost_factory)"
   ]
  },
  {
   "cell_type": "markdown",
   "metadata": {},
   "source": [
    "We can view the joint configuration space of the pipeline"
   ]
  },
  {
   "cell_type": "code",
   "execution_count": 7,
   "metadata": {},
   "outputs": [
    {
     "data": {
      "text/plain": [
       "Configuration space object:\n",
       "  Hyperparameters:\n",
       "    _cost:dx_F, Type: UniformFloat, Range: [0.001, 10000.0], Default: 1.0, on log-scale\n",
       "    _cost:dx_Q, Type: UniformFloat, Range: [0.001, 10000.0], Default: 1.0, on log-scale\n",
       "    _cost:omega_F, Type: UniformFloat, Range: [0.001, 10000.0], Default: 1.0, on log-scale\n",
       "    _cost:omega_Q, Type: UniformFloat, Range: [0.001, 10000.0], Default: 1.0, on log-scale\n",
       "    _cost:theta_F, Type: UniformFloat, Range: [0.001, 10000.0], Default: 1.0, on log-scale\n",
       "    _cost:theta_Q, Type: UniformFloat, Range: [0.001, 10000.0], Default: 1.0, on log-scale\n",
       "    _cost:u_R, Type: UniformFloat, Range: [0.001, 10000.0], Default: 1.0, on log-scale\n",
       "    _cost:x_F, Type: UniformFloat, Range: [0.001, 10000.0], Default: 1.0, on log-scale\n",
       "    _cost:x_Q, Type: UniformFloat, Range: [0.001, 10000.0], Default: 1.0, on log-scale\n",
       "    _ctrlr:horizon, Type: UniformInteger, Range: [5, 25], Default: 20\n",
       "    _model:hidden_size_1, Type: UniformInteger, Range: [16, 256], Default: 32\n",
       "    _model:hidden_size_2, Type: UniformInteger, Range: [16, 256], Default: 32\n",
       "    _model:hidden_size_3, Type: UniformInteger, Range: [16, 256], Default: 32\n",
       "    _model:hidden_size_4, Type: UniformInteger, Range: [16, 256], Default: 32\n",
       "    _model:lr_log10, Type: UniformFloat, Range: [-5.0, 0.0], Default: -3.0\n",
       "    _model:n_hidden_layers, Type: Categorical, Choices: {1, 2, 3, 4}, Default: 2\n",
       "    _model:nonlintype, Type: Categorical, Choices: {relu, tanh, sigmoid, selu}, Default: relu\n",
       "  Conditions:\n",
       "    _model:hidden_size_2 | _model:n_hidden_layers in {'2', '3', '4'}\n",
       "    _model:hidden_size_3 | _model:n_hidden_layers in {'3', '4'}\n",
       "    _model:hidden_size_4 | _model:n_hidden_layers in {'4'}"
      ]
     },
     "execution_count": 7,
     "metadata": {},
     "output_type": "execute_result"
    }
   ],
   "source": [
    "pipeline.get_configuration_space()"
   ]
  },
  {
   "cell_type": "markdown",
   "metadata": {},
   "source": [
    "## Tuning"
   ]
  },
  {
   "cell_type": "markdown",
   "metadata": {},
   "source": [
    "Once we have initialized the pipeline and its factories, it is straightforward to set up a tuner to search the configuration space.  Here we use an MLP model for the surrogate model.  This is an example of full pipeline which searches the configuration space of all pipeline components simultaneously."
   ]
  },
  {
   "cell_type": "code",
   "execution_count": null,
   "metadata": {},
   "outputs": [],
   "source": [
    "from autompc.tuning import PipelineTuner\n",
    "\n",
    "tuner = PipelineTuner(surrogate_factory=MLPFactory(), surrogate_split=0.5)\n",
    "\n",
    "controller, tune_result = tuner.run(pipeline, task, trajs, n_iters=100)"
   ]
  },
  {
   "cell_type": "markdown",
   "metadata": {},
   "source": [
    "We can also set the configuration of the surrogate model."
   ]
  },
  {
   "cell_type": "code",
   "execution_count": null,
   "metadata": {},
   "outputs": [],
   "source": [
    "surrogate_factory = MLPFactory()\n",
    "surrogate_cfg = MLPFactory().get_configuration_space().get_default_configuration()\n",
    "surrogate_cfg[\"n_hidden_layers\"] = \"2\"\n",
    "surrogate_cfg[\"hidden_size_1\"] = 128\n",
    "surrogate_cfg[\"hidden_size_2\"] = 128\n",
    "surrogate_cfg[\"nonlintype\"] = \"relu\"\n",
    "\n",
    "tuner = PipelineTuner(surrogate_factory=surrogate_factory, surrogate_split=0.5)"
   ]
  },
  {
   "cell_type": "markdown",
   "metadata": {},
   "source": [
    "Alternatively, we can select the surrogate hyperparameters through model accuracy tuning."
   ]
  },
  {
   "cell_type": "code",
   "execution_count": null,
   "metadata": {},
   "outputs": [],
   "source": [
    "from autompc.tuning import ModelTuner\n",
    "from autompc.evaluation import HoldoutModelEvaluator\n",
    "\n",
    "model_evaluator = HoldoutModelEvaluator(holdout_prop=0.25, metric=\"rmse\")\n",
    "model_tuner = ModelTuner(model_evaluator)\n",
    "\n",
    "sysid_trajs = trajs[:500]\n",
    "surr_trajs = trajs[500:]\n",
    "\n",
    "surrogate_model, _ = model_tuner.run(surrogate_factory, surr_trajs, n_iters = 100)\n",
    "\n",
    "tuner = PipelineTuner(surrogate_model=surrogate_model)\n",
    "\n",
    "controller, tune_result = tuner.run(pipeline, task, sysid_trajs, n_iters=100)"
   ]
  },
  {
   "cell_type": "markdown",
   "metadata": {},
   "source": [
    "## Decoupled Tuning\n",
    "\n",
    "The above examples is full pipeline tuning, which searches the configuration space of all components simultaneously.  Alternatively, we can take a decoupled tuning approach, where the model is first tuned based on prediction accuracy, then the objective function and optimizer are tuned.\n",
    "\n",
    "First, we must tune the model"
   ]
  },
  {
   "cell_type": "code",
   "execution_count": null,
   "metadata": {},
   "outputs": [],
   "source": [
    "from autompc.tuning import ModelTuner\n",
    "from autompc.evaluation import HoldoutModelEvaluator\n",
    "\n",
    "model_evaluator = HoldoutModelEvaluator(holdout_prop=0.25, metric=\"rmse\")\n",
    "model_tuner = ModelTuner(model_evaluator)\n",
    "\n",
    "model, model_tune_result = model_tuner.run(model_factory, trajs, n_iters=100)"
   ]
  },
  {
   "cell_type": "markdown",
   "metadata": {},
   "source": [
    "Now that we have tuned the model, we can create a pipeline with the pre-tuned model, and then run pipeline tuning."
   ]
  },
  {
   "cell_type": "code",
   "execution_count": null,
   "metadata": {},
   "outputs": [],
   "source": [
    "pipeline_fixed_model = ampc.Pipeline(system, model, iLQRFactory, QuadCostFactory)\n",
    "controller2, tune_result2 = tuner.run(pipeline, task, trajs, n_iters=100)   "
   ]
  }
 ],
 "metadata": {
  "kernelspec": {
   "display_name": "Python 3",
   "language": "python",
   "name": "python3"
  },
  "language_info": {
   "codemirror_mode": {
    "name": "ipython",
    "version": 3
   },
   "file_extension": ".py",
   "mimetype": "text/x-python",
   "name": "python",
   "nbconvert_exporter": "python",
   "pygments_lexer": "ipython3",
   "version": "3.8.7"
  }
 },
 "nbformat": 4,
 "nbformat_minor": 4
}
