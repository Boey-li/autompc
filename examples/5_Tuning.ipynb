{
 "cells": [
  {
   "cell_type": "markdown",
   "metadata": {},
   "source": [
    "# AutoMPC Demo\n",
    "\n",
    "Welcome!  This notebook demonstrates the core features of AutoMPC.  We will use the Cart-Pole swing-up task as an example, and we will tune an MPC pipeline consisting of a multi-layer perception (MLP) system ID model and an iLQR optimizer."
   ]
  },
  {
   "cell_type": "markdown",
   "metadata": {},
   "source": [
    "## Set-Up\n",
    "\n",
    "To begin, we need an input dataset and specifications for the system and task.  The `benchmarks` module provides these for a few example systems."
   ]
  },
  {
   "cell_type": "code",
   "execution_count": 1,
   "metadata": {},
   "outputs": [
    {
     "name": "stdout",
     "output_type": "stream",
     "text": [
      "Cannot import SnoptWrapper\n",
      "Cannot import KnitroSolver, make sure its Python interface is installed\n"
     ]
    }
   ],
   "source": [
    "import os\n",
    "os.chdir(\"..\")\n",
    "import autompc as ampc\n",
    "import numpy as np\n",
    "from autompc.benchmarks import CartpoleSwingupBenchmark\n",
    "\n",
    "benchmark = CartpoleSwingupBenchmark()\n",
    "\n",
    "\n",
    "# Get system and task specification\n",
    "system = benchmark.system\n",
    "task   = benchmark.task\n",
    "\n",
    "# Generate benchmark dataset\n",
    "trajs = benchmark.gen_trajs(seed=100, n_trajs=500, traj_len=200)"
   ]
  },
  {
   "cell_type": "markdown",
   "metadata": {},
   "source": [
    "Next, we need to declare our MPC pipeline.  The following code initializes a pipeline with a MLP system ID model, a quadratic objective function, and and an iLQR optimizer."
   ]
  },
  {
   "cell_type": "code",
   "execution_count": 2,
   "metadata": {},
   "outputs": [],
   "source": [
    "from autompc.sysid import MLPFactory\n",
    "from autompc.control import IterativeLQRFactory\n",
    "from autompc.costs import QuadCostFactory\n",
    "\n",
    "model_factory = MLPFactory(system)\n",
    "ctrlr_factory = IterativeLQRFactory(system)\n",
    "cost_factory  = QuadCostFactory(system)\n",
    "\n",
    "pipeline = ampc.Pipeline(system, model_factory, ctrlr_factory, cost_factory)"
   ]
  },
  {
   "cell_type": "markdown",
   "metadata": {},
   "source": [
    "We can view the joint configuration space of the pipeline"
   ]
  },
  {
   "cell_type": "code",
   "execution_count": 3,
   "metadata": {},
   "outputs": [
    {
     "data": {
      "text/plain": [
       "Configuration space object:\n",
       "  Hyperparameters:\n",
       "    _cost:dx_F, Type: UniformFloat, Range: [0.001, 10000.0], Default: 1.0, on log-scale\n",
       "    _cost:dx_Q, Type: UniformFloat, Range: [0.001, 10000.0], Default: 1.0, on log-scale\n",
       "    _cost:omega_F, Type: UniformFloat, Range: [0.001, 10000.0], Default: 1.0, on log-scale\n",
       "    _cost:omega_Q, Type: UniformFloat, Range: [0.001, 10000.0], Default: 1.0, on log-scale\n",
       "    _cost:theta_F, Type: UniformFloat, Range: [0.001, 10000.0], Default: 1.0, on log-scale\n",
       "    _cost:theta_Q, Type: UniformFloat, Range: [0.001, 10000.0], Default: 1.0, on log-scale\n",
       "    _cost:u_R, Type: UniformFloat, Range: [0.001, 10000.0], Default: 1.0, on log-scale\n",
       "    _cost:x_F, Type: UniformFloat, Range: [0.001, 10000.0], Default: 1.0, on log-scale\n",
       "    _cost:x_Q, Type: UniformFloat, Range: [0.001, 10000.0], Default: 1.0, on log-scale\n",
       "    _ctrlr:horizon, Type: UniformInteger, Range: [5, 25], Default: 20\n",
       "    _model:hidden_size_1, Type: UniformInteger, Range: [16, 256], Default: 128\n",
       "    _model:hidden_size_2, Type: UniformInteger, Range: [16, 256], Default: 128\n",
       "    _model:hidden_size_3, Type: UniformInteger, Range: [16, 256], Default: 128\n",
       "    _model:hidden_size_4, Type: UniformInteger, Range: [16, 256], Default: 128\n",
       "    _model:lr, Type: UniformFloat, Range: [1e-05, 1.0], Default: 0.001, on log-scale\n",
       "    _model:n_hidden_layers, Type: Categorical, Choices: {1, 2, 3, 4}, Default: 2\n",
       "    _model:nonlintype, Type: Categorical, Choices: {relu, tanh, sigmoid, selu}, Default: relu\n",
       "  Conditions:\n",
       "    _model:hidden_size_2 | _model:n_hidden_layers in {'2', '3', '4'}\n",
       "    _model:hidden_size_3 | _model:n_hidden_layers in {'3', '4'}\n",
       "    _model:hidden_size_4 | _model:n_hidden_layers in {'4'}"
      ]
     },
     "execution_count": 3,
     "metadata": {},
     "output_type": "execute_result"
    }
   ],
   "source": [
    "pipeline.get_configuration_space()"
   ]
  },
  {
   "cell_type": "markdown",
   "metadata": {},
   "source": [
    "## Tuning"
   ]
  },
  {
   "cell_type": "markdown",
   "metadata": {},
   "source": [
    "Tune with selected surrogate model class, default model configuration."
   ]
  },
  {
   "cell_type": "code",
   "execution_count": 4,
   "metadata": {},
   "outputs": [
    {
     "name": "stderr",
     "output_type": "stream",
     "text": [
      "/usr/lib/python3/dist-packages/pyparsing.py:1745: FutureWarning: Possible set intersection at position 3\n",
      "  self.re = re.compile( self.reString )\n",
      "/home/william/.local/lib/python3.8/site-packages/numpy/core/_asarray.py:83: VisibleDeprecationWarning: Creating an ndarray from ragged nested sequences (which is a list-or-tuple of lists-or-tuples-or ndarrays with different lengths or shapes) is deprecated. If you meant to do this, you must specify 'dtype=object' when creating the ndarray\n",
      "  return array(a, dtype, copy=False, order=order)\n"
     ]
    },
    {
     "name": "stdout",
     "output_type": "stream",
     "text": [
      "use_cuda=True\n",
      "MLP Using Cuda\n",
      "hidden_sizes= [128, 128]\n",
      "100%|██████████| 50/50 [01:19<00:00,  1.59s/it]"
     ]
    },
    {
     "name": "stderr",
     "output_type": "stream",
     "text": [
      "INFO:smac.utils.io.cmd_reader.CMDReader:Output to smac3-output_2021-05-02_13:00:45_871237\n",
      "INFO:smac.facade.smac_hpo_facade.SMAC4HPO:Optimizing a deterministic scenario for quality without a tuner timeout - will make SMAC deterministic and only evaluate one configuration per iteration!\n",
      "INFO:smac.initial_design.sobol_design.SobolDesign:Running initial design for 25 configurations\n",
      "INFO:smac.facade.smac_hpo_facade.SMAC4HPO:<class 'smac.facade.smac_hpo_facade.SMAC4HPO'>\n",
      "INFO:smac.optimizer.smbo.SMBO:Running initial design\n",
      "INFO:smac.intensification.intensification.Intensifier:First run, no incumbent provided; challenger is assumed to be the incumbent\n"
     ]
    },
    {
     "name": "stdout",
     "output_type": "stream",
     "text": [
      "\n",
      "use_cuda=True\n",
      "MLP Using Cuda\n",
      "hidden_sizes= [136, 136, 136]\n",
      "100%|██████████| 50/50 [01:41<00:00,  2.03s/it]\n",
      "Simulating Surrogate Trajectory: \n",
      " 99%|█████████▉| 198/200 [00:10<00:00, 18.54it/s]"
     ]
    },
    {
     "name": "stderr",
     "output_type": "stream",
     "text": [
      "INFO:smac.intensification.intensification.Intensifier:First run, no incumbent provided; challenger is assumed to be the incumbent\n"
     ]
    },
    {
     "name": "stdout",
     "output_type": "stream",
     "text": [
      "\n"
     ]
    },
    {
     "name": "stderr",
     "output_type": "stream",
     "text": [
      "INFO:smac.intensification.intensification.Intensifier:Updated estimated cost of incumbent on 1 runs: 200.0000\n"
     ]
    },
    {
     "name": "stdout",
     "output_type": "stream",
     "text": [
      "use_cuda=True\n",
      "MLP Using Cuda\n",
      "hidden_sizes= [76, 76]\n",
      "100%|██████████| 50/50 [01:21<00:00,  1.63s/it]\n",
      "Simulating Surrogate Trajectory: \n",
      " 99%|█████████▉| 198/200 [00:09<00:00, 21.13it/s]"
     ]
    },
    {
     "name": "stderr",
     "output_type": "stream",
     "text": [
      "INFO:smac.intensification.intensification.Intensifier:Wallclock time limit for intensification reached (used: 202.744899 sec, available: 0.000010 sec)\n"
     ]
    },
    {
     "name": "stdout",
     "output_type": "stream",
     "text": [
      "\n",
      "use_cuda=True\n",
      "MLP Using Cuda\n",
      "hidden_sizes= [196, 196, 76, 76]\n",
      "100%|██████████| 50/50 [01:58<00:00,  2.37s/it]\n",
      "Simulating Surrogate Trajectory: \n",
      " 99%|█████████▉| 198/200 [01:58<00:01,  1.67it/s]"
     ]
    },
    {
     "name": "stderr",
     "output_type": "stream",
     "text": [
      "INFO:smac.intensification.intensification.Intensifier:Wallclock time limit for intensification reached (used: 237.246305 sec, available: 0.000010 sec)\n"
     ]
    },
    {
     "name": "stdout",
     "output_type": "stream",
     "text": [
      "\n",
      "use_cuda=True\n",
      "MLP Using Cuda\n",
      "hidden_sizes= [106]\n",
      "100%|██████████| 50/50 [00:52<00:00,  1.04s/it]\n",
      "Simulating Surrogate Trajectory: \n",
      " 99%|█████████▉| 198/200 [00:45<00:00,  4.40it/s]"
     ]
    },
    {
     "name": "stderr",
     "output_type": "stream",
     "text": [
      "INFO:smac.intensification.intensification.Intensifier:Challenger (197.0000) is better than incumbent (200.0000) on 1 runs.\n",
      "INFO:smac.intensification.intensification.Intensifier:Changes in incumbent:\n",
      "INFO:smac.intensification.intensification.Intensifier:  _cost:dx_F : 3.1622776601683813 -> 0.4216965034285823\n",
      "INFO:smac.intensification.intensification.Intensifier:  _cost:dx_Q : 3.1622776601683813 -> 0.4216965034285823\n",
      "INFO:smac.intensification.intensification.Intensifier:  _cost:omega_F : 3.1622776601683813 -> 23.713737056616576\n",
      "INFO:smac.intensification.intensification.Intensifier:  _cost:omega_Q : 3.1622776601683813 -> 0.007498942093324564\n",
      "INFO:smac.intensification.intensification.Intensifier:  _cost:theta_F : 3.1622776601683813 -> 1333.5214321633246\n",
      "INFO:smac.intensification.intensification.Intensifier:  _cost:theta_Q : 3.1622776601683813 -> 1333.5214321633246\n",
      "INFO:smac.intensification.intensification.Intensifier:  _cost:u_R : 3.1622776601683813 -> 0.007498942093324564\n",
      "INFO:smac.intensification.intensification.Intensifier:  _cost:x_F : 3.1622776601683813 -> 23.713737056616576\n",
      "INFO:smac.intensification.intensification.Intensifier:  _cost:x_Q : 3.1622776601683813 -> 0.007498942093324564\n",
      "INFO:smac.intensification.intensification.Intensifier:  _ctrlr:horizon : 15 -> 23\n",
      "INFO:smac.intensification.intensification.Intensifier:  _model:hidden_size_1 : 136 -> 106\n",
      "INFO:smac.intensification.intensification.Intensifier:  _model:lr : 0.003162277660168379 -> 0.013335214321633242\n",
      "INFO:smac.intensification.intensification.Intensifier:  _model:n_hidden_layers : '3' -> '1'\n",
      "INFO:smac.intensification.intensification.Intensifier:  _model:nonlintype : 'sigmoid' -> 'tanh'\n",
      "INFO:smac.intensification.intensification.Intensifier:Wallclock time limit for intensification reached (used: 97.234389 sec, available: 0.000010 sec)\n"
     ]
    },
    {
     "name": "stdout",
     "output_type": "stream",
     "text": [
      "\n",
      "use_cuda=True\n",
      "MLP Using Cuda\n",
      "hidden_sizes= [226, 46, 166]\n",
      "100%|██████████| 50/50 [01:44<00:00,  2.09s/it]\n",
      "Simulating Surrogate Trajectory: \n",
      " 99%|█████████▉| 198/200 [00:10<00:00, 18.99it/s]"
     ]
    },
    {
     "name": "stderr",
     "output_type": "stream",
     "text": [
      "INFO:smac.intensification.intensification.Intensifier:Wallclock time limit for intensification reached (used: 114.981113 sec, available: 0.000010 sec)\n"
     ]
    },
    {
     "name": "stdout",
     "output_type": "stream",
     "text": [
      "\n",
      "use_cuda=True\n",
      "MLP Using Cuda\n",
      "hidden_sizes= [46, 226]\n",
      "100%|██████████| 50/50 [01:20<00:00,  1.61s/it]\n",
      "Simulating Surrogate Trajectory: \n",
      " 99%|█████████▉| 198/200 [00:06<00:00, 29.40it/s]"
     ]
    },
    {
     "name": "stderr",
     "output_type": "stream",
     "text": [
      "INFO:smac.intensification.intensification.Intensifier:Wallclock time limit for intensification reached (used: 87.409406 sec, available: 0.000010 sec)\n"
     ]
    },
    {
     "name": "stdout",
     "output_type": "stream",
     "text": [
      "\n",
      "use_cuda=True\n",
      "MLP Using Cuda\n",
      "hidden_sizes= [166, 106, 106, 226]\n",
      "100%|██████████| 50/50 [02:08<00:00,  2.56s/it]\n",
      "Simulating Surrogate Trajectory: \n",
      "  4%|▎         | 7/200 [00:00<00:07, 26.64it/s]"
     ]
    },
    {
     "name": "stderr",
     "output_type": "stream",
     "text": [
      "/home/william/proj/autompc_dev/autompc/control/ilqr.py:525: RuntimeWarning: invalid value encountered in double_scalars\n",
      "  if (obj - new_obj) / (-expect_cost_reduction) > ls_cost_threshold:\n"
     ]
    },
    {
     "name": "stdout",
     "output_type": "stream",
     "text": [
      " 99%|█████████▉| 198/200 [00:05<00:00, 33.28it/s]"
     ]
    },
    {
     "name": "stderr",
     "output_type": "stream",
     "text": [
      "INFO:smac.intensification.intensification.Intensifier:Wallclock time limit for intensification reached (used: 134.090893 sec, available: 0.000010 sec)\n"
     ]
    },
    {
     "name": "stdout",
     "output_type": "stream",
     "text": [
      "\n",
      "use_cuda=True\n",
      "MLP Using Cuda\n",
      "hidden_sizes= [181, 61, 181]\n",
      "100%|██████████| 50/50 [01:43<00:00,  2.08s/it]\n",
      "Simulating Surrogate Trajectory: \n",
      " 99%|█████████▉| 198/200 [00:05<00:00, 37.70it/s]"
     ]
    },
    {
     "name": "stderr",
     "output_type": "stream",
     "text": [
      "INFO:smac.intensification.intensification.Intensifier:Wallclock time limit for intensification reached (used: 109.257272 sec, available: 0.000010 sec)\n"
     ]
    },
    {
     "name": "stdout",
     "output_type": "stream",
     "text": [
      "\n",
      "use_cuda=True\n",
      "MLP Using Cuda\n",
      "hidden_sizes= [61]\n",
      "100%|██████████| 50/50 [00:51<00:00,  1.02s/it]\n",
      "Simulating Surrogate Trajectory: \n",
      " 99%|█████████▉| 198/200 [00:13<00:00, 14.29it/s]"
     ]
    },
    {
     "name": "stderr",
     "output_type": "stream",
     "text": [
      "INFO:smac.intensification.intensification.Intensifier:Wallclock time limit for intensification reached (used: 64.933914 sec, available: 0.000010 sec)\n"
     ]
    },
    {
     "name": "stdout",
     "output_type": "stream",
     "text": [
      "\n",
      "use_cuda=True\n",
      "MLP Using Cuda\n",
      "hidden_sizes= [241, 121, 121, 241]\n",
      "100%|██████████| 50/50 [02:05<00:00,  2.52s/it]\n",
      "Simulating Surrogate Trajectory: \n",
      " 99%|█████████▉| 198/200 [00:08<00:00, 23.13it/s]"
     ]
    },
    {
     "name": "stderr",
     "output_type": "stream",
     "text": [
      "INFO:smac.intensification.intensification.Intensifier:Wallclock time limit for intensification reached (used: 134.426440 sec, available: 0.000010 sec)\n"
     ]
    },
    {
     "name": "stdout",
     "output_type": "stream",
     "text": [
      "\n",
      "use_cuda=True\n",
      "MLP Using Cuda\n",
      "hidden_sizes= [121, 241]\n",
      "100%|██████████| 50/50 [01:22<00:00,  1.65s/it]\n",
      "Simulating Surrogate Trajectory: \n",
      " 99%|█████████▉| 198/200 [00:31<00:00,  6.35it/s]"
     ]
    },
    {
     "name": "stderr",
     "output_type": "stream",
     "text": [
      "INFO:smac.intensification.intensification.Intensifier:Wallclock time limit for intensification reached (used: 113.932456 sec, available: 0.000010 sec)\n"
     ]
    },
    {
     "name": "stdout",
     "output_type": "stream",
     "text": [
      "\n",
      "use_cuda=True\n",
      "MLP Using Cuda\n",
      "hidden_sizes= [211, 151, 151]\n",
      "100%|██████████| 50/50 [01:41<00:00,  2.03s/it]\n",
      "Simulating Surrogate Trajectory: \n",
      " 99%|█████████▉| 198/200 [01:31<00:00,  2.17it/s]"
     ]
    },
    {
     "name": "stderr",
     "output_type": "stream",
     "text": [
      "INFO:smac.intensification.intensification.Intensifier:Challenger (65.0000) is better than incumbent (197.0000) on 1 runs.\n",
      "INFO:smac.intensification.intensification.Intensifier:Changes in incumbent:\n",
      "INFO:smac.intensification.intensification.Intensifier:  _cost:dx_F : 0.4216965034285823 -> 0.1539926526059493\n",
      "INFO:smac.intensification.intensification.Intensifier:  _cost:dx_Q : 0.4216965034285823 -> 0.020535250264571463\n",
      "INFO:smac.intensification.intensification.Intensifier:  _cost:omega_F : 23.713737056616576 -> 3651.7412725483823\n",
      "INFO:smac.intensification.intensification.Intensifier:  _cost:omega_Q : 0.007498942093324564 -> 8.659643233600653\n",
      "INFO:smac.intensification.intensification.Intensifier:  _cost:theta_F : 1333.5214321633246 -> 1.1547819846894585\n",
      "INFO:smac.intensification.intensification.Intensifier:  _cost:theta_Q : 1333.5214321633246 -> 486.9675251658636\n",
      "INFO:smac.intensification.intensification.Intensifier:  _cost:u_R : 0.007498942093324564 -> 0.020535250264571463\n",
      "INFO:smac.intensification.intensification.Intensifier:  _cost:x_F : 23.713737056616576 -> 0.1539926526059493\n",
      "INFO:smac.intensification.intensification.Intensifier:  _cost:x_Q : 0.007498942093324564 -> 0.0027384196342643626\n",
      "INFO:smac.intensification.intensification.Intensifier:  _ctrlr:horizon : 23 -> 24\n",
      "INFO:smac.intensification.intensification.Intensifier:  _model:hidden_size_1 : 106 -> 211\n",
      "INFO:smac.intensification.intensification.Intensifier:  _model:hidden_size_2 : None -> 151\n",
      "INFO:smac.intensification.intensification.Intensifier:  _model:hidden_size_3 : None -> 151\n",
      "INFO:smac.intensification.intensification.Intensifier:  _model:lr : 0.013335214321633242 -> 0.0015399265260594922\n",
      "INFO:smac.intensification.intensification.Intensifier:  _model:n_hidden_layers : '1' -> '3'\n",
      "INFO:smac.intensification.intensification.Intensifier:  _model:nonlintype : 'tanh' -> 'selu'\n",
      "INFO:smac.intensification.intensification.Intensifier:Wallclock time limit for intensification reached (used: 192.893641 sec, available: 0.000010 sec)\n"
     ]
    },
    {
     "name": "stdout",
     "output_type": "stream",
     "text": [
      "\n",
      "use_cuda=True\n",
      "MLP Using Cuda\n",
      "hidden_sizes= [91]\n",
      "100%|██████████| 50/50 [00:51<00:00,  1.04s/it]\n",
      "Simulating Surrogate Trajectory: \n",
      " 99%|█████████▉| 198/200 [01:37<00:00,  2.03it/s]"
     ]
    },
    {
     "name": "stderr",
     "output_type": "stream",
     "text": [
      "INFO:smac.intensification.intensification.Intensifier:Wallclock time limit for intensification reached (used: 149.536614 sec, available: 0.000010 sec)\n"
     ]
    },
    {
     "name": "stdout",
     "output_type": "stream",
     "text": [
      "\n",
      "use_cuda=True\n",
      "MLP Using Cuda\n",
      "hidden_sizes= [151, 211, 91, 91]\n",
      "100%|██████████| 50/50 [02:04<00:00,  2.48s/it]\n",
      "Simulating Surrogate Trajectory: \n",
      " 99%|█████████▉| 198/200 [00:08<00:00, 23.28it/s]"
     ]
    },
    {
     "name": "stderr",
     "output_type": "stream",
     "text": [
      "INFO:smac.intensification.intensification.Intensifier:Wallclock time limit for intensification reached (used: 132.786547 sec, available: 0.000010 sec)\n"
     ]
    },
    {
     "name": "stdout",
     "output_type": "stream",
     "text": [
      "\n",
      "use_cuda=True\n",
      "MLP Using Cuda\n",
      "hidden_sizes= [31, 91]\n",
      "100%|██████████| 50/50 [01:22<00:00,  1.65s/it]\n",
      "Simulating Surrogate Trajectory: \n",
      " 99%|█████████▉| 198/200 [00:06<00:00, 29.03it/s]"
     ]
    },
    {
     "name": "stderr",
     "output_type": "stream",
     "text": [
      "INFO:smac.intensification.intensification.Intensifier:Wallclock time limit for intensification reached (used: 89.477559 sec, available: 0.000010 sec)\n"
     ]
    },
    {
     "name": "stdout",
     "output_type": "stream",
     "text": [
      "\n",
      "use_cuda=True\n",
      "MLP Using Cuda\n",
      "hidden_sizes= [113, 204, 144, 38]\n",
      "100%|██████████| 50/50 [02:09<00:00,  2.60s/it]\n",
      "Simulating Surrogate Trajectory: \n",
      " 99%|█████████▉| 198/200 [00:06<00:00, 32.82it/s]"
     ]
    },
    {
     "name": "stderr",
     "output_type": "stream",
     "text": [
      "INFO:smac.intensification.intensification.Intensifier:Wallclock time limit for intensification reached (used: 136.046915 sec, available: 0.000010 sec)\n"
     ]
    },
    {
     "name": "stdout",
     "output_type": "stream",
     "text": [
      "\n",
      "use_cuda=True\n",
      "MLP Using Cuda\n",
      "hidden_sizes= [234, 83]\n",
      "100%|██████████| 50/50 [01:22<00:00,  1.66s/it]\n",
      "Simulating Surrogate Trajectory: \n",
      " 99%|█████████▉| 198/200 [00:17<00:00, 11.00it/s]"
     ]
    },
    {
     "name": "stderr",
     "output_type": "stream",
     "text": [
      "INFO:smac.intensification.intensification.Intensifier:Wallclock time limit for intensification reached (used: 101.009881 sec, available: 0.000010 sec)\n"
     ]
    },
    {
     "name": "stdout",
     "output_type": "stream",
     "text": [
      "\n",
      "use_cuda=True\n",
      "MLP Using Cuda\n",
      "hidden_sizes= [53, 144, 83]\n",
      "100%|██████████| 50/50 [01:30<00:00,  1.81s/it]\n",
      "Simulating Surrogate Trajectory: \n",
      " 99%|█████████▉| 198/200 [01:05<00:00,  3.01it/s]"
     ]
    },
    {
     "name": "stderr",
     "output_type": "stream",
     "text": [
      "INFO:smac.intensification.intensification.Intensifier:Wallclock time limit for intensification reached (used: 156.057847 sec, available: 0.000010 sec)\n"
     ]
    },
    {
     "name": "stdout",
     "output_type": "stream",
     "text": [
      "\n",
      "use_cuda=True\n",
      "MLP Using Cuda\n",
      "hidden_sizes= [174]\n",
      "100%|██████████| 50/50 [00:53<00:00,  1.07s/it]\n",
      "Simulating Surrogate Trajectory: \n",
      " 99%|█████████▉| 198/200 [00:05<00:00, 34.97it/s]\n"
     ]
    },
    {
     "name": "stderr",
     "output_type": "stream",
     "text": [
      "INFO:smac.intensification.intensification.Intensifier:Wallclock time limit for intensification reached (used: 59.068702 sec, available: 0.000010 sec)\n"
     ]
    },
    {
     "name": "stdout",
     "output_type": "stream",
     "text": [
      "use_cuda=True\n",
      "MLP Using Cuda\n",
      "hidden_sizes= [23, 113, 174, 189]\n",
      "100%|██████████| 50/50 [02:00<00:00,  2.40s/it]\n",
      "Simulating Surrogate Trajectory: \n",
      " 99%|█████████▉| 198/200 [00:10<00:00, 18.04it/s]"
     ]
    },
    {
     "name": "stderr",
     "output_type": "stream",
     "text": [
      "INFO:smac.intensification.intensification.Intensifier:Wallclock time limit for intensification reached (used: 131.104481 sec, available: 0.000010 sec)\n"
     ]
    },
    {
     "name": "stdout",
     "output_type": "stream",
     "text": [
      "\n",
      "use_cuda=True\n",
      "MLP Using Cuda\n",
      "hidden_sizes= [144, 234]\n",
      "100%|██████████| 50/50 [01:22<00:00,  1.64s/it]\n",
      "Simulating Surrogate Trajectory: \n",
      " 99%|█████████▉| 198/200 [00:51<00:00,  3.82it/s]"
     ]
    },
    {
     "name": "stderr",
     "output_type": "stream",
     "text": [
      "INFO:smac.intensification.intensification.Intensifier:Wallclock time limit for intensification reached (used: 133.931136 sec, available: 0.000010 sec)\n"
     ]
    },
    {
     "name": "stdout",
     "output_type": "stream",
     "text": [
      "\n",
      "use_cuda=True\n",
      "MLP Using Cuda\n",
      "hidden_sizes= [83, 53, 113]\n",
      "100%|██████████| 50/50 [01:43<00:00,  2.08s/it]\n",
      "Simulating Surrogate Trajectory: \n",
      " 99%|█████████▉| 198/200 [01:11<00:00,  2.78it/s]"
     ]
    },
    {
     "name": "stderr",
     "output_type": "stream",
     "text": [
      "INFO:smac.intensification.intensification.Intensifier:Wallclock time limit for intensification reached (used: 175.098088 sec, available: 0.000010 sec)\n"
     ]
    },
    {
     "name": "stdout",
     "output_type": "stream",
     "text": [
      "\n",
      "use_cuda=True\n",
      "MLP Using Cuda\n",
      "hidden_sizes= [204]\n",
      "100%|██████████| 50/50 [00:53<00:00,  1.07s/it]\n",
      "Simulating Surrogate Trajectory: \n",
      " 99%|█████████▉| 198/200 [00:13<00:00, 15.06it/s]"
     ]
    },
    {
     "name": "stderr",
     "output_type": "stream",
     "text": [
      "INFO:smac.intensification.intensification.Intensifier:Wallclock time limit for intensification reached (used: 66.445606 sec, available: 0.000010 sec)\n"
     ]
    },
    {
     "name": "stdout",
     "output_type": "stream",
     "text": [
      "\n",
      "use_cuda=True\n",
      "MLP Using Cuda\n",
      "hidden_sizes= [219, 249]\n",
      "100%|██████████| 50/50 [01:23<00:00,  1.67s/it]\n",
      "Simulating Surrogate Trajectory: \n",
      " 99%|█████████▉| 198/200 [00:09<00:00, 21.87it/s]"
     ]
    },
    {
     "name": "stderr",
     "output_type": "stream",
     "text": [
      "INFO:smac.intensification.intensification.Intensifier:Wallclock time limit for intensification reached (used: 92.397193 sec, available: 0.000010 sec)\n"
     ]
    },
    {
     "name": "stdout",
     "output_type": "stream",
     "text": [
      "\n",
      "use_cuda=True\n",
      "MLP Using Cuda\n",
      "hidden_sizes= [98, 128, 189, 174]\n",
      "100%|██████████| 50/50 [02:07<00:00,  2.55s/it]\n",
      "Simulating Surrogate Trajectory: \n",
      " 99%|█████████▉| 198/200 [00:41<00:00,  4.74it/s]"
     ]
    },
    {
     "name": "stderr",
     "output_type": "stream",
     "text": [
      "INFO:smac.intensification.intensification.Intensifier:Wallclock time limit for intensification reached (used: 169.360853 sec, available: 0.000010 sec)\n"
     ]
    },
    {
     "name": "stdout",
     "output_type": "stream",
     "text": [
      "\n",
      "use_cuda=True\n",
      "MLP Using Cuda\n",
      "hidden_sizes= [155]\n",
      "100%|██████████| 50/50 [00:53<00:00,  1.06s/it]\n",
      "Simulating Surrogate Trajectory: \n",
      " 99%|█████████▉| 198/200 [00:06<00:00, 28.99it/s]"
     ]
    },
    {
     "name": "stderr",
     "output_type": "stream",
     "text": [
      "INFO:smac.intensification.intensification.Intensifier:Wallclock time limit for intensification reached (used: 59.983511 sec, available: 0.000010 sec)\n"
     ]
    },
    {
     "name": "stdout",
     "output_type": "stream",
     "text": [
      "\n",
      "use_cuda=True\n",
      "MLP Using Cuda\n",
      "hidden_sizes= [88, 39, 214, 147]\n",
      "100%|██████████| 50/50 [02:03<00:00,  2.46s/it]\n",
      "Simulating Surrogate Trajectory: \n",
      "  2%|▏         | 4/200 [00:00<00:06, 32.26it/s]"
     ]
    },
    {
     "name": "stderr",
     "output_type": "stream",
     "text": [
      "/home/william/proj/autompc_dev/autompc/control/ilqr.py:525: RuntimeWarning: invalid value encountered in double_scalars\n",
      "  if (obj - new_obj) / (-expect_cost_reduction) > ls_cost_threshold:\n"
     ]
    },
    {
     "name": "stdout",
     "output_type": "stream",
     "text": [
      " 99%|█████████▉| 198/200 [00:06<00:00, 32.71it/s]"
     ]
    },
    {
     "name": "stderr",
     "output_type": "stream",
     "text": [
      "INFO:smac.intensification.intensification.Intensifier:Wallclock time limit for intensification reached (used: 129.199234 sec, available: 0.000010 sec)\n"
     ]
    },
    {
     "name": "stdout",
     "output_type": "stream",
     "text": [
      "\n",
      "use_cuda=True\n",
      "MLP Using Cuda\n",
      "hidden_sizes= [249]\n",
      "100%|██████████| 50/50 [00:53<00:00,  1.07s/it]\n",
      "Simulating Surrogate Trajectory: \n",
      " 99%|█████████▉| 198/200 [00:40<00:00,  4.85it/s]"
     ]
    },
    {
     "name": "stderr",
     "output_type": "stream",
     "text": [
      "INFO:smac.intensification.intensification.Intensifier:Wallclock time limit for intensification reached (used: 94.143622 sec, available: 0.000010 sec)\n"
     ]
    },
    {
     "name": "stdout",
     "output_type": "stream",
     "text": [
      "\n",
      "use_cuda=True\n",
      "MLP Using Cuda\n",
      "hidden_sizes= [21, 255, 190]\n",
      "100%|██████████| 50/50 [01:41<00:00,  2.03s/it]\n",
      "Simulating Surrogate Trajectory: \n",
      " 99%|█████████▉| 198/200 [00:21<00:00,  9.34it/s]"
     ]
    },
    {
     "name": "stderr",
     "output_type": "stream",
     "text": [
      "INFO:smac.intensification.intensification.Intensifier:Wallclock time limit for intensification reached (used: 122.732624 sec, available: 0.000010 sec)\n"
     ]
    },
    {
     "name": "stdout",
     "output_type": "stream",
     "text": [
      "\n",
      "use_cuda=True\n",
      "MLP Using Cuda\n",
      "hidden_sizes= [211, 163, 171]\n",
      "100%|██████████| 50/50 [01:39<00:00,  1.99s/it]\n",
      "Simulating Surrogate Trajectory: \n",
      " 99%|█████████▉| 198/200 [01:15<00:00,  2.63it/s]"
     ]
    },
    {
     "name": "stderr",
     "output_type": "stream",
     "text": [
      "INFO:smac.intensification.intensification.Intensifier:Challenger (31.0000) is better than incumbent (65.0000) on 1 runs.\n",
      "INFO:smac.intensification.intensification.Intensifier:Changes in incumbent:\n",
      "INFO:smac.intensification.intensification.Intensifier:  _cost:dx_F : 0.1539926526059493 -> 0.16433638190654223\n",
      "INFO:smac.intensification.intensification.Intensifier:  _cost:dx_Q : 0.020535250264571463 -> 0.07708203990288297\n",
      "INFO:smac.intensification.intensification.Intensifier:  _cost:theta_F : 1.1547819846894585 -> 2.1900822071619936\n",
      "INFO:smac.intensification.intensification.Intensifier:  _cost:theta_Q : 486.9675251658636 -> 63.87203211629271\n",
      "INFO:smac.intensification.intensification.Intensifier:  _cost:x_F : 0.1539926526059493 -> 0.0953975061215035\n",
      "INFO:smac.intensification.intensification.Intensifier:  _model:hidden_size_2 : 151 -> 163\n",
      "INFO:smac.intensification.intensification.Intensifier:  _model:hidden_size_3 : 151 -> 171\n",
      "INFO:smac.intensification.intensification.Intensifier:  _model:lr : 0.0015399265260594922 -> 0.002498679248889482\n",
      "INFO:smac.intensification.intensification.Intensifier:  _model:nonlintype : 'selu' -> 'tanh'\n",
      "INFO:smac.intensification.intensification.Intensifier:Wallclock time limit for intensification reached (used: 174.875096 sec, available: 0.000010 sec)\n"
     ]
    },
    {
     "name": "stdout",
     "output_type": "stream",
     "text": [
      "\n",
      "use_cuda=True\n",
      "MLP Using Cuda\n",
      "hidden_sizes= [54, 255, 190]\n",
      "100%|██████████| 50/50 [01:42<00:00,  2.05s/it]\n",
      "Simulating Surrogate Trajectory: \n",
      " 99%|█████████▉| 198/200 [01:29<00:00,  2.22it/s]"
     ]
    },
    {
     "name": "stderr",
     "output_type": "stream",
     "text": [
      "INFO:smac.intensification.intensification.Intensifier:Wallclock time limit for intensification reached (used: 191.369889 sec, available: 0.000010 sec)\n"
     ]
    },
    {
     "name": "stdout",
     "output_type": "stream",
     "text": [
      "\n",
      "use_cuda=True\n",
      "MLP Using Cuda\n",
      "hidden_sizes= [211, 165, 144]\n",
      "100%|██████████| 50/50 [01:40<00:00,  2.01s/it]\n",
      "Simulating Surrogate Trajectory: \n",
      " 99%|█████████▉| 198/200 [00:51<00:00,  3.83it/s]"
     ]
    },
    {
     "name": "stderr",
     "output_type": "stream",
     "text": [
      "INFO:smac.intensification.intensification.Intensifier:Wallclock time limit for intensification reached (used: 152.333337 sec, available: 0.000010 sec)\n"
     ]
    },
    {
     "name": "stdout",
     "output_type": "stream",
     "text": [
      "\n",
      "use_cuda=True\n",
      "MLP Using Cuda\n",
      "hidden_sizes= [115]\n",
      "100%|██████████| 50/50 [00:52<00:00,  1.06s/it]\n",
      "Simulating Surrogate Trajectory: \n",
      " 99%|█████████▉| 198/200 [00:08<00:00, 24.62it/s]"
     ]
    },
    {
     "name": "stderr",
     "output_type": "stream",
     "text": [
      "INFO:smac.intensification.intensification.Intensifier:Wallclock time limit for intensification reached (used: 61.059909 sec, available: 0.000010 sec)\n"
     ]
    },
    {
     "name": "stdout",
     "output_type": "stream",
     "text": [
      "\n",
      "use_cuda=True\n",
      "MLP Using Cuda\n",
      "hidden_sizes= [211, 173]\n",
      "100%|██████████| 50/50 [01:21<00:00,  1.64s/it]\n",
      "Simulating Surrogate Trajectory: \n",
      " 99%|█████████▉| 198/200 [00:40<00:00,  4.90it/s]"
     ]
    },
    {
     "name": "stderr",
     "output_type": "stream",
     "text": [
      "INFO:smac.intensification.intensification.Intensifier:Challenger (27.0000) is better than incumbent (31.0000) on 1 runs.\n",
      "INFO:smac.intensification.intensification.Intensifier:Changes in incumbent:\n",
      "INFO:smac.intensification.intensification.Intensifier:  _cost:dx_F : 0.16433638190654223 -> 0.1539926526059493\n",
      "INFO:smac.intensification.intensification.Intensifier:  _cost:dx_Q : 0.07708203990288297 -> 0.0862561558488729\n",
      "INFO:smac.intensification.intensification.Intensifier:  _cost:omega_F : 3651.7412725483823 -> 5614.550412534396\n",
      "INFO:smac.intensification.intensification.Intensifier:  _cost:omega_Q : 8.659643233600653 -> 7.1214880942022605\n",
      "INFO:smac.intensification.intensification.Intensifier:  _cost:theta_F : 2.1900822071619936 -> 0.5147160895164079\n",
      "INFO:smac.intensification.intensification.Intensifier:  _cost:theta_Q : 63.87203211629271 -> 142.83919563420739\n",
      "INFO:smac.intensification.intensification.Intensifier:  _cost:u_R : 0.020535250264571463 -> 0.12396471669088409\n",
      "INFO:smac.intensification.intensification.Intensifier:  _cost:x_F : 0.0953975061215035 -> 0.0799323723074893\n",
      "INFO:smac.intensification.intensification.Intensifier:  _cost:x_Q : 0.0027384196342643626 -> 0.002681149938999486\n",
      "INFO:smac.intensification.intensification.Intensifier:  _model:hidden_size_2 : 163 -> 173\n",
      "INFO:smac.intensification.intensification.Intensifier:  _model:lr : 0.002498679248889482 -> 0.0015177622501176971\n",
      "INFO:smac.intensification.intensification.Intensifier:  _model:n_hidden_layers : '3' -> '2'\n",
      "INFO:smac.intensification.intensification.Intensifier:Wallclock time limit for intensification reached (used: 122.376875 sec, available: 0.000010 sec)\n"
     ]
    },
    {
     "name": "stdout",
     "output_type": "stream",
     "text": [
      "\n",
      "use_cuda=True\n",
      "MLP Using Cuda\n",
      "hidden_sizes= [169, 221, 24]\n",
      "100%|██████████| 50/50 [01:40<00:00,  2.02s/it]\n",
      "Simulating Surrogate Trajectory: \n",
      " 99%|█████████▉| 198/200 [00:09<00:00, 20.98it/s]"
     ]
    },
    {
     "name": "stderr",
     "output_type": "stream",
     "text": [
      "INFO:smac.intensification.intensification.Intensifier:Wallclock time limit for intensification reached (used: 110.257261 sec, available: 0.000010 sec)\n"
     ]
    },
    {
     "name": "stdout",
     "output_type": "stream",
     "text": [
      "\n",
      "use_cuda=True\n",
      "MLP Using Cuda\n",
      "hidden_sizes= [210, 173]\n",
      "100%|██████████| 50/50 [01:22<00:00,  1.64s/it]\n",
      "Simulating Surrogate Trajectory: \n",
      " 99%|█████████▉| 198/200 [00:38<00:00,  5.16it/s]"
     ]
    },
    {
     "name": "stderr",
     "output_type": "stream",
     "text": [
      "INFO:smac.intensification.intensification.Intensifier:Challenger (25.0000) is better than incumbent (27.0000) on 1 runs.\n",
      "INFO:smac.intensification.intensification.Intensifier:Changes in incumbent:\n",
      "INFO:smac.intensification.intensification.Intensifier:  _cost:omega_F : 5614.550412534396 -> 4523.965548998964\n",
      "INFO:smac.intensification.intensification.Intensifier:  _cost:theta_F : 0.5147160895164079 -> 2.7821358904595166\n",
      "INFO:smac.intensification.intensification.Intensifier:  _cost:theta_Q : 142.83919563420739 -> 133.03552925136205\n",
      "INFO:smac.intensification.intensification.Intensifier:  _cost:x_F : 0.0799323723074893 -> 0.06361410264145055\n",
      "INFO:smac.intensification.intensification.Intensifier:  _model:hidden_size_1 : 211 -> 210\n",
      "INFO:smac.intensification.intensification.Intensifier:  _model:lr : 0.0015177622501176971 -> 0.00030953454039093\n",
      "INFO:smac.intensification.intensification.Intensifier:  _model:nonlintype : 'tanh' -> 'relu'\n",
      "INFO:smac.intensification.intensification.Intensifier:Wallclock time limit for intensification reached (used: 120.514017 sec, available: 0.000010 sec)\n"
     ]
    },
    {
     "name": "stdout",
     "output_type": "stream",
     "text": [
      "\n",
      "use_cuda=True\n",
      "MLP Using Cuda\n",
      "hidden_sizes= [205, 177]\n",
      "100%|██████████| 50/50 [01:21<00:00,  1.63s/it]\n",
      "Simulating Surrogate Trajectory: \n",
      " 99%|█████████▉| 198/200 [00:13<00:00, 14.99it/s]"
     ]
    },
    {
     "name": "stderr",
     "output_type": "stream",
     "text": [
      "INFO:smac.intensification.intensification.Intensifier:Wallclock time limit for intensification reached (used: 94.575886 sec, available: 0.000010 sec)\n"
     ]
    },
    {
     "name": "stdout",
     "output_type": "stream",
     "text": [
      "\n",
      "use_cuda=True\n",
      "MLP Using Cuda\n",
      "hidden_sizes= [218, 148]\n",
      "100%|██████████| 50/50 [01:22<00:00,  1.65s/it]\n",
      "Simulating Surrogate Trajectory: \n",
      " 99%|█████████▉| 198/200 [00:43<00:00,  4.59it/s]"
     ]
    },
    {
     "name": "stderr",
     "output_type": "stream",
     "text": [
      "INFO:smac.intensification.intensification.Intensifier:Wallclock time limit for intensification reached (used: 125.489711 sec, available: 0.000010 sec)\n"
     ]
    },
    {
     "name": "stdout",
     "output_type": "stream",
     "text": [
      "\n",
      "use_cuda=True\n",
      "MLP Using Cuda\n",
      "hidden_sizes= [199, 183]\n",
      "100%|██████████| 50/50 [01:22<00:00,  1.66s/it]\n",
      "Simulating Surrogate Trajectory: \n",
      " 99%|█████████▉| 198/200 [00:36<00:00,  5.39it/s]"
     ]
    },
    {
     "name": "stderr",
     "output_type": "stream",
     "text": [
      "INFO:smac.intensification.intensification.Intensifier:Challenger (22.0000) is better than incumbent (25.0000) on 1 runs.\n"
     ]
    },
    {
     "name": "stdout",
     "output_type": "stream",
     "text": [
      "\n"
     ]
    },
    {
     "name": "stderr",
     "output_type": "stream",
     "text": [
      "INFO:smac.intensification.intensification.Intensifier:Changes in incumbent:\n",
      "INFO:smac.intensification.intensification.Intensifier:  _cost:dx_F : 0.1539926526059493 -> 0.15190290474807883\n",
      "INFO:smac.intensification.intensification.Intensifier:  _cost:dx_Q : 0.0862561558488729 -> 0.14555285384118072\n",
      "INFO:smac.intensification.intensification.Intensifier:  _cost:omega_F : 4523.965548998964 -> 7467.215725792986\n",
      "INFO:smac.intensification.intensification.Intensifier:  _cost:omega_Q : 7.1214880942022605 -> 7.594078319018209\n",
      "INFO:smac.intensification.intensification.Intensifier:  _cost:theta_F : 2.7821358904595166 -> 3.0522713957820997\n",
      "INFO:smac.intensification.intensification.Intensifier:  _cost:theta_Q : 133.03552925136205 -> 235.2623376155042\n",
      "INFO:smac.intensification.intensification.Intensifier:  _cost:u_R : 0.12396471669088409 -> 0.13517536208649766\n",
      "INFO:smac.intensification.intensification.Intensifier:  _cost:x_F : 0.06361410264145055 -> 0.040932149162292486\n",
      "INFO:smac.intensification.intensification.Intensifier:  _cost:x_Q : 0.002681149938999486 -> 0.0029481517366313492\n",
      "INFO:smac.intensification.intensification.Intensifier:  _model:hidden_size_1 : 210 -> 199\n",
      "INFO:smac.intensification.intensification.Intensifier:  _model:hidden_size_2 : 173 -> 183\n",
      "INFO:smac.intensification.intensification.Intensifier:  _model:lr : 0.00030953454039093 -> 0.00018857540962527\n",
      "INFO:smac.intensification.intensification.Intensifier:Wallclock time limit for intensification reached (used: 119.671548 sec, available: 0.000010 sec)\n"
     ]
    },
    {
     "name": "stdout",
     "output_type": "stream",
     "text": [
      "use_cuda=True\n",
      "MLP Using Cuda\n",
      "hidden_sizes= [174, 89]\n",
      "100%|██████████| 50/50 [01:21<00:00,  1.63s/it]\n",
      "Simulating Surrogate Trajectory: \n",
      " 99%|█████████▉| 198/200 [00:08<00:00, 22.50it/s]"
     ]
    },
    {
     "name": "stderr",
     "output_type": "stream",
     "text": [
      "INFO:smac.intensification.intensification.Intensifier:Wallclock time limit for intensification reached (used: 90.560508 sec, available: 0.000010 sec)\n"
     ]
    },
    {
     "name": "stdout",
     "output_type": "stream",
     "text": [
      "\n",
      "use_cuda=True\n",
      "MLP Using Cuda\n",
      "hidden_sizes= [90, 42, 69, 94]\n",
      "100%|██████████| 50/50 [02:04<00:00,  2.49s/it]\n",
      "Simulating Surrogate Trajectory: \n",
      " 99%|█████████▉| 198/200 [01:30<00:00,  2.18it/s]"
     ]
    },
    {
     "name": "stderr",
     "output_type": "stream",
     "text": [
      "INFO:smac.intensification.intensification.Intensifier:Wallclock time limit for intensification reached (used: 215.413772 sec, available: 0.000010 sec)\n"
     ]
    },
    {
     "name": "stdout",
     "output_type": "stream",
     "text": [
      "\n",
      "use_cuda=True\n",
      "MLP Using Cuda\n",
      "hidden_sizes= [211, 180]\n",
      "100%|██████████| 50/50 [01:21<00:00,  1.63s/it]\n",
      "Simulating Surrogate Trajectory: \n",
      " 99%|█████████▉| 198/200 [00:40<00:00,  4.90it/s]"
     ]
    },
    {
     "name": "stderr",
     "output_type": "stream",
     "text": [
      "INFO:smac.intensification.intensification.Intensifier:Wallclock time limit for intensification reached (used: 121.832125 sec, available: 0.000010 sec)\n"
     ]
    },
    {
     "name": "stdout",
     "output_type": "stream",
     "text": [
      "\n",
      "use_cuda=True\n",
      "MLP Using Cuda\n",
      "hidden_sizes= [198, 197, 128, 124]\n",
      "100%|██████████| 50/50 [02:00<00:00,  2.41s/it]\n",
      "Simulating Surrogate Trajectory: \n",
      " 99%|█████████▉| 198/200 [00:20<00:00,  9.82it/s]"
     ]
    },
    {
     "name": "stderr",
     "output_type": "stream",
     "text": [
      "INFO:smac.intensification.intensification.Intensifier:Challenger (20.0000) is better than incumbent (22.0000) on 1 runs.\n",
      "INFO:smac.intensification.intensification.Intensifier:Changes in incumbent:\n",
      "INFO:smac.intensification.intensification.Intensifier:  _cost:dx_F : 0.15190290474807883 -> 0.0331453368865449\n",
      "INFO:smac.intensification.intensification.Intensifier:  _cost:dx_Q : 0.14555285384118072 -> 0.21116140202670503\n",
      "INFO:smac.intensification.intensification.Intensifier:  _cost:omega_F : 7467.215725792986 -> 7029.281830268212\n",
      "INFO:smac.intensification.intensification.Intensifier:  _cost:omega_Q : 7.594078319018209 -> 6.505862011541015\n",
      "INFO:smac.intensification.intensification.Intensifier:  _cost:theta_F : 3.0522713957820997 -> 2.5769732757465196\n",
      "INFO:smac.intensification.intensification.Intensifier:  _cost:theta_Q : 235.2623376155042 -> 333.4717469489376\n",
      "INFO:smac.intensification.intensification.Intensifier:  _cost:u_R : 0.13517536208649766 -> 0.05663709167275694\n",
      "INFO:smac.intensification.intensification.Intensifier:  _cost:x_F : 0.040932149162292486 -> 0.007241747263897051\n",
      "INFO:smac.intensification.intensification.Intensifier:  _cost:x_Q : 0.0029481517366313492 -> 0.003517842426772531\n",
      "INFO:smac.intensification.intensification.Intensifier:  _ctrlr:horizon : 24 -> 23\n",
      "INFO:smac.intensification.intensification.Intensifier:  _model:hidden_size_1 : 199 -> 198\n",
      "INFO:smac.intensification.intensification.Intensifier:  _model:hidden_size_2 : 183 -> 197\n",
      "INFO:smac.intensification.intensification.Intensifier:  _model:hidden_size_3 : None -> 128\n",
      "INFO:smac.intensification.intensification.Intensifier:  _model:hidden_size_4 : None -> 124\n",
      "INFO:smac.intensification.intensification.Intensifier:  _model:lr : 0.00018857540962527 -> 0.00014730804838332837\n",
      "INFO:smac.intensification.intensification.Intensifier:  _model:n_hidden_layers : '2' -> '4'\n",
      "INFO:smac.intensification.intensification.Intensifier:  _model:nonlintype : 'relu' -> 'sigmoid'\n",
      "INFO:smac.intensification.intensification.Intensifier:Wallclock time limit for intensification reached (used: 140.710315 sec, available: 0.000010 sec)\n"
     ]
    },
    {
     "name": "stdout",
     "output_type": "stream",
     "text": [
      "\n",
      "use_cuda=True\n",
      "MLP Using Cuda\n",
      "hidden_sizes= [205, 218, 136, 197]\n",
      "100%|██████████| 50/50 [02:04<00:00,  2.50s/it]\n",
      "Simulating Surrogate Trajectory: \n",
      " 99%|█████████▉| 198/200 [00:34<00:00,  5.76it/s]"
     ]
    },
    {
     "name": "stderr",
     "output_type": "stream",
     "text": [
      "INFO:smac.intensification.intensification.Intensifier:Wallclock time limit for intensification reached (used: 159.285574 sec, available: 0.000010 sec)\n"
     ]
    },
    {
     "name": "stdout",
     "output_type": "stream",
     "text": [
      "\n",
      "use_cuda=True\n",
      "MLP Using Cuda\n",
      "hidden_sizes= [198, 193, 128, 107]\n",
      "100%|██████████| 50/50 [01:55<00:00,  2.30s/it]\n",
      "Simulating Surrogate Trajectory: \n",
      " 99%|█████████▉| 198/200 [00:15<00:00, 13.07it/s]"
     ]
    },
    {
     "name": "stderr",
     "output_type": "stream",
     "text": [
      "INFO:smac.intensification.intensification.Intensifier:Wallclock time limit for intensification reached (used: 130.434244 sec, available: 0.000010 sec)\n"
     ]
    },
    {
     "name": "stdout",
     "output_type": "stream",
     "text": [
      "\n",
      "use_cuda=True\n",
      "MLP Using Cuda\n",
      "hidden_sizes= [209, 189, 128, 128]\n",
      "100%|██████████| 50/50 [02:05<00:00,  2.50s/it]\n",
      "Simulating Surrogate Trajectory: \n",
      " 99%|█████████▉| 198/200 [00:12<00:00, 15.27it/s]"
     ]
    },
    {
     "name": "stderr",
     "output_type": "stream",
     "text": [
      "INFO:smac.intensification.intensification.Intensifier:Wallclock time limit for intensification reached (used: 138.060590 sec, available: 0.000010 sec)\n"
     ]
    },
    {
     "name": "stdout",
     "output_type": "stream",
     "text": [
      "\n",
      "use_cuda=True\n",
      "MLP Using Cuda\n",
      "hidden_sizes= [187, 195, 128, 132]\n",
      "100%|██████████| 50/50 [02:05<00:00,  2.52s/it]\n",
      "Simulating Surrogate Trajectory: \n",
      " 99%|█████████▉| 198/200 [00:33<00:00,  5.91it/s]"
     ]
    },
    {
     "name": "stderr",
     "output_type": "stream",
     "text": [
      "INFO:smac.intensification.intensification.Intensifier:Wallclock time limit for intensification reached (used: 159.312989 sec, available: 0.000010 sec)\n"
     ]
    },
    {
     "name": "stdout",
     "output_type": "stream",
     "text": [
      "\n",
      "use_cuda=True\n",
      "MLP Using Cuda\n",
      "hidden_sizes= [216, 195, 133, 128]\n",
      "100%|██████████| 50/50 [02:02<00:00,  2.45s/it]\n",
      "Simulating Surrogate Trajectory: \n",
      " 99%|█████████▉| 198/200 [00:21<00:00,  9.01it/s]"
     ]
    },
    {
     "name": "stderr",
     "output_type": "stream",
     "text": [
      "INFO:smac.intensification.intensification.Intensifier:Wallclock time limit for intensification reached (used: 144.772907 sec, available: 0.000010 sec)\n"
     ]
    },
    {
     "name": "stdout",
     "output_type": "stream",
     "text": [
      "\n",
      "use_cuda=True\n",
      "MLP Using Cuda\n",
      "hidden_sizes= [196, 252, 136, 180]\n",
      "100%|██████████| 50/50 [02:04<00:00,  2.48s/it]\n",
      "Simulating Surrogate Trajectory: \n",
      " 99%|█████████▉| 198/200 [00:51<00:00,  3.88it/s]"
     ]
    },
    {
     "name": "stderr",
     "output_type": "stream",
     "text": [
      "INFO:smac.intensification.intensification.Intensifier:Wallclock time limit for intensification reached (used: 175.160042 sec, available: 0.000010 sec)\n"
     ]
    },
    {
     "name": "stdout",
     "output_type": "stream",
     "text": [
      "\n",
      "use_cuda=True\n",
      "MLP Using Cuda\n",
      "hidden_sizes= [198, 210, 128, 91]\n",
      "100%|██████████| 50/50 [02:05<00:00,  2.52s/it]\n",
      "Simulating Surrogate Trajectory: \n",
      " 99%|█████████▉| 198/200 [00:19<00:00, 10.13it/s]"
     ]
    },
    {
     "name": "stderr",
     "output_type": "stream",
     "text": [
      "INFO:smac.intensification.intensification.Intensifier:Wallclock time limit for intensification reached (used: 145.366996 sec, available: 0.000010 sec)\n"
     ]
    },
    {
     "name": "stdout",
     "output_type": "stream",
     "text": [
      "\n",
      "use_cuda=True\n",
      "MLP Using Cuda\n",
      "hidden_sizes= [217, 201, 141, 128]\n",
      "100%|██████████| 50/50 [02:06<00:00,  2.53s/it]\n",
      "Simulating Surrogate Trajectory: \n",
      " 99%|█████████▉| 198/200 [00:29<00:00,  6.68it/s]"
     ]
    },
    {
     "name": "stderr",
     "output_type": "stream",
     "text": [
      "INFO:smac.intensification.intensification.Intensifier:Wallclock time limit for intensification reached (used: 155.973379 sec, available: 0.000010 sec)\n"
     ]
    },
    {
     "name": "stdout",
     "output_type": "stream",
     "text": [
      "\n",
      "use_cuda=True\n",
      "MLP Using Cuda\n",
      "hidden_sizes= [211, 214, 128, 127]\n",
      "100%|██████████| 50/50 [02:05<00:00,  2.51s/it]\n",
      "Simulating Surrogate Trajectory: \n",
      " 99%|█████████▉| 198/200 [00:50<00:00,  3.93it/s]"
     ]
    },
    {
     "name": "stderr",
     "output_type": "stream",
     "text": [
      "INFO:smac.intensification.intensification.Intensifier:Wallclock time limit for intensification reached (used: 175.778768 sec, available: 0.000010 sec)\n"
     ]
    },
    {
     "name": "stdout",
     "output_type": "stream",
     "text": [
      "\n",
      "use_cuda=True\n",
      "MLP Using Cuda\n",
      "hidden_sizes= [242]\n",
      "100%|██████████| 50/50 [00:53<00:00,  1.07s/it]\n",
      "Simulating Surrogate Trajectory: \n",
      " 99%|█████████▉| 198/200 [00:05<00:00, 33.14it/s]"
     ]
    },
    {
     "name": "stderr",
     "output_type": "stream",
     "text": [
      "INFO:smac.intensification.intensification.Intensifier:Wallclock time limit for intensification reached (used: 59.594965 sec, available: 0.000010 sec)\n"
     ]
    },
    {
     "name": "stdout",
     "output_type": "stream",
     "text": [
      "\n",
      "use_cuda=True\n",
      "MLP Using Cuda\n",
      "hidden_sizes= [207, 195, 133, 132]\n",
      "100%|██████████| 50/50 [02:01<00:00,  2.43s/it]\n",
      "Simulating Surrogate Trajectory: \n",
      " 99%|█████████▉| 198/200 [00:22<00:00,  8.66it/s]"
     ]
    },
    {
     "name": "stderr",
     "output_type": "stream",
     "text": [
      "INFO:smac.intensification.intensification.Intensifier:Challenger (19.0000) is better than incumbent (20.0000) on 1 runs.\n",
      "INFO:smac.intensification.intensification.Intensifier:Changes in incumbent:\n",
      "INFO:smac.intensification.intensification.Intensifier:  _cost:dx_F : 0.0331453368865449 -> 0.16474309884250193\n",
      "INFO:smac.intensification.intensification.Intensifier:  _cost:dx_Q : 0.21116140202670503 -> 0.16701636891200933\n",
      "INFO:smac.intensification.intensification.Intensifier:  _cost:omega_F : 7029.281830268212 -> 7573.617764178379\n",
      "INFO:smac.intensification.intensification.Intensifier:  _cost:omega_Q : 6.505862011541015 -> 53.82950627606125\n",
      "INFO:smac.intensification.intensification.Intensifier:  _cost:theta_F : 2.5769732757465196 -> 1.4764659154324962\n",
      "INFO:smac.intensification.intensification.Intensifier:  _cost:theta_Q : 333.4717469489376 -> 5933.622285774664\n",
      "INFO:smac.intensification.intensification.Intensifier:  _cost:u_R : 0.05663709167275694 -> 0.06560528370354286\n",
      "INFO:smac.intensification.intensification.Intensifier:  _cost:x_F : 0.007241747263897051 -> 0.011602722689024906\n",
      "INFO:smac.intensification.intensification.Intensifier:  _cost:x_Q : 0.003517842426772531 -> 0.003508163100562789\n",
      "INFO:smac.intensification.intensification.Intensifier:  _ctrlr:horizon : 23 -> 25\n",
      "INFO:smac.intensification.intensification.Intensifier:  _model:hidden_size_1 : 198 -> 207\n",
      "INFO:smac.intensification.intensification.Intensifier:  _model:hidden_size_2 : 197 -> 195\n",
      "INFO:smac.intensification.intensification.Intensifier:  _model:hidden_size_3 : 128 -> 133\n",
      "INFO:smac.intensification.intensification.Intensifier:  _model:hidden_size_4 : 124 -> 132\n",
      "INFO:smac.intensification.intensification.Intensifier:  _model:lr : 0.00014730804838332837 -> 0.0004089666352381428\n",
      "INFO:smac.intensification.intensification.Intensifier:Wallclock time limit for intensification reached (used: 144.588742 sec, available: 0.000010 sec)\n"
     ]
    },
    {
     "name": "stdout",
     "output_type": "stream",
     "text": [
      "\n",
      "use_cuda=True\n",
      "MLP Using Cuda\n",
      "hidden_sizes= [207, 202, 136, 132]\n",
      "100%|██████████| 50/50 [02:04<00:00,  2.48s/it]\n",
      "Simulating Surrogate Trajectory: \n",
      " 99%|█████████▉| 198/200 [00:32<00:00,  6.02it/s]"
     ]
    },
    {
     "name": "stderr",
     "output_type": "stream",
     "text": [
      "INFO:smac.intensification.intensification.Intensifier:Wallclock time limit for intensification reached (used: 157.003958 sec, available: 0.000010 sec)\n"
     ]
    },
    {
     "name": "stdout",
     "output_type": "stream",
     "text": [
      "\n",
      "use_cuda=True\n",
      "MLP Using Cuda\n",
      "hidden_sizes= [199, 195, 112, 132]\n",
      "100%|██████████| 50/50 [02:05<00:00,  2.50s/it]\n",
      "Simulating Surrogate Trajectory: \n",
      " 99%|█████████▉| 198/200 [00:21<00:00,  9.35it/s]\n"
     ]
    },
    {
     "name": "stderr",
     "output_type": "stream",
     "text": [
      "INFO:smac.intensification.intensification.Intensifier:Wallclock time limit for intensification reached (used: 146.280861 sec, available: 0.000010 sec)\n"
     ]
    },
    {
     "name": "stdout",
     "output_type": "stream",
     "text": [
      "use_cuda=True\n",
      "MLP Using Cuda\n",
      "hidden_sizes= [133, 195, 112, 137]\n",
      "100%|██████████| 50/50 [02:01<00:00,  2.43s/it]\n",
      "Simulating Surrogate Trajectory: \n",
      " 99%|█████████▉| 198/200 [00:21<00:00,  9.21it/s]"
     ]
    },
    {
     "name": "stderr",
     "output_type": "stream",
     "text": [
      "INFO:smac.intensification.intensification.Intensifier:Wallclock time limit for intensification reached (used: 142.942552 sec, available: 0.000010 sec)\n"
     ]
    },
    {
     "name": "stdout",
     "output_type": "stream",
     "text": [
      "\n",
      "use_cuda=True\n",
      "MLP Using Cuda\n",
      "hidden_sizes= [202, 195, 106, 115]\n",
      "100%|██████████| 50/50 [02:03<00:00,  2.47s/it]\n",
      "Simulating Surrogate Trajectory: \n",
      " 99%|█████████▉| 198/200 [00:19<00:00,  9.96it/s]"
     ]
    },
    {
     "name": "stderr",
     "output_type": "stream",
     "text": [
      "INFO:smac.intensification.intensification.Intensifier:Wallclock time limit for intensification reached (used: 143.563499 sec, available: 0.000010 sec)\n"
     ]
    },
    {
     "name": "stdout",
     "output_type": "stream",
     "text": [
      "\n",
      "use_cuda=True\n",
      "MLP Using Cuda\n",
      "hidden_sizes= [199, 205, 132, 144]\n",
      "100%|██████████| 50/50 [02:03<00:00,  2.48s/it]\n",
      "Simulating Surrogate Trajectory: \n",
      " 99%|█████████▉| 198/200 [00:21<00:00,  9.12it/s]"
     ]
    },
    {
     "name": "stderr",
     "output_type": "stream",
     "text": [
      "INFO:smac.intensification.intensification.Intensifier:Challenger (18.0000) is better than incumbent (19.0000) on 1 runs.\n",
      "INFO:smac.intensification.intensification.Intensifier:Changes in incumbent:\n",
      "INFO:smac.intensification.intensification.Intensifier:  _cost:dx_F : 0.16474309884250193 -> 0.0025735397668133608\n",
      "INFO:smac.intensification.intensification.Intensifier:  _cost:dx_Q : 0.16701636891200933 -> 0.6203655997769277\n",
      "INFO:smac.intensification.intensification.Intensifier:  _cost:omega_F : 7573.617764178379 -> 8359.436202123476\n",
      "INFO:smac.intensification.intensification.Intensifier:  _cost:omega_Q : 53.82950627606125 -> 23.714515176435285\n",
      "INFO:smac.intensification.intensification.Intensifier:  _cost:theta_F : 1.4764659154324962 -> 0.1340738005224538\n",
      "INFO:smac.intensification.intensification.Intensifier:  _cost:theta_Q : 5933.622285774664 -> 2037.964957127947\n",
      "INFO:smac.intensification.intensification.Intensifier:  _cost:u_R : 0.06560528370354286 -> 0.04768056198609592\n",
      "INFO:smac.intensification.intensification.Intensifier:  _cost:x_F : 0.011602722689024906 -> 0.015679373109358446\n",
      "INFO:smac.intensification.intensification.Intensifier:  _ctrlr:horizon : 25 -> 5\n",
      "INFO:smac.intensification.intensification.Intensifier:  _model:hidden_size_1 : 207 -> 199\n",
      "INFO:smac.intensification.intensification.Intensifier:  _model:hidden_size_2 : 195 -> 205\n",
      "INFO:smac.intensification.intensification.Intensifier:  _model:hidden_size_3 : 133 -> 132\n",
      "INFO:smac.intensification.intensification.Intensifier:  _model:hidden_size_4 : 132 -> 144\n",
      "INFO:smac.intensification.intensification.Intensifier:  _model:lr : 0.0004089666352381428 -> 0.00022722056486977263\n",
      "INFO:smac.intensification.intensification.Intensifier:Wallclock time limit for intensification reached (used: 145.569178 sec, available: 0.000010 sec)\n"
     ]
    },
    {
     "name": "stdout",
     "output_type": "stream",
     "text": [
      "\n",
      "use_cuda=True\n",
      "MLP Using Cuda\n",
      "hidden_sizes= [200, 199, 125, 151]\n",
      "100%|██████████| 50/50 [02:05<00:00,  2.51s/it]\n",
      "Simulating Surrogate Trajectory: \n",
      " 99%|█████████▉| 198/200 [00:52<00:00,  3.79it/s]"
     ]
    },
    {
     "name": "stderr",
     "output_type": "stream",
     "text": [
      "INFO:smac.intensification.intensification.Intensifier:Wallclock time limit for intensification reached (used: 177.520091 sec, available: 0.000010 sec)\n"
     ]
    },
    {
     "name": "stdout",
     "output_type": "stream",
     "text": [
      "\n",
      "use_cuda=True\n",
      "MLP Using Cuda\n",
      "hidden_sizes= [210, 205, 132, 144]\n",
      "100%|██████████| 50/50 [02:05<00:00,  2.52s/it]\n",
      "Simulating Surrogate Trajectory: \n",
      " 99%|█████████▉| 198/200 [00:18<00:00, 10.76it/s]"
     ]
    },
    {
     "name": "stderr",
     "output_type": "stream",
     "text": [
      "INFO:smac.intensification.intensification.Intensifier:Wallclock time limit for intensification reached (used: 144.237657 sec, available: 0.000010 sec)\n"
     ]
    },
    {
     "name": "stdout",
     "output_type": "stream",
     "text": [
      "\n",
      "use_cuda=True\n",
      "MLP Using Cuda\n",
      "hidden_sizes= [201, 209, 75, 142]\n",
      "100%|██████████| 50/50 [02:04<00:00,  2.50s/it]\n",
      "Simulating Surrogate Trajectory: \n",
      " 99%|█████████▉| 198/200 [00:23<00:00,  8.39it/s]"
     ]
    },
    {
     "name": "stderr",
     "output_type": "stream",
     "text": [
      "INFO:smac.intensification.intensification.Intensifier:Wallclock time limit for intensification reached (used: 148.426855 sec, available: 0.000010 sec)\n"
     ]
    },
    {
     "name": "stdout",
     "output_type": "stream",
     "text": [
      "\n",
      "use_cuda=True\n",
      "MLP Using Cuda\n",
      "hidden_sizes= [185, 195, 133, 132]\n",
      "100%|██████████| 50/50 [02:04<00:00,  2.49s/it]\n",
      "Simulating Surrogate Trajectory: \n",
      " 99%|█████████▉| 198/200 [00:20<00:00,  9.66it/s]"
     ]
    },
    {
     "name": "stderr",
     "output_type": "stream",
     "text": [
      "INFO:smac.intensification.intensification.Intensifier:Wallclock time limit for intensification reached (used: 145.128580 sec, available: 0.000010 sec)\n"
     ]
    },
    {
     "name": "stdout",
     "output_type": "stream",
     "text": [
      "\n",
      "use_cuda=True\n",
      "MLP Using Cuda\n",
      "hidden_sizes= [172, 206, 136, 165]\n",
      "100%|██████████| 50/50 [02:03<00:00,  2.47s/it]\n",
      "Simulating Surrogate Trajectory: \n",
      " 99%|█████████▉| 198/200 [00:20<00:00,  9.72it/s]"
     ]
    },
    {
     "name": "stderr",
     "output_type": "stream",
     "text": [
      "INFO:smac.intensification.intensification.Intensifier:Wallclock time limit for intensification reached (used: 143.815496 sec, available: 0.000010 sec)\n"
     ]
    },
    {
     "name": "stdout",
     "output_type": "stream",
     "text": [
      "\n",
      "use_cuda=True\n",
      "MLP Using Cuda\n",
      "hidden_sizes= [67, 72]\n",
      "100%|██████████| 50/50 [01:21<00:00,  1.63s/it]\n",
      "Simulating Surrogate Trajectory: \n",
      " 99%|█████████▉| 198/200 [00:23<00:00,  8.37it/s]\n"
     ]
    },
    {
     "name": "stderr",
     "output_type": "stream",
     "text": [
      "INFO:smac.intensification.intensification.Intensifier:Wallclock time limit for intensification reached (used: 105.086557 sec, available: 0.000010 sec)\n"
     ]
    },
    {
     "name": "stdout",
     "output_type": "stream",
     "text": [
      "use_cuda=True\n",
      "MLP Using Cuda\n",
      "hidden_sizes= [184, 171]\n",
      "100%|██████████| 50/50 [01:22<00:00,  1.65s/it]\n",
      "Simulating Surrogate Trajectory: \n",
      "  2%|▏         | 4/200 [00:00<00:05, 33.60it/s]"
     ]
    },
    {
     "name": "stderr",
     "output_type": "stream",
     "text": [
      "/home/william/proj/autompc_dev/autompc/control/ilqr.py:525: RuntimeWarning: invalid value encountered in double_scalars\n",
      "  if (obj - new_obj) / (-expect_cost_reduction) > ls_cost_threshold:\n"
     ]
    },
    {
     "name": "stdout",
     "output_type": "stream",
     "text": [
      " 99%|█████████▉| 198/200 [00:04<00:00, 42.52it/s]"
     ]
    },
    {
     "name": "stderr",
     "output_type": "stream",
     "text": [
      "INFO:smac.intensification.intensification.Intensifier:Wallclock time limit for intensification reached (used: 87.208483 sec, available: 0.000010 sec)\n"
     ]
    },
    {
     "name": "stdout",
     "output_type": "stream",
     "text": [
      "\n",
      "use_cuda=True\n",
      "MLP Using Cuda\n",
      "hidden_sizes= [133, 123, 133, 145]\n",
      "100%|██████████| 50/50 [02:03<00:00,  2.48s/it]\n",
      "Simulating Surrogate Trajectory: \n",
      " 99%|█████████▉| 198/200 [00:30<00:00,  6.49it/s]"
     ]
    },
    {
     "name": "stderr",
     "output_type": "stream",
     "text": [
      "INFO:smac.intensification.intensification.Intensifier:Wallclock time limit for intensification reached (used: 154.388788 sec, available: 0.000010 sec)\n"
     ]
    },
    {
     "name": "stdout",
     "output_type": "stream",
     "text": [
      "\n",
      "use_cuda=True\n",
      "MLP Using Cuda\n",
      "hidden_sizes= [121]\n",
      "100%|██████████| 50/50 [00:52<00:00,  1.06s/it]\n",
      "Simulating Surrogate Trajectory: \n",
      " 99%|█████████▉| 198/200 [00:30<00:00,  6.46it/s]"
     ]
    },
    {
     "name": "stderr",
     "output_type": "stream",
     "text": [
      "INFO:smac.intensification.intensification.Intensifier:Wallclock time limit for intensification reached (used: 83.560260 sec, available: 0.000010 sec)\n"
     ]
    },
    {
     "name": "stdout",
     "output_type": "stream",
     "text": [
      "\n",
      "use_cuda=True\n",
      "MLP Using Cuda\n",
      "hidden_sizes= [185, 195, 133, 182]\n",
      "100%|██████████| 50/50 [02:03<00:00,  2.46s/it]\n",
      "Simulating Surrogate Trajectory: \n",
      " 99%|█████████▉| 198/200 [00:26<00:00,  7.52it/s]"
     ]
    },
    {
     "name": "stderr",
     "output_type": "stream",
     "text": [
      "INFO:smac.intensification.intensification.Intensifier:Wallclock time limit for intensification reached (used: 149.507636 sec, available: 0.000010 sec)\n"
     ]
    },
    {
     "name": "stdout",
     "output_type": "stream",
     "text": [
      "\n",
      "use_cuda=True\n",
      "MLP Using Cuda\n",
      "hidden_sizes= [199, 205, 132, 140]\n",
      "100%|██████████| 50/50 [01:56<00:00,  2.34s/it]\n",
      "Simulating Surrogate Trajectory: \n",
      " 99%|█████████▉| 198/200 [00:15<00:00, 12.51it/s]"
     ]
    },
    {
     "name": "stderr",
     "output_type": "stream",
     "text": [
      "INFO:smac.intensification.intensification.Intensifier:Wallclock time limit for intensification reached (used: 132.656988 sec, available: 0.000010 sec)\n"
     ]
    },
    {
     "name": "stdout",
     "output_type": "stream",
     "text": [
      "\n",
      "use_cuda=True\n",
      "MLP Using Cuda\n",
      "hidden_sizes= [145, 201, 134, 131]\n",
      "100%|██████████| 50/50 [01:55<00:00,  2.32s/it]\n",
      "Simulating Surrogate Trajectory: \n",
      " 99%|█████████▉| 198/200 [00:21<00:00,  9.42it/s]"
     ]
    },
    {
     "name": "stderr",
     "output_type": "stream",
     "text": [
      "INFO:smac.intensification.intensification.Intensifier:Wallclock time limit for intensification reached (used: 136.881388 sec, available: 0.000010 sec)\n"
     ]
    },
    {
     "name": "stdout",
     "output_type": "stream",
     "text": [
      "\n",
      "use_cuda=True\n",
      "MLP Using Cuda\n",
      "hidden_sizes= [59, 151]\n",
      "100%|██████████| 50/50 [01:21<00:00,  1.64s/it]\n",
      "Simulating Surrogate Trajectory: \n",
      " 99%|█████████▉| 198/200 [00:06<00:00, 28.98it/s]"
     ]
    },
    {
     "name": "stderr",
     "output_type": "stream",
     "text": [
      "INFO:smac.intensification.intensification.Intensifier:Wallclock time limit for intensification reached (used: 88.674380 sec, available: 0.000010 sec)\n"
     ]
    },
    {
     "name": "stdout",
     "output_type": "stream",
     "text": [
      "\n",
      "use_cuda=True\n",
      "MLP Using Cuda\n",
      "hidden_sizes= [196, 195, 135, 132]\n",
      "100%|██████████| 50/50 [01:55<00:00,  2.30s/it]\n",
      "Simulating Surrogate Trajectory: \n",
      " 99%|█████████▉| 198/200 [00:37<00:00,  5.28it/s]"
     ]
    },
    {
     "name": "stderr",
     "output_type": "stream",
     "text": [
      "INFO:smac.intensification.intensification.Intensifier:Wallclock time limit for intensification reached (used: 152.619355 sec, available: 0.000010 sec)\n"
     ]
    },
    {
     "name": "stdout",
     "output_type": "stream",
     "text": [
      "\n",
      "use_cuda=True\n",
      "MLP Using Cuda\n",
      "hidden_sizes= [171, 205, 145, 164]\n",
      "100%|██████████| 50/50 [02:01<00:00,  2.43s/it]\n",
      "Simulating Surrogate Trajectory: \n",
      " 99%|█████████▉| 198/200 [00:54<00:00,  3.66it/s]"
     ]
    },
    {
     "name": "stderr",
     "output_type": "stream",
     "text": [
      "INFO:smac.intensification.intensification.Intensifier:Wallclock time limit for intensification reached (used: 175.638343 sec, available: 0.000010 sec)\n"
     ]
    },
    {
     "name": "stdout",
     "output_type": "stream",
     "text": [
      "\n",
      "use_cuda=True\n",
      "MLP Using Cuda\n",
      "hidden_sizes= [201]\n",
      "100%|██████████| 50/50 [00:53<00:00,  1.07s/it]\n",
      "Simulating Surrogate Trajectory: \n",
      " 99%|█████████▉| 198/200 [00:24<00:00,  8.02it/s]"
     ]
    },
    {
     "name": "stderr",
     "output_type": "stream",
     "text": [
      "INFO:smac.intensification.intensification.Intensifier:Wallclock time limit for intensification reached (used: 78.154938 sec, available: 0.000010 sec)\n"
     ]
    },
    {
     "name": "stdout",
     "output_type": "stream",
     "text": [
      "\n",
      "use_cuda=True\n",
      "MLP Using Cuda\n",
      "hidden_sizes= [174, 207, 128, 157]\n",
      "100%|██████████| 50/50 [02:04<00:00,  2.49s/it]\n",
      "Simulating Surrogate Trajectory: \n",
      " 99%|█████████▉| 198/200 [00:29<00:00,  6.68it/s]"
     ]
    },
    {
     "name": "stderr",
     "output_type": "stream",
     "text": [
      "INFO:smac.intensification.intensification.Intensifier:Wallclock time limit for intensification reached (used: 154.309821 sec, available: 0.000010 sec)\n"
     ]
    },
    {
     "name": "stdout",
     "output_type": "stream",
     "text": [
      "\n",
      "use_cuda=True\n",
      "MLP Using Cuda\n",
      "hidden_sizes= [171, 143, 114, 142]\n",
      "100%|██████████| 50/50 [02:05<00:00,  2.51s/it]\n",
      "Simulating Surrogate Trajectory: \n",
      " 99%|█████████▉| 198/200 [00:31<00:00,  6.39it/s]"
     ]
    },
    {
     "name": "stderr",
     "output_type": "stream",
     "text": [
      "INFO:smac.intensification.intensification.Intensifier:Wallclock time limit for intensification reached (used: 156.459113 sec, available: 0.000010 sec)\n"
     ]
    },
    {
     "name": "stdout",
     "output_type": "stream",
     "text": [
      "\n",
      "use_cuda=True\n",
      "MLP Using Cuda\n",
      "hidden_sizes= [144]\n",
      "100%|██████████| 50/50 [00:53<00:00,  1.06s/it]\n",
      "Simulating Surrogate Trajectory: \n",
      " 99%|█████████▉| 198/200 [00:08<00:00, 23.77it/s]"
     ]
    },
    {
     "name": "stderr",
     "output_type": "stream",
     "text": [
      "INFO:smac.intensification.intensification.Intensifier:Wallclock time limit for intensification reached (used: 61.617160 sec, available: 0.000010 sec)\n"
     ]
    },
    {
     "name": "stdout",
     "output_type": "stream",
     "text": [
      "\n",
      "use_cuda=True\n",
      "MLP Using Cuda\n",
      "hidden_sizes= [185, 210, 128, 144]\n",
      "100%|██████████| 50/50 [02:03<00:00,  2.47s/it]\n",
      "Simulating Surrogate Trajectory: \n",
      " 99%|█████████▉| 198/200 [00:29<00:00,  6.72it/s]"
     ]
    },
    {
     "name": "stderr",
     "output_type": "stream",
     "text": [
      "INFO:smac.intensification.intensification.Intensifier:Wallclock time limit for intensification reached (used: 152.849458 sec, available: 0.000010 sec)\n"
     ]
    },
    {
     "name": "stdout",
     "output_type": "stream",
     "text": [
      "\n",
      "use_cuda=True\n",
      "MLP Using Cuda\n",
      "hidden_sizes= [115, 61, 33]\n",
      "100%|██████████| 50/50 [01:41<00:00,  2.03s/it]\n",
      "Simulating Surrogate Trajectory: \n",
      " 99%|█████████▉| 198/200 [00:07<00:00, 26.04it/s]"
     ]
    },
    {
     "name": "stderr",
     "output_type": "stream",
     "text": [
      "INFO:smac.intensification.intensification.Intensifier:Wallclock time limit for intensification reached (used: 109.248105 sec, available: 0.000010 sec)\n"
     ]
    },
    {
     "name": "stdout",
     "output_type": "stream",
     "text": [
      "\n",
      "use_cuda=True\n",
      "MLP Using Cuda\n",
      "hidden_sizes= [168, 207, 136, 157]\n",
      "100%|██████████| 50/50 [02:02<00:00,  2.45s/it]\n",
      "Simulating Surrogate Trajectory: \n",
      " 99%|█████████▉| 198/200 [00:16<00:00, 11.89it/s]"
     ]
    },
    {
     "name": "stderr",
     "output_type": "stream",
     "text": [
      "INFO:smac.intensification.intensification.Intensifier:Wallclock time limit for intensification reached (used: 139.433485 sec, available: 0.000010 sec)\n"
     ]
    },
    {
     "name": "stdout",
     "output_type": "stream",
     "text": [
      "\n",
      "use_cuda=True\n",
      "MLP Using Cuda\n",
      "hidden_sizes= [70]\n",
      "100%|██████████| 50/50 [00:51<00:00,  1.04s/it]\n",
      "Simulating Surrogate Trajectory: \n",
      " 99%|█████████▉| 198/200 [01:07<00:00,  2.93it/s]"
     ]
    },
    {
     "name": "stderr",
     "output_type": "stream",
     "text": [
      "INFO:smac.intensification.intensification.Intensifier:Wallclock time limit for intensification reached (used: 119.406998 sec, available: 0.000010 sec)\n"
     ]
    },
    {
     "name": "stdout",
     "output_type": "stream",
     "text": [
      "\n",
      "use_cuda=True\n",
      "MLP Using Cuda\n",
      "hidden_sizes= [193, 198, 138, 132]\n",
      "100%|██████████| 50/50 [02:05<00:00,  2.50s/it]\n",
      "Simulating Surrogate Trajectory: \n",
      " 99%|█████████▉| 198/200 [00:23<00:00,  8.34it/s]"
     ]
    },
    {
     "name": "stderr",
     "output_type": "stream",
     "text": [
      "INFO:smac.intensification.intensification.Intensifier:Wallclock time limit for intensification reached (used: 148.927888 sec, available: 0.000010 sec)\n"
     ]
    },
    {
     "name": "stdout",
     "output_type": "stream",
     "text": [
      "\n",
      "use_cuda=True\n",
      "MLP Using Cuda\n",
      "hidden_sizes= [28, 203]\n",
      "100%|██████████| 50/50 [01:21<00:00,  1.63s/it]\n",
      "Simulating Surrogate Trajectory: \n",
      " 99%|█████████▉| 198/200 [00:04<00:00, 42.52it/s]"
     ]
    },
    {
     "name": "stderr",
     "output_type": "stream",
     "text": [
      "INFO:smac.intensification.intensification.Intensifier:Wallclock time limit for intensification reached (used: 86.338619 sec, available: 0.000010 sec)\n"
     ]
    },
    {
     "name": "stdout",
     "output_type": "stream",
     "text": [
      "\n",
      "use_cuda=True\n",
      "MLP Using Cuda\n",
      "hidden_sizes= [207, 210, 133, 148]\n",
      "100%|██████████| 50/50 [02:04<00:00,  2.49s/it]\n",
      "Simulating Surrogate Trajectory: \n",
      " 99%|█████████▉| 198/200 [00:11<00:00, 16.98it/s]"
     ]
    },
    {
     "name": "stderr",
     "output_type": "stream",
     "text": [
      "INFO:smac.intensification.intensification.Intensifier:Wallclock time limit for intensification reached (used: 136.009531 sec, available: 0.000010 sec)\n"
     ]
    },
    {
     "name": "stdout",
     "output_type": "stream",
     "text": [
      "\n",
      "use_cuda=True\n",
      "MLP Using Cuda\n",
      "hidden_sizes= [74]\n",
      "100%|██████████| 50/50 [00:51<00:00,  1.03s/it]\n",
      "Simulating Surrogate Trajectory: \n",
      " 99%|█████████▉| 198/200 [01:15<00:00,  2.61it/s]"
     ]
    },
    {
     "name": "stderr",
     "output_type": "stream",
     "text": [
      "INFO:smac.intensification.intensification.Intensifier:Wallclock time limit for intensification reached (used: 127.383048 sec, available: 0.000010 sec)\n"
     ]
    },
    {
     "name": "stdout",
     "output_type": "stream",
     "text": [
      "\n",
      "use_cuda=True\n",
      "MLP Using Cuda\n",
      "hidden_sizes= [156]\n",
      "100%|██████████| 50/50 [00:52<00:00,  1.05s/it]\n",
      "Simulating Surrogate Trajectory: \n",
      " 99%|█████████▉| 198/200 [01:04<00:00,  3.05it/s]"
     ]
    },
    {
     "name": "stderr",
     "output_type": "stream",
     "text": [
      "INFO:smac.intensification.intensification.Intensifier:Wallclock time limit for intensification reached (used: 117.527192 sec, available: 0.000010 sec)\n"
     ]
    },
    {
     "name": "stdout",
     "output_type": "stream",
     "text": [
      "\n",
      "use_cuda=True\n",
      "MLP Using Cuda\n",
      "hidden_sizes= [145, 208, 155, 131]\n",
      "100%|██████████| 50/50 [02:02<00:00,  2.45s/it]\n",
      "Simulating Surrogate Trajectory: \n",
      " 99%|█████████▉| 198/200 [00:18<00:00, 10.93it/s]"
     ]
    },
    {
     "name": "stderr",
     "output_type": "stream",
     "text": [
      "INFO:smac.intensification.intensification.Intensifier:Wallclock time limit for intensification reached (used: 140.901301 sec, available: 0.000010 sec)\n"
     ]
    },
    {
     "name": "stdout",
     "output_type": "stream",
     "text": [
      "\n",
      "use_cuda=True\n",
      "MLP Using Cuda\n",
      "hidden_sizes= [173, 207, 117, 182]\n",
      "100%|██████████| 50/50 [01:54<00:00,  2.29s/it]\n",
      "Simulating Surrogate Trajectory: \n",
      " 99%|█████████▉| 198/200 [00:44<00:00,  4.42it/s]"
     ]
    },
    {
     "name": "stderr",
     "output_type": "stream",
     "text": [
      "INFO:smac.intensification.intensification.Intensifier:Wallclock time limit for intensification reached (used: 159.205435 sec, available: 0.000010 sec)\n"
     ]
    },
    {
     "name": "stdout",
     "output_type": "stream",
     "text": [
      "\n",
      "use_cuda=True\n",
      "MLP Using Cuda\n",
      "hidden_sizes= [187, 209, 158, 146]\n",
      "100%|██████████| 50/50 [02:04<00:00,  2.50s/it]\n",
      "Simulating Surrogate Trajectory: \n",
      " 99%|█████████▉| 198/200 [00:22<00:00,  8.73it/s]"
     ]
    },
    {
     "name": "stderr",
     "output_type": "stream",
     "text": [
      "INFO:smac.intensification.intensification.Intensifier:Wallclock time limit for intensification reached (used: 147.721356 sec, available: 0.000010 sec)\n"
     ]
    },
    {
     "name": "stdout",
     "output_type": "stream",
     "text": [
      "\n",
      "use_cuda=True\n",
      "MLP Using Cuda\n",
      "hidden_sizes= [172, 206, 130, 168]\n",
      "100%|██████████| 50/50 [02:04<00:00,  2.49s/it]\n",
      "Simulating Surrogate Trajectory: \n",
      " 99%|█████████▉| 198/200 [01:12<00:00,  2.73it/s]"
     ]
    },
    {
     "name": "stderr",
     "output_type": "stream",
     "text": [
      "INFO:smac.intensification.intensification.Intensifier:Wallclock time limit for intensification reached (used: 197.183172 sec, available: 0.000010 sec)\n"
     ]
    },
    {
     "name": "stdout",
     "output_type": "stream",
     "text": [
      "\n",
      "use_cuda=True\n",
      "MLP Using Cuda\n",
      "hidden_sizes= [181, 172, 131, 109]\n",
      "100%|██████████| 50/50 [02:04<00:00,  2.49s/it]\n",
      "Simulating Surrogate Trajectory: \n",
      " 99%|█████████▉| 198/200 [00:31<00:00,  6.35it/s]"
     ]
    },
    {
     "name": "stderr",
     "output_type": "stream",
     "text": [
      "INFO:smac.intensification.intensification.Intensifier:Wallclock time limit for intensification reached (used: 155.942666 sec, available: 0.000010 sec)\n"
     ]
    },
    {
     "name": "stdout",
     "output_type": "stream",
     "text": [
      "\n",
      "use_cuda=True\n",
      "MLP Using Cuda\n",
      "hidden_sizes= [167, 226, 144, 121]\n",
      "100%|██████████| 50/50 [02:04<00:00,  2.50s/it]\n",
      "Simulating Surrogate Trajectory: \n",
      " 99%|█████████▉| 198/200 [01:55<00:01,  1.71it/s]"
     ]
    },
    {
     "name": "stderr",
     "output_type": "stream",
     "text": [
      "INFO:smac.intensification.intensification.Intensifier:Wallclock time limit for intensification reached (used: 240.610211 sec, available: 0.000010 sec)\n"
     ]
    },
    {
     "name": "stdout",
     "output_type": "stream",
     "text": [
      "\n",
      "use_cuda=True\n",
      "MLP Using Cuda\n",
      "hidden_sizes= [198, 198, 159, 132]\n",
      "100%|██████████| 50/50 [02:04<00:00,  2.48s/it]\n",
      "Simulating Surrogate Trajectory: \n",
      " 99%|█████████▉| 198/200 [00:57<00:00,  3.47it/s]"
     ]
    },
    {
     "name": "stderr",
     "output_type": "stream",
     "text": [
      "INFO:smac.intensification.intensification.Intensifier:Wallclock time limit for intensification reached (used: 181.216767 sec, available: 0.000010 sec)\n"
     ]
    },
    {
     "name": "stdout",
     "output_type": "stream",
     "text": [
      "\n",
      "use_cuda=True\n",
      "MLP Using Cuda\n",
      "hidden_sizes= [185, 210, 135, 156]\n",
      "100%|██████████| 50/50 [02:05<00:00,  2.51s/it]\n",
      "Simulating Surrogate Trajectory: \n",
      " 99%|█████████▉| 198/200 [01:00<00:00,  3.29it/s]"
     ]
    },
    {
     "name": "stderr",
     "output_type": "stream",
     "text": [
      "INFO:smac.intensification.intensification.Intensifier:Wallclock time limit for intensification reached (used: 185.566484 sec, available: 0.000010 sec)\n"
     ]
    },
    {
     "name": "stdout",
     "output_type": "stream",
     "text": [
      "\n",
      "use_cuda=True\n",
      "MLP Using Cuda\n",
      "hidden_sizes= [180, 136, 128]\n",
      "100%|██████████| 50/50 [01:41<00:00,  2.03s/it]\n",
      "Simulating Surrogate Trajectory: \n",
      " 99%|█████████▉| 198/200 [00:14<00:00, 13.97it/s]"
     ]
    },
    {
     "name": "stderr",
     "output_type": "stream",
     "text": [
      "INFO:smac.intensification.intensification.Intensifier:Wallclock time limit for intensification reached (used: 115.919398 sec, available: 0.000010 sec)\n"
     ]
    },
    {
     "name": "stdout",
     "output_type": "stream",
     "text": [
      "\n",
      "use_cuda=True\n",
      "MLP Using Cuda\n",
      "hidden_sizes= [157, 48]\n",
      "100%|██████████| 50/50 [01:21<00:00,  1.63s/it]\n",
      "Simulating Surrogate Trajectory: \n",
      " 99%|█████████▉| 198/200 [00:10<00:00, 19.41it/s]"
     ]
    },
    {
     "name": "stderr",
     "output_type": "stream",
     "text": [
      "INFO:smac.intensification.intensification.Intensifier:Wallclock time limit for intensification reached (used: 91.525110 sec, available: 0.000010 sec)\n"
     ]
    },
    {
     "name": "stdout",
     "output_type": "stream",
     "text": [
      "\n",
      "use_cuda=True\n",
      "MLP Using Cuda\n",
      "hidden_sizes= [175, 202, 113, 132]\n",
      "100%|██████████| 50/50 [02:05<00:00,  2.52s/it]\n",
      "Simulating Surrogate Trajectory: \n",
      " 99%|█████████▉| 198/200 [00:29<00:00,  6.68it/s]"
     ]
    },
    {
     "name": "stderr",
     "output_type": "stream",
     "text": [
      "INFO:smac.intensification.intensification.Intensifier:Wallclock time limit for intensification reached (used: 155.543865 sec, available: 0.000010 sec)\n"
     ]
    },
    {
     "name": "stdout",
     "output_type": "stream",
     "text": [
      "\n",
      "use_cuda=True\n",
      "MLP Using Cuda\n",
      "hidden_sizes= [145, 130]\n",
      "100%|██████████| 50/50 [01:21<00:00,  1.63s/it]\n",
      "Simulating Surrogate Trajectory: \n",
      " 99%|█████████▉| 198/200 [00:20<00:00,  9.57it/s]"
     ]
    },
    {
     "name": "stderr",
     "output_type": "stream",
     "text": [
      "INFO:smac.intensification.intensification.Intensifier:Wallclock time limit for intensification reached (used: 102.443050 sec, available: 0.000010 sec)\n"
     ]
    },
    {
     "name": "stdout",
     "output_type": "stream",
     "text": [
      "\n",
      "use_cuda=True\n",
      "MLP Using Cuda\n",
      "hidden_sizes= [191, 172, 125, 109]\n",
      "100%|██████████| 50/50 [02:03<00:00,  2.47s/it]\n",
      "Simulating Surrogate Trajectory: \n",
      " 99%|█████████▉| 198/200 [01:04<00:00,  3.07it/s]"
     ]
    },
    {
     "name": "stderr",
     "output_type": "stream",
     "text": [
      "INFO:smac.intensification.intensification.Intensifier:Wallclock time limit for intensification reached (used: 187.840149 sec, available: 0.000010 sec)\n",
      "INFO:smac.stats.stats.Stats:##########################################################\n",
      "INFO:smac.stats.stats.Stats:Statistics:\n",
      "INFO:smac.stats.stats.Stats:#Incumbent changed: 9\n",
      "INFO:smac.stats.stats.Stats:#Submitted target algorithm runs: 100 / 100.0\n",
      "INFO:smac.stats.stats.Stats:#Finished target algorithm runs: 100 / 100.0\n",
      "INFO:smac.stats.stats.Stats:#Configurations: 100\n",
      "INFO:smac.stats.stats.Stats:Used wallclock time: 13443.35 / inf sec \n",
      "INFO:smac.stats.stats.Stats:Used target algorithm runtime: 13326.83 / inf sec\n",
      "INFO:smac.stats.stats.Stats:##########################################################\n",
      "INFO:smac.facade.smac_hpo_facade.SMAC4HPO:Final Incumbent: Configuration:\n",
      "  _cost:dx_F, Value: 0.0025735397668133608\n",
      "  _cost:dx_Q, Value: 0.6203655997769277\n",
      "  _cost:omega_F, Value: 8359.436202123476\n",
      "  _cost:omega_Q, Value: 23.714515176435285\n",
      "  _cost:theta_F, Value: 0.1340738005224538\n",
      "  _cost:theta_Q, Value: 2037.964957127947\n",
      "  _cost:u_R, Value: 0.04768056198609592\n",
      "  _cost:x_F, Value: 0.015679373109358446\n",
      "  _cost:x_Q, Value: 0.003508163100562789\n",
      "  _ctrlr:horizon, Value: 5\n",
      "  _model:hidden_size_1, Value: 199\n",
      "  _model:hidden_size_2, Value: 205\n",
      "  _model:hidden_size_3, Value: 132\n",
      "  _model:hidden_size_4, Value: 144\n",
      "  _model:lr, Value: 0.00022722056486977263\n",
      "  _model:n_hidden_layers, Value: '4'\n",
      "  _model:nonlintype, Value: 'sigmoid'\n",
      "\n",
      "INFO:smac.facade.smac_hpo_facade.SMAC4HPO:Estimated cost of incumbent: 18.000000\n"
     ]
    },
    {
     "name": "stdout",
     "output_type": "stream",
     "text": [
      "\n",
      "use_cuda=True\n",
      "MLP Using Cuda\n",
      "hidden_sizes= [199, 205, 132, 144]\n",
      "100%|██████████| 50/50 [04:08<00:00,  4.96s/it]\n"
     ]
    }
   ],
   "source": [
    "from autompc.tuning import PipelineTuner\n",
    "\n",
    "surrogate_factory = MLPFactory(system)\n",
    "tuner = PipelineTuner(surrogate_mode=\"defaultcfg\", surrogate_factory=surrogate_factory, surrogate_split=0.5)\n",
    "\n",
    "controller, tune_result = tuner.run(pipeline, task, trajs, n_iters=100, rng=np.random.default_rng(100))"
   ]
  },
  {
   "cell_type": "markdown",
   "metadata": {},
   "source": [
    "We can also set the configuration of the surrogate model."
   ]
  },
  {
   "cell_type": "code",
   "execution_count": 7,
   "metadata": {},
   "outputs": [
    {
     "name": "stdout",
     "output_type": "stream",
     "text": [
      "use_cuda=True\n",
      "MLP Using Cuda\n",
      "hidden_sizes= [128, 128]\n",
      "100%|██████████| 50/50 [01:22<00:00,  1.66s/it]"
     ]
    },
    {
     "name": "stderr",
     "output_type": "stream",
     "text": [
      "INFO:smac.utils.io.cmd_reader.CMDReader:Output to smac3-output_2021-05-02_18:21:52_194294\n",
      "INFO:smac.facade.smac_hpo_facade.SMAC4HPO:Optimizing a deterministic scenario for quality without a tuner timeout - will make SMAC deterministic and only evaluate one configuration per iteration!\n",
      "INFO:smac.initial_design.sobol_design.SobolDesign:Running initial design for 25 configurations\n",
      "INFO:smac.facade.smac_hpo_facade.SMAC4HPO:<class 'smac.facade.smac_hpo_facade.SMAC4HPO'>\n",
      "INFO:smac.optimizer.smbo.SMBO:Running initial design\n",
      "INFO:smac.intensification.intensification.Intensifier:First run, no incumbent provided; challenger is assumed to be the incumbent\n"
     ]
    },
    {
     "name": "stdout",
     "output_type": "stream",
     "text": [
      "\n",
      "use_cuda=True\n",
      "MLP Using Cuda\n",
      "hidden_sizes= [136, 136, 136]\n",
      "100%|██████████| 50/50 [01:42<00:00,  2.04s/it]\n",
      "Simulating Surrogate Trajectory: \n",
      " 99%|█████████▉| 198/200 [00:09<00:00, 19.83it/s]\n",
      "Simulating True Dynamics Trajectory\n",
      " 99%|█████████▉| 198/200 [00:10<00:00, 19.67it/s]"
     ]
    },
    {
     "name": "stderr",
     "output_type": "stream",
     "text": [
      "INFO:smac.intensification.intensification.Intensifier:First run, no incumbent provided; challenger is assumed to be the incumbent\n",
      "INFO:smac.intensification.intensification.Intensifier:Updated estimated cost of incumbent on 1 runs: 200.0000\n"
     ]
    },
    {
     "name": "stdout",
     "output_type": "stream",
     "text": [
      "\n",
      "use_cuda=True\n",
      "MLP Using Cuda\n",
      "hidden_sizes= [76, 76]\n",
      "100%|██████████| 50/50 [01:20<00:00,  1.61s/it]\n",
      "Simulating Surrogate Trajectory: \n",
      "  4%|▍         | 9/200 [00:00<00:04, 40.37it/s]"
     ]
    },
    {
     "name": "stderr",
     "output_type": "stream",
     "text": [
      "/home/william/proj/autompc_dev/autompc/control/ilqr.py:525: RuntimeWarning: invalid value encountered in double_scalars\n",
      "  if (obj - new_obj) / (-expect_cost_reduction) > ls_cost_threshold:\n"
     ]
    },
    {
     "name": "stdout",
     "output_type": "stream",
     "text": [
      " 99%|█████████▉| 198/200 [00:04<00:00, 40.79it/s]\n",
      "Simulating True Dynamics Trajectory\n",
      " 99%|█████████▉| 198/200 [00:04<00:00, 42.42it/s]"
     ]
    },
    {
     "name": "stderr",
     "output_type": "stream",
     "text": [
      "INFO:smac.intensification.intensification.Intensifier:Wallclock time limit for intensification reached (used: 212.542222 sec, available: 0.000010 sec)\n"
     ]
    },
    {
     "name": "stdout",
     "output_type": "stream",
     "text": [
      "\n",
      "use_cuda=True\n",
      "MLP Using Cuda\n",
      "hidden_sizes= [196, 196, 76, 76]\n",
      "100%|██████████| 50/50 [02:05<00:00,  2.50s/it]\n",
      "Simulating Surrogate Trajectory: \n",
      " 99%|█████████▉| 198/200 [01:53<00:01,  1.74it/s]\n",
      "Simulating True Dynamics Trajectory\n",
      " 99%|█████████▉| 198/200 [01:49<00:01,  1.81it/s]"
     ]
    },
    {
     "name": "stderr",
     "output_type": "stream",
     "text": [
      "INFO:smac.intensification.intensification.Intensifier:Wallclock time limit for intensification reached (used: 348.106751 sec, available: 0.000010 sec)\n"
     ]
    },
    {
     "name": "stdout",
     "output_type": "stream",
     "text": [
      "\n",
      "use_cuda=True\n",
      "MLP Using Cuda\n",
      "hidden_sizes= [106]\n",
      "100%|██████████| 50/50 [00:53<00:00,  1.06s/it]\n",
      "Simulating Surrogate Trajectory: \n",
      " 99%|█████████▉| 198/200 [00:35<00:00,  5.51it/s]\n",
      "Simulating True Dynamics Trajectory\n",
      " 99%|█████████▉| 198/200 [00:49<00:00,  4.01it/s]"
     ]
    },
    {
     "name": "stderr",
     "output_type": "stream",
     "text": [
      "INFO:smac.intensification.intensification.Intensifier:Challenger (190.0000) is better than incumbent (200.0000) on 1 runs.\n",
      "INFO:smac.intensification.intensification.Intensifier:Changes in incumbent:\n",
      "INFO:smac.intensification.intensification.Intensifier:  _cost:dx_F : 3.1622776601683813 -> 0.4216965034285823\n",
      "INFO:smac.intensification.intensification.Intensifier:  _cost:dx_Q : 3.1622776601683813 -> 0.4216965034285823\n",
      "INFO:smac.intensification.intensification.Intensifier:  _cost:omega_F : 3.1622776601683813 -> 23.713737056616576\n",
      "INFO:smac.intensification.intensification.Intensifier:  _cost:omega_Q : 3.1622776601683813 -> 0.007498942093324564\n",
      "INFO:smac.intensification.intensification.Intensifier:  _cost:theta_F : 3.1622776601683813 -> 1333.5214321633246\n",
      "INFO:smac.intensification.intensification.Intensifier:  _cost:theta_Q : 3.1622776601683813 -> 1333.5214321633246\n",
      "INFO:smac.intensification.intensification.Intensifier:  _cost:u_R : 3.1622776601683813 -> 0.007498942093324564\n",
      "INFO:smac.intensification.intensification.Intensifier:  _cost:x_F : 3.1622776601683813 -> 23.713737056616576\n",
      "INFO:smac.intensification.intensification.Intensifier:  _cost:x_Q : 3.1622776601683813 -> 0.007498942093324564\n",
      "INFO:smac.intensification.intensification.Intensifier:  _ctrlr:horizon : 15 -> 23\n",
      "INFO:smac.intensification.intensification.Intensifier:  _model:hidden_size_1 : 136 -> 106\n",
      "INFO:smac.intensification.intensification.Intensifier:  _model:lr : 0.003162277660168379 -> 0.013335214321633242\n",
      "INFO:smac.intensification.intensification.Intensifier:  _model:n_hidden_layers : '3' -> '1'\n",
      "INFO:smac.intensification.intensification.Intensifier:  _model:nonlintype : 'sigmoid' -> 'tanh'\n",
      "INFO:smac.intensification.intensification.Intensifier:Wallclock time limit for intensification reached (used: 138.493045 sec, available: 0.000010 sec)\n"
     ]
    },
    {
     "name": "stdout",
     "output_type": "stream",
     "text": [
      "\n",
      "use_cuda=True\n",
      "MLP Using Cuda\n",
      "hidden_sizes= [226, 46, 166]\n",
      "100%|██████████| 50/50 [01:21<00:00,  1.63s/it]\n",
      "Simulating Surrogate Trajectory: \n",
      " 99%|█████████▉| 198/200 [00:10<00:00, 19.17it/s]\n",
      "Simulating True Dynamics Trajectory\n",
      " 99%|█████████▉| 198/200 [00:09<00:00, 21.45it/s]"
     ]
    },
    {
     "name": "stderr",
     "output_type": "stream",
     "text": [
      "INFO:smac.intensification.intensification.Intensifier:Wallclock time limit for intensification reached (used: 100.954030 sec, available: 0.000010 sec)\n"
     ]
    },
    {
     "name": "stdout",
     "output_type": "stream",
     "text": [
      "\n",
      "use_cuda=True\n",
      "MLP Using Cuda\n",
      "hidden_sizes= [46, 226]\n",
      "100%|██████████| 50/50 [01:21<00:00,  1.63s/it]\n",
      "Simulating Surrogate Trajectory: \n",
      " 99%|█████████▉| 198/200 [00:06<00:00, 28.61it/s]\n",
      "Simulating True Dynamics Trajectory\n",
      " 99%|█████████▉| 198/200 [00:06<00:00, 28.89it/s]"
     ]
    },
    {
     "name": "stderr",
     "output_type": "stream",
     "text": [
      "INFO:smac.intensification.intensification.Intensifier:Wallclock time limit for intensification reached (used: 95.244753 sec, available: 0.000010 sec)\n"
     ]
    },
    {
     "name": "stdout",
     "output_type": "stream",
     "text": [
      "\n",
      "use_cuda=True\n",
      "MLP Using Cuda\n",
      "hidden_sizes= [166, 106, 106, 226]\n",
      "100%|██████████| 50/50 [02:06<00:00,  2.53s/it]\n",
      "Simulating Surrogate Trajectory: \n",
      " 99%|█████████▉| 198/200 [00:05<00:00, 33.01it/s]\n",
      "Simulating True Dynamics Trajectory\n",
      " 99%|█████████▉| 198/200 [00:05<00:00, 33.45it/s]"
     ]
    },
    {
     "name": "stderr",
     "output_type": "stream",
     "text": [
      "INFO:smac.intensification.intensification.Intensifier:Wallclock time limit for intensification reached (used: 138.620123 sec, available: 0.000010 sec)\n"
     ]
    },
    {
     "name": "stdout",
     "output_type": "stream",
     "text": [
      "\n",
      "use_cuda=True\n",
      "MLP Using Cuda\n",
      "hidden_sizes= [181, 61, 181]\n",
      "100%|██████████| 50/50 [01:42<00:00,  2.06s/it]\n",
      "Simulating Surrogate Trajectory: \n",
      " 99%|█████████▉| 198/200 [00:05<00:00, 39.55it/s]\n",
      "Simulating True Dynamics Trajectory\n",
      " 99%|█████████▉| 198/200 [00:05<00:00, 37.95it/s]"
     ]
    },
    {
     "name": "stderr",
     "output_type": "stream",
     "text": [
      "INFO:smac.intensification.intensification.Intensifier:Wallclock time limit for intensification reached (used: 113.067304 sec, available: 0.000010 sec)\n"
     ]
    },
    {
     "name": "stdout",
     "output_type": "stream",
     "text": [
      "\n",
      "use_cuda=True\n",
      "MLP Using Cuda\n",
      "hidden_sizes= [61]\n",
      "100%|██████████| 50/50 [00:51<00:00,  1.02s/it]\n",
      "Simulating Surrogate Trajectory: \n",
      " 99%|█████████▉| 198/200 [00:20<00:00,  9.52it/s]\n",
      "Simulating True Dynamics Trajectory\n",
      " 99%|█████████▉| 198/200 [00:20<00:00,  9.45it/s]"
     ]
    },
    {
     "name": "stderr",
     "output_type": "stream",
     "text": [
      "INFO:smac.intensification.intensification.Intensifier:Wallclock time limit for intensification reached (used: 93.069191 sec, available: 0.000010 sec)\n"
     ]
    },
    {
     "name": "stdout",
     "output_type": "stream",
     "text": [
      "\n",
      "use_cuda=True\n",
      "MLP Using Cuda\n",
      "hidden_sizes= [241, 121, 121, 241]\n",
      "100%|██████████| 50/50 [02:02<00:00,  2.44s/it]\n",
      "Simulating Surrogate Trajectory: \n",
      " 99%|█████████▉| 198/200 [00:11<00:00, 17.85it/s]\n",
      "Simulating True Dynamics Trajectory\n",
      " 99%|█████████▉| 198/200 [00:11<00:00, 17.80it/s]"
     ]
    },
    {
     "name": "stderr",
     "output_type": "stream",
     "text": [
      "INFO:smac.intensification.intensification.Intensifier:Wallclock time limit for intensification reached (used: 144.481978 sec, available: 0.000010 sec)\n"
     ]
    },
    {
     "name": "stdout",
     "output_type": "stream",
     "text": [
      "\n",
      "use_cuda=True\n",
      "MLP Using Cuda\n",
      "hidden_sizes= [121, 241]\n",
      "100%|██████████| 50/50 [01:22<00:00,  1.64s/it]\n",
      "Simulating Surrogate Trajectory: \n",
      " 99%|█████████▉| 198/200 [00:35<00:00,  5.59it/s]\n",
      "Simulating True Dynamics Trajectory\n",
      " 99%|█████████▉| 198/200 [00:36<00:00,  5.43it/s]"
     ]
    },
    {
     "name": "stderr",
     "output_type": "stream",
     "text": [
      "INFO:smac.intensification.intensification.Intensifier:Wallclock time limit for intensification reached (used: 153.991201 sec, available: 0.000010 sec)\n"
     ]
    },
    {
     "name": "stdout",
     "output_type": "stream",
     "text": [
      "\n",
      "use_cuda=True\n",
      "MLP Using Cuda\n",
      "hidden_sizes= [211, 151, 151]\n",
      "100%|██████████| 50/50 [01:43<00:00,  2.06s/it]\n",
      "Simulating Surrogate Trajectory: \n",
      " 99%|█████████▉| 198/200 [01:16<00:00,  2.59it/s]\n",
      "Simulating True Dynamics Trajectory\n",
      " 99%|█████████▉| 198/200 [01:32<00:00,  2.15it/s]"
     ]
    },
    {
     "name": "stderr",
     "output_type": "stream",
     "text": [
      "INFO:smac.intensification.intensification.Intensifier:Challenger (23.0000) is better than incumbent (190.0000) on 1 runs.\n",
      "INFO:smac.intensification.intensification.Intensifier:Changes in incumbent:\n",
      "INFO:smac.intensification.intensification.Intensifier:  _cost:dx_F : 0.4216965034285823 -> 0.1539926526059493\n",
      "INFO:smac.intensification.intensification.Intensifier:  _cost:dx_Q : 0.4216965034285823 -> 0.020535250264571463\n",
      "INFO:smac.intensification.intensification.Intensifier:  _cost:omega_F : 23.713737056616576 -> 3651.7412725483823\n",
      "INFO:smac.intensification.intensification.Intensifier:  _cost:omega_Q : 0.007498942093324564 -> 8.659643233600653\n",
      "INFO:smac.intensification.intensification.Intensifier:  _cost:theta_F : 1333.5214321633246 -> 1.1547819846894585\n",
      "INFO:smac.intensification.intensification.Intensifier:  _cost:theta_Q : 1333.5214321633246 -> 486.9675251658636\n",
      "INFO:smac.intensification.intensification.Intensifier:  _cost:u_R : 0.007498942093324564 -> 0.020535250264571463\n",
      "INFO:smac.intensification.intensification.Intensifier:  _cost:x_F : 23.713737056616576 -> 0.1539926526059493\n",
      "INFO:smac.intensification.intensification.Intensifier:  _cost:x_Q : 0.007498942093324564 -> 0.0027384196342643626\n",
      "INFO:smac.intensification.intensification.Intensifier:  _ctrlr:horizon : 23 -> 24\n",
      "INFO:smac.intensification.intensification.Intensifier:  _model:hidden_size_1 : 106 -> 211\n",
      "INFO:smac.intensification.intensification.Intensifier:  _model:hidden_size_2 : None -> 151\n",
      "INFO:smac.intensification.intensification.Intensifier:  _model:hidden_size_3 : None -> 151\n",
      "INFO:smac.intensification.intensification.Intensifier:  _model:lr : 0.013335214321633242 -> 0.0015399265260594922\n",
      "INFO:smac.intensification.intensification.Intensifier:  _model:n_hidden_layers : '1' -> '3'\n",
      "INFO:smac.intensification.intensification.Intensifier:  _model:nonlintype : 'tanh' -> 'selu'\n",
      "INFO:smac.intensification.intensification.Intensifier:Wallclock time limit for intensification reached (used: 271.803950 sec, available: 0.000010 sec)\n"
     ]
    },
    {
     "name": "stdout",
     "output_type": "stream",
     "text": [
      "\n",
      "use_cuda=True\n",
      "MLP Using Cuda\n",
      "hidden_sizes= [91]\n",
      "100%|██████████| 50/50 [00:52<00:00,  1.06s/it]\n",
      "Simulating Surrogate Trajectory: \n",
      " 99%|█████████▉| 198/200 [01:41<00:01,  1.94it/s]\n",
      "Simulating True Dynamics Trajectory\n",
      " 99%|█████████▉| 198/200 [01:41<00:01,  1.96it/s]"
     ]
    },
    {
     "name": "stderr",
     "output_type": "stream",
     "text": [
      "INFO:smac.intensification.intensification.Intensifier:Wallclock time limit for intensification reached (used: 255.985457 sec, available: 0.000010 sec)\n"
     ]
    },
    {
     "name": "stdout",
     "output_type": "stream",
     "text": [
      "\n",
      "use_cuda=True\n",
      "MLP Using Cuda\n",
      "hidden_sizes= [151, 211, 91, 91]\n",
      "100%|██████████| 50/50 [02:00<00:00,  2.41s/it]\n",
      "Simulating Surrogate Trajectory: \n",
      " 99%|█████████▉| 198/200 [00:08<00:00, 23.41it/s]\n",
      "Simulating True Dynamics Trajectory\n",
      " 99%|█████████▉| 198/200 [00:08<00:00, 23.11it/s]"
     ]
    },
    {
     "name": "stderr",
     "output_type": "stream",
     "text": [
      "INFO:smac.intensification.intensification.Intensifier:Wallclock time limit for intensification reached (used: 137.343280 sec, available: 0.000010 sec)\n"
     ]
    },
    {
     "name": "stdout",
     "output_type": "stream",
     "text": [
      "\n",
      "use_cuda=True\n",
      "MLP Using Cuda\n",
      "hidden_sizes= [31, 91]\n",
      "100%|██████████| 50/50 [01:22<00:00,  1.64s/it]\n",
      "Simulating Surrogate Trajectory: \n",
      " 99%|█████████▉| 198/200 [00:09<00:00, 21.91it/s]\n",
      "Simulating True Dynamics Trajectory\n",
      " 99%|█████████▉| 198/200 [00:08<00:00, 22.28it/s]"
     ]
    },
    {
     "name": "stderr",
     "output_type": "stream",
     "text": [
      "INFO:smac.intensification.intensification.Intensifier:Wallclock time limit for intensification reached (used: 100.122871 sec, available: 0.000010 sec)\n"
     ]
    },
    {
     "name": "stdout",
     "output_type": "stream",
     "text": [
      "\n",
      "use_cuda=True\n",
      "MLP Using Cuda\n",
      "hidden_sizes= [113, 204, 144, 38]\n",
      "100%|██████████| 50/50 [02:08<00:00,  2.58s/it]\n",
      "Simulating Surrogate Trajectory: \n",
      " 99%|█████████▉| 198/200 [00:06<00:00, 32.97it/s]\n",
      "Simulating True Dynamics Trajectory\n",
      " 99%|█████████▉| 198/200 [00:06<00:00, 32.81it/s]"
     ]
    },
    {
     "name": "stderr",
     "output_type": "stream",
     "text": [
      "INFO:smac.intensification.intensification.Intensifier:Wallclock time limit for intensification reached (used: 140.939312 sec, available: 0.000010 sec)\n"
     ]
    },
    {
     "name": "stdout",
     "output_type": "stream",
     "text": [
      "\n",
      "use_cuda=True\n",
      "MLP Using Cuda\n",
      "hidden_sizes= [234, 83]\n",
      "100%|██████████| 50/50 [01:22<00:00,  1.65s/it]\n",
      "Simulating Surrogate Trajectory: \n",
      " 99%|█████████▉| 198/200 [01:45<00:01,  1.87it/s]\n",
      "Simulating True Dynamics Trajectory\n",
      " 99%|█████████▉| 198/200 [01:31<00:00,  2.18it/s]"
     ]
    },
    {
     "name": "stderr",
     "output_type": "stream",
     "text": [
      "INFO:smac.intensification.intensification.Intensifier:Wallclock time limit for intensification reached (used: 279.681168 sec, available: 0.000010 sec)\n"
     ]
    },
    {
     "name": "stdout",
     "output_type": "stream",
     "text": [
      "\n",
      "use_cuda=True\n",
      "MLP Using Cuda\n",
      "hidden_sizes= [53, 144, 83]\n",
      "100%|██████████| 50/50 [01:44<00:00,  2.08s/it]\n",
      "Simulating Surrogate Trajectory: \n",
      " 99%|█████████▉| 198/200 [01:18<00:00,  2.54it/s]\n",
      "Simulating True Dynamics Trajectory\n",
      " 99%|█████████▉| 198/200 [01:10<00:00,  2.79it/s]"
     ]
    },
    {
     "name": "stderr",
     "output_type": "stream",
     "text": [
      "INFO:smac.intensification.intensification.Intensifier:Wallclock time limit for intensification reached (used: 253.154115 sec, available: 0.000010 sec)\n"
     ]
    },
    {
     "name": "stdout",
     "output_type": "stream",
     "text": [
      "\n",
      "use_cuda=True\n",
      "MLP Using Cuda\n",
      "hidden_sizes= [174]\n",
      "100%|██████████| 50/50 [00:54<00:00,  1.08s/it]\n",
      "Simulating Surrogate Trajectory: \n",
      " 99%|█████████▉| 198/200 [00:06<00:00, 32.77it/s]\n",
      "Simulating True Dynamics Trajectory\n",
      " 99%|█████████▉| 198/200 [00:06<00:00, 32.61it/s]"
     ]
    },
    {
     "name": "stderr",
     "output_type": "stream",
     "text": [
      "INFO:smac.intensification.intensification.Intensifier:Wallclock time limit for intensification reached (used: 66.192943 sec, available: 0.000010 sec)\n"
     ]
    },
    {
     "name": "stdout",
     "output_type": "stream",
     "text": [
      "\n",
      "use_cuda=True\n",
      "MLP Using Cuda\n",
      "hidden_sizes= [23, 113, 174, 189]\n",
      "100%|██████████| 50/50 [02:09<00:00,  2.59s/it]\n",
      "Simulating Surrogate Trajectory: \n",
      " 99%|█████████▉| 198/200 [00:13<00:00, 14.95it/s]\n",
      "Simulating True Dynamics Trajectory\n",
      " 99%|█████████▉| 198/200 [00:16<00:00, 12.20it/s]"
     ]
    },
    {
     "name": "stderr",
     "output_type": "stream",
     "text": [
      "INFO:smac.intensification.intensification.Intensifier:Wallclock time limit for intensification reached (used: 159.012738 sec, available: 0.000010 sec)\n"
     ]
    },
    {
     "name": "stdout",
     "output_type": "stream",
     "text": [
      "\n",
      "use_cuda=True\n",
      "MLP Using Cuda\n",
      "hidden_sizes= [144, 234]\n",
      "100%|██████████| 50/50 [01:23<00:00,  1.67s/it]\n",
      "Simulating Surrogate Trajectory: \n",
      " 99%|█████████▉| 198/200 [00:06<00:00, 29.73it/s]\n",
      "Simulating True Dynamics Trajectory\n",
      " 99%|█████████▉| 198/200 [00:06<00:00, 28.99it/s]"
     ]
    },
    {
     "name": "stderr",
     "output_type": "stream",
     "text": [
      "INFO:smac.intensification.intensification.Intensifier:Wallclock time limit for intensification reached (used: 96.901737 sec, available: 0.000010 sec)\n"
     ]
    },
    {
     "name": "stdout",
     "output_type": "stream",
     "text": [
      "\n",
      "use_cuda=True\n",
      "MLP Using Cuda\n",
      "hidden_sizes= [83, 53, 113]\n",
      "100%|██████████| 50/50 [01:42<00:00,  2.06s/it]\n",
      "Simulating Surrogate Trajectory: \n",
      " 99%|█████████▉| 198/200 [01:47<00:01,  1.84it/s]\n",
      "Simulating True Dynamics Trajectory\n",
      " 99%|█████████▉| 198/200 [01:59<00:01,  1.66it/s]"
     ]
    },
    {
     "name": "stderr",
     "output_type": "stream",
     "text": [
      "INFO:smac.intensification.intensification.Intensifier:Wallclock time limit for intensification reached (used: 329.991057 sec, available: 0.000010 sec)\n"
     ]
    },
    {
     "name": "stdout",
     "output_type": "stream",
     "text": [
      "\n",
      "use_cuda=True\n",
      "MLP Using Cuda\n",
      "hidden_sizes= [204]\n",
      "100%|██████████| 50/50 [00:55<00:00,  1.10s/it]\n",
      "Simulating Surrogate Trajectory: \n",
      " 99%|█████████▉| 198/200 [00:11<00:00, 16.86it/s]\n",
      "Simulating True Dynamics Trajectory\n",
      " 99%|█████████▉| 198/200 [00:11<00:00, 17.14it/s]"
     ]
    },
    {
     "name": "stderr",
     "output_type": "stream",
     "text": [
      "INFO:smac.intensification.intensification.Intensifier:Wallclock time limit for intensification reached (used: 78.421351 sec, available: 0.000010 sec)\n"
     ]
    },
    {
     "name": "stdout",
     "output_type": "stream",
     "text": [
      "\n",
      "use_cuda=True\n",
      "MLP Using Cuda\n",
      "hidden_sizes= [219, 249]\n",
      "100%|██████████| 50/50 [01:21<00:00,  1.63s/it]\n",
      "Simulating Surrogate Trajectory: \n",
      " 99%|█████████▉| 198/200 [00:09<00:00, 21.02it/s]\n",
      "Simulating True Dynamics Trajectory\n",
      " 99%|█████████▉| 198/200 [00:11<00:00, 17.53it/s]"
     ]
    },
    {
     "name": "stderr",
     "output_type": "stream",
     "text": [
      "INFO:smac.intensification.intensification.Intensifier:Wallclock time limit for intensification reached (used: 102.309231 sec, available: 0.000010 sec)\n"
     ]
    },
    {
     "name": "stdout",
     "output_type": "stream",
     "text": [
      "\n",
      "use_cuda=True\n",
      "MLP Using Cuda\n",
      "hidden_sizes= [98, 128, 189, 174]\n",
      "100%|██████████| 50/50 [02:09<00:00,  2.60s/it]\n",
      "Simulating Surrogate Trajectory: \n",
      " 99%|█████████▉| 198/200 [00:47<00:00,  4.21it/s]\n",
      "Simulating True Dynamics Trajectory\n",
      " 99%|█████████▉| 198/200 [00:41<00:00,  4.81it/s]"
     ]
    },
    {
     "name": "stderr",
     "output_type": "stream",
     "text": [
      "INFO:smac.intensification.intensification.Intensifier:Wallclock time limit for intensification reached (used: 218.122997 sec, available: 0.000010 sec)\n"
     ]
    },
    {
     "name": "stdout",
     "output_type": "stream",
     "text": [
      "\n",
      "use_cuda=True\n",
      "MLP Using Cuda\n",
      "hidden_sizes= [155]\n",
      "100%|██████████| 50/50 [00:52<00:00,  1.05s/it]\n",
      "Simulating Surrogate Trajectory: \n",
      " 99%|█████████▉| 198/200 [00:06<00:00, 30.76it/s]\n",
      "Simulating True Dynamics Trajectory\n",
      " 99%|█████████▉| 198/200 [00:06<00:00, 30.82it/s]"
     ]
    },
    {
     "name": "stderr",
     "output_type": "stream",
     "text": [
      "INFO:smac.intensification.intensification.Intensifier:Wallclock time limit for intensification reached (used: 65.540441 sec, available: 0.000010 sec)\n"
     ]
    },
    {
     "name": "stdout",
     "output_type": "stream",
     "text": [
      "\n",
      "use_cuda=True\n",
      "MLP Using Cuda\n",
      "hidden_sizes= [88, 39, 214, 147]\n",
      "100%|██████████| 50/50 [02:03<00:00,  2.47s/it]\n",
      "Simulating Surrogate Trajectory: \n",
      "  4%|▎         | 7/200 [00:00<00:06, 31.29it/s]"
     ]
    },
    {
     "name": "stderr",
     "output_type": "stream",
     "text": [
      "/home/william/proj/autompc_dev/autompc/control/ilqr.py:525: RuntimeWarning: invalid value encountered in double_scalars\n",
      "  if (obj - new_obj) / (-expect_cost_reduction) > ls_cost_threshold:\n"
     ]
    },
    {
     "name": "stdout",
     "output_type": "stream",
     "text": [
      " 99%|█████████▉| 198/200 [00:05<00:00, 36.61it/s]\n",
      "Simulating True Dynamics Trajectory\n",
      " 99%|█████████▉| 198/200 [00:05<00:00, 35.40it/s]"
     ]
    },
    {
     "name": "stderr",
     "output_type": "stream",
     "text": [
      "INFO:smac.intensification.intensification.Intensifier:Wallclock time limit for intensification reached (used: 134.506750 sec, available: 0.000010 sec)\n"
     ]
    },
    {
     "name": "stdout",
     "output_type": "stream",
     "text": [
      "\n",
      "use_cuda=True\n",
      "MLP Using Cuda\n",
      "hidden_sizes= [194, 133, 128]\n",
      "100%|██████████| 50/50 [01:42<00:00,  2.05s/it]\n",
      "Simulating Surrogate Trajectory: \n",
      "  4%|▎         | 7/200 [00:00<00:06, 27.97it/s]"
     ]
    },
    {
     "name": "stderr",
     "output_type": "stream",
     "text": [
      "/home/william/proj/autompc_dev/autompc/control/ilqr.py:525: RuntimeWarning: invalid value encountered in double_scalars\n",
      "  if (obj - new_obj) / (-expect_cost_reduction) > ls_cost_threshold:\n"
     ]
    },
    {
     "name": "stdout",
     "output_type": "stream",
     "text": [
      " 99%|█████████▉| 198/200 [00:05<00:00, 36.66it/s]\n",
      "Simulating True Dynamics Trajectory\n",
      " 99%|█████████▉| 198/200 [00:05<00:00, 37.31it/s]"
     ]
    },
    {
     "name": "stderr",
     "output_type": "stream",
     "text": [
      "INFO:smac.intensification.intensification.Intensifier:Wallclock time limit for intensification reached (used: 113.147189 sec, available: 0.000010 sec)\n"
     ]
    },
    {
     "name": "stdout",
     "output_type": "stream",
     "text": [
      "\n",
      "use_cuda=True\n",
      "MLP Using Cuda\n",
      "hidden_sizes= [211, 149, 151, 128]\n",
      "100%|██████████| 50/50 [02:04<00:00,  2.50s/it]\n",
      "Simulating Surrogate Trajectory: \n",
      " 99%|█████████▉| 198/200 [01:02<00:00,  3.16it/s]\n",
      "Simulating True Dynamics Trajectory\n",
      " 99%|█████████▉| 198/200 [01:14<00:00,  2.66it/s]"
     ]
    },
    {
     "name": "stderr",
     "output_type": "stream",
     "text": [
      "INFO:smac.intensification.intensification.Intensifier:Wallclock time limit for intensification reached (used: 261.959462 sec, available: 0.000010 sec)\n"
     ]
    },
    {
     "name": "stdout",
     "output_type": "stream",
     "text": [
      "\n",
      "use_cuda=True\n",
      "MLP Using Cuda\n",
      "hidden_sizes= [116]\n",
      "100%|██████████| 50/50 [00:53<00:00,  1.07s/it]\n",
      "Simulating Surrogate Trajectory: \n",
      " 99%|█████████▉| 198/200 [00:06<00:00, 32.88it/s]\n",
      "Simulating True Dynamics Trajectory\n",
      " 99%|█████████▉| 198/200 [00:04<00:00, 49.30it/s]"
     ]
    },
    {
     "name": "stderr",
     "output_type": "stream",
     "text": [
      "INFO:smac.intensification.intensification.Intensifier:Wallclock time limit for intensification reached (used: 63.495919 sec, available: 0.000010 sec)\n"
     ]
    },
    {
     "name": "stdout",
     "output_type": "stream",
     "text": [
      "\n",
      "use_cuda=True\n",
      "MLP Using Cuda\n",
      "hidden_sizes= [79, 237, 238]\n",
      "100%|██████████| 50/50 [01:42<00:00,  2.05s/it]\n",
      "Simulating Surrogate Trajectory: \n",
      "  4%|▍         | 8/200 [00:00<00:05, 36.71it/s]"
     ]
    },
    {
     "name": "stderr",
     "output_type": "stream",
     "text": [
      "/home/william/proj/autompc_dev/autompc/control/ilqr.py:525: RuntimeWarning: invalid value encountered in double_scalars\n",
      "  if (obj - new_obj) / (-expect_cost_reduction) > ls_cost_threshold:\n"
     ]
    },
    {
     "name": "stdout",
     "output_type": "stream",
     "text": [
      " 99%|█████████▉| 198/200 [00:05<00:00, 38.07it/s]\n",
      "Simulating True Dynamics Trajectory\n",
      " 99%|█████████▉| 198/200 [00:05<00:00, 37.01it/s]"
     ]
    },
    {
     "name": "stderr",
     "output_type": "stream",
     "text": [
      "INFO:smac.intensification.intensification.Intensifier:Wallclock time limit for intensification reached (used: 112.901232 sec, available: 0.000010 sec)\n"
     ]
    },
    {
     "name": "stdout",
     "output_type": "stream",
     "text": [
      "\n",
      "use_cuda=True\n",
      "MLP Using Cuda\n",
      "hidden_sizes= [211, 151, 152]\n",
      "100%|██████████| 50/50 [01:41<00:00,  2.03s/it]\n",
      "Simulating Surrogate Trajectory: \n",
      " 99%|█████████▉| 198/200 [01:39<00:01,  1.98it/s]\n",
      "Simulating True Dynamics Trajectory\n",
      " 99%|█████████▉| 198/200 [01:44<00:01,  1.90it/s]"
     ]
    },
    {
     "name": "stderr",
     "output_type": "stream",
     "text": [
      "INFO:smac.intensification.intensification.Intensifier:Challenger (22.0000) is better than incumbent (23.0000) on 1 runs.\n",
      "INFO:smac.intensification.intensification.Intensifier:Changes in incumbent:\n",
      "INFO:smac.intensification.intensification.Intensifier:  _cost:dx_F : 0.1539926526059493 -> 0.08766149964950337\n",
      "INFO:smac.intensification.intensification.Intensifier:  _cost:dx_Q : 0.020535250264571463 -> 0.033426428625396395\n",
      "INFO:smac.intensification.intensification.Intensifier:  _cost:omega_Q : 8.659643233600653 -> 20.61471937377118\n",
      "INFO:smac.intensification.intensification.Intensifier:  _cost:theta_Q : 486.9675251658636 -> 978.1401680181094\n",
      "INFO:smac.intensification.intensification.Intensifier:  _cost:u_R : 0.020535250264571463 -> 0.042132617572090254\n",
      "INFO:smac.intensification.intensification.Intensifier:  _cost:x_Q : 0.0027384196342643626 -> 0.0028147674847040782\n",
      "INFO:smac.intensification.intensification.Intensifier:  _ctrlr:horizon : 24 -> 11\n",
      "INFO:smac.intensification.intensification.Intensifier:  _model:hidden_size_3 : 151 -> 152\n",
      "INFO:smac.intensification.intensification.Intensifier:  _model:nonlintype : 'selu' -> 'tanh'\n",
      "INFO:smac.intensification.intensification.Intensifier:Wallclock time limit for intensification reached (used: 305.975902 sec, available: 0.000010 sec)\n"
     ]
    },
    {
     "name": "stdout",
     "output_type": "stream",
     "text": [
      "\n",
      "use_cuda=True\n",
      "MLP Using Cuda\n",
      "hidden_sizes= [237, 175, 164]\n",
      "100%|██████████| 50/50 [01:42<00:00,  2.04s/it]\n",
      "Simulating Surrogate Trajectory: \n",
      " 99%|█████████▉| 198/200 [00:57<00:00,  3.43it/s]\n",
      "Simulating True Dynamics Trajectory\n",
      " 99%|█████████▉| 198/200 [01:14<00:00,  2.64it/s]"
     ]
    },
    {
     "name": "stderr",
     "output_type": "stream",
     "text": [
      "INFO:smac.intensification.intensification.Intensifier:Wallclock time limit for intensification reached (used: 234.910173 sec, available: 0.000010 sec)\n"
     ]
    },
    {
     "name": "stdout",
     "output_type": "stream",
     "text": [
      "\n",
      "use_cuda=True\n",
      "MLP Using Cuda\n",
      "hidden_sizes= [211, 151, 158]\n",
      "100%|██████████| 50/50 [01:42<00:00,  2.05s/it]\n",
      "Simulating Surrogate Trajectory: \n",
      " 99%|█████████▉| 198/200 [01:06<00:00,  2.97it/s]\n",
      "Simulating True Dynamics Trajectory\n",
      " 99%|█████████▉| 198/200 [01:10<00:00,  2.79it/s]"
     ]
    },
    {
     "name": "stderr",
     "output_type": "stream",
     "text": [
      "INFO:smac.intensification.intensification.Intensifier:Wallclock time limit for intensification reached (used: 240.428818 sec, available: 0.000010 sec)\n"
     ]
    },
    {
     "name": "stdout",
     "output_type": "stream",
     "text": [
      "\n",
      "use_cuda=True\n",
      "MLP Using Cuda\n",
      "hidden_sizes= [211, 149, 168, 128]\n",
      "100%|██████████| 50/50 [01:53<00:00,  2.27s/it]\n",
      "Simulating Surrogate Trajectory: \n",
      " 99%|█████████▉| 198/200 [01:29<00:00,  2.20it/s]\n",
      "Simulating True Dynamics Trajectory\n",
      " 99%|█████████▉| 198/200 [02:05<00:01,  1.58it/s]"
     ]
    },
    {
     "name": "stderr",
     "output_type": "stream",
     "text": [
      "INFO:smac.intensification.intensification.Intensifier:Challenger (21.0000) is better than incumbent (22.0000) on 1 runs.\n",
      "INFO:smac.intensification.intensification.Intensifier:Changes in incumbent:\n",
      "INFO:smac.intensification.intensification.Intensifier:  _cost:dx_F : 0.08766149964950337 -> 0.06681847921495097\n",
      "INFO:smac.intensification.intensification.Intensifier:  _cost:dx_Q : 0.033426428625396395 -> 0.01922411222919119\n",
      "INFO:smac.intensification.intensification.Intensifier:  _cost:omega_F : 3651.7412725483823 -> 3813.533920069728\n",
      "INFO:smac.intensification.intensification.Intensifier:  _cost:omega_Q : 20.61471937377118 -> 23.735565611739137\n",
      "INFO:smac.intensification.intensification.Intensifier:  _cost:theta_F : 1.1547819846894585 -> 1.752295651846941\n",
      "INFO:smac.intensification.intensification.Intensifier:  _cost:theta_Q : 978.1401680181094 -> 5596.947940384819\n",
      "INFO:smac.intensification.intensification.Intensifier:  _cost:u_R : 0.042132617572090254 -> 0.05551902092136261\n",
      "INFO:smac.intensification.intensification.Intensifier:  _cost:x_F : 0.1539926526059493 -> 0.12444439829887231\n",
      "INFO:smac.intensification.intensification.Intensifier:  _cost:x_Q : 0.0028147674847040782 -> 0.003188707149817956\n",
      "INFO:smac.intensification.intensification.Intensifier:  _model:hidden_size_2 : 151 -> 149\n",
      "INFO:smac.intensification.intensification.Intensifier:  _model:hidden_size_3 : 152 -> 168\n",
      "INFO:smac.intensification.intensification.Intensifier:  _model:hidden_size_4 : None -> 128\n",
      "INFO:smac.intensification.intensification.Intensifier:  _model:lr : 0.0015399265260594922 -> 0.0014911337435907315\n",
      "INFO:smac.intensification.intensification.Intensifier:  _model:n_hidden_layers : '3' -> '4'\n",
      "INFO:smac.intensification.intensification.Intensifier:Wallclock time limit for intensification reached (used: 328.570009 sec, available: 0.000010 sec)\n"
     ]
    },
    {
     "name": "stdout",
     "output_type": "stream",
     "text": [
      "\n",
      "use_cuda=True\n",
      "MLP Using Cuda\n",
      "hidden_sizes= [239, 149, 168, 96]\n",
      "100%|██████████| 50/50 [02:04<00:00,  2.50s/it]\n",
      "Simulating Surrogate Trajectory: \n",
      " 99%|█████████▉| 198/200 [02:06<00:01,  1.57it/s]\n",
      "Simulating True Dynamics Trajectory\n",
      " 99%|█████████▉| 198/200 [02:06<00:01,  1.57it/s]"
     ]
    },
    {
     "name": "stderr",
     "output_type": "stream",
     "text": [
      "INFO:smac.intensification.intensification.Intensifier:Wallclock time limit for intensification reached (used: 377.501607 sec, available: 0.000010 sec)\n"
     ]
    },
    {
     "name": "stdout",
     "output_type": "stream",
     "text": [
      "\n",
      "use_cuda=True\n",
      "MLP Using Cuda\n",
      "hidden_sizes= [213, 128]\n",
      "100%|██████████| 50/50 [01:21<00:00,  1.62s/it]\n",
      "Simulating Surrogate Trajectory: \n",
      " 99%|█████████▉| 198/200 [01:26<00:00,  2.29it/s]\n",
      "Simulating True Dynamics Trajectory\n",
      " 99%|█████████▉| 198/200 [01:27<00:00,  2.27it/s]"
     ]
    },
    {
     "name": "stderr",
     "output_type": "stream",
     "text": [
      "INFO:smac.intensification.intensification.Intensifier:Wallclock time limit for intensification reached (used: 255.149374 sec, available: 0.000010 sec)\n"
     ]
    },
    {
     "name": "stdout",
     "output_type": "stream",
     "text": [
      "\n",
      "use_cuda=True\n",
      "MLP Using Cuda\n",
      "hidden_sizes= [211, 156, 170, 133]\n",
      "100%|██████████| 50/50 [02:05<00:00,  2.51s/it]\n",
      "Simulating Surrogate Trajectory: \n",
      " 99%|█████████▉| 198/200 [01:01<00:00,  3.22it/s]\n",
      "Simulating True Dynamics Trajectory\n",
      " 99%|█████████▉| 198/200 [01:16<00:00,  2.58it/s]"
     ]
    },
    {
     "name": "stderr",
     "output_type": "stream",
     "text": [
      "INFO:smac.intensification.intensification.Intensifier:Challenger (18.0000) is better than incumbent (21.0000) on 1 runs.\n",
      "INFO:smac.intensification.intensification.Intensifier:Changes in incumbent:\n",
      "INFO:smac.intensification.intensification.Intensifier:  _cost:dx_F : 0.06681847921495097 -> 0.1539926526059493\n",
      "INFO:smac.intensification.intensification.Intensifier:  _cost:dx_Q : 0.01922411222919119 -> 0.017673128603665555\n",
      "INFO:smac.intensification.intensification.Intensifier:  _cost:omega_F : 3813.533920069728 -> 3651.7412725483823\n",
      "INFO:smac.intensification.intensification.Intensifier:  _cost:omega_Q : 23.735565611739137 -> 19.91103049494464\n",
      "INFO:smac.intensification.intensification.Intensifier:  _cost:theta_F : 1.752295651846941 -> 0.31665933931825097\n",
      "INFO:smac.intensification.intensification.Intensifier:  _cost:theta_Q : 5596.947940384819 -> 3846.4243725951997\n",
      "INFO:smac.intensification.intensification.Intensifier:  _cost:u_R : 0.05551902092136261 -> 0.058293519864479566\n",
      "INFO:smac.intensification.intensification.Intensifier:  _cost:x_F : 0.12444439829887231 -> 0.021390614690374933\n",
      "INFO:smac.intensification.intensification.Intensifier:  _cost:x_Q : 0.003188707149817956 -> 0.0027384196342643626\n",
      "INFO:smac.intensification.intensification.Intensifier:  _ctrlr:horizon : 11 -> 9\n",
      "INFO:smac.intensification.intensification.Intensifier:  _model:hidden_size_2 : 149 -> 156\n",
      "INFO:smac.intensification.intensification.Intensifier:  _model:hidden_size_3 : 168 -> 170\n",
      "INFO:smac.intensification.intensification.Intensifier:  _model:hidden_size_4 : 128 -> 133\n",
      "INFO:smac.intensification.intensification.Intensifier:  _model:lr : 0.0014911337435907315 -> 0.0009802375311041898\n",
      "INFO:smac.intensification.intensification.Intensifier:  _model:nonlintype : 'tanh' -> 'selu'\n",
      "INFO:smac.intensification.intensification.Intensifier:Wallclock time limit for intensification reached (used: 263.617295 sec, available: 0.000010 sec)\n"
     ]
    },
    {
     "name": "stdout",
     "output_type": "stream",
     "text": [
      "\n",
      "use_cuda=True\n",
      "MLP Using Cuda\n",
      "hidden_sizes= [211, 149, 196, 133]\n",
      "100%|██████████| 50/50 [02:05<00:00,  2.50s/it]\n",
      "Simulating Surrogate Trajectory: \n",
      " 99%|█████████▉| 198/200 [01:00<00:00,  3.29it/s]\n",
      "Simulating True Dynamics Trajectory\n",
      " 99%|█████████▉| 198/200 [01:06<00:00,  2.98it/s]"
     ]
    },
    {
     "name": "stderr",
     "output_type": "stream",
     "text": [
      "INFO:smac.intensification.intensification.Intensifier:Wallclock time limit for intensification reached (used: 251.735099 sec, available: 0.000010 sec)\n"
     ]
    },
    {
     "name": "stdout",
     "output_type": "stream",
     "text": [
      "\n",
      "use_cuda=True\n",
      "MLP Using Cuda\n",
      "hidden_sizes= [211, 161, 170, 146]\n",
      "100%|██████████| 50/50 [02:04<00:00,  2.50s/it]\n",
      "Simulating Surrogate Trajectory: \n",
      " 99%|█████████▉| 198/200 [00:49<00:00,  3.98it/s]\n",
      "Simulating True Dynamics Trajectory\n",
      " 99%|█████████▉| 198/200 [00:51<00:00,  3.83it/s]"
     ]
    },
    {
     "name": "stderr",
     "output_type": "stream",
     "text": [
      "INFO:smac.intensification.intensification.Intensifier:Wallclock time limit for intensification reached (used: 226.530274 sec, available: 0.000010 sec)\n"
     ]
    },
    {
     "name": "stdout",
     "output_type": "stream",
     "text": [
      "\n",
      "use_cuda=True\n",
      "MLP Using Cuda\n",
      "hidden_sizes= [253, 151, 193, 128]\n",
      "100%|██████████| 50/50 [02:04<00:00,  2.48s/it]\n",
      "Simulating Surrogate Trajectory: \n",
      " 99%|█████████▉| 198/200 [00:54<00:00,  3.67it/s]\n",
      "Simulating True Dynamics Trajectory\n",
      " 99%|█████████▉| 198/200 [00:48<00:00,  4.12it/s]"
     ]
    },
    {
     "name": "stderr",
     "output_type": "stream",
     "text": [
      "INFO:smac.intensification.intensification.Intensifier:Wallclock time limit for intensification reached (used: 226.272134 sec, available: 0.000010 sec)\n"
     ]
    },
    {
     "name": "stdout",
     "output_type": "stream",
     "text": [
      "\n",
      "use_cuda=True\n",
      "MLP Using Cuda\n",
      "hidden_sizes= [198, 180, 175]\n",
      "100%|██████████| 50/50 [01:41<00:00,  2.04s/it]\n",
      "Simulating Surrogate Trajectory: \n",
      " 99%|█████████▉| 198/200 [00:19<00:00, 10.22it/s]\n",
      "Simulating True Dynamics Trajectory\n",
      " 99%|█████████▉| 198/200 [00:19<00:00, 10.32it/s]"
     ]
    },
    {
     "name": "stderr",
     "output_type": "stream",
     "text": [
      "INFO:smac.intensification.intensification.Intensifier:Wallclock time limit for intensification reached (used: 140.551259 sec, available: 0.000010 sec)\n"
     ]
    },
    {
     "name": "stdout",
     "output_type": "stream",
     "text": [
      "\n",
      "use_cuda=True\n",
      "MLP Using Cuda\n",
      "hidden_sizes= [253, 151, 177, 109]\n",
      "100%|██████████| 50/50 [02:05<00:00,  2.51s/it]\n",
      "Simulating Surrogate Trajectory: \n",
      " 99%|█████████▉| 198/200 [01:01<00:00,  3.24it/s]\n",
      "Simulating True Dynamics Trajectory\n",
      " 99%|█████████▉| 198/200 [00:58<00:00,  3.41it/s]"
     ]
    },
    {
     "name": "stderr",
     "output_type": "stream",
     "text": [
      "INFO:smac.intensification.intensification.Intensifier:Wallclock time limit for intensification reached (used: 244.550739 sec, available: 0.000010 sec)\n"
     ]
    },
    {
     "name": "stdout",
     "output_type": "stream",
     "text": [
      "\n",
      "use_cuda=True\n",
      "MLP Using Cuda\n",
      "hidden_sizes= [195, 180, 175, 128]\n",
      "100%|██████████| 50/50 [02:06<00:00,  2.52s/it]\n",
      "Simulating Surrogate Trajectory: \n",
      " 99%|█████████▉| 198/200 [00:57<00:00,  3.43it/s]\n",
      "Simulating True Dynamics Trajectory\n",
      " 99%|█████████▉| 198/200 [01:23<00:00,  2.38it/s]"
     ]
    },
    {
     "name": "stderr",
     "output_type": "stream",
     "text": [
      "INFO:smac.intensification.intensification.Intensifier:Wallclock time limit for intensification reached (used: 266.802279 sec, available: 0.000010 sec)\n"
     ]
    },
    {
     "name": "stdout",
     "output_type": "stream",
     "text": [
      "\n",
      "use_cuda=True\n",
      "MLP Using Cuda\n",
      "hidden_sizes= [220, 203, 75, 144]\n",
      "100%|██████████| 50/50 [02:02<00:00,  2.45s/it]\n",
      "Simulating Surrogate Trajectory: \n",
      " 99%|█████████▉| 198/200 [00:22<00:00,  8.94it/s]\n",
      "Simulating True Dynamics Trajectory\n",
      " 99%|█████████▉| 198/200 [00:23<00:00,  8.56it/s]"
     ]
    },
    {
     "name": "stderr",
     "output_type": "stream",
     "text": [
      "INFO:smac.intensification.intensification.Intensifier:Wallclock time limit for intensification reached (used: 168.088841 sec, available: 0.000010 sec)\n"
     ]
    },
    {
     "name": "stdout",
     "output_type": "stream",
     "text": [
      "\n",
      "use_cuda=True\n",
      "MLP Using Cuda\n",
      "hidden_sizes= [30, 89, 256, 231]\n",
      "100%|██████████| 50/50 [02:04<00:00,  2.49s/it]\n",
      "Simulating Surrogate Trajectory: \n",
      " 99%|█████████▉| 198/200 [00:06<00:00, 32.56it/s]\n",
      "Simulating True Dynamics Trajectory\n",
      " 99%|█████████▉| 198/200 [00:06<00:00, 32.27it/s]"
     ]
    },
    {
     "name": "stderr",
     "output_type": "stream",
     "text": [
      "INFO:smac.intensification.intensification.Intensifier:Wallclock time limit for intensification reached (used: 136.853876 sec, available: 0.000010 sec)\n"
     ]
    },
    {
     "name": "stdout",
     "output_type": "stream",
     "text": [
      "\n",
      "use_cuda=True\n",
      "MLP Using Cuda\n",
      "hidden_sizes= [165, 167, 170, 156]\n",
      "100%|██████████| 50/50 [02:04<00:00,  2.50s/it]\n",
      "Simulating Surrogate Trajectory: \n",
      " 99%|█████████▉| 198/200 [00:45<00:00,  4.39it/s]\n",
      "Simulating True Dynamics Trajectory\n",
      " 99%|█████████▉| 198/200 [00:47<00:00,  4.18it/s]"
     ]
    },
    {
     "name": "stderr",
     "output_type": "stream",
     "text": [
      "INFO:smac.intensification.intensification.Intensifier:Wallclock time limit for intensification reached (used: 217.357348 sec, available: 0.000010 sec)\n"
     ]
    },
    {
     "name": "stdout",
     "output_type": "stream",
     "text": [
      "\n",
      "use_cuda=True\n",
      "MLP Using Cuda\n",
      "hidden_sizes= [197, 192, 183, 119]\n",
      "100%|██████████| 50/50 [02:05<00:00,  2.50s/it]\n",
      "Simulating Surrogate Trajectory: \n",
      " 99%|█████████▉| 198/200 [00:33<00:00,  5.88it/s]\n",
      "Simulating True Dynamics Trajectory\n",
      " 99%|█████████▉| 198/200 [00:34<00:00,  5.80it/s]"
     ]
    },
    {
     "name": "stderr",
     "output_type": "stream",
     "text": [
      "INFO:smac.intensification.intensification.Intensifier:Wallclock time limit for intensification reached (used: 192.937968 sec, available: 0.000010 sec)\n"
     ]
    },
    {
     "name": "stdout",
     "output_type": "stream",
     "text": [
      "\n",
      "use_cuda=True\n",
      "MLP Using Cuda\n",
      "hidden_sizes= [219, 164, 177, 151]\n",
      "100%|██████████| 50/50 [02:04<00:00,  2.50s/it]\n",
      "Simulating Surrogate Trajectory: \n",
      " 99%|█████████▉| 198/200 [01:07<00:00,  2.94it/s]\n",
      "Simulating True Dynamics Trajectory\n",
      " 99%|█████████▉| 198/200 [00:32<00:00,  6.05it/s]"
     ]
    },
    {
     "name": "stderr",
     "output_type": "stream",
     "text": [
      "INFO:smac.intensification.intensification.Intensifier:Wallclock time limit for intensification reached (used: 224.927557 sec, available: 0.000010 sec)\n"
     ]
    },
    {
     "name": "stdout",
     "output_type": "stream",
     "text": [
      "\n",
      "use_cuda=True\n",
      "MLP Using Cuda\n",
      "hidden_sizes= [201, 184, 169, 148]\n",
      "100%|██████████| 50/50 [02:05<00:00,  2.51s/it]\n",
      "Simulating Surrogate Trajectory: \n",
      " 99%|█████████▉| 198/200 [01:23<00:00,  2.36it/s]\n",
      "Simulating True Dynamics Trajectory\n",
      " 99%|█████████▉| 198/200 [01:30<00:00,  2.19it/s]"
     ]
    },
    {
     "name": "stderr",
     "output_type": "stream",
     "text": [
      "INFO:smac.intensification.intensification.Intensifier:Wallclock time limit for intensification reached (used: 300.108336 sec, available: 0.000010 sec)\n"
     ]
    },
    {
     "name": "stdout",
     "output_type": "stream",
     "text": [
      "\n",
      "use_cuda=True\n",
      "MLP Using Cuda\n",
      "hidden_sizes= [198, 150, 175, 112]\n",
      "100%|██████████| 50/50 [02:06<00:00,  2.53s/it]\n",
      "Simulating Surrogate Trajectory: \n",
      " 99%|█████████▉| 198/200 [00:51<00:00,  3.86it/s]\n",
      "Simulating True Dynamics Trajectory\n",
      " 99%|█████████▉| 198/200 [00:48<00:00,  4.09it/s]"
     ]
    },
    {
     "name": "stderr",
     "output_type": "stream",
     "text": [
      "INFO:smac.intensification.intensification.Intensifier:Wallclock time limit for intensification reached (used: 226.085507 sec, available: 0.000010 sec)\n"
     ]
    },
    {
     "name": "stdout",
     "output_type": "stream",
     "text": [
      "\n",
      "use_cuda=True\n",
      "MLP Using Cuda\n",
      "hidden_sizes= [211, 155, 151]\n",
      "100%|██████████| 50/50 [01:41<00:00,  2.04s/it]\n",
      "Simulating Surrogate Trajectory: \n",
      " 99%|█████████▉| 198/200 [00:18<00:00, 10.77it/s]\n",
      "Simulating True Dynamics Trajectory\n",
      " 99%|█████████▉| 198/200 [00:17<00:00, 11.15it/s]"
     ]
    },
    {
     "name": "stderr",
     "output_type": "stream",
     "text": [
      "INFO:smac.intensification.intensification.Intensifier:Wallclock time limit for intensification reached (used: 138.153270 sec, available: 0.000010 sec)\n"
     ]
    },
    {
     "name": "stdout",
     "output_type": "stream",
     "text": [
      "\n",
      "use_cuda=True\n",
      "MLP Using Cuda\n",
      "hidden_sizes= [105, 64]\n",
      "100%|██████████| 50/50 [01:20<00:00,  1.60s/it]\n",
      "Simulating Surrogate Trajectory: \n",
      " 99%|█████████▉| 198/200 [00:15<00:00, 13.09it/s]\n",
      "Simulating True Dynamics Trajectory\n",
      " 99%|█████████▉| 198/200 [00:34<00:00,  5.72it/s]"
     ]
    },
    {
     "name": "stderr",
     "output_type": "stream",
     "text": [
      "INFO:smac.intensification.intensification.Intensifier:Wallclock time limit for intensification reached (used: 129.919801 sec, available: 0.000010 sec)\n"
     ]
    },
    {
     "name": "stdout",
     "output_type": "stream",
     "text": [
      "\n",
      "use_cuda=True\n",
      "MLP Using Cuda\n",
      "hidden_sizes= [211, 160, 182, 133]\n",
      "100%|██████████| 50/50 [02:00<00:00,  2.41s/it]\n",
      "Simulating Surrogate Trajectory: \n",
      " 99%|█████████▉| 198/200 [00:44<00:00,  4.43it/s]\n",
      "Simulating True Dynamics Trajectory\n",
      " 99%|█████████▉| 198/200 [00:45<00:00,  4.35it/s]"
     ]
    },
    {
     "name": "stderr",
     "output_type": "stream",
     "text": [
      "INFO:smac.intensification.intensification.Intensifier:Wallclock time limit for intensification reached (used: 210.753569 sec, available: 0.000010 sec)\n"
     ]
    },
    {
     "name": "stdout",
     "output_type": "stream",
     "text": [
      "\n",
      "use_cuda=True\n",
      "MLP Using Cuda\n",
      "hidden_sizes= [210, 184, 180, 148]\n",
      "100%|██████████| 50/50 [02:03<00:00,  2.48s/it]\n",
      "Simulating Surrogate Trajectory: \n",
      " 99%|█████████▉| 198/200 [00:30<00:00,  6.46it/s]\n",
      "Simulating True Dynamics Trajectory\n",
      " 99%|█████████▉| 198/200 [00:34<00:00,  5.74it/s]"
     ]
    },
    {
     "name": "stderr",
     "output_type": "stream",
     "text": [
      "INFO:smac.intensification.intensification.Intensifier:Wallclock time limit for intensification reached (used: 189.170125 sec, available: 0.000010 sec)\n"
     ]
    },
    {
     "name": "stdout",
     "output_type": "stream",
     "text": [
      "\n",
      "use_cuda=True\n",
      "MLP Using Cuda\n",
      "hidden_sizes= [29, 212, 80]\n",
      "100%|██████████| 50/50 [01:41<00:00,  2.03s/it]\n",
      "Simulating Surrogate Trajectory: \n",
      "  2%|▏         | 4/200 [00:00<00:05, 34.98it/s]"
     ]
    },
    {
     "name": "stderr",
     "output_type": "stream",
     "text": [
      "/home/william/proj/autompc_dev/autompc/control/ilqr.py:525: RuntimeWarning: invalid value encountered in double_scalars\n",
      "  if (obj - new_obj) / (-expect_cost_reduction) > ls_cost_threshold:\n"
     ]
    },
    {
     "name": "stdout",
     "output_type": "stream",
     "text": [
      " 99%|█████████▉| 198/200 [00:06<00:00, 32.62it/s]\n",
      "Simulating True Dynamics Trajectory\n",
      " 99%|█████████▉| 198/200 [00:05<00:00, 37.09it/s]"
     ]
    },
    {
     "name": "stderr",
     "output_type": "stream",
     "text": [
      "INFO:smac.intensification.intensification.Intensifier:Wallclock time limit for intensification reached (used: 112.988703 sec, available: 0.000010 sec)\n"
     ]
    },
    {
     "name": "stdout",
     "output_type": "stream",
     "text": [
      "\n",
      "use_cuda=True\n",
      "MLP Using Cuda\n",
      "hidden_sizes= [204, 166, 180]\n",
      "100%|██████████| 50/50 [01:41<00:00,  2.02s/it]\n",
      "Simulating Surrogate Trajectory: \n",
      " 99%|█████████▉| 198/200 [00:52<00:00,  3.78it/s]\n",
      "Simulating True Dynamics Trajectory\n",
      " 99%|█████████▉| 198/200 [01:06<00:00,  2.97it/s]"
     ]
    },
    {
     "name": "stderr",
     "output_type": "stream",
     "text": [
      "INFO:smac.intensification.intensification.Intensifier:Wallclock time limit for intensification reached (used: 220.161491 sec, available: 0.000010 sec)\n"
     ]
    },
    {
     "name": "stdout",
     "output_type": "stream",
     "text": [
      "\n",
      "use_cuda=True\n",
      "MLP Using Cuda\n",
      "hidden_sizes= [204, 166, 180]\n",
      "100%|██████████| 50/50 [01:37<00:00,  1.96s/it]\n",
      "Simulating Surrogate Trajectory: \n",
      " 99%|█████████▉| 198/200 [00:39<00:00,  5.02it/s]\n",
      "Simulating True Dynamics Trajectory\n",
      " 99%|█████████▉| 198/200 [00:36<00:00,  5.43it/s]"
     ]
    },
    {
     "name": "stderr",
     "output_type": "stream",
     "text": [
      "INFO:smac.intensification.intensification.Intensifier:Wallclock time limit for intensification reached (used: 173.793326 sec, available: 0.000010 sec)\n"
     ]
    },
    {
     "name": "stdout",
     "output_type": "stream",
     "text": [
      "\n",
      "use_cuda=True\n",
      "MLP Using Cuda\n",
      "hidden_sizes= [192, 198]\n",
      "100%|██████████| 50/50 [01:19<00:00,  1.58s/it]\n",
      "Simulating Surrogate Trajectory: \n",
      " 99%|█████████▉| 198/200 [00:35<00:00,  5.51it/s]\n",
      "Simulating True Dynamics Trajectory\n",
      " 99%|█████████▉| 198/200 [00:41<00:00,  4.81it/s]"
     ]
    },
    {
     "name": "stderr",
     "output_type": "stream",
     "text": [
      "INFO:smac.intensification.intensification.Intensifier:Wallclock time limit for intensification reached (used: 156.220976 sec, available: 0.000010 sec)\n"
     ]
    },
    {
     "name": "stdout",
     "output_type": "stream",
     "text": [
      "\n",
      "use_cuda=True\n",
      "MLP Using Cuda\n",
      "hidden_sizes= [222, 165, 138, 132]\n",
      "100%|██████████| 50/50 [02:02<00:00,  2.46s/it]\n",
      "Simulating Surrogate Trajectory: \n",
      " 99%|█████████▉| 198/200 [00:59<00:00,  3.35it/s]\n",
      "Simulating True Dynamics Trajectory\n",
      " 99%|█████████▉| 198/200 [00:59<00:00,  3.34it/s]"
     ]
    },
    {
     "name": "stderr",
     "output_type": "stream",
     "text": [
      "INFO:smac.intensification.intensification.Intensifier:Wallclock time limit for intensification reached (used: 241.364867 sec, available: 0.000010 sec)\n"
     ]
    },
    {
     "name": "stdout",
     "output_type": "stream",
     "text": [
      "\n",
      "use_cuda=True\n",
      "MLP Using Cuda\n",
      "hidden_sizes= [207, 170, 180]\n",
      "100%|██████████| 50/50 [01:43<00:00,  2.06s/it]\n",
      "Simulating Surrogate Trajectory: \n",
      " 99%|█████████▉| 198/200 [00:31<00:00,  6.30it/s]\n",
      "Simulating True Dynamics Trajectory\n",
      " 99%|█████████▉| 198/200 [00:40<00:00,  4.94it/s]"
     ]
    },
    {
     "name": "stderr",
     "output_type": "stream",
     "text": [
      "INFO:smac.intensification.intensification.Intensifier:Wallclock time limit for intensification reached (used: 174.726934 sec, available: 0.000010 sec)\n"
     ]
    },
    {
     "name": "stdout",
     "output_type": "stream",
     "text": [
      "\n",
      "use_cuda=True\n",
      "MLP Using Cuda\n",
      "hidden_sizes= [199, 183]\n",
      "100%|██████████| 50/50 [01:21<00:00,  1.64s/it]\n",
      "Simulating Surrogate Trajectory: \n",
      " 99%|█████████▉| 198/200 [00:56<00:00,  3.49it/s]\n",
      "Simulating True Dynamics Trajectory\n",
      " 99%|█████████▉| 198/200 [00:53<00:00,  3.73it/s]"
     ]
    },
    {
     "name": "stderr",
     "output_type": "stream",
     "text": [
      "INFO:smac.intensification.intensification.Intensifier:Wallclock time limit for intensification reached (used: 191.744461 sec, available: 0.000010 sec)\n"
     ]
    },
    {
     "name": "stdout",
     "output_type": "stream",
     "text": [
      "\n",
      "use_cuda=True\n",
      "MLP Using Cuda\n",
      "hidden_sizes= [187, 122, 176]\n",
      "100%|██████████| 50/50 [01:42<00:00,  2.06s/it]\n",
      "Simulating Surrogate Trajectory: \n",
      " 99%|█████████▉| 198/200 [01:00<00:00,  3.27it/s]\n",
      "Simulating True Dynamics Trajectory\n",
      " 99%|█████████▉| 198/200 [00:57<00:00,  3.42it/s]"
     ]
    },
    {
     "name": "stderr",
     "output_type": "stream",
     "text": [
      "INFO:smac.intensification.intensification.Intensifier:Wallclock time limit for intensification reached (used: 221.320566 sec, available: 0.000010 sec)\n"
     ]
    },
    {
     "name": "stdout",
     "output_type": "stream",
     "text": [
      "\n",
      "use_cuda=True\n",
      "MLP Using Cuda\n",
      "hidden_sizes= [211, 136, 192, 133]\n",
      "100%|██████████| 50/50 [02:06<00:00,  2.52s/it]\n",
      "Simulating Surrogate Trajectory: \n",
      " 99%|█████████▉| 198/200 [00:31<00:00,  6.21it/s]\n",
      "Simulating True Dynamics Trajectory\n",
      " 99%|█████████▉| 198/200 [00:31<00:00,  6.38it/s]"
     ]
    },
    {
     "name": "stderr",
     "output_type": "stream",
     "text": [
      "INFO:smac.intensification.intensification.Intensifier:Wallclock time limit for intensification reached (used: 189.000637 sec, available: 0.000010 sec)\n"
     ]
    },
    {
     "name": "stdout",
     "output_type": "stream",
     "text": [
      "\n",
      "use_cuda=True\n",
      "MLP Using Cuda\n",
      "hidden_sizes= [199, 196, 177]\n",
      "100%|██████████| 50/50 [01:37<00:00,  1.95s/it]\n",
      "Simulating Surrogate Trajectory: \n",
      " 99%|█████████▉| 198/200 [01:12<00:00,  2.71it/s]\n",
      "Simulating True Dynamics Trajectory\n",
      " 99%|█████████▉| 198/200 [01:03<00:00,  3.10it/s]"
     ]
    },
    {
     "name": "stderr",
     "output_type": "stream",
     "text": [
      "INFO:smac.intensification.intensification.Intensifier:Wallclock time limit for intensification reached (used: 234.281710 sec, available: 0.000010 sec)\n"
     ]
    },
    {
     "name": "stdout",
     "output_type": "stream",
     "text": [
      "\n",
      "use_cuda=True\n",
      "MLP Using Cuda\n",
      "hidden_sizes= [192, 198, 115]\n",
      "100%|██████████| 50/50 [01:45<00:00,  2.11s/it]\n",
      "Simulating Surrogate Trajectory: \n",
      " 99%|█████████▉| 198/200 [00:27<00:00,  7.28it/s]\n",
      "Simulating True Dynamics Trajectory\n",
      " 99%|█████████▉| 198/200 [00:26<00:00,  7.43it/s]"
     ]
    },
    {
     "name": "stderr",
     "output_type": "stream",
     "text": [
      "INFO:smac.intensification.intensification.Intensifier:Wallclock time limit for intensification reached (used: 159.498395 sec, available: 0.000010 sec)\n"
     ]
    },
    {
     "name": "stdout",
     "output_type": "stream",
     "text": [
      "\n",
      "use_cuda=True\n",
      "MLP Using Cuda\n",
      "hidden_sizes= [155, 81, 58]\n",
      "100%|██████████| 50/50 [01:43<00:00,  2.07s/it]\n",
      "Simulating Surrogate Trajectory: \n",
      "  2%|▏         | 4/200 [00:00<00:06, 32.02it/s]"
     ]
    },
    {
     "name": "stderr",
     "output_type": "stream",
     "text": [
      "/home/william/proj/autompc_dev/autompc/control/ilqr.py:525: RuntimeWarning: invalid value encountered in double_scalars\n",
      "  if (obj - new_obj) / (-expect_cost_reduction) > ls_cost_threshold:\n"
     ]
    },
    {
     "name": "stdout",
     "output_type": "stream",
     "text": [
      " 99%|█████████▉| 198/200 [00:10<00:00, 18.21it/s]\n",
      "Simulating True Dynamics Trajectory\n",
      " 99%|█████████▉| 198/200 [00:09<00:00, 20.31it/s]"
     ]
    },
    {
     "name": "stderr",
     "output_type": "stream",
     "text": [
      "INFO:smac.intensification.intensification.Intensifier:Wallclock time limit for intensification reached (used: 123.963711 sec, available: 0.000010 sec)\n"
     ]
    },
    {
     "name": "stdout",
     "output_type": "stream",
     "text": [
      "\n",
      "use_cuda=True\n",
      "MLP Using Cuda\n",
      "hidden_sizes= [231, 172, 168]\n",
      "100%|██████████| 50/50 [01:37<00:00,  1.95s/it]\n",
      "Simulating Surrogate Trajectory: \n",
      " 99%|█████████▉| 198/200 [01:43<00:01,  1.92it/s]\n",
      "Simulating True Dynamics Trajectory\n",
      " 99%|█████████▉| 198/200 [02:02<00:01,  1.62it/s]"
     ]
    },
    {
     "name": "stderr",
     "output_type": "stream",
     "text": [
      "INFO:smac.intensification.intensification.Intensifier:Wallclock time limit for intensification reached (used: 322.946566 sec, available: 0.000010 sec)\n"
     ]
    },
    {
     "name": "stdout",
     "output_type": "stream",
     "text": [
      "\n",
      "use_cuda=True\n",
      "MLP Using Cuda\n",
      "hidden_sizes= [200, 191, 130]\n",
      "100%|██████████| 50/50 [01:49<00:00,  2.20s/it]\n",
      "Simulating Surrogate Trajectory: \n",
      " 99%|█████████▉| 198/200 [00:20<00:00,  9.87it/s]\n",
      "Simulating True Dynamics Trajectory\n",
      " 99%|█████████▉| 198/200 [00:21<00:00,  9.06it/s]"
     ]
    },
    {
     "name": "stderr",
     "output_type": "stream",
     "text": [
      "INFO:smac.intensification.intensification.Intensifier:Wallclock time limit for intensification reached (used: 151.910295 sec, available: 0.000010 sec)\n"
     ]
    },
    {
     "name": "stdout",
     "output_type": "stream",
     "text": [
      "\n",
      "use_cuda=True\n",
      "MLP Using Cuda\n",
      "hidden_sizes= [190, 180]\n",
      "100%|██████████| 50/50 [01:30<00:00,  1.82s/it]\n",
      "Simulating Surrogate Trajectory: \n",
      " 99%|█████████▉| 198/200 [01:22<00:00,  2.39it/s]\n",
      "Simulating True Dynamics Trajectory\n",
      " 99%|█████████▉| 198/200 [01:12<00:00,  2.72it/s]"
     ]
    },
    {
     "name": "stderr",
     "output_type": "stream",
     "text": [
      "INFO:smac.intensification.intensification.Intensifier:Wallclock time limit for intensification reached (used: 246.399012 sec, available: 0.000010 sec)\n"
     ]
    },
    {
     "name": "stdout",
     "output_type": "stream",
     "text": [
      "\n",
      "use_cuda=True\n",
      "MLP Using Cuda\n",
      "hidden_sizes= [215, 157, 175, 128]\n",
      "100%|██████████| 50/50 [02:12<00:00,  2.64s/it]\n",
      "Simulating Surrogate Trajectory: \n",
      " 99%|█████████▉| 198/200 [00:52<00:00,  3.79it/s]\n",
      "Simulating True Dynamics Trajectory\n",
      " 99%|█████████▉| 198/200 [01:06<00:00,  2.99it/s]"
     ]
    },
    {
     "name": "stderr",
     "output_type": "stream",
     "text": [
      "INFO:smac.intensification.intensification.Intensifier:Wallclock time limit for intensification reached (used: 250.809644 sec, available: 0.000010 sec)\n"
     ]
    },
    {
     "name": "stdout",
     "output_type": "stream",
     "text": [
      "\n",
      "use_cuda=True\n",
      "MLP Using Cuda\n",
      "hidden_sizes= [230, 157, 175, 134]\n",
      "100%|██████████| 50/50 [02:10<00:00,  2.61s/it]\n",
      "Simulating Surrogate Trajectory: \n",
      " 99%|█████████▉| 198/200 [01:00<00:00,  3.29it/s]\n",
      "Simulating True Dynamics Trajectory\n",
      " 99%|█████████▉| 198/200 [01:00<00:00,  3.28it/s]"
     ]
    },
    {
     "name": "stderr",
     "output_type": "stream",
     "text": [
      "INFO:smac.intensification.intensification.Intensifier:Wallclock time limit for intensification reached (used: 250.983502 sec, available: 0.000010 sec)\n"
     ]
    },
    {
     "name": "stdout",
     "output_type": "stream",
     "text": [
      "\n",
      "use_cuda=True\n",
      "MLP Using Cuda\n",
      "hidden_sizes= [215, 156, 170]\n",
      "100%|██████████| 50/50 [01:48<00:00,  2.18s/it]\n",
      "Simulating Surrogate Trajectory: \n",
      " 99%|█████████▉| 198/200 [00:57<00:00,  3.44it/s]\n",
      "Simulating True Dynamics Trajectory\n",
      " 99%|█████████▉| 198/200 [01:18<00:00,  2.52it/s]"
     ]
    },
    {
     "name": "stderr",
     "output_type": "stream",
     "text": [
      "INFO:smac.intensification.intensification.Intensifier:Wallclock time limit for intensification reached (used: 245.036553 sec, available: 0.000010 sec)\n"
     ]
    },
    {
     "name": "stdout",
     "output_type": "stream",
     "text": [
      "\n",
      "use_cuda=True\n",
      "MLP Using Cuda\n",
      "hidden_sizes= [186, 160, 182, 133]\n",
      "100%|██████████| 50/50 [02:07<00:00,  2.56s/it]\n",
      "Simulating Surrogate Trajectory: \n",
      " 99%|█████████▉| 198/200 [00:38<00:00,  5.14it/s]\n",
      "Simulating True Dynamics Trajectory\n",
      " 99%|█████████▉| 198/200 [00:31<00:00,  6.20it/s]"
     ]
    },
    {
     "name": "stderr",
     "output_type": "stream",
     "text": [
      "INFO:smac.intensification.intensification.Intensifier:Wallclock time limit for intensification reached (used: 198.444008 sec, available: 0.000010 sec)\n"
     ]
    },
    {
     "name": "stdout",
     "output_type": "stream",
     "text": [
      "\n",
      "use_cuda=True\n",
      "MLP Using Cuda\n",
      "hidden_sizes= [232, 157, 119, 128]\n",
      "100%|██████████| 50/50 [01:59<00:00,  2.38s/it]\n",
      "Simulating Surrogate Trajectory: \n",
      " 99%|█████████▉| 198/200 [02:01<00:01,  1.63it/s]\n",
      "Simulating True Dynamics Trajectory\n",
      " 99%|█████████▉| 198/200 [02:15<00:01,  1.46it/s]"
     ]
    },
    {
     "name": "stderr",
     "output_type": "stream",
     "text": [
      "INFO:smac.intensification.intensification.Intensifier:Wallclock time limit for intensification reached (used: 376.331367 sec, available: 0.000010 sec)\n"
     ]
    },
    {
     "name": "stdout",
     "output_type": "stream",
     "text": [
      "\n",
      "use_cuda=True\n",
      "MLP Using Cuda\n",
      "hidden_sizes= [204, 141, 175, 134]\n",
      "100%|██████████| 50/50 [02:05<00:00,  2.51s/it]\n",
      "Simulating Surrogate Trajectory: \n",
      " 99%|█████████▉| 198/200 [00:31<00:00,  6.19it/s]\n",
      "Simulating True Dynamics Trajectory\n",
      " 99%|█████████▉| 198/200 [00:38<00:00,  5.18it/s]"
     ]
    },
    {
     "name": "stderr",
     "output_type": "stream",
     "text": [
      "INFO:smac.intensification.intensification.Intensifier:Wallclock time limit for intensification reached (used: 195.604619 sec, available: 0.000010 sec)\n"
     ]
    },
    {
     "name": "stdout",
     "output_type": "stream",
     "text": [
      "\n",
      "use_cuda=True\n",
      "MLP Using Cuda\n",
      "hidden_sizes= [195, 180, 175]\n",
      "100%|██████████| 50/50 [01:39<00:00,  2.00s/it]\n",
      "Simulating Surrogate Trajectory: \n",
      " 99%|█████████▉| 198/200 [01:14<00:00,  2.66it/s]\n",
      "Simulating True Dynamics Trajectory\n",
      " 99%|█████████▉| 198/200 [01:14<00:00,  2.66it/s]"
     ]
    },
    {
     "name": "stderr",
     "output_type": "stream",
     "text": [
      "INFO:smac.intensification.intensification.Intensifier:Wallclock time limit for intensification reached (used: 248.642126 sec, available: 0.000010 sec)\n"
     ]
    },
    {
     "name": "stdout",
     "output_type": "stream",
     "text": [
      "\n",
      "use_cuda=True\n",
      "MLP Using Cuda\n",
      "hidden_sizes= [214, 166, 178, 128]\n",
      "100%|██████████| 50/50 [02:02<00:00,  2.45s/it]\n",
      "Simulating Surrogate Trajectory: \n",
      " 99%|█████████▉| 198/200 [00:20<00:00,  9.54it/s]\n",
      "Simulating True Dynamics Trajectory\n",
      " 99%|█████████▉| 198/200 [00:22<00:00,  8.89it/s]"
     ]
    },
    {
     "name": "stderr",
     "output_type": "stream",
     "text": [
      "INFO:smac.intensification.intensification.Intensifier:Wallclock time limit for intensification reached (used: 165.499018 sec, available: 0.000010 sec)\n"
     ]
    },
    {
     "name": "stdout",
     "output_type": "stream",
     "text": [
      "\n",
      "use_cuda=True\n",
      "MLP Using Cuda\n",
      "hidden_sizes= [194, 192]\n",
      "100%|██████████| 50/50 [01:24<00:00,  1.68s/it]\n",
      "Simulating Surrogate Trajectory: \n",
      " 99%|█████████▉| 198/200 [00:46<00:00,  4.25it/s]\n",
      "Simulating True Dynamics Trajectory\n",
      " 99%|█████████▉| 198/200 [00:55<00:00,  3.59it/s]"
     ]
    },
    {
     "name": "stderr",
     "output_type": "stream",
     "text": [
      "INFO:smac.intensification.intensification.Intensifier:Wallclock time limit for intensification reached (used: 186.080179 sec, available: 0.000010 sec)\n"
     ]
    },
    {
     "name": "stdout",
     "output_type": "stream",
     "text": [
      "\n",
      "use_cuda=True\n",
      "MLP Using Cuda\n",
      "hidden_sizes= [204, 161, 174]\n",
      "100%|██████████| 50/50 [01:46<00:00,  2.13s/it]\n",
      "Simulating Surrogate Trajectory: \n",
      " 99%|█████████▉| 198/200 [00:17<00:00, 11.35it/s]\n",
      "Simulating True Dynamics Trajectory\n",
      " 99%|█████████▉| 198/200 [00:17<00:00, 11.38it/s]"
     ]
    },
    {
     "name": "stderr",
     "output_type": "stream",
     "text": [
      "INFO:smac.intensification.intensification.Intensifier:Wallclock time limit for intensification reached (used: 141.263246 sec, available: 0.000010 sec)\n"
     ]
    },
    {
     "name": "stdout",
     "output_type": "stream",
     "text": [
      "\n",
      "use_cuda=True\n",
      "MLP Using Cuda\n",
      "hidden_sizes= [194, 200, 175, 128]\n",
      "100%|██████████| 50/50 [02:02<00:00,  2.45s/it]\n",
      "Simulating Surrogate Trajectory: \n",
      " 99%|█████████▉| 198/200 [02:03<00:01,  1.60it/s]\n",
      "Simulating True Dynamics Trajectory\n",
      " 99%|█████████▉| 198/200 [01:25<00:00,  2.33it/s]"
     ]
    },
    {
     "name": "stderr",
     "output_type": "stream",
     "text": [
      "INFO:smac.intensification.intensification.Intensifier:Wallclock time limit for intensification reached (used: 331.300775 sec, available: 0.000010 sec)\n"
     ]
    },
    {
     "name": "stdout",
     "output_type": "stream",
     "text": [
      "\n",
      "use_cuda=True\n",
      "MLP Using Cuda\n",
      "hidden_sizes= [179, 231]\n",
      "100%|██████████| 50/50 [01:20<00:00,  1.62s/it]\n",
      "Simulating Surrogate Trajectory: \n",
      " 99%|█████████▉| 198/200 [01:28<00:00,  2.23it/s]\n",
      "Simulating True Dynamics Trajectory\n",
      " 99%|█████████▉| 198/200 [01:19<00:00,  2.50it/s]"
     ]
    },
    {
     "name": "stderr",
     "output_type": "stream",
     "text": [
      "INFO:smac.intensification.intensification.Intensifier:Wallclock time limit for intensification reached (used: 249.133825 sec, available: 0.000010 sec)\n"
     ]
    },
    {
     "name": "stdout",
     "output_type": "stream",
     "text": [
      "\n",
      "use_cuda=True\n",
      "MLP Using Cuda\n",
      "hidden_sizes= [204, 156, 178]\n",
      "100%|██████████| 50/50 [01:40<00:00,  2.01s/it]\n",
      "Simulating Surrogate Trajectory: \n",
      " 99%|█████████▉| 198/200 [01:12<00:00,  2.72it/s]\n",
      "Simulating True Dynamics Trajectory\n",
      " 99%|█████████▉| 198/200 [01:09<00:00,  2.84it/s]"
     ]
    },
    {
     "name": "stderr",
     "output_type": "stream",
     "text": [
      "INFO:smac.intensification.intensification.Intensifier:Wallclock time limit for intensification reached (used: 243.227836 sec, available: 0.000010 sec)\n"
     ]
    },
    {
     "name": "stdout",
     "output_type": "stream",
     "text": [
      "\n",
      "use_cuda=True\n",
      "MLP Using Cuda\n",
      "hidden_sizes= [215, 191, 175, 125]\n",
      "100%|██████████| 50/50 [02:12<00:00,  2.65s/it]\n",
      "Simulating Surrogate Trajectory: \n",
      " 99%|█████████▉| 198/200 [00:58<00:00,  3.41it/s]\n",
      "Simulating True Dynamics Trajectory\n",
      " 99%|█████████▉| 198/200 [01:01<00:00,  3.20it/s]"
     ]
    },
    {
     "name": "stderr",
     "output_type": "stream",
     "text": [
      "INFO:smac.intensification.intensification.Intensifier:Wallclock time limit for intensification reached (used: 252.485786 sec, available: 0.000010 sec)\n"
     ]
    },
    {
     "name": "stdout",
     "output_type": "stream",
     "text": [
      "\n",
      "use_cuda=True\n",
      "MLP Using Cuda\n",
      "hidden_sizes= [197, 175, 215, 146]\n",
      "100%|██████████| 50/50 [02:09<00:00,  2.60s/it]\n",
      "Simulating Surrogate Trajectory: \n",
      " 99%|█████████▉| 198/200 [00:43<00:00,  4.54it/s]\n",
      "Simulating True Dynamics Trajectory\n",
      " 99%|█████████▉| 198/200 [00:20<00:00,  9.61it/s]"
     ]
    },
    {
     "name": "stderr",
     "output_type": "stream",
     "text": [
      "INFO:smac.intensification.intensification.Intensifier:Wallclock time limit for intensification reached (used: 194.127894 sec, available: 0.000010 sec)\n"
     ]
    },
    {
     "name": "stdout",
     "output_type": "stream",
     "text": [
      "\n",
      "use_cuda=True\n",
      "MLP Using Cuda\n",
      "hidden_sizes= [182, 198]\n",
      "100%|██████████| 50/50 [01:30<00:00,  1.80s/it]\n",
      "Simulating Surrogate Trajectory: \n",
      " 99%|█████████▉| 198/200 [00:22<00:00,  8.96it/s]\n",
      "Simulating True Dynamics Trajectory\n",
      " 99%|█████████▉| 198/200 [00:35<00:00,  5.56it/s]"
     ]
    },
    {
     "name": "stderr",
     "output_type": "stream",
     "text": [
      "INFO:smac.intensification.intensification.Intensifier:Wallclock time limit for intensification reached (used: 147.945374 sec, available: 0.000010 sec)\n"
     ]
    },
    {
     "name": "stdout",
     "output_type": "stream",
     "text": [
      "\n",
      "use_cuda=True\n",
      "MLP Using Cuda\n",
      "hidden_sizes= [191, 209]\n",
      "100%|██████████| 50/50 [01:23<00:00,  1.68s/it]\n",
      "Simulating Surrogate Trajectory: \n",
      " 99%|█████████▉| 198/200 [00:34<00:00,  5.78it/s]\n",
      "Simulating True Dynamics Trajectory\n",
      " 99%|█████████▉| 198/200 [00:32<00:00,  6.04it/s]"
     ]
    },
    {
     "name": "stderr",
     "output_type": "stream",
     "text": [
      "INFO:smac.intensification.intensification.Intensifier:Wallclock time limit for intensification reached (used: 151.039828 sec, available: 0.000010 sec)\n"
     ]
    },
    {
     "name": "stdout",
     "output_type": "stream",
     "text": [
      "\n",
      "use_cuda=True\n",
      "MLP Using Cuda\n",
      "hidden_sizes= [205, 188, 196, 120]\n",
      "100%|██████████| 50/50 [02:02<00:00,  2.45s/it]\n",
      "Simulating Surrogate Trajectory: \n",
      " 99%|█████████▉| 198/200 [01:59<00:01,  1.66it/s]\n",
      "Simulating True Dynamics Trajectory\n",
      " 99%|█████████▉| 198/200 [01:33<00:00,  2.11it/s]"
     ]
    },
    {
     "name": "stderr",
     "output_type": "stream",
     "text": [
      "INFO:smac.intensification.intensification.Intensifier:Wallclock time limit for intensification reached (used: 335.596134 sec, available: 0.000010 sec)\n"
     ]
    },
    {
     "name": "stdout",
     "output_type": "stream",
     "text": [
      "\n",
      "use_cuda=True\n",
      "MLP Using Cuda\n",
      "hidden_sizes= [124, 102]\n",
      "100%|██████████| 50/50 [01:20<00:00,  1.60s/it]\n",
      "Simulating Surrogate Trajectory: \n",
      " 99%|█████████▉| 198/200 [00:08<00:00, 24.10it/s]\n",
      "Simulating True Dynamics Trajectory\n",
      " 99%|█████████▉| 198/200 [00:07<00:00, 24.84it/s]"
     ]
    },
    {
     "name": "stderr",
     "output_type": "stream",
     "text": [
      "INFO:smac.intensification.intensification.Intensifier:Wallclock time limit for intensification reached (used: 96.330788 sec, available: 0.000010 sec)\n"
     ]
    },
    {
     "name": "stdout",
     "output_type": "stream",
     "text": [
      "\n",
      "use_cuda=True\n",
      "MLP Using Cuda\n",
      "hidden_sizes= [146, 241, 223, 216]\n",
      "100%|██████████| 50/50 [02:02<00:00,  2.45s/it]\n",
      "Simulating Surrogate Trajectory: \n",
      " 99%|█████████▉| 198/200 [00:54<00:00,  3.61it/s]\n",
      "Simulating True Dynamics Trajectory\n",
      " 99%|█████████▉| 198/200 [01:11<00:00,  2.77it/s]"
     ]
    },
    {
     "name": "stderr",
     "output_type": "stream",
     "text": [
      "INFO:smac.intensification.intensification.Intensifier:Wallclock time limit for intensification reached (used: 248.803148 sec, available: 0.000010 sec)\n"
     ]
    },
    {
     "name": "stdout",
     "output_type": "stream",
     "text": [
      "\n",
      "use_cuda=True\n",
      "MLP Using Cuda\n",
      "hidden_sizes= [70, 233, 219, 101]\n",
      "100%|██████████| 50/50 [02:08<00:00,  2.57s/it]\n",
      "Simulating Surrogate Trajectory: \n",
      "  2%|▏         | 3/200 [00:00<00:08, 24.28it/s]"
     ]
    },
    {
     "name": "stderr",
     "output_type": "stream",
     "text": [
      "/home/william/proj/autompc_dev/autompc/control/ilqr.py:525: RuntimeWarning: invalid value encountered in double_scalars\n",
      "  if (obj - new_obj) / (-expect_cost_reduction) > ls_cost_threshold:\n"
     ]
    },
    {
     "name": "stdout",
     "output_type": "stream",
     "text": [
      " 99%|█████████▉| 198/200 [00:10<00:00, 18.77it/s]\n",
      "Simulating True Dynamics Trajectory\n",
      " 99%|█████████▉| 198/200 [00:09<00:00, 21.60it/s]"
     ]
    },
    {
     "name": "stderr",
     "output_type": "stream",
     "text": [
      "INFO:smac.intensification.intensification.Intensifier:Wallclock time limit for intensification reached (used: 148.358266 sec, available: 0.000010 sec)\n"
     ]
    },
    {
     "name": "stdout",
     "output_type": "stream",
     "text": [
      "\n",
      "use_cuda=True\n",
      "MLP Using Cuda\n",
      "hidden_sizes= [179, 199]\n",
      "100%|██████████| 50/50 [01:20<00:00,  1.61s/it]\n",
      "Simulating Surrogate Trajectory: \n",
      " 99%|█████████▉| 198/200 [01:08<00:00,  2.90it/s]\n",
      "Simulating True Dynamics Trajectory\n",
      " 99%|█████████▉| 198/200 [00:53<00:00,  3.70it/s]"
     ]
    },
    {
     "name": "stderr",
     "output_type": "stream",
     "text": [
      "INFO:smac.intensification.intensification.Intensifier:Wallclock time limit for intensification reached (used: 202.425406 sec, available: 0.000010 sec)\n"
     ]
    },
    {
     "name": "stdout",
     "output_type": "stream",
     "text": [
      "\n",
      "use_cuda=True\n",
      "MLP Using Cuda\n",
      "hidden_sizes= [198, 186]\n",
      "100%|██████████| 50/50 [01:24<00:00,  1.69s/it]\n",
      "Simulating Surrogate Trajectory: \n",
      " 99%|█████████▉| 198/200 [01:37<00:00,  2.04it/s]\n",
      "Simulating True Dynamics Trajectory\n",
      " 99%|█████████▉| 198/200 [01:40<00:01,  1.98it/s]"
     ]
    },
    {
     "name": "stderr",
     "output_type": "stream",
     "text": [
      "INFO:smac.intensification.intensification.Intensifier:Wallclock time limit for intensification reached (used: 281.855257 sec, available: 0.000010 sec)\n"
     ]
    },
    {
     "name": "stdout",
     "output_type": "stream",
     "text": [
      "\n",
      "use_cuda=True\n",
      "MLP Using Cuda\n",
      "hidden_sizes= [173, 199]\n",
      "100%|██████████| 50/50 [01:21<00:00,  1.64s/it]\n",
      "Simulating Surrogate Trajectory: \n",
      " 99%|█████████▉| 198/200 [00:22<00:00,  8.79it/s]\n",
      "Simulating True Dynamics Trajectory\n",
      " 99%|█████████▉| 198/200 [00:20<00:00,  9.50it/s]"
     ]
    },
    {
     "name": "stderr",
     "output_type": "stream",
     "text": [
      "INFO:smac.intensification.intensification.Intensifier:Wallclock time limit for intensification reached (used: 125.218949 sec, available: 0.000010 sec)\n"
     ]
    },
    {
     "name": "stdout",
     "output_type": "stream",
     "text": [
      "\n",
      "use_cuda=True\n",
      "MLP Using Cuda\n",
      "hidden_sizes= [195, 166, 192, 124]\n",
      "100%|██████████| 50/50 [02:00<00:00,  2.40s/it]\n",
      "Simulating Surrogate Trajectory: \n",
      " 99%|█████████▉| 198/200 [01:44<00:01,  1.89it/s]\n",
      "Simulating True Dynamics Trajectory\n",
      " 99%|█████████▉| 198/200 [01:55<00:01,  1.71it/s]"
     ]
    },
    {
     "name": "stderr",
     "output_type": "stream",
     "text": [
      "INFO:smac.intensification.intensification.Intensifier:Wallclock time limit for intensification reached (used: 340.370361 sec, available: 0.000010 sec)\n"
     ]
    },
    {
     "name": "stdout",
     "output_type": "stream",
     "text": [
      "\n",
      "use_cuda=True\n",
      "MLP Using Cuda\n",
      "hidden_sizes= [183, 237]\n",
      "100%|██████████| 50/50 [01:24<00:00,  1.70s/it]\n",
      "Simulating Surrogate Trajectory: \n",
      " 99%|█████████▉| 198/200 [00:48<00:00,  4.11it/s]\n",
      "Simulating True Dynamics Trajectory\n",
      " 99%|█████████▉| 198/200 [00:54<00:00,  3.66it/s]"
     ]
    },
    {
     "name": "stderr",
     "output_type": "stream",
     "text": [
      "INFO:smac.intensification.intensification.Intensifier:Wallclock time limit for intensification reached (used: 187.258006 sec, available: 0.000010 sec)\n"
     ]
    },
    {
     "name": "stdout",
     "output_type": "stream",
     "text": [
      "\n",
      "use_cuda=True\n",
      "MLP Using Cuda\n",
      "hidden_sizes= [179, 149, 180]\n",
      "100%|██████████| 50/50 [01:34<00:00,  1.90s/it]\n",
      "Simulating Surrogate Trajectory: \n",
      " 99%|█████████▉| 198/200 [01:07<00:00,  2.93it/s]\n",
      "Simulating True Dynamics Trajectory\n",
      " 99%|█████████▉| 198/200 [01:10<00:00,  2.80it/s]"
     ]
    },
    {
     "name": "stderr",
     "output_type": "stream",
     "text": [
      "INFO:smac.intensification.intensification.Intensifier:Wallclock time limit for intensification reached (used: 233.063735 sec, available: 0.000010 sec)\n"
     ]
    },
    {
     "name": "stdout",
     "output_type": "stream",
     "text": [
      "\n",
      "use_cuda=True\n",
      "MLP Using Cuda\n",
      "hidden_sizes= [168, 199]\n",
      "100%|██████████| 50/50 [01:23<00:00,  1.67s/it]\n",
      "Simulating Surrogate Trajectory: \n",
      " 99%|█████████▉| 198/200 [01:19<00:00,  2.50it/s]\n",
      "Simulating True Dynamics Trajectory\n",
      " 99%|█████████▉| 198/200 [01:39<00:01,  1.98it/s]"
     ]
    },
    {
     "name": "stderr",
     "output_type": "stream",
     "text": [
      "INFO:smac.intensification.intensification.Intensifier:Wallclock time limit for intensification reached (used: 262.782725 sec, available: 0.000010 sec)\n"
     ]
    },
    {
     "name": "stdout",
     "output_type": "stream",
     "text": [
      "\n",
      "use_cuda=True\n",
      "MLP Using Cuda\n",
      "hidden_sizes= [42, 56]\n",
      "100%|██████████| 50/50 [01:21<00:00,  1.64s/it]\n",
      "Simulating Surrogate Trajectory: \n",
      " 99%|█████████▉| 198/200 [00:06<00:00, 28.78it/s]\n",
      "Simulating True Dynamics Trajectory\n",
      " 99%|█████████▉| 198/200 [00:06<00:00, 29.62it/s]"
     ]
    },
    {
     "name": "stderr",
     "output_type": "stream",
     "text": [
      "INFO:smac.intensification.intensification.Intensifier:Wallclock time limit for intensification reached (used: 95.464433 sec, available: 0.000010 sec)\n"
     ]
    },
    {
     "name": "stdout",
     "output_type": "stream",
     "text": [
      "\n",
      "use_cuda=True\n",
      "MLP Using Cuda\n",
      "hidden_sizes= [174, 199]\n",
      "100%|██████████| 50/50 [01:23<00:00,  1.67s/it]\n",
      "Simulating Surrogate Trajectory: \n",
      " 99%|█████████▉| 198/200 [00:21<00:00,  9.12it/s]\n",
      "Simulating True Dynamics Trajectory\n",
      " 99%|█████████▉| 198/200 [00:20<00:00,  9.44it/s]"
     ]
    },
    {
     "name": "stderr",
     "output_type": "stream",
     "text": [
      "INFO:smac.intensification.intensification.Intensifier:Wallclock time limit for intensification reached (used: 126.049941 sec, available: 0.000010 sec)\n",
      "INFO:smac.stats.stats.Stats:##########################################################\n",
      "INFO:smac.stats.stats.Stats:Statistics:\n",
      "INFO:smac.stats.stats.Stats:#Incumbent changed: 5\n",
      "INFO:smac.stats.stats.Stats:#Submitted target algorithm runs: 100 / 100.0\n",
      "INFO:smac.stats.stats.Stats:#Finished target algorithm runs: 100 / 100.0\n",
      "INFO:smac.stats.stats.Stats:#Configurations: 100\n",
      "INFO:smac.stats.stats.Stats:Used wallclock time: 19838.05 / inf sec \n",
      "INFO:smac.stats.stats.Stats:Used target algorithm runtime: 19708.78 / inf sec\n",
      "INFO:smac.stats.stats.Stats:##########################################################\n",
      "INFO:smac.facade.smac_hpo_facade.SMAC4HPO:Final Incumbent: Configuration:\n",
      "  _cost:dx_F, Value: 0.1539926526059493\n",
      "  _cost:dx_Q, Value: 0.017673128603665555\n",
      "  _cost:omega_F, Value: 3651.7412725483823\n",
      "  _cost:omega_Q, Value: 19.91103049494464\n",
      "  _cost:theta_F, Value: 0.31665933931825097\n",
      "  _cost:theta_Q, Value: 3846.4243725951997\n",
      "  _cost:u_R, Value: 0.058293519864479566\n",
      "  _cost:x_F, Value: 0.021390614690374933\n",
      "  _cost:x_Q, Value: 0.0027384196342643626\n",
      "  _ctrlr:horizon, Value: 9\n",
      "  _model:hidden_size_1, Value: 211\n",
      "  _model:hidden_size_2, Value: 156\n",
      "  _model:hidden_size_3, Value: 170\n",
      "  _model:hidden_size_4, Value: 133\n",
      "  _model:lr, Value: 0.0009802375311041898\n",
      "  _model:n_hidden_layers, Value: '4'\n",
      "  _model:nonlintype, Value: 'selu'\n",
      "\n",
      "INFO:smac.facade.smac_hpo_facade.SMAC4HPO:Estimated cost of incumbent: 18.000000\n"
     ]
    },
    {
     "name": "stdout",
     "output_type": "stream",
     "text": [
      "\n",
      "use_cuda=True\n",
      "MLP Using Cuda\n",
      "hidden_sizes= [211, 156, 170, 133]\n",
      "100%|██████████| 50/50 [04:09<00:00,  4.99s/it]\n"
     ]
    }
   ],
   "source": [
    "surrogate_cfg = surrogate_factory.get_configuration_space().get_default_configuration()\n",
    "surrogate_cfg[\"n_hidden_layers\"] = \"2\"\n",
    "surrogate_cfg[\"hidden_size_1\"] = 128\n",
    "surrogate_cfg[\"hidden_size_2\"] = 128       \n",
    "surrogate_cfg[\"nonlintype\"] = \"relu\"\n",
    "\n",
    "tuner = PipelineTuner(surrogate_mode=\"fixedcfg\", surrogate_factory=surrogate_factory,\n",
    "                     surrogate_cfg=surrogate_cfg, surrogate_split=0.5)\n",
    "\n",
    "controller, tune_result2 = tuner.run(pipeline, task, trajs, n_iters=100, rng=np.random.default_rng(100),\n",
    "                                    truedyn=benchmark.dynamics)"
   ]
  },
  {
   "cell_type": "markdown",
   "metadata": {},
   "source": [
    "We can also auto-tune a particular surrogate class"
   ]
  },
  {
   "cell_type": "code",
   "execution_count": 8,
   "metadata": {},
   "outputs": [
    {
     "name": "stderr",
     "output_type": "stream",
     "text": [
      "/home/william/.local/lib/python3.8/site-packages/numpy/core/_asarray.py:83: VisibleDeprecationWarning: Creating an ndarray from ragged nested sequences (which is a list-or-tuple of lists-or-tuples-or ndarrays with different lengths or shapes) is deprecated. If you meant to do this, you must specify 'dtype=object' when creating the ndarray\n",
      "  return array(a, dtype, copy=False, order=order)\n",
      "INFO:smac.utils.io.cmd_reader.CMDReader:Output to smac3-output_2021-05-02_23:56:56_364282\n",
      "INFO:smac.facade.smac_hpo_facade.SMAC4HPO:Optimizing a deterministic scenario for quality without a tuner timeout - will make SMAC deterministic and only evaluate one configuration per iteration!\n",
      "INFO:smac.initial_design.sobol_design.SobolDesign:Running initial design for 25 configurations\n",
      "INFO:smac.facade.smac_hpo_facade.SMAC4HPO:<class 'smac.facade.smac_hpo_facade.SMAC4HPO'>\n",
      "INFO:smac.optimizer.smbo.SMBO:Running initial design\n",
      "INFO:smac.intensification.intensification.Intensifier:First run, no incumbent provided; challenger is assumed to be the incumbent\n"
     ]
    },
    {
     "name": "stdout",
     "output_type": "stream",
     "text": [
      "Evaluating cfg:\n",
      "Configuration:\n",
      "  _MLP:hidden_size_1, Value: 136\n",
      "  _MLP:hidden_size_2, Value: 136\n",
      "  _MLP:hidden_size_3, Value: 136\n",
      "  _MLP:lr, Value: 0.003162277660168379\n",
      "  _MLP:n_hidden_layers, Value: '3'\n",
      "  _MLP:nonlintype, Value: 'sigmoid'\n",
      "  model, Value: 'MLP'\n",
      "\n",
      "use_cuda=True\n",
      "MLP Using Cuda\n",
      "hidden_sizes= [136, 136, 136]\n",
      "100%|██████████| 50/50 [01:11<00:00,  1.44s/it]"
     ]
    },
    {
     "name": "stderr",
     "output_type": "stream",
     "text": [
      "INFO:smac.intensification.intensification.Intensifier:First run, no incumbent provided; challenger is assumed to be the incumbent\n",
      "INFO:smac.intensification.intensification.Intensifier:Updated estimated cost of incumbent on 1 runs: 0.0428\n"
     ]
    },
    {
     "name": "stdout",
     "output_type": "stream",
     "text": [
      "\n",
      "Evaluating cfg:\n",
      "Configuration:\n",
      "  _MLP:hidden_size_1, Value: 76\n",
      "  _MLP:hidden_size_2, Value: 76\n",
      "  _MLP:lr, Value: 0.056234132519034884\n",
      "  _MLP:n_hidden_layers, Value: '2'\n",
      "  _MLP:nonlintype, Value: 'selu'\n",
      "  model, Value: 'MLP'\n",
      "\n",
      "use_cuda=True\n",
      "MLP Using Cuda\n",
      "hidden_sizes= [76, 76]\n",
      "100%|██████████| 50/50 [01:02<00:00,  1.25s/it]"
     ]
    },
    {
     "name": "stderr",
     "output_type": "stream",
     "text": [
      "INFO:smac.intensification.intensification.Intensifier:Wallclock time limit for intensification reached (used: 134.676168 sec, available: 0.000010 sec)\n"
     ]
    },
    {
     "name": "stdout",
     "output_type": "stream",
     "text": [
      "\n",
      "Evaluating cfg:\n",
      "Configuration:\n",
      "  _MLP:hidden_size_1, Value: 196\n",
      "  _MLP:hidden_size_2, Value: 196\n",
      "  _MLP:hidden_size_3, Value: 76\n",
      "  _MLP:hidden_size_4, Value: 196\n",
      "  _MLP:lr, Value: 0.00017782794100389232\n",
      "  _MLP:n_hidden_layers, Value: '4'\n",
      "  _MLP:nonlintype, Value: 'tanh'\n",
      "  model, Value: 'MLP'\n",
      "\n",
      "use_cuda=True\n",
      "MLP Using Cuda\n",
      "hidden_sizes= [196, 196, 76, 196]\n",
      "100%|██████████| 50/50 [01:32<00:00,  1.86s/it]"
     ]
    },
    {
     "name": "stderr",
     "output_type": "stream",
     "text": [
      "INFO:smac.intensification.intensification.Intensifier:Wallclock time limit for intensification reached (used: 92.966346 sec, available: 0.000010 sec)\n"
     ]
    },
    {
     "name": "stdout",
     "output_type": "stream",
     "text": [
      "\n",
      "Evaluating cfg:\n",
      "Configuration:\n",
      "  _MLP:hidden_size_1, Value: 106\n",
      "  _MLP:lr, Value: 0.013335214321633242\n",
      "  _MLP:n_hidden_layers, Value: '1'\n",
      "  _MLP:nonlintype, Value: 'selu'\n",
      "  model, Value: 'MLP'\n",
      "\n",
      "use_cuda=True\n",
      "MLP Using Cuda\n",
      "hidden_sizes= [106]\n",
      "100%|██████████| 50/50 [00:49<00:00,  1.01it/s]"
     ]
    },
    {
     "name": "stderr",
     "output_type": "stream",
     "text": [
      "INFO:smac.intensification.intensification.Intensifier:Wallclock time limit for intensification reached (used: 49.651087 sec, available: 0.000010 sec)\n"
     ]
    },
    {
     "name": "stdout",
     "output_type": "stream",
     "text": [
      "\n",
      "Evaluating cfg:\n",
      "Configuration:\n",
      "  _MLP:hidden_size_1, Value: 226\n",
      "  _MLP:hidden_size_2, Value: 106\n",
      "  _MLP:hidden_size_3, Value: 166\n",
      "  _MLP:lr, Value: 4.216965034285819e-05\n",
      "  _MLP:n_hidden_layers, Value: '3'\n",
      "  _MLP:nonlintype, Value: 'tanh'\n",
      "  model, Value: 'MLP'\n",
      "\n",
      "use_cuda=True\n",
      "MLP Using Cuda\n",
      "hidden_sizes= [226, 106, 166]\n",
      "100%|██████████| 50/50 [01:13<00:00,  1.46s/it]"
     ]
    },
    {
     "name": "stderr",
     "output_type": "stream",
     "text": [
      "INFO:smac.intensification.intensification.Intensifier:Wallclock time limit for intensification reached (used: 73.262192 sec, available: 0.000010 sec)\n"
     ]
    },
    {
     "name": "stdout",
     "output_type": "stream",
     "text": [
      "\n",
      "Evaluating cfg:\n",
      "Configuration:\n",
      "  _MLP:hidden_size_1, Value: 46\n",
      "  _MLP:hidden_size_2, Value: 166\n",
      "  _MLP:lr, Value: 0.0007498942093324555\n",
      "  _MLP:n_hidden_layers, Value: '2'\n",
      "  _MLP:nonlintype, Value: 'relu'\n",
      "  model, Value: 'MLP'\n",
      "\n",
      "use_cuda=True\n",
      "MLP Using Cuda\n",
      "hidden_sizes= [46, 166]\n",
      "100%|██████████| 50/50 [01:01<00:00,  1.24s/it]"
     ]
    },
    {
     "name": "stderr",
     "output_type": "stream",
     "text": [
      "INFO:smac.intensification.intensification.Intensifier:Wallclock time limit for intensification reached (used: 61.994810 sec, available: 0.000010 sec)\n"
     ]
    },
    {
     "name": "stdout",
     "output_type": "stream",
     "text": [
      "\n",
      "Evaluating cfg:\n",
      "Configuration:\n",
      "  _MLP:hidden_size_1, Value: 166\n",
      "  _MLP:hidden_size_2, Value: 46\n",
      "  _MLP:hidden_size_3, Value: 106\n",
      "  _MLP:hidden_size_4, Value: 106\n",
      "  _MLP:lr, Value: 0.23713737056616568\n",
      "  _MLP:n_hidden_layers, Value: '4'\n",
      "  _MLP:nonlintype, Value: 'sigmoid'\n",
      "  model, Value: 'MLP'\n",
      "\n",
      "use_cuda=True\n",
      "MLP Using Cuda\n",
      "hidden_sizes= [166, 46, 106, 106]\n",
      "100%|██████████| 50/50 [01:25<00:00,  1.72s/it]"
     ]
    },
    {
     "name": "stderr",
     "output_type": "stream",
     "text": [
      "INFO:smac.intensification.intensification.Intensifier:Wallclock time limit for intensification reached (used: 85.820832 sec, available: 0.000010 sec)\n"
     ]
    },
    {
     "name": "stdout",
     "output_type": "stream",
     "text": [
      "\n",
      "Evaluating cfg:\n",
      "Configuration:\n",
      "  _MLP:hidden_size_1, Value: 91\n",
      "  _MLP:hidden_size_2, Value: 61\n",
      "  _MLP:hidden_size_3, Value: 31\n",
      "  _MLP:lr, Value: 0.0003651741272548377\n",
      "  _MLP:n_hidden_layers, Value: '3'\n",
      "  _MLP:nonlintype, Value: 'sigmoid'\n",
      "  model, Value: 'MLP'\n",
      "\n",
      "use_cuda=True\n",
      "MLP Using Cuda\n",
      "hidden_sizes= [91, 61, 31]\n",
      "100%|██████████| 50/50 [01:08<00:00,  1.37s/it]"
     ]
    },
    {
     "name": "stderr",
     "output_type": "stream",
     "text": [
      "INFO:smac.intensification.intensification.Intensifier:Wallclock time limit for intensification reached (used: 68.440738 sec, available: 0.000010 sec)\n"
     ]
    },
    {
     "name": "stdout",
     "output_type": "stream",
     "text": [
      "\n",
      "Evaluating cfg:\n",
      "Configuration:\n",
      "  _MLP:hidden_size_1, Value: 211\n",
      "  _MLP:lr, Value: 0.11547819846894583\n",
      "  _MLP:n_hidden_layers, Value: '1'\n",
      "  _MLP:nonlintype, Value: 'relu'\n",
      "  model, Value: 'MLP'\n",
      "\n",
      "use_cuda=True\n",
      "MLP Using Cuda\n",
      "hidden_sizes= [211]\n",
      "100%|██████████| 50/50 [00:47<00:00,  1.05it/s]"
     ]
    },
    {
     "name": "stderr",
     "output_type": "stream",
     "text": [
      "INFO:smac.intensification.intensification.Intensifier:Wallclock time limit for intensification reached (used: 47.663620 sec, available: 0.000010 sec)\n"
     ]
    },
    {
     "name": "stdout",
     "output_type": "stream",
     "text": [
      "\n",
      "Evaluating cfg:\n",
      "Configuration:\n",
      "  _MLP:hidden_size_1, Value: 31\n",
      "  _MLP:hidden_size_2, Value: 121\n",
      "  _MLP:hidden_size_3, Value: 211\n",
      "  _MLP:hidden_size_4, Value: 181\n",
      "  _MLP:lr, Value: 0.00649381631576211\n",
      "  _MLP:n_hidden_layers, Value: '4'\n",
      "  _MLP:nonlintype, Value: 'tanh'\n",
      "  model, Value: 'MLP'\n",
      "\n",
      "use_cuda=True\n",
      "MLP Using Cuda\n",
      "hidden_sizes= [31, 121, 211, 181]\n",
      "100%|██████████| 50/50 [01:28<00:00,  1.77s/it]"
     ]
    },
    {
     "name": "stderr",
     "output_type": "stream",
     "text": [
      "INFO:smac.intensification.intensification.Intensifier:Wallclock time limit for intensification reached (used: 88.489160 sec, available: 0.000010 sec)\n"
     ]
    },
    {
     "name": "stdout",
     "output_type": "stream",
     "text": [
      "\n",
      "Evaluating cfg:\n",
      "Configuration:\n",
      "  _MLP:hidden_size_1, Value: 151\n",
      "  _MLP:hidden_size_2, Value: 241\n",
      "  _MLP:lr, Value: 2.053525026457147e-05\n",
      "  _MLP:n_hidden_layers, Value: '2'\n",
      "  _MLP:nonlintype, Value: 'selu'\n",
      "  model, Value: 'MLP'\n",
      "\n",
      "use_cuda=True\n",
      "MLP Using Cuda\n",
      "hidden_sizes= [151, 241]\n",
      "100%|██████████| 50/50 [01:00<00:00,  1.20s/it]"
     ]
    },
    {
     "name": "stderr",
     "output_type": "stream",
     "text": [
      "INFO:smac.intensification.intensification.Intensifier:Wallclock time limit for intensification reached (used: 60.255415 sec, available: 0.000010 sec)\n"
     ]
    },
    {
     "name": "stdout",
     "output_type": "stream",
     "text": [
      "\n",
      "Evaluating cfg:\n",
      "Configuration:\n",
      "  _MLP:hidden_size_1, Value: 61\n",
      "  _MLP:hidden_size_2, Value: 211\n",
      "  _MLP:hidden_size_3, Value: 61\n",
      "  _MLP:lr, Value: 0.48696752516586284\n",
      "  _MLP:n_hidden_layers, Value: '3'\n",
      "  _MLP:nonlintype, Value: 'tanh'\n",
      "  model, Value: 'MLP'\n",
      "\n",
      "use_cuda=True\n",
      "MLP Using Cuda\n",
      "hidden_sizes= [61, 211, 61]\n",
      "100%|██████████| 50/50 [01:15<00:00,  1.52s/it]"
     ]
    },
    {
     "name": "stderr",
     "output_type": "stream",
     "text": [
      "INFO:smac.intensification.intensification.Intensifier:Wallclock time limit for intensification reached (used: 75.891374 sec, available: 0.000010 sec)\n"
     ]
    },
    {
     "name": "stdout",
     "output_type": "stream",
     "text": [
      "\n",
      "Evaluating cfg:\n",
      "Configuration:\n",
      "  _MLP:hidden_size_1, Value: 181\n",
      "  _MLP:lr, Value: 0.0015399265260594922\n",
      "  _MLP:n_hidden_layers, Value: '1'\n",
      "  _MLP:nonlintype, Value: 'selu'\n",
      "  model, Value: 'MLP'\n",
      "\n",
      "use_cuda=True\n",
      "MLP Using Cuda\n",
      "hidden_sizes= [181]\n",
      "100%|██████████| 50/50 [00:55<00:00,  1.12s/it]"
     ]
    },
    {
     "name": "stderr",
     "output_type": "stream",
     "text": [
      "INFO:smac.intensification.intensification.Intensifier:Wallclock time limit for intensification reached (used: 56.011066 sec, available: 0.000010 sec)\n"
     ]
    },
    {
     "name": "stdout",
     "output_type": "stream",
     "text": [
      "\n",
      "Evaluating cfg:\n",
      "Configuration:\n",
      "  _MLP:hidden_size_1, Value: 121\n",
      "  _MLP:hidden_size_2, Value: 151\n",
      "  _MLP:hidden_size_3, Value: 241\n",
      "  _MLP:hidden_size_4, Value: 31\n",
      "  _MLP:lr, Value: 8.659643233600651e-05\n",
      "  _MLP:n_hidden_layers, Value: '4'\n",
      "  _MLP:nonlintype, Value: 'sigmoid'\n",
      "  model, Value: 'MLP'\n",
      "\n",
      "use_cuda=True\n",
      "MLP Using Cuda\n",
      "hidden_sizes= [121, 151, 241, 31]\n",
      "100%|██████████| 50/50 [01:32<00:00,  1.84s/it]"
     ]
    },
    {
     "name": "stderr",
     "output_type": "stream",
     "text": [
      "INFO:smac.intensification.intensification.Intensifier:Wallclock time limit for intensification reached (used: 92.229549 sec, available: 0.000010 sec)\n"
     ]
    },
    {
     "name": "stdout",
     "output_type": "stream",
     "text": [
      "\n",
      "Evaluating cfg:\n",
      "Configuration:\n",
      "  _MLP:hidden_size_1, Value: 241\n",
      "  _MLP:hidden_size_2, Value: 31\n",
      "  _MLP:lr, Value: 0.027384196342643607\n",
      "  _MLP:n_hidden_layers, Value: '2'\n",
      "  _MLP:nonlintype, Value: 'relu'\n",
      "  model, Value: 'MLP'\n",
      "\n",
      "use_cuda=True\n",
      "MLP Using Cuda\n",
      "hidden_sizes= [241, 31]\n",
      " 18%|█▊        | 9/50 [00:11<00:51,  1.26s/it]"
     ]
    },
    {
     "name": "stderr",
     "output_type": "stream",
     "text": [
      "INFO:smac.stats.stats.Stats:##########################################################\n",
      "INFO:smac.stats.stats.Stats:Statistics:\n",
      "INFO:smac.stats.stats.Stats:#Incumbent changed: 0\n",
      "INFO:smac.stats.stats.Stats:#Submitted target algorithm runs: 14 / 100.0\n",
      "INFO:smac.stats.stats.Stats:#Finished target algorithm runs: 14 / 100.0\n",
      "INFO:smac.stats.stats.Stats:#Configurations: 14\n",
      "INFO:smac.stats.stats.Stats:Used wallclock time: 998.79 / inf sec \n",
      "INFO:smac.stats.stats.Stats:Used target algorithm runtime: 987.35 / inf sec\n",
      "INFO:smac.stats.stats.Stats:##########################################################\n",
      "INFO:smac.facade.smac_hpo_facade.SMAC4HPO:Final Incumbent: Configuration:\n",
      "  _MLP:hidden_size_1, Value: 136\n",
      "  _MLP:hidden_size_2, Value: 136\n",
      "  _MLP:hidden_size_3, Value: 136\n",
      "  _MLP:lr, Value: 0.003162277660168379\n",
      "  _MLP:n_hidden_layers, Value: '3'\n",
      "  _MLP:nonlintype, Value: 'sigmoid'\n",
      "  model, Value: 'MLP'\n",
      "\n",
      "INFO:smac.facade.smac_hpo_facade.SMAC4HPO:Estimated cost of incumbent: 0.042791\n"
     ]
    },
    {
     "name": "stdout",
     "output_type": "stream",
     "text": [
      "\n"
     ]
    },
    {
     "ename": "KeyboardInterrupt",
     "evalue": "",
     "output_type": "error",
     "traceback": [
      "\u001b[0;31m---------------------------------------------------------------------------\u001b[0m",
      "\u001b[0;31mKeyboardInterrupt\u001b[0m                         Traceback (most recent call last)",
      "\u001b[0;32m<ipython-input-8-cfaff474c6ec>\u001b[0m in \u001b[0;36m<module>\u001b[0;34m\u001b[0m\n\u001b[1;32m      1\u001b[0m \u001b[0mtuner\u001b[0m \u001b[0;34m=\u001b[0m \u001b[0mPipelineTuner\u001b[0m\u001b[0;34m(\u001b[0m\u001b[0msurrogate_mode\u001b[0m\u001b[0;34m=\u001b[0m\u001b[0;34m\"autotune\"\u001b[0m\u001b[0;34m,\u001b[0m \u001b[0msurrogate_factory\u001b[0m\u001b[0;34m=\u001b[0m\u001b[0msurrogate_factory\u001b[0m\u001b[0;34m,\u001b[0m \u001b[0msurrogate_split\u001b[0m\u001b[0;34m=\u001b[0m\u001b[0;36m0.5\u001b[0m\u001b[0;34m)\u001b[0m\u001b[0;34m\u001b[0m\u001b[0;34m\u001b[0m\u001b[0m\n\u001b[1;32m      2\u001b[0m \u001b[0;34m\u001b[0m\u001b[0m\n\u001b[0;32m----> 3\u001b[0;31m \u001b[0mcontroller\u001b[0m\u001b[0;34m,\u001b[0m \u001b[0mtune_result3\u001b[0m \u001b[0;34m=\u001b[0m \u001b[0mtuner\u001b[0m\u001b[0;34m.\u001b[0m\u001b[0mrun\u001b[0m\u001b[0;34m(\u001b[0m\u001b[0mpipeline\u001b[0m\u001b[0;34m,\u001b[0m \u001b[0mtask\u001b[0m\u001b[0;34m,\u001b[0m \u001b[0mtrajs\u001b[0m\u001b[0;34m,\u001b[0m \u001b[0mn_iters\u001b[0m\u001b[0;34m=\u001b[0m\u001b[0;36m100\u001b[0m\u001b[0;34m,\u001b[0m \u001b[0mrng\u001b[0m\u001b[0;34m=\u001b[0m\u001b[0mnp\u001b[0m\u001b[0;34m.\u001b[0m\u001b[0mrandom\u001b[0m\u001b[0;34m.\u001b[0m\u001b[0mdefault_rng\u001b[0m\u001b[0;34m(\u001b[0m\u001b[0;36m100\u001b[0m\u001b[0;34m)\u001b[0m\u001b[0;34m)\u001b[0m\u001b[0;34m\u001b[0m\u001b[0;34m\u001b[0m\u001b[0m\n\u001b[0m",
      "\u001b[0;32m~/proj/autompc_dev/autompc/tuning/pipeline_tuner.py\u001b[0m in \u001b[0;36mrun\u001b[0;34m(self, pipeline, task, trajs, n_iters, rng, surrogate, truedyn, surrogate_tune_iters)\u001b[0m\n\u001b[1;32m     76\u001b[0m             \u001b[0msysid_trajs\u001b[0m \u001b[0;34m=\u001b[0m \u001b[0mshuffled_trajs\u001b[0m\u001b[0;34m[\u001b[0m\u001b[0msurr_size\u001b[0m\u001b[0;34m:\u001b[0m\u001b[0;34m]\u001b[0m\u001b[0;34m\u001b[0m\u001b[0;34m\u001b[0m\u001b[0m\n\u001b[1;32m     77\u001b[0m \u001b[0;34m\u001b[0m\u001b[0m\n\u001b[0;32m---> 78\u001b[0;31m             \u001b[0msurrogate\u001b[0m\u001b[0;34m,\u001b[0m \u001b[0msurr_tune_result\u001b[0m \u001b[0;34m=\u001b[0m \u001b[0mself\u001b[0m\u001b[0;34m.\u001b[0m\u001b[0mget_surrogate\u001b[0m\u001b[0;34m(\u001b[0m\u001b[0mpipeline\u001b[0m\u001b[0;34m,\u001b[0m \u001b[0msurr_trajs\u001b[0m\u001b[0;34m,\u001b[0m \u001b[0mrng\u001b[0m\u001b[0;34m,\u001b[0m \u001b[0msurrogate_tune_iters\u001b[0m\u001b[0;34m)\u001b[0m\u001b[0;34m\u001b[0m\u001b[0;34m\u001b[0m\u001b[0m\n\u001b[0m\u001b[1;32m     79\u001b[0m         \u001b[0;32melse\u001b[0m\u001b[0;34m:\u001b[0m\u001b[0;34m\u001b[0m\u001b[0;34m\u001b[0m\u001b[0m\n\u001b[1;32m     80\u001b[0m             \u001b[0msysid_trajs\u001b[0m \u001b[0;34m=\u001b[0m \u001b[0mtrajs\u001b[0m\u001b[0;34m\u001b[0m\u001b[0;34m\u001b[0m\u001b[0m\n",
      "\u001b[0;32m~/proj/autompc_dev/autompc/tuning/pipeline_tuner.py\u001b[0m in \u001b[0;36mget_surrogate\u001b[0;34m(self, pipeline, trajs, rng, surrogate_tune_iters)\u001b[0m\n\u001b[1;32m     51\u001b[0m             \u001b[0mmodel_tuner\u001b[0m \u001b[0;34m=\u001b[0m \u001b[0mModelTuner\u001b[0m\u001b[0;34m(\u001b[0m\u001b[0mpipeline\u001b[0m\u001b[0;34m.\u001b[0m\u001b[0msystem\u001b[0m\u001b[0;34m,\u001b[0m \u001b[0mevaluator\u001b[0m\u001b[0;34m)\u001b[0m\u001b[0;34m\u001b[0m\u001b[0;34m\u001b[0m\u001b[0m\n\u001b[1;32m     52\u001b[0m             \u001b[0mmodel_tuner\u001b[0m\u001b[0;34m.\u001b[0m\u001b[0madd_model_factory\u001b[0m\u001b[0;34m(\u001b[0m\u001b[0mself\u001b[0m\u001b[0;34m.\u001b[0m\u001b[0msurrogate_factory\u001b[0m\u001b[0;34m)\u001b[0m\u001b[0;34m\u001b[0m\u001b[0;34m\u001b[0m\u001b[0m\n\u001b[0;32m---> 53\u001b[0;31m             \u001b[0msurrogate\u001b[0m\u001b[0;34m,\u001b[0m \u001b[0msurrogate_tune_result\u001b[0m \u001b[0;34m=\u001b[0m \u001b[0mmodel_tuner\u001b[0m\u001b[0;34m.\u001b[0m\u001b[0mrun\u001b[0m\u001b[0;34m(\u001b[0m\u001b[0mrng\u001b[0m\u001b[0;34m,\u001b[0m \u001b[0mn_iters\u001b[0m\u001b[0;34m=\u001b[0m\u001b[0msurrogate_tune_iters\u001b[0m\u001b[0;34m)\u001b[0m\u001b[0;34m\u001b[0m\u001b[0;34m\u001b[0m\u001b[0m\n\u001b[0m\u001b[1;32m     54\u001b[0m         \u001b[0;32melif\u001b[0m \u001b[0mself\u001b[0m\u001b[0;34m.\u001b[0m\u001b[0msurrogate_mode\u001b[0m \u001b[0;34m==\u001b[0m \u001b[0;34m\"autoselect\"\u001b[0m\u001b[0;34m:\u001b[0m\u001b[0;34m\u001b[0m\u001b[0;34m\u001b[0m\u001b[0m\n\u001b[1;32m     55\u001b[0m             \u001b[0mevaluator\u001b[0m \u001b[0;34m=\u001b[0m \u001b[0mself\u001b[0m\u001b[0;34m.\u001b[0m\u001b[0msurrogate_evaluator\u001b[0m\u001b[0;34m\u001b[0m\u001b[0;34m\u001b[0m\u001b[0m\n",
      "\u001b[0;32m~/proj/autompc_dev/autompc/tuning/model_tuner.py\u001b[0m in \u001b[0;36mrun\u001b[0;34m(self, rng, n_iters, n_jobs)\u001b[0m\n\u001b[1;32m     93\u001b[0m                 tae_runner=self._evaluate, n_jobs=n_jobs)\n\u001b[1;32m     94\u001b[0m \u001b[0;34m\u001b[0m\u001b[0m\n\u001b[0;32m---> 95\u001b[0;31m         \u001b[0mincumbent\u001b[0m \u001b[0;34m=\u001b[0m \u001b[0msmac\u001b[0m\u001b[0;34m.\u001b[0m\u001b[0moptimize\u001b[0m\u001b[0;34m(\u001b[0m\u001b[0;34m)\u001b[0m\u001b[0;34m\u001b[0m\u001b[0;34m\u001b[0m\u001b[0m\n\u001b[0m\u001b[1;32m     96\u001b[0m \u001b[0;34m\u001b[0m\u001b[0m\n\u001b[1;32m     97\u001b[0m         \u001b[0mret_value\u001b[0m \u001b[0;34m=\u001b[0m \u001b[0mdict\u001b[0m\u001b[0;34m(\u001b[0m\u001b[0;34m)\u001b[0m\u001b[0;34m\u001b[0m\u001b[0;34m\u001b[0m\u001b[0m\n",
      "\u001b[0;32m~/.local/lib/python3.8/site-packages/smac/facade/smac_ac_facade.py\u001b[0m in \u001b[0;36moptimize\u001b[0;34m(self)\u001b[0m\n\u001b[1;32m    595\u001b[0m         \u001b[0mincumbent\u001b[0m \u001b[0;34m=\u001b[0m \u001b[0;32mNone\u001b[0m\u001b[0;34m\u001b[0m\u001b[0;34m\u001b[0m\u001b[0m\n\u001b[1;32m    596\u001b[0m         \u001b[0;32mtry\u001b[0m\u001b[0;34m:\u001b[0m\u001b[0;34m\u001b[0m\u001b[0;34m\u001b[0m\u001b[0m\n\u001b[0;32m--> 597\u001b[0;31m             \u001b[0mincumbent\u001b[0m \u001b[0;34m=\u001b[0m \u001b[0mself\u001b[0m\u001b[0;34m.\u001b[0m\u001b[0msolver\u001b[0m\u001b[0;34m.\u001b[0m\u001b[0mrun\u001b[0m\u001b[0;34m(\u001b[0m\u001b[0;34m)\u001b[0m\u001b[0;34m\u001b[0m\u001b[0;34m\u001b[0m\u001b[0m\n\u001b[0m\u001b[1;32m    598\u001b[0m         \u001b[0;32mfinally\u001b[0m\u001b[0;34m:\u001b[0m\u001b[0;34m\u001b[0m\u001b[0;34m\u001b[0m\u001b[0m\n\u001b[1;32m    599\u001b[0m             \u001b[0mself\u001b[0m\u001b[0;34m.\u001b[0m\u001b[0msolver\u001b[0m\u001b[0;34m.\u001b[0m\u001b[0mstats\u001b[0m\u001b[0;34m.\u001b[0m\u001b[0msave\u001b[0m\u001b[0;34m(\u001b[0m\u001b[0;34m)\u001b[0m\u001b[0;34m\u001b[0m\u001b[0;34m\u001b[0m\u001b[0m\n",
      "\u001b[0;32m~/.local/lib/python3.8/site-packages/smac/optimizer/smbo.py\u001b[0m in \u001b[0;36mrun\u001b[0;34m(self)\u001b[0m\n\u001b[1;32m    257\u001b[0m                 \u001b[0mrun_info\u001b[0m\u001b[0;34m.\u001b[0m\u001b[0mconfig\u001b[0m\u001b[0;34m.\u001b[0m\u001b[0mconfig_id\u001b[0m \u001b[0;34m=\u001b[0m \u001b[0mself\u001b[0m\u001b[0;34m.\u001b[0m\u001b[0mrunhistory\u001b[0m\u001b[0;34m.\u001b[0m\u001b[0mconfig_ids\u001b[0m\u001b[0;34m[\u001b[0m\u001b[0mrun_info\u001b[0m\u001b[0;34m.\u001b[0m\u001b[0mconfig\u001b[0m\u001b[0;34m]\u001b[0m\u001b[0;34m\u001b[0m\u001b[0;34m\u001b[0m\u001b[0m\n\u001b[1;32m    258\u001b[0m \u001b[0;34m\u001b[0m\u001b[0m\n\u001b[0;32m--> 259\u001b[0;31m                 \u001b[0mself\u001b[0m\u001b[0;34m.\u001b[0m\u001b[0mtae_runner\u001b[0m\u001b[0;34m.\u001b[0m\u001b[0msubmit_run\u001b[0m\u001b[0;34m(\u001b[0m\u001b[0mrun_info\u001b[0m\u001b[0;34m=\u001b[0m\u001b[0mrun_info\u001b[0m\u001b[0;34m)\u001b[0m\u001b[0;34m\u001b[0m\u001b[0;34m\u001b[0m\u001b[0m\n\u001b[0m\u001b[1;32m    260\u001b[0m \u001b[0;34m\u001b[0m\u001b[0m\n\u001b[1;32m    261\u001b[0m                 \u001b[0;31m# There are 2 criteria that the stats object uses to know\u001b[0m\u001b[0;34m\u001b[0m\u001b[0;34m\u001b[0m\u001b[0;34m\u001b[0m\u001b[0m\n",
      "\u001b[0;32m~/.local/lib/python3.8/site-packages/smac/tae/serial_runner.py\u001b[0m in \u001b[0;36msubmit_run\u001b[0;34m(self, run_info)\u001b[0m\n\u001b[1;32m     80\u001b[0m         \"\"\"\n\u001b[1;32m     81\u001b[0m         self.results.append(\n\u001b[0;32m---> 82\u001b[0;31m             \u001b[0mself\u001b[0m\u001b[0;34m.\u001b[0m\u001b[0mrun_wrapper\u001b[0m\u001b[0;34m(\u001b[0m\u001b[0mrun_info\u001b[0m\u001b[0;34m)\u001b[0m\u001b[0;34m\u001b[0m\u001b[0;34m\u001b[0m\u001b[0m\n\u001b[0m\u001b[1;32m     83\u001b[0m         )\n\u001b[1;32m     84\u001b[0m \u001b[0;34m\u001b[0m\u001b[0m\n",
      "\u001b[0;32m~/.local/lib/python3.8/site-packages/smac/tae/base.py\u001b[0m in \u001b[0;36mrun_wrapper\u001b[0;34m(self, run_info)\u001b[0m\n\u001b[1;32m    205\u001b[0m \u001b[0;34m\u001b[0m\u001b[0m\n\u001b[1;32m    206\u001b[0m         \u001b[0;32mtry\u001b[0m\u001b[0;34m:\u001b[0m\u001b[0;34m\u001b[0m\u001b[0;34m\u001b[0m\u001b[0m\n\u001b[0;32m--> 207\u001b[0;31m             status, cost, runtime, additional_info = self.run(\n\u001b[0m\u001b[1;32m    208\u001b[0m                 \u001b[0mconfig\u001b[0m\u001b[0;34m=\u001b[0m\u001b[0mrun_info\u001b[0m\u001b[0;34m.\u001b[0m\u001b[0mconfig\u001b[0m\u001b[0;34m,\u001b[0m\u001b[0;34m\u001b[0m\u001b[0;34m\u001b[0m\u001b[0m\n\u001b[1;32m    209\u001b[0m                 \u001b[0minstance\u001b[0m\u001b[0;34m=\u001b[0m\u001b[0mrun_info\u001b[0m\u001b[0;34m.\u001b[0m\u001b[0minstance\u001b[0m\u001b[0;34m,\u001b[0m\u001b[0;34m\u001b[0m\u001b[0;34m\u001b[0m\u001b[0m\n",
      "\u001b[0;32m~/.local/lib/python3.8/site-packages/smac/tae/execute_func.py\u001b[0m in \u001b[0;36mrun\u001b[0;34m(self, config, instance, cutoff, seed, budget, instance_specific)\u001b[0m\n\u001b[1;32m    205\u001b[0m             \u001b[0;31m# call ta\u001b[0m\u001b[0;34m\u001b[0m\u001b[0;34m\u001b[0m\u001b[0;34m\u001b[0m\u001b[0m\n\u001b[1;32m    206\u001b[0m             \u001b[0;32mtry\u001b[0m\u001b[0;34m:\u001b[0m\u001b[0;34m\u001b[0m\u001b[0;34m\u001b[0m\u001b[0m\n\u001b[0;32m--> 207\u001b[0;31m                 \u001b[0mrval\u001b[0m \u001b[0;34m=\u001b[0m \u001b[0mself\u001b[0m\u001b[0;34m.\u001b[0m\u001b[0m_call_ta\u001b[0m\u001b[0;34m(\u001b[0m\u001b[0mself\u001b[0m\u001b[0;34m.\u001b[0m\u001b[0m_ta\u001b[0m\u001b[0;34m,\u001b[0m \u001b[0mconfig\u001b[0m\u001b[0;34m,\u001b[0m \u001b[0mobj_kwargs\u001b[0m\u001b[0;34m)\u001b[0m\u001b[0;34m\u001b[0m\u001b[0;34m\u001b[0m\u001b[0m\n\u001b[0m\u001b[1;32m    208\u001b[0m                 \u001b[0;32mif\u001b[0m \u001b[0misinstance\u001b[0m\u001b[0;34m(\u001b[0m\u001b[0mrval\u001b[0m\u001b[0;34m,\u001b[0m \u001b[0mtuple\u001b[0m\u001b[0;34m)\u001b[0m\u001b[0;34m:\u001b[0m\u001b[0;34m\u001b[0m\u001b[0;34m\u001b[0m\u001b[0m\n\u001b[1;32m    209\u001b[0m                     \u001b[0mresult\u001b[0m \u001b[0;34m=\u001b[0m \u001b[0mrval\u001b[0m\u001b[0;34m[\u001b[0m\u001b[0;36m0\u001b[0m\u001b[0;34m]\u001b[0m\u001b[0;34m\u001b[0m\u001b[0;34m\u001b[0m\u001b[0m\n",
      "\u001b[0;32m~/.local/lib/python3.8/site-packages/smac/tae/execute_func.py\u001b[0m in \u001b[0;36m_call_ta\u001b[0;34m(self, obj, config, obj_kwargs)\u001b[0m\n\u001b[1;32m    294\u001b[0m     ) -> typing.Union[float, typing.Tuple[float, typing.Dict]]:\n\u001b[1;32m    295\u001b[0m \u001b[0;34m\u001b[0m\u001b[0m\n\u001b[0;32m--> 296\u001b[0;31m         \u001b[0;32mreturn\u001b[0m \u001b[0mobj\u001b[0m\u001b[0;34m(\u001b[0m\u001b[0mconfig\u001b[0m\u001b[0;34m,\u001b[0m \u001b[0;34m**\u001b[0m\u001b[0mobj_kwargs\u001b[0m\u001b[0;34m)\u001b[0m\u001b[0;34m\u001b[0m\u001b[0;34m\u001b[0m\u001b[0m\n\u001b[0m\u001b[1;32m    297\u001b[0m \u001b[0;34m\u001b[0m\u001b[0m\n\u001b[1;32m    298\u001b[0m \u001b[0;34m\u001b[0m\u001b[0m\n",
      "\u001b[0;32m~/proj/autompc_dev/autompc/tuning/model_tuner.py\u001b[0m in \u001b[0;36m_evaluate\u001b[0;34m(self, cfg_combined)\u001b[0m\n\u001b[1;32m     64\u001b[0m         \u001b[0mprint\u001b[0m\u001b[0;34m(\u001b[0m\u001b[0mcfg_combined\u001b[0m\u001b[0;34m)\u001b[0m\u001b[0;34m\u001b[0m\u001b[0;34m\u001b[0m\u001b[0m\n\u001b[1;32m     65\u001b[0m         \u001b[0mmodel_factory\u001b[0m\u001b[0;34m,\u001b[0m \u001b[0mcfg\u001b[0m \u001b[0;34m=\u001b[0m \u001b[0mself\u001b[0m\u001b[0;34m.\u001b[0m\u001b[0m_get_model_cfg\u001b[0m\u001b[0;34m(\u001b[0m\u001b[0mcfg_combined\u001b[0m\u001b[0;34m)\u001b[0m\u001b[0;34m\u001b[0m\u001b[0;34m\u001b[0m\u001b[0m\n\u001b[0;32m---> 66\u001b[0;31m         \u001b[0;32mreturn\u001b[0m \u001b[0mself\u001b[0m\u001b[0;34m.\u001b[0m\u001b[0mevaluator\u001b[0m\u001b[0;34m(\u001b[0m\u001b[0mmodel_factory\u001b[0m\u001b[0;34m,\u001b[0m \u001b[0mcfg\u001b[0m\u001b[0;34m)\u001b[0m\u001b[0;34m\u001b[0m\u001b[0;34m\u001b[0m\u001b[0m\n\u001b[0m\u001b[1;32m     67\u001b[0m \u001b[0;34m\u001b[0m\u001b[0m\n\u001b[1;32m     68\u001b[0m \u001b[0;34m\u001b[0m\u001b[0m\n",
      "\u001b[0;32m~/proj/autompc_dev/autompc/evaluation/holdout_evaluator.py\u001b[0m in \u001b[0;36m__call__\u001b[0;34m(self, model_factory, configuration)\u001b[0m\n\u001b[1;32m     26\u001b[0m             \u001b[0mprint\u001b[0m\u001b[0;34m(\u001b[0m\u001b[0mconfiguration\u001b[0m\u001b[0;34m)\u001b[0m\u001b[0;34m\u001b[0m\u001b[0;34m\u001b[0m\u001b[0m\n\u001b[1;32m     27\u001b[0m             \u001b[0mprint\u001b[0m\u001b[0;34m(\u001b[0m\u001b[0;34m\"----\"\u001b[0m\u001b[0;34m)\u001b[0m\u001b[0;34m\u001b[0m\u001b[0;34m\u001b[0m\u001b[0m\n\u001b[0;32m---> 28\u001b[0;31m         \u001b[0mm\u001b[0m \u001b[0;34m=\u001b[0m \u001b[0mmodel_factory\u001b[0m\u001b[0;34m(\u001b[0m\u001b[0mconfiguration\u001b[0m\u001b[0;34m,\u001b[0m \u001b[0mself\u001b[0m\u001b[0;34m.\u001b[0m\u001b[0mtraining_set\u001b[0m\u001b[0;34m)\u001b[0m\u001b[0;34m\u001b[0m\u001b[0;34m\u001b[0m\u001b[0m\n\u001b[0m\u001b[1;32m     29\u001b[0m \u001b[0;34m\u001b[0m\u001b[0m\n\u001b[1;32m     30\u001b[0m         \u001b[0mmetric_value\u001b[0m \u001b[0;34m=\u001b[0m \u001b[0mself\u001b[0m\u001b[0;34m.\u001b[0m\u001b[0mmetric\u001b[0m\u001b[0;34m(\u001b[0m\u001b[0mm\u001b[0m\u001b[0;34m,\u001b[0m \u001b[0mself\u001b[0m\u001b[0;34m.\u001b[0m\u001b[0mholdout\u001b[0m\u001b[0;34m)\u001b[0m\u001b[0;34m\u001b[0m\u001b[0;34m\u001b[0m\u001b[0m\n",
      "\u001b[0;32m~/proj/autompc_dev/autompc/sysid/model.py\u001b[0m in \u001b[0;36m__call__\u001b[0;34m(self, cfg, train_trajs, silent)\u001b[0m\n\u001b[1;32m     20\u001b[0m         \u001b[0mmodel\u001b[0m \u001b[0;34m=\u001b[0m \u001b[0mself\u001b[0m\u001b[0;34m.\u001b[0m\u001b[0mModel\u001b[0m\u001b[0;34m(\u001b[0m\u001b[0mself\u001b[0m\u001b[0;34m.\u001b[0m\u001b[0msystem\u001b[0m\u001b[0;34m,\u001b[0m \u001b[0;34m**\u001b[0m\u001b[0mmodel_args\u001b[0m\u001b[0;34m)\u001b[0m\u001b[0;34m\u001b[0m\u001b[0;34m\u001b[0m\u001b[0m\n\u001b[1;32m     21\u001b[0m         \u001b[0mmodel\u001b[0m\u001b[0;34m.\u001b[0m\u001b[0mfactory\u001b[0m \u001b[0;34m=\u001b[0m \u001b[0mself\u001b[0m\u001b[0;34m\u001b[0m\u001b[0;34m\u001b[0m\u001b[0m\n\u001b[0;32m---> 22\u001b[0;31m         \u001b[0mmodel\u001b[0m\u001b[0;34m.\u001b[0m\u001b[0mtrain\u001b[0m\u001b[0;34m(\u001b[0m\u001b[0mtrain_trajs\u001b[0m\u001b[0;34m,\u001b[0m \u001b[0msilent\u001b[0m\u001b[0;34m=\u001b[0m\u001b[0msilent\u001b[0m\u001b[0;34m)\u001b[0m\u001b[0;34m\u001b[0m\u001b[0;34m\u001b[0m\u001b[0m\n\u001b[0m\u001b[1;32m     23\u001b[0m \u001b[0;34m\u001b[0m\u001b[0m\n\u001b[1;32m     24\u001b[0m         \u001b[0;32mreturn\u001b[0m \u001b[0mmodel\u001b[0m\u001b[0;34m\u001b[0m\u001b[0;34m\u001b[0m\u001b[0m\n",
      "\u001b[0;32m~/proj/autompc_dev/autompc/sysid/mlp.py\u001b[0m in \u001b[0;36mtrain\u001b[0;34m(self, trajs, silent)\u001b[0m\n\u001b[1;32m    203\u001b[0m                 \u001b[0mpredy\u001b[0m \u001b[0;34m=\u001b[0m \u001b[0mself\u001b[0m\u001b[0;34m.\u001b[0m\u001b[0mnet\u001b[0m\u001b[0;34m(\u001b[0m\u001b[0mx\u001b[0m\u001b[0;34m)\u001b[0m\u001b[0;34m\u001b[0m\u001b[0;34m\u001b[0m\u001b[0m\n\u001b[1;32m    204\u001b[0m                 \u001b[0mloss\u001b[0m \u001b[0;34m=\u001b[0m \u001b[0mlossfun\u001b[0m\u001b[0;34m(\u001b[0m\u001b[0mpredy\u001b[0m\u001b[0;34m,\u001b[0m \u001b[0my\u001b[0m\u001b[0;34m.\u001b[0m\u001b[0mto\u001b[0m\u001b[0;34m(\u001b[0m\u001b[0mself\u001b[0m\u001b[0;34m.\u001b[0m\u001b[0m_device\u001b[0m\u001b[0;34m)\u001b[0m\u001b[0;34m)\u001b[0m\u001b[0;34m\u001b[0m\u001b[0;34m\u001b[0m\u001b[0m\n\u001b[0;32m--> 205\u001b[0;31m                 \u001b[0mloss\u001b[0m\u001b[0;34m.\u001b[0m\u001b[0mbackward\u001b[0m\u001b[0;34m(\u001b[0m\u001b[0;34m)\u001b[0m\u001b[0;34m\u001b[0m\u001b[0;34m\u001b[0m\u001b[0m\n\u001b[0m\u001b[1;32m    206\u001b[0m                 \u001b[0mcum_loss\u001b[0m \u001b[0;34m+=\u001b[0m \u001b[0mloss\u001b[0m\u001b[0;34m.\u001b[0m\u001b[0mitem\u001b[0m\u001b[0;34m(\u001b[0m\u001b[0;34m)\u001b[0m\u001b[0;34m\u001b[0m\u001b[0;34m\u001b[0m\u001b[0m\n\u001b[1;32m    207\u001b[0m                 \u001b[0moptim\u001b[0m\u001b[0;34m.\u001b[0m\u001b[0mstep\u001b[0m\u001b[0;34m(\u001b[0m\u001b[0;34m)\u001b[0m\u001b[0;34m\u001b[0m\u001b[0;34m\u001b[0m\u001b[0m\n",
      "\u001b[0;32m~/.local/lib/python3.8/site-packages/torch/tensor.py\u001b[0m in \u001b[0;36mbackward\u001b[0;34m(self, gradient, retain_graph, create_graph)\u001b[0m\n\u001b[1;32m    183\u001b[0m                 \u001b[0mproducts\u001b[0m\u001b[0;34m.\u001b[0m \u001b[0mDefaults\u001b[0m \u001b[0mto\u001b[0m\u001b[0;31m \u001b[0m\u001b[0;31m`\u001b[0m\u001b[0;31m`\u001b[0m\u001b[0;32mFalse\u001b[0m\u001b[0;31m`\u001b[0m\u001b[0;31m`\u001b[0m\u001b[0;34m.\u001b[0m\u001b[0;34m\u001b[0m\u001b[0;34m\u001b[0m\u001b[0m\n\u001b[1;32m    184\u001b[0m         \"\"\"\n\u001b[0;32m--> 185\u001b[0;31m         \u001b[0mtorch\u001b[0m\u001b[0;34m.\u001b[0m\u001b[0mautograd\u001b[0m\u001b[0;34m.\u001b[0m\u001b[0mbackward\u001b[0m\u001b[0;34m(\u001b[0m\u001b[0mself\u001b[0m\u001b[0;34m,\u001b[0m \u001b[0mgradient\u001b[0m\u001b[0;34m,\u001b[0m \u001b[0mretain_graph\u001b[0m\u001b[0;34m,\u001b[0m \u001b[0mcreate_graph\u001b[0m\u001b[0;34m)\u001b[0m\u001b[0;34m\u001b[0m\u001b[0;34m\u001b[0m\u001b[0m\n\u001b[0m\u001b[1;32m    186\u001b[0m \u001b[0;34m\u001b[0m\u001b[0m\n\u001b[1;32m    187\u001b[0m     \u001b[0;32mdef\u001b[0m \u001b[0mregister_hook\u001b[0m\u001b[0;34m(\u001b[0m\u001b[0mself\u001b[0m\u001b[0;34m,\u001b[0m \u001b[0mhook\u001b[0m\u001b[0;34m)\u001b[0m\u001b[0;34m:\u001b[0m\u001b[0;34m\u001b[0m\u001b[0;34m\u001b[0m\u001b[0m\n",
      "\u001b[0;32m~/.local/lib/python3.8/site-packages/torch/autograd/__init__.py\u001b[0m in \u001b[0;36mbackward\u001b[0;34m(tensors, grad_tensors, retain_graph, create_graph, grad_variables)\u001b[0m\n\u001b[1;32m    123\u001b[0m         \u001b[0mretain_graph\u001b[0m \u001b[0;34m=\u001b[0m \u001b[0mcreate_graph\u001b[0m\u001b[0;34m\u001b[0m\u001b[0;34m\u001b[0m\u001b[0m\n\u001b[1;32m    124\u001b[0m \u001b[0;34m\u001b[0m\u001b[0m\n\u001b[0;32m--> 125\u001b[0;31m     Variable._execution_engine.run_backward(\n\u001b[0m\u001b[1;32m    126\u001b[0m         \u001b[0mtensors\u001b[0m\u001b[0;34m,\u001b[0m \u001b[0mgrad_tensors\u001b[0m\u001b[0;34m,\u001b[0m \u001b[0mretain_graph\u001b[0m\u001b[0;34m,\u001b[0m \u001b[0mcreate_graph\u001b[0m\u001b[0;34m,\u001b[0m\u001b[0;34m\u001b[0m\u001b[0;34m\u001b[0m\u001b[0m\n\u001b[1;32m    127\u001b[0m         allow_unreachable=True)  # allow_unreachable flag\n",
      "\u001b[0;31mKeyboardInterrupt\u001b[0m: "
     ]
    }
   ],
   "source": [
    "tuner = PipelineTuner(surrogate_mode=\"autotune\", surrogate_factory=surrogate_factory, surrogate_split=0.5)\n",
    "\n",
    "controller, tune_result3 = tuner.run(pipeline, task, trajs, n_iters=100, rng=np.random.default_rng(100),\n",
    "                                    truedyn=benchmarks.dynamics)"
   ]
  },
  {
   "cell_type": "markdown",
   "metadata": {},
   "source": [
    "Finally, we can auto-select and auto-tune the surrogate mode class"
   ]
  },
  {
   "cell_type": "code",
   "execution_count": null,
   "metadata": {},
   "outputs": [],
   "source": [
    "tuner = PipelineTuner(surrogate_mode=\"autoselect\", surrogate_factory=surrogate_factory, surrogate_split=0.5)\n",
    "\n",
    "controller, tune_result4 = tuner.run(pipeline, task, trajs, n_iters=100, rng=np.random.default_rng(100),\n",
    "                                    truedyn=benchmark.dynamics)"
   ]
  },
  {
   "cell_type": "markdown",
   "metadata": {},
   "source": [
    "Finally, we can pre-train and select our own surrogate."
   ]
  },
  {
   "cell_type": "code",
   "execution_count": null,
   "metadata": {},
   "outputs": [],
   "source": [
    "from autompc.tuning import ModelTuner\n",
    "from autompc.evaluation import HoldoutModelEvaluator\n",
    "\n",
    "sysid_trajs = trajs[:500]\n",
    "surr_trajs = trajs[500:]\n",
    "\n",
    "model_evaluator = HoldoutModelEvaluator(system=system,trajs=surr_trajs,rng=np.random.default_rng(100),\n",
    "                                        holdout_prop=0.25, metric=\"rmse\")\n",
    "model_tuner = ModelTuner(system, model_evaluator)\n",
    "model_tuner.add_model_factory(surrogate_factory)\n",
    "\n",
    "surrogate_model, _ = model_tuner.run(rng=np.random.default_rng(100), n_iters = 1)\n",
    "\n",
    "tuner = PipelineTuner(surrogate_mode=\"pretrain\")\n",
    "\n",
    "controller, tune_result5 = tuner.run(pipeline, task, sysid_trajs, n_iters=100, surrogate=surrogate_model\n",
    "                                    truedyn=benchmark.dynamics)"
   ]
  },
  {
   "cell_type": "markdown",
   "metadata": {},
   "source": [
    "## Decoupled Tuning\n",
    "\n",
    "The above examples is full pipeline tuning, which searches the configuration space of all components simultaneously.  Alternatively, we can take a decoupled tuning approach, where the model is first tuned based on prediction accuracy, then the objective function and optimizer are tuned.\n",
    "\n",
    "First, we must tune the model"
   ]
  },
  {
   "cell_type": "code",
   "execution_count": null,
   "metadata": {},
   "outputs": [],
   "source": [
    "from autompc.tuning import ModelTuner\n",
    "from autompc.evaluation import HoldoutModelEvaluator\n",
    "\n",
    "model_evaluator = HoldoutModelEvaluator(holdout_prop=0.25, metric=\"rmse\")\n",
    "model_tuner = ModelTuner(model_evaluator)\n",
    "\n",
    "model, model_tune_result = model_tuner.run(model_factory, trajs, n_iters=100)"
   ]
  },
  {
   "cell_type": "markdown",
   "metadata": {},
   "source": [
    "Now that we have tuned the model, we can create a pipeline with the pre-tuned model, and then run pipeline tuning."
   ]
  },
  {
   "cell_type": "code",
   "execution_count": null,
   "metadata": {},
   "outputs": [],
   "source": [
    "pipeline_fixed_model = ampc.Pipeline(system, model, iLQRFactory, QuadCostFactory)\n",
    "controller6, tune_result6 = tuner.run(pipeline, task, trajs, n_iters=100, truedyn=benchmark.dynamics)   "
   ]
  }
 ],
 "metadata": {
  "kernelspec": {
   "display_name": "Python 3",
   "language": "python",
   "name": "python3"
  },
  "language_info": {
   "codemirror_mode": {
    "name": "ipython",
    "version": 3
   },
   "file_extension": ".py",
   "mimetype": "text/x-python",
   "name": "python",
   "nbconvert_exporter": "python",
   "pygments_lexer": "ipython3",
   "version": "3.8.7"
  }
 },
 "nbformat": 4,
 "nbformat_minor": 4
}
