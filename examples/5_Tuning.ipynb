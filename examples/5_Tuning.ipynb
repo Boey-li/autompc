{
 "cells": [
  {
   "cell_type": "markdown",
   "metadata": {},
   "source": [
    "# AutoMPC Demo\n",
    "\n",
    "Welcome!  This notebook demonstrates the core features of AutoMPC.  We will use the Cart-Pole swing-up task as an example, and we will tune an MPC pipeline consisting of a multi-layer perception (MLP) system ID model and an iLQR optimizer."
   ]
  },
  {
   "cell_type": "markdown",
   "metadata": {},
   "source": [
    "## Set-Up\n",
    "\n",
    "To begin, we need an input dataset and specifications for the system and task.  The `benchmarks` module provides these for a few example systems."
   ]
  },
  {
   "cell_type": "code",
   "execution_count": 1,
   "metadata": {},
   "outputs": [
    {
     "name": "stdout",
     "output_type": "stream",
     "text": [
      "Loading AutoMPC...\n",
      "Cannot import SnoptWrapper\n",
      "Cannot import KnitroSolver, make sure its Python interface is installed\n",
      "Finished loading AutoMPC\n",
      "running build_ext\n"
     ]
    }
   ],
   "source": [
    "import autompc as ampc\n",
    "import numpy as np\n",
    "from autompc.benchmarks import CartpoleSwingupBenchmark\n",
    "\n",
    "benchmark = CartpoleSwingupBenchmark()\n",
    "\n",
    "\n",
    "# Get system and task specification\n",
    "system = benchmark.system\n",
    "task   = benchmark.task\n",
    "\n",
    "# Generate benchmark dataset\n",
    "trajs = benchmark.gen_trajs(seed=100, n_trajs=500, traj_len=200)"
   ]
  },
  {
   "cell_type": "markdown",
   "metadata": {},
   "source": [
    "Next, we need to declare our MPC pipeline.  The following code initializes a pipeline with a MLP system ID model, a quadratic objective function, and and an iLQR optimizer."
   ]
  },
  {
   "cell_type": "code",
   "execution_count": 2,
   "metadata": {},
   "outputs": [],
   "source": [
    "from autompc.sysid import MLPFactory\n",
    "from autompc.control import IterativeLQRFactory\n",
    "from autompc.costs import QuadCostFactory\n",
    "\n",
    "model_factory = MLPFactory(system)\n",
    "ctrlr_factory = IterativeLQRFactory(system)\n",
    "cost_factory  = QuadCostFactory(system)\n",
    "\n",
    "pipeline = ampc.Pipeline(system, model_factory, ctrlr_factory, cost_factory)"
   ]
  },
  {
   "cell_type": "markdown",
   "metadata": {},
   "source": [
    "We can view the joint configuration space of the pipeline"
   ]
  },
  {
   "cell_type": "code",
   "execution_count": 3,
   "metadata": {},
   "outputs": [
    {
     "data": {
      "text/plain": [
       "Configuration space object:\n",
       "  Hyperparameters:\n",
       "    _cost:dx_F, Type: UniformFloat, Range: [0.001, 10000.0], Default: 1.0, on log-scale\n",
       "    _cost:dx_Q, Type: UniformFloat, Range: [0.001, 10000.0], Default: 1.0, on log-scale\n",
       "    _cost:omega_F, Type: UniformFloat, Range: [0.001, 10000.0], Default: 1.0, on log-scale\n",
       "    _cost:omega_Q, Type: UniformFloat, Range: [0.001, 10000.0], Default: 1.0, on log-scale\n",
       "    _cost:theta_F, Type: UniformFloat, Range: [0.001, 10000.0], Default: 1.0, on log-scale\n",
       "    _cost:theta_Q, Type: UniformFloat, Range: [0.001, 10000.0], Default: 1.0, on log-scale\n",
       "    _cost:u_R, Type: UniformFloat, Range: [0.001, 10000.0], Default: 1.0, on log-scale\n",
       "    _cost:x_F, Type: UniformFloat, Range: [0.001, 10000.0], Default: 1.0, on log-scale\n",
       "    _cost:x_Q, Type: UniformFloat, Range: [0.001, 10000.0], Default: 1.0, on log-scale\n",
       "    _ctrlr:horizon, Type: UniformInteger, Range: [5, 25], Default: 20\n",
       "    _model:hidden_size_1, Type: UniformInteger, Range: [16, 256], Default: 128\n",
       "    _model:hidden_size_2, Type: UniformInteger, Range: [16, 256], Default: 128\n",
       "    _model:hidden_size_3, Type: UniformInteger, Range: [16, 256], Default: 128\n",
       "    _model:hidden_size_4, Type: UniformInteger, Range: [16, 256], Default: 128\n",
       "    _model:lr, Type: UniformFloat, Range: [1e-05, 1.0], Default: 0.001, on log-scale\n",
       "    _model:n_hidden_layers, Type: Categorical, Choices: {1, 2, 3, 4}, Default: 2\n",
       "    _model:nonlintype, Type: Categorical, Choices: {relu, tanh, sigmoid, selu}, Default: relu\n",
       "  Conditions:\n",
       "    _model:hidden_size_2 | _model:n_hidden_layers in {'2', '3', '4'}\n",
       "    _model:hidden_size_3 | _model:n_hidden_layers in {'3', '4'}\n",
       "    _model:hidden_size_4 | _model:n_hidden_layers in {'4'}"
      ]
     },
     "execution_count": 3,
     "metadata": {},
     "output_type": "execute_result"
    }
   ],
   "source": [
    "pipeline.get_configuration_space()"
   ]
  },
  {
   "cell_type": "markdown",
   "metadata": {},
   "source": [
    "## Tuning"
   ]
  },
  {
   "cell_type": "markdown",
   "metadata": {},
   "source": [
    "Tune with selected surrogate model class, default model configuration."
   ]
  },
  {
   "cell_type": "code",
   "execution_count": 4,
   "metadata": {},
   "outputs": [
    {
     "name": "stderr",
     "output_type": "stream",
     "text": [
      "/usr/lib/python3/dist-packages/pyparsing.py:1745: FutureWarning: Possible set intersection at position 3\n",
      "  self.re = re.compile( self.reString )\n",
      "/home/william/.local/lib/python3.8/site-packages/numpy/core/_asarray.py:83: VisibleDeprecationWarning: Creating an ndarray from ragged nested sequences (which is a list-or-tuple of lists-or-tuples-or ndarrays with different lengths or shapes) is deprecated. If you meant to do this, you must specify 'dtype=object' when creating the ndarray\n",
      "  return array(a, dtype, copy=False, order=order)\n"
     ]
    },
    {
     "name": "stdout",
     "output_type": "stream",
     "text": [
      "use_cuda=True\n",
      "MLP Using Cuda\n",
      "hidden_sizes= [128, 128]\n",
      "100%|██████████| 50/50 [01:23<00:00,  1.67s/it]"
     ]
    },
    {
     "name": "stderr",
     "output_type": "stream",
     "text": [
      "INFO:smac.utils.io.cmd_reader.CMDReader:Output to smac3-output_2021-05-29_19:41:20_790610\n",
      "INFO:smac.facade.smac_hpo_facade.SMAC4HPO:Optimizing a deterministic scenario for quality without a tuner timeout - will make SMAC deterministic and only evaluate one configuration per iteration!\n",
      "INFO:smac.initial_design.sobol_design.SobolDesign:Running initial design for 25 configurations\n",
      "INFO:smac.facade.smac_hpo_facade.SMAC4HPO:<class 'smac.facade.smac_hpo_facade.SMAC4HPO'>\n",
      "INFO:smac.optimizer.smbo.SMBO:Running initial design\n",
      "INFO:smac.intensification.intensification.Intensifier:First run, no incumbent provided; challenger is assumed to be the incumbent\n"
     ]
    },
    {
     "name": "stdout",
     "output_type": "stream",
     "text": [
      "\n",
      "use_cuda=True\n",
      "MLP Using Cuda\n",
      "hidden_sizes= [136, 136, 136]\n",
      "100%|██████████| 50/50 [01:40<00:00,  2.00s/it]\n",
      "Simulating Surrogate Trajectory: \n",
      " 99%|█████████▉| 198/200 [00:11<00:00, 16.55it/s]"
     ]
    },
    {
     "name": "stderr",
     "output_type": "stream",
     "text": [
      "INFO:smac.intensification.intensification.Intensifier:First run, no incumbent provided; challenger is assumed to be the incumbent\n",
      "INFO:smac.intensification.intensification.Intensifier:Updated estimated cost of incumbent on 1 runs: 200.0000\n"
     ]
    },
    {
     "name": "stdout",
     "output_type": "stream",
     "text": [
      "\n",
      "Surrogate Cost:  200.0\n",
      "Surrogate Final State:  [ 3.14933241e+00 -1.70686022e-03 -2.33875150e-01  7.27841969e-03]\n",
      "use_cuda=True\n",
      "MLP Using Cuda\n",
      "hidden_sizes= [76, 76]\n",
      "100%|██████████| 50/50 [01:22<00:00,  1.64s/it]\n",
      "Simulating Surrogate Trajectory: \n",
      "  4%|▍         | 8/200 [00:00<00:05, 32.92it/s]"
     ]
    },
    {
     "name": "stderr",
     "output_type": "stream",
     "text": [
      "/home/william/proj/autompc_dev/autompc/control/ilqr.py:535: RuntimeWarning: invalid value encountered in double_scalars\n",
      "  if (obj - new_obj) / (-expect_cost_reduction) > ls_cost_threshold:\n"
     ]
    },
    {
     "name": "stdout",
     "output_type": "stream",
     "text": [
      " 99%|█████████▉| 198/200 [00:05<00:00, 33.62it/s]"
     ]
    },
    {
     "name": "stderr",
     "output_type": "stream",
     "text": [
      "INFO:smac.intensification.intensification.Intensifier:Wallclock time limit for intensification reached (used: 200.036886 sec, available: 0.000010 sec)\n"
     ]
    },
    {
     "name": "stdout",
     "output_type": "stream",
     "text": [
      "\n",
      "Surrogate Cost:  200.0\n",
      "Surrogate Final State:  [ 3.15554152 -0.01183288 -2.41204393 -0.47205724]\n",
      "use_cuda=True\n",
      "MLP Using Cuda\n",
      "hidden_sizes= [196, 196, 76, 76]\n",
      "100%|██████████| 50/50 [02:07<00:00,  2.55s/it]\n",
      "Simulating Surrogate Trajectory: \n",
      " 99%|█████████▉| 198/200 [00:42<00:00,  4.67it/s]"
     ]
    },
    {
     "name": "stderr",
     "output_type": "stream",
     "text": [
      "INFO:smac.intensification.intensification.Intensifier:Wallclock time limit for intensification reached (used: 170.135431 sec, available: 0.000010 sec)\n"
     ]
    },
    {
     "name": "stdout",
     "output_type": "stream",
     "text": [
      "\n",
      "Surrogate Cost:  200.0\n",
      "Surrogate Final State:  [ 3.14906289e+00 -1.14868512e-03  6.60187164e-03  6.98054234e-03]\n",
      "use_cuda=True\n",
      "MLP Using Cuda\n",
      "hidden_sizes= [106]\n",
      "100%|██████████| 50/50 [01:03<00:00,  1.26s/it]\n",
      "Simulating Surrogate Trajectory: \n",
      " 99%|█████████▉| 198/200 [00:46<00:00,  4.25it/s]"
     ]
    },
    {
     "name": "stderr",
     "output_type": "stream",
     "text": [
      "INFO:smac.intensification.intensification.Intensifier:Challenger (189.0000) is better than incumbent (200.0000) on 1 runs.\n",
      "INFO:smac.intensification.intensification.Intensifier:Changes in incumbent:\n",
      "INFO:smac.intensification.intensification.Intensifier:  _cost:dx_F : 3.1622776601683813 -> 0.4216965034285823\n",
      "INFO:smac.intensification.intensification.Intensifier:  _cost:dx_Q : 3.1622776601683813 -> 0.4216965034285823\n",
      "INFO:smac.intensification.intensification.Intensifier:  _cost:omega_F : 3.1622776601683813 -> 23.713737056616576\n",
      "INFO:smac.intensification.intensification.Intensifier:  _cost:omega_Q : 3.1622776601683813 -> 0.007498942093324564\n",
      "INFO:smac.intensification.intensification.Intensifier:  _cost:theta_F : 3.1622776601683813 -> 1333.5214321633246\n",
      "INFO:smac.intensification.intensification.Intensifier:  _cost:theta_Q : 3.1622776601683813 -> 1333.5214321633246\n",
      "INFO:smac.intensification.intensification.Intensifier:  _cost:u_R : 3.1622776601683813 -> 0.007498942093324564\n",
      "INFO:smac.intensification.intensification.Intensifier:  _cost:x_F : 3.1622776601683813 -> 23.713737056616576\n",
      "INFO:smac.intensification.intensification.Intensifier:  _cost:x_Q : 3.1622776601683813 -> 0.007498942093324564\n",
      "INFO:smac.intensification.intensification.Intensifier:  _ctrlr:horizon : 15 -> 23\n",
      "INFO:smac.intensification.intensification.Intensifier:  _model:hidden_size_1 : 136 -> 106\n",
      "INFO:smac.intensification.intensification.Intensifier:  _model:lr : 0.003162277660168379 -> 0.013335214321633242\n",
      "INFO:smac.intensification.intensification.Intensifier:  _model:n_hidden_layers : '3' -> '1'\n",
      "INFO:smac.intensification.intensification.Intensifier:  _model:nonlintype : 'sigmoid' -> 'tanh'\n",
      "INFO:smac.intensification.intensification.Intensifier:Wallclock time limit for intensification reached (used: 109.697942 sec, available: 0.000010 sec)\n"
     ]
    },
    {
     "name": "stdout",
     "output_type": "stream",
     "text": [
      "\n",
      "Surrogate Cost:  189.0\n",
      "Surrogate Final State:  [-0.00666512 -0.52544062 -0.06502337 -0.88503012]\n",
      "use_cuda=True\n",
      "MLP Using Cuda\n",
      "hidden_sizes= [226, 46, 166]\n",
      "100%|██████████| 50/50 [01:43<00:00,  2.07s/it]\n",
      "Simulating Surrogate Trajectory: \n",
      " 99%|█████████▉| 198/200 [00:11<00:00, 17.64it/s]"
     ]
    },
    {
     "name": "stderr",
     "output_type": "stream",
     "text": [
      "INFO:smac.intensification.intensification.Intensifier:Wallclock time limit for intensification reached (used: 114.524080 sec, available: 0.000010 sec)\n"
     ]
    },
    {
     "name": "stdout",
     "output_type": "stream",
     "text": [
      "\n",
      "Surrogate Cost:  200.0\n",
      "Surrogate Final State:  [ 3.15040457 -0.00623933  0.07339137  0.0140647 ]\n",
      "use_cuda=True\n",
      "MLP Using Cuda\n",
      "hidden_sizes= [46, 226]\n",
      "100%|██████████| 50/50 [01:23<00:00,  1.67s/it]\n",
      "Simulating Surrogate Trajectory: \n",
      " 99%|█████████▉| 198/200 [00:08<00:00, 23.41it/s]"
     ]
    },
    {
     "name": "stderr",
     "output_type": "stream",
     "text": [
      "INFO:smac.intensification.intensification.Intensifier:Wallclock time limit for intensification reached (used: 92.026344 sec, available: 0.000010 sec)\n"
     ]
    },
    {
     "name": "stdout",
     "output_type": "stream",
     "text": [
      "\n",
      "Surrogate Cost:  200.0\n",
      "Surrogate Final State:  [ 3.14918028 -0.01198638 -0.10616199  0.00470263]\n",
      "use_cuda=True\n",
      "MLP Using Cuda\n",
      "hidden_sizes= [166, 106, 106, 226]\n",
      "100%|██████████| 50/50 [02:08<00:00,  2.56s/it]\n",
      "Simulating Surrogate Trajectory: \n",
      " 99%|█████████▉| 198/200 [00:07<00:00, 26.64it/s]"
     ]
    },
    {
     "name": "stderr",
     "output_type": "stream",
     "text": [
      "INFO:smac.intensification.intensification.Intensifier:Wallclock time limit for intensification reached (used: 135.570068 sec, available: 0.000010 sec)\n"
     ]
    },
    {
     "name": "stdout",
     "output_type": "stream",
     "text": [
      "\n",
      "Surrogate Cost:  200.0\n",
      "Surrogate Final State:  [ 3.15554152 -0.01183288 -2.41204393 -0.47205724]\n",
      "use_cuda=True\n",
      "MLP Using Cuda\n",
      "hidden_sizes= [181, 61, 181]\n",
      "100%|██████████| 50/50 [01:42<00:00,  2.05s/it]\n",
      "Simulating Surrogate Trajectory: \n",
      " 99%|█████████▉| 198/200 [00:06<00:00, 30.56it/s]"
     ]
    },
    {
     "name": "stderr",
     "output_type": "stream",
     "text": [
      "INFO:smac.intensification.intensification.Intensifier:Wallclock time limit for intensification reached (used: 109.080340 sec, available: 0.000010 sec)\n"
     ]
    },
    {
     "name": "stdout",
     "output_type": "stream",
     "text": [
      "\n",
      "Surrogate Cost:  200.0\n",
      "Surrogate Final State:  [ 3.15554152 -0.01183288 -2.41204393 -0.47205723]\n",
      "use_cuda=True\n",
      "MLP Using Cuda\n",
      "hidden_sizes= [61]\n",
      "100%|██████████| 50/50 [01:02<00:00,  1.24s/it]\n",
      "Simulating Surrogate Trajectory: \n",
      " 99%|█████████▉| 198/200 [00:07<00:00, 26.66it/s]"
     ]
    },
    {
     "name": "stderr",
     "output_type": "stream",
     "text": [
      "INFO:smac.intensification.intensification.Intensifier:Wallclock time limit for intensification reached (used: 69.484710 sec, available: 0.000010 sec)\n"
     ]
    },
    {
     "name": "stdout",
     "output_type": "stream",
     "text": [
      "\n",
      "Surrogate Cost:  200.0\n",
      "Surrogate Final State:  [3.15004840e+00 1.39208160e-03 9.37795292e-02 1.27166540e-02]\n",
      "use_cuda=True\n",
      "MLP Using Cuda\n",
      "hidden_sizes= [241, 121, 121, 241]\n",
      "100%|██████████| 50/50 [02:05<00:00,  2.50s/it]\n",
      "Simulating Surrogate Trajectory: \n",
      " 99%|█████████▉| 198/200 [00:10<00:00, 19.04it/s]"
     ]
    },
    {
     "name": "stderr",
     "output_type": "stream",
     "text": [
      "INFO:smac.intensification.intensification.Intensifier:Wallclock time limit for intensification reached (used: 135.449177 sec, available: 0.000010 sec)\n"
     ]
    },
    {
     "name": "stdout",
     "output_type": "stream",
     "text": [
      "\n",
      "Surrogate Cost:  200.0\n",
      "Surrogate Final State:  [ 3.14902539e+00 -1.13830344e-03  6.33867181e-02  5.54725234e-03]\n",
      "use_cuda=True\n",
      "MLP Using Cuda\n",
      "hidden_sizes= [121, 241]\n",
      "100%|██████████| 50/50 [01:25<00:00,  1.70s/it]\n",
      "Simulating Surrogate Trajectory: \n",
      " 99%|█████████▉| 198/200 [00:18<00:00, 10.48it/s]"
     ]
    },
    {
     "name": "stderr",
     "output_type": "stream",
     "text": [
      "INFO:smac.intensification.intensification.Intensifier:Wallclock time limit for intensification reached (used: 103.934856 sec, available: 0.000010 sec)\n"
     ]
    },
    {
     "name": "stdout",
     "output_type": "stream",
     "text": [
      "\n",
      "Surrogate Cost:  200.0\n",
      "Surrogate Final State:  [ 0.58767556  3.61856703 -1.72331294  0.38833403]\n",
      "use_cuda=True\n",
      "MLP Using Cuda\n",
      "hidden_sizes= [211, 151, 151]\n",
      "100%|██████████| 50/50 [01:44<00:00,  2.10s/it]\n",
      "Simulating Surrogate Trajectory: \n",
      " 99%|█████████▉| 198/200 [00:37<00:00,  5.29it/s]"
     ]
    },
    {
     "name": "stderr",
     "output_type": "stream",
     "text": [
      "INFO:smac.intensification.intensification.Intensifier:Wallclock time limit for intensification reached (used: 142.286269 sec, available: 0.000010 sec)\n"
     ]
    },
    {
     "name": "stdout",
     "output_type": "stream",
     "text": [
      "\n",
      "Surrogate Cost:  190.0\n",
      "Surrogate Final State:  [-0.02054212  0.04017876 -3.03660575 -0.51431262]\n",
      "use_cuda=True\n",
      "MLP Using Cuda\n",
      "hidden_sizes= [91]\n",
      "100%|██████████| 50/50 [01:02<00:00,  1.26s/it]\n",
      "Simulating Surrogate Trajectory: \n",
      " 99%|█████████▉| 198/200 [02:00<00:01,  1.64it/s]"
     ]
    },
    {
     "name": "stderr",
     "output_type": "stream",
     "text": [
      "INFO:smac.intensification.intensification.Intensifier:Wallclock time limit for intensification reached (used: 183.360480 sec, available: 0.000010 sec)\n"
     ]
    },
    {
     "name": "stdout",
     "output_type": "stream",
     "text": [
      "\n",
      "Surrogate Cost:  200.0\n",
      "Surrogate Final State:  [ 3.07868129e+00 -9.74838184e-03 -1.77512833e+01 -1.17823935e+00]\n",
      "use_cuda=True\n",
      "MLP Using Cuda\n",
      "hidden_sizes= [151, 211, 91, 91]\n",
      "100%|██████████| 50/50 [02:08<00:00,  2.56s/it]\n",
      "Simulating Surrogate Trajectory: \n",
      " 99%|█████████▉| 198/200 [00:10<00:00, 19.51it/s]"
     ]
    },
    {
     "name": "stderr",
     "output_type": "stream",
     "text": [
      "INFO:smac.intensification.intensification.Intensifier:Wallclock time limit for intensification reached (used: 138.335120 sec, available: 0.000010 sec)\n"
     ]
    },
    {
     "name": "stdout",
     "output_type": "stream",
     "text": [
      "\n",
      "Surrogate Cost:  200.0\n",
      "Surrogate Final State:  [ 3.15554606 -0.00980468 -2.42584849 -0.47496704]\n",
      "use_cuda=True\n",
      "MLP Using Cuda\n",
      "hidden_sizes= [31, 91]\n",
      "100%|██████████| 50/50 [01:23<00:00,  1.67s/it]\n",
      "Simulating Surrogate Trajectory: \n",
      " 99%|█████████▉| 198/200 [00:18<00:00, 10.68it/s]"
     ]
    },
    {
     "name": "stderr",
     "output_type": "stream",
     "text": [
      "INFO:smac.intensification.intensification.Intensifier:Wallclock time limit for intensification reached (used: 102.038520 sec, available: 0.000010 sec)\n"
     ]
    },
    {
     "name": "stdout",
     "output_type": "stream",
     "text": [
      "\n",
      "Surrogate Cost:  200.0\n",
      "Surrogate Final State:  [ 3.15003814 -0.01129705 -0.03110662  0.00540546]\n",
      "use_cuda=True\n",
      "MLP Using Cuda\n",
      "hidden_sizes= [113, 204, 144, 38]\n",
      "100%|██████████| 50/50 [02:07<00:00,  2.55s/it]\n",
      "Simulating Surrogate Trajectory: \n",
      " 99%|█████████▉| 198/200 [00:07<00:00, 25.46it/s]"
     ]
    },
    {
     "name": "stderr",
     "output_type": "stream",
     "text": [
      "INFO:smac.intensification.intensification.Intensifier:Wallclock time limit for intensification reached (used: 135.347797 sec, available: 0.000010 sec)\n"
     ]
    },
    {
     "name": "stdout",
     "output_type": "stream",
     "text": [
      "\n",
      "Surrogate Cost:  200.0\n",
      "Surrogate Final State:  [ 3.15554152 -0.01183288 -2.41204393 -0.47205724]\n",
      "use_cuda=True\n",
      "MLP Using Cuda\n",
      "hidden_sizes= [234, 83]\n",
      "100%|██████████| 50/50 [01:22<00:00,  1.65s/it]\n",
      "Simulating Surrogate Trajectory: \n",
      " 99%|█████████▉| 198/200 [00:18<00:00, 10.62it/s]"
     ]
    },
    {
     "name": "stderr",
     "output_type": "stream",
     "text": [
      "INFO:smac.intensification.intensification.Intensifier:Wallclock time limit for intensification reached (used: 101.302939 sec, available: 0.000010 sec)\n"
     ]
    },
    {
     "name": "stdout",
     "output_type": "stream",
     "text": [
      "\n",
      "Surrogate Cost:  200.0\n",
      "Surrogate Final State:  [ 3.14904933e+00 -8.75357525e-04 -2.37124498e-01 -1.80104783e-02]\n",
      "use_cuda=True\n",
      "MLP Using Cuda\n",
      "hidden_sizes= [53, 144, 83]\n",
      "100%|██████████| 50/50 [01:43<00:00,  2.08s/it]\n",
      "Simulating Surrogate Trajectory: \n",
      " 99%|█████████▉| 198/200 [00:50<00:00,  3.89it/s]"
     ]
    },
    {
     "name": "stderr",
     "output_type": "stream",
     "text": [
      "INFO:smac.intensification.intensification.Intensifier:Wallclock time limit for intensification reached (used: 154.915020 sec, available: 0.000010 sec)\n"
     ]
    },
    {
     "name": "stdout",
     "output_type": "stream",
     "text": [
      "\n",
      "Surrogate Cost:  190.0\n",
      "Surrogate Final State:  [ 1.7824312   4.08364142 -0.93760578 -1.41756332]\n",
      "use_cuda=True\n",
      "MLP Using Cuda\n",
      "hidden_sizes= [174]\n",
      "100%|██████████| 50/50 [01:04<00:00,  1.29s/it]\n",
      "Simulating Surrogate Trajectory: \n",
      " 99%|█████████▉| 198/200 [00:07<00:00, 26.46it/s]"
     ]
    },
    {
     "name": "stderr",
     "output_type": "stream",
     "text": [
      "INFO:smac.intensification.intensification.Intensifier:Wallclock time limit for intensification reached (used: 72.198770 sec, available: 0.000010 sec)\n"
     ]
    },
    {
     "name": "stdout",
     "output_type": "stream",
     "text": [
      "\n",
      "Surrogate Cost:  200.0\n",
      "Surrogate Final State:  [ 3.14979072 -0.00848727 -0.87540971 -0.11374063]\n",
      "use_cuda=True\n",
      "MLP Using Cuda\n",
      "hidden_sizes= [23, 113, 174, 189]\n",
      "100%|██████████| 50/50 [02:07<00:00,  2.54s/it]\n",
      "Simulating Surrogate Trajectory: \n",
      " 99%|█████████▉| 198/200 [00:13<00:00, 14.89it/s]"
     ]
    },
    {
     "name": "stderr",
     "output_type": "stream",
     "text": [
      "INFO:smac.intensification.intensification.Intensifier:Wallclock time limit for intensification reached (used: 140.376554 sec, available: 0.000010 sec)\n"
     ]
    },
    {
     "name": "stdout",
     "output_type": "stream",
     "text": [
      "\n",
      "Surrogate Cost:  200.0\n",
      "Surrogate Final State:  [ 3.14895768 -0.0054139  -0.04821955  0.00682666]\n",
      "use_cuda=True\n",
      "MLP Using Cuda\n",
      "hidden_sizes= [144, 234]\n",
      "100%|██████████| 50/50 [01:23<00:00,  1.68s/it]\n",
      "Simulating Surrogate Trajectory: \n",
      " 99%|█████████▉| 198/200 [00:20<00:00,  9.81it/s]"
     ]
    },
    {
     "name": "stderr",
     "output_type": "stream",
     "text": [
      "INFO:smac.intensification.intensification.Intensifier:Wallclock time limit for intensification reached (used: 104.110878 sec, available: 0.000010 sec)\n"
     ]
    },
    {
     "name": "stdout",
     "output_type": "stream",
     "text": [
      "\n",
      "Surrogate Cost:  200.0\n",
      "Surrogate Final State:  [  3.64852147  -2.69195142 -78.73666755  -5.56713224]\n",
      "use_cuda=True\n",
      "MLP Using Cuda\n",
      "hidden_sizes= [83, 53, 113]\n",
      "100%|██████████| 50/50 [01:44<00:00,  2.08s/it]\n",
      "Simulating Surrogate Trajectory: \n",
      " 99%|█████████▉| 198/200 [01:16<00:00,  2.57it/s]"
     ]
    },
    {
     "name": "stderr",
     "output_type": "stream",
     "text": [
      "INFO:smac.intensification.intensification.Intensifier:Wallclock time limit for intensification reached (used: 181.192880 sec, available: 0.000010 sec)\n"
     ]
    },
    {
     "name": "stdout",
     "output_type": "stream",
     "text": [
      "\n",
      "Surrogate Cost:  200.0\n",
      "Surrogate Final State:  [-0.01602694 -0.00586651  4.58872227 -0.39830405]\n",
      "use_cuda=True\n",
      "MLP Using Cuda\n",
      "hidden_sizes= [204]\n",
      "100%|██████████| 50/50 [01:04<00:00,  1.29s/it]\n",
      "Simulating Surrogate Trajectory: \n",
      " 99%|█████████▉| 198/200 [00:11<00:00, 17.41it/s]"
     ]
    },
    {
     "name": "stderr",
     "output_type": "stream",
     "text": [
      "INFO:smac.intensification.intensification.Intensifier:Wallclock time limit for intensification reached (used: 75.739502 sec, available: 0.000010 sec)\n"
     ]
    },
    {
     "name": "stdout",
     "output_type": "stream",
     "text": [
      "\n",
      "Surrogate Cost:  200.0\n",
      "Surrogate Final State:  [ 3.14917613 -0.01053136 -0.89046535 -0.07684704]\n",
      "use_cuda=True\n",
      "MLP Using Cuda\n",
      "hidden_sizes= [219, 249]\n",
      "100%|██████████| 50/50 [01:25<00:00,  1.70s/it]\n",
      "Simulating Surrogate Trajectory: \n",
      " 99%|█████████▉| 198/200 [00:16<00:00, 12.05it/s]"
     ]
    },
    {
     "name": "stderr",
     "output_type": "stream",
     "text": [
      "INFO:smac.intensification.intensification.Intensifier:Wallclock time limit for intensification reached (used: 101.538722 sec, available: 0.000010 sec)\n"
     ]
    },
    {
     "name": "stdout",
     "output_type": "stream",
     "text": [
      "\n",
      "Surrogate Cost:  200.0\n",
      "Surrogate Final State:  [ 3.14748696e+00  2.50853367e-03 -6.12042526e-02  6.46869920e-03]\n",
      "use_cuda=True\n",
      "MLP Using Cuda\n",
      "hidden_sizes= [98, 128, 189, 174]\n",
      "100%|██████████| 50/50 [02:05<00:00,  2.51s/it]\n",
      "Simulating Surrogate Trajectory: \n",
      " 99%|█████████▉| 198/200 [01:23<00:00,  2.36it/s]"
     ]
    },
    {
     "name": "stderr",
     "output_type": "stream",
     "text": [
      "INFO:smac.intensification.intensification.Intensifier:Wallclock time limit for intensification reached (used: 209.073278 sec, available: 0.000010 sec)\n"
     ]
    },
    {
     "name": "stdout",
     "output_type": "stream",
     "text": [
      "\n",
      "Surrogate Cost:  200.0\n",
      "Surrogate Final State:  [-0.01842676  0.78312438 -1.93814055  0.88341863]\n",
      "use_cuda=True\n",
      "MLP Using Cuda\n",
      "hidden_sizes= [155]\n",
      "100%|██████████| 50/50 [01:03<00:00,  1.27s/it]\n",
      "Simulating Surrogate Trajectory: \n",
      " 99%|█████████▉| 198/200 [00:08<00:00, 23.63it/s]"
     ]
    },
    {
     "name": "stderr",
     "output_type": "stream",
     "text": [
      "INFO:smac.intensification.intensification.Intensifier:Wallclock time limit for intensification reached (used: 71.985613 sec, available: 0.000010 sec)\n"
     ]
    },
    {
     "name": "stdout",
     "output_type": "stream",
     "text": [
      "\n",
      "Surrogate Cost:  200.0\n",
      "Surrogate Final State:  [ 3.14578104 -0.02100855  0.02988309  0.00885625]\n",
      "use_cuda=True\n",
      "MLP Using Cuda\n",
      "hidden_sizes= [88, 39, 214, 147]\n",
      "100%|██████████| 50/50 [02:07<00:00,  2.55s/it]\n",
      "Simulating Surrogate Trajectory: \n",
      "  2%|▏         | 3/200 [00:00<00:08, 24.33it/s]"
     ]
    },
    {
     "name": "stderr",
     "output_type": "stream",
     "text": [
      "/home/william/proj/autompc_dev/autompc/control/ilqr.py:535: RuntimeWarning: invalid value encountered in double_scalars\n",
      "  if (obj - new_obj) / (-expect_cost_reduction) > ls_cost_threshold:\n"
     ]
    },
    {
     "name": "stdout",
     "output_type": "stream",
     "text": [
      " 99%|█████████▉| 198/200 [00:07<00:00, 27.42it/s]"
     ]
    },
    {
     "name": "stderr",
     "output_type": "stream",
     "text": [
      "INFO:smac.intensification.intensification.Intensifier:Wallclock time limit for intensification reached (used: 134.992021 sec, available: 0.000010 sec)\n"
     ]
    },
    {
     "name": "stdout",
     "output_type": "stream",
     "text": [
      "\n",
      "Surrogate Cost:  200.0\n",
      "Surrogate Final State:  [ 3.15554152 -0.01183288 -2.41204393 -0.47205724]\n",
      "use_cuda=True\n",
      "MLP Using Cuda\n",
      "hidden_sizes= [36, 200, 128]\n",
      "100%|██████████| 50/50 [01:41<00:00,  2.03s/it]\n",
      "Simulating Surrogate Trajectory: \n",
      " 99%|█████████▉| 198/200 [00:09<00:00, 20.81it/s]"
     ]
    },
    {
     "name": "stderr",
     "output_type": "stream",
     "text": [
      "INFO:smac.intensification.intensification.Intensifier:Wallclock time limit for intensification reached (used: 111.165622 sec, available: 0.000010 sec)\n"
     ]
    },
    {
     "name": "stdout",
     "output_type": "stream",
     "text": [
      "\n",
      "Surrogate Cost:  200.0\n",
      "Surrogate Final State:  [ 3.14949154 -0.00818565  1.23764306  0.15000985]\n",
      "use_cuda=True\n",
      "MLP Using Cuda\n",
      "hidden_sizes= [106]\n",
      "100%|██████████| 50/50 [01:04<00:00,  1.28s/it]\n",
      "Simulating Surrogate Trajectory: \n",
      " 99%|█████████▉| 198/200 [00:45<00:00,  4.32it/s]"
     ]
    },
    {
     "name": "stderr",
     "output_type": "stream",
     "text": [
      "INFO:smac.intensification.intensification.Intensifier:Wallclock time limit for intensification reached (used: 109.879945 sec, available: 0.000010 sec)\n"
     ]
    },
    {
     "name": "stdout",
     "output_type": "stream",
     "text": [
      "\n",
      "Surrogate Cost:  197.0\n",
      "Surrogate Final State:  [ 0.0120098   0.04851164 -0.31712248 -0.51267052]\n",
      "use_cuda=True\n",
      "MLP Using Cuda\n",
      "hidden_sizes= [116]\n",
      "100%|██████████| 50/50 [01:03<00:00,  1.27s/it]\n",
      "Simulating Surrogate Trajectory: \n",
      " 99%|█████████▉| 198/200 [00:07<00:00, 25.41it/s]"
     ]
    },
    {
     "name": "stderr",
     "output_type": "stream",
     "text": [
      "INFO:smac.intensification.intensification.Intensifier:Wallclock time limit for intensification reached (used: 71.326937 sec, available: 0.000010 sec)\n"
     ]
    },
    {
     "name": "stdout",
     "output_type": "stream",
     "text": [
      "\n",
      "Surrogate Cost:  200.0\n",
      "Surrogate Final State:  [ 3.14938438 -0.01172596 -0.06631957  0.007017  ]\n",
      "use_cuda=True\n",
      "MLP Using Cuda\n",
      "hidden_sizes= [229, 164]\n",
      "100%|██████████| 50/50 [01:23<00:00,  1.67s/it]\n",
      "Simulating Surrogate Trajectory: \n",
      " 99%|█████████▉| 198/200 [00:08<00:00, 22.87it/s]"
     ]
    },
    {
     "name": "stderr",
     "output_type": "stream",
     "text": [
      "INFO:smac.intensification.intensification.Intensifier:Wallclock time limit for intensification reached (used: 92.150502 sec, available: 0.000010 sec)\n"
     ]
    },
    {
     "name": "stdout",
     "output_type": "stream",
     "text": [
      "\n",
      "Surrogate Cost:  200.0\n",
      "Surrogate Final State:  [ 3.14886315 -0.01432637 -1.16664916 -0.08573395]\n",
      "use_cuda=True\n",
      "MLP Using Cuda\n",
      "hidden_sizes= [175, 144, 108]\n",
      "100%|██████████| 50/50 [01:46<00:00,  2.13s/it]\n",
      "Simulating Surrogate Trajectory: \n",
      " 99%|█████████▉| 198/200 [00:55<00:00,  3.57it/s]"
     ]
    },
    {
     "name": "stderr",
     "output_type": "stream",
     "text": [
      "INFO:smac.intensification.intensification.Intensifier:Wallclock time limit for intensification reached (used: 161.855378 sec, available: 0.000010 sec)\n"
     ]
    },
    {
     "name": "stdout",
     "output_type": "stream",
     "text": [
      "\n",
      "Surrogate Cost:  199.0\n",
      "Surrogate Final State:  [ 0.07789281 -1.36811474  6.37715957 -1.34074906]\n",
      "use_cuda=True\n",
      "MLP Using Cuda\n",
      "hidden_sizes= [108, 107]\n",
      "100%|██████████| 50/50 [01:22<00:00,  1.66s/it]\n",
      "Simulating Surrogate Trajectory: \n",
      " 99%|█████████▉| 198/200 [00:55<00:00,  3.58it/s]"
     ]
    },
    {
     "name": "stderr",
     "output_type": "stream",
     "text": [
      "INFO:smac.intensification.intensification.Intensifier:Wallclock time limit for intensification reached (used: 138.400171 sec, available: 0.000010 sec)\n"
     ]
    },
    {
     "name": "stdout",
     "output_type": "stream",
     "text": [
      "\n",
      "Surrogate Cost:  200.0\n",
      "Surrogate Final State:  [-2.76912189 -4.93987696  0.92411501  2.22215226]\n",
      "use_cuda=True\n",
      "MLP Using Cuda\n",
      "hidden_sizes= [106]\n",
      "100%|██████████| 50/50 [01:03<00:00,  1.27s/it]\n",
      "Simulating Surrogate Trajectory: \n",
      " 99%|█████████▉| 198/200 [00:42<00:00,  4.67it/s]"
     ]
    },
    {
     "name": "stderr",
     "output_type": "stream",
     "text": [
      "INFO:smac.intensification.intensification.Intensifier:Wallclock time limit for intensification reached (used: 106.161195 sec, available: 0.000010 sec)\n"
     ]
    },
    {
     "name": "stdout",
     "output_type": "stream",
     "text": [
      "\n",
      "Surrogate Cost:  200.0\n",
      "Surrogate Final State:  [-0.01408503 -0.27935784 -4.92322589  1.59070812]\n",
      "use_cuda=True\n",
      "MLP Using Cuda\n",
      "hidden_sizes= [46, 241, 102]\n",
      "100%|██████████| 50/50 [01:43<00:00,  2.08s/it]\n",
      "Simulating Surrogate Trajectory: \n",
      " 99%|█████████▉| 198/200 [01:22<00:00,  2.40it/s]"
     ]
    },
    {
     "name": "stderr",
     "output_type": "stream",
     "text": [
      "INFO:smac.intensification.intensification.Intensifier:Wallclock time limit for intensification reached (used: 186.225915 sec, available: 0.000010 sec)\n"
     ]
    },
    {
     "name": "stdout",
     "output_type": "stream",
     "text": [
      "\n",
      "Surrogate Cost:  200.0\n",
      "Surrogate Final State:  [-1.77251927e-02 -2.36050876e-01 -5.04100749e+01 -5.51463319e+00]\n",
      "use_cuda=True\n",
      "MLP Using Cuda\n",
      "hidden_sizes= [206, 145, 151]\n",
      "100%|██████████| 50/50 [01:46<00:00,  2.13s/it]\n",
      "Simulating Surrogate Trajectory: \n",
      " 99%|█████████▉| 198/200 [02:13<00:01,  1.48it/s]"
     ]
    },
    {
     "name": "stderr",
     "output_type": "stream",
     "text": [
      "INFO:smac.intensification.intensification.Intensifier:Wallclock time limit for intensification reached (used: 240.014852 sec, available: 0.000010 sec)\n"
     ]
    },
    {
     "name": "stdout",
     "output_type": "stream",
     "text": [
      "\n",
      "Surrogate Cost:  200.0\n",
      "Surrogate Final State:  [ 2.74375158e-02 -1.26080641e-01  3.63743110e+01  4.87003072e-01]\n",
      "use_cuda=True\n",
      "MLP Using Cuda\n",
      "hidden_sizes= [60, 120]\n",
      "100%|██████████| 50/50 [01:23<00:00,  1.66s/it]\n",
      "Simulating Surrogate Trajectory: \n",
      "  4%|▎         | 7/200 [00:00<00:06, 30.66it/s]"
     ]
    },
    {
     "name": "stderr",
     "output_type": "stream",
     "text": [
      "/home/william/proj/autompc_dev/autompc/control/ilqr.py:535: RuntimeWarning: invalid value encountered in double_scalars\n",
      "  if (obj - new_obj) / (-expect_cost_reduction) > ls_cost_threshold:\n"
     ]
    },
    {
     "name": "stdout",
     "output_type": "stream",
     "text": [
      " 99%|█████████▉| 198/200 [00:05<00:00, 33.77it/s]"
     ]
    },
    {
     "name": "stderr",
     "output_type": "stream",
     "text": [
      "INFO:smac.intensification.intensification.Intensifier:Wallclock time limit for intensification reached (used: 88.905305 sec, available: 0.000010 sec)\n"
     ]
    },
    {
     "name": "stdout",
     "output_type": "stream",
     "text": [
      "\n",
      "Surrogate Cost:  200.0\n",
      "Surrogate Final State:  [ 3.15554152 -0.01183288 -2.41204393 -0.47205724]\n",
      "use_cuda=True\n",
      "MLP Using Cuda\n",
      "hidden_sizes= [80]\n",
      "100%|██████████| 50/50 [01:04<00:00,  1.28s/it]\n",
      "Simulating Surrogate Trajectory: \n",
      " 99%|█████████▉| 198/200 [00:58<00:00,  3.37it/s]"
     ]
    },
    {
     "name": "stderr",
     "output_type": "stream",
     "text": [
      "INFO:smac.intensification.intensification.Intensifier:Wallclock time limit for intensification reached (used: 122.701614 sec, available: 0.000010 sec)\n"
     ]
    },
    {
     "name": "stdout",
     "output_type": "stream",
     "text": [
      "\n",
      "Surrogate Cost:  195.0\n",
      "Surrogate Final State:  [0.15845983 0.00515898 2.22161115 1.9287167 ]\n",
      "use_cuda=True\n",
      "MLP Using Cuda\n",
      "hidden_sizes= [240]\n",
      "100%|██████████| 50/50 [01:05<00:00,  1.31s/it]\n",
      "Simulating Surrogate Trajectory: \n",
      " 99%|█████████▉| 198/200 [00:41<00:00,  4.73it/s]"
     ]
    },
    {
     "name": "stderr",
     "output_type": "stream",
     "text": [
      "INFO:smac.intensification.intensification.Intensifier:Wallclock time limit for intensification reached (used: 107.472808 sec, available: 0.000010 sec)\n"
     ]
    },
    {
     "name": "stdout",
     "output_type": "stream",
     "text": [
      "\n",
      "Surrogate Cost:  200.0\n",
      "Surrogate Final State:  [ -0.08259648   0.18558832  -8.77781767 -12.48273254]\n",
      "use_cuda=True\n",
      "MLP Using Cuda\n",
      "hidden_sizes= [174, 89]\n",
      "100%|██████████| 50/50 [01:23<00:00,  1.68s/it]\n",
      "Simulating Surrogate Trajectory: \n",
      " 99%|█████████▉| 198/200 [00:08<00:00, 22.41it/s]"
     ]
    },
    {
     "name": "stderr",
     "output_type": "stream",
     "text": [
      "INFO:smac.intensification.intensification.Intensifier:Wallclock time limit for intensification reached (used: 92.696526 sec, available: 0.000010 sec)\n"
     ]
    },
    {
     "name": "stdout",
     "output_type": "stream",
     "text": [
      "\n",
      "Surrogate Cost:  200.0\n",
      "Surrogate Final State:  [ 3.14774683e+00 -1.03703478e-03 -2.22680379e-01  3.18281255e-02]\n",
      "use_cuda=True\n",
      "MLP Using Cuda\n",
      "hidden_sizes= [114, 35, 30]\n",
      "100%|██████████| 50/50 [01:42<00:00,  2.04s/it]\n",
      "Simulating Surrogate Trajectory: \n",
      " 99%|█████████▉| 198/200 [02:03<00:01,  1.60it/s]"
     ]
    },
    {
     "name": "stderr",
     "output_type": "stream",
     "text": [
      "INFO:smac.intensification.intensification.Intensifier:Wallclock time limit for intensification reached (used: 225.632756 sec, available: 0.000010 sec)\n"
     ]
    },
    {
     "name": "stdout",
     "output_type": "stream",
     "text": [
      "\n",
      "Surrogate Cost:  197.0\n",
      "Surrogate Final State:  [-0.07159436 -0.0213766  -2.45938251 -2.3455406 ]\n",
      "use_cuda=True\n",
      "MLP Using Cuda\n",
      "hidden_sizes= [235]\n",
      "100%|██████████| 50/50 [01:05<00:00,  1.31s/it]\n",
      "Simulating Surrogate Trajectory: \n",
      " 99%|█████████▉| 198/200 [00:16<00:00, 12.22it/s]"
     ]
    },
    {
     "name": "stderr",
     "output_type": "stream",
     "text": [
      "INFO:smac.intensification.intensification.Intensifier:Challenger (61.0000) is better than incumbent (189.0000) on 1 runs.\n",
      "INFO:smac.intensification.intensification.Intensifier:Changes in incumbent:\n",
      "INFO:smac.intensification.intensification.Intensifier:  _cost:dx_F : 0.4216965034285823 -> 28.4060323021976\n",
      "INFO:smac.intensification.intensification.Intensifier:  _cost:dx_Q : 0.4216965034285823 -> 0.002310163609770474\n",
      "INFO:smac.intensification.intensification.Intensifier:  _cost:omega_F : 23.713737056616576 -> 0.7153851316952081\n",
      "INFO:smac.intensification.intensification.Intensifier:  _cost:omega_Q : 0.007498942093324564 -> 0.001029598603549767\n",
      "INFO:smac.intensification.intensification.Intensifier:  _cost:theta_F : 1333.5214321633246 -> 3553.6596649624844\n",
      "INFO:smac.intensification.intensification.Intensifier:  _cost:theta_Q : 1333.5214321633246 -> 1323.9022916419856\n",
      "INFO:smac.intensification.intensification.Intensifier:  _cost:u_R : 0.007498942093324564 -> 3.8190563682199836\n",
      "INFO:smac.intensification.intensification.Intensifier:  _cost:x_F : 23.713737056616576 -> 8300.504607508154\n",
      "INFO:smac.intensification.intensification.Intensifier:  _cost:x_Q : 0.007498942093324564 -> 0.3510404502055934\n",
      "INFO:smac.intensification.intensification.Intensifier:  _ctrlr:horizon : 23 -> 16\n",
      "INFO:smac.intensification.intensification.Intensifier:  _model:hidden_size_1 : 106 -> 235\n",
      "INFO:smac.intensification.intensification.Intensifier:  _model:lr : 0.013335214321633242 -> 0.00033995041204044527\n",
      "INFO:smac.intensification.intensification.Intensifier:  _model:nonlintype : 'tanh' -> 'selu'\n",
      "INFO:smac.intensification.intensification.Intensifier:Wallclock time limit for intensification reached (used: 81.933055 sec, available: 0.000010 sec)\n"
     ]
    },
    {
     "name": "stdout",
     "output_type": "stream",
     "text": [
      "\n",
      "Surrogate Cost:  61.0\n",
      "Surrogate Final State:  [-0.00953201 -0.00450323 -0.03884365  0.00109977]\n",
      "use_cuda=True\n",
      "MLP Using Cuda\n",
      "hidden_sizes= [244, 30, 32]\n",
      "100%|██████████| 50/50 [01:44<00:00,  2.09s/it]\n",
      "Simulating Surrogate Trajectory: \n",
      " 99%|█████████▉| 198/200 [02:01<00:01,  1.63it/s]"
     ]
    },
    {
     "name": "stderr",
     "output_type": "stream",
     "text": [
      "INFO:smac.intensification.intensification.Intensifier:Wallclock time limit for intensification reached (used: 226.076536 sec, available: 0.000010 sec)\n"
     ]
    },
    {
     "name": "stdout",
     "output_type": "stream",
     "text": [
      "\n",
      "Surrogate Cost:  200.0\n",
      "Surrogate Final State:  [ 3.1703037  -0.0618555   0.25936619  0.02995511]\n",
      "use_cuda=True\n",
      "MLP Using Cuda\n",
      "hidden_sizes= [176, 186, 130]\n",
      "100%|██████████| 50/50 [01:43<00:00,  2.07s/it]\n",
      "Simulating Surrogate Trajectory: \n",
      " 99%|█████████▉| 198/200 [02:12<00:01,  1.49it/s]"
     ]
    },
    {
     "name": "stderr",
     "output_type": "stream",
     "text": [
      "INFO:smac.intensification.intensification.Intensifier:Wallclock time limit for intensification reached (used: 236.085776 sec, available: 0.000010 sec)\n"
     ]
    },
    {
     "name": "stdout",
     "output_type": "stream",
     "text": [
      "\n",
      "Surrogate Cost:  200.0\n",
      "Surrogate Final State:  [ 3.07162083  0.06734822 -0.08579725 -0.05394686]\n",
      "use_cuda=True\n",
      "MLP Using Cuda\n",
      "hidden_sizes= [235]\n",
      "100%|██████████| 50/50 [01:04<00:00,  1.29s/it]\n",
      "Simulating Surrogate Trajectory: \n",
      " 99%|█████████▉| 198/200 [00:17<00:00, 11.13it/s]"
     ]
    },
    {
     "name": "stderr",
     "output_type": "stream",
     "text": [
      "INFO:smac.intensification.intensification.Intensifier:Wallclock time limit for intensification reached (used: 82.315191 sec, available: 0.000010 sec)\n"
     ]
    },
    {
     "name": "stdout",
     "output_type": "stream",
     "text": [
      "\n",
      "Surrogate Cost:  61.0\n",
      "Surrogate Final State:  [-0.00971394 -0.00452234  0.10377402  0.00116815]\n",
      "use_cuda=True\n",
      "MLP Using Cuda\n",
      "hidden_sizes= [238, 128]\n",
      "100%|██████████| 50/50 [01:23<00:00,  1.67s/it]\n",
      "Simulating Surrogate Trajectory: \n",
      " 99%|█████████▉| 198/200 [00:15<00:00, 12.44it/s]"
     ]
    },
    {
     "name": "stderr",
     "output_type": "stream",
     "text": [
      "INFO:smac.intensification.intensification.Intensifier:Challenger (55.0000) is better than incumbent (61.0000) on 1 runs.\n",
      "INFO:smac.intensification.intensification.Intensifier:Changes in incumbent:\n",
      "INFO:smac.intensification.intensification.Intensifier:  _cost:dx_F : 28.4060323021976 -> 65.24806984386902\n",
      "INFO:smac.intensification.intensification.Intensifier:  _cost:omega_F : 0.7153851316952081 -> 1.3519710652415837\n",
      "INFO:smac.intensification.intensification.Intensifier:  _cost:omega_Q : 0.001029598603549767 -> 0.014156948325638843\n",
      "INFO:smac.intensification.intensification.Intensifier:  _cost:theta_F : 3553.6596649624844 -> 5384.822675488608\n",
      "INFO:smac.intensification.intensification.Intensifier:  _cost:theta_Q : 1323.9022916419856 -> 6120.346672377408\n",
      "INFO:smac.intensification.intensification.Intensifier:  _cost:u_R : 3.8190563682199836 -> 7.634750040083289\n",
      "INFO:smac.intensification.intensification.Intensifier:  _cost:x_Q : 0.3510404502055934 -> 0.22635704855130792\n",
      "INFO:smac.intensification.intensification.Intensifier:  _ctrlr:horizon : 16 -> 23\n",
      "INFO:smac.intensification.intensification.Intensifier:  _model:hidden_size_1 : 235 -> 238\n",
      "INFO:smac.intensification.intensification.Intensifier:  _model:hidden_size_2 : None -> 128\n",
      "INFO:smac.intensification.intensification.Intensifier:  _model:lr : 0.00033995041204044527 -> 0.008067296191642426\n"
     ]
    },
    {
     "name": "stdout",
     "output_type": "stream",
     "text": [
      "\n",
      "Surrogate Cost:  55.0\n",
      "Surrogate Final State:  [-0.00959387 -0.00450867  0.00945632  0.00112425]\n"
     ]
    },
    {
     "name": "stderr",
     "output_type": "stream",
     "text": [
      "INFO:smac.intensification.intensification.Intensifier:  _model:n_hidden_layers : '1' -> '2'\n",
      "INFO:smac.intensification.intensification.Intensifier:  _model:nonlintype : 'selu' -> 'relu'\n",
      "INFO:smac.intensification.intensification.Intensifier:Wallclock time limit for intensification reached (used: 99.244860 sec, available: 0.000010 sec)\n"
     ]
    },
    {
     "name": "stdout",
     "output_type": "stream",
     "text": [
      "use_cuda=True\n",
      "MLP Using Cuda\n",
      "hidden_sizes= [229, 141]\n",
      "100%|██████████| 50/50 [01:23<00:00,  1.67s/it]\n",
      "Simulating Surrogate Trajectory: \n",
      " 99%|█████████▉| 198/200 [00:31<00:00,  6.35it/s]"
     ]
    },
    {
     "name": "stderr",
     "output_type": "stream",
     "text": [
      "INFO:smac.intensification.intensification.Intensifier:Wallclock time limit for intensification reached (used: 114.907322 sec, available: 0.000010 sec)\n"
     ]
    },
    {
     "name": "stdout",
     "output_type": "stream",
     "text": [
      "\n",
      "Surrogate Cost:  200.0\n",
      "Surrogate Final State:  [ 2.57114636 -4.60620629 -3.90523067  6.39328369]\n",
      "use_cuda=True\n",
      "MLP Using Cuda\n",
      "hidden_sizes= [248, 128]\n",
      "100%|██████████| 50/50 [01:23<00:00,  1.68s/it]\n",
      "Simulating Surrogate Trajectory: \n",
      " 99%|█████████▉| 198/200 [00:14<00:00, 13.73it/s]"
     ]
    },
    {
     "name": "stderr",
     "output_type": "stream",
     "text": [
      "INFO:smac.intensification.intensification.Intensifier:Wallclock time limit for intensification reached (used: 98.260895 sec, available: 0.000010 sec)\n"
     ]
    },
    {
     "name": "stdout",
     "output_type": "stream",
     "text": [
      "\n",
      "Surrogate Cost:  57.0\n",
      "Surrogate Final State:  [-0.00948268 -0.00449842 -0.07730381  0.00108189]\n",
      "use_cuda=True\n",
      "MLP Using Cuda\n",
      "hidden_sizes= [241, 128, 128, 128]\n",
      "100%|██████████| 50/50 [02:09<00:00,  2.59s/it]\n",
      "Simulating Surrogate Trajectory: \n",
      " 99%|█████████▉| 198/200 [00:47<00:00,  4.19it/s]"
     ]
    },
    {
     "name": "stderr",
     "output_type": "stream",
     "text": [
      "INFO:smac.intensification.intensification.Intensifier:Wallclock time limit for intensification reached (used: 176.725936 sec, available: 0.000010 sec)\n"
     ]
    },
    {
     "name": "stdout",
     "output_type": "stream",
     "text": [
      "\n",
      "Surrogate Cost:  146.0\n",
      "Surrogate Final State:  [-0.01596086  0.04173498  0.06998639  0.01369699]\n",
      "use_cuda=True\n",
      "MLP Using Cuda\n",
      "hidden_sizes= [238]\n",
      "100%|██████████| 50/50 [01:04<00:00,  1.29s/it]\n",
      "Simulating Surrogate Trajectory: \n",
      " 99%|█████████▉| 198/200 [00:15<00:00, 12.78it/s]"
     ]
    },
    {
     "name": "stderr",
     "output_type": "stream",
     "text": [
      "INFO:smac.intensification.intensification.Intensifier:Wallclock time limit for intensification reached (used: 79.896045 sec, available: 0.000010 sec)\n"
     ]
    },
    {
     "name": "stdout",
     "output_type": "stream",
     "text": [
      "\n",
      "Surrogate Cost:  68.0\n",
      "Surrogate Final State:  [-0.00983267 -0.00453398  0.19633509  0.001211  ]\n",
      "use_cuda=True\n",
      "MLP Using Cuda\n",
      "hidden_sizes= [238, 143]\n",
      "100%|██████████| 50/50 [01:24<00:00,  1.68s/it]\n",
      "Simulating Surrogate Trajectory: \n",
      " 99%|█████████▉| 198/200 [00:24<00:00,  8.11it/s]"
     ]
    },
    {
     "name": "stderr",
     "output_type": "stream",
     "text": [
      "INFO:smac.intensification.intensification.Intensifier:Wallclock time limit for intensification reached (used: 108.423616 sec, available: 0.000010 sec)\n"
     ]
    },
    {
     "name": "stdout",
     "output_type": "stream",
     "text": [
      "\n",
      "Surrogate Cost:  112.0\n",
      "Surrogate Final State:  [-0.00953099 -0.00156027 -0.00549759  0.01146188]\n",
      "use_cuda=True\n",
      "MLP Using Cuda\n",
      "hidden_sizes= [238, 127]\n",
      "100%|██████████| 50/50 [01:24<00:00,  1.68s/it]\n",
      "Simulating Surrogate Trajectory: \n",
      " 99%|█████████▉| 198/200 [00:14<00:00, 13.64it/s]"
     ]
    },
    {
     "name": "stderr",
     "output_type": "stream",
     "text": [
      "INFO:smac.intensification.intensification.Intensifier:Wallclock time limit for intensification reached (used: 98.704436 sec, available: 0.000010 sec)\n"
     ]
    },
    {
     "name": "stdout",
     "output_type": "stream",
     "text": [
      "\n",
      "Surrogate Cost:  63.0\n",
      "Surrogate Final State:  [-0.00934674 -0.00448091 -0.1833318   0.00104114]\n",
      "use_cuda=True\n",
      "MLP Using Cuda\n",
      "hidden_sizes= [255, 128]\n",
      "100%|██████████| 50/50 [01:23<00:00,  1.67s/it]\n",
      "Simulating Surrogate Trajectory: \n",
      " 99%|█████████▉| 198/200 [02:01<00:01,  1.62it/s]"
     ]
    },
    {
     "name": "stderr",
     "output_type": "stream",
     "text": [
      "INFO:smac.intensification.intensification.Intensifier:Wallclock time limit for intensification reached (used: 205.382935 sec, available: 0.000010 sec)\n"
     ]
    },
    {
     "name": "stdout",
     "output_type": "stream",
     "text": [
      "\n",
      "Surrogate Cost:  200.0\n",
      "Surrogate Final State:  [ 3.13267385  1.35010038  2.1193951  -0.4702293 ]\n",
      "use_cuda=True\n",
      "MLP Using Cuda\n",
      "hidden_sizes= [238, 137, 135, 128]\n",
      "100%|██████████| 50/50 [02:06<00:00,  2.52s/it]\n",
      "Simulating Surrogate Trajectory: \n",
      " 99%|█████████▉| 198/200 [00:57<00:00,  3.45it/s]"
     ]
    },
    {
     "name": "stderr",
     "output_type": "stream",
     "text": [
      "INFO:smac.intensification.intensification.Intensifier:Wallclock time limit for intensification reached (used: 183.695455 sec, available: 0.000010 sec)\n"
     ]
    },
    {
     "name": "stdout",
     "output_type": "stream",
     "text": [
      "\n",
      "Surrogate Cost:  169.0\n",
      "Surrogate Final State:  [-0.04894235 -0.04992572  0.35548392 -0.01241929]\n",
      "use_cuda=True\n",
      "MLP Using Cuda\n",
      "hidden_sizes= [234, 106]\n",
      "100%|██████████| 50/50 [01:21<00:00,  1.62s/it]\n",
      "Simulating Surrogate Trajectory: \n",
      " 99%|█████████▉| 198/200 [00:27<00:00,  7.31it/s]"
     ]
    },
    {
     "name": "stderr",
     "output_type": "stream",
     "text": [
      "INFO:smac.intensification.intensification.Intensifier:Wallclock time limit for intensification reached (used: 108.248295 sec, available: 0.000010 sec)\n"
     ]
    },
    {
     "name": "stdout",
     "output_type": "stream",
     "text": [
      "\n",
      "Surrogate Cost:  184.0\n",
      "Surrogate Final State:  [-0.01085234  0.00104602  0.24038341  0.00648301]\n",
      "use_cuda=True\n",
      "MLP Using Cuda\n",
      "hidden_sizes= [240, 128]\n",
      "100%|██████████| 50/50 [01:21<00:00,  1.64s/it]\n",
      "Simulating Surrogate Trajectory: \n",
      " 99%|█████████▉| 198/200 [00:35<00:00,  5.52it/s]"
     ]
    },
    {
     "name": "stderr",
     "output_type": "stream",
     "text": [
      "INFO:smac.intensification.intensification.Intensifier:Wallclock time limit for intensification reached (used: 117.827902 sec, available: 0.000010 sec)\n"
     ]
    },
    {
     "name": "stdout",
     "output_type": "stream",
     "text": [
      "\n",
      "Surrogate Cost:  106.0\n",
      "Surrogate Final State:  [-0.01287339  0.00970804 -0.19838633  0.023023  ]\n",
      "use_cuda=True\n",
      "MLP Using Cuda\n",
      "hidden_sizes= [251, 128]\n",
      "100%|██████████| 50/50 [01:20<00:00,  1.62s/it]\n",
      "Simulating Surrogate Trajectory: \n",
      " 99%|█████████▉| 198/200 [00:16<00:00, 12.06it/s]"
     ]
    },
    {
     "name": "stderr",
     "output_type": "stream",
     "text": [
      "INFO:smac.intensification.intensification.Intensifier:Wallclock time limit for intensification reached (used: 97.418577 sec, available: 0.000010 sec)\n"
     ]
    },
    {
     "name": "stdout",
     "output_type": "stream",
     "text": [
      "\n",
      "Surrogate Cost:  61.0\n",
      "Surrogate Final State:  [-0.00965077 -0.00451537  0.0540551   0.00114369]\n",
      "use_cuda=True\n",
      "MLP Using Cuda\n",
      "hidden_sizes= [200, 219, 167, 150]\n",
      "100%|██████████| 50/50 [02:08<00:00,  2.56s/it]\n",
      "Simulating Surrogate Trajectory: \n",
      " 99%|█████████▉| 198/200 [01:10<00:00,  2.81it/s]"
     ]
    },
    {
     "name": "stderr",
     "output_type": "stream",
     "text": [
      "INFO:smac.intensification.intensification.Intensifier:Wallclock time limit for intensification reached (used: 198.755916 sec, available: 0.000010 sec)\n"
     ]
    },
    {
     "name": "stdout",
     "output_type": "stream",
     "text": [
      "\n",
      "Surrogate Cost:  200.0\n",
      "Surrogate Final State:  [  2.82234616   0.97106869 227.38260279  28.90906703]\n",
      "use_cuda=True\n",
      "MLP Using Cuda\n",
      "hidden_sizes= [23]\n",
      "100%|██████████| 50/50 [01:02<00:00,  1.25s/it]\n",
      "Simulating Surrogate Trajectory: \n",
      " 99%|█████████▉| 198/200 [00:08<00:00, 23.37it/s]"
     ]
    },
    {
     "name": "stderr",
     "output_type": "stream",
     "text": [
      "INFO:smac.intensification.intensification.Intensifier:Wallclock time limit for intensification reached (used: 71.189058 sec, available: 0.000010 sec)\n"
     ]
    },
    {
     "name": "stdout",
     "output_type": "stream",
     "text": [
      "\n",
      "Surrogate Cost:  200.0\n",
      "Surrogate Final State:  [ 3.1493876  -0.0083372  -0.02137865  0.00684189]\n",
      "use_cuda=True\n",
      "MLP Using Cuda\n",
      "hidden_sizes= [240]\n",
      "100%|██████████| 50/50 [01:03<00:00,  1.27s/it]\n",
      "Simulating Surrogate Trajectory: \n",
      " 99%|█████████▉| 198/200 [00:24<00:00,  8.22it/s]"
     ]
    },
    {
     "name": "stderr",
     "output_type": "stream",
     "text": [
      "INFO:smac.intensification.intensification.Intensifier:Wallclock time limit for intensification reached (used: 87.703481 sec, available: 0.000010 sec)\n"
     ]
    },
    {
     "name": "stdout",
     "output_type": "stream",
     "text": [
      "\n",
      "Surrogate Cost:  66.0\n",
      "Surrogate Final State:  [-0.00957344 -0.0056068  -0.0042775  -0.00019117]\n",
      "use_cuda=True\n",
      "MLP Using Cuda\n",
      "hidden_sizes= [244, 142]\n",
      "100%|██████████| 50/50 [01:24<00:00,  1.68s/it]\n",
      "Simulating Surrogate Trajectory: \n",
      " 99%|█████████▉| 198/200 [00:28<00:00,  6.88it/s]"
     ]
    },
    {
     "name": "stderr",
     "output_type": "stream",
     "text": [
      "INFO:smac.intensification.intensification.Intensifier:Wallclock time limit for intensification reached (used: 112.858000 sec, available: 0.000010 sec)\n"
     ]
    },
    {
     "name": "stdout",
     "output_type": "stream",
     "text": [
      "\n",
      "Surrogate Cost:  65.0\n",
      "Surrogate Final State:  [-0.00934426 -0.0050545   0.01125939  0.00084509]\n",
      "use_cuda=True\n",
      "MLP Using Cuda\n",
      "hidden_sizes= [246, 128]\n",
      "100%|██████████| 50/50 [01:21<00:00,  1.64s/it]\n",
      "Simulating Surrogate Trajectory: \n",
      " 99%|█████████▉| 198/200 [00:19<00:00, 10.01it/s]"
     ]
    },
    {
     "name": "stderr",
     "output_type": "stream",
     "text": [
      "INFO:smac.intensification.intensification.Intensifier:Wallclock time limit for intensification reached (used: 101.558946 sec, available: 0.000010 sec)\n"
     ]
    },
    {
     "name": "stdout",
     "output_type": "stream",
     "text": [
      "\n",
      "Surrogate Cost:  170.0\n",
      "Surrogate Final State:  [-0.00932546 -0.00448277 -0.20042618  0.00102154]\n",
      "use_cuda=True\n",
      "MLP Using Cuda\n",
      "hidden_sizes= [251, 128]\n",
      "100%|██████████| 50/50 [01:23<00:00,  1.67s/it]\n",
      "Simulating Surrogate Trajectory: \n",
      " 99%|█████████▉| 198/200 [00:18<00:00, 10.45it/s]"
     ]
    },
    {
     "name": "stderr",
     "output_type": "stream",
     "text": [
      "INFO:smac.intensification.intensification.Intensifier:Wallclock time limit for intensification reached (used: 102.427680 sec, available: 0.000010 sec)\n"
     ]
    },
    {
     "name": "stdout",
     "output_type": "stream",
     "text": [
      "\n",
      "Surrogate Cost:  86.0\n",
      "Surrogate Final State:  [-0.00986754 -0.00467412 -0.03940543 -0.00088709]\n",
      "use_cuda=True\n",
      "MLP Using Cuda\n",
      "hidden_sizes= [239, 128, 136]\n",
      "100%|██████████| 50/50 [01:44<00:00,  2.08s/it]\n",
      "Simulating Surrogate Trajectory: \n",
      " 99%|█████████▉| 198/200 [00:32<00:00,  6.05it/s]"
     ]
    },
    {
     "name": "stderr",
     "output_type": "stream",
     "text": [
      "INFO:smac.intensification.intensification.Intensifier:Wallclock time limit for intensification reached (used: 136.980939 sec, available: 0.000010 sec)\n"
     ]
    },
    {
     "name": "stdout",
     "output_type": "stream",
     "text": [
      "\n",
      "Surrogate Cost:  63.0\n",
      "Surrogate Final State:  [-0.00937351 -0.00453293 -0.16214687  0.00097161]\n",
      "use_cuda=True\n",
      "MLP Using Cuda\n",
      "hidden_sizes= [240, 158]\n",
      "100%|██████████| 50/50 [01:23<00:00,  1.67s/it]\n",
      "Simulating Surrogate Trajectory: \n",
      " 99%|█████████▉| 198/200 [00:37<00:00,  5.27it/s]"
     ]
    },
    {
     "name": "stderr",
     "output_type": "stream",
     "text": [
      "INFO:smac.intensification.intensification.Intensifier:Wallclock time limit for intensification reached (used: 121.217752 sec, available: 0.000010 sec)\n"
     ]
    },
    {
     "name": "stdout",
     "output_type": "stream",
     "text": [
      "\n",
      "Surrogate Cost:  200.0\n",
      "Surrogate Final State:  [-9.57281422e-03 -4.44422429e-03  8.01560804e-01  2.06555924e-04]\n",
      "use_cuda=True\n",
      "MLP Using Cuda\n",
      "hidden_sizes= [238, 98, 131]\n",
      "100%|██████████| 50/50 [01:44<00:00,  2.09s/it]\n",
      "Simulating Surrogate Trajectory: \n",
      " 99%|█████████▉| 198/200 [00:24<00:00,  8.03it/s]"
     ]
    },
    {
     "name": "stderr",
     "output_type": "stream",
     "text": [
      "INFO:smac.intensification.intensification.Intensifier:Wallclock time limit for intensification reached (used: 129.328230 sec, available: 0.000010 sec)\n"
     ]
    },
    {
     "name": "stdout",
     "output_type": "stream",
     "text": [
      "\n",
      "Surrogate Cost:  171.0\n",
      "Surrogate Final State:  [-0.00985197 -0.00453618  0.21147281  0.00121793]\n",
      "use_cuda=True\n",
      "MLP Using Cuda\n",
      "hidden_sizes= [238, 128]\n",
      "100%|██████████| 50/50 [01:24<00:00,  1.68s/it]\n",
      "Simulating Surrogate Trajectory: \n",
      " 99%|█████████▉| 198/200 [00:14<00:00, 13.50it/s]"
     ]
    },
    {
     "name": "stderr",
     "output_type": "stream",
     "text": [
      "INFO:smac.intensification.intensification.Intensifier:Wallclock time limit for intensification reached (used: 98.869427 sec, available: 0.000010 sec)\n"
     ]
    },
    {
     "name": "stdout",
     "output_type": "stream",
     "text": [
      "\n",
      "Surrogate Cost:  58.0\n",
      "Surrogate Final State:  [-0.00961794 -0.00451206  0.02835788  0.00113135]\n",
      "use_cuda=True\n",
      "MLP Using Cuda\n",
      "hidden_sizes= [121]\n",
      "100%|██████████| 50/50 [01:02<00:00,  1.24s/it]\n",
      "Simulating Surrogate Trajectory: \n",
      " 99%|█████████▉| 198/200 [00:46<00:00,  4.27it/s]"
     ]
    },
    {
     "name": "stderr",
     "output_type": "stream",
     "text": [
      "INFO:smac.intensification.intensification.Intensifier:Wallclock time limit for intensification reached (used: 108.559066 sec, available: 0.000010 sec)\n"
     ]
    },
    {
     "name": "stdout",
     "output_type": "stream",
     "text": [
      "\n",
      "Surrogate Cost:  200.0\n",
      "Surrogate Final State:  [ 0.47969279  0.0020866   0.30517745 -1.04845347]\n",
      "use_cuda=True\n",
      "MLP Using Cuda\n",
      "hidden_sizes= [237, 123]\n",
      "100%|██████████| 50/50 [01:22<00:00,  1.65s/it]\n",
      "Simulating Surrogate Trajectory: \n",
      " 99%|█████████▉| 198/200 [00:37<00:00,  5.30it/s]"
     ]
    },
    {
     "name": "stderr",
     "output_type": "stream",
     "text": [
      "INFO:smac.intensification.intensification.Intensifier:Wallclock time limit for intensification reached (used: 120.093331 sec, available: 0.000010 sec)\n"
     ]
    },
    {
     "name": "stdout",
     "output_type": "stream",
     "text": [
      "\n",
      "Surrogate Cost:  198.0\n",
      "Surrogate Final State:  [-3.67465021e-04  3.36142755e-02  5.56523648e-01  8.76022297e-02]\n",
      "use_cuda=True\n",
      "MLP Using Cuda\n",
      "hidden_sizes= [239, 142, 127, 134]\n",
      "100%|██████████| 50/50 [02:14<00:00,  2.69s/it]\n",
      "Simulating Surrogate Trajectory: \n",
      " 99%|█████████▉| 198/200 [00:38<00:00,  5.17it/s]"
     ]
    },
    {
     "name": "stderr",
     "output_type": "stream",
     "text": [
      "INFO:smac.intensification.intensification.Intensifier:Wallclock time limit for intensification reached (used: 173.013360 sec, available: 0.000010 sec)\n"
     ]
    },
    {
     "name": "stdout",
     "output_type": "stream",
     "text": [
      "\n",
      "Surrogate Cost:  200.0\n",
      "Surrogate Final State:  [ 0.27722981 -0.7078165  -1.91874169 -3.32897698]\n",
      "use_cuda=True\n",
      "MLP Using Cuda\n",
      "hidden_sizes= [238]\n",
      "100%|██████████| 50/50 [01:01<00:00,  1.23s/it]\n",
      "Simulating Surrogate Trajectory: \n",
      " 99%|█████████▉| 198/200 [00:30<00:00,  6.45it/s]"
     ]
    },
    {
     "name": "stderr",
     "output_type": "stream",
     "text": [
      "INFO:smac.intensification.intensification.Intensifier:Wallclock time limit for intensification reached (used: 92.460999 sec, available: 0.000010 sec)\n"
     ]
    },
    {
     "name": "stdout",
     "output_type": "stream",
     "text": [
      "\n",
      "Surrogate Cost:  200.0\n",
      "Surrogate Final State:  [-0.13508675 -0.00877295 -1.29601328  0.69647601]\n",
      "use_cuda=True\n",
      "MLP Using Cuda\n",
      "hidden_sizes= [59, 151]\n",
      "100%|██████████| 50/50 [01:25<00:00,  1.72s/it]\n",
      "Simulating Surrogate Trajectory: \n",
      " 99%|█████████▉| 198/200 [00:07<00:00, 26.14it/s]"
     ]
    },
    {
     "name": "stderr",
     "output_type": "stream",
     "text": [
      "INFO:smac.intensification.intensification.Intensifier:Wallclock time limit for intensification reached (used: 93.507876 sec, available: 0.000010 sec)\n"
     ]
    },
    {
     "name": "stdout",
     "output_type": "stream",
     "text": [
      "\n",
      "Surrogate Cost:  200.0\n",
      "Surrogate Final State:  [ 3.11794035e+00 -8.75912356e-03  1.26171048e+01  2.57287737e+00]\n",
      "use_cuda=True\n",
      "MLP Using Cuda\n",
      "hidden_sizes= [243, 106, 128]\n",
      "100%|██████████| 50/50 [01:49<00:00,  2.20s/it]\n",
      "Simulating Surrogate Trajectory: \n",
      " 99%|█████████▉| 198/200 [01:34<00:00,  2.10it/s]"
     ]
    },
    {
     "name": "stderr",
     "output_type": "stream",
     "text": [
      "INFO:smac.intensification.intensification.Intensifier:Wallclock time limit for intensification reached (used: 204.238667 sec, available: 0.000010 sec)\n"
     ]
    },
    {
     "name": "stdout",
     "output_type": "stream",
     "text": [
      "\n",
      "Surrogate Cost:  199.0\n",
      "Surrogate Final State:  [-0.11132696 -0.05979943  0.68844346 -0.15699446]\n",
      "use_cuda=True\n",
      "MLP Using Cuda\n",
      "hidden_sizes= [238, 128]\n",
      "100%|██████████| 50/50 [01:26<00:00,  1.73s/it]\n",
      "Simulating Surrogate Trajectory: \n",
      " 99%|█████████▉| 198/200 [00:14<00:00, 14.09it/s]"
     ]
    },
    {
     "name": "stderr",
     "output_type": "stream",
     "text": [
      "INFO:smac.intensification.intensification.Intensifier:Challenger (54.0000) is better than incumbent (55.0000) on 1 runs.\n",
      "INFO:smac.intensification.intensification.Intensifier:Changes in incumbent:\n",
      "INFO:smac.intensification.intensification.Intensifier:  _cost:dx_F : 65.24806984386902 -> 33.6356525523436\n",
      "INFO:smac.intensification.intensification.Intensifier:  _cost:dx_Q : 0.002310163609770474 -> 0.0013622084435760135\n",
      "INFO:smac.intensification.intensification.Intensifier:  _cost:omega_Q : 0.014156948325638843 -> 0.01869440877657144\n",
      "INFO:smac.intensification.intensification.Intensifier:  _cost:u_R : 7.634750040083289 -> 7.7417556278179624\n",
      "INFO:smac.intensification.intensification.Intensifier:  _cost:x_Q : 0.22635704855130792 -> 0.009056379979656125\n",
      "INFO:smac.intensification.intensification.Intensifier:  _ctrlr:horizon : 23 -> 20\n",
      "INFO:smac.intensification.intensification.Intensifier:Wallclock time limit for intensification reached (used: 100.497106 sec, available: 0.000010 sec)\n"
     ]
    },
    {
     "name": "stdout",
     "output_type": "stream",
     "text": [
      "\n",
      "Surrogate Cost:  54.0\n",
      "Surrogate Final State:  [-0.00959364 -0.00450856  0.00918405  0.0011235 ]\n",
      "use_cuda=True\n",
      "MLP Using Cuda\n",
      "hidden_sizes= [201]\n",
      "100%|██████████| 50/50 [01:01<00:00,  1.22s/it]\n",
      "Simulating Surrogate Trajectory: \n",
      " 99%|█████████▉| 198/200 [00:46<00:00,  4.26it/s]"
     ]
    },
    {
     "name": "stderr",
     "output_type": "stream",
     "text": [
      "INFO:smac.intensification.intensification.Intensifier:Wallclock time limit for intensification reached (used: 107.629081 sec, available: 0.000010 sec)\n"
     ]
    },
    {
     "name": "stdout",
     "output_type": "stream",
     "text": [
      "\n",
      "Surrogate Cost:  200.0\n",
      "Surrogate Final State:  [3.23697755 0.2790962  0.07070098 0.0385979 ]\n",
      "use_cuda=True\n",
      "MLP Using Cuda\n",
      "hidden_sizes= [253, 139]\n",
      "100%|██████████| 50/50 [01:24<00:00,  1.70s/it]\n",
      "Simulating Surrogate Trajectory: \n",
      " 99%|█████████▉| 198/200 [00:18<00:00, 10.77it/s]"
     ]
    },
    {
     "name": "stderr",
     "output_type": "stream",
     "text": [
      "INFO:smac.intensification.intensification.Intensifier:Wallclock time limit for intensification reached (used: 103.399887 sec, available: 0.000010 sec)\n"
     ]
    },
    {
     "name": "stdout",
     "output_type": "stream",
     "text": [
      "\n",
      "Surrogate Cost:  58.0\n",
      "Surrogate Final State:  [-0.00952996 -0.00450177 -0.04108222  0.00109779]\n",
      "use_cuda=True\n",
      "MLP Using Cuda\n",
      "hidden_sizes= [238, 128]\n",
      "100%|██████████| 50/50 [01:24<00:00,  1.69s/it]\n",
      "Simulating Surrogate Trajectory: \n",
      " 99%|█████████▉| 198/200 [00:12<00:00, 15.35it/s]"
     ]
    },
    {
     "name": "stderr",
     "output_type": "stream",
     "text": [
      "INFO:smac.intensification.intensification.Intensifier:Wallclock time limit for intensification reached (used: 97.458515 sec, available: 0.000010 sec)\n"
     ]
    },
    {
     "name": "stdout",
     "output_type": "stream",
     "text": [
      "\n",
      "Surrogate Cost:  54.0\n",
      "Surrogate Final State:  [-0.00959112 -0.00450814  0.00707823  0.00112165]\n",
      "use_cuda=True\n",
      "MLP Using Cuda\n",
      "hidden_sizes= [248, 128]\n",
      "100%|██████████| 50/50 [01:26<00:00,  1.72s/it]\n",
      "Simulating Surrogate Trajectory: \n",
      " 99%|█████████▉| 198/200 [00:31<00:00,  6.34it/s]"
     ]
    },
    {
     "name": "stderr",
     "output_type": "stream",
     "text": [
      "INFO:smac.intensification.intensification.Intensifier:Wallclock time limit for intensification reached (used: 117.499775 sec, available: 0.000010 sec)\n"
     ]
    },
    {
     "name": "stdout",
     "output_type": "stream",
     "text": [
      "\n",
      "Surrogate Cost:  200.0\n",
      "Surrogate Final State:  [-0.00938045  0.00431532 -0.66115156  0.01480104]\n",
      "use_cuda=True\n",
      "MLP Using Cuda\n",
      "hidden_sizes= [204]\n",
      "100%|██████████| 50/50 [01:02<00:00,  1.25s/it]\n",
      "Simulating Surrogate Trajectory: \n",
      " 99%|█████████▉| 198/200 [00:06<00:00, 29.45it/s]"
     ]
    },
    {
     "name": "stderr",
     "output_type": "stream",
     "text": [
      "INFO:smac.intensification.intensification.Intensifier:Wallclock time limit for intensification reached (used: 69.036461 sec, available: 0.000010 sec)\n"
     ]
    },
    {
     "name": "stdout",
     "output_type": "stream",
     "text": [
      "\n",
      "Surrogate Cost:  200.0\n",
      "Surrogate Final State:  [ 3.147327   -0.01022038 -0.79176907 -0.01081018]\n",
      "use_cuda=True\n",
      "MLP Using Cuda\n",
      "hidden_sizes= [115, 61, 33]\n",
      "100%|██████████| 50/50 [01:49<00:00,  2.19s/it]\n",
      "Simulating Surrogate Trajectory: \n",
      " 99%|█████████▉| 198/200 [00:08<00:00, 23.38it/s]"
     ]
    },
    {
     "name": "stderr",
     "output_type": "stream",
     "text": [
      "INFO:smac.intensification.intensification.Intensifier:Wallclock time limit for intensification reached (used: 118.083888 sec, available: 0.000010 sec)\n"
     ]
    },
    {
     "name": "stdout",
     "output_type": "stream",
     "text": [
      "\n",
      "Surrogate Cost:  200.0\n",
      "Surrogate Final State:  [ 3.14930423 -0.01128503 -0.16815334  0.00814196]\n",
      "use_cuda=True\n",
      "MLP Using Cuda\n",
      "hidden_sizes= [236, 127]\n",
      "100%|██████████| 50/50 [01:26<00:00,  1.73s/it]\n",
      "Simulating Surrogate Trajectory: \n",
      " 99%|█████████▉| 198/200 [00:11<00:00, 16.90it/s]"
     ]
    },
    {
     "name": "stderr",
     "output_type": "stream",
     "text": [
      "INFO:smac.intensification.intensification.Intensifier:Wallclock time limit for intensification reached (used: 98.236709 sec, available: 0.000010 sec)\n"
     ]
    },
    {
     "name": "stdout",
     "output_type": "stream",
     "text": [
      "\n",
      "Surrogate Cost:  61.0\n",
      "Surrogate Final State:  [-0.00939197 -0.00448888 -0.1483885   0.00104794]\n",
      "use_cuda=True\n",
      "MLP Using Cuda\n",
      "hidden_sizes= [238, 138]\n",
      "100%|██████████| 50/50 [01:27<00:00,  1.75s/it]\n",
      "Simulating Surrogate Trajectory: \n",
      " 99%|█████████▉| 198/200 [00:30<00:00,  6.44it/s]"
     ]
    },
    {
     "name": "stderr",
     "output_type": "stream",
     "text": [
      "INFO:smac.intensification.intensification.Intensifier:Wallclock time limit for intensification reached (used: 118.161878 sec, available: 0.000010 sec)\n"
     ]
    },
    {
     "name": "stdout",
     "output_type": "stream",
     "text": [
      "\n",
      "Surrogate Cost:  200.0\n",
      "Surrogate Final State:  [ 1.88539918  3.40708787 -3.03153732 -5.18123201]\n",
      "use_cuda=True\n",
      "MLP Using Cuda\n",
      "hidden_sizes= [31, 191]\n",
      "100%|██████████| 50/50 [01:26<00:00,  1.73s/it]\n",
      "Simulating Surrogate Trajectory: \n",
      " 99%|█████████▉| 198/200 [00:08<00:00, 24.20it/s]"
     ]
    },
    {
     "name": "stderr",
     "output_type": "stream",
     "text": [
      "INFO:smac.intensification.intensification.Intensifier:Wallclock time limit for intensification reached (used: 94.912809 sec, available: 0.000010 sec)\n"
     ]
    },
    {
     "name": "stdout",
     "output_type": "stream",
     "text": [
      "\n",
      "Surrogate Cost:  200.0\n",
      "Surrogate Final State:  [ 3.15092955 -0.00884669  0.02733571  0.00697554]\n",
      "use_cuda=True\n",
      "MLP Using Cuda\n",
      "hidden_sizes= [238, 129]\n",
      "100%|██████████| 50/50 [01:27<00:00,  1.74s/it]\n",
      "Simulating Surrogate Trajectory: \n",
      " 99%|█████████▉| 198/200 [00:47<00:00,  4.15it/s]"
     ]
    },
    {
     "name": "stderr",
     "output_type": "stream",
     "text": [
      "INFO:smac.intensification.intensification.Intensifier:Wallclock time limit for intensification reached (used: 134.987072 sec, available: 0.000010 sec)\n"
     ]
    },
    {
     "name": "stdout",
     "output_type": "stream",
     "text": [
      "\n",
      "Surrogate Cost:  200.0\n",
      "Surrogate Final State:  [-8.94599612e-03 -4.70155444e-03 -5.53522696e-01  1.34401771e-04]\n",
      "use_cuda=True\n",
      "MLP Using Cuda\n",
      "hidden_sizes= [240, 136]\n",
      "100%|██████████| 50/50 [01:26<00:00,  1.73s/it]\n",
      "Simulating Surrogate Trajectory: \n",
      " 99%|█████████▉| 198/200 [00:25<00:00,  7.65it/s]"
     ]
    },
    {
     "name": "stderr",
     "output_type": "stream",
     "text": [
      "INFO:smac.intensification.intensification.Intensifier:Wallclock time limit for intensification reached (used: 112.383737 sec, available: 0.000010 sec)\n"
     ]
    },
    {
     "name": "stdout",
     "output_type": "stream",
     "text": [
      "\n",
      "Surrogate Cost:  95.0\n",
      "Surrogate Final State:  [-0.00919786 -0.00542143  0.16257488  0.00188169]\n",
      "use_cuda=True\n",
      "MLP Using Cuda\n",
      "hidden_sizes= [236, 136]\n",
      "100%|██████████| 50/50 [01:26<00:00,  1.73s/it]\n",
      "Simulating Surrogate Trajectory: \n",
      " 99%|█████████▉| 198/200 [00:29<00:00,  6.81it/s]"
     ]
    },
    {
     "name": "stderr",
     "output_type": "stream",
     "text": [
      "INFO:smac.intensification.intensification.Intensifier:Wallclock time limit for intensification reached (used: 115.752036 sec, available: 0.000010 sec)\n"
     ]
    },
    {
     "name": "stdout",
     "output_type": "stream",
     "text": [
      "\n",
      "Surrogate Cost:  150.0\n",
      "Surrogate Final State:  [-0.01145686 -0.00291427  0.07145314 -0.00702116]\n",
      "use_cuda=True\n",
      "MLP Using Cuda\n",
      "hidden_sizes= [238, 130]\n",
      "100%|██████████| 50/50 [01:26<00:00,  1.73s/it]\n",
      "Simulating Surrogate Trajectory: \n",
      " 99%|█████████▉| 198/200 [00:27<00:00,  7.28it/s]"
     ]
    },
    {
     "name": "stderr",
     "output_type": "stream",
     "text": [
      "INFO:smac.intensification.intensification.Intensifier:Wallclock time limit for intensification reached (used: 113.818861 sec, available: 0.000010 sec)\n"
     ]
    },
    {
     "name": "stdout",
     "output_type": "stream",
     "text": [
      "\n",
      "Surrogate Cost:  178.0\n",
      "Surrogate Final State:  [-0.00924524 -0.00446512 -0.20246462  0.00118581]\n",
      "use_cuda=True\n",
      "MLP Using Cuda\n",
      "hidden_sizes= [238, 129]\n",
      "100%|██████████| 50/50 [01:27<00:00,  1.75s/it]\n",
      "Simulating Surrogate Trajectory: \n",
      " 99%|█████████▉| 198/200 [00:17<00:00, 11.55it/s]"
     ]
    },
    {
     "name": "stderr",
     "output_type": "stream",
     "text": [
      "INFO:smac.intensification.intensification.Intensifier:Wallclock time limit for intensification reached (used: 104.468036 sec, available: 0.000010 sec)\n"
     ]
    },
    {
     "name": "stdout",
     "output_type": "stream",
     "text": [
      "\n",
      "Surrogate Cost:  56.0\n",
      "Surrogate Final State:  [-0.00939431 -0.00448783 -0.14655173  0.00105078]\n",
      "use_cuda=True\n",
      "MLP Using Cuda\n",
      "hidden_sizes= [238, 128, 128]\n",
      "100%|██████████| 50/50 [01:51<00:00,  2.22s/it]\n",
      "Simulating Surrogate Trajectory: \n",
      " 99%|█████████▉| 198/200 [00:20<00:00,  9.73it/s]"
     ]
    },
    {
     "name": "stderr",
     "output_type": "stream",
     "text": [
      "INFO:smac.intensification.intensification.Intensifier:Wallclock time limit for intensification reached (used: 131.587650 sec, available: 0.000010 sec)\n"
     ]
    },
    {
     "name": "stdout",
     "output_type": "stream",
     "text": [
      "\n",
      "Surrogate Cost:  123.0\n",
      "Surrogate Final State:  [-9.34382568e-03 -5.81377947e-03  1.95561713e-01  9.21339768e-05]\n",
      "use_cuda=True\n",
      "MLP Using Cuda\n",
      "hidden_sizes= [241, 128]\n",
      "100%|██████████| 50/50 [01:26<00:00,  1.73s/it]\n",
      "Simulating Surrogate Trajectory: \n",
      " 99%|█████████▉| 198/200 [00:13<00:00, 15.13it/s]"
     ]
    },
    {
     "name": "stderr",
     "output_type": "stream",
     "text": [
      "INFO:smac.intensification.intensification.Intensifier:Wallclock time limit for intensification reached (used: 99.670673 sec, available: 0.000010 sec)\n"
     ]
    },
    {
     "name": "stdout",
     "output_type": "stream",
     "text": [
      "\n",
      "Surrogate Cost:  59.0\n",
      "Surrogate Final State:  [-0.00808719  0.00493584 -0.11033472  0.01571535]\n",
      "use_cuda=True\n",
      "MLP Using Cuda\n",
      "hidden_sizes= [245, 129]\n",
      "100%|██████████| 50/50 [01:26<00:00,  1.73s/it]\n",
      "Simulating Surrogate Trajectory: \n",
      " 99%|█████████▉| 198/200 [00:14<00:00, 13.97it/s]"
     ]
    },
    {
     "name": "stderr",
     "output_type": "stream",
     "text": [
      "INFO:smac.intensification.intensification.Intensifier:Wallclock time limit for intensification reached (used: 100.714931 sec, available: 0.000010 sec)\n"
     ]
    },
    {
     "name": "stdout",
     "output_type": "stream",
     "text": [
      "\n",
      "Surrogate Cost:  61.0\n",
      "Surrogate Final State:  [-0.00951781 -0.00449982 -0.05011234  0.00109737]\n",
      "use_cuda=True\n",
      "MLP Using Cuda\n",
      "hidden_sizes= [251]\n",
      "100%|██████████| 50/50 [01:03<00:00,  1.27s/it]\n",
      "Simulating Surrogate Trajectory: \n",
      " 99%|█████████▉| 198/200 [00:20<00:00,  9.85it/s]"
     ]
    },
    {
     "name": "stderr",
     "output_type": "stream",
     "text": [
      "INFO:smac.intensification.intensification.Intensifier:Wallclock time limit for intensification reached (used: 83.641952 sec, available: 0.000010 sec)\n"
     ]
    },
    {
     "name": "stdout",
     "output_type": "stream",
     "text": [
      "\n",
      "Surrogate Cost:  109.0\n",
      "Surrogate Final State:  [-0.00922041 -0.00359974  0.01465686  0.00448885]\n",
      "use_cuda=True\n",
      "MLP Using Cuda\n",
      "hidden_sizes= [238, 128]\n",
      "100%|██████████| 50/50 [01:26<00:00,  1.72s/it]\n",
      "Simulating Surrogate Trajectory: \n",
      " 99%|█████████▉| 198/200 [00:39<00:00,  4.98it/s]"
     ]
    },
    {
     "name": "stderr",
     "output_type": "stream",
     "text": [
      "INFO:smac.intensification.intensification.Intensifier:Wallclock time limit for intensification reached (used: 125.983173 sec, available: 0.000010 sec)\n"
     ]
    },
    {
     "name": "stdout",
     "output_type": "stream",
     "text": [
      "\n",
      "Surrogate Cost:  80.0\n",
      "Surrogate Final State:  [-0.00908701 -0.00486738  0.07499593  0.00338713]\n",
      "use_cuda=True\n",
      "MLP Using Cuda\n",
      "hidden_sizes= [238, 128]\n",
      "100%|██████████| 50/50 [01:26<00:00,  1.73s/it]\n",
      "Simulating Surrogate Trajectory: \n",
      " 99%|█████████▉| 198/200 [00:18<00:00, 10.85it/s]"
     ]
    },
    {
     "name": "stderr",
     "output_type": "stream",
     "text": [
      "INFO:smac.intensification.intensification.Intensifier:Wallclock time limit for intensification reached (used: 104.570589 sec, available: 0.000010 sec)\n"
     ]
    },
    {
     "name": "stdout",
     "output_type": "stream",
     "text": [
      "\n",
      "Surrogate Cost:  54.0\n",
      "Surrogate Final State:  [-0.00965909 -0.00451612  0.06050549  0.00114654]\n",
      "use_cuda=True\n",
      "MLP Using Cuda\n",
      "hidden_sizes= [238, 128]\n",
      "100%|██████████| 50/50 [01:26<00:00,  1.72s/it]\n",
      "Simulating Surrogate Trajectory: \n",
      " 99%|█████████▉| 198/200 [00:16<00:00, 11.67it/s]"
     ]
    },
    {
     "name": "stderr",
     "output_type": "stream",
     "text": [
      "INFO:smac.intensification.intensification.Intensifier:Wallclock time limit for intensification reached (used: 102.995141 sec, available: 0.000010 sec)\n"
     ]
    },
    {
     "name": "stdout",
     "output_type": "stream",
     "text": [
      "\n",
      "Surrogate Cost:  54.0\n",
      "Surrogate Final State:  [-0.00964843 -0.00451658  0.05244309  0.00114109]\n",
      "use_cuda=True\n",
      "MLP Using Cuda\n",
      "hidden_sizes= [238, 110, 127]\n",
      "100%|██████████| 50/50 [01:51<00:00,  2.23s/it]\n",
      "Simulating Surrogate Trajectory: \n",
      " 99%|█████████▉| 198/200 [00:30<00:00,  6.50it/s]"
     ]
    },
    {
     "name": "stderr",
     "output_type": "stream",
     "text": [
      "INFO:smac.intensification.intensification.Intensifier:Wallclock time limit for intensification reached (used: 141.756147 sec, available: 0.000010 sec)\n"
     ]
    },
    {
     "name": "stdout",
     "output_type": "stream",
     "text": [
      "\n",
      "Surrogate Cost:  97.0\n",
      "Surrogate Final State:  [-0.03425937  0.0557601   0.06499224  0.04779628]\n",
      "use_cuda=True\n",
      "MLP Using Cuda\n",
      "hidden_sizes= [238, 129]\n",
      "100%|██████████| 50/50 [01:25<00:00,  1.72s/it]\n",
      "Simulating Surrogate Trajectory: \n",
      " 99%|█████████▉| 198/200 [00:18<00:00, 10.95it/s]"
     ]
    },
    {
     "name": "stderr",
     "output_type": "stream",
     "text": [
      "INFO:smac.intensification.intensification.Intensifier:Wallclock time limit for intensification reached (used: 104.068414 sec, available: 0.000010 sec)\n"
     ]
    },
    {
     "name": "stdout",
     "output_type": "stream",
     "text": [
      "\n",
      "Surrogate Cost:  200.0\n",
      "Surrogate Final State:  [-0.00990967 -0.00454148  0.25667992  0.00124068]\n",
      "use_cuda=True\n",
      "MLP Using Cuda\n",
      "hidden_sizes= [214, 201]\n",
      "100%|██████████| 50/50 [01:26<00:00,  1.72s/it]\n",
      "Simulating Surrogate Trajectory: \n",
      " 99%|█████████▉| 198/200 [02:00<00:01,  1.64it/s]"
     ]
    },
    {
     "name": "stderr",
     "output_type": "stream",
     "text": [
      "INFO:smac.intensification.intensification.Intensifier:Wallclock time limit for intensification reached (used: 206.486963 sec, available: 0.000010 sec)\n"
     ]
    },
    {
     "name": "stdout",
     "output_type": "stream",
     "text": [
      "\n",
      "Surrogate Cost:  200.0\n",
      "Surrogate Final State:  [3.07377729 0.03142495 2.93310611 0.69010844]\n",
      "use_cuda=True\n",
      "MLP Using Cuda\n",
      "hidden_sizes= [238, 128]\n",
      "100%|██████████| 50/50 [01:25<00:00,  1.72s/it]\n",
      "Simulating Surrogate Trajectory: \n",
      " 99%|█████████▉| 198/200 [00:18<00:00, 10.90it/s]"
     ]
    },
    {
     "name": "stderr",
     "output_type": "stream",
     "text": [
      "INFO:smac.intensification.intensification.Intensifier:Wallclock time limit for intensification reached (used: 104.038280 sec, available: 0.000010 sec)\n"
     ]
    },
    {
     "name": "stdout",
     "output_type": "stream",
     "text": [
      "\n",
      "Surrogate Cost:  63.0\n",
      "Surrogate Final State:  [-0.00941103 -0.00449236 -0.13345293  0.00105161]\n",
      "use_cuda=True\n",
      "MLP Using Cuda\n",
      "hidden_sizes= [255, 128]\n",
      "100%|██████████| 50/50 [01:27<00:00,  1.74s/it]\n",
      "Simulating Surrogate Trajectory: \n",
      " 99%|█████████▉| 198/200 [00:19<00:00, 10.37it/s]"
     ]
    },
    {
     "name": "stderr",
     "output_type": "stream",
     "text": [
      "INFO:smac.intensification.intensification.Intensifier:Wallclock time limit for intensification reached (used: 106.163151 sec, available: 0.000010 sec)\n",
      "INFO:smac.stats.stats.Stats:##########################################################\n",
      "INFO:smac.stats.stats.Stats:Statistics:\n",
      "INFO:smac.stats.stats.Stats:#Incumbent changed: 4\n",
      "INFO:smac.stats.stats.Stats:#Submitted target algorithm runs: 100 / 100.0\n",
      "INFO:smac.stats.stats.Stats:#Finished target algorithm runs: 100 / 100.0\n",
      "INFO:smac.stats.stats.Stats:#Configurations: 100\n",
      "INFO:smac.stats.stats.Stats:Used wallclock time: 12363.24 / inf sec \n",
      "INFO:smac.stats.stats.Stats:Used target algorithm runtime: 12229.17 / inf sec\n",
      "INFO:smac.stats.stats.Stats:##########################################################\n",
      "INFO:smac.facade.smac_hpo_facade.SMAC4HPO:Final Incumbent: Configuration:\n",
      "  _cost:dx_F, Value: 33.6356525523436\n",
      "  _cost:dx_Q, Value: 0.0013622084435760135\n",
      "  _cost:omega_F, Value: 1.3519710652415837\n",
      "  _cost:omega_Q, Value: 0.01869440877657144\n",
      "  _cost:theta_F, Value: 5384.822675488608\n",
      "  _cost:theta_Q, Value: 6120.346672377408\n",
      "  _cost:u_R, Value: 7.7417556278179624\n",
      "  _cost:x_F, Value: 8300.504607508154\n",
      "  _cost:x_Q, Value: 0.009056379979656125\n",
      "  _ctrlr:horizon, Value: 20\n",
      "  _model:hidden_size_1, Value: 238\n",
      "  _model:hidden_size_2, Value: 128\n",
      "  _model:lr, Value: 0.008067296191642426\n",
      "  _model:n_hidden_layers, Value: '2'\n",
      "  _model:nonlintype, Value: 'relu'\n",
      "\n",
      "INFO:smac.facade.smac_hpo_facade.SMAC4HPO:Estimated cost of incumbent: 54.000000\n"
     ]
    },
    {
     "name": "stdout",
     "output_type": "stream",
     "text": [
      "\n",
      "Surrogate Cost:  74.0\n",
      "Surrogate Final State:  [-0.00711933  0.0564036  -0.14651211  0.08580299]\n",
      "use_cuda=True\n",
      "MLP Using Cuda\n",
      "hidden_sizes= [238, 128]\n",
      "100%|██████████| 50/50 [01:26<00:00,  1.74s/it]\n"
     ]
    }
   ],
   "source": [
    "from autompc.tuning import PipelineTuner\n",
    "\n",
    "surrogate_factory = MLPFactory(system)\n",
    "tuner = PipelineTuner(surrogate_mode=\"defaultcfg\", surrogate_factory=surrogate_factory, surrogate_split=0.5)\n",
    "\n",
    "controller, tune_result = tuner.run(pipeline, task, trajs, n_iters=100, rng=np.random.default_rng(100))"
   ]
  },
  {
   "cell_type": "markdown",
   "metadata": {},
   "source": [
    "We can also set the configuration of the surrogate model."
   ]
  },
  {
   "cell_type": "code",
   "execution_count": null,
   "metadata": {},
   "outputs": [
    {
     "name": "stderr",
     "output_type": "stream",
     "text": [
      "/home/william/.local/lib/python3.8/site-packages/numpy/core/_asarray.py:83: VisibleDeprecationWarning: Creating an ndarray from ragged nested sequences (which is a list-or-tuple of lists-or-tuples-or ndarrays with different lengths or shapes) is deprecated. If you meant to do this, you must specify 'dtype=object' when creating the ndarray\n",
      "  return array(a, dtype, copy=False, order=order)\n"
     ]
    },
    {
     "name": "stdout",
     "output_type": "stream",
     "text": [
      "use_cuda=True\n",
      "MLP Using Cuda\n",
      "hidden_sizes= [128, 128]\n",
      "100%|██████████| 50/50 [01:25<00:00,  1.71s/it]"
     ]
    },
    {
     "name": "stderr",
     "output_type": "stream",
     "text": [
      "INFO:smac.utils.io.cmd_reader.CMDReader:Output to smac3-output_2021-05-29_23:10:17_436873\n",
      "INFO:smac.facade.smac_hpo_facade.SMAC4HPO:Optimizing a deterministic scenario for quality without a tuner timeout - will make SMAC deterministic and only evaluate one configuration per iteration!\n",
      "INFO:smac.initial_design.sobol_design.SobolDesign:Running initial design for 25 configurations\n",
      "INFO:smac.facade.smac_hpo_facade.SMAC4HPO:<class 'smac.facade.smac_hpo_facade.SMAC4HPO'>\n",
      "INFO:smac.optimizer.smbo.SMBO:Running initial design\n",
      "INFO:smac.intensification.intensification.Intensifier:First run, no incumbent provided; challenger is assumed to be the incumbent\n"
     ]
    },
    {
     "name": "stdout",
     "output_type": "stream",
     "text": [
      "\n",
      "use_cuda=True\n",
      "MLP Using Cuda\n",
      "hidden_sizes= [136, 136, 136]\n",
      "100%|██████████| 50/50 [01:46<00:00,  2.12s/it]\n",
      "Simulating Surrogate Trajectory: \n",
      " 99%|█████████▉| 198/200 [00:12<00:00, 15.95it/s]\n",
      "Surrogate Cost:  200.0\n",
      "Surrogate Final State:  [ 3.16447529e+00 -1.86618074e-03  4.48800437e-02 -3.67070618e-02]\n",
      "Simulating True Dynamics Trajectory\n",
      " 99%|█████████▉| 198/200 [00:12<00:00, 16.06it/s]"
     ]
    },
    {
     "name": "stderr",
     "output_type": "stream",
     "text": [
      "INFO:smac.intensification.intensification.Intensifier:First run, no incumbent provided; challenger is assumed to be the incumbent\n",
      "INFO:smac.intensification.intensification.Intensifier:Updated estimated cost of incumbent on 1 runs: 200.0000\n"
     ]
    },
    {
     "name": "stdout",
     "output_type": "stream",
     "text": [
      "\n",
      "True Dynamics Cost:  200.0\n",
      "True Dynamics Final State:  [ 3.14147307e+00 -5.25928823e-04 -1.54829346e-01  1.75514009e-04]\n",
      "use_cuda=True\n",
      "MLP Using Cuda\n",
      "hidden_sizes= [76, 76]\n",
      "100%|██████████| 50/50 [01:25<00:00,  1.71s/it]\n",
      "Simulating Surrogate Trajectory: \n",
      "  4%|▍         | 9/200 [00:00<00:05, 35.55it/s]"
     ]
    },
    {
     "name": "stderr",
     "output_type": "stream",
     "text": [
      "/home/william/proj/autompc_dev/autompc/control/ilqr.py:535: RuntimeWarning: invalid value encountered in double_scalars\n",
      "  if (obj - new_obj) / (-expect_cost_reduction) > ls_cost_threshold:\n"
     ]
    },
    {
     "name": "stdout",
     "output_type": "stream",
     "text": [
      " 99%|█████████▉| 198/200 [00:05<00:00, 37.96it/s]\n",
      "Surrogate Cost:  200.0\n",
      "Surrogate Final State:  [ 3.15190839 -0.00761527  4.20540384  0.78507825]\n",
      "Simulating True Dynamics Trajectory\n",
      " 99%|█████████▉| 198/200 [00:05<00:00, 39.21it/s]"
     ]
    },
    {
     "name": "stderr",
     "output_type": "stream",
     "text": [
      "INFO:smac.intensification.intensification.Intensifier:Wallclock time limit for intensification reached (used: 226.809207 sec, available: 0.000010 sec)\n"
     ]
    },
    {
     "name": "stdout",
     "output_type": "stream",
     "text": [
      "\n",
      "True Dynamics Cost:  200.0\n",
      "True Dynamics Final State:  [ 3.13851311e+00 -1.40604318e-03  0.00000000e+00  0.00000000e+00]\n",
      "use_cuda=True\n",
      "MLP Using Cuda\n",
      "hidden_sizes= [196, 196, 76, 76]\n",
      "100%|██████████| 50/50 [02:15<00:00,  2.72s/it]\n",
      "Simulating Surrogate Trajectory: \n",
      " 99%|█████████▉| 198/200 [00:41<00:00,  4.78it/s]\n",
      "Surrogate Cost:  200.0\n",
      "Surrogate Final State:  [ 3.16456888e+00 -8.15588894e-04  1.10866692e-01 -3.67522015e-02]\n",
      "Simulating True Dynamics Trajectory\n",
      " 99%|█████████▉| 198/200 [00:41<00:00,  4.77it/s]"
     ]
    },
    {
     "name": "stderr",
     "output_type": "stream",
     "text": [
      "INFO:smac.intensification.intensification.Intensifier:Wallclock time limit for intensification reached (used: 218.759697 sec, available: 0.000010 sec)\n"
     ]
    },
    {
     "name": "stdout",
     "output_type": "stream",
     "text": [
      "\n",
      "True Dynamics Cost:  200.0\n",
      "True Dynamics Final State:  [ 3.14159189e+00 -2.90918756e-05  5.28054810e-03 -2.13330927e-05]\n",
      "use_cuda=True\n",
      "MLP Using Cuda\n",
      "hidden_sizes= [106]\n",
      "100%|██████████| 50/50 [01:00<00:00,  1.21s/it]\n",
      "Simulating Surrogate Trajectory: \n",
      " 99%|█████████▉| 198/200 [00:42<00:00,  4.62it/s]\n",
      "Surrogate Cost:  189.0\n",
      "Surrogate Final State:  [ 0.00973875 -0.04347662 -0.04251184 -0.5306367 ]\n",
      "Simulating True Dynamics Trajectory\n",
      " 99%|█████████▉| 198/200 [00:37<00:00,  5.30it/s]"
     ]
    },
    {
     "name": "stderr",
     "output_type": "stream",
     "text": [
      "INFO:smac.intensification.intensification.Intensifier:Challenger (189.0000) is better than incumbent (200.0000) on 1 runs.\n",
      "INFO:smac.intensification.intensification.Intensifier:Changes in incumbent:\n",
      "INFO:smac.intensification.intensification.Intensifier:  _cost:dx_F : 3.1622776601683813 -> 0.4216965034285823\n",
      "INFO:smac.intensification.intensification.Intensifier:  _cost:dx_Q : 3.1622776601683813 -> 0.4216965034285823\n",
      "INFO:smac.intensification.intensification.Intensifier:  _cost:omega_F : 3.1622776601683813 -> 23.713737056616576\n",
      "INFO:smac.intensification.intensification.Intensifier:  _cost:omega_Q : 3.1622776601683813 -> 0.007498942093324564\n",
      "INFO:smac.intensification.intensification.Intensifier:  _cost:theta_F : 3.1622776601683813 -> 1333.5214321633246\n",
      "INFO:smac.intensification.intensification.Intensifier:  _cost:theta_Q : 3.1622776601683813 -> 1333.5214321633246\n",
      "INFO:smac.intensification.intensification.Intensifier:  _cost:u_R : 3.1622776601683813 -> 0.007498942093324564\n",
      "INFO:smac.intensification.intensification.Intensifier:  _cost:x_F : 3.1622776601683813 -> 23.713737056616576\n",
      "INFO:smac.intensification.intensification.Intensifier:  _cost:x_Q : 3.1622776601683813 -> 0.007498942093324564\n",
      "INFO:smac.intensification.intensification.Intensifier:  _ctrlr:horizon : 15 -> 23\n",
      "INFO:smac.intensification.intensification.Intensifier:  _model:hidden_size_1 : 136 -> 106\n",
      "INFO:smac.intensification.intensification.Intensifier:  _model:lr : 0.003162277660168379 -> 0.013335214321633242\n",
      "INFO:smac.intensification.intensification.Intensifier:  _model:n_hidden_layers : '3' -> '1'\n",
      "INFO:smac.intensification.intensification.Intensifier:  _model:nonlintype : 'sigmoid' -> 'tanh'\n",
      "INFO:smac.intensification.intensification.Intensifier:Wallclock time limit for intensification reached (used: 140.567727 sec, available: 0.000010 sec)\n"
     ]
    },
    {
     "name": "stdout",
     "output_type": "stream",
     "text": [
      "\n",
      "True Dynamics Cost:  194.0\n",
      "True Dynamics Final State:  [-0.01876785  0.03161407  0.03019355 -0.44492201]\n",
      "use_cuda=True\n",
      "MLP Using Cuda\n",
      "hidden_sizes= [226, 46, 166]\n",
      "100%|██████████| 50/50 [01:49<00:00,  2.20s/it]\n",
      "Simulating Surrogate Trajectory: \n",
      " 99%|█████████▉| 198/200 [00:10<00:00, 18.96it/s]\n",
      "Surrogate Cost:  200.0\n",
      "Surrogate Final State:  [ 3.16177125 -0.01351985  0.6753062   0.02795075]\n",
      "Simulating True Dynamics Trajectory\n",
      " 99%|█████████▉| 198/200 [00:09<00:00, 21.12it/s]"
     ]
    },
    {
     "name": "stderr",
     "output_type": "stream",
     "text": [
      "INFO:smac.intensification.intensification.Intensifier:Wallclock time limit for intensification reached (used: 129.810046 sec, available: 0.000010 sec)\n"
     ]
    },
    {
     "name": "stdout",
     "output_type": "stream",
     "text": [
      "\n",
      "True Dynamics Cost:  200.0\n",
      "True Dynamics Final State:  [ 3.14030136 -0.00337683  0.20415112  0.01933015]\n",
      "use_cuda=True\n",
      "MLP Using Cuda\n",
      "hidden_sizes= [46, 226]\n",
      "100%|██████████| 50/50 [01:26<00:00,  1.72s/it]\n",
      "Simulating Surrogate Trajectory: \n",
      " 99%|█████████▉| 198/200 [00:07<00:00, 26.91it/s]\n",
      "Surrogate Cost:  200.0\n",
      "Surrogate Final State:  [ 3.16049779 -0.00705243  0.10717057 -0.03490627]\n",
      "Simulating True Dynamics Trajectory\n",
      " 99%|█████████▉| 198/200 [00:07<00:00, 26.84it/s]"
     ]
    },
    {
     "name": "stderr",
     "output_type": "stream",
     "text": [
      "INFO:smac.intensification.intensification.Intensifier:Wallclock time limit for intensification reached (used: 100.969843 sec, available: 0.000010 sec)\n"
     ]
    },
    {
     "name": "stdout",
     "output_type": "stream",
     "text": [
      "\n",
      "True Dynamics Cost:  200.0\n",
      "True Dynamics Final State:  [ 3.13842822e+00 -8.55974272e-04 -3.63654186e-02 -9.01147320e-04]\n",
      "use_cuda=True\n",
      "MLP Using Cuda\n",
      "hidden_sizes= [166, 106, 106, 226]\n",
      "100%|██████████| 50/50 [02:16<00:00,  2.73s/it]\n",
      "Simulating Surrogate Trajectory: \n",
      " 99%|█████████▉| 198/200 [00:06<00:00, 30.09it/s]\n",
      "Surrogate Cost:  200.0\n",
      "Surrogate Final State:  [ 3.15190839 -0.00761527  4.20540384  0.78507825]\n",
      "Simulating True Dynamics Trajectory\n",
      " 99%|█████████▉| 198/200 [00:06<00:00, 31.25it/s]"
     ]
    },
    {
     "name": "stderr",
     "output_type": "stream",
     "text": [
      "INFO:smac.intensification.intensification.Intensifier:Wallclock time limit for intensification reached (used: 149.693356 sec, available: 0.000010 sec)\n"
     ]
    },
    {
     "name": "stdout",
     "output_type": "stream",
     "text": [
      "\n",
      "True Dynamics Cost:  200.0\n",
      "True Dynamics Final State:  [ 3.13851311e+00 -1.40604318e-03  0.00000000e+00  0.00000000e+00]\n",
      "use_cuda=True\n",
      "MLP Using Cuda\n",
      "hidden_sizes= [181, 61, 181]\n",
      "100%|██████████| 50/50 [01:50<00:00,  2.21s/it]\n",
      "Simulating Surrogate Trajectory: \n",
      " 99%|█████████▉| 198/200 [00:05<00:00, 33.93it/s]\n",
      "Surrogate Cost:  200.0\n",
      "Surrogate Final State:  [ 3.15190839 -0.00761527  4.20540382  0.78507824]\n",
      "Simulating True Dynamics Trajectory\n",
      " 99%|█████████▉| 198/200 [00:05<00:00, 34.95it/s]"
     ]
    },
    {
     "name": "stderr",
     "output_type": "stream",
     "text": [
      "INFO:smac.intensification.intensification.Intensifier:Wallclock time limit for intensification reached (used: 122.080868 sec, available: 0.000010 sec)\n"
     ]
    },
    {
     "name": "stdout",
     "output_type": "stream",
     "text": [
      "\n",
      "True Dynamics Cost:  200.0\n",
      "True Dynamics Final State:  [ 3.13851311e+00 -1.40604318e-03 -5.63406026e-09 -1.12561249e-09]\n",
      "use_cuda=True\n",
      "MLP Using Cuda\n",
      "hidden_sizes= [61]\n",
      "100%|██████████| 50/50 [00:59<00:00,  1.20s/it]\n",
      "Simulating Surrogate Trajectory: \n",
      " 99%|█████████▉| 198/200 [00:06<00:00, 30.23it/s]\n",
      "Surrogate Cost:  200.0\n",
      "Surrogate Final State:  [ 3.16718488 -0.00520228  0.51296891 -0.00721502]\n",
      "Simulating True Dynamics Trajectory\n",
      " 99%|█████████▉| 198/200 [00:06<00:00, 30.92it/s]"
     ]
    },
    {
     "name": "stderr",
     "output_type": "stream",
     "text": [
      "INFO:smac.intensification.intensification.Intensifier:Wallclock time limit for intensification reached (used: 72.748399 sec, available: 0.000010 sec)\n"
     ]
    },
    {
     "name": "stdout",
     "output_type": "stream",
     "text": [
      "\n",
      "True Dynamics Cost:  200.0\n",
      "True Dynamics Final State:  [ 3.14274375e+00 -2.78204190e-03  1.85425842e-01  1.04057840e-02]\n",
      "use_cuda=True\n",
      "MLP Using Cuda\n",
      "hidden_sizes= [241, 121, 121, 241]\n",
      "100%|██████████| 50/50 [02:16<00:00,  2.73s/it]\n",
      "Simulating Surrogate Trajectory: \n",
      " 99%|█████████▉| 198/200 [00:09<00:00, 21.12it/s]\n",
      "Surrogate Cost:  200.0\n",
      "Surrogate Final State:  [ 3.16524713e+00 -7.82101034e-04  1.49236828e+00  8.35696274e-02]\n",
      "Simulating True Dynamics Trajectory\n",
      " 99%|█████████▉| 198/200 [00:09<00:00, 21.03it/s]"
     ]
    },
    {
     "name": "stderr",
     "output_type": "stream",
     "text": [
      "INFO:smac.intensification.intensification.Intensifier:Wallclock time limit for intensification reached (used: 155.526403 sec, available: 0.000010 sec)\n"
     ]
    },
    {
     "name": "stdout",
     "output_type": "stream",
     "text": [
      "\n",
      "True Dynamics Cost:  200.0\n",
      "True Dynamics Final State:  [ 3.14175828e+00 -9.65619996e-06  3.96758260e-01  2.82427943e-02]\n",
      "use_cuda=True\n",
      "MLP Using Cuda\n",
      "hidden_sizes= [121, 241]\n",
      "100%|██████████| 50/50 [01:26<00:00,  1.74s/it]\n",
      "Simulating Surrogate Trajectory: \n",
      " 99%|█████████▉| 198/200 [00:20<00:00,  9.47it/s]\n",
      "Surrogate Cost:  200.0\n",
      "Surrogate Final State:  [ 3.32361527  5.21841068  3.02888425 -0.08801299]\n",
      "Simulating True Dynamics Trajectory\n",
      " 99%|█████████▉| 198/200 [00:27<00:00,  7.11it/s]"
     ]
    },
    {
     "name": "stderr",
     "output_type": "stream",
     "text": [
      "INFO:smac.intensification.intensification.Intensifier:Wallclock time limit for intensification reached (used: 135.783081 sec, available: 0.000010 sec)\n"
     ]
    },
    {
     "name": "stdout",
     "output_type": "stream",
     "text": [
      "\n",
      "True Dynamics Cost:  200.0\n",
      "True Dynamics Final State:  [-3.76356335 -1.71624989 -1.48823419 -1.68869251]\n",
      "use_cuda=True\n",
      "MLP Using Cuda\n",
      "hidden_sizes= [211, 151, 151]\n",
      "100%|██████████| 50/50 [01:51<00:00,  2.24s/it]\n",
      "Simulating Surrogate Trajectory: \n",
      " 99%|█████████▉| 198/200 [00:49<00:00,  4.03it/s]\n",
      "Surrogate Cost:  200.0\n",
      "Surrogate Final State:  [3.56940041e-02 1.30788576e-02 2.41269570e+01 1.75604100e+00]\n",
      "Simulating True Dynamics Trajectory\n",
      " 99%|█████████▉| 198/200 [00:48<00:00,  4.05it/s]"
     ]
    },
    {
     "name": "stderr",
     "output_type": "stream",
     "text": [
      "INFO:smac.intensification.intensification.Intensifier:Wallclock time limit for intensification reached (used: 209.908609 sec, available: 0.000010 sec)\n"
     ]
    },
    {
     "name": "stdout",
     "output_type": "stream",
     "text": [
      "\n",
      "True Dynamics Cost:  200.0\n",
      "True Dynamics Final State:  [ 2.98987131e-02 -1.31836319e-05  2.09869232e+01  8.33839031e-01]\n",
      "use_cuda=True\n",
      "MLP Using Cuda\n",
      "hidden_sizes= [91]\n",
      "100%|██████████| 50/50 [01:06<00:00,  1.33s/it]\n",
      "Simulating Surrogate Trajectory: \n",
      " 99%|█████████▉| 198/200 [01:56<00:01,  1.71it/s]\n",
      "Surrogate Cost:  200.0\n",
      "Surrogate Final State:  [  3.04009952  -0.11541395 -16.22194805   0.10793223]\n",
      "Simulating True Dynamics Trajectory\n",
      " 99%|█████████▉| 198/200 [01:56<00:01,  1.70it/s]"
     ]
    },
    {
     "name": "stderr",
     "output_type": "stream",
     "text": [
      "INFO:smac.intensification.intensification.Intensifier:Wallclock time limit for intensification reached (used: 299.082186 sec, available: 0.000010 sec)\n"
     ]
    },
    {
     "name": "stdout",
     "output_type": "stream",
     "text": [
      "\n",
      "True Dynamics Cost:  200.0\n",
      "True Dynamics Final State:  [  3.10092833  -0.24555813 -16.07127159  -0.18533037]\n",
      "use_cuda=True\n",
      "MLP Using Cuda\n",
      "hidden_sizes= [151, 211, 91, 91]\n",
      "100%|██████████| 50/50 [02:16<00:00,  2.74s/it]\n",
      "Simulating Surrogate Trajectory: \n",
      " 99%|█████████▉| 198/200 [00:09<00:00, 21.34it/s]\n",
      "Surrogate Cost:  200.0\n",
      "Surrogate Final State:  [ 3.15298545 -0.00675138  4.14213054  0.76698103]\n",
      "Simulating True Dynamics Trajectory\n",
      " 99%|█████████▉| 198/200 [00:09<00:00, 21.46it/s]"
     ]
    },
    {
     "name": "stderr",
     "output_type": "stream",
     "text": [
      "INFO:smac.intensification.intensification.Intensifier:Wallclock time limit for intensification reached (used: 155.487459 sec, available: 0.000010 sec)\n"
     ]
    },
    {
     "name": "stdout",
     "output_type": "stream",
     "text": [
      "\n",
      "True Dynamics Cost:  200.0\n",
      "True Dynamics Final State:  [ 3.13915643e+00 -1.35919271e-03 -2.70094317e-02 -7.11927139e-03]\n",
      "use_cuda=True\n",
      "MLP Using Cuda\n",
      "hidden_sizes= [31, 91]\n",
      "100%|██████████| 50/50 [01:25<00:00,  1.71s/it]\n",
      "Simulating Surrogate Trajectory: \n",
      " 99%|█████████▉| 198/200 [00:16<00:00, 11.99it/s]\n",
      "Surrogate Cost:  200.0\n",
      "Surrogate Final State:  [ 3.15924034 -0.0074184   0.26013678 -0.02304406]\n",
      "Simulating True Dynamics Trajectory\n",
      " 99%|█████████▉| 198/200 [00:16<00:00, 12.11it/s]"
     ]
    },
    {
     "name": "stderr",
     "output_type": "stream",
     "text": [
      "INFO:smac.intensification.intensification.Intensifier:Wallclock time limit for intensification reached (used: 118.540536 sec, available: 0.000010 sec)\n"
     ]
    },
    {
     "name": "stdout",
     "output_type": "stream",
     "text": [
      "\n",
      "True Dynamics Cost:  200.0\n",
      "True Dynamics Final State:  [ 3.13853810e+00 -1.35869537e-03  2.48229957e-02  1.27375416e-03]\n",
      "use_cuda=True\n",
      "MLP Using Cuda\n",
      "hidden_sizes= [113, 204, 144, 38]\n",
      "100%|██████████| 50/50 [02:19<00:00,  2.79s/it]\n",
      "Simulating Surrogate Trajectory: \n",
      " 99%|█████████▉| 198/200 [00:06<00:00, 29.67it/s]\n",
      "Surrogate Cost:  200.0\n",
      "Surrogate Final State:  [ 3.15190839 -0.00761527  4.20540384  0.78507825]\n",
      "Simulating True Dynamics Trajectory\n",
      " 99%|█████████▉| 198/200 [00:06<00:00, 30.22it/s]"
     ]
    },
    {
     "name": "stderr",
     "output_type": "stream",
     "text": [
      "INFO:smac.intensification.intensification.Intensifier:Wallclock time limit for intensification reached (used: 152.772632 sec, available: 0.000010 sec)\n"
     ]
    },
    {
     "name": "stdout",
     "output_type": "stream",
     "text": [
      "\n",
      "True Dynamics Cost:  200.0\n",
      "True Dynamics Final State:  [ 3.13851311e+00 -1.40604318e-03  0.00000000e+00  0.00000000e+00]\n",
      "use_cuda=True\n",
      "MLP Using Cuda\n",
      "hidden_sizes= [234, 83]\n",
      "100%|██████████| 50/50 [01:25<00:00,  1.72s/it]\n",
      "Simulating Surrogate Trajectory: \n",
      " 99%|█████████▉| 198/200 [00:16<00:00, 12.09it/s]\n",
      "Surrogate Cost:  200.0\n",
      "Surrogate Final State:  [ 3.16468617e+00 -5.73924269e-04  4.16782135e-01  4.56207742e-03]\n",
      "Simulating True Dynamics Trajectory\n",
      " 99%|█████████▉| 198/200 [00:16<00:00, 11.81it/s]"
     ]
    },
    {
     "name": "stderr",
     "output_type": "stream",
     "text": [
      "INFO:smac.intensification.intensification.Intensifier:Wallclock time limit for intensification reached (used: 119.152935 sec, available: 0.000010 sec)\n"
     ]
    },
    {
     "name": "stdout",
     "output_type": "stream",
     "text": [
      "\n",
      "True Dynamics Cost:  200.0\n",
      "True Dynamics Final State:  [ 3.14166184e+00  3.08026653e-05 -2.00410135e-01 -2.11806885e-02]\n",
      "use_cuda=True\n",
      "MLP Using Cuda\n",
      "hidden_sizes= [53, 144, 83]\n",
      "100%|██████████| 50/50 [01:50<00:00,  2.21s/it]\n",
      "Simulating Surrogate Trajectory: \n",
      " 99%|█████████▉| 198/200 [00:37<00:00,  5.27it/s]\n",
      "Surrogate Cost:  150.0\n",
      "Surrogate Final State:  [ 0.01995934  0.06177932 -0.11269717 -0.3751661 ]\n",
      "Simulating True Dynamics Trajectory\n",
      " 99%|█████████▉| 198/200 [00:37<00:00,  5.31it/s]"
     ]
    },
    {
     "name": "stderr",
     "output_type": "stream",
     "text": [
      "INFO:smac.intensification.intensification.Intensifier:Challenger (150.0000) is better than incumbent (189.0000) on 1 runs.\n",
      "INFO:smac.intensification.intensification.Intensifier:Changes in incumbent:\n",
      "INFO:smac.intensification.intensification.Intensifier:  _cost:dx_F : 0.4216965034285823 -> 805.8421877614824\n",
      "INFO:smac.intensification.intensification.Intensifier:  _cost:dx_Q : 0.4216965034285823 -> 0.033982083289425605\n",
      "INFO:smac.intensification.intensification.Intensifier:  _cost:omega_F : 23.713737056616576 -> 0.004531583637600819\n",
      "INFO:smac.intensification.intensification.Intensifier:  _cost:omega_Q : 0.007498942093324564 -> 0.0124093776075172\n",
      "INFO:smac.intensification.intensification.Intensifier:  _cost:theta_F : 1333.5214321633246 -> 5.232991146814948\n",
      "INFO:smac.intensification.intensification.Intensifier:  _cost:theta_Q : 1333.5214321633246 -> 0.004531583637600819\n",
      "INFO:smac.intensification.intensification.Intensifier:  _cost:u_R : 0.007498942093324564 -> 0.0930572040929699\n",
      "INFO:smac.intensification.intensification.Intensifier:  _cost:x_F : 23.713737056616576 -> 14.330125702369648\n",
      "INFO:smac.intensification.intensification.Intensifier:  _cost:x_Q : 0.007498942093324564 -> 5.232991146814948\n",
      "INFO:smac.intensification.intensification.Intensifier:  _ctrlr:horizon : 23 -> 18\n",
      "INFO:smac.intensification.intensification.Intensifier:  _model:hidden_size_1 : 106 -> 53\n",
      "INFO:smac.intensification.intensification.Intensifier:  _model:hidden_size_2 : None -> 144\n",
      "INFO:smac.intensification.intensification.Intensifier:  _model:hidden_size_3 : None -> 83\n",
      "INFO:smac.intensification.intensification.Intensifier:  _model:lr : 0.013335214321633242 -> 2.942727176209284e-05\n",
      "INFO:smac.intensification.intensification.Intensifier:  _model:n_hidden_layers : '1' -> '3'\n",
      "INFO:smac.intensification.intensification.Intensifier:  _model:nonlintype : 'tanh' -> 'selu'\n",
      "INFO:smac.intensification.intensification.Intensifier:Wallclock time limit for intensification reached (used: 185.541021 sec, available: 0.000010 sec)\n"
     ]
    },
    {
     "name": "stdout",
     "output_type": "stream",
     "text": [
      "\n",
      "True Dynamics Cost:  148.0\n",
      "True Dynamics Final State:  [ 0.53451352 -1.68349589  1.08797691 -0.61401664]\n",
      "use_cuda=True\n",
      "MLP Using Cuda\n",
      "hidden_sizes= [174]\n",
      "100%|██████████| 50/50 [01:02<00:00,  1.24s/it]\n",
      "Simulating Surrogate Trajectory: \n",
      " 99%|█████████▉| 198/200 [00:06<00:00, 30.85it/s]\n",
      "Surrogate Cost:  200.0\n",
      "Surrogate Final State:  [ 3.16110339 -0.00538883  2.38870392  0.28752597]\n",
      "Simulating True Dynamics Trajectory\n",
      " 99%|█████████▉| 198/200 [00:06<00:00, 29.94it/s]"
     ]
    },
    {
     "name": "stderr",
     "output_type": "stream",
     "text": [
      "INFO:smac.intensification.intensification.Intensifier:Wallclock time limit for intensification reached (used: 75.170858 sec, available: 0.000010 sec)\n"
     ]
    },
    {
     "name": "stdout",
     "output_type": "stream",
     "text": [
      "\n",
      "True Dynamics Cost:  200.0\n",
      "True Dynamics Final State:  [ 3.13946502e+00 -8.74691559e-04  2.50945211e-01  3.37532097e-02]\n",
      "use_cuda=True\n",
      "MLP Using Cuda\n",
      "hidden_sizes= [23, 113, 174, 189]\n",
      "100%|██████████| 50/50 [02:19<00:00,  2.80s/it]\n",
      "Simulating Surrogate Trajectory: \n",
      " 99%|█████████▉| 198/200 [00:11<00:00, 17.24it/s]\n",
      "Surrogate Cost:  200.0\n",
      "Surrogate Final State:  [ 3.1617372  -0.00329929 -0.00329969 -0.03711219]\n",
      "Simulating True Dynamics Trajectory\n",
      " 99%|█████████▉| 198/200 [00:12<00:00, 16.49it/s]"
     ]
    },
    {
     "name": "stderr",
     "output_type": "stream",
     "text": [
      "INFO:smac.intensification.intensification.Intensifier:Wallclock time limit for intensification reached (used: 163.282448 sec, available: 0.000010 sec)\n"
     ]
    },
    {
     "name": "stdout",
     "output_type": "stream",
     "text": [
      "\n",
      "True Dynamics Cost:  200.0\n",
      "True Dynamics Final State:  [ 3.13998813e+00  1.44584524e-03 -3.78685575e-02 -3.17091934e-04]\n",
      "use_cuda=True\n",
      "MLP Using Cuda\n",
      "hidden_sizes= [144, 234]\n",
      "100%|██████████| 50/50 [01:28<00:00,  1.77s/it]\n",
      "Simulating Surrogate Trajectory: \n",
      " 99%|█████████▉| 198/200 [00:17<00:00, 11.59it/s]\n",
      "Surrogate Cost:  200.0\n",
      "Surrogate Final State:  [  3.05262115  -1.99643377 -76.37446302  -3.88581359]\n",
      "Simulating True Dynamics Trajectory\n",
      " 99%|█████████▉| 198/200 [00:17<00:00, 11.07it/s]"
     ]
    },
    {
     "name": "stderr",
     "output_type": "stream",
     "text": [
      "INFO:smac.intensification.intensification.Intensifier:Wallclock time limit for intensification reached (used: 123.424711 sec, available: 0.000010 sec)\n"
     ]
    },
    {
     "name": "stdout",
     "output_type": "stream",
     "text": [
      "\n",
      "True Dynamics Cost:  200.0\n",
      "True Dynamics Final State:  [  3.07279981  -2.04100716 -77.84378758  -4.83837615]\n",
      "use_cuda=True\n",
      "MLP Using Cuda\n",
      "hidden_sizes= [83, 53, 113]\n",
      "100%|██████████| 50/50 [01:49<00:00,  2.19s/it]\n",
      "Simulating Surrogate Trajectory: \n",
      " 99%|█████████▉| 198/200 [01:53<00:01,  1.75it/s]\n",
      "Surrogate Cost:  200.0\n",
      "Surrogate Final State:  [-5.95924986e-03 -3.76120022e-02  1.19346425e+01  3.65574033e-01]\n",
      "Simulating True Dynamics Trajectory\n",
      " 99%|█████████▉| 198/200 [01:52<00:01,  1.76it/s]"
     ]
    },
    {
     "name": "stderr",
     "output_type": "stream",
     "text": [
      "INFO:smac.intensification.intensification.Intensifier:Wallclock time limit for intensification reached (used: 334.953521 sec, available: 0.000010 sec)\n"
     ]
    },
    {
     "name": "stdout",
     "output_type": "stream",
     "text": [
      "\n",
      "True Dynamics Cost:  200.0\n",
      "True Dynamics Final State:  [ 3.82490312e-03 -9.11165352e-02  1.08947452e+01  3.48807061e-01]\n",
      "use_cuda=True\n",
      "MLP Using Cuda\n",
      "hidden_sizes= [204]\n",
      "100%|██████████| 50/50 [01:03<00:00,  1.27s/it]\n",
      "Simulating Surrogate Trajectory: \n",
      " 99%|█████████▉| 198/200 [00:10<00:00, 18.96it/s]\n",
      "Surrogate Cost:  200.0\n",
      "Surrogate Final State:  [ 3.15830585e+00 -3.86991571e-04  1.70288697e+00  1.58449552e-01]\n",
      "Simulating True Dynamics Trajectory\n",
      " 99%|█████████▉| 198/200 [00:10<00:00, 19.29it/s]"
     ]
    },
    {
     "name": "stderr",
     "output_type": "stream",
     "text": [
      "INFO:smac.intensification.intensification.Intensifier:Wallclock time limit for intensification reached (used: 84.049544 sec, available: 0.000010 sec)\n"
     ]
    },
    {
     "name": "stdout",
     "output_type": "stream",
     "text": [
      "\n",
      "True Dynamics Cost:  200.0\n",
      "True Dynamics Final State:  [ 3.13797259e+00 -2.33587701e-03 -8.26239514e-02 -1.17494055e-02]\n",
      "use_cuda=True\n",
      "MLP Using Cuda\n",
      "hidden_sizes= [219, 249]\n",
      "100%|██████████| 50/50 [01:27<00:00,  1.74s/it]\n",
      "Simulating Surrogate Trajectory: \n",
      " 99%|█████████▉| 198/200 [00:14<00:00, 13.57it/s]\n",
      "Surrogate Cost:  200.0\n",
      "Surrogate Final State:  [ 3.1646254   0.01119677 -0.03208237 -0.03770006]\n",
      "Simulating True Dynamics Trajectory\n",
      " 99%|█████████▉| 198/200 [00:14<00:00, 13.85it/s]"
     ]
    },
    {
     "name": "stderr",
     "output_type": "stream",
     "text": [
      "INFO:smac.intensification.intensification.Intensifier:Wallclock time limit for intensification reached (used: 115.986407 sec, available: 0.000010 sec)\n"
     ]
    },
    {
     "name": "stdout",
     "output_type": "stream",
     "text": [
      "\n",
      "True Dynamics Cost:  200.0\n",
      "True Dynamics Final State:  [ 3.14282556e+00  4.65193325e-03 -5.50670269e-02 -3.47361511e-04]\n",
      "use_cuda=True\n",
      "MLP Using Cuda\n",
      "hidden_sizes= [98, 128, 189, 174]\n",
      "100%|██████████| 50/50 [02:19<00:00,  2.79s/it]\n",
      "Simulating Surrogate Trajectory: \n",
      " 99%|█████████▉| 198/200 [01:02<00:00,  3.19it/s]\n",
      "Surrogate Cost:  200.0\n",
      "Surrogate Final State:  [0.01938869 0.54416489 3.50650689 0.66660728]\n",
      "Simulating True Dynamics Trajectory\n",
      " 99%|█████████▉| 198/200 [00:42<00:00,  4.64it/s]"
     ]
    },
    {
     "name": "stderr",
     "output_type": "stream",
     "text": [
      "INFO:smac.intensification.intensification.Intensifier:Wallclock time limit for intensification reached (used: 244.448863 sec, available: 0.000010 sec)\n"
     ]
    },
    {
     "name": "stdout",
     "output_type": "stream",
     "text": [
      "\n",
      "True Dynamics Cost:  200.0\n",
      "True Dynamics Final State:  [ 2.0590606  -3.7915659  -5.85648976  8.73352933]\n",
      "use_cuda=True\n",
      "MLP Using Cuda\n",
      "hidden_sizes= [155]\n",
      "100%|██████████| 50/50 [01:01<00:00,  1.24s/it]\n",
      "Simulating Surrogate Trajectory: \n",
      " 99%|█████████▉| 198/200 [00:07<00:00, 26.96it/s]\n",
      "Surrogate Cost:  200.0\n",
      "Surrogate Final State:  [ 3.15288073 -0.00881083  0.1855681  -0.03320711]\n",
      "Simulating True Dynamics Trajectory\n",
      " 99%|█████████▉| 198/200 [00:07<00:00, 28.09it/s]"
     ]
    },
    {
     "name": "stderr",
     "output_type": "stream",
     "text": [
      "INFO:smac.intensification.intensification.Intensifier:Wallclock time limit for intensification reached (used: 76.260966 sec, available: 0.000010 sec)\n"
     ]
    },
    {
     "name": "stdout",
     "output_type": "stream",
     "text": [
      "\n",
      "True Dynamics Cost:  200.0\n",
      "True Dynamics Final State:  [3.13385604e+00 8.35307102e-03 7.81600241e-02 1.56517698e-03]\n",
      "use_cuda=True\n",
      "MLP Using Cuda\n",
      "hidden_sizes= [88, 39, 214, 147]\n",
      "100%|██████████| 50/50 [02:18<00:00,  2.77s/it]\n",
      "Simulating Surrogate Trajectory: \n",
      "  4%|▎         | 7/200 [00:00<00:06, 27.89it/s]"
     ]
    },
    {
     "name": "stderr",
     "output_type": "stream",
     "text": [
      "/home/william/proj/autompc_dev/autompc/control/ilqr.py:535: RuntimeWarning: invalid value encountered in double_scalars\n",
      "  if (obj - new_obj) / (-expect_cost_reduction) > ls_cost_threshold:\n"
     ]
    },
    {
     "name": "stdout",
     "output_type": "stream",
     "text": [
      " 99%|█████████▉| 198/200 [00:06<00:00, 30.26it/s]\n",
      "Surrogate Cost:  200.0\n",
      "Surrogate Final State:  [ 3.15190839 -0.00761527  4.20540384  0.78507825]\n",
      "Simulating True Dynamics Trajectory\n",
      " 99%|█████████▉| 198/200 [00:06<00:00, 30.65it/s]"
     ]
    },
    {
     "name": "stderr",
     "output_type": "stream",
     "text": [
      "INFO:smac.intensification.intensification.Intensifier:Wallclock time limit for intensification reached (used: 151.445498 sec, available: 0.000010 sec)\n"
     ]
    },
    {
     "name": "stdout",
     "output_type": "stream",
     "text": [
      "\n",
      "True Dynamics Cost:  200.0\n",
      "True Dynamics Final State:  [ 3.13851311e+00 -1.40604318e-03  0.00000000e+00  0.00000000e+00]\n",
      "use_cuda=True\n",
      "MLP Using Cuda\n",
      "hidden_sizes= [53]\n",
      "100%|██████████| 50/50 [01:00<00:00,  1.20s/it]\n",
      "Simulating Surrogate Trajectory: \n",
      " 99%|█████████▉| 198/200 [00:46<00:00,  4.26it/s]\n",
      "Surrogate Cost:  200.0\n",
      "Surrogate Final State:  [ 3.14004466 -2.94766566 -0.92217375  1.11707403]\n",
      "Simulating True Dynamics Trajectory\n",
      " 99%|█████████▉| 198/200 [00:45<00:00,  4.31it/s]"
     ]
    },
    {
     "name": "stderr",
     "output_type": "stream",
     "text": [
      "INFO:smac.intensification.intensification.Intensifier:Wallclock time limit for intensification reached (used: 152.579331 sec, available: 0.000010 sec)\n"
     ]
    },
    {
     "name": "stdout",
     "output_type": "stream",
     "text": [
      "\n",
      "True Dynamics Cost:  200.0\n",
      "True Dynamics Final State:  [ 3.19694677 -3.34814559 -0.87478098  0.96576512]\n",
      "use_cuda=True\n",
      "MLP Using Cuda\n",
      "hidden_sizes= [52, 167, 88]\n",
      "100%|██████████| 50/50 [01:49<00:00,  2.19s/it]\n",
      "Simulating Surrogate Trajectory: \n",
      " 99%|█████████▉| 198/200 [00:52<00:00,  3.75it/s]\n",
      "Surrogate Cost:  200.0\n",
      "Surrogate Final State:  [-0.03479536 -0.13946754 -2.05344712 -0.16738323]\n",
      "Simulating True Dynamics Trajectory\n",
      " 99%|█████████▉| 198/200 [00:22<00:00,  8.95it/s]"
     ]
    },
    {
     "name": "stderr",
     "output_type": "stream",
     "text": [
      "INFO:smac.intensification.intensification.Intensifier:Wallclock time limit for intensification reached (used: 184.629015 sec, available: 0.000010 sec)\n"
     ]
    },
    {
     "name": "stdout",
     "output_type": "stream",
     "text": [
      "\n",
      "True Dynamics Cost:  200.0\n",
      "True Dynamics Final State:  [ 0.64101909 -1.3139692  -1.65614399 -2.52665665]\n",
      "use_cuda=True\n",
      "MLP Using Cuda\n",
      "hidden_sizes= [151, 85, 182]\n",
      "100%|██████████| 50/50 [01:49<00:00,  2.20s/it]\n",
      "Simulating Surrogate Trajectory: \n",
      "  3%|▎         | 6/200 [00:00<00:07, 26.48it/s]"
     ]
    },
    {
     "name": "stderr",
     "output_type": "stream",
     "text": [
      "/home/william/proj/autompc_dev/autompc/control/ilqr.py:535: RuntimeWarning: invalid value encountered in double_scalars\n",
      "  if (obj - new_obj) / (-expect_cost_reduction) > ls_cost_threshold:\n"
     ]
    },
    {
     "name": "stdout",
     "output_type": "stream",
     "text": [
      " 99%|█████████▉| 198/200 [00:06<00:00, 32.26it/s]\n",
      "Surrogate Cost:  200.0\n",
      "Surrogate Final State:  [ 3.15190839 -0.00761527  4.20540384  0.78507825]\n",
      "Simulating True Dynamics Trajectory\n",
      " 99%|█████████▉| 198/200 [00:05<00:00, 34.79it/s]"
     ]
    },
    {
     "name": "stderr",
     "output_type": "stream",
     "text": [
      "INFO:smac.intensification.intensification.Intensifier:Wallclock time limit for intensification reached (used: 121.773368 sec, available: 0.000010 sec)\n"
     ]
    },
    {
     "name": "stdout",
     "output_type": "stream",
     "text": [
      "\n",
      "True Dynamics Cost:  200.0\n",
      "True Dynamics Final State:  [ 3.13851311e+00 -1.40604318e-03  0.00000000e+00  0.00000000e+00]\n",
      "use_cuda=True\n",
      "MLP Using Cuda\n",
      "hidden_sizes= [101, 122, 73]\n",
      "100%|██████████| 50/50 [01:49<00:00,  2.19s/it]\n",
      "Simulating Surrogate Trajectory: \n",
      " 99%|█████████▉| 198/200 [00:30<00:00,  6.58it/s]\n",
      "Surrogate Cost:  200.0\n",
      "Surrogate Final State:  [-0.22785624  0.41202765  0.07061363  0.61712285]\n",
      "Simulating True Dynamics Trajectory\n",
      " 99%|█████████▉| 198/200 [00:32<00:00,  6.17it/s]"
     ]
    },
    {
     "name": "stderr",
     "output_type": "stream",
     "text": [
      "INFO:smac.intensification.intensification.Intensifier:Wallclock time limit for intensification reached (used: 171.922023 sec, available: 0.000010 sec)\n"
     ]
    },
    {
     "name": "stdout",
     "output_type": "stream",
     "text": [
      "\n",
      "True Dynamics Cost:  200.0\n",
      "True Dynamics Final State:  [-0.25564086  0.51180036  0.05495631  0.9686871 ]\n",
      "use_cuda=True\n",
      "MLP Using Cuda\n",
      "hidden_sizes= [53, 112, 128, 128]\n",
      "100%|██████████| 50/50 [02:13<00:00,  2.67s/it]\n",
      "Simulating Surrogate Trajectory: \n",
      " 99%|█████████▉| 198/200 [00:56<00:00,  3.49it/s]\n",
      "Surrogate Cost:  200.0\n",
      "Surrogate Final State:  [ 3.57762513 -1.69493725 -1.05354283  0.264513  ]\n",
      "Simulating True Dynamics Trajectory\n",
      " 99%|█████████▉| 198/200 [00:58<00:00,  3.40it/s]"
     ]
    },
    {
     "name": "stderr",
     "output_type": "stream",
     "text": [
      "INFO:smac.intensification.intensification.Intensifier:Wallclock time limit for intensification reached (used: 248.680657 sec, available: 0.000010 sec)\n"
     ]
    },
    {
     "name": "stdout",
     "output_type": "stream",
     "text": [
      "\n",
      "True Dynamics Cost:  200.0\n",
      "True Dynamics Final State:  [ 2.6424747   5.06308179 -1.1193898  -2.43177408]\n",
      "use_cuda=True\n",
      "MLP Using Cuda\n",
      "hidden_sizes= [53, 145, 93]\n",
      "100%|██████████| 50/50 [01:49<00:00,  2.19s/it]\n",
      "Simulating Surrogate Trajectory: \n",
      " 99%|█████████▉| 198/200 [00:49<00:00,  4.00it/s]\n",
      "Surrogate Cost:  200.0\n",
      "Surrogate Final State:  [-0.01484997  0.0036047  -0.60898559 -0.06464124]\n",
      "Simulating True Dynamics Trajectory\n",
      " 99%|█████████▉| 198/200 [00:47<00:00,  4.13it/s]"
     ]
    },
    {
     "name": "stderr",
     "output_type": "stream",
     "text": [
      "INFO:smac.intensification.intensification.Intensifier:Wallclock time limit for intensification reached (used: 207.136835 sec, available: 0.000010 sec)\n"
     ]
    },
    {
     "name": "stdout",
     "output_type": "stream",
     "text": [
      "\n",
      "True Dynamics Cost:  200.0\n",
      "True Dynamics Final State:  [-0.00213079  0.00748301 -0.4062035   0.00470538]\n",
      "use_cuda=True\n",
      "MLP Using Cuda\n",
      "hidden_sizes= [40, 128, 156, 145]\n",
      "100%|██████████| 50/50 [02:16<00:00,  2.73s/it]\n",
      "Simulating Surrogate Trajectory: \n",
      " 99%|█████████▉| 198/200 [00:06<00:00, 30.56it/s]\n",
      "Surrogate Cost:  200.0\n",
      "Surrogate Final State:  [ 3.15190839 -0.00761527  4.20540384  0.78507825]\n",
      "Simulating True Dynamics Trajectory\n",
      " 99%|█████████▉| 198/200 [00:06<00:00, 30.79it/s]"
     ]
    },
    {
     "name": "stderr",
     "output_type": "stream",
     "text": [
      "INFO:smac.intensification.intensification.Intensifier:Wallclock time limit for intensification reached (used: 149.357352 sec, available: 0.000010 sec)\n"
     ]
    },
    {
     "name": "stdout",
     "output_type": "stream",
     "text": [
      "\n",
      "True Dynamics Cost:  200.0\n",
      "True Dynamics Final State:  [ 3.13851311e+00 -1.40604318e-03  1.55554947e-78  3.13514598e-79]\n",
      "use_cuda=True\n",
      "MLP Using Cuda\n",
      "hidden_sizes= [26, 165, 83]\n",
      "100%|██████████| 50/50 [01:49<00:00,  2.18s/it]\n",
      "Simulating Surrogate Trajectory: \n",
      " 99%|█████████▉| 198/200 [00:10<00:00, 18.38it/s]\n",
      "Surrogate Cost:  200.0\n",
      "Surrogate Final State:  [ 3.15454676e+00  1.16682003e-03 -5.87494850e-02 -3.60909526e-02]\n",
      "Simulating True Dynamics Trajectory\n",
      " 99%|█████████▉| 198/200 [00:10<00:00, 18.56it/s]"
     ]
    },
    {
     "name": "stderr",
     "output_type": "stream",
     "text": [
      "INFO:smac.intensification.intensification.Intensifier:Wallclock time limit for intensification reached (used: 130.529121 sec, available: 0.000010 sec)\n"
     ]
    },
    {
     "name": "stdout",
     "output_type": "stream",
     "text": [
      "\n",
      "True Dynamics Cost:  200.0\n",
      "True Dynamics Final State:  [ 3.13530036e+00  9.75849337e-03 -1.04290918e-01  1.62412253e-04]\n",
      "use_cuda=True\n",
      "MLP Using Cuda\n",
      "hidden_sizes= [176, 247]\n",
      "100%|██████████| 50/50 [01:27<00:00,  1.75s/it]\n",
      "Simulating Surrogate Trajectory: \n",
      "  4%|▍         | 8/200 [00:00<00:05, 34.46it/s]"
     ]
    },
    {
     "name": "stderr",
     "output_type": "stream",
     "text": [
      "/home/william/proj/autompc_dev/autompc/control/ilqr.py:535: RuntimeWarning: invalid value encountered in double_scalars\n",
      "  if (obj - new_obj) / (-expect_cost_reduction) > ls_cost_threshold:\n"
     ]
    },
    {
     "name": "stdout",
     "output_type": "stream",
     "text": [
      " 99%|█████████▉| 198/200 [00:05<00:00, 38.53it/s]\n",
      "Surrogate Cost:  200.0\n",
      "Surrogate Final State:  [ 3.15190839 -0.00761527  4.20540384  0.78507825]\n",
      "Simulating True Dynamics Trajectory\n",
      " 99%|█████████▉| 198/200 [00:05<00:00, 38.64it/s]"
     ]
    },
    {
     "name": "stderr",
     "output_type": "stream",
     "text": [
      "INFO:smac.intensification.intensification.Intensifier:Wallclock time limit for intensification reached (used: 97.633486 sec, available: 0.000010 sec)\n"
     ]
    },
    {
     "name": "stdout",
     "output_type": "stream",
     "text": [
      "\n",
      "True Dynamics Cost:  200.0\n",
      "True Dynamics Final State:  [ 3.13851311e+00 -1.40604318e-03  0.00000000e+00  0.00000000e+00]\n",
      "use_cuda=True\n",
      "MLP Using Cuda\n",
      "hidden_sizes= [42, 123]\n",
      "100%|██████████| 50/50 [01:26<00:00,  1.74s/it]\n",
      "Simulating Surrogate Trajectory: \n",
      " 99%|█████████▉| 198/200 [00:39<00:00,  4.96it/s]\n",
      "Surrogate Cost:  200.0\n",
      "Surrogate Final State:  [ 2.6514144  -1.71115795 27.8856986   9.16180135]\n",
      "Simulating True Dynamics Trajectory\n",
      " 99%|█████████▉| 198/200 [00:39<00:00,  5.00it/s]"
     ]
    },
    {
     "name": "stderr",
     "output_type": "stream",
     "text": [
      "INFO:smac.intensification.intensification.Intensifier:Wallclock time limit for intensification reached (used: 166.339747 sec, available: 0.000010 sec)\n"
     ]
    },
    {
     "name": "stdout",
     "output_type": "stream",
     "text": [
      "\n",
      "True Dynamics Cost:  200.0\n",
      "True Dynamics Final State:  [ 2.66662606 -1.80651684 12.82037177  6.75324967]\n",
      "use_cuda=True\n",
      "MLP Using Cuda\n",
      "hidden_sizes= [53, 139, 76]\n",
      "100%|██████████| 50/50 [01:49<00:00,  2.18s/it]\n",
      "Simulating Surrogate Trajectory: \n",
      " 99%|█████████▉| 198/200 [00:38<00:00,  5.13it/s]\n",
      "Surrogate Cost:  200.0\n",
      "Surrogate Final State:  [ 1.18655216  0.08870777  1.88799122 -2.79888167]\n",
      "Simulating True Dynamics Trajectory\n",
      " 99%|█████████▉| 198/200 [00:33<00:00,  5.84it/s]"
     ]
    },
    {
     "name": "stderr",
     "output_type": "stream",
     "text": [
      "INFO:smac.intensification.intensification.Intensifier:Wallclock time limit for intensification reached (used: 181.725863 sec, available: 0.000010 sec)\n"
     ]
    },
    {
     "name": "stdout",
     "output_type": "stream",
     "text": [
      "\n",
      "True Dynamics Cost:  200.0\n",
      "True Dynamics Final State:  [ 1.27489512 -0.45902782  2.06673456  0.56921877]\n",
      "use_cuda=True\n",
      "MLP Using Cuda\n",
      "hidden_sizes= [43]\n",
      "100%|██████████| 50/50 [01:00<00:00,  1.21s/it]\n",
      "Simulating Surrogate Trajectory: \n",
      " 99%|█████████▉| 198/200 [00:09<00:00, 20.45it/s]\n",
      "Surrogate Cost:  200.0\n",
      "Surrogate Final State:  [ 3.16950186 -0.00642914  0.1344617  -0.03765607]\n",
      "Simulating True Dynamics Trajectory\n",
      " 99%|█████████▉| 198/200 [00:09<00:00, 20.90it/s]"
     ]
    },
    {
     "name": "stderr",
     "output_type": "stream",
     "text": [
      "INFO:smac.intensification.intensification.Intensifier:Wallclock time limit for intensification reached (used: 79.628985 sec, available: 0.000010 sec)\n"
     ]
    },
    {
     "name": "stdout",
     "output_type": "stream",
     "text": [
      "\n",
      "True Dynamics Cost:  200.0\n",
      "True Dynamics Final State:  [ 3.14309995e+00 -4.49769940e-03  7.73832516e-02 -5.66327064e-05]\n",
      "use_cuda=True\n",
      "MLP Using Cuda\n",
      "hidden_sizes= [46, 128, 131, 128]\n",
      "100%|██████████| 50/50 [02:16<00:00,  2.74s/it]\n",
      "Simulating Surrogate Trajectory: \n",
      " 99%|█████████▉| 198/200 [00:57<00:00,  3.43it/s]\n",
      "Surrogate Cost:  200.0\n",
      "Surrogate Final State:  [ 0.0045206   0.02229831 -0.59331264  0.19524693]\n",
      "Simulating True Dynamics Trajectory\n",
      " 99%|█████████▉| 198/200 [00:53<00:00,  3.70it/s]"
     ]
    },
    {
     "name": "stderr",
     "output_type": "stream",
     "text": [
      "INFO:smac.intensification.intensification.Intensifier:Wallclock time limit for intensification reached (used: 248.087276 sec, available: 0.000010 sec)\n"
     ]
    },
    {
     "name": "stdout",
     "output_type": "stream",
     "text": [
      "\n",
      "True Dynamics Cost:  200.0\n",
      "True Dynamics Final State:  [ 0.2341417  -0.58883576 -0.32106375 -2.43814953]\n",
      "use_cuda=True\n",
      "MLP Using Cuda\n",
      "hidden_sizes= [53, 144, 75]\n",
      "  4%|▍         | 2/50 [00:04<01:39,  2.07s/it]"
     ]
    }
   ],
   "source": [
    "surrogate_cfg = surrogate_factory.get_configuration_space().get_default_configuration()\n",
    "surrogate_cfg[\"n_hidden_layers\"] = \"2\"\n",
    "surrogate_cfg[\"hidden_size_1\"] = 128\n",
    "surrogate_cfg[\"hidden_size_2\"] = 128       \n",
    "surrogate_cfg[\"nonlintype\"] = \"relu\"\n",
    "\n",
    "tuner = PipelineTuner(surrogate_mode=\"fixedcfg\", surrogate_factory=surrogate_factory,\n",
    "                     surrogate_cfg=surrogate_cfg, surrogate_split=0.5)\n",
    "\n",
    "controller, tune_result2 = tuner.run(pipeline, task, trajs, n_iters=100, rng=np.random.default_rng(100),\n",
    "                                    truedyn=benchmark.dynamics)"
   ]
  },
  {
   "cell_type": "markdown",
   "metadata": {},
   "source": [
    "We can also auto-tune a particular surrogate class"
   ]
  },
  {
   "cell_type": "code",
   "execution_count": null,
   "metadata": {},
   "outputs": [],
   "source": [
    "tuner = PipelineTuner(surrogate_mode=\"autotune\", surrogate_factory=surrogate_factory, surrogate_split=0.5)\n",
    "\n",
    "controller, tune_result3 = tuner.run(pipeline, task, trajs, n_iters=100, rng=np.random.default_rng(100),\n",
    "                                    truedyn=benchmark.dynamics)"
   ]
  },
  {
   "cell_type": "markdown",
   "metadata": {},
   "source": [
    "Finally, we can auto-select and auto-tune the surrogate mode class"
   ]
  },
  {
   "cell_type": "code",
   "execution_count": null,
   "metadata": {},
   "outputs": [],
   "source": [
    "tuner = PipelineTuner(surrogate_mode=\"autoselect\", surrogate_split=0.5)\n",
    "\n",
    "controller, tune_result4 = tuner.run(pipeline, task, trajs, n_iters=100, rng=np.random.default_rng(100),\n",
    "                                    truedyn=benchmark.dynamics)"
   ]
  },
  {
   "cell_type": "markdown",
   "metadata": {},
   "source": [
    "Finally, we can pre-train and select our own surrogate."
   ]
  },
  {
   "cell_type": "code",
   "execution_count": null,
   "metadata": {},
   "outputs": [],
   "source": [
    "from autompc.tuning import ModelTuner\n",
    "from autompc.evaluation import HoldoutModelEvaluator\n",
    "\n",
    "sysid_trajs = trajs[:250]\n",
    "surr_trajs = trajs[250:]\n",
    "\n",
    "model_evaluator = HoldoutModelEvaluator(system=system,trajs=surr_trajs,rng=np.random.default_rng(100),\n",
    "                                        holdout_prop=0.25, metric=\"rmse\")\n",
    "model_tuner = ModelTuner(system, model_evaluator)\n",
    "model_tuner.add_model_factory(surrogate_factory)\n",
    "\n",
    "surrogate_model, _ = model_tuner.run(rng=np.random.default_rng(100), n_iters = 1)\n",
    "\n",
    "tuner = PipelineTuner(surrogate_mode=\"pretrain\")\n",
    "\n",
    "controller, tune_result5 = tuner.run(pipeline, task, sysid_trajs, n_iters=100, surrogate=surrogate_model,\n",
    "                                    truedyn=benchmark.dynamics)"
   ]
  },
  {
   "cell_type": "markdown",
   "metadata": {},
   "source": [
    "## Decoupled Tuning\n",
    "\n",
    "The above examples is full pipeline tuning, which searches the configuration space of all components simultaneously.  Alternatively, we can take a decoupled tuning approach, where the model is first tuned based on prediction accuracy, then the objective function and optimizer are tuned.\n",
    "\n",
    "First, we must tune the model"
   ]
  },
  {
   "cell_type": "code",
   "execution_count": null,
   "metadata": {},
   "outputs": [],
   "source": [
    "from autompc.tuning import ModelTuner\n",
    "from autompc.evaluation import HoldoutModelEvaluator\n",
    "\n",
    "model_evaluator = HoldoutModelEvaluator(holdout_prop=0.25, metric=\"rmse\", trajs=trajs, system=system,\n",
    "                                       rng=np.random.default_rng(100))\n",
    "model_tuner = ModelTuner(system, model_evaluator)\n",
    "model_tuner.add_model_factory(model_factory)\n",
    "\n",
    "model, model_tune_result = model_tuner.run(rng=np.random.default_rng(100), n_iters=2)"
   ]
  },
  {
   "cell_type": "markdown",
   "metadata": {},
   "source": [
    "Now that we have tuned the model, we can create a pipeline with the pre-tuned model, and then run pipeline tuning."
   ]
  },
  {
   "cell_type": "code",
   "execution_count": null,
   "metadata": {},
   "outputs": [],
   "source": [
    "pipeline_fixed_model = ampc.Pipeline(system, model, iLQRFactory, QuadCostFactory)\n",
    "controller6, tune_result6 = tuner.run(pipeline, task, trajs, n_iters=100, truedyn=benchmark.dynamics)   "
   ]
  }
 ],
 "metadata": {
  "kernelspec": {
   "display_name": "Python 3",
   "language": "python",
   "name": "python3"
  },
  "language_info": {
   "codemirror_mode": {
    "name": "ipython",
    "version": 3
   },
   "file_extension": ".py",
   "mimetype": "text/x-python",
   "name": "python",
   "nbconvert_exporter": "python",
   "pygments_lexer": "ipython3",
   "version": "3.8.7"
  }
 },
 "nbformat": 4,
 "nbformat_minor": 4
}
