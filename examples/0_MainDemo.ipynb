{
 "cells": [
  {
   "cell_type": "markdown",
   "metadata": {},
   "source": [
    "# AutoMPC Demo\n",
    "\n",
    "Welcome!  This notebook demonstrates the core features of AutoMPC.\n",
    "\n",
    "AutoMPC is designed to simplify the process of creating a controller for a robot system with unknown dynamics.\n",
    "A standard approach to solving this problem is 1) use a System ID algorithm to produce a model of the system dynamics\n",
    "from data, 2) design an objective which captures the task you want to solve, 3) use an optimization algorithm to solve for a control sequence with respect  to the model and objective function.  AutoMPC provides a toolbox of algorithms for  all three steps, and automates the process of hyperparameter selection for each component.\n",
    "\n",
    "In this notebook, we will use the cart-pole swing-up task as an example.  Although we know the ground truth dynamics for the cart-pole system, we will demonstrate how to work with an unknown dynamical system by using a multi-layer perceptron (MLP) to learn the dynamics from data.  We will design our model predictive controller using a standard quadratic objective function and an iterative LQR optimizer."
   ]
  },
  {
   "cell_type": "markdown",
   "metadata": {},
   "source": [
    "## Set-Up\n",
    "\n",
    "First, we will import the autompc library and other necessary dependancies."
   ]
  },
  {
   "cell_type": "code",
   "execution_count": 3,
   "metadata": {},
   "outputs": [],
   "source": [
    "import cyipopt"
   ]
  },
  {
   "cell_type": "code",
   "execution_count": 4,
   "metadata": {},
   "outputs": [
    {
     "name": "stdout",
     "output_type": "stream",
     "text": [
      "Loading AutoMPC...\n"
     ]
    },
    {
     "ename": "ImportError",
     "evalue": "cannot import name 'pinv2' from 'scipy.linalg' (/home/randomgraph/anaconda3/envs/meta/lib/python3.9/site-packages/scipy/linalg/__init__.py)",
     "output_type": "error",
     "traceback": [
      "\u001b[0;31m---------------------------------------------------------------------------\u001b[0m",
      "\u001b[0;31mImportError\u001b[0m                               Traceback (most recent call last)",
      "\u001b[1;32m/home/randomgraph/baoyul2/meta/autompc/examples/0_MainDemo.ipynb Cell 4\u001b[0m in \u001b[0;36m<cell line: 3>\u001b[0;34m()\u001b[0m\n\u001b[1;32m      <a href='vscode-notebook-cell://ssh-remote%2B130.126.136.198/home/randomgraph/baoyul2/meta/autompc/examples/0_MainDemo.ipynb#W3sdnNjb2RlLXJlbW90ZQ%3D%3D?line=0'>1</a>\u001b[0m \u001b[39mimport\u001b[39;00m \u001b[39mos\u001b[39;00m\n\u001b[1;32m      <a href='vscode-notebook-cell://ssh-remote%2B130.126.136.198/home/randomgraph/baoyul2/meta/autompc/examples/0_MainDemo.ipynb#W3sdnNjb2RlLXJlbW90ZQ%3D%3D?line=1'>2</a>\u001b[0m os\u001b[39m.\u001b[39mchdir(\u001b[39m'\u001b[39m\u001b[39m/home/randomgraph/baoyul2/meta/autompc\u001b[39m\u001b[39m'\u001b[39m)\n\u001b[0;32m----> <a href='vscode-notebook-cell://ssh-remote%2B130.126.136.198/home/randomgraph/baoyul2/meta/autompc/examples/0_MainDemo.ipynb#W3sdnNjb2RlLXJlbW90ZQ%3D%3D?line=2'>3</a>\u001b[0m \u001b[39mimport\u001b[39;00m \u001b[39mautompc\u001b[39;00m \u001b[39mas\u001b[39;00m \u001b[39mampc\u001b[39;00m\n\u001b[1;32m      <a href='vscode-notebook-cell://ssh-remote%2B130.126.136.198/home/randomgraph/baoyul2/meta/autompc/examples/0_MainDemo.ipynb#W3sdnNjb2RlLXJlbW90ZQ%3D%3D?line=3'>4</a>\u001b[0m \u001b[39mimport\u001b[39;00m \u001b[39mnumpy\u001b[39;00m \u001b[39mas\u001b[39;00m \u001b[39mnp\u001b[39;00m\n\u001b[1;32m      <a href='vscode-notebook-cell://ssh-remote%2B130.126.136.198/home/randomgraph/baoyul2/meta/autompc/examples/0_MainDemo.ipynb#W3sdnNjb2RlLXJlbW90ZQ%3D%3D?line=4'>5</a>\u001b[0m \u001b[39mimport\u001b[39;00m \u001b[39mmatplotlib\u001b[39;00m\u001b[39m.\u001b[39;00m\u001b[39mpyplot\u001b[39;00m \u001b[39mas\u001b[39;00m \u001b[39mplt\u001b[39;00m\n",
      "File \u001b[0;32m~/baoyul2/meta/autompc/autompc/__init__.py:9\u001b[0m, in \u001b[0;36m<module>\u001b[0;34m\u001b[0m\n\u001b[1;32m      7\u001b[0m \u001b[39mfrom\u001b[39;00m \u001b[39m.\u001b[39;00m\u001b[39mutils\u001b[39;00m \u001b[39mimport\u001b[39;00m make_model, make_controller, simulate, rollout\n\u001b[1;32m      8\u001b[0m \u001b[39mfrom\u001b[39;00m \u001b[39m.\u001b[39;00m\u001b[39mocp\u001b[39;00m\u001b[39m.\u001b[39;00m\u001b[39mocp\u001b[39;00m \u001b[39mimport\u001b[39;00m OCP\n\u001b[0;32m----> 9\u001b[0m \u001b[39mfrom\u001b[39;00m \u001b[39m.\u001b[39;00m\u001b[39mcontroller\u001b[39;00m \u001b[39mimport\u001b[39;00m Controller, AutoSelectController, ControllerStateError\n\u001b[1;32m     10\u001b[0m \u001b[39mfrom\u001b[39;00m \u001b[39m.\u001b[39;00m\u001b[39mdynamics\u001b[39;00m \u001b[39mimport\u001b[39;00m Dynamics\n\u001b[1;32m     11\u001b[0m \u001b[39mfrom\u001b[39;00m \u001b[39m.\u001b[39;00m\u001b[39mpolicy\u001b[39;00m \u001b[39mimport\u001b[39;00m Policy\n",
      "File \u001b[0;32m~/baoyul2/meta/autompc/autompc/controller.py:17\u001b[0m, in \u001b[0;36m<module>\u001b[0;34m\u001b[0m\n\u001b[1;32m     15\u001b[0m \u001b[39mfrom\u001b[39;00m \u001b[39m.\u001b[39;00m\u001b[39mutils\u001b[39;00m\u001b[39m.\u001b[39;00m\u001b[39mcs_utils\u001b[39;00m \u001b[39mimport\u001b[39;00m \u001b[39m*\u001b[39m\n\u001b[1;32m     16\u001b[0m \u001b[39mfrom\u001b[39;00m \u001b[39m.\u001b[39;00m\u001b[39mutils\u001b[39;00m\u001b[39m.\u001b[39;00m\u001b[39mexceptions\u001b[39;00m \u001b[39mimport\u001b[39;00m OptionalDependencyException\n\u001b[0;32m---> 17\u001b[0m \u001b[39mfrom\u001b[39;00m \u001b[39m.\u001b[39;00m \u001b[39mimport\u001b[39;00m sysid\n\u001b[1;32m     18\u001b[0m \u001b[39mfrom\u001b[39;00m \u001b[39m.\u001b[39;00m \u001b[39mimport\u001b[39;00m optim\n\u001b[1;32m     19\u001b[0m \u001b[39mfrom\u001b[39;00m \u001b[39m.\u001b[39;00m \u001b[39mimport\u001b[39;00m ocp\n",
      "File \u001b[0;32m~/baoyul2/meta/autompc/autompc/sysid/__init__.py:2\u001b[0m, in \u001b[0;36m<module>\u001b[0;34m\u001b[0m\n\u001b[1;32m      1\u001b[0m \u001b[39mfrom\u001b[39;00m \u001b[39m.\u001b[39;00m\u001b[39marx\u001b[39;00m \u001b[39mimport\u001b[39;00m ARX\n\u001b[0;32m----> 2\u001b[0m \u001b[39mfrom\u001b[39;00m \u001b[39m.\u001b[39;00m\u001b[39mkoopman\u001b[39;00m \u001b[39mimport\u001b[39;00m Koopman\n\u001b[1;32m      3\u001b[0m \u001b[39mfrom\u001b[39;00m \u001b[39m.\u001b[39;00m\u001b[39msindy\u001b[39;00m \u001b[39mimport\u001b[39;00m SINDy\n\u001b[1;32m      4\u001b[0m \u001b[39m#from .gp import GaussianProcess\u001b[39;00m\n",
      "File \u001b[0;32m~/baoyul2/meta/autompc/autompc/sysid/koopman.py:16\u001b[0m, in \u001b[0;36m<module>\u001b[0;34m\u001b[0m\n\u001b[1;32m     14\u001b[0m \u001b[39mfrom\u001b[39;00m \u001b[39m.\u001b[39;00m\u001b[39m.\u001b[39;00m\u001b[39msystem\u001b[39;00m \u001b[39mimport\u001b[39;00m System\n\u001b[1;32m     15\u001b[0m \u001b[39mfrom\u001b[39;00m \u001b[39m.\u001b[39;00m\u001b[39mmodel\u001b[39;00m \u001b[39mimport\u001b[39;00m Model\n\u001b[0;32m---> 16\u001b[0m \u001b[39mfrom\u001b[39;00m \u001b[39m.\u001b[39;00m\u001b[39mstable_koopman\u001b[39;00m \u001b[39mimport\u001b[39;00m stabilize_discrete\n\u001b[1;32m     17\u001b[0m \u001b[39mfrom\u001b[39;00m \u001b[39m.\u001b[39;00m\u001b[39mbasis_funcs\u001b[39;00m \u001b[39mimport\u001b[39;00m \u001b[39m*\u001b[39m\n\u001b[1;32m     18\u001b[0m \u001b[39mfrom\u001b[39;00m \u001b[39m.\u001b[39;00m\u001b[39m.\u001b[39;00m\u001b[39mutils\u001b[39;00m\u001b[39m.\u001b[39;00m\u001b[39mcs_utils\u001b[39;00m \u001b[39mimport\u001b[39;00m \u001b[39m*\u001b[39m\n",
      "File \u001b[0;32m~/baoyul2/meta/autompc/autompc/sysid/stable_koopman.py:8\u001b[0m, in \u001b[0;36m<module>\u001b[0;34m\u001b[0m\n\u001b[1;32m      5\u001b[0m \u001b[39mfrom\u001b[39;00m \u001b[39mpdb\u001b[39;00m \u001b[39mimport\u001b[39;00m set_trace\n\u001b[1;32m      7\u001b[0m \u001b[39mimport\u001b[39;00m \u001b[39mnumpy\u001b[39;00m \u001b[39mas\u001b[39;00m \u001b[39mnp\u001b[39;00m\n\u001b[0;32m----> 8\u001b[0m \u001b[39mfrom\u001b[39;00m \u001b[39mscipy\u001b[39;00m\u001b[39m.\u001b[39;00m\u001b[39mlinalg\u001b[39;00m \u001b[39mimport\u001b[39;00m polar, pinv2, solve_discrete_lyapunov, sqrtm\n\u001b[1;32m      9\u001b[0m \u001b[39mimport\u001b[39;00m \u001b[39mmath\u001b[39;00m\n\u001b[1;32m     10\u001b[0m \u001b[39mfrom\u001b[39;00m \u001b[39mscipy\u001b[39;00m \u001b[39mimport\u001b[39;00m io\n",
      "\u001b[0;31mImportError\u001b[0m: cannot import name 'pinv2' from 'scipy.linalg' (/home/randomgraph/anaconda3/envs/meta/lib/python3.9/site-packages/scipy/linalg/__init__.py)"
     ]
    }
   ],
   "source": [
    "import os\n",
    "os.chdir('/home/randomgraph/baoyul2/meta/autompc')\n",
    "import autompc as ampc\n",
    "import numpy as np\n",
    "import matplotlib.pyplot as plt\n",
    "%matplotlib notebook"
   ]
  },
  {
   "cell_type": "markdown",
   "metadata": {},
   "source": [
    "The benchmarks module provides some tools for quickly building example problems.  For a list of available benchmarks, see [here](https://autompc.readthedocs.io/en/latest/source/benchmarks.html#available-benchmarks).  Here we will import the cart-pole benchmark"
   ]
  },
  {
   "cell_type": "code",
   "execution_count": null,
   "metadata": {},
   "outputs": [],
   "source": [
    "from autompc.benchmarks import CartpoleSwingupV2Benchmark\n",
    "\n",
    "benchmark = CartpoleSwingupV2Benchmark()"
   ]
  },
  {
   "cell_type": "markdown",
   "metadata": {},
   "source": [
    "The `system` object defines the observation and contorl dimensions of the cartpole, while the `task` defines the task we want to solve.  Here, we will just get these from the benchmark, but for more details on systems see example [1. Basics](https://github.com/williamedwards/autompc/tree/main/examples) and for more details on tasks see example [3. Controllers and Tasks](https://github.com/williamedwards/autompc/tree/main/examples)."
   ]
  },
  {
   "cell_type": "code",
   "execution_count": null,
   "metadata": {},
   "outputs": [],
   "source": [
    "# Get system and task specification\n",
    "system = benchmark.system\n",
    "task   = benchmark.task"
   ]
  },
  {
   "cell_type": "markdown",
   "metadata": {},
   "source": [
    "We also need a dataset of trajectories sampled from the system to use for system identification and tuning.  On a real system, we would collect these from the robot, but here we'll use another method from our benchmark to generate the dataset.  The default option is to generate trajectories using uniform random controls."
   ]
  },
  {
   "cell_type": "code",
   "execution_count": null,
   "metadata": {},
   "outputs": [],
   "source": [
    "# Generate benchmark dataset\n",
    "trajs = benchmark.gen_trajs(seed=100, n_trajs=100, traj_len=200)"
   ]
  },
  {
   "cell_type": "markdown",
   "metadata": {},
   "source": [
    "The benchmark also provides capabilities to visualize trajectories.  We can use this to visualize one of the trajectories in our training set.  Since the dataset was generated using uniform random controls, we see that this trajectory clearly does not accomplish the cart-pole swing-up task.  (Note: the animation may take a minute to generate)."
   ]
  },
  {
   "cell_type": "code",
   "execution_count": null,
   "metadata": {},
   "outputs": [],
   "source": [
    "from IPython.display import HTML\n",
    "\n",
    "# fig = plt.figure()\n",
    "# ax = fig.gca()\n",
    "# anim = benchmark.visualize(fig, ax, trajs[1])\n",
    "# HTML(anim.to_html5_video())"
   ]
  },
  {
   "cell_type": "markdown",
   "metadata": {},
   "source": [
    "Next, we need to create an MPC to be tuned.  Here, we will use the most general form, AutoSelectController, which allows AutoMPC to automatically select between all of its system ID, optimization, and OCP generation algorithms."
   ]
  },
  {
   "cell_type": "code",
   "execution_count": null,
   "metadata": {},
   "outputs": [],
   "source": [
    "from autompc import AutoSelectController\n",
    "controller = AutoSelectController(system)"
   ]
  },
  {
   "cell_type": "markdown",
   "metadata": {},
   "source": [
    "We can view the tunable hyperparameters of the controller.  Since AutoSelectController chooses between all possible models and optimizers, the hyperparameter space is quite large!"
   ]
  },
  {
   "cell_type": "code",
   "execution_count": null,
   "metadata": {},
   "outputs": [
    {
     "name": "stdout",
     "output_type": "stream",
     "text": [
      "Forbidding model MLP to be used with LQR due to property is_linear\n",
      "Forbidding model SINDy to be used with LQR due to property is_linear\n",
      "Checking compatibility with OCP\n",
      "Requiring cost transformer for ocp to be used with IterativeLQR due to property is_twice_diff\n",
      "Requiring cost transformer for ocp to be used with LQR due to property is_quad\n",
      "Configuration space object:\n",
      "  Hyperparameters:\n",
      "    ARX:history, Type: UniformInteger, Range: [1, 10], Default: 4\n",
      "    DirectTranscription:horizon, Type: UniformInteger, Range: [1, 30], Default: 10\n",
      "    GaussRegTransformer:reg_weight, Type: UniformFloat, Range: [0.001, 10000.0], Default: 1.0, on log-scale\n",
      "    IterativeLQR:frequency, Type: UniformInteger, Range: [1, 5], Default: 1\n",
      "    IterativeLQR:horizon, Type: UniformInteger, Range: [5, 25], Default: 20\n",
      "    IterativeLQR:max_iter, Type: UniformInteger, Range: [10, 50], Default: 20\n",
      "    Koopman:lasso_alpha, Type: UniformFloat, Range: [1e-10, 100.0], Default: 1.0, on log-scale\n",
      "    Koopman:method, Type: Categorical, Choices: {lstsq, lasso, stable}, Default: lstsq\n",
      "    Koopman:poly_basis, Type: Categorical, Choices: {true, false}, Default: false\n",
      "    Koopman:poly_cross_terms, Type: Categorical, Choices: {false}, Default: false\n",
      "    Koopman:poly_degree, Type: UniformInteger, Range: [2, 8], Default: 3\n",
      "    Koopman:trig_basis, Type: Categorical, Choices: {true, false}, Default: false\n",
      "    Koopman:trig_freq, Type: UniformInteger, Range: [1, 8], Default: 1\n",
      "    Koopman:trig_interaction, Type: Categorical, Choices: {false}, Default: false\n",
      "    LQR:finite_horizon, Type: Categorical, Choices: {true, false}, Default: true\n",
      "    LQR:horizon, Type: UniformInteger, Range: [1, 1000], Default: 10\n",
      "    MLP:batchnorm, Type: Categorical, Choices: {False, True}, Default: False\n",
      "    MLP:hidden_size_1, Type: UniformInteger, Range: [16, 256], Default: 128\n",
      "    MLP:hidden_size_2, Type: UniformInteger, Range: [16, 256], Default: 128\n",
      "    MLP:hidden_size_3, Type: UniformInteger, Range: [16, 256], Default: 128\n",
      "    MLP:hidden_size_4, Type: UniformInteger, Range: [16, 256], Default: 128\n",
      "    MLP:lr, Type: UniformFloat, Range: [1e-05, 1.0], Default: 0.001, on log-scale\n",
      "    MLP:n_hidden_layers, Type: Categorical, Choices: {1, 2, 3, 4}, Default: 2\n",
      "    MLP:nonlintype, Type: Categorical, Choices: {relu, tanh, sigmoid, selu}, Default: relu\n",
      "    MPPI:horizon, Type: UniformInteger, Range: [5, 30], Default: 20\n",
      "    MPPI:lmda, Type: UniformFloat, Range: [0.1, 2.0], Default: 1.0\n",
      "    MPPI:num_path, Type: UniformInteger, Range: [100, 1000], Default: 200\n",
      "    MPPI:sigma, Type: UniformFloat, Range: [0.0001, 2.0], Default: 1.0\n",
      "    QuadCostTransformer:dx_F, Type: UniformFloat, Range: [0.001, 10000.0], Default: 1.0, on log-scale\n",
      "    QuadCostTransformer:dx_Q, Type: UniformFloat, Range: [0.001, 10000.0], Default: 1.0, on log-scale\n",
      "    QuadCostTransformer:omega_F, Type: UniformFloat, Range: [0.001, 10000.0], Default: 1.0, on log-scale\n",
      "    QuadCostTransformer:omega_Q, Type: UniformFloat, Range: [0.001, 10000.0], Default: 1.0, on log-scale\n",
      "    QuadCostTransformer:theta_F, Type: UniformFloat, Range: [0.001, 10000.0], Default: 1.0, on log-scale\n",
      "    QuadCostTransformer:theta_Q, Type: UniformFloat, Range: [0.001, 10000.0], Default: 1.0, on log-scale\n",
      "    QuadCostTransformer:u_R, Type: UniformFloat, Range: [0.001, 10000.0], Default: 1.0, on log-scale\n",
      "    QuadCostTransformer:x_F, Type: UniformFloat, Range: [0.001, 10000.0], Default: 1.0, on log-scale\n",
      "    QuadCostTransformer:x_Q, Type: UniformFloat, Range: [0.001, 10000.0], Default: 1.0, on log-scale\n",
      "    SINDy:poly_basis, Type: Categorical, Choices: {true, false}, Default: false\n",
      "    SINDy:poly_cross_terms, Type: Categorical, Choices: {false}, Default: false\n",
      "    SINDy:poly_degree, Type: UniformInteger, Range: [2, 8], Default: 3\n",
      "    SINDy:threshold, Type: UniformFloat, Range: [1e-05, 10.0], Default: 0.01, on log-scale\n",
      "    SINDy:time_mode, Type: Categorical, Choices: {discrete, continuous}, Default: discrete\n",
      "    SINDy:trig_basis, Type: Categorical, Choices: {true, false}, Default: false\n",
      "    SINDy:trig_freq, Type: UniformInteger, Range: [1, 8], Default: 1\n",
      "    SINDy:trig_interaction, Type: Categorical, Choices: {false}, Default: false\n",
      "    constraint_transformer, Type: Categorical, Choices: {_}, Default: _\n",
      "    cost_transformer, Type: Categorical, Choices: {QuadCostTransformer, _}, Default: QuadCostTransformer\n",
      "    model, Type: Categorical, Choices: {MLP, SINDy, ARX, Koopman}, Default: MLP\n",
      "    optimizer, Type: Categorical, Choices: {IterativeLQR, MPPI, LQR, DirectTranscription}, Default: IterativeLQR\n",
      "    regularizer, Type: Categorical, Choices: {_, GaussRegTransformer}, Default: _\n",
      "  Conditions:\n",
      "    ARX:history | model == 'ARX'\n",
      "    DirectTranscription:horizon | optimizer == 'DirectTranscription'\n",
      "    GaussRegTransformer:reg_weight | regularizer == 'GaussRegTransformer'\n",
      "    IterativeLQR:frequency | optimizer == 'IterativeLQR'\n",
      "    IterativeLQR:horizon | optimizer == 'IterativeLQR'\n",
      "    IterativeLQR:max_iter | optimizer == 'IterativeLQR'\n",
      "    Koopman:lasso_alpha | Koopman:method in {'lasso'}\n",
      "    Koopman:method | model == 'Koopman'\n",
      "    Koopman:poly_basis | model == 'Koopman'\n",
      "    Koopman:poly_cross_terms | Koopman:poly_basis in {'true'}\n",
      "    Koopman:poly_degree | Koopman:poly_basis in {'true'}\n",
      "    Koopman:trig_basis | model == 'Koopman'\n",
      "    Koopman:trig_freq | Koopman:trig_basis in {'true'}\n",
      "    Koopman:trig_interaction | Koopman:trig_basis in {'true'}\n",
      "    LQR:finite_horizon | optimizer == 'LQR'\n",
      "    LQR:horizon | LQR:finite_horizon in {'true'}\n",
      "    MLP:batchnorm | model == 'MLP'\n",
      "    MLP:hidden_size_1 | model == 'MLP'\n",
      "    MLP:hidden_size_2 | MLP:n_hidden_layers in {'2', '3', '4'}\n",
      "    MLP:hidden_size_3 | MLP:n_hidden_layers in {'3', '4'}\n",
      "    MLP:hidden_size_4 | MLP:n_hidden_layers in {'4'}\n",
      "    MLP:lr | model == 'MLP'\n",
      "    MLP:n_hidden_layers | model == 'MLP'\n",
      "    MLP:nonlintype | model == 'MLP'\n",
      "    MPPI:horizon | optimizer == 'MPPI'\n",
      "    MPPI:lmda | optimizer == 'MPPI'\n",
      "    MPPI:num_path | optimizer == 'MPPI'\n",
      "    MPPI:sigma | optimizer == 'MPPI'\n",
      "    QuadCostTransformer:dx_F | cost_transformer == 'QuadCostTransformer'\n",
      "    QuadCostTransformer:dx_Q | cost_transformer == 'QuadCostTransformer'\n",
      "    QuadCostTransformer:omega_F | cost_transformer == 'QuadCostTransformer'\n",
      "    QuadCostTransformer:omega_Q | cost_transformer == 'QuadCostTransformer'\n",
      "    QuadCostTransformer:theta_F | cost_transformer == 'QuadCostTransformer'\n",
      "    QuadCostTransformer:theta_Q | cost_transformer == 'QuadCostTransformer'\n",
      "    QuadCostTransformer:u_R | cost_transformer == 'QuadCostTransformer'\n",
      "    QuadCostTransformer:x_F | cost_transformer == 'QuadCostTransformer'\n",
      "    QuadCostTransformer:x_Q | cost_transformer == 'QuadCostTransformer'\n",
      "    SINDy:poly_basis | model == 'SINDy'\n",
      "    SINDy:poly_cross_terms | model == 'SINDy'\n",
      "    SINDy:poly_degree | SINDy:poly_basis in {'true'}\n",
      "    SINDy:threshold | model == 'SINDy'\n",
      "    SINDy:time_mode | model == 'SINDy'\n",
      "    SINDy:trig_basis | model == 'SINDy'\n",
      "    SINDy:trig_freq | SINDy:trig_basis in {'true'}\n",
      "    SINDy:trig_interaction | SINDy:trig_basis in {'true'}\n",
      "  Forbidden Clauses:\n",
      "    (Forbidden: cost_transformer == '_' && Forbidden: optimizer == 'IterativeLQR')\n",
      "    (Forbidden: model == 'SINDy' && Forbidden: optimizer == 'LQR')\n",
      "    (Forbidden: cost_transformer == '_' && Forbidden: optimizer == 'LQR')\n",
      "    (Forbidden: model == 'MLP' && Forbidden: optimizer == 'LQR')\n",
      "\n"
     ]
    }
   ],
   "source": [
    "controller.set_ocp(benchmark.task.get_ocp())\n",
    "print(controller.get_config_space())"
   ]
  },
  {
   "cell_type": "markdown",
   "metadata": {},
   "source": [
    "## Tuning"
   ]
  },
  {
   "cell_type": "markdown",
   "metadata": {},
   "source": [
    "Once we have initialized the pipeline and its factories, we can set up a tuner to automatically search over the pipeline's configuration space.  Since we assume we don't have access to the ground truth dynamics, we train a surrogate dynamics model, which is used as a simulator to evaluate configurations.\n",
    "\n",
    "Here we pass an `MLP` instance to the tuner to be used to train the surrogate dynamics model.  The `surrogate_split` controls what proportion of the data will be used for training the surrogate dynamics model vs training the system ID model.\n",
    "\n",
    "This is an example of full pipeline which searches the configuration space of all pipeline components simultaneously.  (NOTE: This takes quite a while to run.  Skip this cell and run the next one instead to load a cached result)."
   ]
  },
  {
   "cell_type": "code",
   "execution_count": null,
   "metadata": {},
   "outputs": [],
   "source": [
    "from autompc.tuning import ControlTuner\n",
    "from autompc.sysid import MLP\n",
    "\n",
    "tuner = ControlTuner(surrogate=MLP(system), surrogate_split=0.5, surrogate_tune_horizon=5)"
   ]
  },
  {
   "cell_type": "markdown",
   "metadata": {},
   "source": [
    "We can now run the tuning porcess.  In addition to the pipeline, we pass the task and the trajectory dataset.  The task specification is used to evaluate the trajectories simulated with the surrogate dynamics model.  AutoMPC uses the `smac3` package for Bayesian optimization to search the configuration space.\n",
    "\n",
    "Here, we pass the ground truth dynamics to the tuner so that we can measure the true performance over time.  However, we would not have this for a real robot, so it's not used for selecting the configuration.\n",
    "\n",
    "**Note:** The tuning process can take 5 or more hours to run depending on the hardware available.  To load a cached result instead of running this yourself, skip this cell and run the next one instead."
   ]
  },
  {
   "cell_type": "code",
   "execution_count": null,
   "metadata": {
    "scrolled": true
   },
   "outputs": [
    {
     "name": "stderr",
     "output_type": "stream",
     "text": [
      "INFO:smac.utils.io.cmd_reader.CMDReader:Output to smac3-output_2022-08-14_15:40:28_912830\n",
      "INFO:smac.facade.smac_ac_facade.SMAC4AC:Optimizing a deterministic scenario for quality without a tuner timeout - will make SMAC deterministic and only evaluate one configuration per iteration!\n",
      "INFO:smac.initial_design.default_configuration_design.DefaultConfiguration:Running initial design for 1 configurations\n",
      "INFO:smac.optimizer.smbo.SMBO:Running initial design\n",
      "INFO:smac.intensification.intensification.Intensifier:First run, no incumbent provided; challenger is assumed to be the incumbent\n"
     ]
    },
    {
     "name": "stdout",
     "output_type": "stream",
     "text": [
      "------------------------------------------------------------------\n",
      "Beginning surrogate tuning with model class MLP\n",
      "------------------------------------------------------------------\n",
      "100%|██████████| 200/200 [00:26<00:00,  7.50it/s]\n",
      "100%|██████████| 200/200 [00:26<00:00,  7.42it/s]\n",
      "100%|██████████| 200/200 [00:26<00:00,  7.51it/s]"
     ]
    },
    {
     "name": "stderr",
     "output_type": "stream",
     "text": [
      "INFO:smac.intensification.intensification.Intensifier:First run, no incumbent provided; challenger is assumed to be the incumbent\n",
      "INFO:smac.intensification.intensification.Intensifier:Updated estimated cost of incumbent on 1 runs: 0.0814\n"
     ]
    },
    {
     "name": "stdout",
     "output_type": "stream",
     "text": [
      "\n",
      "100%|██████████| 200/200 [00:35<00:00,  5.59it/s]\n",
      "100%|██████████| 200/200 [00:33<00:00,  5.89it/s]\n",
      "100%|██████████| 200/200 [00:34<00:00,  5.74it/s]\n",
      "100%|██████████| 200/200 [00:36<00:00,  5.52it/s]\n",
      "100%|██████████| 200/200 [00:35<00:00,  5.59it/s]\n",
      "100%|██████████| 200/200 [00:35<00:00,  5.62it/s]"
     ]
    },
    {
     "name": "stderr",
     "output_type": "stream",
     "text": [
      "INFO:smac.intensification.intensification.Intensifier:Wallclock time limit for intensification reached (used: 292.962184 sec, available: 0.000010 sec)\n"
     ]
    },
    {
     "name": "stdout",
     "output_type": "stream",
     "text": [
      "\n",
      "100%|██████████| 200/200 [00:43<00:00,  4.63it/s]\n",
      "100%|██████████| 200/200 [00:42<00:00,  4.68it/s]\n",
      "100%|██████████| 200/200 [00:43<00:00,  4.62it/s]\n",
      "100%|██████████| 200/200 [00:18<00:00, 11.06it/s]\n",
      "100%|██████████| 200/200 [00:17<00:00, 11.64it/s]\n",
      "100%|██████████| 200/200 [00:17<00:00, 11.35it/s]"
     ]
    },
    {
     "name": "stderr",
     "output_type": "stream",
     "text": [
      "INFO:smac.intensification.intensification.Intensifier:Wallclock time limit for intensification reached (used: 182.449189 sec, available: 0.000010 sec)\n"
     ]
    },
    {
     "name": "stdout",
     "output_type": "stream",
     "text": [
      "\n",
      "100%|██████████| 200/200 [00:27<00:00,  7.27it/s]\n",
      "100%|██████████| 200/200 [00:27<00:00,  7.36it/s]\n",
      "100%|██████████| 200/200 [00:26<00:00,  7.48it/s]\n",
      "100%|██████████| 200/200 [00:30<00:00,  6.55it/s]\n",
      "100%|██████████| 200/200 [00:30<00:00,  6.59it/s]\n",
      "100%|██████████| 200/200 [00:29<00:00,  6.69it/s]"
     ]
    },
    {
     "name": "stderr",
     "output_type": "stream",
     "text": [
      "INFO:smac.intensification.intensification.Intensifier:Wallclock time limit for intensification reached (used: 172.480260 sec, available: 0.000010 sec)\n"
     ]
    },
    {
     "name": "stdout",
     "output_type": "stream",
     "text": [
      "\n",
      "100%|██████████| 200/200 [00:35<00:00,  5.70it/s]\n",
      "100%|██████████| 200/200 [00:33<00:00,  5.91it/s]\n",
      "100%|██████████| 200/200 [00:33<00:00,  5.90it/s]\n",
      "100%|██████████| 200/200 [00:49<00:00,  4.02it/s]\n",
      "100%|██████████| 200/200 [00:47<00:00,  4.17it/s]\n",
      "100%|██████████| 200/200 [00:48<00:00,  4.13it/s]"
     ]
    },
    {
     "name": "stderr",
     "output_type": "stream",
     "text": [
      "INFO:smac.intensification.intensification.Intensifier:Wallclock time limit for intensification reached (used: 249.395080 sec, available: 0.000010 sec)\n"
     ]
    },
    {
     "name": "stdout",
     "output_type": "stream",
     "text": [
      "\n",
      "100%|██████████| 200/200 [00:23<00:00,  8.59it/s]\n",
      "100%|██████████| 200/200 [00:22<00:00,  9.04it/s]\n",
      "100%|██████████| 200/200 [00:23<00:00,  8.52it/s]\n",
      "100%|██████████| 200/200 [00:29<00:00,  6.83it/s]\n",
      "100%|██████████| 200/200 [00:29<00:00,  6.83it/s]\n",
      "100%|██████████| 200/200 [00:28<00:00,  6.98it/s]"
     ]
    },
    {
     "name": "stderr",
     "output_type": "stream",
     "text": [
      "INFO:smac.intensification.intensification.Intensifier:Wallclock time limit for intensification reached (used: 156.405516 sec, available: 0.000010 sec)\n"
     ]
    },
    {
     "name": "stdout",
     "output_type": "stream",
     "text": [
      "\n",
      "100%|██████████| 200/200 [00:35<00:00,  5.65it/s]\n",
      "100%|██████████| 200/200 [00:33<00:00,  5.91it/s]\n",
      "100%|██████████| 200/200 [00:36<00:00,  5.52it/s]\n",
      "100%|██████████| 200/200 [00:38<00:00,  5.15it/s]\n",
      "100%|██████████| 200/200 [00:38<00:00,  5.18it/s]\n",
      "100%|██████████| 200/200 [00:37<00:00,  5.32it/s]\n"
     ]
    },
    {
     "name": "stderr",
     "output_type": "stream",
     "text": [
      "INFO:smac.intensification.intensification.Intensifier:Wallclock time limit for intensification reached (used: 220.862343 sec, available: 0.000010 sec)\n"
     ]
    },
    {
     "name": "stdout",
     "output_type": "stream",
     "text": [
      "100%|██████████| 200/200 [00:38<00:00,  5.24it/s]\n",
      "100%|██████████| 200/200 [00:38<00:00,  5.25it/s]\n",
      "100%|██████████| 200/200 [00:41<00:00,  4.87it/s]\n",
      "100%|██████████| 200/200 [00:29<00:00,  6.68it/s]\n",
      "100%|██████████| 200/200 [00:28<00:00,  7.11it/s]\n",
      "100%|██████████| 200/200 [00:27<00:00,  7.18it/s]\n"
     ]
    },
    {
     "name": "stderr",
     "output_type": "stream",
     "text": [
      "INFO:smac.intensification.intensification.Intensifier:Wallclock time limit for intensification reached (used: 203.552629 sec, available: 0.000010 sec)\n"
     ]
    },
    {
     "name": "stdout",
     "output_type": "stream",
     "text": [
      "100%|██████████| 200/200 [00:45<00:00,  4.38it/s]\n",
      "100%|██████████| 200/200 [00:45<00:00,  4.40it/s]\n",
      "100%|██████████| 200/200 [00:45<00:00,  4.42it/s]\n",
      "100%|██████████| 200/200 [00:23<00:00,  8.34it/s]\n",
      "100%|██████████| 200/200 [00:23<00:00,  8.48it/s]\n",
      "100%|██████████| 200/200 [00:24<00:00,  8.11it/s]"
     ]
    },
    {
     "name": "stderr",
     "output_type": "stream",
     "text": [
      "INFO:smac.intensification.intensification.Intensifier:Wallclock time limit for intensification reached (used: 208.945167 sec, available: 0.000010 sec)\n"
     ]
    },
    {
     "name": "stdout",
     "output_type": "stream",
     "text": [
      "\n",
      "100%|██████████| 200/200 [00:30<00:00,  6.45it/s]\n",
      "100%|██████████| 200/200 [00:29<00:00,  6.85it/s]\n",
      "100%|██████████| 200/200 [00:29<00:00,  6.70it/s]\n",
      "100%|██████████| 200/200 [00:34<00:00,  5.87it/s]\n",
      "100%|██████████| 200/200 [00:32<00:00,  6.10it/s]\n",
      "100%|██████████| 200/200 [00:33<00:00,  5.99it/s]\n"
     ]
    },
    {
     "name": "stderr",
     "output_type": "stream",
     "text": [
      "INFO:smac.intensification.intensification.Intensifier:Wallclock time limit for intensification reached (used: 190.792095 sec, available: 0.000010 sec)\n"
     ]
    },
    {
     "name": "stdout",
     "output_type": "stream",
     "text": [
      "100%|██████████| 200/200 [00:48<00:00,  4.12it/s]\n",
      "100%|██████████| 200/200 [00:45<00:00,  4.37it/s]\n",
      "100%|██████████| 200/200 [00:47<00:00,  4.23it/s]\n",
      "100%|██████████| 200/200 [00:19<00:00, 10.28it/s]\n",
      "100%|██████████| 200/200 [00:18<00:00, 10.67it/s]\n",
      "100%|██████████| 200/200 [00:18<00:00, 10.96it/s]\n"
     ]
    },
    {
     "name": "stderr",
     "output_type": "stream",
     "text": [
      "INFO:smac.intensification.intensification.Intensifier:Wallclock time limit for intensification reached (used: 198.412758 sec, available: 0.000010 sec)\n"
     ]
    },
    {
     "name": "stdout",
     "output_type": "stream",
     "text": [
      "100%|██████████| 200/200 [00:58<00:00,  3.42it/s]\n",
      "100%|██████████| 200/200 [00:57<00:00,  3.50it/s]\n",
      "100%|██████████| 200/200 [00:57<00:00,  3.45it/s]\n",
      "100%|██████████| 200/200 [00:42<00:00,  4.75it/s]\n",
      "100%|██████████| 200/200 [00:41<00:00,  4.84it/s]\n",
      "100%|██████████| 200/200 [00:39<00:00,  5.00it/s]\n"
     ]
    },
    {
     "name": "stderr",
     "output_type": "stream",
     "text": [
      "INFO:smac.intensification.intensification.Intensifier:Wallclock time limit for intensification reached (used: 297.649321 sec, available: 0.000010 sec)\n"
     ]
    },
    {
     "name": "stdout",
     "output_type": "stream",
     "text": [
      "100%|██████████| 200/200 [00:29<00:00,  6.86it/s]\n",
      "100%|██████████| 200/200 [00:28<00:00,  6.98it/s]\n",
      "100%|██████████| 200/200 [00:27<00:00,  7.15it/s]\n",
      "100%|██████████| 200/200 [00:34<00:00,  5.88it/s]\n",
      "100%|██████████| 200/200 [00:33<00:00,  5.93it/s]\n",
      "100%|██████████| 200/200 [00:33<00:00,  5.91it/s]\n"
     ]
    },
    {
     "name": "stderr",
     "output_type": "stream",
     "text": [
      "INFO:smac.intensification.intensification.Intensifier:Wallclock time limit for intensification reached (used: 187.764591 sec, available: 0.000010 sec)\n"
     ]
    },
    {
     "name": "stdout",
     "output_type": "stream",
     "text": [
      "100%|██████████| 200/200 [00:23<00:00,  8.37it/s]\n",
      "100%|██████████| 200/200 [00:22<00:00,  8.74it/s]\n",
      "100%|██████████| 200/200 [00:22<00:00,  8.91it/s]\n",
      "100%|██████████| 200/200 [00:20<00:00,  9.82it/s]\n",
      "100%|██████████| 200/200 [00:19<00:00, 10.31it/s]\n",
      "100%|██████████| 200/200 [00:21<00:00,  9.47it/s]"
     ]
    },
    {
     "name": "stderr",
     "output_type": "stream",
     "text": [
      "INFO:smac.intensification.intensification.Intensifier:Wallclock time limit for intensification reached (used: 130.366943 sec, available: 0.000010 sec)\n"
     ]
    },
    {
     "name": "stdout",
     "output_type": "stream",
     "text": [
      "\n",
      "100%|██████████| 200/200 [00:41<00:00,  4.81it/s]\n",
      "100%|██████████| 200/200 [00:40<00:00,  5.00it/s]\n",
      "100%|██████████| 200/200 [00:40<00:00,  4.97it/s]\n",
      "100%|██████████| 200/200 [00:17<00:00, 11.38it/s]\n",
      "100%|██████████| 200/200 [00:17<00:00, 11.68it/s]\n",
      "100%|██████████| 200/200 [00:17<00:00, 11.70it/s]"
     ]
    },
    {
     "name": "stderr",
     "output_type": "stream",
     "text": [
      "INFO:smac.intensification.intensification.Intensifier:Wallclock time limit for intensification reached (used: 173.985458 sec, available: 0.000010 sec)\n"
     ]
    },
    {
     "name": "stdout",
     "output_type": "stream",
     "text": [
      "\n",
      "100%|██████████| 200/200 [00:47<00:00,  4.18it/s]\n",
      "100%|██████████| 200/200 [00:47<00:00,  4.25it/s]\n",
      "100%|██████████| 200/200 [00:46<00:00,  4.27it/s]\n",
      "100%|██████████| 200/200 [00:46<00:00,  4.29it/s]\n",
      "100%|██████████| 200/200 [00:46<00:00,  4.32it/s]\n",
      "100%|██████████| 200/200 [00:45<00:00,  4.38it/s]"
     ]
    },
    {
     "name": "stderr",
     "output_type": "stream",
     "text": [
      "INFO:smac.intensification.intensification.Intensifier:Wallclock time limit for intensification reached (used: 281.000097 sec, available: 0.000010 sec)\n"
     ]
    },
    {
     "name": "stdout",
     "output_type": "stream",
     "text": [
      "\n",
      "100%|██████████| 200/200 [00:25<00:00,  7.72it/s]\n",
      "100%|██████████| 200/200 [00:24<00:00,  8.04it/s]\n",
      "100%|██████████| 200/200 [00:25<00:00,  7.81it/s]\n",
      "100%|██████████| 200/200 [00:31<00:00,  6.25it/s]\n",
      "100%|██████████| 200/200 [00:30<00:00,  6.55it/s]\n",
      "100%|██████████| 200/200 [00:30<00:00,  6.56it/s]"
     ]
    },
    {
     "name": "stderr",
     "output_type": "stream",
     "text": [
      "INFO:smac.intensification.intensification.Intensifier:Wallclock time limit for intensification reached (used: 169.763276 sec, available: 0.000010 sec)\n"
     ]
    },
    {
     "name": "stdout",
     "output_type": "stream",
     "text": [
      "\n",
      "100%|██████████| 200/200 [00:30<00:00,  6.46it/s]\n",
      "100%|██████████| 200/200 [00:30<00:00,  6.60it/s]\n",
      "100%|██████████| 200/200 [00:31<00:00,  6.37it/s]\n",
      "100%|██████████| 200/200 [00:30<00:00,  6.50it/s]\n",
      "100%|██████████| 200/200 [00:29<00:00,  6.73it/s]\n",
      "100%|██████████| 200/200 [00:29<00:00,  6.82it/s]"
     ]
    },
    {
     "name": "stderr",
     "output_type": "stream",
     "text": [
      "INFO:smac.intensification.intensification.Intensifier:Wallclock time limit for intensification reached (used: 182.812400 sec, available: 0.000010 sec)\n"
     ]
    },
    {
     "name": "stdout",
     "output_type": "stream",
     "text": [
      "\n",
      "100%|██████████| 200/200 [00:24<00:00,  8.26it/s]\n",
      "100%|██████████| 200/200 [00:23<00:00,  8.46it/s]\n",
      "100%|██████████| 200/200 [00:23<00:00,  8.36it/s]\n",
      "100%|██████████| 200/200 [00:18<00:00, 10.72it/s]\n",
      "100%|██████████| 200/200 [00:18<00:00, 11.09it/s]\n",
      "100%|██████████| 200/200 [00:19<00:00, 10.27it/s]"
     ]
    },
    {
     "name": "stderr",
     "output_type": "stream",
     "text": [
      "INFO:smac.intensification.intensification.Intensifier:Wallclock time limit for intensification reached (used: 128.222649 sec, available: 0.000010 sec)\n"
     ]
    },
    {
     "name": "stdout",
     "output_type": "stream",
     "text": [
      "\n",
      "100%|██████████| 200/200 [00:33<00:00,  5.91it/s]\n",
      "100%|██████████| 200/200 [00:32<00:00,  6.23it/s]\n",
      "100%|██████████| 200/200 [00:32<00:00,  6.12it/s]\n",
      "100%|██████████| 200/200 [00:27<00:00,  7.18it/s]\n",
      "100%|██████████| 200/200 [00:26<00:00,  7.55it/s]\n",
      "100%|██████████| 200/200 [00:27<00:00,  7.34it/s]\n"
     ]
    },
    {
     "name": "stderr",
     "output_type": "stream",
     "text": [
      "INFO:smac.intensification.intensification.Intensifier:Wallclock time limit for intensification reached (used: 180.591850 sec, available: 0.000010 sec)\n"
     ]
    },
    {
     "name": "stdout",
     "output_type": "stream",
     "text": [
      "100%|██████████| 200/200 [00:22<00:00,  8.83it/s]\n",
      "100%|██████████| 200/200 [00:22<00:00,  8.83it/s]\n",
      "100%|██████████| 200/200 [00:21<00:00,  9.41it/s]\n",
      "100%|██████████| 200/200 [00:44<00:00,  4.48it/s]\n",
      "100%|██████████| 200/200 [00:43<00:00,  4.59it/s]\n",
      "100%|██████████| 200/200 [00:42<00:00,  4.70it/s]\n"
     ]
    },
    {
     "name": "stderr",
     "output_type": "stream",
     "text": [
      "INFO:smac.intensification.intensification.Intensifier:Wallclock time limit for intensification reached (used: 197.835221 sec, available: 0.000010 sec)\n"
     ]
    },
    {
     "name": "stdout",
     "output_type": "stream",
     "text": [
      "100%|██████████| 200/200 [00:39<00:00,  5.10it/s]\n",
      "100%|██████████| 200/200 [00:38<00:00,  5.22it/s]\n",
      "100%|██████████| 200/200 [00:38<00:00,  5.17it/s]\n",
      "100%|██████████| 200/200 [00:28<00:00,  7.01it/s]\n",
      "100%|██████████| 200/200 [00:28<00:00,  7.09it/s]\n",
      "100%|██████████| 200/200 [00:28<00:00,  7.08it/s]\n"
     ]
    },
    {
     "name": "stderr",
     "output_type": "stream",
     "text": [
      "INFO:smac.intensification.intensification.Intensifier:Wallclock time limit for intensification reached (used: 201.582656 sec, available: 0.000010 sec)\n"
     ]
    },
    {
     "name": "stdout",
     "output_type": "stream",
     "text": [
      "100%|██████████| 200/200 [00:21<00:00,  9.50it/s]\n",
      "100%|██████████| 200/200 [00:21<00:00,  9.52it/s]\n",
      "100%|██████████| 200/200 [00:20<00:00,  9.74it/s]\n",
      "100%|██████████| 200/200 [00:22<00:00,  8.83it/s]\n",
      "100%|██████████| 200/200 [00:21<00:00,  9.17it/s]\n",
      "100%|██████████| 200/200 [00:22<00:00,  9.00it/s]"
     ]
    },
    {
     "name": "stderr",
     "output_type": "stream",
     "text": [
      "INFO:smac.intensification.intensification.Intensifier:Wallclock time limit for intensification reached (used: 129.584224 sec, available: 0.000010 sec)\n"
     ]
    },
    {
     "name": "stdout",
     "output_type": "stream",
     "text": [
      "\n",
      "100%|██████████| 200/200 [00:21<00:00,  9.48it/s]\n",
      "100%|██████████| 200/200 [00:20<00:00,  9.83it/s]\n",
      "100%|██████████| 200/200 [00:20<00:00,  9.62it/s]\n",
      "100%|██████████| 200/200 [00:26<00:00,  7.42it/s]\n",
      "100%|██████████| 200/200 [00:26<00:00,  7.69it/s]\n",
      "100%|██████████| 200/200 [00:26<00:00,  7.56it/s]\n"
     ]
    },
    {
     "name": "stderr",
     "output_type": "stream",
     "text": [
      "INFO:smac.intensification.intensification.Intensifier:Wallclock time limit for intensification reached (used: 141.969622 sec, available: 0.000010 sec)\n"
     ]
    },
    {
     "name": "stdout",
     "output_type": "stream",
     "text": [
      "100%|██████████| 200/200 [00:48<00:00,  4.16it/s]\n",
      "100%|██████████| 200/200 [00:45<00:00,  4.43it/s]\n",
      "100%|██████████| 200/200 [00:45<00:00,  4.38it/s]\n",
      "100%|██████████| 200/200 [00:48<00:00,  4.14it/s]\n",
      "100%|██████████| 200/200 [00:48<00:00,  4.15it/s]\n",
      "100%|██████████| 200/200 [00:47<00:00,  4.17it/s]"
     ]
    },
    {
     "name": "stderr",
     "output_type": "stream",
     "text": [
      "INFO:smac.intensification.intensification.Intensifier:Wallclock time limit for intensification reached (used: 283.879055 sec, available: 0.000010 sec)\n"
     ]
    },
    {
     "name": "stdout",
     "output_type": "stream",
     "text": [
      "\n",
      "100%|██████████| 200/200 [00:28<00:00,  7.00it/s]\n",
      "100%|██████████| 200/200 [00:28<00:00,  7.02it/s]\n",
      "100%|██████████| 200/200 [00:28<00:00,  7.13it/s]\n",
      "100%|██████████| 200/200 [00:41<00:00,  4.83it/s]\n",
      "100%|██████████| 200/200 [00:41<00:00,  4.87it/s]\n",
      "100%|██████████| 200/200 [00:40<00:00,  4.92it/s]"
     ]
    },
    {
     "name": "stderr",
     "output_type": "stream",
     "text": [
      "INFO:smac.intensification.intensification.Intensifier:Wallclock time limit for intensification reached (used: 208.695686 sec, available: 0.000010 sec)\n"
     ]
    },
    {
     "name": "stdout",
     "output_type": "stream",
     "text": [
      "\n",
      "100%|██████████| 200/200 [00:55<00:00,  3.60it/s]\n",
      "100%|██████████| 200/200 [00:55<00:00,  3.58it/s]\n",
      "100%|██████████| 200/200 [00:54<00:00,  3.64it/s]\n",
      "100%|██████████| 200/200 [00:44<00:00,  4.54it/s]\n",
      "100%|██████████| 200/200 [00:40<00:00,  4.92it/s]\n",
      "100%|██████████| 200/200 [00:43<00:00,  4.56it/s]"
     ]
    },
    {
     "name": "stderr",
     "output_type": "stream",
     "text": [
      "INFO:smac.intensification.intensification.Intensifier:Wallclock time limit for intensification reached (used: 295.398679 sec, available: 0.000010 sec)\n"
     ]
    },
    {
     "name": "stdout",
     "output_type": "stream",
     "text": [
      "\n",
      "100%|██████████| 200/200 [01:08<00:00,  2.92it/s]\n",
      "100%|██████████| 200/200 [01:05<00:00,  3.04it/s]\n",
      "100%|██████████| 200/200 [01:06<00:00,  3.02it/s]\n",
      "100%|██████████| 200/200 [00:50<00:00,  3.98it/s]\n",
      "100%|██████████| 200/200 [00:48<00:00,  4.08it/s]\n",
      "100%|██████████| 200/200 [00:47<00:00,  4.19it/s]"
     ]
    },
    {
     "name": "stderr",
     "output_type": "stream",
     "text": [
      "INFO:smac.intensification.intensification.Intensifier:Wallclock time limit for intensification reached (used: 348.243001 sec, available: 0.000010 sec)\n"
     ]
    },
    {
     "name": "stdout",
     "output_type": "stream",
     "text": [
      "\n",
      "100%|██████████| 200/200 [00:23<00:00,  8.45it/s]\n",
      "100%|██████████| 200/200 [00:22<00:00,  8.81it/s]\n",
      "100%|██████████| 200/200 [00:22<00:00,  8.77it/s]\n",
      "100%|██████████| 200/200 [00:18<00:00, 11.07it/s]\n",
      "100%|██████████| 200/200 [00:17<00:00, 11.70it/s]\n",
      "100%|██████████| 200/200 [00:16<00:00, 11.96it/s]"
     ]
    },
    {
     "name": "stderr",
     "output_type": "stream",
     "text": [
      "INFO:smac.intensification.intensification.Intensifier:Wallclock time limit for intensification reached (used: 121.329397 sec, available: 0.000010 sec)\n"
     ]
    },
    {
     "name": "stdout",
     "output_type": "stream",
     "text": [
      "\n",
      "100%|██████████| 200/200 [00:31<00:00,  6.44it/s]\n",
      "100%|██████████| 200/200 [00:30<00:00,  6.61it/s]\n",
      " 54%|█████▍    | 108/200 [00:16<00:14,  6.51it/s]"
     ]
    }
   ],
   "source": [
    "tuned_controller, tune_result = tuner.run(controller, task, trajs, n_iters=100, rng=np.random.default_rng(100), \n",
    "                                   truedyn=benchmark.dynamics)\n",
    "                                   #restore_dir=\"autompc-output_2022-02-10T17:10:43\")"
   ]
  },
  {
   "cell_type": "markdown",
   "metadata": {},
   "source": [
    "Run the below cell to load a cached tune result"
   ]
  },
  {
   "cell_type": "code",
   "execution_count": null,
   "metadata": {},
   "outputs": [],
   "source": [
    "#import os, pickle\n",
    "#current_folder = globals()['_dh'][0]\n",
    "#fn = os.path.join(current_folder, \"../assets/cached_tunes/cartpole_tune_result.pkl\")\n",
    "#with open(fn, \"rb\") as f:\n",
    "#    tune_result = pickle.load(f)\n",
    "#inc_cfg = tune_result.inc_cfg\n",
    "#controller, cost, model = pipeline(inc_cfg, task, trajs)"
   ]
  },
  {
   "cell_type": "markdown",
   "metadata": {},
   "source": [
    "We can then plot the performance of the best controller found so far over the iterations of the tuning process.  We plot both the performance as evaluated with the surrogate dynamics and the true dynamics performance.  Lower scores are better, so after 100 iterations, both the surrogate and true performance converge to a good solution."
   ]
  },
  {
   "cell_type": "code",
   "execution_count": null,
   "metadata": {},
   "outputs": [],
   "source": [
    "from autompc.graphs import TuningCurveGraph\n",
    "import matplotlib.pyplot as plt\n",
    "\n",
    "graph = TuningCurveGraph()\n",
    "\n",
    "fig = plt.figure()      \n",
    "ax = fig.gca()\n",
    "graph(ax, tune_result)\n",
    "ax.set_title(\"Cart-Pole Tuning Curve\")\n",
    "plt.show()"
   ]
  },
  {
   "cell_type": "markdown",
   "metadata": {},
   "source": [
    "We can also view the configurations selected by the tuner."
   ]
  },
  {
   "cell_type": "code",
   "execution_count": null,
   "metadata": {},
   "outputs": [],
   "source": [
    "tune_result.inc_cfg"
   ]
  },
  {
   "cell_type": "markdown",
   "metadata": {},
   "source": [
    "Now that our tuning process has given us a controller, we can run it to simulate a trajectory.  For more information on how to work with controllers, see example [3. Controllesr ."
   ]
  },
  {
   "cell_type": "code",
   "execution_count": null,
   "metadata": {},
   "outputs": [],
   "source": [
    "traj = ampc.simulate(tuned_controller, init_obs=benchmark.task.get_init_obs(), max_steps=200, dynamics=benchmark.dynamics)"
   ]
  },
  {
   "cell_type": "code",
   "execution_count": null,
   "metadata": {},
   "outputs": [],
   "source": [
    "fig = plt.figure()\n",
    "ax = fig.gca()\n",
    "anim = benchmark.visualize(fig, ax, traj)\n",
    "HTML(anim.to_html5_video())"
   ]
  },
  {
   "cell_type": "code",
   "execution_count": null,
   "metadata": {},
   "outputs": [],
   "source": [
    "import pickle\n",
    "with open(\"../assets/cached_tunes/cartpole_v2_result_01.pkl\", \"wb\") as f:\n",
    "    pickle.dump(tune_result, f)"
   ]
  },
  {
   "cell_type": "code",
   "execution_count": null,
   "metadata": {},
   "outputs": [],
   "source": []
  }
 ],
 "metadata": {
  "kernelspec": {
   "display_name": "Python 3.9.12 ('meta')",
   "language": "python",
   "name": "python3"
  },
  "language_info": {
   "codemirror_mode": {
    "name": "ipython",
    "version": 3
   },
   "file_extension": ".py",
   "mimetype": "text/x-python",
   "name": "python",
   "nbconvert_exporter": "python",
   "pygments_lexer": "ipython3",
   "version": "3.9.12"
  },
  "latex_envs": {
   "LaTeX_envs_menu_present": true,
   "autoclose": false,
   "autocomplete": false,
   "bibliofile": "biblio.bib",
   "cite_by": "apalike",
   "current_citInitial": 1,
   "eqLabelWithNumbers": true,
   "eqNumInitial": 1,
   "hotkeys": {
    "equation": "Ctrl-E",
    "itemize": "Ctrl-I"
   },
   "labels_anchors": false,
   "latex_user_defs": false,
   "report_style_numbering": false,
   "user_envs_cfg": false
  },
  "toc": {
   "base_numbering": 1,
   "nav_menu": {},
   "number_sections": true,
   "sideBar": true,
   "skip_h1_title": false,
   "title_cell": "Table of Contents",
   "title_sidebar": "Contents",
   "toc_cell": false,
   "toc_position": {},
   "toc_section_display": true,
   "toc_window_display": false
  },
  "vscode": {
   "interpreter": {
    "hash": "b3c234624630e949b531b97175f47faedff7f0122e4bda473deb0f08dcf222b3"
   }
  }
 },
 "nbformat": 4,
 "nbformat_minor": 4
}
