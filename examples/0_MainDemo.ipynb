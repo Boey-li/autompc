{
 "cells": [
  {
   "cell_type": "markdown",
   "metadata": {},
   "source": [
    "# AutoMPC Demo\n",
    "\n",
    "Welcome!  This notebook demonstrates the core features of AutoMPC.  We will use the Cart-Pole swing-up task as an example, and we will tune an MPC pipeline consisting of a multi-layer perception (MLP) system ID model and an iLQR optimizer."
   ]
  },
  {
   "cell_type": "markdown",
   "metadata": {},
   "source": [
    "## Set-Up\n",
    "\n",
    "To begin, we need an input dataset and specifications for the system and task.  The `benchmarks` module provides these for a few example systems."
   ]
  },
  {
   "cell_type": "code",
   "execution_count": 1,
   "metadata": {},
   "outputs": [],
   "source": [
    "import os\n",
    "os.chdir(\"..\")\n",
    "import autompc as ampc\n",
    "import numpy as np\n",
    "from autompc.benchmarks import CartpoleSwingupBenchmark\n",
    "\n",
    "benchmark = CartpoleSwingupBenchmark()\n",
    "\n",
    "\n",
    "# Get system and task specification\n",
    "system = benchmark.system\n",
    "task   = benchmark.task\n",
    "\n",
    "# Generate benchmark dataset\n",
    "trajs = benchmark.gen_trajs(seed=100, n_trajs=10, traj_len=200)"
   ]
  },
  {
   "cell_type": "markdown",
   "metadata": {},
   "source": [
    "Next, we need to declare our MPC pipeline.  The following code initializes a pipeline with a MLP system ID model, a quadratic objective function, and and an iLQR optimizer."
   ]
  },
  {
   "cell_type": "code",
   "execution_count": 2,
   "metadata": {},
   "outputs": [],
   "source": [
    "from autompc.sysid import MLPFactory\n",
    "from autompc.control import IterativeLQRFactory\n",
    "from autompc.costs import QuadCostFactory\n",
    "\n",
    "model_factory = MLPFactory(system)\n",
    "ctrlr_factory = IterativeLQRFactory(system)\n",
    "cost_factory  = QuadCostFactory(system)\n",
    "\n",
    "pipeline = ampc.Pipeline(system, model_factory, ctrlr_factory, cost_factory)"
   ]
  },
  {
   "cell_type": "markdown",
   "metadata": {},
   "source": [
    "We can view the joint configuration space of the pipeline"
   ]
  },
  {
   "cell_type": "code",
   "execution_count": 3,
   "metadata": {},
   "outputs": [
    {
     "data": {
      "text/plain": [
       "Configuration space object:\n",
       "  Hyperparameters:\n",
       "    _cost:dx_F, Type: UniformFloat, Range: [0.001, 10000.0], Default: 1.0, on log-scale\n",
       "    _cost:dx_Q, Type: UniformFloat, Range: [0.001, 10000.0], Default: 1.0, on log-scale\n",
       "    _cost:omega_F, Type: UniformFloat, Range: [0.001, 10000.0], Default: 1.0, on log-scale\n",
       "    _cost:omega_Q, Type: UniformFloat, Range: [0.001, 10000.0], Default: 1.0, on log-scale\n",
       "    _cost:theta_F, Type: UniformFloat, Range: [0.001, 10000.0], Default: 1.0, on log-scale\n",
       "    _cost:theta_Q, Type: UniformFloat, Range: [0.001, 10000.0], Default: 1.0, on log-scale\n",
       "    _cost:u_R, Type: UniformFloat, Range: [0.001, 10000.0], Default: 1.0, on log-scale\n",
       "    _cost:x_F, Type: UniformFloat, Range: [0.001, 10000.0], Default: 1.0, on log-scale\n",
       "    _cost:x_Q, Type: UniformFloat, Range: [0.001, 10000.0], Default: 1.0, on log-scale\n",
       "    _ctrlr:horizon, Type: UniformInteger, Range: [5, 25], Default: 20\n",
       "    _model:hidden_size_1, Type: UniformInteger, Range: [16, 256], Default: 32\n",
       "    _model:hidden_size_2, Type: UniformInteger, Range: [16, 256], Default: 32\n",
       "    _model:hidden_size_3, Type: UniformInteger, Range: [16, 256], Default: 32\n",
       "    _model:hidden_size_4, Type: UniformInteger, Range: [16, 256], Default: 32\n",
       "    _model:lr, Type: UniformFloat, Range: [1e-05, 1.0], Default: 0.001, on log-scale\n",
       "    _model:n_hidden_layers, Type: Categorical, Choices: {1, 2, 3, 4}, Default: 2\n",
       "    _model:nonlintype, Type: Categorical, Choices: {relu, tanh, sigmoid, selu}, Default: relu\n",
       "  Conditions:\n",
       "    _model:hidden_size_2 | _model:n_hidden_layers in {'2', '3', '4'}\n",
       "    _model:hidden_size_3 | _model:n_hidden_layers in {'3', '4'}\n",
       "    _model:hidden_size_4 | _model:n_hidden_layers in {'4'}"
      ]
     },
     "execution_count": 3,
     "metadata": {},
     "output_type": "execute_result"
    }
   ],
   "source": [
    "pipeline.get_configuration_space()"
   ]
  },
  {
   "cell_type": "markdown",
   "metadata": {},
   "source": [
    "## Tuning"
   ]
  },
  {
   "cell_type": "markdown",
   "metadata": {},
   "source": [
    "Once we have initialized the pipeline and its factories, it is straightforward to set up a tuner to search the configuration space.  Here we use an MLP model for the surrogate model.  This is an example of full pipeline which searches the configuration space of all pipeline components simultaneously."
   ]
  },
  {
   "cell_type": "code",
   "execution_count": 4,
   "metadata": {},
   "outputs": [
    {
     "name": "stderr",
     "output_type": "stream",
     "text": [
      "/usr/lib/python3/dist-packages/pyparsing.py:1745: FutureWarning: Possible set intersection at position 3\n",
      "  self.re = re.compile( self.reString )\n",
      "/home/william/.local/lib/python3.8/site-packages/numpy/core/_asarray.py:83: VisibleDeprecationWarning: Creating an ndarray from ragged nested sequences (which is a list-or-tuple of lists-or-tuples-or ndarrays with different lengths or shapes) is deprecated. If you meant to do this, you must specify 'dtype=object' when creating the ndarray\n",
      "  return array(a, dtype, copy=False, order=order)\n"
     ]
    },
    {
     "name": "stdout",
     "output_type": "stream",
     "text": [
      "Training surrogate model...\n",
      "use_cuda=True\n",
      "MLP Using Cuda\n",
      "100%|██████████| 50/50 [00:01<00:00, 27.25it/s]"
     ]
    },
    {
     "name": "stderr",
     "output_type": "stream",
     "text": [
      "INFO:smac.utils.io.cmd_reader.CMDReader:Output to smac3-output_2021-04-25_03:23:08_204367\n",
      "INFO:smac.facade.smac_hpo_facade.SMAC4HPO:Optimizing a deterministic scenario for quality without a tuner timeout - will make SMAC deterministic and only evaluate one configuration per iteration!\n",
      "INFO:smac.initial_design.sobol_design.SobolDesign:Running initial design for 1 configurations\n",
      "INFO:smac.facade.smac_hpo_facade.SMAC4HPO:<class 'smac.facade.smac_hpo_facade.SMAC4HPO'>\n",
      "INFO:smac.optimizer.smbo.SMBO:Running initial design\n",
      "INFO:smac.intensification.intensification.Intensifier:First run, no incumbent provided; challenger is assumed to be the incumbent\n"
     ]
    },
    {
     "name": "stdout",
     "output_type": "stream",
     "text": [
      "\n",
      "use_cuda=True\n",
      "MLP Using Cuda\n",
      "100%|██████████| 50/50 [00:04<00:00, 10.62it/s]\n",
      "Simulating Surrogate Trajectory: \n",
      " 99%|█████████▉| 198/200 [00:10<00:00, 18.29it/s]\n",
      "Simulating True Dynamics Trajectory\n",
      " 99%|█████████▉| 198/200 [00:07<00:00, 25.90it/s]"
     ]
    },
    {
     "name": "stderr",
     "output_type": "stream",
     "text": [
      "INFO:smac.intensification.intensification.Intensifier:First run, no incumbent provided; challenger is assumed to be the incumbent\n",
      "INFO:smac.intensification.intensification.Intensifier:Updated estimated cost of incumbent on 1 runs: 200.0000\n"
     ]
    },
    {
     "name": "stdout",
     "output_type": "stream",
     "text": [
      "\n",
      "use_cuda=True\n",
      "MLP Using Cuda\n",
      "100%|██████████| 50/50 [00:04<00:00, 10.62it/s]\n",
      "Simulating Surrogate Trajectory: \n",
      " 99%|█████████▉| 198/200 [00:21<00:00,  9.43it/s]\n",
      "Simulating True Dynamics Trajectory\n",
      " 99%|█████████▉| 198/200 [00:35<00:00,  5.52it/s]"
     ]
    },
    {
     "name": "stderr",
     "output_type": "stream",
     "text": [
      "INFO:smac.intensification.intensification.Intensifier:Wallclock time limit for intensification reached (used: 84.853264 sec, available: 0.000010 sec)\n"
     ]
    },
    {
     "name": "stdout",
     "output_type": "stream",
     "text": [
      "\n",
      "use_cuda=True\n",
      "MLP Using Cuda\n",
      "100%|██████████| 50/50 [00:03<00:00, 13.30it/s]\n",
      "Simulating Surrogate Trajectory: \n",
      " 99%|█████████▉| 198/200 [00:15<00:00, 12.61it/s]\n",
      "Simulating True Dynamics Trajectory\n",
      " 99%|█████████▉| 198/200 [00:21<00:00,  9.27it/s]"
     ]
    },
    {
     "name": "stderr",
     "output_type": "stream",
     "text": [
      "INFO:smac.intensification.intensification.Intensifier:Wallclock time limit for intensification reached (used: 40.875212 sec, available: 0.000010 sec)\n"
     ]
    },
    {
     "name": "stdout",
     "output_type": "stream",
     "text": [
      "\n",
      "use_cuda=True\n",
      "MLP Using Cuda\n",
      "100%|██████████| 50/50 [00:04<00:00, 10.53it/s]\n",
      "Simulating Surrogate Trajectory: \n",
      " 99%|█████████▉| 198/200 [00:52<00:00,  3.75it/s]\n",
      "Simulating True Dynamics Trajectory\n",
      " 99%|█████████▉| 198/200 [00:58<00:00,  3.41it/s]"
     ]
    },
    {
     "name": "stderr",
     "output_type": "stream",
     "text": [
      "INFO:smac.intensification.intensification.Intensifier:Challenger (198.0000) is better than incumbent (200.0000) on 1 runs.\n",
      "INFO:smac.intensification.intensification.Intensifier:Changes in incumbent:\n",
      "INFO:smac.intensification.intensification.Intensifier:  _cost:dx_F : 3.1622776601683813 -> 4.2871852816796885\n",
      "INFO:smac.intensification.intensification.Intensifier:  _cost:dx_Q : 3.1622776601683813 -> 1.7916719007884376\n",
      "INFO:smac.intensification.intensification.Intensifier:  _cost:omega_F : 3.1622776601683813 -> 18.65823651695353\n",
      "INFO:smac.intensification.intensification.Intensifier:  _cost:omega_Q : 3.1622776601683813 -> 0.02484526551383647\n",
      "INFO:smac.intensification.intensification.Intensifier:  _cost:theta_F : 3.1622776601683813 -> 1520.464258361176\n",
      "INFO:smac.intensification.intensification.Intensifier:  _cost:theta_Q : 3.1622776601683813 -> 790.0558149344749\n",
      "INFO:smac.intensification.intensification.Intensifier:  _cost:u_R : 3.1622776601683813 -> 0.5487898169767764\n",
      "INFO:smac.intensification.intensification.Intensifier:  _cost:x_F : 3.1622776601683813 -> 1436.0712750851274\n",
      "INFO:smac.intensification.intensification.Intensifier:  _cost:x_Q : 3.1622776601683813 -> 1463.362777415851\n",
      "INFO:smac.intensification.intensification.Intensifier:  _ctrlr:horizon : 15 -> 14\n",
      "INFO:smac.intensification.intensification.Intensifier:  _model:hidden_size_1 : 136 -> 41\n",
      "INFO:smac.intensification.intensification.Intensifier:  _model:hidden_size_2 : 136 -> 104\n",
      "INFO:smac.intensification.intensification.Intensifier:  _model:hidden_size_3 : 136 -> 37\n",
      "INFO:smac.intensification.intensification.Intensifier:  _model:lr : 0.003162277660168379 -> 0.0509708894894479\n",
      "INFO:smac.intensification.intensification.Intensifier:  _model:nonlintype : 'sigmoid' -> 'relu'\n",
      "INFO:smac.intensification.intensification.Intensifier:Wallclock time limit for intensification reached (used: 115.681614 sec, available: 0.000010 sec)\n"
     ]
    },
    {
     "name": "stdout",
     "output_type": "stream",
     "text": [
      "\n",
      "use_cuda=True\n",
      "MLP Using Cuda\n",
      "100%|██████████| 50/50 [00:05<00:00,  8.34it/s]\n",
      "Simulating Surrogate Trajectory: \n",
      " 99%|█████████▉| 198/200 [01:33<00:00,  2.12it/s]\n",
      "Simulating True Dynamics Trajectory\n",
      " 99%|█████████▉| 198/200 [01:16<00:00,  2.60it/s]"
     ]
    },
    {
     "name": "stderr",
     "output_type": "stream",
     "text": [
      "INFO:smac.intensification.intensification.Intensifier:Wallclock time limit for intensification reached (used: 175.741013 sec, available: 0.000010 sec)\n",
      "INFO:smac.stats.stats.Stats:##########################################################\n",
      "INFO:smac.stats.stats.Stats:Statistics:\n",
      "INFO:smac.stats.stats.Stats:#Incumbent changed: 1\n",
      "INFO:smac.stats.stats.Stats:#Submitted target algorithm runs: 5 / 5.0\n",
      "INFO:smac.stats.stats.Stats:#Finished target algorithm runs: 5 / 5.0\n",
      "INFO:smac.stats.stats.Stats:#Configurations: 5\n",
      "INFO:smac.stats.stats.Stats:Used wallclock time: 421.31 / inf sec \n",
      "INFO:smac.stats.stats.Stats:Used target algorithm runtime: 417.15 / inf sec\n",
      "INFO:smac.stats.stats.Stats:##########################################################\n",
      "INFO:smac.facade.smac_hpo_facade.SMAC4HPO:Final Incumbent: Configuration:\n",
      "  _cost:dx_F, Value: 4.2871852816796885\n",
      "  _cost:dx_Q, Value: 1.7916719007884376\n",
      "  _cost:omega_F, Value: 18.65823651695353\n",
      "  _cost:omega_Q, Value: 0.02484526551383647\n",
      "  _cost:theta_F, Value: 1520.464258361176\n",
      "  _cost:theta_Q, Value: 790.0558149344749\n",
      "  _cost:u_R, Value: 0.5487898169767764\n",
      "  _cost:x_F, Value: 1436.0712750851274\n",
      "  _cost:x_Q, Value: 1463.362777415851\n",
      "  _ctrlr:horizon, Value: 14\n",
      "  _model:hidden_size_1, Value: 41\n",
      "  _model:hidden_size_2, Value: 104\n",
      "  _model:hidden_size_3, Value: 37\n",
      "  _model:lr, Value: 0.0509708894894479\n",
      "  _model:n_hidden_layers, Value: '3'\n",
      "  _model:nonlintype, Value: 'relu'\n",
      "\n",
      "INFO:smac.facade.smac_hpo_facade.SMAC4HPO:Estimated cost of incumbent: 198.000000\n"
     ]
    },
    {
     "name": "stdout",
     "output_type": "stream",
     "text": [
      "\n",
      "use_cuda=True\n",
      "MLP Using Cuda\n",
      "100%|██████████| 50/50 [00:04<00:00, 10.64it/s]\n"
     ]
    }
   ],
   "source": [
    "from autompc.tuning import PipelineTuner\n",
    "\n",
    "tuner = PipelineTuner(surrogate_factory=MLPFactory(system), surrogate_split=0.5)\n",
    "\n",
    "controller, tune_result = tuner.run(pipeline, task, trajs, n_iters=5, rng=np.random.default_rng(100), \n",
    "                                   truedyn=benchmark.dynamics)"
   ]
  },
  {
   "cell_type": "markdown",
   "metadata": {},
   "source": [
    "It is then easy to plot the curve from the tuning result."
   ]
  },
  {
   "cell_type": "code",
   "execution_count": 5,
   "metadata": {},
   "outputs": [
    {
     "data": {
      "image/png": "[encoded data removed]",
      "text/plain": [
       "<Figure size 432x288 with 1 Axes>"
      ]
     },
     "metadata": {
      "needs_background": "light"
     },
     "output_type": "display_data"
    }
   ],
   "source": [
    "from autompc.graphs import TuningCurveGraph\n",
    "import matplotlib.pyplot as plt\n",
    "\n",
    "graph = TuningCurveGraph()\n",
    "\n",
    "fig = plt.figure()      \n",
    "ax = fig.gca()\n",
    "graph(ax, tune_result)\n",
    "ax.set_title(\"Cart-Pole Tuning Curve\")\n",
    "plt.show()"
   ]
  },
  {
   "cell_type": "markdown",
   "metadata": {},
   "source": [
    "## Decoupled Tuning\n",
    "\n",
    "The above examples is full pipeline tuning, which searches the configuration space of all components simultaneously.  Alternatively, we can take a decoupled tuning approach, where the model is first tuned based on prediction accuracy, then the objective function and optimizer are tuned.\n",
    "\n",
    "First, we must tune the model"
   ]
  },
  {
   "cell_type": "code",
   "execution_count": 6,
   "metadata": {},
   "outputs": [
    {
     "name": "stderr",
     "output_type": "stream",
     "text": [
      "INFO:smac.utils.io.cmd_reader.CMDReader:Output to smac3-output_2021-04-25_03:30:14_417186\n",
      "INFO:smac.facade.smac_hpo_facade.SMAC4HPO:Optimizing a deterministic scenario for quality without a tuner timeout - will make SMAC deterministic and only evaluate one configuration per iteration!\n",
      "INFO:smac.initial_design.sobol_design.SobolDesign:Running initial design for 1 configurations\n",
      "INFO:smac.facade.smac_hpo_facade.SMAC4HPO:<class 'smac.facade.smac_hpo_facade.SMAC4HPO'>\n",
      "INFO:smac.optimizer.smbo.SMBO:Running initial design\n",
      "INFO:smac.intensification.intensification.Intensifier:First run, no incumbent provided; challenger is assumed to be the incumbent\n"
     ]
    },
    {
     "name": "stdout",
     "output_type": "stream",
     "text": [
      "Evaluating cfg:\n",
      "Configuration:\n",
      "  _MLP:hidden_size_1, Value: 136\n",
      "  _MLP:hidden_size_2, Value: 136\n",
      "  _MLP:hidden_size_3, Value: 136\n",
      "  _MLP:lr, Value: 0.003162277660168379\n",
      "  _MLP:n_hidden_layers, Value: '3'\n",
      "  _MLP:nonlintype, Value: 'sigmoid'\n",
      "  model, Value: 'MLP'\n",
      "\n",
      "use_cuda=True\n",
      "MLP Using Cuda\n",
      "100%|██████████| 50/50 [00:03<00:00, 13.86it/s]"
     ]
    },
    {
     "name": "stderr",
     "output_type": "stream",
     "text": [
      "INFO:smac.intensification.intensification.Intensifier:First run, no incumbent provided; challenger is assumed to be the incumbent\n",
      "INFO:smac.intensification.intensification.Intensifier:Updated estimated cost of incumbent on 1 runs: 0.6046\n"
     ]
    },
    {
     "name": "stdout",
     "output_type": "stream",
     "text": [
      "\n",
      "Evaluating cfg:\n",
      "Configuration:\n",
      "  _MLP:hidden_size_1, Value: 163\n",
      "  _MLP:lr, Value: 0.0001970689002759384\n",
      "  _MLP:n_hidden_layers, Value: '1'\n",
      "  _MLP:nonlintype, Value: 'selu'\n",
      "  model, Value: 'MLP'\n",
      "\n",
      "use_cuda=True\n",
      "MLP Using Cuda\n",
      "100%|██████████| 50/50 [00:01<00:00, 27.96it/s]"
     ]
    },
    {
     "name": "stderr",
     "output_type": "stream",
     "text": [
      "INFO:smac.intensification.intensification.Intensifier:Challenger (0.3535) is better than incumbent (0.6046) on 1 runs.\n",
      "INFO:smac.intensification.intensification.Intensifier:Changes in incumbent:\n",
      "INFO:smac.intensification.intensification.Intensifier:  _MLP:hidden_size_1 : 136 -> 163\n",
      "INFO:smac.intensification.intensification.Intensifier:  _MLP:lr : 0.003162277660168379 -> 0.0001970689002759384\n",
      "INFO:smac.intensification.intensification.Intensifier:  _MLP:n_hidden_layers : '3' -> '1'\n",
      "INFO:smac.intensification.intensification.Intensifier:  _MLP:nonlintype : 'sigmoid' -> 'selu'\n",
      "INFO:smac.intensification.intensification.Intensifier:Wallclock time limit for intensification reached (used: 5.408179 sec, available: 0.000010 sec)\n",
      "INFO:smac.stats.stats.Stats:##########################################################\n",
      "INFO:smac.stats.stats.Stats:Statistics:\n",
      "INFO:smac.stats.stats.Stats:#Incumbent changed: 1\n",
      "INFO:smac.stats.stats.Stats:#Submitted target algorithm runs: 2 / 2.0\n",
      "INFO:smac.stats.stats.Stats:#Finished target algorithm runs: 2 / 2.0\n",
      "INFO:smac.stats.stats.Stats:#Configurations: 2\n"
     ]
    },
    {
     "name": "stdout",
     "output_type": "stream",
     "text": [
      "\n"
     ]
    },
    {
     "name": "stderr",
     "output_type": "stream",
     "text": [
      "INFO:smac.stats.stats.Stats:Used wallclock time: 5.90 / inf sec \n",
      "INFO:smac.stats.stats.Stats:Used target algorithm runtime: 5.41 / inf sec\n",
      "INFO:smac.stats.stats.Stats:##########################################################\n",
      "INFO:smac.facade.smac_hpo_facade.SMAC4HPO:Final Incumbent: Configuration:\n",
      "  _MLP:hidden_size_1, Value: 163\n",
      "  _MLP:lr, Value: 0.0001970689002759384\n",
      "  _MLP:n_hidden_layers, Value: '1'\n",
      "  _MLP:nonlintype, Value: 'selu'\n",
      "  model, Value: 'MLP'\n",
      "\n",
      "INFO:smac.facade.smac_hpo_facade.SMAC4HPO:Estimated cost of incumbent: 0.353524\n"
     ]
    },
    {
     "name": "stdout",
     "output_type": "stream",
     "text": [
      "use_cuda=True\n",
      "MLP Using Cuda\n",
      "100%|██████████| 50/50 [00:02<00:00, 21.41it/s]\n"
     ]
    }
   ],
   "source": [
    "from autompc.tuning import ModelTuner\n",
    "from autompc.evaluation import HoldoutModelEvaluator\n",
    "\n",
    "model_evaluator = HoldoutModelEvaluator(holdout_prop=0.25, metric=\"rmse\", trajs=trajs, system=system,\n",
    "                                       rng=np.random.default_rng(100))\n",
    "model_tuner = ModelTuner(system, model_evaluator)\n",
    "model_tuner.add_model_factory(model_factory)\n",
    "\n",
    "model, model_tune_result = model_tuner.run(rng=np.random.default_rng(100), n_iters=2)"
   ]
  },
  {
   "cell_type": "markdown",
   "metadata": {},
   "source": [
    "Now that we have tuned the model, we can create a pipeline with the pre-tuned model, and then run pipeline tuning."
   ]
  },
  {
   "cell_type": "code",
   "execution_count": 7,
   "metadata": {},
   "outputs": [
    {
     "ename": "TypeError",
     "evalue": "run() missing 1 required positional argument: 'rng'",
     "output_type": "error",
     "traceback": [
      "\u001b[0;31m---------------------------------------------------------------------------\u001b[0m",
      "\u001b[0;31mTypeError\u001b[0m                                 Traceback (most recent call last)",
      "\u001b[0;32m<ipython-input-7-a2d1ec55b6c9>\u001b[0m in \u001b[0;36m<module>\u001b[0;34m\u001b[0m\n\u001b[1;32m      1\u001b[0m \u001b[0mpipeline_fixed_model\u001b[0m \u001b[0;34m=\u001b[0m \u001b[0mampc\u001b[0m\u001b[0;34m.\u001b[0m\u001b[0mPipeline\u001b[0m\u001b[0;34m(\u001b[0m\u001b[0msystem\u001b[0m\u001b[0;34m,\u001b[0m \u001b[0mmodel\u001b[0m\u001b[0;34m,\u001b[0m \u001b[0mctrlr_factory\u001b[0m\u001b[0;34m,\u001b[0m \u001b[0mcost_factory\u001b[0m\u001b[0;34m)\u001b[0m\u001b[0;34m\u001b[0m\u001b[0;34m\u001b[0m\u001b[0m\n\u001b[0;32m----> 2\u001b[0;31m \u001b[0mcontroller2\u001b[0m\u001b[0;34m,\u001b[0m \u001b[0mtune_result2\u001b[0m \u001b[0;34m=\u001b[0m \u001b[0mtuner\u001b[0m\u001b[0;34m.\u001b[0m\u001b[0mrun\u001b[0m\u001b[0;34m(\u001b[0m\u001b[0mpipeline\u001b[0m\u001b[0;34m,\u001b[0m \u001b[0mtask\u001b[0m\u001b[0;34m,\u001b[0m \u001b[0mtrajs\u001b[0m\u001b[0;34m,\u001b[0m \u001b[0mn_iters\u001b[0m\u001b[0;34m=\u001b[0m\u001b[0;36m100\u001b[0m\u001b[0;34m)\u001b[0m\u001b[0;34m\u001b[0m\u001b[0;34m\u001b[0m\u001b[0m\n\u001b[0m",
      "\u001b[0;31mTypeError\u001b[0m: run() missing 1 required positional argument: 'rng'"
     ]
    }
   ],
   "source": [
    "pipeline_fixed_model = ampc.Pipeline(system, model, ctrlr_factory, cost_factory)\n",
    "controller2, tune_result2 = tuner.run(pipeline, task, trajs, n_iters=100)   "
   ]
  },
  {
   "cell_type": "code",
   "execution_count": null,
   "metadata": {},
   "outputs": [],
   "source": []
  }
 ],
 "metadata": {
  "kernelspec": {
   "display_name": "Python 3",
   "language": "python",
   "name": "python3"
  },
  "language_info": {
   "codemirror_mode": {
    "name": "ipython",
    "version": 3
   },
   "file_extension": ".py",
   "mimetype": "text/x-python",
   "name": "python",
   "nbconvert_exporter": "python",
   "pygments_lexer": "ipython3",
   "version": "3.8.7"
  }
 },
 "nbformat": 4,
 "nbformat_minor": 4
}
