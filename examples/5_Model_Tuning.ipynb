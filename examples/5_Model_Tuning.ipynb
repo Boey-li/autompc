{
 "cells": [
  {
   "cell_type": "markdown",
   "metadata": {},
   "source": [
    "# Model Tuning\n",
    "\n",
    "This notebook will demonstate how to automatically tune model hyperparameters for prediction accuracy.\n",
    "\n",
    "## Set-Up\n",
    "We will begin with some imports and then generate some training data using the simple cart-pole benchmark."
   ]
  },
  {
   "cell_type": "code",
   "execution_count": 1,
   "metadata": {},
   "outputs": [
    {
     "name": "stdout",
     "output_type": "stream",
     "text": [
      "Loading AutoMPC...\n",
      "Finished loading AutoMPC\n"
     ]
    }
   ],
   "source": [
    "import autompc as ampc\n",
    "import numpy as np\n",
    "\n",
    "from autompc.benchmarks import CartpoleSwingupBenchmark\n",
    "\n",
    "benchmark = CartpoleSwingupBenchmark()\n",
    "\n",
    "system = benchmark.system\n",
    "trajs = benchmark.gen_trajs(seed=100, n_trajs=100, traj_len=200)"
   ]
  },
  {
   "cell_type": "code",
   "execution_count": 2,
   "metadata": {},
   "outputs": [
    {
     "data": {
      "text/plain": [
       "'/home/william/proj/autompc_multitask/autompc/__init__.py'"
      ]
     },
     "execution_count": 2,
     "metadata": {},
     "output_type": "execute_result"
    }
   ],
   "source": [
    "ampc.__file__"
   ]
  },
  {
   "cell_type": "markdown",
   "metadata": {},
   "source": [
    "## Auto-Tuning"
   ]
  },
  {
   "cell_type": "markdown",
   "metadata": {},
   "source": [
    "By default, AutoMPC's `ModelTuner` will auto-select from all available models to fit the trajectories as best as possible. The tuner by default will run for 10 iterations, but for real problems you will want to run for many, many more iterations (100s)."
   ]
  },
  {
   "cell_type": "code",
   "execution_count": null,
   "metadata": {},
   "outputs": [
    {
     "name": "stdout",
     "output_type": "stream",
     "text": [
      "Foo\n",
      "Selecting from models MLP,ARX,Koopman,SINDy,ApproximateGPModel\n",
      "Evaluating Cfg:\n",
      "Configuration(values={\n",
      "  'MLP:batchnorm': False,\n",
      "  'MLP:hidden_size_1': 128,\n",
      "  'MLP:hidden_size_2': 128,\n",
      "  'MLP:lr': 0.001,\n",
      "  'MLP:n_hidden_layers': '2',\n",
      "  'MLP:nonlintype': 'relu',\n",
      "  'model': 'MLP',\n",
      "})\n",
      "\n",
      "Seed 0 budget 0.0\n",
      "100%|██████████| 200/200 [01:02<00:00,  3.20it/s]\n",
      "100%|██████████| 200/200 [01:06<00:00,  3.00it/s]\n",
      "100%|██████████| 200/200 [01:06<00:00,  3.02it/s]\n",
      "Model Score  0.011939408309794898\n",
      "Evaluating Cfg:\n",
      "Configuration(values={\n",
      "  'ARX:history': 8,\n",
      "  'model': 'ARX',\n",
      "})\n",
      "\n",
      "Seed 0 budget 0.0\n",
      "Model Score  0.31108252497069566\n",
      "Evaluating Cfg:\n",
      "Configuration(values={\n",
      "  'Koopman:lasso_alpha': 6.562542473614028e-06,\n",
      "  'Koopman:method': 'lasso',\n",
      "  'Koopman:poly_basis': 'true',\n",
      "  'Koopman:poly_cross_terms': 'false',\n",
      "  'Koopman:poly_degree': 2,\n",
      "  'Koopman:trig_basis': 'true',\n",
      "  'Koopman:trig_freq': 6,\n",
      "  'Koopman:trig_interaction': 'false',\n",
      "  'model': 'Koopman',\n",
      "})\n",
      "\n",
      "Seed 0 budget 0.0\n",
      "Call Lasso (1000 iters)\n",
      "Call Lasso (1000 iters)\n",
      "Call Lasso (1000 iters)\n",
      "Model Score  0.2927990534209356\n",
      "Evaluating Cfg:\n",
      "Configuration(values={\n",
      "  'SINDy:poly_basis': 'false',\n",
      "  'SINDy:poly_cross_terms': 'false',\n",
      "  'SINDy:threshold': 0.06095231419179917,\n",
      "  'SINDy:time_mode': 'discrete',\n",
      "  'SINDy:trig_basis': 'true',\n",
      "  'SINDy:trig_freq': 1,\n",
      "  'SINDy:trig_interaction': 'false',\n",
      "  'model': 'SINDy',\n",
      "})\n",
      "\n",
      "Seed 0 budget 0.0\n"
     ]
    },
    {
     "name": "stderr",
     "output_type": "stream",
     "text": [
      "\r",
      "  0%|          | 0/20 [00:00<?, ?it/s]"
     ]
    },
    {
     "name": "stdout",
     "output_type": "stream",
     "text": [
      "Model Score  0.7621534209918894\n",
      "Evaluating Cfg:\n",
      "Configuration(values={\n",
      "  'ApproximateGPModel:induce_count': 155,\n",
      "  'ApproximateGPModel:learning_rate': 1.4427109895862762,\n",
      "  'model': 'ApproximateGPModel',\n",
      "})\n",
      "\n",
      "Seed 0 budget 0.0\n"
     ]
    },
    {
     "name": "stderr",
     "output_type": "stream",
     "text": [
      "100%|██████████| 20/20 [00:33<00:00,  1.67s/it]\n",
      "100%|██████████| 20/20 [00:31<00:00,  1.59s/it]\n",
      "100%|██████████| 20/20 [00:30<00:00,  1.52s/it]\n"
     ]
    },
    {
     "name": "stdout",
     "output_type": "stream",
     "text": [
      "Model Score  0.8801611604641183\n",
      "Evaluating Cfg:\n",
      "Configuration(values={\n",
      "  'MLP:batchnorm': True,\n",
      "  'MLP:hidden_size_1': 186,\n",
      "  'MLP:hidden_size_2': 152,\n",
      "  'MLP:hidden_size_3': 190,\n",
      "  'MLP:lr': 2.381964038053619e-05,\n",
      "  'MLP:n_hidden_layers': '3',\n",
      "  'MLP:nonlintype': 'relu',\n",
      "  'model': 'MLP',\n",
      "})\n",
      "\n",
      "Seed 0 budget 0.0\n",
      "100%|██████████| 200/200 [02:34<00:00,  1.30it/s]\n",
      "100%|██████████| 200/200 [02:32<00:00,  1.31it/s]\n",
      "100%|██████████| 200/200 [02:45<00:00,  1.21it/s]\n",
      "Model Score  0.08672587652328966\n",
      "Evaluating Cfg:\n",
      "Configuration(values={\n",
      "  'MLP:batchnorm': True,\n",
      "  'MLP:hidden_size_1': 224,\n",
      "  'MLP:hidden_size_2': 166,\n",
      "  'MLP:hidden_size_3': 67,\n",
      "  'MLP:hidden_size_4': 107,\n",
      "  'MLP:lr': 0.03654703288182006,\n",
      "  'MLP:n_hidden_layers': '4',\n",
      "  'MLP:nonlintype': 'sigmoid',\n",
      "  'model': 'MLP',\n",
      "})\n",
      "\n",
      "Seed 0 budget 0.0\n",
      "100%|██████████| 200/200 [03:00<00:00,  1.11it/s]\n",
      "100%|██████████| 200/200 [03:00<00:00,  1.11it/s]\n",
      "100%|██████████| 200/200 [03:09<00:00,  1.06it/s]\n",
      "Model Score  0.1776993097090278\n"
     ]
    },
    {
     "name": "stderr",
     "output_type": "stream",
     "text": [
      "\r",
      "  0%|          | 0/20 [00:00<?, ?it/s]"
     ]
    },
    {
     "name": "stdout",
     "output_type": "stream",
     "text": [
      "Evaluating Cfg:\n",
      "Configuration(values={\n",
      "  'ApproximateGPModel:induce_count': 143,\n",
      "  'ApproximateGPModel:learning_rate': 8.590954851322367,\n",
      "  'model': 'ApproximateGPModel',\n",
      "})\n",
      "\n",
      "Seed 0 budget 0.0\n"
     ]
    },
    {
     "name": "stderr",
     "output_type": "stream",
     "text": [
      "100%|██████████| 20/20 [00:35<00:00,  1.76s/it]\n",
      "100%|██████████| 20/20 [00:29<00:00,  1.45s/it]\n",
      "100%|██████████| 20/20 [00:27<00:00,  1.39s/it]\n"
     ]
    },
    {
     "name": "stdout",
     "output_type": "stream",
     "text": [
      "Model Score  2.4044151671323504\n",
      "Evaluating Cfg:\n",
      "Configuration(values={\n",
      "  'SINDy:poly_basis': 'false',\n",
      "  'SINDy:poly_cross_terms': 'false',\n",
      "  'SINDy:threshold': 0.001696950045616556,\n",
      "  'SINDy:time_mode': 'continuous',\n",
      "  'SINDy:trig_basis': 'true',\n",
      "  'SINDy:trig_freq': 2,\n",
      "  'SINDy:trig_interaction': 'false',\n",
      "  'model': 'SINDy',\n",
      "})\n",
      "\n",
      "Seed 0 budget 0.0\n",
      "Model Score  0.45861018202580767\n",
      "Evaluating Cfg:\n",
      "Configuration(values={\n",
      "  'SINDy:poly_basis': 'true',\n",
      "  'SINDy:poly_cross_terms': 'false',\n",
      "  'SINDy:poly_degree': 6,\n",
      "  'SINDy:threshold': 0.008380866905656438,\n",
      "  'SINDy:time_mode': 'continuous',\n",
      "  'SINDy:trig_basis': 'false',\n",
      "  'model': 'SINDy',\n",
      "})\n",
      "\n",
      "Seed 0 budget 0.0\n"
     ]
    },
    {
     "name": "stderr",
     "output_type": "stream",
     "text": [
      "/home/william/.local/lib/python3.8/site-packages/sklearn/linear_model/_ridge.py:147: LinAlgWarning: Ill-conditioned matrix (rcond=1.93774e-25): result may not be accurate.\n",
      "  return linalg.solve(A, Xy, sym_pos=True,\n",
      "/home/william/.local/lib/python3.8/site-packages/sklearn/linear_model/_ridge.py:147: LinAlgWarning: Ill-conditioned matrix (rcond=1.93774e-25): result may not be accurate.\n",
      "  return linalg.solve(A, Xy, sym_pos=True,\n",
      "/home/william/.local/lib/python3.8/site-packages/sklearn/linear_model/_ridge.py:147: LinAlgWarning: Ill-conditioned matrix (rcond=1.93774e-25): result may not be accurate.\n",
      "  return linalg.solve(A, Xy, sym_pos=True,\n",
      "/home/william/.local/lib/python3.8/site-packages/sklearn/linear_model/_ridge.py:147: LinAlgWarning: Ill-conditioned matrix (rcond=1.93774e-25): result may not be accurate.\n",
      "  return linalg.solve(A, Xy, sym_pos=True,\n",
      "/home/william/.local/lib/python3.8/site-packages/sklearn/linear_model/_ridge.py:147: LinAlgWarning: Ill-conditioned matrix (rcond=1.05424e-22): result may not be accurate.\n",
      "  return linalg.solve(A, Xy, sym_pos=True,\n",
      "/home/william/.local/lib/python3.8/site-packages/sklearn/linear_model/_ridge.py:147: LinAlgWarning: Ill-conditioned matrix (rcond=1.05424e-22): result may not be accurate.\n",
      "  return linalg.solve(A, Xy, sym_pos=True,\n",
      "/home/william/.local/lib/python3.8/site-packages/sklearn/linear_model/_ridge.py:147: LinAlgWarning: Ill-conditioned matrix (rcond=1.05424e-22): result may not be accurate.\n",
      "  return linalg.solve(A, Xy, sym_pos=True,\n",
      "/home/william/.local/lib/python3.8/site-packages/sklearn/linear_model/_ridge.py:147: LinAlgWarning: Ill-conditioned matrix (rcond=1.05424e-22): result may not be accurate.\n",
      "  return linalg.solve(A, Xy, sym_pos=True,\n",
      "/home/william/.local/lib/python3.8/site-packages/sklearn/linear_model/_ridge.py:147: LinAlgWarning: Ill-conditioned matrix (rcond=1.81747e-25): result may not be accurate.\n",
      "  return linalg.solve(A, Xy, sym_pos=True,\n",
      "/home/william/.local/lib/python3.8/site-packages/sklearn/linear_model/_ridge.py:147: LinAlgWarning: Ill-conditioned matrix (rcond=1.81747e-25): result may not be accurate.\n",
      "  return linalg.solve(A, Xy, sym_pos=True,\n",
      "/home/william/.local/lib/python3.8/site-packages/sklearn/linear_model/_ridge.py:147: LinAlgWarning: Ill-conditioned matrix (rcond=1.81747e-25): result may not be accurate.\n",
      "  return linalg.solve(A, Xy, sym_pos=True,\n",
      "/home/william/.local/lib/python3.8/site-packages/sklearn/linear_model/_ridge.py:147: LinAlgWarning: Ill-conditioned matrix (rcond=1.81747e-25): result may not be accurate.\n",
      "  return linalg.solve(A, Xy, sym_pos=True,\n"
     ]
    },
    {
     "name": "stdout",
     "output_type": "stream",
     "text": [
      "Model Score  0.46016678711579034\n",
      "Evaluating Cfg:\n",
      "Configuration(values={\n",
      "  'SINDy:poly_basis': 'true',\n",
      "  'SINDy:poly_cross_terms': 'false',\n",
      "  'SINDy:poly_degree': 6,\n",
      "  'SINDy:threshold': 0.009161192115707038,\n",
      "  'SINDy:time_mode': 'discrete',\n",
      "  'SINDy:trig_basis': 'false',\n",
      "  'model': 'SINDy',\n",
      "})\n",
      "\n",
      "Seed 0 budget 0.0\n"
     ]
    },
    {
     "name": "stderr",
     "output_type": "stream",
     "text": [
      "/home/william/.local/lib/python3.8/site-packages/sklearn/linear_model/_ridge.py:147: LinAlgWarning: Ill-conditioned matrix (rcond=2.16909e-25): result may not be accurate.\n",
      "  return linalg.solve(A, Xy, sym_pos=True,\n",
      "/home/william/.local/lib/python3.8/site-packages/sklearn/linear_model/_ridge.py:147: LinAlgWarning: Ill-conditioned matrix (rcond=2.16909e-25): result may not be accurate.\n",
      "  return linalg.solve(A, Xy, sym_pos=True,\n",
      "/home/william/.local/lib/python3.8/site-packages/sklearn/linear_model/_ridge.py:147: LinAlgWarning: Ill-conditioned matrix (rcond=2.16909e-25): result may not be accurate.\n",
      "  return linalg.solve(A, Xy, sym_pos=True,\n",
      "/home/william/.local/lib/python3.8/site-packages/sklearn/linear_model/_ridge.py:147: LinAlgWarning: Ill-conditioned matrix (rcond=2.16909e-25): result may not be accurate.\n",
      "  return linalg.solve(A, Xy, sym_pos=True,\n",
      "/home/william/.local/lib/python3.8/site-packages/sklearn/linear_model/_ridge.py:147: LinAlgWarning: Ill-conditioned matrix (rcond=1.18618e-22): result may not be accurate.\n",
      "  return linalg.solve(A, Xy, sym_pos=True,\n",
      "/home/william/.local/lib/python3.8/site-packages/sklearn/linear_model/_ridge.py:147: LinAlgWarning: Ill-conditioned matrix (rcond=1.18618e-22): result may not be accurate.\n",
      "  return linalg.solve(A, Xy, sym_pos=True,\n",
      "/home/william/.local/lib/python3.8/site-packages/sklearn/linear_model/_ridge.py:147: LinAlgWarning: Ill-conditioned matrix (rcond=1.18618e-22): result may not be accurate.\n",
      "  return linalg.solve(A, Xy, sym_pos=True,\n",
      "/home/william/.local/lib/python3.8/site-packages/sklearn/linear_model/_ridge.py:147: LinAlgWarning: Ill-conditioned matrix (rcond=1.18618e-22): result may not be accurate.\n",
      "  return linalg.solve(A, Xy, sym_pos=True,\n",
      "/home/william/.local/lib/python3.8/site-packages/sklearn/linear_model/_ridge.py:147: LinAlgWarning: Ill-conditioned matrix (rcond=2.03553e-25): result may not be accurate.\n",
      "  return linalg.solve(A, Xy, sym_pos=True,\n",
      "/home/william/.local/lib/python3.8/site-packages/sklearn/linear_model/_ridge.py:147: LinAlgWarning: Ill-conditioned matrix (rcond=2.03553e-25): result may not be accurate.\n",
      "  return linalg.solve(A, Xy, sym_pos=True,\n",
      "/home/william/.local/lib/python3.8/site-packages/sklearn/linear_model/_ridge.py:147: LinAlgWarning: Ill-conditioned matrix (rcond=2.03553e-25): result may not be accurate.\n",
      "  return linalg.solve(A, Xy, sym_pos=True,\n",
      "/home/william/.local/lib/python3.8/site-packages/sklearn/linear_model/_ridge.py:147: LinAlgWarning: Ill-conditioned matrix (rcond=2.03553e-25): result may not be accurate.\n",
      "  return linalg.solve(A, Xy, sym_pos=True,\n"
     ]
    },
    {
     "name": "stdout",
     "output_type": "stream",
     "text": [
      "Model Score  0.3353772608666867\n",
      "Evaluating Cfg:\n",
      "Configuration(values={\n",
      "  'SINDy:poly_basis': 'false',\n",
      "  'SINDy:poly_cross_terms': 'false',\n",
      "  'SINDy:threshold': 0.09896620290140813,\n",
      "  'SINDy:time_mode': 'continuous',\n",
      "  'SINDy:trig_basis': 'false',\n",
      "  'model': 'SINDy',\n",
      "})\n",
      "\n",
      "Seed 0 budget 0.0\n",
      "Model Score  0.5351035568524929\n",
      "Evaluating Cfg:\n",
      "Configuration(values={\n",
      "  'MLP:batchnorm': True,\n",
      "  'MLP:hidden_size_1': 255,\n",
      "  'MLP:lr': 0.2396787366616139,\n",
      "  'MLP:n_hidden_layers': '1',\n",
      "  'MLP:nonlintype': 'selu',\n",
      "  'model': 'MLP',\n",
      "})\n",
      "\n",
      "Seed 0 budget 0.0\n",
      "100%|██████████| 200/200 [01:15<00:00,  2.66it/s]\n",
      "100%|██████████| 200/200 [01:15<00:00,  2.66it/s]\n",
      "100%|██████████| 200/200 [01:13<00:00,  2.71it/s]\n",
      "Model Score  0.7903311119484032\n",
      "Evaluating Cfg:\n",
      "Configuration(values={\n",
      "  'SINDy:poly_basis': 'true',\n",
      "  'SINDy:poly_cross_terms': 'false',\n",
      "  'SINDy:poly_degree': 2,\n",
      "  'SINDy:threshold': 0.006014225385259413,\n",
      "  'SINDy:time_mode': 'discrete',\n",
      "  'SINDy:trig_basis': 'false',\n",
      "  'model': 'SINDy',\n",
      "})\n",
      "\n",
      "Seed 0 budget 0.0\n",
      "Model Score  0.4058850993524264\n",
      "Evaluating Cfg:\n",
      "Configuration(values={\n",
      "  'ARX:history': 6,\n",
      "  'model': 'ARX',\n",
      "})\n",
      "\n",
      "Seed 0 budget 0.0\n",
      "Model Score  0.3151868570929405\n",
      "Evaluating Cfg:\n",
      "Configuration(values={\n",
      "  'MLP:batchnorm': False,\n",
      "  'MLP:hidden_size_1': 109,\n",
      "  'MLP:hidden_size_2': 77,\n",
      "  'MLP:lr': 0.000765127079519738,\n",
      "  'MLP:n_hidden_layers': '2',\n",
      "  'MLP:nonlintype': 'sigmoid',\n",
      "  'model': 'MLP',\n",
      "})\n",
      "\n",
      "Seed 0 budget 0.0\n",
      "100%|██████████| 200/200 [00:52<00:00,  3.82it/s]\n",
      "100%|██████████| 200/200 [00:52<00:00,  3.82it/s]\n",
      "100%|██████████| 200/200 [00:51<00:00,  3.88it/s]\n",
      "Model Score  0.07017444985577599\n",
      "Evaluating Cfg:\n",
      "Configuration(values={\n",
      "  'SINDy:poly_basis': 'true',\n",
      "  'SINDy:poly_cross_terms': 'false',\n",
      "  'SINDy:poly_degree': 5,\n",
      "  'SINDy:threshold': 0.1721870009225301,\n",
      "  'SINDy:time_mode': 'discrete',\n",
      "  'SINDy:trig_basis': 'true',\n",
      "  'SINDy:trig_freq': 4,\n",
      "  'SINDy:trig_interaction': 'false',\n",
      "  'model': 'SINDy',\n",
      "})\n",
      "\n",
      "Seed 0 budget 0.0\n"
     ]
    },
    {
     "name": "stderr",
     "output_type": "stream",
     "text": [
      "/home/william/.local/lib/python3.8/site-packages/sklearn/linear_model/_ridge.py:147: LinAlgWarning: Ill-conditioned matrix (rcond=6.10134e-23): result may not be accurate.\n",
      "  return linalg.solve(A, Xy, sym_pos=True,\n",
      "/home/william/.local/lib/python3.8/site-packages/sklearn/linear_model/_ridge.py:147: LinAlgWarning: Ill-conditioned matrix (rcond=6.10134e-23): result may not be accurate.\n",
      "  return linalg.solve(A, Xy, sym_pos=True,\n",
      "/home/william/.local/lib/python3.8/site-packages/sklearn/linear_model/_ridge.py:147: LinAlgWarning: Ill-conditioned matrix (rcond=6.10134e-23): result may not be accurate.\n",
      "  return linalg.solve(A, Xy, sym_pos=True,\n",
      "/home/william/.local/lib/python3.8/site-packages/sklearn/linear_model/_ridge.py:147: LinAlgWarning: Ill-conditioned matrix (rcond=6.10134e-23): result may not be accurate.\n",
      "  return linalg.solve(A, Xy, sym_pos=True,\n",
      "/home/william/.local/lib/python3.8/site-packages/sklearn/linear_model/_ridge.py:147: LinAlgWarning: Ill-conditioned matrix (rcond=7.27749e-21): result may not be accurate.\n",
      "  return linalg.solve(A, Xy, sym_pos=True,\n",
      "/home/william/.local/lib/python3.8/site-packages/sklearn/linear_model/_ridge.py:147: LinAlgWarning: Ill-conditioned matrix (rcond=7.27749e-21): result may not be accurate.\n",
      "  return linalg.solve(A, Xy, sym_pos=True,\n",
      "/home/william/.local/lib/python3.8/site-packages/sklearn/linear_model/_ridge.py:147: LinAlgWarning: Ill-conditioned matrix (rcond=7.27749e-21): result may not be accurate.\n",
      "  return linalg.solve(A, Xy, sym_pos=True,\n",
      "/home/william/.local/lib/python3.8/site-packages/sklearn/linear_model/_ridge.py:147: LinAlgWarning: Ill-conditioned matrix (rcond=7.27749e-21): result may not be accurate.\n",
      "  return linalg.solve(A, Xy, sym_pos=True,\n",
      "/home/william/.local/lib/python3.8/site-packages/sklearn/linear_model/_ridge.py:147: LinAlgWarning: Ill-conditioned matrix (rcond=5.76956e-23): result may not be accurate.\n",
      "  return linalg.solve(A, Xy, sym_pos=True,\n",
      "/home/william/.local/lib/python3.8/site-packages/sklearn/linear_model/_ridge.py:147: LinAlgWarning: Ill-conditioned matrix (rcond=5.76956e-23): result may not be accurate.\n",
      "  return linalg.solve(A, Xy, sym_pos=True,\n",
      "/home/william/.local/lib/python3.8/site-packages/sklearn/linear_model/_ridge.py:147: LinAlgWarning: Ill-conditioned matrix (rcond=5.76956e-23): result may not be accurate.\n",
      "  return linalg.solve(A, Xy, sym_pos=True,\n",
      "/home/william/.local/lib/python3.8/site-packages/sklearn/linear_model/_ridge.py:147: LinAlgWarning: Ill-conditioned matrix (rcond=5.76956e-23): result may not be accurate.\n",
      "  return linalg.solve(A, Xy, sym_pos=True,\n"
     ]
    },
    {
     "name": "stdout",
     "output_type": "stream",
     "text": [
      "Model Score  0.7621534209918894\n",
      "Evaluating Cfg:\n",
      "Configuration(values={\n",
      "  'MLP:batchnorm': True,\n",
      "  'MLP:hidden_size_1': 43,\n",
      "  'MLP:hidden_size_2': 162,\n",
      "  'MLP:hidden_size_3': 98,\n",
      "  'MLP:hidden_size_4': 176,\n",
      "  'MLP:lr': 1.4864706076163348e-05,\n",
      "  'MLP:n_hidden_layers': '4',\n",
      "  'MLP:nonlintype': 'relu',\n",
      "  'model': 'MLP',\n",
      "})\n",
      "\n",
      "Seed 0 budget 0.0\n",
      "100%|██████████| 200/200 [02:22<00:00,  1.40it/s]\n",
      "100%|██████████| 200/200 [02:22<00:00,  1.40it/s]\n",
      "100%|██████████| 200/200 [02:20<00:00,  1.42it/s]\n",
      "Model Score  0.10221947567377221\n",
      "Evaluating Cfg:\n",
      "Configuration(values={\n",
      "  'MLP:batchnorm': False,\n",
      "  'MLP:hidden_size_1': 92,\n",
      "  'MLP:lr': 0.16853649628321257,\n",
      "  'MLP:n_hidden_layers': '1',\n",
      "  'MLP:nonlintype': 'relu',\n",
      "  'model': 'MLP',\n",
      "})\n",
      "\n",
      "Seed 0 budget 0.0\n",
      "100%|██████████| 200/200 [00:35<00:00,  5.62it/s]\n",
      "100%|██████████| 200/200 [00:36<00:00,  5.53it/s]\n",
      "100%|██████████| 200/200 [00:35<00:00,  5.64it/s]\n",
      "Model Score  0.2774585610464364\n",
      "Evaluating Cfg:\n",
      "Configuration(values={\n",
      "  'SINDy:poly_basis': 'false',\n",
      "  'SINDy:poly_cross_terms': 'false',\n",
      "  'SINDy:threshold': 4.200982477829958,\n",
      "  'SINDy:time_mode': 'discrete',\n",
      "  'SINDy:trig_basis': 'true',\n",
      "  'SINDy:trig_freq': 7,\n",
      "  'SINDy:trig_interaction': 'false',\n",
      "  'model': 'SINDy',\n",
      "})\n",
      "\n",
      "Seed 0 budget 0.0\n"
     ]
    },
    {
     "name": "stderr",
     "output_type": "stream",
     "text": [
      "/home/william/.local/lib/python3.8/site-packages/pysindy/optimizers/stlsq.py:144: UserWarning: Sparsity parameter is too big (4.200982477829958) and eliminated all coefficients\n",
      "  warnings.warn(\n",
      "/home/william/.local/lib/python3.8/site-packages/pysindy/optimizers/stlsq.py:144: UserWarning: Sparsity parameter is too big (4.200982477829958) and eliminated all coefficients\n",
      "  warnings.warn(\n",
      "/home/william/.local/lib/python3.8/site-packages/pysindy/optimizers/stlsq.py:144: UserWarning: Sparsity parameter is too big (4.200982477829958) and eliminated all coefficients\n",
      "  warnings.warn(\n",
      "  0%|          | 0/20 [00:00<?, ?it/s]"
     ]
    },
    {
     "name": "stdout",
     "output_type": "stream",
     "text": [
      "Model Score  25.688607727602932\n",
      "Evaluating Cfg:\n",
      "Configuration(values={\n",
      "  'ApproximateGPModel:induce_count': 184,\n",
      "  'ApproximateGPModel:learning_rate': 0.4687225762489687,\n",
      "  'model': 'ApproximateGPModel',\n",
      "})\n",
      "\n",
      "Seed 0 budget 0.0\n"
     ]
    },
    {
     "name": "stderr",
     "output_type": "stream",
     "text": [
      "100%|██████████| 20/20 [00:37<00:00,  1.87s/it]\n",
      "100%|██████████| 20/20 [00:54<00:00,  2.71s/it]\n",
      "100%|██████████| 20/20 [00:36<00:00,  1.83s/it]\n"
     ]
    },
    {
     "name": "stdout",
     "output_type": "stream",
     "text": [
      "Model Score  0.871392259007164\n",
      "Evaluating Cfg:\n",
      "Configuration(values={\n",
      "  'SINDy:poly_basis': 'false',\n",
      "  'SINDy:poly_cross_terms': 'false',\n",
      "  'SINDy:threshold': 0.00675137686413894,\n",
      "  'SINDy:time_mode': 'discrete',\n",
      "  'SINDy:trig_basis': 'false',\n",
      "  'model': 'SINDy',\n",
      "})\n",
      "\n",
      "Seed 0 budget 0.0\n",
      "Model Score  0.4058850993524265\n",
      "Evaluating Cfg:\n",
      "Configuration(values={\n",
      "  'SINDy:poly_basis': 'false',\n",
      "  'SINDy:poly_cross_terms': 'false',\n",
      "  'SINDy:threshold': 0.0059088211379807395,\n",
      "  'SINDy:time_mode': 'discrete',\n",
      "  'SINDy:trig_basis': 'false',\n",
      "  'model': 'SINDy',\n",
      "})\n",
      "\n",
      "Seed 0 budget 0.0\n"
     ]
    },
    {
     "name": "stderr",
     "output_type": "stream",
     "text": [
      "\r",
      "  0%|          | 0/20 [00:00<?, ?it/s]"
     ]
    },
    {
     "name": "stdout",
     "output_type": "stream",
     "text": [
      "Model Score  0.4058850993524265\n",
      "Evaluating Cfg:\n",
      "Configuration(values={\n",
      "  'ApproximateGPModel:induce_count': 149,\n",
      "  'ApproximateGPModel:learning_rate': 3.8276978817589553,\n",
      "  'model': 'ApproximateGPModel',\n",
      "})\n",
      "\n",
      "Seed 0 budget 0.0\n"
     ]
    },
    {
     "name": "stderr",
     "output_type": "stream",
     "text": [
      "100%|██████████| 20/20 [00:29<00:00,  1.48s/it]\n",
      "100%|██████████| 20/20 [00:29<00:00,  1.47s/it]\n",
      "100%|██████████| 20/20 [00:28<00:00,  1.44s/it]\n"
     ]
    },
    {
     "name": "stdout",
     "output_type": "stream",
     "text": [
      "Model Score  0.8805565932336279\n",
      "Evaluating Cfg:\n",
      "Configuration(values={\n",
      "  'ARX:history': 9,\n",
      "  'model': 'ARX',\n",
      "})\n",
      "\n",
      "Seed 0 budget 0.0\n"
     ]
    },
    {
     "name": "stderr",
     "output_type": "stream",
     "text": [
      "\r",
      "  0%|          | 0/20 [00:00<?, ?it/s]"
     ]
    },
    {
     "name": "stdout",
     "output_type": "stream",
     "text": [
      "Model Score  0.3100911513923534\n",
      "Evaluating Cfg:\n",
      "Configuration(values={\n",
      "  'ApproximateGPModel:induce_count': 84,\n",
      "  'ApproximateGPModel:learning_rate': 7.651132544194767,\n",
      "  'model': 'ApproximateGPModel',\n",
      "})\n",
      "\n",
      "Seed 0 budget 0.0\n"
     ]
    },
    {
     "name": "stderr",
     "output_type": "stream",
     "text": [
      "100%|██████████| 20/20 [00:21<00:00,  1.06s/it]\n",
      "100%|██████████| 20/20 [00:21<00:00,  1.05s/it]\n",
      "100%|██████████| 20/20 [00:21<00:00,  1.05s/it]\n"
     ]
    },
    {
     "name": "stdout",
     "output_type": "stream",
     "text": [
      "Model Score  2.8883752331384493\n",
      "Evaluating Cfg:\n",
      "Configuration(values={\n",
      "  'SINDy:poly_basis': 'true',\n",
      "  'SINDy:poly_cross_terms': 'false',\n",
      "  'SINDy:poly_degree': 2,\n",
      "  'SINDy:threshold': 0.042628729678011595,\n",
      "  'SINDy:time_mode': 'continuous',\n",
      "  'SINDy:trig_basis': 'false',\n",
      "  'model': 'SINDy',\n",
      "})\n",
      "\n",
      "Seed 0 budget 0.0\n",
      "Model Score  0.5368820655127569\n",
      "Evaluating Cfg:\n",
      "Configuration(values={\n",
      "  'Koopman:method': 'lstsq',\n",
      "  'Koopman:poly_basis': 'true',\n",
      "  'Koopman:poly_cross_terms': 'false',\n",
      "  'Koopman:poly_degree': 5,\n",
      "  'Koopman:trig_basis': 'false',\n",
      "  'model': 'Koopman',\n",
      "})\n",
      "\n",
      "Seed 0 budget 0.0\n",
      "Model Score  0.2993468385959732\n",
      "Evaluating Cfg:\n",
      "Configuration(values={\n",
      "  'ARX:history': 3,\n",
      "  'model': 'ARX',\n",
      "})\n",
      "\n",
      "Seed 0 budget 0.0\n",
      "Model Score  0.33168792439832406\n",
      "Evaluating Cfg:\n",
      "Configuration(values={\n",
      "  'SINDy:poly_basis': 'false',\n",
      "  'SINDy:poly_cross_terms': 'false',\n",
      "  'SINDy:threshold': 0.00782320367940905,\n",
      "  'SINDy:time_mode': 'discrete',\n",
      "  'SINDy:trig_basis': 'false',\n",
      "  'model': 'SINDy',\n",
      "})\n",
      "\n",
      "Seed 0 budget 0.0\n",
      "Model Score  0.4079660790957702\n",
      "Evaluating Cfg:\n",
      "Configuration(values={\n",
      "  'MLP:batchnorm': True,\n",
      "  'MLP:hidden_size_1': 130,\n",
      "  'MLP:hidden_size_2': 121,\n",
      "  'MLP:hidden_size_3': 96,\n",
      "  'MLP:lr': 0.00114456212069449,\n",
      "  'MLP:n_hidden_layers': '3',\n",
      "  'MLP:nonlintype': 'relu',\n",
      "  'model': 'MLP',\n",
      "})\n",
      "\n",
      "Seed 0 budget 0.0\n",
      "100%|██████████| 200/200 [01:54<00:00,  1.75it/s]\n",
      "100%|██████████| 200/200 [01:54<00:00,  1.75it/s]\n",
      "100%|██████████| 200/200 [01:52<00:00,  1.77it/s]\n",
      "Model Score  0.06414808737257663\n",
      "Evaluating Cfg:\n",
      "Configuration(values={\n",
      "  'SINDy:poly_basis': 'true',\n",
      "  'SINDy:poly_cross_terms': 'false',\n",
      "  'SINDy:poly_degree': 5,\n",
      "  'SINDy:threshold': 0.02985419926355017,\n",
      "  'SINDy:time_mode': 'continuous',\n",
      "  'SINDy:trig_basis': 'false',\n",
      "  'model': 'SINDy',\n",
      "})\n",
      "\n",
      "Seed 0 budget 0.0\n"
     ]
    },
    {
     "name": "stderr",
     "output_type": "stream",
     "text": [
      "/home/william/.local/lib/python3.8/site-packages/sklearn/linear_model/_ridge.py:147: LinAlgWarning: Ill-conditioned matrix (rcond=5.99706e-21): result may not be accurate.\n",
      "  return linalg.solve(A, Xy, sym_pos=True,\n",
      "/home/william/.local/lib/python3.8/site-packages/sklearn/linear_model/_ridge.py:147: LinAlgWarning: Ill-conditioned matrix (rcond=5.99706e-21): result may not be accurate.\n",
      "  return linalg.solve(A, Xy, sym_pos=True,\n",
      "/home/william/.local/lib/python3.8/site-packages/sklearn/linear_model/_ridge.py:147: LinAlgWarning: Ill-conditioned matrix (rcond=5.99706e-21): result may not be accurate.\n",
      "  return linalg.solve(A, Xy, sym_pos=True,\n",
      "/home/william/.local/lib/python3.8/site-packages/sklearn/linear_model/_ridge.py:147: LinAlgWarning: Ill-conditioned matrix (rcond=5.99706e-21): result may not be accurate.\n",
      "  return linalg.solve(A, Xy, sym_pos=True,\n",
      "/home/william/.local/lib/python3.8/site-packages/sklearn/linear_model/_ridge.py:147: LinAlgWarning: Ill-conditioned matrix (rcond=8.26989e-19): result may not be accurate.\n",
      "  return linalg.solve(A, Xy, sym_pos=True,\n",
      "/home/william/.local/lib/python3.8/site-packages/sklearn/linear_model/_ridge.py:147: LinAlgWarning: Ill-conditioned matrix (rcond=8.26989e-19): result may not be accurate.\n",
      "  return linalg.solve(A, Xy, sym_pos=True,\n",
      "/home/william/.local/lib/python3.8/site-packages/sklearn/linear_model/_ridge.py:147: LinAlgWarning: Ill-conditioned matrix (rcond=8.26989e-19): result may not be accurate.\n",
      "  return linalg.solve(A, Xy, sym_pos=True,\n",
      "/home/william/.local/lib/python3.8/site-packages/sklearn/linear_model/_ridge.py:147: LinAlgWarning: Ill-conditioned matrix (rcond=8.26989e-19): result may not be accurate.\n",
      "  return linalg.solve(A, Xy, sym_pos=True,\n",
      "/home/william/.local/lib/python3.8/site-packages/sklearn/linear_model/_ridge.py:147: LinAlgWarning: Ill-conditioned matrix (rcond=5.82472e-21): result may not be accurate.\n",
      "  return linalg.solve(A, Xy, sym_pos=True,\n",
      "/home/william/.local/lib/python3.8/site-packages/sklearn/linear_model/_ridge.py:147: LinAlgWarning: Ill-conditioned matrix (rcond=5.82472e-21): result may not be accurate.\n",
      "  return linalg.solve(A, Xy, sym_pos=True,\n",
      "/home/william/.local/lib/python3.8/site-packages/sklearn/linear_model/_ridge.py:147: LinAlgWarning: Ill-conditioned matrix (rcond=5.82472e-21): result may not be accurate.\n",
      "  return linalg.solve(A, Xy, sym_pos=True,\n",
      "/home/william/.local/lib/python3.8/site-packages/sklearn/linear_model/_ridge.py:147: LinAlgWarning: Ill-conditioned matrix (rcond=5.82472e-21): result may not be accurate.\n",
      "  return linalg.solve(A, Xy, sym_pos=True,\n"
     ]
    },
    {
     "name": "stdout",
     "output_type": "stream",
     "text": [
      "Model Score  0.4857157704375517\n",
      "Evaluating Cfg:\n",
      "Configuration(values={\n",
      "  'ARX:history': 2,\n",
      "  'model': 'ARX',\n",
      "})\n",
      "\n",
      "Seed 0 budget 0.0\n",
      "Model Score  0.3521399682756581\n",
      "Evaluating Cfg:\n",
      "Configuration(values={\n",
      "  'SINDy:poly_basis': 'true',\n",
      "  'SINDy:poly_cross_terms': 'false',\n",
      "  'SINDy:poly_degree': 5,\n",
      "  'SINDy:threshold': 0.0005956908742799845,\n",
      "  'SINDy:time_mode': 'discrete',\n",
      "  'SINDy:trig_basis': 'false',\n",
      "  'model': 'SINDy',\n",
      "})\n",
      "\n",
      "Seed 0 budget 0.0\n"
     ]
    },
    {
     "name": "stderr",
     "output_type": "stream",
     "text": [
      "/home/william/.local/lib/python3.8/site-packages/sklearn/linear_model/_ridge.py:147: LinAlgWarning: Ill-conditioned matrix (rcond=6.58651e-21): result may not be accurate.\n",
      "  return linalg.solve(A, Xy, sym_pos=True,\n",
      "/home/william/.local/lib/python3.8/site-packages/sklearn/linear_model/_ridge.py:147: LinAlgWarning: Ill-conditioned matrix (rcond=6.58651e-21): result may not be accurate.\n",
      "  return linalg.solve(A, Xy, sym_pos=True,\n",
      "/home/william/.local/lib/python3.8/site-packages/sklearn/linear_model/_ridge.py:147: LinAlgWarning: Ill-conditioned matrix (rcond=6.58651e-21): result may not be accurate.\n",
      "  return linalg.solve(A, Xy, sym_pos=True,\n",
      "/home/william/.local/lib/python3.8/site-packages/sklearn/linear_model/_ridge.py:147: LinAlgWarning: Ill-conditioned matrix (rcond=6.58651e-21): result may not be accurate.\n",
      "  return linalg.solve(A, Xy, sym_pos=True,\n",
      "/home/william/.local/lib/python3.8/site-packages/sklearn/linear_model/_ridge.py:147: LinAlgWarning: Ill-conditioned matrix (rcond=9.11396e-19): result may not be accurate.\n",
      "  return linalg.solve(A, Xy, sym_pos=True,\n",
      "/home/william/.local/lib/python3.8/site-packages/sklearn/linear_model/_ridge.py:147: LinAlgWarning: Ill-conditioned matrix (rcond=9.11396e-19): result may not be accurate.\n",
      "  return linalg.solve(A, Xy, sym_pos=True,\n",
      "/home/william/.local/lib/python3.8/site-packages/sklearn/linear_model/_ridge.py:147: LinAlgWarning: Ill-conditioned matrix (rcond=9.11396e-19): result may not be accurate.\n",
      "  return linalg.solve(A, Xy, sym_pos=True,\n",
      "/home/william/.local/lib/python3.8/site-packages/sklearn/linear_model/_ridge.py:147: LinAlgWarning: Ill-conditioned matrix (rcond=9.11396e-19): result may not be accurate.\n",
      "  return linalg.solve(A, Xy, sym_pos=True,\n",
      "/home/william/.local/lib/python3.8/site-packages/sklearn/linear_model/_ridge.py:147: LinAlgWarning: Ill-conditioned matrix (rcond=6.40356e-21): result may not be accurate.\n",
      "  return linalg.solve(A, Xy, sym_pos=True,\n",
      "/home/william/.local/lib/python3.8/site-packages/sklearn/linear_model/_ridge.py:147: LinAlgWarning: Ill-conditioned matrix (rcond=6.40356e-21): result may not be accurate.\n",
      "  return linalg.solve(A, Xy, sym_pos=True,\n",
      "/home/william/.local/lib/python3.8/site-packages/sklearn/linear_model/_ridge.py:147: LinAlgWarning: Ill-conditioned matrix (rcond=6.40356e-21): result may not be accurate.\n",
      "  return linalg.solve(A, Xy, sym_pos=True,\n",
      "/home/william/.local/lib/python3.8/site-packages/sklearn/linear_model/_ridge.py:147: LinAlgWarning: Ill-conditioned matrix (rcond=6.40356e-21): result may not be accurate.\n",
      "  return linalg.solve(A, Xy, sym_pos=True,\n",
      "  0%|          | 0/20 [00:00<?, ?it/s]"
     ]
    },
    {
     "name": "stdout",
     "output_type": "stream",
     "text": [
      "Model Score  0.2953834431503879\n",
      "Evaluating Cfg:\n",
      "Configuration(values={\n",
      "  'ApproximateGPModel:induce_count': 63,\n",
      "  'ApproximateGPModel:learning_rate': 7.710436231742622,\n",
      "  'model': 'ApproximateGPModel',\n",
      "})\n",
      "\n",
      "Seed 0 budget 0.0\n"
     ]
    },
    {
     "name": "stderr",
     "output_type": "stream",
     "text": [
      "100%|██████████| 20/20 [00:23<00:00,  1.18s/it]\n",
      "100%|██████████| 20/20 [00:23<00:00,  1.19s/it]\n",
      "100%|██████████| 20/20 [00:23<00:00,  1.17s/it]\n"
     ]
    },
    {
     "name": "stdout",
     "output_type": "stream",
     "text": [
      "Model Score  2.6737025599973925\n",
      "Evaluating Cfg:\n",
      "Configuration(values={\n",
      "  'SINDy:poly_basis': 'true',\n",
      "  'SINDy:poly_cross_terms': 'false',\n",
      "  'SINDy:poly_degree': 4,\n",
      "  'SINDy:threshold': 0.01690554050677585,\n",
      "  'SINDy:time_mode': 'discrete',\n",
      "  'SINDy:trig_basis': 'false',\n",
      "  'model': 'SINDy',\n",
      "})\n",
      "\n",
      "Seed 0 budget 0.0\n",
      "Model Score  0.40842180610817663\n",
      "Evaluating Cfg:\n",
      "Configuration(values={\n",
      "  'ARX:history': 1,\n",
      "  'model': 'ARX',\n",
      "})\n",
      "\n",
      "Seed 0 budget 0.0\n",
      "Model Score  0.4038456953831063\n",
      "Evaluating Cfg:\n",
      "Configuration(values={\n",
      "  'SINDy:poly_basis': 'false',\n",
      "  'SINDy:poly_cross_terms': 'false',\n",
      "  'SINDy:threshold': 0.11421382509102875,\n",
      "  'SINDy:time_mode': 'continuous',\n",
      "  'SINDy:trig_basis': 'true',\n",
      "  'SINDy:trig_freq': 6,\n",
      "  'SINDy:trig_interaction': 'false',\n",
      "  'model': 'SINDy',\n",
      "})\n",
      "\n",
      "Seed 0 budget 0.0\n",
      "Model Score  0.4543652751938683\n",
      "Evaluating Cfg:\n",
      "Configuration(values={\n",
      "  'SINDy:poly_basis': 'true',\n",
      "  'SINDy:poly_cross_terms': 'false',\n",
      "  'SINDy:poly_degree': 2,\n",
      "  'SINDy:threshold': 0.0263615570386236,\n",
      "  'SINDy:time_mode': 'discrete',\n",
      "  'SINDy:trig_basis': 'false',\n",
      "  'model': 'SINDy',\n",
      "})\n",
      "\n",
      "Seed 0 budget 0.0\n",
      "Model Score  0.4151108469330848\n",
      "Evaluating Cfg:\n",
      "Configuration(values={\n",
      "  'MLP:batchnorm': False,\n",
      "  'MLP:hidden_size_1': 111,\n",
      "  'MLP:hidden_size_2': 171,\n",
      "  'MLP:hidden_size_3': 236,\n",
      "  'MLP:lr': 4.174362979297543e-05,\n",
      "  'MLP:n_hidden_layers': '3',\n",
      "  'MLP:nonlintype': 'sigmoid',\n",
      "  'model': 'MLP',\n",
      "})\n",
      "\n",
      "Seed 0 budget 0.0\n",
      "100%|██████████| 200/200 [01:14<00:00,  2.68it/s]\n",
      "100%|██████████| 200/200 [01:14<00:00,  2.67it/s]\n",
      "100%|██████████| 200/200 [01:14<00:00,  2.68it/s]\n"
     ]
    },
    {
     "name": "stderr",
     "output_type": "stream",
     "text": [
      "\r",
      "  0%|          | 0/20 [00:00<?, ?it/s]"
     ]
    },
    {
     "name": "stdout",
     "output_type": "stream",
     "text": [
      "Model Score  0.41001310280072406\n",
      "Evaluating Cfg:\n",
      "Configuration(values={\n",
      "  'ApproximateGPModel:induce_count': 107,\n",
      "  'ApproximateGPModel:learning_rate': 3.1829749830504834,\n",
      "  'model': 'ApproximateGPModel',\n",
      "})\n",
      "\n",
      "Seed 0 budget 0.0\n"
     ]
    },
    {
     "name": "stderr",
     "output_type": "stream",
     "text": [
      "100%|██████████| 20/20 [00:23<00:00,  1.18s/it]\n",
      " 20%|██        | 4/20 [00:04<00:18,  1.18s/it]"
     ]
    }
   ],
   "source": [
    "from autompc.tuning import ModelTuner\n",
    "\n",
    "tuner = ModelTuner(system,trajs,verbose=1)\n",
    "print(\"Selecting from models\",\",\".join(model.name for model in tuner.model.models))\n",
    "tuned_model,tune_result = tuner.run(n_iters=200)\n",
    "\n",
    "print(\"Selected model:\",tuned_model.name)\n",
    "print(\"Final cross-validated RMSE score:\",tune_result.inc_costs[-1])"
   ]
  },
  {
   "cell_type": "markdown",
   "metadata": {},
   "source": [
    "You can customize the behavior of tuning by specifying which evaluation strategy we wish to use.  Possible options include splitting method (holdout vs cross-validation), which horizon to measure predictions upon, and what scoring metric to use.  By default, ModelTuner uses 3-fold cross-validation and one-step RMSE.\n",
    "\n",
    "Here's an example of customizing the evaluator to use with 10\\% holdout and the RMSE metric with a 5-step prediction horizon."
   ]
  },
  {
   "cell_type": "code",
   "execution_count": null,
   "metadata": {},
   "outputs": [],
   "source": [
    "tuner = ModelTuner(system,trajs,eval_holdout=0.1,eval_folds=1,eval_metric='rmse',eval_horizon=5)"
   ]
  },
  {
   "cell_type": "markdown",
   "metadata": {},
   "source": [
    "To customize behavior even further, we can use a `ModelEvaluator` class, which has various subclasses.  As an example, the HoldoutModelEvaluator is specified here.  The `evaluator` keyword to ModelTuner will specify an evaluator that overrides the default keyword arguments."
   ]
  },
  {
   "cell_type": "code",
   "execution_count": null,
   "metadata": {},
   "outputs": [],
   "source": [
    "from autompc.tuning import HoldoutModelEvaluator\n",
    "\n",
    "evaluator = HoldoutModelEvaluator(trajs, metric=\"rmse\", holdout_prop=0.1,\n",
    "                                  rng=np.random.default_rng(100), horizon=20)\n",
    "tuner = ModelTuner(system,trajs,evaluator=evaluator)"
   ]
  },
  {
   "cell_type": "markdown",
   "metadata": {},
   "source": [
    "## Specifying the Model Class\n",
    "\n",
    "In some cases we know which model class we wish to tune, and ModelTuner can also accept a specified class.  For example, we can consider the MLP model. Here we'll perform a much longer tuning run, so let this run for a few hours...\n",
    "\n",
    "**Alternatively, you can save/load the tuning data from a prior run by setting `dump=False` in the following cell, and skipping the tuning altogether.**"
   ]
  },
  {
   "cell_type": "code",
   "execution_count": null,
   "metadata": {
    "scrolled": true
   },
   "outputs": [],
   "source": [
    "from autompc.sysid import MLP\n",
    "\n",
    "tuner = ModelTuner(system,trajs,MLP(system),verbose=True)\n",
    "tuned_model, tune_result = tuner.run(n_iters=200,rng=np.random.default_rng(200))"
   ]
  },
  {
   "cell_type": "code",
   "execution_count": null,
   "metadata": {},
   "outputs": [],
   "source": [
    "import pickle\n",
    "\n",
    "#To dump tuning result, turn to True.  To load it, turn to False\n",
    "DUMP = False\n",
    "if DUMP:\n",
    "    with open('tuned_mlp_model.pkl','wb') as f:\n",
    "        pickle.dump(tuned_model,f)\n",
    "    with open('mlp_model_tuning_result.pkl','wb') as f:\n",
    "        pickle.dump(tune_result,f)\n",
    "else:\n",
    "    with open('tuned_mlp_model.pkl','rb') as f:\n",
    "        tuned_model = pickle.load(f)\n",
    "    with open('mlp_model_tuning_result.pkl','rb') as f:\n",
    "        tune_result = pickle.load(f)"
   ]
  },
  {
   "cell_type": "markdown",
   "metadata": {},
   "source": [
    "Let's check what configuration was selected by the tuner."
   ]
  },
  {
   "cell_type": "code",
   "execution_count": null,
   "metadata": {},
   "outputs": [],
   "source": [
    "tune_result.inc_cfg"
   ]
  },
  {
   "cell_type": "markdown",
   "metadata": {},
   "source": [
    "We see that the tuner selected a 2-layer MLP with `tanh` activations. "
   ]
  },
  {
   "cell_type": "markdown",
   "metadata": {},
   "source": [
    "Before we move on, let's note that another option is to specify a set of model classes to use. To do so we can use the AutoSelectModel class as the model as follows:"
   ]
  },
  {
   "cell_type": "code",
   "execution_count": null,
   "metadata": {},
   "outputs": [],
   "source": [
    "from autompc.sysid import SINDy\n",
    "from autompc.sysid import AutoSelectModel\n",
    "\n",
    "selector = AutoSelectModel(system,[MLP(system),SINDy(system)])\n",
    "tuner = ModelTuner(system,trajs,model=selector)"
   ]
  },
  {
   "cell_type": "markdown",
   "metadata": {},
   "source": [
    "## Visualizing the Results\n",
    "\n",
    "We can now visualize the tuning results.  First, we will plot the tuning curve.  This shows the holdout set performance of the best-known model at different points over the course of the tuning process."
   ]
  },
  {
   "cell_type": "code",
   "execution_count": null,
   "metadata": {},
   "outputs": [],
   "source": [
    "%matplotlib inline\n",
    "\n",
    "from autompc.graphs import plot_tuning_curve,plot_tuning_correlations\n",
    "import matplotlib.pyplot as plt\n",
    "\n",
    "plot_tuning_curve(tune_result)\n",
    "plt.title(\"Cart-Pole Tuning Curve\")\n",
    "plt.show()"
   ]
  },
  {
   "cell_type": "code",
   "execution_count": null,
   "metadata": {},
   "outputs": [],
   "source": [
    "tune_result.cfgs"
   ]
  },
  {
   "cell_type": "code",
   "execution_count": null,
   "metadata": {},
   "outputs": [],
   "source": [
    "import pickle\n",
    "\n",
    "with open(\"2022-09-25_cartpole_tune_result.pkl\", \"wb\") as f:\n",
    "    pickle.dump(tune_result, f)"
   ]
  },
  {
   "cell_type": "markdown",
   "metadata": {},
   "source": [
    "To further study the tuning, we can examine how the cost correlates with various hyperparameter settings using the `plot_tuning_correlations` function."
   ]
  },
  {
   "cell_type": "code",
   "execution_count": null,
   "metadata": {},
   "outputs": [],
   "source": [
    "fig,(ax1,ax2,ax3)=plt.subplots(1,3,figsize=(15,4))\n",
    "plot_tuning_correlations(tune_result,'lr',ax=ax1)\n",
    "plot_tuning_correlations(tune_result,'n_hidden_layers',ax=ax2)\n",
    "plot_tuning_correlations(tune_result,'nonlintype',ax=ax3)\n",
    "ax1.set_ylim(0,1.5)\n",
    "ax2.set_ylim(0,1.5)\n",
    "ax3.set_ylim(0,3.0)\n",
    "ax3.set_title('nonlintype')\n",
    "plt.plot()"
   ]
  },
  {
   "cell_type": "markdown",
   "metadata": {},
   "source": [
    "Next, we can compare the performance of our tuned model to the default MLP configuration.  We will generate a fresh dataset for testing and compare over multiple prediction horizons.  For more details on how to do this comparison, see [2. Models]."
   ]
  },
  {
   "cell_type": "code",
   "execution_count": null,
   "metadata": {},
   "outputs": [],
   "source": [
    "untuned_model = MLP(system)\n",
    "untuned_model.train(trajs)\n",
    "\n",
    "testing_set = benchmark.gen_trajs(seed=101, n_trajs=100, traj_len=200)\n",
    "\n",
    "from autompc.graphs.kstep_graph import KstepPredAccGraph\n",
    "\n",
    "graph = KstepPredAccGraph(system, testing_set, kmax=20, metric=\"rmse\")\n",
    "graph.add_model(untuned_model, \"Untuned MLP\")\n",
    "graph.add_model(tuned_model, \"Tuned Model (MLP)\")\n",
    "\n",
    "fig = plt.figure()\n",
    "ax = fig.gca()\n",
    "graph(fig, ax)\n",
    "ax.set_title(\"Model prediction accuracy on test set\")\n",
    "plt.show()"
   ]
  },
  {
   "cell_type": "markdown",
   "metadata": {},
   "source": [
    "As we can see, the tuned model outperforms the untuned model on the unseen dataset at all prediction horizons."
   ]
  },
  {
   "cell_type": "code",
   "execution_count": null,
   "metadata": {},
   "outputs": [],
   "source": [
    "graph = KstepPredAccGraph(system, trajs, kmax=20, metric=\"rmse\")\n",
    "graph.add_model(untuned_model, \"Untuned MLP\")\n",
    "graph.add_model(tuned_model, \"Tuned Model (MLP)\")\n",
    "\n",
    "fig = plt.figure()\n",
    "ax = fig.gca()\n",
    "graph(fig, ax)\n",
    "ax.set_title(\"Model prediction accuracy on training set\")\n",
    "plt.show()"
   ]
  },
  {
   "cell_type": "code",
   "execution_count": null,
   "metadata": {},
   "outputs": [],
   "source": []
  }
 ],
 "metadata": {
  "kernelspec": {
   "display_name": "Python 3",
   "language": "python",
   "name": "python3"
  },
  "language_info": {
   "codemirror_mode": {
    "name": "ipython",
    "version": 3
   },
   "file_extension": ".py",
   "mimetype": "text/x-python",
   "name": "python",
   "nbconvert_exporter": "python",
   "pygments_lexer": "ipython3",
   "version": "3.8.9"
  },
  "latex_envs": {
   "LaTeX_envs_menu_present": true,
   "autoclose": false,
   "autocomplete": false,
   "bibliofile": "biblio.bib",
   "cite_by": "apalike",
   "current_citInitial": 1,
   "eqLabelWithNumbers": true,
   "eqNumInitial": 1,
   "hotkeys": {
    "equation": "Ctrl-E",
    "itemize": "Ctrl-I"
   },
   "labels_anchors": false,
   "latex_user_defs": false,
   "report_style_numbering": false,
   "user_envs_cfg": false
  },
  "toc": {
   "base_numbering": 1,
   "nav_menu": {},
   "number_sections": true,
   "sideBar": true,
   "skip_h1_title": false,
   "title_cell": "Table of Contents",
   "title_sidebar": "Contents",
   "toc_cell": false,
   "toc_position": {},
   "toc_section_display": true,
   "toc_window_display": false
  }
 },
 "nbformat": 4,
 "nbformat_minor": 4
}
