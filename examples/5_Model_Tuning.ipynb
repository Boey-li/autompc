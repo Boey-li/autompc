{
 "cells": [
  {
   "cell_type": "markdown",
   "metadata": {},
   "source": [
    "# Model Tuning\n",
    "\n",
    "This notebook will demonstate how to automatically tune model hyperparameters for predictions accuracy.\n",
    "\n",
    "## Set-Up\n",
    "We will begin with some imports"
   ]
  },
  {
   "cell_type": "code",
   "execution_count": 1,
   "metadata": {},
   "outputs": [
    {
     "name": "stdout",
     "output_type": "stream",
     "text": [
      "Loading AutoMPC...\n",
      "Finished loading AutoMPC\n"
     ]
    }
   ],
   "source": [
    "import autompc as ampc\n",
    "import numpy as np"
   ]
  },
  {
   "cell_type": "markdown",
   "metadata": {},
   "source": [
    "And we will then generate some training data using the benchmark."
   ]
  },
  {
   "cell_type": "code",
   "execution_count": 2,
   "metadata": {},
   "outputs": [],
   "source": [
    "from autompc.benchmarks import CartpoleSwingupBenchmark\n",
    "\n",
    "benchmark = CartpoleSwingupBenchmark()\n",
    "\n",
    "system = benchmark.system\n",
    "trajs = benchmark.gen_trajs(seed=100, n_trajs=500, traj_len=200)"
   ]
  },
  {
   "cell_type": "markdown",
   "metadata": {},
   "source": [
    "## Tuning\n",
    "\n",
    "First, we create an evaluator instance.  The evaluator determines what strategy should be used for partitioning data (i.e. holdout, cross-validation, etc.) and what scoring metric to use.  Here we use an evaluator with 10\\% holdout and the RMSE metric."
   ]
  },
  {
   "cell_type": "code",
   "execution_count": 3,
   "metadata": {},
   "outputs": [],
   "source": [
    "from autompc.evaluation import HoldoutModelEvaluator\n",
    "\n",
    "evaluator = HoldoutModelEvaluator(system, metric=\"rmse\", holdout_prop=0.1, trajs=trajs,\n",
    "                                  rng=np.random.default_rng(100))"
   ]
  },
  {
   "cell_type": "markdown",
   "metadata": {},
   "source": [
    "We can now create our model tuner class and add the models we wish to consider.  Here, we will consider the SINDy and MLP models."
   ]
  },
  {
   "cell_type": "code",
   "execution_count": 4,
   "metadata": {},
   "outputs": [
    {
     "name": "stderr",
     "output_type": "stream",
     "text": [
      "/usr/lib/python3/dist-packages/pyparsing.py:1745: FutureWarning: Possible set intersection at position 3\n",
      "  self.re = re.compile( self.reString )\n"
     ]
    }
   ],
   "source": [
    "from autompc.tuning import ModelTuner\n",
    "from autompc.sysid import SINDy, MLP\n",
    "\n",
    "tuner = ModelTuner(system, evaluator)\n",
    "tuner.add_model(SINDy(system))\n",
    "tuner.add_model(MLP(system))"
   ]
  },
  {
   "cell_type": "markdown",
   "metadata": {},
   "source": [
    "Now, we can run the tuner to automatically search the hyperparameter space!"
   ]
  },
  {
   "cell_type": "code",
   "execution_count": 5,
   "metadata": {},
   "outputs": [
    {
     "name": "stdout",
     "output_type": "stream",
     "text": [
      "Evaluating Cfg:\n",
      "Configuration:\n",
      "  _MLP:hidden_size_1, Value: 19\n",
      "  _MLP:hidden_size_2, Value: 210\n",
      "  _MLP:lr, Value: 0.025269038206003618\n",
      "  _MLP:n_hidden_layers, Value: '2'\n",
      "  _MLP:nonlintype, Value: 'relu'\n",
      "  model, Value: 'MLP'\n",
      "\n",
      "100%|██████████| 50/50 [02:22<00:00,  2.84s/it]\n",
      "Model Score  0.10740197331640083\n",
      "Evaluating Cfg:\n",
      "Configuration:\n",
      "  _SINDy:poly_basis, Value: 'true'\n",
      "  _SINDy:poly_cross_terms, Value: 'false'\n",
      "  _SINDy:poly_degree, Value: 6\n",
      "  _SINDy:threshold, Value: 4.8829677609366915e-05\n",
      "  _SINDy:time_mode, Value: 'continuous'\n",
      "  _SINDy:trig_basis, Value: 'true'\n",
      "  _SINDy:trig_freq, Value: 1\n",
      "  _SINDy:trig_interaction, Value: 'false'\n",
      "  model, Value: 'SINDy'\n",
      "\n"
     ]
    },
    {
     "name": "stderr",
     "output_type": "stream",
     "text": [
      "/home/william/.local/lib/python3.8/site-packages/sklearn/linear_model/_ridge.py:147: LinAlgWarning: Ill-conditioned matrix (rcond=7.1859e-26): result may not be accurate.\n",
      "  return linalg.solve(A, Xy, sym_pos=True,\n",
      "/home/william/.local/lib/python3.8/site-packages/sklearn/linear_model/_ridge.py:147: LinAlgWarning: Ill-conditioned matrix (rcond=7.1859e-26): result may not be accurate.\n",
      "  return linalg.solve(A, Xy, sym_pos=True,\n",
      "/home/william/.local/lib/python3.8/site-packages/sklearn/linear_model/_ridge.py:147: LinAlgWarning: Ill-conditioned matrix (rcond=7.1859e-26): result may not be accurate.\n",
      "  return linalg.solve(A, Xy, sym_pos=True,\n",
      "/home/william/.local/lib/python3.8/site-packages/sklearn/linear_model/_ridge.py:147: LinAlgWarning: Ill-conditioned matrix (rcond=7.1859e-26): result may not be accurate.\n",
      "  return linalg.solve(A, Xy, sym_pos=True,\n"
     ]
    },
    {
     "name": "stdout",
     "output_type": "stream",
     "text": [
      "Model Score  0.46276534029582395\n",
      "100%|██████████| 50/50 [02:39<00:00,  3.20s/it]\n"
     ]
    }
   ],
   "source": [
    "tuned_model, tune_result = tuner.run(n_iters=2, rng=np.random.default_rng(100))"
   ]
  },
  {
   "cell_type": "code",
   "execution_count": 7,
   "metadata": {},
   "outputs": [
    {
     "data": {
      "text/plain": [
       "<autompc.sysid.mlp.MLP at 0x7f0359cd3790>"
      ]
     },
     "execution_count": 7,
     "metadata": {},
     "output_type": "execute_result"
    }
   ],
   "source": []
  },
  {
   "cell_type": "code",
   "execution_count": null,
   "metadata": {},
   "outputs": [],
   "source": []
  }
 ],
 "metadata": {
  "kernelspec": {
   "display_name": "Python 3",
   "language": "python",
   "name": "python3"
  },
  "language_info": {
   "codemirror_mode": {
    "name": "ipython",
    "version": 3
   },
   "file_extension": ".py",
   "mimetype": "text/x-python",
   "name": "python",
   "nbconvert_exporter": "python",
   "pygments_lexer": "ipython3",
   "version": "3.8.9"
  }
 },
 "nbformat": 4,
 "nbformat_minor": 4
}
