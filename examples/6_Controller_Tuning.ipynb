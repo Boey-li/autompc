{
 "cells": [
  {
   "cell_type": "markdown",
   "metadata": {},
   "source": [
    "# Model Tuning\n",
    "\n",
    "This notebook will demonstate how to automatically tune model hyperparameters for predictions accuracy.\n",
    "\n",
    "## Set-Up\n",
    "We will begin with some imports"
   ]
  },
  {
   "cell_type": "code",
   "execution_count": 1,
   "metadata": {},
   "outputs": [
    {
     "name": "stdout",
     "output_type": "stream",
     "text": [
      "Loading AutoMPC...\n",
      "Finished loading AutoMPC\n"
     ]
    }
   ],
   "source": [
    "import autompc as ampc\n",
    "import numpy as np"
   ]
  },
  {
   "cell_type": "markdown",
   "metadata": {},
   "source": [
    "And we will then generate some training data using the benchmark."
   ]
  },
  {
   "cell_type": "code",
   "execution_count": 2,
   "metadata": {},
   "outputs": [],
   "source": [
    "from autompc.benchmarks import CartpoleSwingupV2Benchmark\n",
    "\n",
    "benchmark = CartpoleSwingupV2Benchmark()\n",
    "\n",
    "system = benchmark.system\n",
    "trajs = benchmark.gen_trajs(seed=100, n_trajs=500, traj_len=200)"
   ]
  },
  {
   "cell_type": "markdown",
   "metadata": {},
   "source": [
    "## Creating the Task\n",
    "\n",
    "The first things we need to do is create a Task.  The Task object encapsulates all the information the tuner needs to evaluate controllers.  The Task includes an OCP, as well as additional information such as the initial and termination conditions.\n",
    "\n",
    "Let's create an OCP using the ThresholdCost and add relevant control bounds."
   ]
  },
  {
   "cell_type": "code",
   "execution_count": 3,
   "metadata": {},
   "outputs": [],
   "source": [
    "from autompc.costs import ThresholdCost\n",
    "\n",
    "ocp = ampc.OCP(system)\n",
    "ocp.set_cost(ThresholdCost(system, goal=np.zeros(system.obs_dim), threshold=0.2, observations=[\"theta\", \"omega\"]))\n",
    "ocp.set_ctrl_bound(\"u\", -20.0, 20.0)"
   ]
  },
  {
   "cell_type": "markdown",
   "metadata": {},
   "source": [
    "Next, we create the Task, associating it with the OCP and other relevant information"
   ]
  },
  {
   "cell_type": "code",
   "execution_count": 4,
   "metadata": {},
   "outputs": [],
   "source": [
    "task = ampc.Task(system)\n",
    "task.set_ocp(ocp)\n",
    "task.set_init_obs(np.array([np.pi, 0.0, 0.0, 0.0]))\n",
    "task.set_num_steps(200)"
   ]
  },
  {
   "cell_type": "markdown",
   "metadata": {},
   "source": [
    "## Setting Up a Controller\n",
    "\n",
    "First, we need to create the controller to be tuned.  We can give the controller several options for the model and optimizer.  The tuner will automatically select between these.  We also add an OCP Factory, which allows the tuner to construct a new OCP with tuned weights."
   ]
  },
  {
   "cell_type": "code",
   "execution_count": 5,
   "metadata": {},
   "outputs": [],
   "source": [
    "from autompc.sysid import MLP, SINDy\n",
    "from autompc.optim import IterativeLQR, MPPI\n",
    "from autompc.ocp import QuadCostTransformer\n",
    "\n",
    "controller = ampc.Controller(system)\n",
    "controller.set_model(MLP(system))\n",
    "#controller.add_model(SINDy(system))\n",
    "controller.set_optimizer(IterativeLQR(system))\n",
    "#controller.add_optimizer(MPPI(system))\n",
    "controller.set_ocp_transformer(QuadCostTransformer(system))"
   ]
  },
  {
   "cell_type": "markdown",
   "metadata": {},
   "source": [
    "We can see that this gives a joint configuration space over all algorithm options.  This defines the search space for the tuner."
   ]
  },
  {
   "cell_type": "code",
   "execution_count": 6,
   "metadata": {},
   "outputs": [
    {
     "data": {
      "text/plain": [
       "Configuration space object:\n",
       "  Hyperparameters:\n",
       "    IterativeLQR:frequency, Type: UniformInteger, Range: [1, 5], Default: 1\n",
       "    IterativeLQR:horizon, Type: UniformInteger, Range: [5, 25], Default: 20\n",
       "    IterativeLQR:max_iter, Type: UniformInteger, Range: [10, 50], Default: 20\n",
       "    MLP:batchnorm, Type: Categorical, Choices: {False, True}, Default: False\n",
       "    MLP:hidden_size_1, Type: UniformInteger, Range: [16, 256], Default: 128\n",
       "    MLP:hidden_size_2, Type: UniformInteger, Range: [16, 256], Default: 128\n",
       "    MLP:hidden_size_3, Type: UniformInteger, Range: [16, 256], Default: 128\n",
       "    MLP:hidden_size_4, Type: UniformInteger, Range: [16, 256], Default: 128\n",
       "    MLP:lr, Type: UniformFloat, Range: [1e-05, 1.0], Default: 0.001, on log-scale\n",
       "    MLP:n_hidden_layers, Type: Categorical, Choices: {1, 2, 3, 4}, Default: 2\n",
       "    MLP:nonlintype, Type: Categorical, Choices: {relu, tanh, sigmoid, selu}, Default: relu\n",
       "    QuadCostTransformer:dx_F, Type: UniformFloat, Range: [0.001, 10000.0], Default: 1.0, on log-scale\n",
       "    QuadCostTransformer:dx_Q, Type: UniformFloat, Range: [0.001, 10000.0], Default: 1.0, on log-scale\n",
       "    QuadCostTransformer:omega_F, Type: UniformFloat, Range: [0.001, 10000.0], Default: 1.0, on log-scale\n",
       "    QuadCostTransformer:omega_Q, Type: UniformFloat, Range: [0.001, 10000.0], Default: 1.0, on log-scale\n",
       "    QuadCostTransformer:theta_F, Type: UniformFloat, Range: [0.001, 10000.0], Default: 1.0, on log-scale\n",
       "    QuadCostTransformer:theta_Q, Type: UniformFloat, Range: [0.001, 10000.0], Default: 1.0, on log-scale\n",
       "    QuadCostTransformer:u_R, Type: UniformFloat, Range: [0.001, 10000.0], Default: 1.0, on log-scale\n",
       "    QuadCostTransformer:x_F, Type: UniformFloat, Range: [0.001, 10000.0], Default: 1.0, on log-scale\n",
       "    QuadCostTransformer:x_Q, Type: UniformFloat, Range: [0.001, 10000.0], Default: 1.0, on log-scale\n",
       "    constraint_transformer, Type: Categorical, Choices: {_}, Default: _\n",
       "    cost_transformer, Type: Categorical, Choices: {QuadCostTransformer, _}, Default: QuadCostTransformer\n",
       "    model, Type: Categorical, Choices: {MLP}, Default: MLP\n",
       "    optimizer, Type: Categorical, Choices: {IterativeLQR}, Default: IterativeLQR\n",
       "  Conditions:\n",
       "    IterativeLQR:frequency | optimizer == 'IterativeLQR'\n",
       "    IterativeLQR:horizon | optimizer == 'IterativeLQR'\n",
       "    IterativeLQR:max_iter | optimizer == 'IterativeLQR'\n",
       "    MLP:batchnorm | model == 'MLP'\n",
       "    MLP:hidden_size_1 | model == 'MLP'\n",
       "    MLP:hidden_size_2 | MLP:n_hidden_layers in {'2', '3', '4'}\n",
       "    MLP:hidden_size_3 | MLP:n_hidden_layers in {'3', '4'}\n",
       "    MLP:hidden_size_4 | MLP:n_hidden_layers in {'4'}\n",
       "    MLP:lr | model == 'MLP'\n",
       "    MLP:n_hidden_layers | model == 'MLP'\n",
       "    MLP:nonlintype | model == 'MLP'\n",
       "    QuadCostTransformer:dx_F | cost_transformer == 'QuadCostTransformer'\n",
       "    QuadCostTransformer:dx_Q | cost_transformer == 'QuadCostTransformer'\n",
       "    QuadCostTransformer:omega_F | cost_transformer == 'QuadCostTransformer'\n",
       "    QuadCostTransformer:omega_Q | cost_transformer == 'QuadCostTransformer'\n",
       "    QuadCostTransformer:theta_F | cost_transformer == 'QuadCostTransformer'\n",
       "    QuadCostTransformer:theta_Q | cost_transformer == 'QuadCostTransformer'\n",
       "    QuadCostTransformer:u_R | cost_transformer == 'QuadCostTransformer'\n",
       "    QuadCostTransformer:x_F | cost_transformer == 'QuadCostTransformer'\n",
       "    QuadCostTransformer:x_Q | cost_transformer == 'QuadCostTransformer'"
      ]
     },
     "execution_count": 6,
     "metadata": {},
     "output_type": "execute_result"
    }
   ],
   "source": [
    "controller.get_config_space()"
   ]
  },
  {
   "cell_type": "markdown",
   "metadata": {},
   "source": [
    "## Creating the Tuner\n",
    "\n",
    "Next, we will create a `ControlTuner`, which will search the joint controller configuration space.  The `ControlTuner` evaluates controller configurations by simulating them against a learned surrogate model.  There are a few options we can choose for how to construct the surrogate model.  Here we set the surrogate mode to `default`, which means the `ControlTuner` will learn the surrogate model according to the default configuration of a given model.  We then pass an `MLP` instance as the surrogate model to be trained and set the `surrogate_split` to 0.5.  Which means half the trajectories will be used for training the surrogate model, and half for training the controller.  Finally, we specify an `output_dir` where AutoMPC will store intermediate and output files.  If the output directory is not specified, AutoMPC will automatically create one in the current working directory."
   ]
  },
  {
   "cell_type": "code",
   "execution_count": 7,
   "metadata": {},
   "outputs": [],
   "source": [
    "from autompc.tuning import ControlTuner\n",
    "from autompc.sysid import MLP\n",
    "\n",
    "tuner = ControlTuner(tuning_mode=\"default\", surrogate=MLP(system), surrogate_split=0.5)"
   ]
  },
  {
   "cell_type": "markdown",
   "metadata": {},
   "source": [
    "Another important surrogate mode to be aware of is `autoselect`.  This mode will automatically tune and select the surrogate model before tuning the controller.  This is a great option if you are not sure which model will work well, but it will take significantly longer to run."
   ]
  },
  {
   "cell_type": "markdown",
   "metadata": {},
   "source": [
    "## Running the Tuner\n",
    "\n",
    "Now, we can run the tuner.  We pass the `Controller` to be tuned, the `Task` which specifies the tuning objective, and the trajectory set, which will be randomly partitioned into a surrogate training set and a controller training set.  Additional arguments include\n",
    " * **n_iters** : The number of configurations to evalute during tuning.\n",
    " * **rng** : Numpy random number generator\n",
    " * **output_dir** : AutoMPC output and intermediary files are stored here.  If not specified, a directory is automatically created in the current workdir.\n",
    " * **truedyn** : For benchmarking purposes, we can pass a function which computes the true dynamics, so we can evalaute the accuracy of the surrogate model in measuring controller performance.\n",
    " \n",
    " The tuner returns the tuned controller, and a `ControlTunerResult` instance which stores information about the tuning run."
   ]
  },
  {
   "cell_type": "code",
   "execution_count": 8,
   "metadata": {},
   "outputs": [
    {
     "name": "stderr",
     "output_type": "stream",
     "text": [
      "INFO:smac.utils.io.cmd_reader.CMDReader:Output to smac3-output_2022-07-24_02:28:41_935779\n",
      "INFO:smac.facade.smac_hpo_facade.SMAC4HPO:Optimizing a deterministic scenario for quality without a tuner timeout - will make SMAC deterministic and only evaluate one configuration per iteration!\n",
      "INFO:smac.initial_design.sobol_design.SobolDesign:Running initial design for 1 configurations\n",
      "INFO:smac.facade.smac_hpo_facade.SMAC4HPO:<class 'smac.facade.smac_hpo_facade.SMAC4HPO'>\n",
      "INFO:smac.optimizer.smbo.SMBO:Running initial design\n",
      "INFO:smac.intensification.intensification.Intensifier:First run, no incumbent provided; challenger is assumed to be the incumbent\n"
     ]
    },
    {
     "name": "stdout",
     "output_type": "stream",
     "text": [
      "------------------------------------------------------------------\n",
      "Beginning surrogate tuning with model class MLP\n",
      "------------------------------------------------------------------\n",
      " 53%|█████▎    | 106/200 [03:04<02:43,  1.74s/it]"
     ]
    },
    {
     "name": "stderr",
     "output_type": "stream",
     "text": [
      "INFO:smac.stats.stats.Stats:##########################################################\n",
      "INFO:smac.stats.stats.Stats:Statistics:\n",
      "INFO:smac.stats.stats.Stats:#Incumbent changed: -1\n",
      "INFO:smac.stats.stats.Stats:#Submitted target algorithm runs: 0 / 2.0\n",
      "INFO:smac.stats.stats.Stats:#Finished target algorithm runs: 0 / 2.0\n",
      "INFO:smac.stats.stats.Stats:#Configurations: 0\n",
      "INFO:smac.stats.stats.Stats:Used wallclock time: 185.78 / inf sec \n",
      "INFO:smac.stats.stats.Stats:Used target algorithm runtime: 0.00 / inf sec\n",
      "INFO:smac.stats.stats.Stats:##########################################################\n",
      "INFO:smac.facade.smac_hpo_facade.SMAC4HPO:Final Incumbent: None\n"
     ]
    },
    {
     "name": "stdout",
     "output_type": "stream",
     "text": [
      "\n"
     ]
    },
    {
     "ename": "KeyboardInterrupt",
     "evalue": "",
     "output_type": "error",
     "traceback": [
      "\u001b[0;31m---------------------------------------------------------------------------\u001b[0m",
      "\u001b[0;31mKeyboardInterrupt\u001b[0m                         Traceback (most recent call last)",
      "\u001b[1;32m/home/dohun/Repos/autompc/examples/6_Controller_Tuning.ipynb Cell 17'\u001b[0m in \u001b[0;36m<cell line: 1>\u001b[0;34m()\u001b[0m\n\u001b[0;32m----> <a href='vscode-notebook-cell:/home/dohun/Repos/autompc/examples/6_Controller_Tuning.ipynb#ch0000016?line=0'>1</a>\u001b[0m tuned_controller, tune_result \u001b[39m=\u001b[39m tuner\u001b[39m.\u001b[39;49mrun(\n\u001b[1;32m      <a href='vscode-notebook-cell:/home/dohun/Repos/autompc/examples/6_Controller_Tuning.ipynb#ch0000016?line=1'>2</a>\u001b[0m     controller,\n\u001b[1;32m      <a href='vscode-notebook-cell:/home/dohun/Repos/autompc/examples/6_Controller_Tuning.ipynb#ch0000016?line=2'>3</a>\u001b[0m     task,\n\u001b[1;32m      <a href='vscode-notebook-cell:/home/dohun/Repos/autompc/examples/6_Controller_Tuning.ipynb#ch0000016?line=3'>4</a>\u001b[0m     trajs,\n\u001b[1;32m      <a href='vscode-notebook-cell:/home/dohun/Repos/autompc/examples/6_Controller_Tuning.ipynb#ch0000016?line=4'>5</a>\u001b[0m     n_iters\u001b[39m=\u001b[39;49m\u001b[39m2\u001b[39;49m,\n\u001b[1;32m      <a href='vscode-notebook-cell:/home/dohun/Repos/autompc/examples/6_Controller_Tuning.ipynb#ch0000016?line=5'>6</a>\u001b[0m     surrogate_tune_iters\u001b[39m=\u001b[39;49m\u001b[39m2\u001b[39;49m,\n\u001b[1;32m      <a href='vscode-notebook-cell:/home/dohun/Repos/autompc/examples/6_Controller_Tuning.ipynb#ch0000016?line=6'>7</a>\u001b[0m     rng\u001b[39m=\u001b[39;49mnp\u001b[39m.\u001b[39;49mrandom\u001b[39m.\u001b[39;49mdefault_rng(\u001b[39m100\u001b[39;49m),\n\u001b[1;32m      <a href='vscode-notebook-cell:/home/dohun/Repos/autompc/examples/6_Controller_Tuning.ipynb#ch0000016?line=7'>8</a>\u001b[0m     output_dir\u001b[39m=\u001b[39;49m\u001b[39m\"\u001b[39;49m\u001b[39m6_controller_tuning_example_output/\u001b[39;49m\u001b[39m\"\u001b[39;49m,\n\u001b[1;32m      <a href='vscode-notebook-cell:/home/dohun/Repos/autompc/examples/6_Controller_Tuning.ipynb#ch0000016?line=8'>9</a>\u001b[0m     truedyn\u001b[39m=\u001b[39;49mbenchmark\u001b[39m.\u001b[39;49mdynamics\n\u001b[1;32m     <a href='vscode-notebook-cell:/home/dohun/Repos/autompc/examples/6_Controller_Tuning.ipynb#ch0000016?line=9'>10</a>\u001b[0m )\n",
      "File \u001b[0;32m~/Repos/autompc/autompc/tuning/control_tuner.py:492\u001b[0m, in \u001b[0;36mControlTuner.run\u001b[0;34m(self, controller, tasks, trajs, n_iters, rng, truedyn, surrogate_tune_iters, eval_timeout, output_dir, restore_dir, save_all_controllers, use_default_initial_design, debug_return_evaluator, max_eval_jobs)\u001b[0m\n\u001b[1;32m    490\u001b[0m controller \u001b[39m=\u001b[39m controller\u001b[39m.\u001b[39mclone()\n\u001b[1;32m    491\u001b[0m controller\u001b[39m.\u001b[39mset_ocp(tasks[\u001b[39m0\u001b[39m]\u001b[39m.\u001b[39mget_ocp())\n\u001b[0;32m--> 492\u001b[0m tuning_data \u001b[39m=\u001b[39m \u001b[39mself\u001b[39;49m\u001b[39m.\u001b[39;49m_get_tuning_data(controller, tasks, trajs, truedyn, rng, surrogate_tune_iters)\n\u001b[1;32m    493\u001b[0m \u001b[39mwith\u001b[39;00m \u001b[39mopen\u001b[39m(os\u001b[39m.\u001b[39mpath\u001b[39m.\u001b[39mjoin(run_dir, \u001b[39m\"\u001b[39m\u001b[39mtuning_data.pkl\u001b[39m\u001b[39m\"\u001b[39m), \u001b[39m\"\u001b[39m\u001b[39mwb\u001b[39m\u001b[39m\"\u001b[39m) \u001b[39mas\u001b[39;00m f:\n\u001b[1;32m    494\u001b[0m     pickle\u001b[39m.\u001b[39mdump(tuning_data, f)\n",
      "File \u001b[0;32m~/Repos/autompc/autompc/tuning/control_tuner.py:265\u001b[0m, in \u001b[0;36mControlTuner._get_tuning_data\u001b[0;34m(self, controller, task, trajs, truedyn, rng, surrogate_tune_iters)\u001b[0m\n\u001b[1;32m    262\u001b[0m \u001b[39mprint\u001b[39m(\u001b[39m\"\u001b[39m\u001b[39m------------------------------------------------------------------\u001b[39m\u001b[39m\"\u001b[39m)\n\u001b[1;32m    263\u001b[0m tuner \u001b[39m=\u001b[39m ModelTuner(controller\u001b[39m.\u001b[39msystem, surr_trajs, surrogate, eval_holdout\u001b[39m=\u001b[39m\u001b[39mself\u001b[39m\u001b[39m.\u001b[39msurrogate_tune_holdout, eval_folds\u001b[39m=\u001b[39m\u001b[39mself\u001b[39m\u001b[39m.\u001b[39msurrogate_tune_folds,\n\u001b[1;32m    264\u001b[0m     eval_metric\u001b[39m=\u001b[39m\u001b[39mself\u001b[39m\u001b[39m.\u001b[39msurrogate_tune_metric,eval_horizon\u001b[39m=\u001b[39m\u001b[39mself\u001b[39m\u001b[39m.\u001b[39msurrogate_tune_horizon,eval_quantile\u001b[39m=\u001b[39m\u001b[39mself\u001b[39m\u001b[39m.\u001b[39msurrogate_tune_quantile,evaluator\u001b[39m=\u001b[39m\u001b[39mself\u001b[39m\u001b[39m.\u001b[39msurrogate_evaluator)\n\u001b[0;32m--> 265\u001b[0m model, tune_result \u001b[39m=\u001b[39m tuner\u001b[39m.\u001b[39;49mrun(rng, surrogate_tune_iters, retrain_full\u001b[39m=\u001b[39;49m\u001b[39mFalse\u001b[39;49;00m)\n\u001b[1;32m    266\u001b[0m \u001b[39mprint\u001b[39m(\u001b[39m\"\u001b[39m\u001b[39m------------------------------------------------------------------\u001b[39m\u001b[39m\"\u001b[39m)\n\u001b[1;32m    267\u001b[0m \u001b[39mprint\u001b[39m(\u001b[39m\"\u001b[39m\u001b[39mAuto-tuned surrogate model class:\u001b[39m\u001b[39m\"\u001b[39m)\n",
      "File \u001b[0;32m~/Repos/autompc/autompc/tuning/model_tuner.py:186\u001b[0m, in \u001b[0;36mModelTuner.run\u001b[0;34m(self, rng, n_iters, min_train_time, max_train_time, retrain_full)\u001b[0m\n\u001b[1;32m    181\u001b[0m     smac \u001b[39m=\u001b[39m SMAC4HPO(scenario\u001b[39m=\u001b[39mscenario, rng\u001b[39m=\u001b[39msmac_rng,\n\u001b[1;32m    182\u001b[0m            tae_runner\u001b[39m=\u001b[39m\u001b[39mself\u001b[39m\u001b[39m.\u001b[39m_evaluate)\n\u001b[1;32m    183\u001b[0m     \u001b[39m# smac = SMAC4AC(scenario=scenario, rng=smac_rng,\u001b[39;00m\n\u001b[1;32m    184\u001b[0m     \u001b[39m#         tae_runner=self._evaluate)\u001b[39;00m\n\u001b[0;32m--> 186\u001b[0m incumbent \u001b[39m=\u001b[39m smac\u001b[39m.\u001b[39;49moptimize()\n\u001b[1;32m    188\u001b[0m inc_cost \u001b[39m=\u001b[39m \u001b[39mfloat\u001b[39m(\u001b[39m\"\u001b[39m\u001b[39minf\u001b[39m\u001b[39m\"\u001b[39m)\n\u001b[1;32m    189\u001b[0m inc_costs \u001b[39m=\u001b[39m []\n",
      "File \u001b[0;32m~/Downloads/ENTER/lib/python3.9/site-packages/smac/facade/smac_ac_facade.py:597\u001b[0m, in \u001b[0;36mSMAC4AC.optimize\u001b[0;34m(self)\u001b[0m\n\u001b[1;32m    595\u001b[0m incumbent \u001b[39m=\u001b[39m \u001b[39mNone\u001b[39;00m\n\u001b[1;32m    596\u001b[0m \u001b[39mtry\u001b[39;00m:\n\u001b[0;32m--> 597\u001b[0m     incumbent \u001b[39m=\u001b[39m \u001b[39mself\u001b[39;49m\u001b[39m.\u001b[39;49msolver\u001b[39m.\u001b[39;49mrun()\n\u001b[1;32m    598\u001b[0m \u001b[39mfinally\u001b[39;00m:\n\u001b[1;32m    599\u001b[0m     \u001b[39mself\u001b[39m\u001b[39m.\u001b[39msolver\u001b[39m.\u001b[39mstats\u001b[39m.\u001b[39msave()\n",
      "File \u001b[0;32m~/Downloads/ENTER/lib/python3.9/site-packages/smac/optimizer/smbo.py:259\u001b[0m, in \u001b[0;36mSMBO.run\u001b[0;34m(self)\u001b[0m\n\u001b[1;32m    247\u001b[0m \u001b[39mself\u001b[39m\u001b[39m.\u001b[39mrunhistory\u001b[39m.\u001b[39madd(\n\u001b[1;32m    248\u001b[0m     config\u001b[39m=\u001b[39mrun_info\u001b[39m.\u001b[39mconfig,\n\u001b[1;32m    249\u001b[0m     cost\u001b[39m=\u001b[39m\u001b[39mfloat\u001b[39m(MAXINT),\n\u001b[0;32m   (...)\u001b[0m\n\u001b[1;32m    254\u001b[0m     budget\u001b[39m=\u001b[39mrun_info\u001b[39m.\u001b[39mbudget,\n\u001b[1;32m    255\u001b[0m )\n\u001b[1;32m    257\u001b[0m run_info\u001b[39m.\u001b[39mconfig\u001b[39m.\u001b[39mconfig_id \u001b[39m=\u001b[39m \u001b[39mself\u001b[39m\u001b[39m.\u001b[39mrunhistory\u001b[39m.\u001b[39mconfig_ids[run_info\u001b[39m.\u001b[39mconfig]\n\u001b[0;32m--> 259\u001b[0m \u001b[39mself\u001b[39;49m\u001b[39m.\u001b[39;49mtae_runner\u001b[39m.\u001b[39;49msubmit_run(run_info\u001b[39m=\u001b[39;49mrun_info)\n\u001b[1;32m    261\u001b[0m \u001b[39m# There are 2 criteria that the stats object uses to know\u001b[39;00m\n\u001b[1;32m    262\u001b[0m \u001b[39m# if the budged was exhausted.\u001b[39;00m\n\u001b[1;32m    263\u001b[0m \u001b[39m# The budget time, which can only be known when the run finishes,\u001b[39;00m\n\u001b[1;32m    264\u001b[0m \u001b[39m# And the number of ta executions. Because we submit the job at this point,\u001b[39;00m\n\u001b[1;32m    265\u001b[0m \u001b[39m# we count this submission as a run. This prevent for using more\u001b[39;00m\n\u001b[1;32m    266\u001b[0m \u001b[39m# runner runs than what the scenario allows\u001b[39;00m\n\u001b[1;32m    267\u001b[0m \u001b[39mself\u001b[39m\u001b[39m.\u001b[39mstats\u001b[39m.\u001b[39msubmitted_ta_runs \u001b[39m+\u001b[39m\u001b[39m=\u001b[39m \u001b[39m1\u001b[39m\n",
      "File \u001b[0;32m~/Downloads/ENTER/lib/python3.9/site-packages/smac/tae/serial_runner.py:82\u001b[0m, in \u001b[0;36mSerialRunner.submit_run\u001b[0;34m(self, run_info)\u001b[0m\n\u001b[1;32m     64\u001b[0m \u001b[39mdef\u001b[39;00m \u001b[39msubmit_run\u001b[39m(\u001b[39mself\u001b[39m, run_info: RunInfo) \u001b[39m-\u001b[39m\u001b[39m>\u001b[39m \u001b[39mNone\u001b[39;00m:\n\u001b[1;32m     65\u001b[0m     \u001b[39m\"\"\"This function submits a run_info object\u001b[39;00m\n\u001b[1;32m     66\u001b[0m \u001b[39m    in a serial fashion.\u001b[39;00m\n\u001b[1;32m     67\u001b[0m \n\u001b[0;32m   (...)\u001b[0m\n\u001b[1;32m     79\u001b[0m \n\u001b[1;32m     80\u001b[0m \u001b[39m    \"\"\"\u001b[39;00m\n\u001b[1;32m     81\u001b[0m     \u001b[39mself\u001b[39m\u001b[39m.\u001b[39mresults\u001b[39m.\u001b[39mappend(\n\u001b[0;32m---> 82\u001b[0m         \u001b[39mself\u001b[39;49m\u001b[39m.\u001b[39;49mrun_wrapper(run_info)\n\u001b[1;32m     83\u001b[0m     )\n",
      "File \u001b[0;32m~/Downloads/ENTER/lib/python3.9/site-packages/smac/tae/base.py:207\u001b[0m, in \u001b[0;36mBaseRunner.run_wrapper\u001b[0;34m(self, run_info)\u001b[0m\n\u001b[1;32m    204\u001b[0m     cutoff \u001b[39m=\u001b[39m \u001b[39mint\u001b[39m(math\u001b[39m.\u001b[39mceil(run_info\u001b[39m.\u001b[39mcutoff))\n\u001b[1;32m    206\u001b[0m \u001b[39mtry\u001b[39;00m:\n\u001b[0;32m--> 207\u001b[0m     status, cost, runtime, additional_info \u001b[39m=\u001b[39m \u001b[39mself\u001b[39;49m\u001b[39m.\u001b[39;49mrun(\n\u001b[1;32m    208\u001b[0m         config\u001b[39m=\u001b[39;49mrun_info\u001b[39m.\u001b[39;49mconfig,\n\u001b[1;32m    209\u001b[0m         instance\u001b[39m=\u001b[39;49mrun_info\u001b[39m.\u001b[39;49minstance,\n\u001b[1;32m    210\u001b[0m         cutoff\u001b[39m=\u001b[39;49mcutoff,\n\u001b[1;32m    211\u001b[0m         seed\u001b[39m=\u001b[39;49mrun_info\u001b[39m.\u001b[39;49mseed,\n\u001b[1;32m    212\u001b[0m         budget\u001b[39m=\u001b[39;49mrun_info\u001b[39m.\u001b[39;49mbudget,\n\u001b[1;32m    213\u001b[0m         instance_specific\u001b[39m=\u001b[39;49mrun_info\u001b[39m.\u001b[39;49minstance_specific\n\u001b[1;32m    214\u001b[0m     )\n\u001b[1;32m    215\u001b[0m \u001b[39mexcept\u001b[39;00m \u001b[39mException\u001b[39;00m \u001b[39mas\u001b[39;00m e:\n\u001b[1;32m    216\u001b[0m     status \u001b[39m=\u001b[39m StatusType\u001b[39m.\u001b[39mCRASHED\n",
      "File \u001b[0;32m~/Downloads/ENTER/lib/python3.9/site-packages/smac/tae/execute_func.py:207\u001b[0m, in \u001b[0;36mAbstractTAFunc.run\u001b[0;34m(self, config, instance, cutoff, seed, budget, instance_specific)\u001b[0m\n\u001b[1;32m    205\u001b[0m \u001b[39m# call ta\u001b[39;00m\n\u001b[1;32m    206\u001b[0m \u001b[39mtry\u001b[39;00m:\n\u001b[0;32m--> 207\u001b[0m     rval \u001b[39m=\u001b[39m \u001b[39mself\u001b[39;49m\u001b[39m.\u001b[39;49m_call_ta(\u001b[39mself\u001b[39;49m\u001b[39m.\u001b[39;49m_ta, config, obj_kwargs)\n\u001b[1;32m    208\u001b[0m     \u001b[39mif\u001b[39;00m \u001b[39misinstance\u001b[39m(rval, \u001b[39mtuple\u001b[39m):\n\u001b[1;32m    209\u001b[0m         result \u001b[39m=\u001b[39m rval[\u001b[39m0\u001b[39m]\n",
      "File \u001b[0;32m~/Downloads/ENTER/lib/python3.9/site-packages/smac/tae/execute_func.py:296\u001b[0m, in \u001b[0;36mExecuteTAFuncDict._call_ta\u001b[0;34m(self, obj, config, obj_kwargs)\u001b[0m\n\u001b[1;32m    289\u001b[0m \u001b[39mdef\u001b[39;00m \u001b[39m_call_ta\u001b[39m(\n\u001b[1;32m    290\u001b[0m     \u001b[39mself\u001b[39m,\n\u001b[1;32m    291\u001b[0m     obj: typing\u001b[39m.\u001b[39mCallable,\n\u001b[1;32m    292\u001b[0m     config: Configuration,\n\u001b[1;32m    293\u001b[0m     obj_kwargs: typing\u001b[39m.\u001b[39mDict[\u001b[39mstr\u001b[39m, typing\u001b[39m.\u001b[39mUnion[\u001b[39mint\u001b[39m, \u001b[39mstr\u001b[39m, \u001b[39mfloat\u001b[39m, \u001b[39mNone\u001b[39;00m]],\n\u001b[1;32m    294\u001b[0m ) \u001b[39m-\u001b[39m\u001b[39m>\u001b[39m typing\u001b[39m.\u001b[39mUnion[\u001b[39mfloat\u001b[39m, typing\u001b[39m.\u001b[39mTuple[\u001b[39mfloat\u001b[39m, typing\u001b[39m.\u001b[39mDict]]:\n\u001b[0;32m--> 296\u001b[0m     \u001b[39mreturn\u001b[39;00m obj(config, \u001b[39m*\u001b[39;49m\u001b[39m*\u001b[39;49mobj_kwargs)\n",
      "File \u001b[0;32m~/Repos/autompc/autompc/tuning/model_tuner.py:119\u001b[0m, in \u001b[0;36mModelTuner._evaluate\u001b[0;34m(self, cfg, seed, budget)\u001b[0m\n\u001b[1;32m    117\u001b[0m \u001b[39mself\u001b[39m\u001b[39m.\u001b[39mmodel\u001b[39m.\u001b[39mset_config(cfg)\n\u001b[1;32m    118\u001b[0m \u001b[39mself\u001b[39m\u001b[39m.\u001b[39mmodel\u001b[39m.\u001b[39mset_train_budget(budget)\n\u001b[0;32m--> 119\u001b[0m value \u001b[39m=\u001b[39m \u001b[39mself\u001b[39;49m\u001b[39m.\u001b[39;49mevaluator(\u001b[39mself\u001b[39;49m\u001b[39m.\u001b[39;49mmodel)\n\u001b[1;32m    120\u001b[0m \u001b[39mif\u001b[39;00m \u001b[39mself\u001b[39m\u001b[39m.\u001b[39mverbose:\n\u001b[1;32m    121\u001b[0m     \u001b[39mprint\u001b[39m(\u001b[39m\"\u001b[39m\u001b[39mModel Score \u001b[39m\u001b[39m\"\u001b[39m, value)\n",
      "File \u001b[0;32m~/Repos/autompc/autompc/tuning/model_evaluator.py:160\u001b[0m, in \u001b[0;36mCrossValidationModelEvaluator.__call__\u001b[0;34m(self, model)\u001b[0m\n\u001b[1;32m    158\u001b[0m \u001b[39mfor\u001b[39;00m (train,test) \u001b[39min\u001b[39;00m \u001b[39mself\u001b[39m\u001b[39m.\u001b[39mfolds:\n\u001b[1;32m    159\u001b[0m     m \u001b[39m=\u001b[39m model\u001b[39m.\u001b[39mclone()\n\u001b[0;32m--> 160\u001b[0m     m\u001b[39m.\u001b[39;49mtrain(train)\n\u001b[1;32m    161\u001b[0m     metric_value \u001b[39m=\u001b[39m \u001b[39mself\u001b[39m\u001b[39m.\u001b[39mmetric(m, test)\n\u001b[1;32m    162\u001b[0m     \u001b[39mif\u001b[39;00m np\u001b[39m.\u001b[39misinf(metric_value):\n",
      "File \u001b[0;32m~/Repos/autompc/autompc/sysid/mlp.py:227\u001b[0m, in \u001b[0;36mMLP.train\u001b[0;34m(self, trajs, silent, seed)\u001b[0m\n\u001b[1;32m    225\u001b[0m t0 \u001b[39m=\u001b[39m time\u001b[39m.\u001b[39mtime()\n\u001b[1;32m    226\u001b[0m \u001b[39mfor\u001b[39;00m i \u001b[39min\u001b[39;00m tqdm(\u001b[39mrange\u001b[39m(\u001b[39mself\u001b[39m\u001b[39m.\u001b[39mn_train_iters), file\u001b[39m=\u001b[39msys\u001b[39m.\u001b[39mstdout):\n\u001b[0;32m--> 227\u001b[0m     \u001b[39mself\u001b[39;49m\u001b[39m.\u001b[39;49m_step_train()\n\u001b[1;32m    228\u001b[0m     \u001b[39mself\u001b[39m\u001b[39m.\u001b[39mtrain_time_budget\u001b[39m=\u001b[39m\u001b[39m500\u001b[39m \u001b[39m#DEBUG\u001b[39;00m\n\u001b[1;32m    229\u001b[0m     \u001b[39mif\u001b[39;00m \u001b[39mself\u001b[39m\u001b[39m.\u001b[39mtrain_time_budget \u001b[39mis\u001b[39;00m \u001b[39mnot\u001b[39;00m \u001b[39mNone\u001b[39;00m \u001b[39mand\u001b[39;00m time\u001b[39m.\u001b[39mtime()\u001b[39m-\u001b[39mt0 \u001b[39m>\u001b[39m \u001b[39mself\u001b[39m\u001b[39m.\u001b[39mtrain_time_budget:\n",
      "File \u001b[0;32m~/Repos/autompc/autompc/sysid/mlp.py:202\u001b[0m, in \u001b[0;36mMLP._step_train\u001b[0;34m(self)\u001b[0m\n\u001b[1;32m    200\u001b[0m predy \u001b[39m=\u001b[39m \u001b[39mself\u001b[39m\u001b[39m.\u001b[39mnet(x)\n\u001b[1;32m    201\u001b[0m loss \u001b[39m=\u001b[39m \u001b[39mself\u001b[39m\u001b[39m.\u001b[39mlossfun(predy, y\u001b[39m.\u001b[39mto(\u001b[39mself\u001b[39m\u001b[39m.\u001b[39m_device))\n\u001b[0;32m--> 202\u001b[0m loss\u001b[39m.\u001b[39;49mbackward()\n\u001b[1;32m    203\u001b[0m cum_loss \u001b[39m+\u001b[39m\u001b[39m=\u001b[39m loss\u001b[39m.\u001b[39mitem()\n\u001b[1;32m    204\u001b[0m \u001b[39mself\u001b[39m\u001b[39m.\u001b[39moptim\u001b[39m.\u001b[39mstep()\n",
      "File \u001b[0;32m~/Downloads/ENTER/lib/python3.9/site-packages/torch/_tensor.py:363\u001b[0m, in \u001b[0;36mTensor.backward\u001b[0;34m(self, gradient, retain_graph, create_graph, inputs)\u001b[0m\n\u001b[1;32m    354\u001b[0m \u001b[39mif\u001b[39;00m has_torch_function_unary(\u001b[39mself\u001b[39m):\n\u001b[1;32m    355\u001b[0m     \u001b[39mreturn\u001b[39;00m handle_torch_function(\n\u001b[1;32m    356\u001b[0m         Tensor\u001b[39m.\u001b[39mbackward,\n\u001b[1;32m    357\u001b[0m         (\u001b[39mself\u001b[39m,),\n\u001b[0;32m   (...)\u001b[0m\n\u001b[1;32m    361\u001b[0m         create_graph\u001b[39m=\u001b[39mcreate_graph,\n\u001b[1;32m    362\u001b[0m         inputs\u001b[39m=\u001b[39minputs)\n\u001b[0;32m--> 363\u001b[0m torch\u001b[39m.\u001b[39;49mautograd\u001b[39m.\u001b[39;49mbackward(\u001b[39mself\u001b[39;49m, gradient, retain_graph, create_graph, inputs\u001b[39m=\u001b[39;49minputs)\n",
      "File \u001b[0;32m~/Downloads/ENTER/lib/python3.9/site-packages/torch/autograd/__init__.py:173\u001b[0m, in \u001b[0;36mbackward\u001b[0;34m(tensors, grad_tensors, retain_graph, create_graph, grad_variables, inputs)\u001b[0m\n\u001b[1;32m    168\u001b[0m     retain_graph \u001b[39m=\u001b[39m create_graph\n\u001b[1;32m    170\u001b[0m \u001b[39m# The reason we repeat same the comment below is that\u001b[39;00m\n\u001b[1;32m    171\u001b[0m \u001b[39m# some Python versions print out the first line of a multi-line function\u001b[39;00m\n\u001b[1;32m    172\u001b[0m \u001b[39m# calls in the traceback and some print out the last line\u001b[39;00m\n\u001b[0;32m--> 173\u001b[0m Variable\u001b[39m.\u001b[39;49m_execution_engine\u001b[39m.\u001b[39;49mrun_backward(  \u001b[39m# Calls into the C++ engine to run the backward pass\u001b[39;49;00m\n\u001b[1;32m    174\u001b[0m     tensors, grad_tensors_, retain_graph, create_graph, inputs,\n\u001b[1;32m    175\u001b[0m     allow_unreachable\u001b[39m=\u001b[39;49m\u001b[39mTrue\u001b[39;49;00m, accumulate_grad\u001b[39m=\u001b[39;49m\u001b[39mTrue\u001b[39;49;00m)\n",
      "\u001b[0;31mKeyboardInterrupt\u001b[0m: "
     ]
    }
   ],
   "source": [
    "tuned_controller, tune_result = tuner.run(\n",
    "    controller,\n",
    "    task,\n",
    "    trajs,\n",
    "    n_iters=2,\n",
    "    surrogate_tune_iters=2,\n",
    "    rng=np.random.default_rng(100),\n",
    "    output_dir=\"6_controller_tuning_example_output/\",\n",
    "    truedyn=benchmark.dynamics\n",
    ")"
   ]
  },
  {
   "cell_type": "code",
   "execution_count": 45,
   "metadata": {},
   "outputs": [
    {
     "name": "stderr",
     "output_type": "stream",
     "text": [
      "ic| cs._hyperparameters: OrderedDict([('constraint_transformer',\n",
      "                                       constraint_transformer, Type: Categorical, Choices: {_}, Default: _),\n",
      "                                      ('cost_transformer',\n",
      "                                       cost_transformer, Type: Categorical, Choices: {QuadCostTransformer, _}, Default: QuadCostTransformer),\n",
      "                                      ('model', model, Type: Categorical, Choices: {MLP}, Default: MLP),\n",
      "                                      ('optimizer',\n",
      "                                       optimizer, Type: Categorical, Choices: {IterativeLQR}, Default: IterativeLQR),\n",
      "                                      ('IterativeLQR:frequency',\n",
      "                                       IterativeLQR:frequency, Type: UniformInteger, Range: [1, 5], Default: 1),\n",
      "                                      ('IterativeLQR:horizon',\n",
      "                                       IterativeLQR:horizon, Type: UniformInteger, Range: [5, 25], Default: 20),\n",
      "                                      ('IterativeLQR:max_iter',\n",
      "                                       IterativeLQR:max_iter, Type: UniformInteger, Range: [10, 50], Default: 20),\n",
      "                                      ('MLP:batchnorm',\n",
      "                                       MLP:batchnorm, Type: Categorical, Choices: {False, True}, Default: False),\n",
      "                                      ('MLP:hidden_size_1',\n",
      "                                       MLP:hidden_size_1, Type: UniformInteger, Range: [16, 256], Default: 128),\n",
      "                                      ('MLP:lr',\n",
      "                                       MLP:lr, Type: UniformFloat, Range: [1e-05, 1.0], Default: 0.001, on log-scale),\n",
      "                                      ('MLP:n_hidden_layers',\n",
      "                                       MLP:n_hidden_layers, Type: Categorical, Choices: {1, 2, 3, 4}, Default: 2),\n",
      "                                      ('MLP:nonlintype',\n",
      "                                       MLP:nonlintype, Type: Categorical, Choices: {relu, tanh, sigmoid, selu}, Default: relu),\n",
      "                                      ('QuadCostTransformer:dx_F',\n",
      "                                       QuadCostTransformer:dx_F, Type: UniformFloat, Range: [0.001, 10000.0], Default: 1.0, on log-scale),\n",
      "                                      ('QuadCostTransformer:dx_Q',\n",
      "                                       QuadCostTransformer:dx_Q, Type: UniformFloat, Range: [0.001, 10000.0], Default: 1.0, on log-scale),\n",
      "                                      ('QuadCostTransformer:omega_F',\n",
      "                                       QuadCostTransformer:omega_F, Type: UniformFloat, Range: [0.001, 10000.0], Default: 1.0, on log-scale),\n",
      "                                      ('QuadCostTransformer:omega_Q',\n",
      "                                       QuadCostTransformer:omega_Q, Type: UniformFloat, Range: [0.001, 10000.0], Default: 1.0, on log-scale),\n",
      "                                      ('QuadCostTransformer:theta_F',\n",
      "                                       QuadCostTransformer:theta_F, Type: UniformFloat, Range: [0.001, 10000.0], Default: 1.0, on log-scale),\n",
      "                                      ('QuadCostTransformer:theta_Q',\n",
      "                                       QuadCostTransformer:theta_Q, Type: UniformFloat, Range: [0.001, 10000.0], Default: 1.0, on log-scale),\n",
      "                                      ('QuadCostTransformer:u_R',\n",
      "                                       QuadCostTransformer:u_R, Type: UniformFloat, Range: [0.001, 10000.0], Default: 1.0, on log-scale),\n",
      "                                      ('QuadCostTransformer:x_F',\n",
      "                                       QuadCostTransformer:x_F, Type: UniformFloat, Range: [0.001, 10000.0], Default: 1.0, on log-scale),\n",
      "                                      ('QuadCostTransformer:x_Q',\n",
      "                                       QuadCostTransformer:x_Q, Type: UniformFloat, Range: [0.001, 10000.0], Default: 1.0, on log-scale),\n",
      "                                      ('MLP:hidden_size_2',\n",
      "                                       MLP:hidden_size_2, Type: UniformInteger, Range: [16, 256], Default: 128),\n",
      "                                      ('MLP:hidden_size_3',\n",
      "                                       MLP:hidden_size_3, Type: UniformInteger, Range: [16, 256], Default: 128),\n",
      "                                      ('MLP:hidden_size_4',\n",
      "                                       MLP:hidden_size_4, Type: UniformInteger, Range: [16, 256], Default: 128)])\n",
      "ic| id_: '1'\n",
      "    values: {'batchnorm': False,\n",
      "             'hidden_size_1': 128,\n",
      "             'hidden_size_2': 128,\n",
      "             'lr': 0.001,\n",
      "             'n_hidden_layers': '2',\n",
      "             'nonlintype': 'relu'}\n",
      "    config_origins.get(id_, None): 'Default'\n"
     ]
    },
    {
     "ename": "ValueError",
     "evalue": "Tried to specify unknown hyperparameter batchnorm",
     "output_type": "error",
     "traceback": [
      "\u001b[0;31m---------------------------------------------------------------------------\u001b[0m",
      "\u001b[0;31mValueError\u001b[0m                                Traceback (most recent call last)",
      "\u001b[1;32m/home/dohun/Repos/autompc/examples/6_Controller_Tuning.ipynb Cell 18'\u001b[0m in \u001b[0;36m<cell line: 15>\u001b[0;34m()\u001b[0m\n\u001b[1;32m     <a href='vscode-notebook-cell:/home/dohun/Repos/autompc/examples/6_Controller_Tuning.ipynb#ch0000021?line=14'>15</a>\u001b[0m \u001b[39mfor\u001b[39;00m id_, values \u001b[39min\u001b[39;00m all_data[\u001b[39m'\u001b[39m\u001b[39mconfigs\u001b[39m\u001b[39m'\u001b[39m]\u001b[39m.\u001b[39mitems():\n\u001b[1;32m     <a href='vscode-notebook-cell:/home/dohun/Repos/autompc/examples/6_Controller_Tuning.ipynb#ch0000021?line=15'>16</a>\u001b[0m     ic(id_, values, config_origins\u001b[39m.\u001b[39mget(id_, \u001b[39mNone\u001b[39;00m))\n\u001b[0;32m---> <a href='vscode-notebook-cell:/home/dohun/Repos/autompc/examples/6_Controller_Tuning.ipynb#ch0000021?line=16'>17</a>\u001b[0m     \u001b[39mprint\u001b[39m(Configuration(cs, values\u001b[39m=\u001b[39;49mvalues, origin\u001b[39m=\u001b[39;49mconfig_origins\u001b[39m.\u001b[39;49mget(id_, \u001b[39mNone\u001b[39;49;00m)))\n\u001b[1;32m     <a href='vscode-notebook-cell:/home/dohun/Repos/autompc/examples/6_Controller_Tuning.ipynb#ch0000021?line=17'>18</a>\u001b[0m runhistory\u001b[39m.\u001b[39mload_json(rh_path, cs)\n\u001b[1;32m     <a href='vscode-notebook-cell:/home/dohun/Repos/autompc/examples/6_Controller_Tuning.ipynb#ch0000021?line=18'>19</a>\u001b[0m \u001b[39m#print(runhistory.data.items())\u001b[39;00m\n",
      "File \u001b[0;32mConfigSpace/configuration_space.pyx:1452\u001b[0m, in \u001b[0;36mConfigSpace.configuration_space.Configuration.__init__\u001b[0;34m()\u001b[0m\n",
      "\u001b[0;31mValueError\u001b[0m: Tried to specify unknown hyperparameter batchnorm"
     ]
    }
   ],
   "source": [
    "from icecream import ic\n",
    "import json\n",
    "from smac.runhistory.runhistory import RunHistory\n",
    "from smac.scenario.scenario import Scenario\n",
    "from smac.configspace import Configuration\n",
    "rh_path = '/home/dohun/Repos/autompc/examples/smac3-output_2022-07-20_23:09:54_019785/run_2091578153/runhistory.json'\n",
    "cs = controller.get_config_space()\n",
    "runhistory = RunHistory()\n",
    "runhistory.load_json(rh_path, cs)\n",
    "tuner._get_tune_result(None, runhistory)"
   ]
  },
  {
   "cell_type": "markdown",
   "metadata": {},
   "source": [
    "## Exploring the Tuning Results\n",
    "\n",
    "AutoMPC provides tools based on matplotlib to visualize the results of a tuning run.  Here, we visualize the tuning curve, which shows the surrogate-estimated performance of best controller found after each iteration of tuning.  When the `truedyn` argument is provided to the tuner, this graph also plots the true dynamics performance."
   ]
  },
  {
   "cell_type": "code",
   "execution_count": 10,
   "metadata": {},
   "outputs": [
    {
     "data": {
      "image/png": "[encoded data removed]",
      "text/plain": [
       "<Figure size 432x288 with 1 Axes>"
      ]
     },
     "metadata": {
      "needs_background": "light"
     },
     "output_type": "display_data"
    }
   ],
   "source": [
    "from autompc.graphs import plot_tuning_curve\n",
    "import matplotlib.pyplot as plt\n",
    "\n",
    "fig = plt.figure()      \n",
    "ax = fig.gca()\n",
    "plot_tuning_curve(tune_result, ax)\n",
    "ax.set_title(\"Cart-Pole Tuning Curve\")\n",
    "plt.show()"
   ]
  },
  {
   "cell_type": "markdown",
   "metadata": {},
   "source": [
    "To further analyze the results of a tuning run, we can inspect the fields of the `ControlTuneResult` object.  Key fields include\n",
    " * **inc_cfg** : The final incumbent (selected) configuration.\n",
    " * **inc_cfgs** : A list of the incumbent configurations at each iteration.\n",
    " * **inc_costs** : The incumbent cost at each iteration.\n",
    " * **cfgs** : A list of the configurations evaluated at each iteration.\n",
    " * **costs** : A list of the costs of configruations evaluated at each iteration.\n",
    "\n",
    "For more detailed documentation, see the API reference."
   ]
  },
  {
   "cell_type": "markdown",
   "metadata": {},
   "source": [
    "## Resuming a Tuning Run\n",
    "\n",
    "If a tuning run is interrupted partway through, you can resume by calling `tuner.run` with the keyword argument `restore_dir` containing the output directory of the original run.  The feature can also be used to increase or decrease the tuning iterations of a tuning run that is already in progress."
   ]
  }
 ],
 "metadata": {
  "kernelspec": {
   "display_name": "Python 3.9.12 ('base')",
   "language": "python",
   "name": "python3"
  },
  "language_info": {
   "codemirror_mode": {
    "name": "ipython",
    "version": 3
   },
   "file_extension": ".py",
   "mimetype": "text/x-python",
   "name": "python",
   "nbconvert_exporter": "python",
   "pygments_lexer": "ipython3",
   "version": "3.9.12"
  },
  "latex_envs": {
   "LaTeX_envs_menu_present": true,
   "autoclose": false,
   "autocomplete": false,
   "bibliofile": "biblio.bib",
   "cite_by": "apalike",
   "current_citInitial": 1,
   "eqLabelWithNumbers": true,
   "eqNumInitial": 1,
   "hotkeys": {
    "equation": "Ctrl-E",
    "itemize": "Ctrl-I"
   },
   "labels_anchors": false,
   "latex_user_defs": false,
   "report_style_numbering": false,
   "user_envs_cfg": false
  },
  "toc": {
   "base_numbering": 1,
   "nav_menu": {},
   "number_sections": true,
   "sideBar": true,
   "skip_h1_title": false,
   "title_cell": "Table of Contents",
   "title_sidebar": "Contents",
   "toc_cell": false,
   "toc_position": {},
   "toc_section_display": true,
   "toc_window_display": false
  },
  "vscode": {
   "interpreter": {
    "hash": "8205f83729152a74c9afc694ae4592a9e3038e45d9cbfebf1ba348127e2980f0"
   }
  }
 },
 "nbformat": 4,
 "nbformat_minor": 4
}
