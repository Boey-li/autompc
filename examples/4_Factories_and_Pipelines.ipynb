{
 "cells": [
  {
   "cell_type": "markdown",
   "metadata": {},
   "source": [
    "# Example 4: Working With Tuning\n",
    "\n",
    "This notebook demonstrates how to work with hyperparameter spaces and configurations of tunable components."
   ]
  },
  {
   "cell_type": "markdown",
   "metadata": {},
   "source": [
    "## Set Up\n",
    "\n",
    "As in previous examples, we will use the benchmarks package to get our system and task, and to generate a trajectory dataset."
   ]
  },
  {
   "cell_type": "code",
   "execution_count": 1,
   "metadata": {},
   "outputs": [
    {
     "name": "stdout",
     "output_type": "stream",
     "text": [
      "Loading AutoMPC...\n",
      "Finished loading AutoMPC\n"
     ]
    }
   ],
   "source": [
    "import autompc as ampc\n",
    "import numpy as np\n",
    "from autompc.benchmarks import CartpoleSwingupBenchmark\n",
    "\n",
    "benchmark = CartpoleSwingupBenchmark()\n",
    "\n",
    "# Get system and task specification\n",
    "system = benchmark.system\n",
    "task   = benchmark.task\n",
    "\n",
    "# Generate benchmark dataset\n",
    "trajs = benchmark.gen_trajs(seed=100, n_trajs=10, traj_len=200)"
   ]
  },
  {
   "cell_type": "markdown",
   "metadata": {},
   "source": [
    "## Tunables\n",
    "\n",
    "AutoMPC components -- models, optimizers, and optimal control problem transformers -- derive from the `Tunable` class to represent their hyperparameter configurations.\n",
    "\n",
    "First, let's instantiate any such object to examine how it behaves.  Here we use the MLP (multi-layer perceptron) system ID model."
   ]
  },
  {
   "cell_type": "code",
   "execution_count": 2,
   "metadata": {},
   "outputs": [
    {
     "name": "stderr",
     "output_type": "stream",
     "text": [
      "/usr/local/lib/python3.7/dist-packages/torch/cuda/__init__.py:52: UserWarning: CUDA initialization: CUDA unknown error - this may be due to an incorrectly set up environment, e.g. changing env variable CUDA_VISIBLE_DEVICES after program start. Setting the available devices to be zero. (Triggered internally at  /pytorch/c10/cuda/CUDAFunctions.cpp:109.)\n",
      "  return torch._C._cuda_getDeviceCount() > 0\n"
     ]
    }
   ],
   "source": [
    "from autompc.sysid import MLP\n",
    "\n",
    "model = MLP(system)"
   ]
  },
  {
   "cell_type": "markdown",
   "metadata": {},
   "source": [
    "A Tunable plays a double role as a factory for tunable objects as well as the objects themselves. A tunable object has a hyperparameter configuration space retrieved as follows:"
   ]
  },
  {
   "cell_type": "code",
   "execution_count": 3,
   "metadata": {},
   "outputs": [
    {
     "name": "stdout",
     "output_type": "stream",
     "text": [
      "Configuration space object:\n",
      "  Hyperparameters:\n",
      "    batchnorm, Type: Categorical, Choices: {False, True}, Default: False\n",
      "    hidden_size_1, Type: UniformInteger, Range: [16, 256], Default: 128\n",
      "    hidden_size_2, Type: UniformInteger, Range: [16, 256], Default: 128\n",
      "    hidden_size_3, Type: UniformInteger, Range: [16, 256], Default: 128\n",
      "    hidden_size_4, Type: UniformInteger, Range: [16, 256], Default: 128\n",
      "    lr, Type: UniformFloat, Range: [1e-05, 1.0], Default: 0.001, on log-scale\n",
      "    n_hidden_layers, Type: Categorical, Choices: {1, 2, 3, 4}, Default: 2\n",
      "    nonlintype, Type: Categorical, Choices: {relu, tanh, sigmoid, selu}, Default: relu\n",
      "  Conditions:\n",
      "    hidden_size_2 | n_hidden_layers in {'2', '3', '4'}\n",
      "    hidden_size_3 | n_hidden_layers in {'3', '4'}\n",
      "    hidden_size_4 | n_hidden_layers in {'4'}\n",
      "\n"
     ]
    }
   ],
   "source": [
    "print(model.get_config_space())"
   ]
  },
  {
   "cell_type": "markdown",
   "metadata": {},
   "source": [
    "We can see that the MLP several hidden parameters, including categorical hyperparameters controlling the activation function and the number of hidden layers, a floating point hyperparameter controlling the learning rate, and integer hyperparameters controlling the size of each layer.\n",
    "\n",
    "We also have conditional hyperparameter relationships.  For example, the `hidden_size_4` hyperparameter is only active when there are 4 or more hidden layers.\n",
    "\n",
    "AutoMPC uses the [ConfigSpace](https://automl.github.io/ConfigSpace/master/) package for configurations and configuration spaces.  See the package [documentation](https://automl.github.io/ConfigSpace/master/) for more information.\n",
    "\n",
    "\n",
    "From the configuration space, we can create a configuration and set it's hyperparameters as follows"
   ]
  },
  {
   "cell_type": "markdown",
   "metadata": {},
   "source": [
    "The model has a current configuration as well, which is set to the defaults."
   ]
  },
  {
   "cell_type": "code",
   "execution_count": 4,
   "metadata": {},
   "outputs": [
    {
     "name": "stdout",
     "output_type": "stream",
     "text": [
      "Configuration(values={\n",
      "  'batchnorm': False,\n",
      "  'hidden_size_1': 128,\n",
      "  'hidden_size_2': 128,\n",
      "  'lr': 0.001,\n",
      "  'n_hidden_layers': '2',\n",
      "  'nonlintype': 'relu',\n",
      "})\n",
      "\n"
     ]
    }
   ],
   "source": [
    "print(model.get_config())"
   ]
  },
  {
   "cell_type": "markdown",
   "metadata": {},
   "source": [
    "This works in a similar way for optimizers and cost transformers."
   ]
  },
  {
   "cell_type": "code",
   "execution_count": 5,
   "metadata": {},
   "outputs": [
    {
     "name": "stdout",
     "output_type": "stream",
     "text": [
      "Configuration space object:\n",
      "  Hyperparameters:\n",
      "    dx_F, Type: UniformFloat, Range: [0.001, 10000.0], Default: 1.0, on log-scale\n",
      "    dx_Q, Type: UniformFloat, Range: [0.001, 10000.0], Default: 1.0, on log-scale\n",
      "    omega_F, Type: UniformFloat, Range: [0.001, 10000.0], Default: 1.0, on log-scale\n",
      "    omega_Q, Type: UniformFloat, Range: [0.001, 10000.0], Default: 1.0, on log-scale\n",
      "    theta_F, Type: UniformFloat, Range: [0.001, 10000.0], Default: 1.0, on log-scale\n",
      "    theta_Q, Type: UniformFloat, Range: [0.001, 10000.0], Default: 1.0, on log-scale\n",
      "    u_R, Type: UniformFloat, Range: [0.001, 10000.0], Default: 1.0, on log-scale\n",
      "    x_F, Type: UniformFloat, Range: [0.001, 10000.0], Default: 1.0, on log-scale\n",
      "    x_Q, Type: UniformFloat, Range: [0.001, 10000.0], Default: 1.0, on log-scale\n",
      "\n",
      "Configuration(values={\n",
      "  'dx_F': 1.0,\n",
      "  'dx_Q': 1.0,\n",
      "  'omega_F': 1.0,\n",
      "  'omega_Q': 1.0,\n",
      "  'theta_F': 1.0,\n",
      "  'theta_Q': 1.0,\n",
      "  'u_R': 1.0,\n",
      "  'x_F': 1.0,\n",
      "  'x_Q': 1.0,\n",
      "})\n",
      "\n"
     ]
    }
   ],
   "source": [
    "from autompc.ocp import QuadCostTransformer\n",
    "cost = QuadCostTransformer(system)\n",
    "print(cost.get_config_space())\n",
    "print(cost.get_config())"
   ]
  },
  {
   "cell_type": "code",
   "execution_count": 6,
   "metadata": {},
   "outputs": [
    {
     "name": "stdout",
     "output_type": "stream",
     "text": [
      "Configuration space object:\n",
      "  Hyperparameters:\n",
      "    frequency, Type: UniformInteger, Range: [1, 5], Default: 1\n",
      "    horizon, Type: UniformInteger, Range: [5, 25], Default: 20\n",
      "    max_iter, Type: UniformInteger, Range: [10, 50], Default: 20\n",
      "\n",
      "Configuration(values={\n",
      "  'frequency': 1,\n",
      "  'horizon': 20,\n",
      "  'max_iter': 20,\n",
      "})\n",
      "\n"
     ]
    }
   ],
   "source": [
    "from autompc.optim import IterativeLQR\n",
    "optimizer = IterativeLQR(system)\n",
    "print(optimizer.get_config_space())\n",
    "print(optimizer.get_config())"
   ]
  },
  {
   "cell_type": "markdown",
   "metadata": {},
   "source": [
    "To modify the current configuration of a tunable, you can then use `get_config/set_config` and treat the configuration like a dictionary. You may also use the `set_hyper_values` method.  Here we set the hyperparameters of the MLP model:"
   ]
  },
  {
   "cell_type": "code",
   "execution_count": 7,
   "metadata": {},
   "outputs": [],
   "source": [
    "model_cfg = model.get_config()\n",
    "model_cfg[\"n_hidden_layers\"] = \"2\"\n",
    "model_cfg[\"hidden_size_1\"] = 32\n",
    "model_cfg[\"hidden_size_2\"] = 32\n",
    "model.set_config(model_cfg)\n",
    "\n",
    "model.set_hyper_values(hidden_size_1=64)"
   ]
  },
  {
   "cell_type": "markdown",
   "metadata": {},
   "source": [
    "## Operations on Tunables"
   ]
  },
  {
   "cell_type": "markdown",
   "metadata": {},
   "source": [
    "After a Tunable has been configured, then you can proceed to perform its configured operations.  These operations depend on the type.  For example, you can train the model using its current configuration."
   ]
  },
  {
   "cell_type": "code",
   "execution_count": 8,
   "metadata": {},
   "outputs": [
    {
     "name": "stdout",
     "output_type": "stream",
     "text": [
      "100%|██████████| 200/200 [00:11<00:00, 16.93it/s]\n"
     ]
    }
   ],
   "source": [
    "model.train(trajs)"
   ]
  },
  {
   "cell_type": "markdown",
   "metadata": {},
   "source": [
    "If you would like to create a slightly modified model, you can safely copy the object and reconfigure it, then re-train. We see the new model has a lower RMSE, which makes sense because it has 3 hidden layers rather than 2."
   ]
  },
  {
   "cell_type": "code",
   "execution_count": 9,
   "metadata": {},
   "outputs": [
    {
     "name": "stdout",
     "output_type": "stream",
     "text": [
      "100%|██████████| 200/200 [00:12<00:00, 16.30it/s]\n",
      "Training RMSE of MLP config 1: 0.07110542035052599\n",
      "Training RMSE of MLP config 2: 0.043067499801221945\n"
     ]
    }
   ],
   "source": [
    "import copy\n",
    "from autompc.sysid.metrics import get_model_rmse\n",
    "\n",
    "model2 = copy.deepcopy(model)\n",
    "model2.set_hyper_values(n_hidden_layers=\"3\")\n",
    "model2.train(trajs)\n",
    "print(\"Training RMSE of MLP config 1:\",get_model_rmse(model,trajs))\n",
    "print(\"Training RMSE of MLP config 2:\",get_model_rmse(model2,trajs))\n"
   ]
  },
  {
   "cell_type": "markdown",
   "metadata": {},
   "source": [
    "Typical operations are described as follows:\n",
    "\n",
    "Model:\n",
    "- `train`\n",
    "- `set_train_budget`\n",
    "- `pred, pred_batch, pred_diff`\n",
    "\n",
    "Optimizer:\n",
    "- `step`\n",
    "- `reset`\n",
    "- `get_traj`, `get_state`, `set_state` (after `step`)\n",
    "\n",
    "OCPTransformer:\n",
    "- `__call__`"
   ]
  },
  {
   "cell_type": "markdown",
   "metadata": {},
   "source": [
    "## Fixing options\n",
    "\n",
    "When working with a tuner, you may wish to prevent the tuner from exploring some hyperparameters, and instead force the tuner to keep those values in a range or even constant, e.g., based on your intuition or results from a prior tuning run.  It is not enough to set the current configuration of the Tunable, because the tuner will overwrite the current configuration multiple times during the tuning process. \n",
    "\n",
    "Instead, you can use the `set_hyperparameter_bounds` and `fix_hyperparameters` methods.  The first option changes the range of the integer parameter, and the second freezes the value of a parameter."
   ]
  },
  {
   "cell_type": "code",
   "execution_count": 10,
   "metadata": {},
   "outputs": [
    {
     "name": "stdout",
     "output_type": "stream",
     "text": [
      "Configuration space object:\n",
      "  Hyperparameters:\n",
      "    frequency, Type: UniformInteger, Range: [1, 1], Default: 1\n",
      "    horizon, Type: UniformInteger, Range: [5, 25], Default: 20\n",
      "    max_iter, Type: UniformInteger, Range: [5, 50], Default: 20\n",
      "\n",
      "Configuration(values={\n",
      "  'frequency': 1,\n",
      "  'horizon': 20,\n",
      "  'max_iter': 20,\n",
      "})\n",
      "\n"
     ]
    }
   ],
   "source": [
    "optimizer.set_hyperparameter_bounds(max_iter=(5,50))\n",
    "optimizer.fix_hyperparameters(frequency=1)\n",
    "print(optimizer.get_config_space())\n",
    "print(optimizer.get_config())"
   ]
  },
  {
   "cell_type": "markdown",
   "metadata": {},
   "source": [
    "## Pipelines\n",
    "\n",
    "We use the TunablePipeline class that generate the combined configuration space for a combination of tunable components, each of which can have multiple options.  For example, a Controller consists of a model, cost transformer(s), and optimizer. \n",
    "\n",
    "To use a TunablePipeline, you will need to add component options to it.  The `AutoSelectController` class automatically fills the available options for you... which provides a huge list!"
   ]
  },
  {
   "cell_type": "code",
   "execution_count": 11,
   "metadata": {},
   "outputs": [
    {
     "name": "stdout",
     "output_type": "stream",
     "text": [
      "Forbidding model MLP to be used with LQR due to property is_linear\n",
      "Forbidding model SINDy to be used with LQR due to property is_linear\n"
     ]
    },
    {
     "data": {
      "text/plain": [
       "Configuration space object:\n",
       "  Hyperparameters:\n",
       "    ARX:history, Type: UniformInteger, Range: [1, 10], Default: 4\n",
       "    DirectTranscription:horizon, Type: UniformInteger, Range: [1, 30], Default: 10\n",
       "    GaussRegTransformer:reg_weight, Type: UniformFloat, Range: [0.001, 10000.0], Default: 1.0, on log-scale\n",
       "    IterativeLQR:frequency, Type: UniformInteger, Range: [1, 5], Default: 1\n",
       "    IterativeLQR:horizon, Type: UniformInteger, Range: [5, 25], Default: 20\n",
       "    IterativeLQR:max_iter, Type: UniformInteger, Range: [10, 50], Default: 20\n",
       "    Koopman:lasso_alpha, Type: UniformFloat, Range: [1e-10, 100.0], Default: 1.0, on log-scale\n",
       "    Koopman:method, Type: Categorical, Choices: {lstsq, lasso, stable}, Default: lstsq\n",
       "    Koopman:poly_basis, Type: Categorical, Choices: {true, false}, Default: false\n",
       "    Koopman:poly_cross_terms, Type: Categorical, Choices: {false}, Default: false\n",
       "    Koopman:poly_degree, Type: UniformInteger, Range: [2, 8], Default: 3\n",
       "    Koopman:trig_basis, Type: Categorical, Choices: {true, false}, Default: false\n",
       "    Koopman:trig_freq, Type: UniformInteger, Range: [1, 8], Default: 1\n",
       "    Koopman:trig_interaction, Type: Categorical, Choices: {false}, Default: false\n",
       "    LQR:finite_horizon, Type: Categorical, Choices: {true, false}, Default: true\n",
       "    LQR:horizon, Type: UniformInteger, Range: [1, 1000], Default: 10\n",
       "    MLP:batchnorm, Type: Categorical, Choices: {False, True}, Default: False\n",
       "    MLP:hidden_size_1, Type: UniformInteger, Range: [16, 256], Default: 128\n",
       "    MLP:hidden_size_2, Type: UniformInteger, Range: [16, 256], Default: 128\n",
       "    MLP:hidden_size_3, Type: UniformInteger, Range: [16, 256], Default: 128\n",
       "    MLP:hidden_size_4, Type: UniformInteger, Range: [16, 256], Default: 128\n",
       "    MLP:lr, Type: UniformFloat, Range: [1e-05, 1.0], Default: 0.001, on log-scale\n",
       "    MLP:n_hidden_layers, Type: Categorical, Choices: {1, 2, 3, 4}, Default: 2\n",
       "    MLP:nonlintype, Type: Categorical, Choices: {relu, tanh, sigmoid, selu}, Default: relu\n",
       "    MPPI:horizon, Type: UniformInteger, Range: [5, 30], Default: 20\n",
       "    MPPI:lmda, Type: UniformFloat, Range: [0.1, 2.0], Default: 1.0\n",
       "    MPPI:num_path, Type: UniformInteger, Range: [100, 1000], Default: 200\n",
       "    MPPI:sigma, Type: UniformFloat, Range: [0.0001, 2.0], Default: 1.0\n",
       "    QuadCostTransformer:dx_F, Type: UniformFloat, Range: [0.001, 10000.0], Default: 1.0, on log-scale\n",
       "    QuadCostTransformer:dx_Q, Type: UniformFloat, Range: [0.001, 10000.0], Default: 1.0, on log-scale\n",
       "    QuadCostTransformer:omega_F, Type: UniformFloat, Range: [0.001, 10000.0], Default: 1.0, on log-scale\n",
       "    QuadCostTransformer:omega_Q, Type: UniformFloat, Range: [0.001, 10000.0], Default: 1.0, on log-scale\n",
       "    QuadCostTransformer:theta_F, Type: UniformFloat, Range: [0.001, 10000.0], Default: 1.0, on log-scale\n",
       "    QuadCostTransformer:theta_Q, Type: UniformFloat, Range: [0.001, 10000.0], Default: 1.0, on log-scale\n",
       "    QuadCostTransformer:u_R, Type: UniformFloat, Range: [0.001, 10000.0], Default: 1.0, on log-scale\n",
       "    QuadCostTransformer:x_F, Type: UniformFloat, Range: [0.001, 10000.0], Default: 1.0, on log-scale\n",
       "    QuadCostTransformer:x_Q, Type: UniformFloat, Range: [0.001, 10000.0], Default: 1.0, on log-scale\n",
       "    SINDy:poly_basis, Type: Categorical, Choices: {true, false}, Default: false\n",
       "    SINDy:poly_cross_terms, Type: Categorical, Choices: {false}, Default: false\n",
       "    SINDy:poly_degree, Type: UniformInteger, Range: [2, 8], Default: 3\n",
       "    SINDy:threshold, Type: UniformFloat, Range: [1e-05, 10.0], Default: 0.01, on log-scale\n",
       "    SINDy:time_mode, Type: Categorical, Choices: {discrete, continuous}, Default: discrete\n",
       "    SINDy:trig_basis, Type: Categorical, Choices: {true, false}, Default: false\n",
       "    SINDy:trig_freq, Type: UniformInteger, Range: [1, 8], Default: 1\n",
       "    SINDy:trig_interaction, Type: Categorical, Choices: {false}, Default: false\n",
       "    constraint_transformer, Type: Categorical, Choices: {_, KeepBounds, DeleteBounds}, Default: _\n",
       "    cost_transformer, Type: Categorical, Choices: {QuadCostTransformer, _}, Default: QuadCostTransformer\n",
       "    model, Type: Categorical, Choices: {MLP, SINDy, ARX, Koopman}, Default: MLP\n",
       "    optimizer, Type: Categorical, Choices: {IterativeLQR, MPPI, LQR, DirectTranscription}, Default: IterativeLQR\n",
       "    regularizer, Type: Categorical, Choices: {_, GaussRegTransformer}, Default: _\n",
       "  Conditions:\n",
       "    ARX:history | model == 'ARX'\n",
       "    DirectTranscription:horizon | optimizer == 'DirectTranscription'\n",
       "    GaussRegTransformer:reg_weight | regularizer == 'GaussRegTransformer'\n",
       "    IterativeLQR:frequency | optimizer == 'IterativeLQR'\n",
       "    IterativeLQR:horizon | optimizer == 'IterativeLQR'\n",
       "    IterativeLQR:max_iter | optimizer == 'IterativeLQR'\n",
       "    Koopman:lasso_alpha | Koopman:method in {'lasso'}\n",
       "    Koopman:method | model == 'Koopman'\n",
       "    Koopman:poly_basis | model == 'Koopman'\n",
       "    Koopman:poly_cross_terms | Koopman:poly_basis in {'true'}\n",
       "    Koopman:poly_degree | Koopman:poly_basis in {'true'}\n",
       "    Koopman:trig_basis | model == 'Koopman'\n",
       "    Koopman:trig_freq | Koopman:trig_basis in {'true'}\n",
       "    Koopman:trig_interaction | Koopman:trig_basis in {'true'}\n",
       "    LQR:finite_horizon | optimizer == 'LQR'\n",
       "    LQR:horizon | LQR:finite_horizon in {'true'}\n",
       "    MLP:batchnorm | model == 'MLP'\n",
       "    MLP:hidden_size_1 | model == 'MLP'\n",
       "    MLP:hidden_size_2 | MLP:n_hidden_layers in {'2', '3', '4'}\n",
       "    MLP:hidden_size_3 | MLP:n_hidden_layers in {'3', '4'}\n",
       "    MLP:hidden_size_4 | MLP:n_hidden_layers in {'4'}\n",
       "    MLP:lr | model == 'MLP'\n",
       "    MLP:n_hidden_layers | model == 'MLP'\n",
       "    MLP:nonlintype | model == 'MLP'\n",
       "    MPPI:horizon | optimizer == 'MPPI'\n",
       "    MPPI:lmda | optimizer == 'MPPI'\n",
       "    MPPI:num_path | optimizer == 'MPPI'\n",
       "    MPPI:sigma | optimizer == 'MPPI'\n",
       "    QuadCostTransformer:dx_F | cost_transformer == 'QuadCostTransformer'\n",
       "    QuadCostTransformer:dx_Q | cost_transformer == 'QuadCostTransformer'\n",
       "    QuadCostTransformer:omega_F | cost_transformer == 'QuadCostTransformer'\n",
       "    QuadCostTransformer:omega_Q | cost_transformer == 'QuadCostTransformer'\n",
       "    QuadCostTransformer:theta_F | cost_transformer == 'QuadCostTransformer'\n",
       "    QuadCostTransformer:theta_Q | cost_transformer == 'QuadCostTransformer'\n",
       "    QuadCostTransformer:u_R | cost_transformer == 'QuadCostTransformer'\n",
       "    QuadCostTransformer:x_F | cost_transformer == 'QuadCostTransformer'\n",
       "    QuadCostTransformer:x_Q | cost_transformer == 'QuadCostTransformer'\n",
       "    SINDy:poly_basis | model == 'SINDy'\n",
       "    SINDy:poly_cross_terms | model == 'SINDy'\n",
       "    SINDy:poly_degree | SINDy:poly_basis in {'true'}\n",
       "    SINDy:threshold | model == 'SINDy'\n",
       "    SINDy:time_mode | model == 'SINDy'\n",
       "    SINDy:trig_basis | model == 'SINDy'\n",
       "    SINDy:trig_freq | SINDy:trig_basis in {'true'}\n",
       "    SINDy:trig_interaction | SINDy:trig_basis in {'true'}\n",
       "  Forbidden Clauses:\n",
       "    (Forbidden: model == 'MLP' && Forbidden: optimizer == 'LQR')\n",
       "    (Forbidden: model == 'SINDy' && Forbidden: optimizer == 'LQR')"
      ]
     },
     "execution_count": 11,
     "metadata": {},
     "output_type": "execute_result"
    }
   ],
   "source": [
    "pipeline = ampc.AutoSelectController(system)\n",
    "pipeline.get_config_space()"
   ]
  },
  {
   "cell_type": "markdown",
   "metadata": {},
   "source": [
    "Unlike a Tunable, a pipeline needs to be manually configured or tuned before it is used."
   ]
  },
  {
   "cell_type": "markdown",
   "metadata": {},
   "source": [
    "Compatibility between components is enforced by a variety of constraints that can be imposed on the configuration space. As an example, since the OCP here has no bounds and is quadratic, there is no need for a QuadCostFactory or bounds transformer to be applied.  Internally, in `pipeline.set_ocp()`, the constraints will be configured appropriately.  Notice the difference between this configuration space and the prior printout, that `constraint_transformer` is now `_` indicating no constraint transformer, and there is a constraint forbidding `cost_transformer` to be a QuadCostFactory."
   ]
  },
  {
   "cell_type": "code",
   "execution_count": 12,
   "metadata": {},
   "outputs": [
    {
     "name": "stdout",
     "output_type": "stream",
     "text": [
      "Forbidding model MLP to be used with LQR due to property is_linear\n",
      "Forbidding model SINDy to be used with LQR due to property is_linear\n",
      "Checking compatibility with OCP\n",
      "Quad cost\n",
      "['Identity', 'QuadCostTransformer', 'KeepBounds', 'DeleteBounds', 'GaussRegTransformer']\n",
      "Forbidding QuadCostTransformer\n"
     ]
    },
    {
     "data": {
      "text/plain": [
       "Configuration space object:\n",
       "  Hyperparameters:\n",
       "    ARX:history, Type: UniformInteger, Range: [1, 10], Default: 4\n",
       "    DirectTranscription:horizon, Type: UniformInteger, Range: [1, 30], Default: 10\n",
       "    GaussRegTransformer:reg_weight, Type: UniformFloat, Range: [0.001, 10000.0], Default: 1.0, on log-scale\n",
       "    IterativeLQR:frequency, Type: UniformInteger, Range: [1, 5], Default: 1\n",
       "    IterativeLQR:horizon, Type: UniformInteger, Range: [5, 25], Default: 20\n",
       "    IterativeLQR:max_iter, Type: UniformInteger, Range: [10, 50], Default: 20\n",
       "    Koopman:lasso_alpha, Type: UniformFloat, Range: [1e-10, 100.0], Default: 1.0, on log-scale\n",
       "    Koopman:method, Type: Categorical, Choices: {lstsq, lasso, stable}, Default: lstsq\n",
       "    Koopman:poly_basis, Type: Categorical, Choices: {true, false}, Default: false\n",
       "    Koopman:poly_cross_terms, Type: Categorical, Choices: {false}, Default: false\n",
       "    Koopman:poly_degree, Type: UniformInteger, Range: [2, 8], Default: 3\n",
       "    Koopman:trig_basis, Type: Categorical, Choices: {true, false}, Default: false\n",
       "    Koopman:trig_freq, Type: UniformInteger, Range: [1, 8], Default: 1\n",
       "    Koopman:trig_interaction, Type: Categorical, Choices: {false}, Default: false\n",
       "    LQR:finite_horizon, Type: Categorical, Choices: {true, false}, Default: true\n",
       "    LQR:horizon, Type: UniformInteger, Range: [1, 1000], Default: 10\n",
       "    MLP:batchnorm, Type: Categorical, Choices: {False, True}, Default: False\n",
       "    MLP:hidden_size_1, Type: UniformInteger, Range: [16, 256], Default: 128\n",
       "    MLP:hidden_size_2, Type: UniformInteger, Range: [16, 256], Default: 128\n",
       "    MLP:hidden_size_3, Type: UniformInteger, Range: [16, 256], Default: 128\n",
       "    MLP:hidden_size_4, Type: UniformInteger, Range: [16, 256], Default: 128\n",
       "    MLP:lr, Type: UniformFloat, Range: [1e-05, 1.0], Default: 0.001, on log-scale\n",
       "    MLP:n_hidden_layers, Type: Categorical, Choices: {1, 2, 3, 4}, Default: 2\n",
       "    MLP:nonlintype, Type: Categorical, Choices: {relu, tanh, sigmoid, selu}, Default: relu\n",
       "    MPPI:horizon, Type: UniformInteger, Range: [5, 30], Default: 20\n",
       "    MPPI:lmda, Type: UniformFloat, Range: [0.1, 2.0], Default: 1.0\n",
       "    MPPI:num_path, Type: UniformInteger, Range: [100, 1000], Default: 200\n",
       "    MPPI:sigma, Type: UniformFloat, Range: [0.0001, 2.0], Default: 1.0\n",
       "    QuadCostTransformer:dx_F, Type: UniformFloat, Range: [0.001, 10000.0], Default: 1.0, on log-scale\n",
       "    QuadCostTransformer:dx_Q, Type: UniformFloat, Range: [0.001, 10000.0], Default: 1.0, on log-scale\n",
       "    QuadCostTransformer:omega_F, Type: UniformFloat, Range: [0.001, 10000.0], Default: 1.0, on log-scale\n",
       "    QuadCostTransformer:omega_Q, Type: UniformFloat, Range: [0.001, 10000.0], Default: 1.0, on log-scale\n",
       "    QuadCostTransformer:theta_F, Type: UniformFloat, Range: [0.001, 10000.0], Default: 1.0, on log-scale\n",
       "    QuadCostTransformer:theta_Q, Type: UniformFloat, Range: [0.001, 10000.0], Default: 1.0, on log-scale\n",
       "    QuadCostTransformer:u_R, Type: UniformFloat, Range: [0.001, 10000.0], Default: 1.0, on log-scale\n",
       "    QuadCostTransformer:x_F, Type: UniformFloat, Range: [0.001, 10000.0], Default: 1.0, on log-scale\n",
       "    QuadCostTransformer:x_Q, Type: UniformFloat, Range: [0.001, 10000.0], Default: 1.0, on log-scale\n",
       "    SINDy:poly_basis, Type: Categorical, Choices: {true, false}, Default: false\n",
       "    SINDy:poly_cross_terms, Type: Categorical, Choices: {false}, Default: false\n",
       "    SINDy:poly_degree, Type: UniformInteger, Range: [2, 8], Default: 3\n",
       "    SINDy:threshold, Type: UniformFloat, Range: [1e-05, 10.0], Default: 0.01, on log-scale\n",
       "    SINDy:time_mode, Type: Categorical, Choices: {discrete, continuous}, Default: discrete\n",
       "    SINDy:trig_basis, Type: Categorical, Choices: {true, false}, Default: false\n",
       "    SINDy:trig_freq, Type: UniformInteger, Range: [1, 8], Default: 1\n",
       "    SINDy:trig_interaction, Type: Categorical, Choices: {false}, Default: false\n",
       "    constraint_transformer, Type: Categorical, Choices: {_}, Default: _\n",
       "    cost_transformer, Type: Categorical, Choices: {QuadCostTransformer, _}, Default: _\n",
       "    model, Type: Categorical, Choices: {MLP, SINDy, ARX, Koopman}, Default: MLP\n",
       "    optimizer, Type: Categorical, Choices: {IterativeLQR, MPPI, LQR, DirectTranscription}, Default: IterativeLQR\n",
       "    regularizer, Type: Categorical, Choices: {_, GaussRegTransformer}, Default: _\n",
       "  Conditions:\n",
       "    ARX:history | model == 'ARX'\n",
       "    DirectTranscription:horizon | optimizer == 'DirectTranscription'\n",
       "    GaussRegTransformer:reg_weight | regularizer == 'GaussRegTransformer'\n",
       "    IterativeLQR:frequency | optimizer == 'IterativeLQR'\n",
       "    IterativeLQR:horizon | optimizer == 'IterativeLQR'\n",
       "    IterativeLQR:max_iter | optimizer == 'IterativeLQR'\n",
       "    Koopman:lasso_alpha | Koopman:method in {'lasso'}\n",
       "    Koopman:method | model == 'Koopman'\n",
       "    Koopman:poly_basis | model == 'Koopman'\n",
       "    Koopman:poly_cross_terms | Koopman:poly_basis in {'true'}\n",
       "    Koopman:poly_degree | Koopman:poly_basis in {'true'}\n",
       "    Koopman:trig_basis | model == 'Koopman'\n",
       "    Koopman:trig_freq | Koopman:trig_basis in {'true'}\n",
       "    Koopman:trig_interaction | Koopman:trig_basis in {'true'}\n",
       "    LQR:finite_horizon | optimizer == 'LQR'\n",
       "    LQR:horizon | LQR:finite_horizon in {'true'}\n",
       "    MLP:batchnorm | model == 'MLP'\n",
       "    MLP:hidden_size_1 | model == 'MLP'\n",
       "    MLP:hidden_size_2 | MLP:n_hidden_layers in {'2', '3', '4'}\n",
       "    MLP:hidden_size_3 | MLP:n_hidden_layers in {'3', '4'}\n",
       "    MLP:hidden_size_4 | MLP:n_hidden_layers in {'4'}\n",
       "    MLP:lr | model == 'MLP'\n",
       "    MLP:n_hidden_layers | model == 'MLP'\n",
       "    MLP:nonlintype | model == 'MLP'\n",
       "    MPPI:horizon | optimizer == 'MPPI'\n",
       "    MPPI:lmda | optimizer == 'MPPI'\n",
       "    MPPI:num_path | optimizer == 'MPPI'\n",
       "    MPPI:sigma | optimizer == 'MPPI'\n",
       "    QuadCostTransformer:dx_F | cost_transformer == 'QuadCostTransformer'\n",
       "    QuadCostTransformer:dx_Q | cost_transformer == 'QuadCostTransformer'\n",
       "    QuadCostTransformer:omega_F | cost_transformer == 'QuadCostTransformer'\n",
       "    QuadCostTransformer:omega_Q | cost_transformer == 'QuadCostTransformer'\n",
       "    QuadCostTransformer:theta_F | cost_transformer == 'QuadCostTransformer'\n",
       "    QuadCostTransformer:theta_Q | cost_transformer == 'QuadCostTransformer'\n",
       "    QuadCostTransformer:u_R | cost_transformer == 'QuadCostTransformer'\n",
       "    QuadCostTransformer:x_F | cost_transformer == 'QuadCostTransformer'\n",
       "    QuadCostTransformer:x_Q | cost_transformer == 'QuadCostTransformer'\n",
       "    SINDy:poly_basis | model == 'SINDy'\n",
       "    SINDy:poly_cross_terms | model == 'SINDy'\n",
       "    SINDy:poly_degree | SINDy:poly_basis in {'true'}\n",
       "    SINDy:threshold | model == 'SINDy'\n",
       "    SINDy:time_mode | model == 'SINDy'\n",
       "    SINDy:trig_basis | model == 'SINDy'\n",
       "    SINDy:trig_freq | SINDy:trig_basis in {'true'}\n",
       "    SINDy:trig_interaction | SINDy:trig_basis in {'true'}\n",
       "  Forbidden Clauses:\n",
       "    (Forbidden: model == 'MLP' && Forbidden: optimizer == 'LQR')\n",
       "    Forbidden: cost_transformer == 'QuadCostTransformer'\n",
       "    (Forbidden: model == 'SINDy' && Forbidden: optimizer == 'LQR')"
      ]
     },
     "execution_count": 12,
     "metadata": {},
     "output_type": "execute_result"
    }
   ],
   "source": [
    "from autompc import OCP\n",
    "from autompc.costs import QuadCost\n",
    "\n",
    "ocp = OCP(system)\n",
    "ocp.set_cost(QuadCost(system,np.eye(4)*10,np.eye(1)*0.1,np.eye(4)*50))\n",
    "\n",
    "pipeline.set_ocp(ocp)\n",
    "pipeline.get_config_space()"
   ]
  },
  {
   "cell_type": "markdown",
   "metadata": {},
   "source": [
    "To specify options for each component, you can freeze them usnig `fix_option` or eliminate them using `forbid_option`.  You can also freeze the choice and the choice's hyperparameters using `set_hyper_values`."
   ]
  },
  {
   "cell_type": "code",
   "execution_count": 13,
   "metadata": {},
   "outputs": [
    {
     "name": "stdout",
     "output_type": "stream",
     "text": [
      "Forbidding model MLP to be used with LQR due to property is_linear\n",
      "Forbidding model SINDy to be used with LQR due to property is_linear\n",
      "Checking compatibility with OCP\n",
      "Quad cost\n",
      "['Identity', 'QuadCostTransformer', 'KeepBounds', 'DeleteBounds', 'GaussRegTransformer']\n",
      "Forbidding QuadCostTransformer\n"
     ]
    },
    {
     "data": {
      "text/plain": [
       "Configuration space object:\n",
       "  Hyperparameters:\n",
       "    ARX:history, Type: UniformInteger, Range: [1, 10], Default: 4\n",
       "    DirectTranscription:horizon, Type: UniformInteger, Range: [1, 30], Default: 10\n",
       "    GaussRegTransformer:reg_weight, Type: UniformFloat, Range: [0.001, 10000.0], Default: 1.0, on log-scale\n",
       "    IterativeLQR:frequency, Type: UniformInteger, Range: [1, 5], Default: 1\n",
       "    IterativeLQR:horizon, Type: UniformInteger, Range: [5, 25], Default: 20\n",
       "    IterativeLQR:max_iter, Type: UniformInteger, Range: [10, 50], Default: 20\n",
       "    Koopman:lasso_alpha, Type: UniformFloat, Range: [1e-10, 100.0], Default: 1.0, on log-scale\n",
       "    Koopman:method, Type: Categorical, Choices: {lstsq, lasso, stable}, Default: lstsq\n",
       "    Koopman:poly_basis, Type: Categorical, Choices: {true, false}, Default: false\n",
       "    Koopman:poly_cross_terms, Type: Categorical, Choices: {false}, Default: false\n",
       "    Koopman:poly_degree, Type: UniformInteger, Range: [2, 8], Default: 3\n",
       "    Koopman:trig_basis, Type: Categorical, Choices: {true, false}, Default: false\n",
       "    Koopman:trig_freq, Type: UniformInteger, Range: [1, 8], Default: 1\n",
       "    Koopman:trig_interaction, Type: Categorical, Choices: {false}, Default: false\n",
       "    LQR:finite_horizon, Type: Categorical, Choices: {true, false}, Default: true\n",
       "    LQR:horizon, Type: UniformInteger, Range: [1, 1000], Default: 10\n",
       "    MLP:batchnorm, Type: Categorical, Choices: {False, True}, Default: False\n",
       "    MLP:hidden_size_1, Type: UniformInteger, Range: [16, 256], Default: 128\n",
       "    MLP:hidden_size_2, Type: UniformInteger, Range: [16, 256], Default: 128\n",
       "    MLP:hidden_size_3, Type: UniformInteger, Range: [16, 256], Default: 128\n",
       "    MLP:hidden_size_4, Type: UniformInteger, Range: [16, 256], Default: 128\n",
       "    MLP:lr, Type: UniformFloat, Range: [1e-05, 1.0], Default: 0.001, on log-scale\n",
       "    MLP:n_hidden_layers, Type: Categorical, Choices: {1, 2, 3, 4}, Default: 2\n",
       "    MLP:nonlintype, Type: Categorical, Choices: {relu, tanh, sigmoid, selu}, Default: relu\n",
       "    MPPI:horizon, Type: UniformInteger, Range: [5, 30], Default: 20\n",
       "    MPPI:lmda, Type: UniformFloat, Range: [0.1, 2.0], Default: 1.0\n",
       "    MPPI:num_path, Type: UniformInteger, Range: [100, 1000], Default: 200\n",
       "    MPPI:sigma, Type: UniformFloat, Range: [0.0001, 2.0], Default: 1.0\n",
       "    QuadCostTransformer:dx_F, Type: UniformFloat, Range: [0.001, 10000.0], Default: 1.0, on log-scale\n",
       "    QuadCostTransformer:dx_Q, Type: UniformFloat, Range: [0.001, 10000.0], Default: 1.0, on log-scale\n",
       "    QuadCostTransformer:omega_F, Type: UniformFloat, Range: [0.001, 10000.0], Default: 1.0, on log-scale\n",
       "    QuadCostTransformer:omega_Q, Type: UniformFloat, Range: [0.001, 10000.0], Default: 1.0, on log-scale\n",
       "    QuadCostTransformer:theta_F, Type: UniformFloat, Range: [0.001, 10000.0], Default: 1.0, on log-scale\n",
       "    QuadCostTransformer:theta_Q, Type: UniformFloat, Range: [0.001, 10000.0], Default: 1.0, on log-scale\n",
       "    QuadCostTransformer:u_R, Type: UniformFloat, Range: [0.001, 10000.0], Default: 1.0, on log-scale\n",
       "    QuadCostTransformer:x_F, Type: UniformFloat, Range: [0.001, 10000.0], Default: 1.0, on log-scale\n",
       "    QuadCostTransformer:x_Q, Type: UniformFloat, Range: [0.001, 10000.0], Default: 1.0, on log-scale\n",
       "    SINDy:poly_basis, Type: Categorical, Choices: {true, false}, Default: false\n",
       "    SINDy:poly_cross_terms, Type: Categorical, Choices: {false}, Default: false\n",
       "    SINDy:poly_degree, Type: UniformInteger, Range: [2, 8], Default: 3\n",
       "    SINDy:threshold, Type: UniformFloat, Range: [1e-05, 10.0], Default: 0.01, on log-scale\n",
       "    SINDy:time_mode, Type: Categorical, Choices: {discrete, continuous}, Default: discrete\n",
       "    SINDy:trig_basis, Type: Categorical, Choices: {true, false}, Default: false\n",
       "    SINDy:trig_freq, Type: UniformInteger, Range: [1, 8], Default: 1\n",
       "    SINDy:trig_interaction, Type: Categorical, Choices: {false}, Default: false\n",
       "    constraint_transformer, Type: Categorical, Choices: {_}, Default: _\n",
       "    cost_transformer, Type: Categorical, Choices: {QuadCostTransformer, _}, Default: _\n",
       "    model, Type: Categorical, Choices: {MLP, SINDy, ARX, Koopman}, Default: MLP\n",
       "    optimizer, Type: Categorical, Choices: {IterativeLQR, MPPI, LQR, DirectTranscription}, Default: IterativeLQR\n",
       "    regularizer, Type: Categorical, Choices: {_, GaussRegTransformer}, Default: _\n",
       "  Conditions:\n",
       "    ARX:history | model == 'ARX'\n",
       "    DirectTranscription:horizon | optimizer == 'DirectTranscription'\n",
       "    GaussRegTransformer:reg_weight | regularizer == 'GaussRegTransformer'\n",
       "    IterativeLQR:frequency | optimizer == 'IterativeLQR'\n",
       "    IterativeLQR:horizon | optimizer == 'IterativeLQR'\n",
       "    IterativeLQR:max_iter | optimizer == 'IterativeLQR'\n",
       "    Koopman:lasso_alpha | Koopman:method in {'lasso'}\n",
       "    Koopman:method | model == 'Koopman'\n",
       "    Koopman:poly_basis | model == 'Koopman'\n",
       "    Koopman:poly_cross_terms | Koopman:poly_basis in {'true'}\n",
       "    Koopman:poly_degree | Koopman:poly_basis in {'true'}\n",
       "    Koopman:trig_basis | model == 'Koopman'\n",
       "    Koopman:trig_freq | Koopman:trig_basis in {'true'}\n",
       "    Koopman:trig_interaction | Koopman:trig_basis in {'true'}\n",
       "    LQR:finite_horizon | optimizer == 'LQR'\n",
       "    LQR:horizon | LQR:finite_horizon in {'true'}\n",
       "    MLP:batchnorm | model == 'MLP'\n",
       "    MLP:hidden_size_1 | model == 'MLP'\n",
       "    MLP:hidden_size_2 | MLP:n_hidden_layers in {'2', '3', '4'}\n",
       "    MLP:hidden_size_3 | MLP:n_hidden_layers in {'3', '4'}\n",
       "    MLP:hidden_size_4 | MLP:n_hidden_layers in {'4'}\n",
       "    MLP:lr | model == 'MLP'\n",
       "    MLP:n_hidden_layers | model == 'MLP'\n",
       "    MLP:nonlintype | model == 'MLP'\n",
       "    MPPI:horizon | optimizer == 'MPPI'\n",
       "    MPPI:lmda | optimizer == 'MPPI'\n",
       "    MPPI:num_path | optimizer == 'MPPI'\n",
       "    MPPI:sigma | optimizer == 'MPPI'\n",
       "    QuadCostTransformer:dx_F | cost_transformer == 'QuadCostTransformer'\n",
       "    QuadCostTransformer:dx_Q | cost_transformer == 'QuadCostTransformer'\n",
       "    QuadCostTransformer:omega_F | cost_transformer == 'QuadCostTransformer'\n",
       "    QuadCostTransformer:omega_Q | cost_transformer == 'QuadCostTransformer'\n",
       "    QuadCostTransformer:theta_F | cost_transformer == 'QuadCostTransformer'\n",
       "    QuadCostTransformer:theta_Q | cost_transformer == 'QuadCostTransformer'\n",
       "    QuadCostTransformer:u_R | cost_transformer == 'QuadCostTransformer'\n",
       "    QuadCostTransformer:x_F | cost_transformer == 'QuadCostTransformer'\n",
       "    QuadCostTransformer:x_Q | cost_transformer == 'QuadCostTransformer'\n",
       "    SINDy:poly_basis | model == 'SINDy'\n",
       "    SINDy:poly_cross_terms | model == 'SINDy'\n",
       "    SINDy:poly_degree | SINDy:poly_basis in {'true'}\n",
       "    SINDy:threshold | model == 'SINDy'\n",
       "    SINDy:time_mode | model == 'SINDy'\n",
       "    SINDy:trig_basis | model == 'SINDy'\n",
       "    SINDy:trig_freq | SINDy:trig_basis in {'true'}\n",
       "    SINDy:trig_interaction | SINDy:trig_basis in {'true'}\n",
       "  Forbidden Clauses:\n",
       "    Forbidden: model == 'SINDy'\n",
       "    (Forbidden: model == 'MLP' && Forbidden: optimizer == 'LQR')\n",
       "    Forbidden: cost_transformer == 'QuadCostTransformer'\n",
       "    (Forbidden: model == 'SINDy' && Forbidden: optimizer == 'LQR')"
      ]
     },
     "execution_count": 13,
     "metadata": {},
     "output_type": "execute_result"
    }
   ],
   "source": [
    "pipeline.forbid_option('model','SINDy')\n",
    "pipeline.get_config_space()"
   ]
  },
  {
   "cell_type": "markdown",
   "metadata": {},
   "source": [
    "TODO describe `forbid_incompatible_options`."
   ]
  },
  {
   "cell_type": "code",
   "execution_count": null,
   "metadata": {},
   "outputs": [],
   "source": []
  }
 ],
 "metadata": {
  "kernelspec": {
   "display_name": "Python 3",
   "language": "python",
   "name": "python3"
  },
  "language_info": {
   "codemirror_mode": {
    "name": "ipython",
    "version": 3
   },
   "file_extension": ".py",
   "mimetype": "text/x-python",
   "name": "python",
   "nbconvert_exporter": "python",
   "pygments_lexer": "ipython3",
   "version": "3.7.10"
  },
  "latex_envs": {
   "LaTeX_envs_menu_present": true,
   "autoclose": false,
   "autocomplete": false,
   "bibliofile": "biblio.bib",
   "cite_by": "apalike",
   "current_citInitial": 1,
   "eqLabelWithNumbers": true,
   "eqNumInitial": 1,
   "hotkeys": {
    "equation": "Ctrl-E",
    "itemize": "Ctrl-I"
   },
   "labels_anchors": false,
   "latex_user_defs": false,
   "report_style_numbering": false,
   "user_envs_cfg": false
  },
  "toc": {
   "base_numbering": 1,
   "nav_menu": {},
   "number_sections": true,
   "sideBar": true,
   "skip_h1_title": false,
   "title_cell": "Table of Contents",
   "title_sidebar": "Contents",
   "toc_cell": false,
   "toc_position": {},
   "toc_section_display": true,
   "toc_window_display": false
  }
 },
 "nbformat": 4,
 "nbformat_minor": 4
}
