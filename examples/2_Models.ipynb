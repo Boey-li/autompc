{
 "cells": [
  {
   "cell_type": "markdown",
   "metadata": {},
   "source": [
    "# Models\n",
    "\n",
    "This notebook will demonstrate the basic features of AutoMPC for system ID modeling and model evaluation."
   ]
  },
  {
   "cell_type": "markdown",
   "metadata": {},
   "source": [
    "## Set-Up\n",
    "\n",
    "As before, we will generate our trajectories using the benchmark module."
   ]
  },
  {
   "cell_type": "code",
   "execution_count": 1,
   "metadata": {},
   "outputs": [
    {
     "name": "stdout",
     "output_type": "stream",
     "text": [
      "Loading AutoMPC...\n",
      "Cannot import SnoptWrapper\n",
      "Cannot import KnitroSolver, make sure its Python interface is installed\n",
      "Finished loading AutoMPC\n",
      "running build_ext\n"
     ]
    }
   ],
   "source": [
    "import autompc as ampc\n",
    "import numpy as np\n",
    "from autompc.benchmarks import CartpoleSwingupBenchmark\n",
    "\n",
    "benchmark = CartpoleSwingupBenchmark()\n",
    "\n",
    "\n",
    "# Get system and task specification\n",
    "system = benchmark.system\n",
    "task   = benchmark.task\n",
    "\n",
    "# Generate benchmark dataset\n",
    "trajs = benchmark.gen_trajs(seed=100, n_trajs=500, traj_len=200)"
   ]
  },
  {
   "cell_type": "markdown",
   "metadata": {},
   "source": [
    "## Models\n",
    "\n",
    "AutoMPC provides a variety of sytem ID models which can be used to learn the sytem dynamics.  Here, we train an MLP model to predict the cartpole dynamics."
   ]
  },
  {
   "cell_type": "code",
   "execution_count": 2,
   "metadata": {},
   "outputs": [
    {
     "name": "stdout",
     "output_type": "stream",
     "text": [
      "use_cuda=True\n",
      "MLP Using Cuda\n",
      "hidden_sizes= [128, 128]\n",
      "100%|██████████| 50/50 [02:49<00:00,  3.38s/it]\n"
     ]
    }
   ],
   "source": [
    "from autompc.sysid import MLP\n",
    "\n",
    "model = MLP(system, n_hidden_layers=2, hidden_size_1=128, hidden_size_2=128, n_train_iters=50,\n",
    "               nonlintype=\"relu\")\n",
    "\n",
    "model.train(trajs)"
   ]
  },
  {
   "cell_type": "markdown",
   "metadata": {},
   "source": [
    "Now that we have trained our model, we can use it to make predictions.  Let's try predicting the next state from one of our training trajectories.  We first compute the model state at a certain point in the trajectory"
   ]
  },
  {
   "cell_type": "code",
   "execution_count": 3,
   "metadata": {},
   "outputs": [],
   "source": [
    "traj = trajs[0]\n",
    "model_state = model.traj_to_state(traj[:100])"
   ]
  },
  {
   "cell_type": "markdown",
   "metadata": {},
   "source": [
    "The model state contains the information the model needs to predict the next time step.  The model state always begins with the most recent observation.  For MLP, the model state is actually the same as the most recent observation, but this is not necessarily the case.  For example, the ARX model state also contains a history of observations for several time steps.\n",
    "\n",
    "Now, we can predict the next state"
   ]
  },
  {
   "cell_type": "code",
   "execution_count": 4,
   "metadata": {},
   "outputs": [
    {
     "data": {
      "text/plain": [
       "array([ 2.41286448,  4.03496465, 27.24861947,  7.65636714])"
      ]
     },
     "execution_count": 4,
     "metadata": {},
     "output_type": "execute_result"
    }
   ],
   "source": [
    "pred_state = model.pred(model_state, traj[99].ctrl)\n",
    "pred_state"
   ]
  },
  {
   "cell_type": "markdown",
   "metadata": {},
   "source": [
    "Compare this to the true observation"
   ]
  },
  {
   "cell_type": "code",
   "execution_count": 5,
   "metadata": {},
   "outputs": [
    {
     "data": {
      "text/plain": [
       "array([ 2.41170398,  4.04120632, 27.2465825 ,  7.66062691])"
      ]
     },
     "execution_count": 5,
     "metadata": {},
     "output_type": "execute_result"
    }
   ],
   "source": [
    "traj[100].obs"
   ]
  },
  {
   "cell_type": "markdown",
   "metadata": {},
   "source": [
    "For differentiable models, we can also get the gradient of the\n",
    "model prediction"
   ]
  },
  {
   "cell_type": "code",
   "execution_count": 6,
   "metadata": {},
   "outputs": [
    {
     "data": {
      "text/plain": [
       "array([[ 9.98693111e-01,  5.00903701e-02,  7.38808326e-06,\n",
       "         8.68121224e-06],\n",
       "       [ 5.14443615e-01,  9.49758929e-01,  7.57387242e-06,\n",
       "        -4.71907839e-04],\n",
       "       [ 2.74026899e-03,  2.61244824e-04,  1.00000587e+00,\n",
       "         5.00787339e-02],\n",
       "       [ 7.78636272e-03, -9.10321627e-04,  1.06090435e-04,\n",
       "         9.99237129e-01]])"
      ]
     },
     "execution_count": 6,
     "metadata": {},
     "output_type": "execute_result"
    }
   ],
   "source": [
    "pred_state, state_jac, ctrl_jac = model.pred_diff(model_state, traj[99].ctrl)\n",
    "state_jac"
   ]
  },
  {
   "cell_type": "markdown",
   "metadata": {},
   "source": [
    "## Graphing Model Accuracy\n",
    "\n",
    "Let's train another, much smaller MLP model"
   ]
  },
  {
   "cell_type": "code",
   "execution_count": 7,
   "metadata": {},
   "outputs": [
    {
     "name": "stdout",
     "output_type": "stream",
     "text": [
      "use_cuda=True\n",
      "MLP Using Cuda\n",
      "hidden_sizes= [32]\n",
      "100%|██████████| 50/50 [02:12<00:00,  2.65s/it]\n"
     ]
    }
   ],
   "source": [
    "from autompc.sysid import MLP\n",
    "\n",
    "model2 = MLP(system, n_hidden_layers=1, hidden_size_1=32, n_train_iters=50,\n",
    "               nonlintype=\"relu\")\n",
    "\n",
    "model2.train(trajs)"
   ]
  },
  {
   "cell_type": "markdown",
   "metadata": {},
   "source": [
    "Now, we'd like to compare this to our original model.  One convenient way to do this is by graphing the model prediction horizon over various prediction horizons."
   ]
  },
  {
   "cell_type": "code",
   "execution_count": 11,
   "metadata": {},
   "outputs": [
    {
     "data": {
      "image/png": "[encoded data removed]",
      "text/plain": [
       "<Figure size 432x288 with 1 Axes>"
      ]
     },
     "metadata": {
      "needs_background": "light"
     },
     "output_type": "display_data"
    }
   ],
   "source": [
    "import matplotlib.pyplot as plt\n",
    "from autompc.graphs.kstep_graph import KstepPredAccGraph\n",
    "\n",
    "graph = KstepPredAccGraph(system, trajs, kmax=20, metric=\"rmse\")\n",
    "graph.add_model(model, \"Large MLP\")\n",
    "graph.add_model(model2, \"Small MLP\")\n",
    "\n",
    "fig = plt.figure()\n",
    "ax = fig.gca()\n",
    "graph(fig, ax)\n",
    "plt.show()"
   ]
  },
  {
   "cell_type": "markdown",
   "metadata": {},
   "source": []
  }
 ],
 "metadata": {
  "kernelspec": {
   "display_name": "Python 3",
   "language": "python",
   "name": "python3"
  },
  "language_info": {
   "codemirror_mode": {
    "name": "ipython",
    "version": 3
   },
   "file_extension": ".py",
   "mimetype": "text/x-python",
   "name": "python",
   "nbconvert_exporter": "python",
   "pygments_lexer": "ipython3",
   "version": "3.8.7"
  }
 },
 "nbformat": 4,
 "nbformat_minor": 4
}
