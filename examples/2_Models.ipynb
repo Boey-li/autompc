{
 "cells": [
  {
   "cell_type": "markdown",
   "metadata": {},
   "source": [
    "# Models\n",
    "\n",
    "This notebook will demonstrate the basic features of AutoMPC for system ID modeling and model evaluation."
   ]
  },
  {
   "cell_type": "markdown",
   "metadata": {},
   "source": [
    "## Set-Up\n",
    "\n",
    "As before, we begin by importing autompc."
   ]
  },
  {
   "cell_type": "code",
   "execution_count": 1,
   "metadata": {},
   "outputs": [
    {
     "name": "stdout",
     "output_type": "stream",
     "text": [
      "Loading AutoMPC...\n",
      "Finished loading AutoMPC\n"
     ]
    }
   ],
   "source": [
    "import autompc as ampc"
   ]
  },
  {
   "cell_type": "markdown",
   "metadata": {},
   "source": [
    "To perform system identification, we need a dataset of trajectories to work with.  We will use the cartpole system, available from the `benchmarks` package, to generate our dataset."
   ]
  },
  {
   "cell_type": "code",
   "execution_count": 2,
   "metadata": {},
   "outputs": [],
   "source": [
    "from autompc.benchmarks import CartpoleSwingupBenchmark\n",
    "\n",
    "benchmark = CartpoleSwingupBenchmark()\n",
    "\n",
    "system = benchmark.system\n",
    "trajs = benchmark.gen_trajs(seed=100, n_trajs=500, traj_len=200)"
   ]
  },
  {
   "cell_type": "markdown",
   "metadata": {},
   "source": [
    "## Models\n",
    "\n",
    "AutoMPC provides a variety of sytem ID models which can be used to learn the sytem dynamics.  Here, we will use an MLP model, but for a complete list see [here](https://autompc.readthedocs.io/en/latest/source/sysid.html#supported-system-id-models).\n",
    "\n",
    "There are two ways to create a model: we can either instantiate the model class directly and pass the hyperparameter values to the constructor, or we can use a factory class.  Here we will use the first method, but for more information on using model factories, see [4. Factories and Pipelines](https://github.com/williamedwards/autompc/tree/main/examples). (**Note:** This will take several minutes to run depending on your hardware)."
   ]
  },
  {
   "cell_type": "code",
   "execution_count": 3,
   "metadata": {},
   "outputs": [
    {
     "name": "stdout",
     "output_type": "stream",
     "text": [
      "MLP Using Cuda\n",
      "hidden_sizes= [128, 128]\n",
      "100%|██████████| 50/50 [02:49<00:00,  3.40s/it]\n"
     ]
    }
   ],
   "source": [
    "from autompc.sysid import MLP\n",
    "\n",
    "model = MLP(system, n_hidden_layers=2, hidden_size_1=128, hidden_size_2=128, n_train_iters=50,\n",
    "               nonlintype=\"relu\")\n",
    "\n",
    "model.train(trajs)"
   ]
  },
  {
   "cell_type": "markdown",
   "metadata": {},
   "source": [
    "Now that we have trained our model, we can use it to make predictions.  Let's try predicting the next state from one of our training trajectories.  We first compute the model state at a certain point in the trajectory"
   ]
  },
  {
   "cell_type": "code",
   "execution_count": 4,
   "metadata": {},
   "outputs": [],
   "source": [
    "traj = trajs[0]\n",
    "model_state = model.traj_to_state(traj[:100])"
   ]
  },
  {
   "cell_type": "markdown",
   "metadata": {},
   "source": [
    "The model state contains the information the model needs to predict the next time step.  `model_state[:system.obs_dim]` is always equal to the most recent observation.  For the MLP, that's actually all there is to the model state, but some models require a larger state.  We can see the dimension of the model state by running"
   ]
  },
  {
   "cell_type": "code",
   "execution_count": 5,
   "metadata": {},
   "outputs": [
    {
     "data": {
      "text/plain": [
       "4"
      ]
     },
     "execution_count": 5,
     "metadata": {},
     "output_type": "execute_result"
    }
   ],
   "source": [
    "model.state_dim"
   ]
  },
  {
   "cell_type": "markdown",
   "metadata": {},
   "source": [
    "We can also check other properties of the model, such as whether it is differentiable and whether it is linear."
   ]
  },
  {
   "cell_type": "code",
   "execution_count": 6,
   "metadata": {},
   "outputs": [
    {
     "name": "stdout",
     "output_type": "stream",
     "text": [
      "Model is Differentiable?  True\n",
      "Model is Linear?  False\n"
     ]
    }
   ],
   "source": [
    "print(\"Model is Differentiable? \", model.is_diff)\n",
    "print(\"Model is Linear? \", model.is_linear)"
   ]
  },
  {
   "cell_type": "markdown",
   "metadata": {},
   "source": [
    "For comparison, consider the ARX model.  We observe that, unlike the MLP model, the ARX model state size is larger than `system.obs_dim` since the model state includes the history of several observations.  Make sure to use the `traj_to_state` method to properly derive the model state.  We can also observe that the ARX model is linear, which means that it is suitable for use with LQR control."
   ]
  },
  {
   "cell_type": "code",
   "execution_count": 7,
   "metadata": {},
   "outputs": [],
   "source": [
    "from autompc.sysid import ARX\n",
    "\n",
    "model_arx = ARX(system, history=4)\n",
    "model_arx.train(trajs)"
   ]
  },
  {
   "cell_type": "code",
   "execution_count": 8,
   "metadata": {},
   "outputs": [
    {
     "data": {
      "text/plain": [
       "20"
      ]
     },
     "execution_count": 8,
     "metadata": {},
     "output_type": "execute_result"
    }
   ],
   "source": [
    "model_state_arx = model_arx.traj_to_state(traj[:100])\n",
    "model_arx.state_dim"
   ]
  },
  {
   "cell_type": "code",
   "execution_count": 9,
   "metadata": {},
   "outputs": [
    {
     "data": {
      "text/plain": [
       "True"
      ]
     },
     "execution_count": 9,
     "metadata": {},
     "output_type": "execute_result"
    }
   ],
   "source": [
    "model_arx.is_linear"
   ]
  },
  {
   "cell_type": "markdown",
   "metadata": {},
   "source": [
    "We can use our current model state, and the control to make a prediction of the new model state"
   ]
  },
  {
   "cell_type": "code",
   "execution_count": 10,
   "metadata": {},
   "outputs": [
    {
     "data": {
      "text/plain": [
       "array([  2.68941559,   4.37364029, -18.88389727,  -1.48100851])"
      ]
     },
     "execution_count": 10,
     "metadata": {},
     "output_type": "execute_result"
    }
   ],
   "source": [
    "pred_state = model.pred(model_state, traj[99].ctrl)\n",
    "pred_state"
   ]
  },
  {
   "cell_type": "markdown",
   "metadata": {},
   "source": [
    "Compare this to the true observation"
   ]
  },
  {
   "cell_type": "code",
   "execution_count": 11,
   "metadata": {},
   "outputs": [
    {
     "data": {
      "text/plain": [
       "array([  2.6883774 ,   4.35962019, -18.88053395,  -1.48034168])"
      ]
     },
     "execution_count": 11,
     "metadata": {},
     "output_type": "execute_result"
    }
   ],
   "source": [
    "traj[100].obs"
   ]
  },
  {
   "cell_type": "markdown",
   "metadata": {},
   "source": [
    "We can use the true observation to update our model state"
   ]
  },
  {
   "cell_type": "code",
   "execution_count": 12,
   "metadata": {},
   "outputs": [
    {
     "data": {
      "text/plain": [
       "array([  2.6883774 ,   4.35962019, -18.88053395,  -1.48034168])"
      ]
     },
     "execution_count": 12,
     "metadata": {},
     "output_type": "execute_result"
    }
   ],
   "source": [
    "new_model_state = model.update_state(model_state, traj[99].ctrl, traj[100].obs)\n",
    "new_model_state"
   ]
  },
  {
   "cell_type": "markdown",
   "metadata": {},
   "source": [
    "For differentiable models, we can also get the Jacobian of the\n",
    "model prediction"
   ]
  },
  {
   "cell_type": "code",
   "execution_count": 13,
   "metadata": {},
   "outputs": [
    {
     "data": {
      "text/plain": [
       "array([[ 1.00053089e+00,  5.03358970e-02,  3.50368310e-06,\n",
       "         9.68383086e-06],\n",
       "       [ 1.76163223e-01,  9.52175728e-01,  7.65446300e-06,\n",
       "        -1.45508351e-05],\n",
       "       [-4.46823801e-03,  7.21435952e-04,  1.00001353e+00,\n",
       "         5.00606338e-02],\n",
       "       [-6.61414590e-03, -9.05173015e-04,  2.94035558e-06,\n",
       "         1.00012170e+00]])"
      ]
     },
     "execution_count": 13,
     "metadata": {},
     "output_type": "execute_result"
    }
   ],
   "source": [
    "pred_state, state_jac, ctrl_jac = model.pred_diff(model_state, traj[99].ctrl)\n",
    "state_jac"
   ]
  },
  {
   "cell_type": "markdown",
   "metadata": {},
   "source": [
    "## Graphing Model Accuracy\n",
    "\n",
    "Let's train another, much smaller MLP model"
   ]
  },
  {
   "cell_type": "code",
   "execution_count": 14,
   "metadata": {},
   "outputs": [
    {
     "name": "stdout",
     "output_type": "stream",
     "text": [
      "MLP Using Cuda\n",
      "hidden_sizes= [32]\n",
      "100%|██████████| 50/50 [01:47<00:00,  2.15s/it]\n"
     ]
    }
   ],
   "source": [
    "from autompc.sysid import MLP\n",
    "\n",
    "model2 = MLP(system, n_hidden_layers=1, hidden_size_1=32, n_train_iters=50,\n",
    "               nonlintype=\"relu\")\n",
    "\n",
    "model2.train(trajs)"
   ]
  },
  {
   "cell_type": "markdown",
   "metadata": {},
   "source": [
    "Now, we'd like to compare this to our original model.  One convenient way to do this is by graphing the model prediction horizon over various prediction horizons.  AutoMPC provides tools for easily constructing this graph.  (**Note:** This may take a few minutes to run)"
   ]
  },
  {
   "cell_type": "code",
   "execution_count": 15,
   "metadata": {},
   "outputs": [
    {
     "name": "stderr",
     "output_type": "stream",
     "text": [
      "/usr/lib/python3/dist-packages/pyparsing.py:1745: FutureWarning: Possible set intersection at position 3\n",
      "  self.re = re.compile( self.reString )\n"
     ]
    },
    {
     "data": {
      "image/png": "[encoded data removed]",
      "text/plain": [
       "<Figure size 432x288 with 1 Axes>"
      ]
     },
     "metadata": {
      "needs_background": "light"
     },
     "output_type": "display_data"
    }
   ],
   "source": [
    "import matplotlib.pyplot as plt\n",
    "from autompc.graphs.kstep_graph import KstepPredAccGraph\n",
    "\n",
    "graph = KstepPredAccGraph(system, trajs, kmax=20, metric=\"rmse\")\n",
    "graph.add_model(model, \"Large MLP\")\n",
    "graph.add_model(model2, \"Small MLP\")\n",
    "\n",
    "fig = plt.figure()\n",
    "ax = fig.gca()\n",
    "graph(fig, ax)\n",
    "ax.set_title(\"Comparison of MLP models\")\n",
    "plt.show()"
   ]
  },
  {
   "cell_type": "markdown",
   "metadata": {},
   "source": [
    "We can see that the small MLP has a larger prediction error at all time steps and its prediction error increases more rapidly over longer prediction horizons."
   ]
  }
 ],
 "metadata": {
  "kernelspec": {
   "display_name": "Python 3",
   "language": "python",
   "name": "python3"
  },
  "language_info": {
   "codemirror_mode": {
    "name": "ipython",
    "version": 3
   },
   "file_extension": ".py",
   "mimetype": "text/x-python",
   "name": "python",
   "nbconvert_exporter": "python",
   "pygments_lexer": "ipython3",
   "version": "3.8.9"
  }
 },
 "nbformat": 4,
 "nbformat_minor": 4
}
