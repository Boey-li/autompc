{
 "cells": [
  {
   "cell_type": "markdown",
   "metadata": {},
   "source": [
    "# Example 4: Pipelines"
   ]
  },
  {
   "cell_type": "markdown",
   "metadata": {},
   "source": [
    "## Set Up"
   ]
  },
  {
   "cell_type": "code",
   "execution_count": 1,
   "metadata": {},
   "outputs": [
    {
     "name": "stdout",
     "output_type": "stream",
     "text": [
      "Loading AutoMPC...\n",
      "Cannot import SnoptWrapper\n",
      "Cannot import KnitroSolver, make sure its Python interface is installed\n",
      "Finished loading AutoMPC\n",
      "running build_ext\n"
     ]
    }
   ],
   "source": [
    "import autompc as ampc\n",
    "import numpy as np\n",
    "from autompc.benchmarks import CartpoleSwingupBenchmark\n",
    "\n",
    "benchmark = CartpoleSwingupBenchmark()\n",
    "\n",
    "\n",
    "# Get system and task specification\n",
    "system = benchmark.system\n",
    "task   = benchmark.task\n",
    "\n",
    "# Generate benchmark dataset\n",
    "trajs = benchmark.gen_trajs(seed=100, n_trajs=10, traj_len=200)"
   ]
  },
  {
   "cell_type": "markdown",
   "metadata": {},
   "source": [
    "## Factories\n",
    "AutoMPC pipelines use Factories to generate models, costs, and controllers from their configurations.\n",
    "\n",
    "Here is an example for the SINDy model:"
   ]
  },
  {
   "cell_type": "code",
   "execution_count": 2,
   "metadata": {},
   "outputs": [
    {
     "data": {
      "text/plain": [
       "Configuration space object:\n",
       "  Hyperparameters:\n",
       "    lasso_alpha, Type: UniformFloat, Range: [1e-05, 100.0], Default: 1.0, on log-scale\n",
       "    method, Type: Categorical, Choices: {lstsq, lasso}, Default: lstsq\n",
       "    poly_basis, Type: Categorical, Choices: {true, false}, Default: false\n",
       "    poly_cross_terms, Type: Categorical, Choices: {true, false}, Default: false\n",
       "    poly_degree, Type: UniformInteger, Range: [2, 8], Default: 3\n",
       "    threshold, Type: UniformFloat, Range: [1e-05, 10.0], Default: 0.01, on log-scale\n",
       "    time_mode, Type: Categorical, Choices: {discrete, continuous}, Default: discrete\n",
       "    trig_basis, Type: Categorical, Choices: {true, false}, Default: false\n",
       "    trig_freq, Type: UniformInteger, Range: [1, 8], Default: 1\n",
       "    trig_interaction, Type: Categorical, Choices: {true, false}, Default: false\n",
       "  Conditions:\n",
       "    lasso_alpha | method in {'lasso'}\n",
       "    poly_degree | poly_basis in {'true'}\n",
       "    trig_freq | trig_basis in {'true'}\n",
       "    trig_interaction | trig_basis in {'true'}"
      ]
     },
     "execution_count": 2,
     "metadata": {},
     "output_type": "execute_result"
    }
   ],
   "source": [
    "from autompc.sysid import SINDyFactory\n",
    "\n",
    "model_factory = SINDyFactory(system)\n",
    "model_factory.get_configuration_space()"
   ]
  },
  {
   "cell_type": "markdown",
   "metadata": {},
   "source": [
    "We can use the factory with a given configuration to instantiate (and train the model)."
   ]
  },
  {
   "cell_type": "code",
   "execution_count": 3,
   "metadata": {},
   "outputs": [],
   "source": [
    "model_cfg = model_factory.get_configuration_space().get_default_configuration()\n",
    "model_cfg[\"trig_basis\"] = \"true\"\n",
    "\n",
    "model = model_factory(model_cfg, trajs)"
   ]
  },
  {
   "cell_type": "markdown",
   "metadata": {},
   "source": [
    "This works in a similar way for costs and controllers."
   ]
  },
  {
   "cell_type": "code",
   "execution_count": 4,
   "metadata": {},
   "outputs": [],
   "source": [
    "from autompc.costs import QuadCostFactory\n",
    "cost_factory = QuadCostFactory(system)\n",
    "cost_cfg = cost_factory.get_configuration_space().get_default_configuration()\n",
    "cost = cost_factory(cost_cfg, task, trajs)"
   ]
  },
  {
   "cell_type": "code",
   "execution_count": 5,
   "metadata": {},
   "outputs": [],
   "source": [
    "from autompc.control import IterativeLQRFactory\n",
    "controller_factory = IterativeLQRFactory(system)\n",
    "controller_cfg = controller_factory.get_configuration_space().get_default_configuration()\n",
    "controller = controller_factory(controller_cfg, task, trajs)"
   ]
  },
  {
   "cell_type": "markdown",
   "metadata": {},
   "source": [
    "## Pipelines\n",
    "We can use pipelines to generate the combined configuration space for a model, cost, and controller."
   ]
  },
  {
   "cell_type": "code",
   "execution_count": 6,
   "metadata": {},
   "outputs": [
    {
     "data": {
      "text/plain": [
       "Configuration space object:\n",
       "  Hyperparameters:\n",
       "    _cost:dx_F, Type: UniformFloat, Range: [0.001, 10000.0], Default: 1.0, on log-scale\n",
       "    _cost:dx_Q, Type: UniformFloat, Range: [0.001, 10000.0], Default: 1.0, on log-scale\n",
       "    _cost:omega_F, Type: UniformFloat, Range: [0.001, 10000.0], Default: 1.0, on log-scale\n",
       "    _cost:omega_Q, Type: UniformFloat, Range: [0.001, 10000.0], Default: 1.0, on log-scale\n",
       "    _cost:theta_F, Type: UniformFloat, Range: [0.001, 10000.0], Default: 1.0, on log-scale\n",
       "    _cost:theta_Q, Type: UniformFloat, Range: [0.001, 10000.0], Default: 1.0, on log-scale\n",
       "    _cost:u_R, Type: UniformFloat, Range: [0.001, 10000.0], Default: 1.0, on log-scale\n",
       "    _cost:x_F, Type: UniformFloat, Range: [0.001, 10000.0], Default: 1.0, on log-scale\n",
       "    _cost:x_Q, Type: UniformFloat, Range: [0.001, 10000.0], Default: 1.0, on log-scale\n",
       "    _ctrlr:horizon, Type: UniformInteger, Range: [5, 25], Default: 20\n",
       "    _model:lasso_alpha, Type: UniformFloat, Range: [1e-05, 100.0], Default: 1.0, on log-scale\n",
       "    _model:method, Type: Categorical, Choices: {lstsq, lasso}, Default: lstsq\n",
       "    _model:poly_basis, Type: Categorical, Choices: {true, false}, Default: false\n",
       "    _model:poly_cross_terms, Type: Categorical, Choices: {true, false}, Default: false\n",
       "    _model:poly_degree, Type: UniformInteger, Range: [2, 8], Default: 3\n",
       "    _model:threshold, Type: UniformFloat, Range: [1e-05, 10.0], Default: 0.01, on log-scale\n",
       "    _model:time_mode, Type: Categorical, Choices: {discrete, continuous}, Default: discrete\n",
       "    _model:trig_basis, Type: Categorical, Choices: {true, false}, Default: false\n",
       "    _model:trig_freq, Type: UniformInteger, Range: [1, 8], Default: 1\n",
       "    _model:trig_interaction, Type: Categorical, Choices: {true, false}, Default: false\n",
       "  Conditions:\n",
       "    _model:lasso_alpha | _model:method in {'lasso'}\n",
       "    _model:poly_degree | _model:poly_basis in {'true'}\n",
       "    _model:trig_freq | _model:trig_basis in {'true'}\n",
       "    _model:trig_interaction | _model:trig_basis in {'true'}"
      ]
     },
     "execution_count": 6,
     "metadata": {},
     "output_type": "execute_result"
    }
   ],
   "source": [
    "from autompc.pipeline import Pipeline\n",
    "pipeline = Pipeline(system, model_factory, cost_factory, controller_factory)\n",
    "pipeline.get_configuration_space()"
   ]
  },
  {
   "cell_type": "markdown",
   "metadata": {},
   "source": [
    "We can then use the pipeline to instantiate all components"
   ]
  },
  {
   "cell_type": "code",
   "execution_count": 7,
   "metadata": {},
   "outputs": [],
   "source": [
    "pipeline_cfg = pipeline.get_configuration_space().get_default_configuration()\n",
    "controller, cost, model = pipeline(pipeline_cfg, task, trajs)"
   ]
  },
  {
   "cell_type": "markdown",
   "metadata": {},
   "source": [
    "It is also easy for us to fix a particular component of the pipeline.  Here is an example of pipeline with a pre-trained model"
   ]
  },
  {
   "cell_type": "code",
   "execution_count": 8,
   "metadata": {},
   "outputs": [
    {
     "data": {
      "text/plain": [
       "Configuration space object:\n",
       "  Hyperparameters:\n",
       "    _cost:dx_F, Type: UniformFloat, Range: [0.001, 10000.0], Default: 1.0, on log-scale\n",
       "    _cost:dx_Q, Type: UniformFloat, Range: [0.001, 10000.0], Default: 1.0, on log-scale\n",
       "    _cost:omega_F, Type: UniformFloat, Range: [0.001, 10000.0], Default: 1.0, on log-scale\n",
       "    _cost:omega_Q, Type: UniformFloat, Range: [0.001, 10000.0], Default: 1.0, on log-scale\n",
       "    _cost:theta_F, Type: UniformFloat, Range: [0.001, 10000.0], Default: 1.0, on log-scale\n",
       "    _cost:theta_Q, Type: UniformFloat, Range: [0.001, 10000.0], Default: 1.0, on log-scale\n",
       "    _cost:u_R, Type: UniformFloat, Range: [0.001, 10000.0], Default: 1.0, on log-scale\n",
       "    _cost:x_F, Type: UniformFloat, Range: [0.001, 10000.0], Default: 1.0, on log-scale\n",
       "    _cost:x_Q, Type: UniformFloat, Range: [0.001, 10000.0], Default: 1.0, on log-scale\n",
       "    _ctrlr:horizon, Type: UniformInteger, Range: [5, 25], Default: 20"
      ]
     },
     "execution_count": 8,
     "metadata": {},
     "output_type": "execute_result"
    }
   ],
   "source": [
    "pipeline_pretrain_model = Pipeline(system, model, cost_factory, controller_factory)\n",
    "pipeline_pretrain_model.get_configuration_space()"
   ]
  },
  {
   "cell_type": "code",
   "execution_count": null,
   "metadata": {},
   "outputs": [],
   "source": []
  }
 ],
 "metadata": {
  "kernelspec": {
   "display_name": "Python 3",
   "language": "python",
   "name": "python3"
  },
  "language_info": {
   "codemirror_mode": {
    "name": "ipython",
    "version": 3
   },
   "file_extension": ".py",
   "mimetype": "text/x-python",
   "name": "python",
   "nbconvert_exporter": "python",
   "pygments_lexer": "ipython3",
   "version": "3.8.7"
  }
 },
 "nbformat": 4,
 "nbformat_minor": 4
}
