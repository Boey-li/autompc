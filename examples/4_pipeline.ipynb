{
 "cells": [
  {
   "cell_type": "markdown",
   "metadata": {},
   "source": [
    "# Example 4: Pipelines"
   ]
  },
  {
   "cell_type": "markdown",
   "metadata": {},
   "source": [
    "## Set Up"
   ]
  },
  {
   "cell_type": "code",
   "execution_count": 1,
   "metadata": {},
   "outputs": [
    {
     "name": "stderr",
     "output_type": "stream",
     "text": [
      "/usr/lib/python3/dist-packages/pyparsing.py:1745: FutureWarning: Possible set intersection at position 3\n",
      "  self.re = re.compile( self.reString )\n"
     ]
    }
   ],
   "source": [
    "import os\n",
    "os.chdir(\"..\")\n",
    "import autompc as ampc\n",
    "import numpy as np\n",
    "\n",
    "def doubleint_dynamics(y, u):\n",
    "    x, dx = y\n",
    "    return np.array([dx, u])\n",
    "\n",
    "def dt_doubleint_dynamics(y,u,dt):\n",
    "    y += dt * doubleint_dynamics(y,u[0])\n",
    "    return y\n",
    "\n",
    "def uniform_random_generate(system, task, dynamics, rng, init_min, init_max, \n",
    "        traj_len, n_trajs):\n",
    "    trajs = []\n",
    "    for _ in range(n_trajs):\n",
    "        state0 = [rng.uniform(minval, maxval, 1)[0] for minval, maxval \n",
    "                in zip(init_min, init_max)]\n",
    "        y = state0[:]\n",
    "        traj = ampc.zeros(system, traj_len)\n",
    "        traj.obs[:] = y\n",
    "        umin, umax = task.get_ctrl_bounds().T\n",
    "        for i in range(traj_len):\n",
    "            traj[i].obs[:] = y\n",
    "            u = rng.uniform(umin, umax, 1)\n",
    "            y = dynamics(y, u)\n",
    "            traj[i].ctrl[:] = u\n",
    "        trajs.append(traj)\n",
    "    return trajs\n",
    "\n",
    "simple_sys = ampc.System([\"x\", \"y\"], [\"u\"])\n",
    "simple_sys.dt = 0.05"
   ]
  },
  {
   "cell_type": "markdown",
   "metadata": {},
   "source": [
    "Next, we will define the task"
   ]
  },
  {
   "cell_type": "code",
   "execution_count": 4,
   "metadata": {},
   "outputs": [],
   "source": [
    "from autompc.tasks import Task\n",
    "from autompc.costs import QuadCost\n",
    "\n",
    "Q = np.eye(2)\n",
    "R = np.eye(1)\n",
    "F = np.eye(2)\n",
    "cost = QuadCost(simple_sys, Q, R, F, goal=[-1,0])\n",
    "task = Task(simple_sys)\n",
    "task.set_cost(cost)\n",
    "task.set_ctrl_bound(\"u\", -20.0, 20.0)"
   ]
  },
  {
   "cell_type": "markdown",
   "metadata": {},
   "source": [
    "Now, we generate the training trajectories"
   ]
  },
  {
   "cell_type": "code",
   "execution_count": 9,
   "metadata": {},
   "outputs": [],
   "source": [
    "rng = np.random.default_rng(42)\n",
    "dynamics = lambda x, u: dt_doubleint_dynamics(x, u, dt=0.05)\n",
    "trajs = uniform_random_generate(simple_sys, task, \n",
    "                dynamics, rng, init_min=-np.ones(2), \n",
    "                init_max=np.ones(2), traj_len=100, n_trajs=100)"
   ]
  },
  {
   "cell_type": "markdown",
   "metadata": {},
   "source": [
    "## Factories\n",
    "AutoMPC pipelines use Factories to generate models, costs, and controllers from their configurations.\n",
    "\n",
    "Here is an example for the SINDy model:"
   ]
  },
  {
   "cell_type": "code",
   "execution_count": 10,
   "metadata": {},
   "outputs": [
    {
     "data": {
      "text/plain": [
       "Configuration space object:\n",
       "  Hyperparameters:\n",
       "    lasso_alpha_log10, Type: UniformFloat, Range: [-5.0, 2.0], Default: 0.0\n",
       "    method, Type: Categorical, Choices: {lstsq, lasso}, Default: lstsq\n",
       "    poly_basis, Type: Categorical, Choices: {true, false}, Default: false\n",
       "    poly_degree, Type: UniformInteger, Range: [2, 8], Default: 3\n",
       "    trig_basis, Type: Categorical, Choices: {true, false}, Default: false\n",
       "    trig_freq, Type: UniformInteger, Range: [1, 8], Default: 1\n",
       "  Conditions:\n",
       "    lasso_alpha_log10 | method in {'lasso'}\n",
       "    poly_degree | poly_basis in {'true'}\n",
       "    trig_freq | trig_basis in {'true'}"
      ]
     },
     "execution_count": 10,
     "metadata": {},
     "output_type": "execute_result"
    }
   ],
   "source": [
    "from autompc.sysid import SINDyFactory\n",
    "\n",
    "model_factory = SINDyFactory(simple_sys)\n",
    "model_factory.get_configuration_space()"
   ]
  },
  {
   "cell_type": "markdown",
   "metadata": {},
   "source": [
    "We can use the factory with a given configuration to instantiate (and train the model)."
   ]
  },
  {
   "cell_type": "code",
   "execution_count": 13,
   "metadata": {},
   "outputs": [],
   "source": [
    "model_cfg = model_factory.get_configuration_space().get_default_configuration()\n",
    "model_cfg[\"trig_basis\"] = \"true\"\n",
    "\n",
    "model = model_factory(model_cfg, trajs)"
   ]
  },
  {
   "cell_type": "markdown",
   "metadata": {},
   "source": [
    "This works in a similar way for costs and controllers."
   ]
  },
  {
   "cell_type": "code",
   "execution_count": 15,
   "metadata": {},
   "outputs": [],
   "source": [
    "from autompc.costs import QuadCostFactory\n",
    "cost_factory = QuadCostFactory(simple_sys)\n",
    "cost_cfg = cost_factory.get_configuration_space().get_default_configuration()\n",
    "cost = cost_factory(cost_cfg, task, trajs)"
   ]
  },
  {
   "cell_type": "code",
   "execution_count": 18,
   "metadata": {},
   "outputs": [],
   "source": [
    "from autompc.control import IterativeLQRFactory\n",
    "controller_factory = IterativeLQRFactory(simple_sys)\n",
    "controller_cfg = controller_factory.get_configuration_space().get_default_configuration()\n",
    "controller = controller_factory(controller_cfg, task, trajs)"
   ]
  },
  {
   "cell_type": "markdown",
   "metadata": {},
   "source": [
    "## Pipelines\n",
    "We can use pipelines to generate the combined configuration space for a model, cost, and controller."
   ]
  },
  {
   "cell_type": "code",
   "execution_count": 19,
   "metadata": {},
   "outputs": [
    {
     "data": {
      "text/plain": [
       "Configuration space object:\n",
       "  Hyperparameters:\n",
       "    _cost:u_R, Type: UniformFloat, Range: [0.001, 10000.0], Default: 1.0, on log-scale\n",
       "    _cost:x_F, Type: UniformFloat, Range: [0.001, 10000.0], Default: 1.0, on log-scale\n",
       "    _cost:x_Q, Type: UniformFloat, Range: [0.001, 10000.0], Default: 1.0, on log-scale\n",
       "    _cost:y_F, Type: UniformFloat, Range: [0.001, 10000.0], Default: 1.0, on log-scale\n",
       "    _cost:y_Q, Type: UniformFloat, Range: [0.001, 10000.0], Default: 1.0, on log-scale\n",
       "    _ctrlr:horizon, Type: UniformInteger, Range: [5, 25], Default: 20\n",
       "    _model:lasso_alpha_log10, Type: UniformFloat, Range: [-5.0, 2.0], Default: 0.0\n",
       "    _model:method, Type: Categorical, Choices: {lstsq, lasso}, Default: lstsq\n",
       "    _model:poly_basis, Type: Categorical, Choices: {true, false}, Default: false\n",
       "    _model:poly_degree, Type: UniformInteger, Range: [2, 8], Default: 3\n",
       "    _model:trig_basis, Type: Categorical, Choices: {true, false}, Default: false\n",
       "    _model:trig_freq, Type: UniformInteger, Range: [1, 8], Default: 1\n",
       "  Conditions:\n",
       "    _model:lasso_alpha_log10 | _model:method in {'lasso'}\n",
       "    _model:poly_degree | _model:poly_basis in {'true'}\n",
       "    _model:trig_freq | _model:trig_basis in {'true'}"
      ]
     },
     "execution_count": 19,
     "metadata": {},
     "output_type": "execute_result"
    }
   ],
   "source": [
    "from autompc.pipeline import Pipeline\n",
    "pipeline = Pipeline(simple_sys, model_factory, cost_factory, controller_factory)\n",
    "pipeline.get_configuration_space()"
   ]
  },
  {
   "cell_type": "markdown",
   "metadata": {},
   "source": [
    "We can then use the pipeline to instantiate all components"
   ]
  },
  {
   "cell_type": "code",
   "execution_count": 22,
   "metadata": {},
   "outputs": [],
   "source": [
    "pipeline_cfg = pipeline.get_configuration_space().get_default_configuration()\n",
    "controller, cost, model = pipeline(pipeline_cfg, task, trajs)"
   ]
  },
  {
   "cell_type": "markdown",
   "metadata": {},
   "source": [
    "It is also easy for us to fix a particular component of the pipeline.  Here is an example of pipeline with a pre-trained model"
   ]
  },
  {
   "cell_type": "code",
   "execution_count": null,
   "metadata": {},
   "outputs": [],
   "source": [
    "pipeline_pretrain_model = Pipeline(sim)"
   ]
  }
 ],
 "metadata": {
  "kernelspec": {
   "display_name": "Python 3",
   "language": "python",
   "name": "python3"
  },
  "language_info": {
   "codemirror_mode": {
    "name": "ipython",
    "version": 3
   },
   "file_extension": ".py",
   "mimetype": "text/x-python",
   "name": "python",
   "nbconvert_exporter": "python",
   "pygments_lexer": "ipython3",
   "version": "3.8.7"
  }
 },
 "nbformat": 4,
 "nbformat_minor": 4
}
