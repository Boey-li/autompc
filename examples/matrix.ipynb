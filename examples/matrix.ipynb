{
 "cells": [
  {
   "cell_type": "code",
   "execution_count": 1,
   "metadata": {},
   "outputs": [
    {
     "name": "stdout",
     "output_type": "stream",
     "text": [
      "Loading AutoMPC...\n"
     ]
    },
    {
     "name": "stderr",
     "output_type": "stream",
     "text": [
      "/home/baoyu/anaconda3/envs/autompc/lib/python3.9/site-packages/tqdm/auto.py:22: TqdmWarning: IProgress not found. Please update jupyter and ipywidgets. See https://ipywidgets.readthedocs.io/en/stable/user_install.html\n",
      "  from .autonotebook import tqdm as notebook_tqdm\n"
     ]
    },
    {
     "name": "stdout",
     "output_type": "stream",
     "text": [
      "Finished loading AutoMPC\n"
     ]
    }
   ],
   "source": [
    "from autompc.sysid.autoselect import AutoSelectModel\n",
    "from autompc.tuning.model_evaluator import CrossValidationModelEvaluator, HoldoutModelEvaluator, ModelEvaluator\n",
    "from autompc.model_metalearning.meta_utils import load_data, load_cfg"
   ]
  },
  {
   "cell_type": "code",
   "execution_count": 2,
   "metadata": {},
   "outputs": [],
   "source": [
    "from distutils.log import info\n",
    "import os, glob\n",
    "import pickle\n",
    "import json\n",
    "from collections import namedtuple\n",
    "import numpy as np\n",
    "import pandas as pd"
   ]
  },
  {
   "cell_type": "code",
   "execution_count": 3,
   "metadata": {},
   "outputs": [],
   "source": [
    "data_path = '/home/baoyu/baoyul2/autompc/autompc/model_metalearning/meta_data'\n",
    "cfg_path = '/home/baoyu/baoyul2/autompc/autompc/model_metalearning/meta_cfg'"
   ]
  },
  {
   "cell_type": "code",
   "execution_count": 4,
   "metadata": {},
   "outputs": [],
   "source": [
    "eval_metric=\"rmse\"\n",
    "eval_horizon=1\n",
    "eval_quantile=None\n",
    "eval_folds=3"
   ]
  },
  {
   "cell_type": "code",
   "execution_count": 5,
   "metadata": {},
   "outputs": [
    {
     "name": "stdout",
     "output_type": "stream",
     "text": [
      "HalfCheetah-v2\n",
      "Configuration(values={\n",
      "  'MLP:batchnorm': False,\n",
      "  'MLP:hidden_size_1': 128,\n",
      "  'MLP:hidden_size_2': 128,\n",
      "  'MLP:lr': 0.001,\n",
      "  'MLP:n_hidden_layers': '2',\n",
      "  'MLP:nonlintype': 'relu',\n",
      "  'model': 'MLP',\n",
      "})\n",
      "\n",
      "use_cuda=True\n",
      "torch.cuda.is_available()=True\n",
      "self._device=device(type='cuda')\n",
      "Cuda is used for GPytorch\n",
      "self.net.parameters().__next__().device=device(type='cuda', index=0)\n",
      "100%|██████████| 200/200 [00:45<00:00,  4.39it/s]\n",
      "self.net.parameters().__next__().device=device(type='cuda', index=0)\n",
      "100%|██████████| 200/200 [00:44<00:00,  4.48it/s]\n",
      "self.net.parameters().__next__().device=device(type='cuda', index=0)\n",
      "100%|██████████| 200/200 [00:44<00:00,  4.51it/s]\n",
      "Configuration(values={\n",
      "  'Koopman:lasso_alpha': 0.006765721868566048,\n",
      "  'Koopman:method': 'lasso',\n",
      "  'Koopman:poly_basis': 'false',\n",
      "  'Koopman:trig_basis': 'false',\n",
      "  'model': 'Koopman',\n",
      "})\n",
      "\n",
      "use_cuda=True\n",
      "torch.cuda.is_available()=True\n",
      "self._device=device(type='cuda')\n",
      "Cuda is used for GPytorch\n",
      "Call Lasso (1000 iters)\n",
      "Call Lasso (1000 iters)\n",
      "Call Lasso (1000 iters)\n",
      "HalfCheetahSmall-v2\n",
      "Configuration(values={\n",
      "  'MLP:batchnorm': False,\n",
      "  'MLP:hidden_size_1': 128,\n",
      "  'MLP:hidden_size_2': 128,\n",
      "  'MLP:lr': 0.001,\n",
      "  'MLP:n_hidden_layers': '2',\n",
      "  'MLP:nonlintype': 'relu',\n",
      "  'model': 'MLP',\n",
      "})\n",
      "\n",
      "use_cuda=True\n",
      "torch.cuda.is_available()=True\n",
      "self._device=device(type='cuda')\n",
      "Cuda is used for GPytorch\n",
      "self.net.parameters().__next__().device=device(type='cuda', index=0)\n",
      "100%|██████████| 200/200 [00:00<00:00, 321.33it/s]\n",
      "self.net.parameters().__next__().device=device(type='cuda', index=0)\n",
      "100%|██████████| 200/200 [00:00<00:00, 327.09it/s]\n",
      "self.net.parameters().__next__().device=device(type='cuda', index=0)\n",
      "100%|██████████| 200/200 [00:00<00:00, 454.25it/s]\n",
      "Configuration(values={\n",
      "  'Koopman:lasso_alpha': 0.006765721868566048,\n",
      "  'Koopman:method': 'lasso',\n",
      "  'Koopman:poly_basis': 'false',\n",
      "  'Koopman:trig_basis': 'false',\n",
      "  'model': 'Koopman',\n",
      "})\n",
      "\n",
      "use_cuda=True\n",
      "torch.cuda.is_available()=True\n",
      "self._device=device(type='cuda')\n",
      "Cuda is used for GPytorch\n",
      "Call Lasso (1000 iters)\n",
      "Call Lasso (1000 iters)\n",
      "Call Lasso (1000 iters)\n"
     ]
    }
   ],
   "source": [
    "names = [\"HalfCheetah-v2\", \"HalfCheetahSmall-v2\"]\n",
    "output_results_dictionary = {}\n",
    "\n",
    "# data\n",
    "for data_name in names:\n",
    "    print(data_name)\n",
    "    system, trajs = load_data(data_path, data_name)\n",
    "    scores = []\n",
    "    # config\n",
    "    for cfg_name in names:\n",
    "        cfg = load_cfg(cfg_path, cfg_name)\n",
    "        print(cfg)\n",
    "        model = AutoSelectModel(system)\n",
    "        model.set_config(cfg)\n",
    "        evaluator = CrossValidationModelEvaluator(trajs, eval_metric, horizon=eval_horizon, quantile=eval_quantile, num_folds=eval_folds,\n",
    "                    rng=np.random.default_rng(100))\n",
    "        score = evaluator(model)\n",
    "        scores.append(score)\n",
    "    output_results_dictionary[data_name] = scores"
   ]
  },
  {
   "cell_type": "code",
   "execution_count": 6,
   "metadata": {},
   "outputs": [
    {
     "data": {
      "text/plain": [
       "{'HalfCheetah-v2': [2.6049768303569194, 4.556939720609314],\n",
       " 'HalfCheetahSmall-v2': [6.563847631056436, 4.014697565628448]}"
      ]
     },
     "execution_count": 6,
     "metadata": {},
     "output_type": "execute_result"
    }
   ],
   "source": [
    "output_results_dictionary"
   ]
  },
  {
   "cell_type": "code",
   "execution_count": 8,
   "metadata": {},
   "outputs": [
    {
     "data": {
      "text/html": [
       "<div>\n",
       "<style scoped>\n",
       "    .dataframe tbody tr th:only-of-type {\n",
       "        vertical-align: middle;\n",
       "    }\n",
       "\n",
       "    .dataframe tbody tr th {\n",
       "        vertical-align: top;\n",
       "    }\n",
       "\n",
       "    .dataframe thead th {\n",
       "        text-align: right;\n",
       "    }\n",
       "</style>\n",
       "<table border=\"1\" class=\"dataframe\">\n",
       "  <thead>\n",
       "    <tr style=\"text-align: right;\">\n",
       "      <th></th>\n",
       "      <th>0</th>\n",
       "      <th>1</th>\n",
       "    </tr>\n",
       "  </thead>\n",
       "  <tbody>\n",
       "    <tr>\n",
       "      <th>HalfCheetah-v2</th>\n",
       "      <td>2.604977</td>\n",
       "      <td>4.556940</td>\n",
       "    </tr>\n",
       "    <tr>\n",
       "      <th>HalfCheetahSmall-v2</th>\n",
       "      <td>6.563848</td>\n",
       "      <td>4.014698</td>\n",
       "    </tr>\n",
       "  </tbody>\n",
       "</table>\n",
       "</div>"
      ],
      "text/plain": [
       "                            0         1\n",
       "HalfCheetah-v2       2.604977  4.556940\n",
       "HalfCheetahSmall-v2  6.563848  4.014698"
      ]
     },
     "execution_count": 8,
     "metadata": {},
     "output_type": "execute_result"
    }
   ],
   "source": [
    "matrix = pd.DataFrame(data=output_results_dictionary)\n",
    "matrix = matrix.transpose()\n",
    "matrix"
   ]
  },
  {
   "cell_type": "code",
   "execution_count": 9,
   "metadata": {},
   "outputs": [
    {
     "name": "stdout",
     "output_type": "stream",
     "text": [
      "Dumping to  /home/baoyu/baoyul2/autompc/autompc/model_metalearning/meta_matrix/matrix.pkl\n"
     ]
    }
   ],
   "source": [
    "matrix_path = '/home/baoyu/baoyul2/autompc/autompc/model_metalearning/meta_matrix'\n",
    "output_file_name = os.path.join(matrix_path, 'matrix.pkl')\n",
    "print(\"Dumping to \", output_file_name)\n",
    "with open(output_file_name, 'wb') as fh:\n",
    "    pickle.dump(matrix, fh)"
   ]
  }
 ],
 "metadata": {
  "kernelspec": {
   "display_name": "Python 3.9.12 ('autompc')",
   "language": "python",
   "name": "python3"
  },
  "language_info": {
   "codemirror_mode": {
    "name": "ipython",
    "version": 3
   },
   "file_extension": ".py",
   "mimetype": "text/x-python",
   "name": "python",
   "nbconvert_exporter": "python",
   "pygments_lexer": "ipython3",
   "version": "3.9.12"
  },
  "orig_nbformat": 4,
  "vscode": {
   "interpreter": {
    "hash": "dccb8be754ace2efbdb675daab337b2fe39a60d9ccaabcfdb788fd40f2e3cae4"
   }
  }
 },
 "nbformat": 4,
 "nbformat_minor": 2
}
